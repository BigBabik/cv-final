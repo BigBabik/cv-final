{
 "cells": [
  {
   "cell_type": "code",
   "execution_count": 1,
   "metadata": {},
   "outputs": [],
   "source": [
    "import pandas as pd\n",
    "import numpy as np\n",
    "import torch\n",
    "\n",
    "#from extract_features_utils import process_images, process_superglue, create_super_matching\n",
    "from models.utils import *\n",
    "from models.extra_helpers import *\n",
    "#from fundamental_utils import get_F_dataframe, create_fundamental_matrix\n",
    "#from eval import mean_average_accuracy, calc_maa\n"
   ]
  },
  {
   "cell_type": "code",
   "execution_count": 1,
   "metadata": {},
   "outputs": [],
   "source": [
    "config = {\n",
    "        'superpoint': {\n",
    "            'descriptor_dim': 256,\n",
    "            'nms_radius': 3,\n",
    "            'keypoint_threshold': 1e-4,\n",
    "            'max_keypoints': 2048,\n",
    "            'remove_borders': 4,\n",
    "        },\n",
    "        'superglue': {\n",
    "            'descriptor_dim': 256,\n",
    "            'weights': 'outdoor',\n",
    "            'keypoint_encoder': [32, 64, 128, 256],\n",
    "            'GNN_layers': ['self', 'cross'] * 9,\n",
    "            'sinkhorn_iterations': 100,\n",
    "            'match_threshold': 0.2,\n",
    "            'max_keypoints': 2048\n",
    "        }\n",
    "    }"
   ]
  },
  {
   "cell_type": "code",
   "execution_count": null,
   "metadata": {},
   "outputs": [],
   "source": [
    "# Using super glue for all the data\n",
    "perform_task(\n",
    "    input_csv=\"/Users/yoav/Documents/Yoav/CS/22928 - Intro to CV/blaaa/cv-final/data/external/test.csv\",\n",
    "    input_dir=\"/Users/yoav/Documents/Yoav/CS/22928 - Intro to CV/blaaa/cv-final/data/external/test_images\",\n",
    "    output_dir=\"/Users/yoav/Documents/Yoav/CS/22928 - Intro to CV/blaaa/cv-final/data/internal/dump_match_data\",\n",
    "    matching_config=config,\n",
    "    max_length=-1)"
   ]
  },
  {
   "cell_type": "code",
   "execution_count": 3,
   "metadata": {},
   "outputs": [
    {
     "ename": "NameError",
     "evalue": "name 'create_output_file' is not defined",
     "output_type": "error",
     "traceback": [
      "\u001b[0;31m---------------------------------------------------------------------------\u001b[0m",
      "\u001b[0;31mNameError\u001b[0m                                 Traceback (most recent call last)",
      "Cell \u001b[0;32mIn[3], line 2\u001b[0m\n\u001b[1;32m      1\u001b[0m cache_dir \u001b[38;5;241m=\u001b[39m \u001b[38;5;124m\"\u001b[39m\u001b[38;5;124m/Users/yoav/Documents/Yoav/CS/22928 - Intro to CV/blaaa/cv-final/data/internal/dump_match_data\u001b[39m\u001b[38;5;124m\"\u001b[39m\n\u001b[0;32m----> 2\u001b[0m result_df \u001b[38;5;241m=\u001b[39m \u001b[43mcreate_output_file\u001b[49m(cache_dir)\n",
      "\u001b[0;31mNameError\u001b[0m: name 'create_output_file' is not defined"
     ]
    }
   ],
   "source": [
    "cache_dir = \"/Users/yoav/Documents/Yoav/CS/22928 - Intro to CV/blaaa/cv-final/data/internal/dump_match_data\"\n",
    "result_df = create_output_file(cache_dir)"
   ]
  },
  {
   "cell_type": "code",
   "execution_count": null,
   "metadata": {},
   "outputs": [],
   "source": [
    "print(result_df)"
   ]
  },
  {
   "cell_type": "code",
   "execution_count": null,
   "metadata": {},
   "outputs": [],
   "source": [
    "result_df.isnull().sum().sum()"
   ]
  },
  {
   "cell_type": "code",
   "execution_count": 16,
   "metadata": {},
   "outputs": [],
   "source": [
    "result_df[\"fundamental_matrix\"] = result_df[\"fundamental_matrix\"].apply(pretty_fundamental_matrix)"
   ]
  },
  {
   "cell_type": "code",
   "execution_count": 17,
   "metadata": {},
   "outputs": [],
   "source": [
    "result_df = result_df[[\"sample_id\", \"fundamental_matrix\"]]"
   ]
  },
  {
   "cell_type": "code",
   "execution_count": 18,
   "metadata": {},
   "outputs": [],
   "source": [
    "#result_df.to_csv(\"/Users/yoav/Documents/Yoav/CS/22928 - Intro to CV/blaaa/cv-final/data/internal/reseses.csv\", index=False)\n"
   ]
  },
  {
   "cell_type": "code",
   "execution_count": 19,
   "metadata": {},
   "outputs": [
    {
     "data": {
      "text/html": [
       "<div>\n",
       "<style scoped>\n",
       "    .dataframe tbody tr th:only-of-type {\n",
       "        vertical-align: middle;\n",
       "    }\n",
       "\n",
       "    .dataframe tbody tr th {\n",
       "        vertical-align: top;\n",
       "    }\n",
       "\n",
       "    .dataframe thead th {\n",
       "        text-align: right;\n",
       "    }\n",
       "</style>\n",
       "<table border=\"1\" class=\"dataframe\">\n",
       "  <thead>\n",
       "    <tr style=\"text-align: right;\">\n",
       "      <th></th>\n",
       "      <th>sample_id</th>\n",
       "      <th>fundamental_matrix</th>\n",
       "    </tr>\n",
       "  </thead>\n",
       "  <tbody>\n",
       "    <tr>\n",
       "      <th>0</th>\n",
       "      <td>notre_dame_front_facade;59331375_2244201695-53...</td>\n",
       "      <td>-5.41770e-08 3.96720e-06 -4.06830e-03 -3.90708...</td>\n",
       "    </tr>\n",
       "    <tr>\n",
       "      <th>1</th>\n",
       "      <td>st_peters_square;91000026_2755820233-61888375_...</td>\n",
       "      <td>1.49450e-07 2.75030e-06 -1.85023e-03 -6.24217e...</td>\n",
       "    </tr>\n",
       "    <tr>\n",
       "      <th>2</th>\n",
       "      <td>trevi_fountain;31673288_4705285644-22016165_10...</td>\n",
       "      <td>-1.09962e-07 3.13750e-06 -2.31151e-03 -3.46614...</td>\n",
       "    </tr>\n",
       "    <tr>\n",
       "      <th>3</th>\n",
       "      <td>st_peters_square;44455970_5746646894-08838274_...</td>\n",
       "      <td>8.60971e-08 7.26894e-06 -7.99498e-03 -7.36036e...</td>\n",
       "    </tr>\n",
       "    <tr>\n",
       "      <th>4</th>\n",
       "      <td>st_pauls_cathedral;60046937_167213677-37891131...</td>\n",
       "      <td>-3.30963e-07 5.95809e-07 -9.98746e-04 -3.76019...</td>\n",
       "    </tr>\n",
       "    <tr>\n",
       "      <th>...</th>\n",
       "      <td>...</td>\n",
       "      <td>...</td>\n",
       "    </tr>\n",
       "    <tr>\n",
       "      <th>18835</th>\n",
       "      <td>trevi_fountain;73697494_3197549686-64834205_80...</td>\n",
       "      <td>5.36059e-08 -1.30777e-07 -2.43859e-04 -6.77543...</td>\n",
       "    </tr>\n",
       "    <tr>\n",
       "      <th>18836</th>\n",
       "      <td>st_pauls_cathedral;61565132_8158727335-1588163...</td>\n",
       "      <td>5.72574e-07 2.16367e-06 -3.75387e-03 -9.04963e...</td>\n",
       "    </tr>\n",
       "    <tr>\n",
       "      <th>18837</th>\n",
       "      <td>trevi_fountain;78297272_1436493200-70166053_49...</td>\n",
       "      <td>-2.09727e-08 3.77098e-07 3.63015e-04 -6.04649e...</td>\n",
       "    </tr>\n",
       "    <tr>\n",
       "      <th>18838</th>\n",
       "      <td>st_pauls_cathedral;61359543_7319932086-1627303...</td>\n",
       "      <td>6.24194e-07 5.30536e-06 -4.69262e-03 -3.37864e...</td>\n",
       "    </tr>\n",
       "    <tr>\n",
       "      <th>18839</th>\n",
       "      <td>trevi_fountain;77315261_1948413286-61500054_10...</td>\n",
       "      <td>1.83228e-07 -8.19616e-06 5.38578e-03 1.00017e-...</td>\n",
       "    </tr>\n",
       "  </tbody>\n",
       "</table>\n",
       "<p>18840 rows × 2 columns</p>\n",
       "</div>"
      ],
      "text/plain": [
       "                                               sample_id  \\\n",
       "0      notre_dame_front_facade;59331375_2244201695-53...   \n",
       "1      st_peters_square;91000026_2755820233-61888375_...   \n",
       "2      trevi_fountain;31673288_4705285644-22016165_10...   \n",
       "3      st_peters_square;44455970_5746646894-08838274_...   \n",
       "4      st_pauls_cathedral;60046937_167213677-37891131...   \n",
       "...                                                  ...   \n",
       "18835  trevi_fountain;73697494_3197549686-64834205_80...   \n",
       "18836  st_pauls_cathedral;61565132_8158727335-1588163...   \n",
       "18837  trevi_fountain;78297272_1436493200-70166053_49...   \n",
       "18838  st_pauls_cathedral;61359543_7319932086-1627303...   \n",
       "18839  trevi_fountain;77315261_1948413286-61500054_10...   \n",
       "\n",
       "                                      fundamental_matrix  \n",
       "0      -5.41770e-08 3.96720e-06 -4.06830e-03 -3.90708...  \n",
       "1      1.49450e-07 2.75030e-06 -1.85023e-03 -6.24217e...  \n",
       "2      -1.09962e-07 3.13750e-06 -2.31151e-03 -3.46614...  \n",
       "3      8.60971e-08 7.26894e-06 -7.99498e-03 -7.36036e...  \n",
       "4      -3.30963e-07 5.95809e-07 -9.98746e-04 -3.76019...  \n",
       "...                                                  ...  \n",
       "18835  5.36059e-08 -1.30777e-07 -2.43859e-04 -6.77543...  \n",
       "18836  5.72574e-07 2.16367e-06 -3.75387e-03 -9.04963e...  \n",
       "18837  -2.09727e-08 3.77098e-07 3.63015e-04 -6.04649e...  \n",
       "18838  6.24194e-07 5.30536e-06 -4.69262e-03 -3.37864e...  \n",
       "18839  1.83228e-07 -8.19616e-06 5.38578e-03 1.00017e-...  \n",
       "\n",
       "[18840 rows x 2 columns]"
      ]
     },
     "execution_count": 19,
     "metadata": {},
     "output_type": "execute_result"
    }
   ],
   "source": [
    "result_df"
   ]
  },
  {
   "cell_type": "code",
   "execution_count": null,
   "metadata": {},
   "outputs": [],
   "source": []
  }
 ],
 "metadata": {
  "kernelspec": {
   "display_name": "Python 3 (ipykernel)",
   "language": "python",
   "name": "python3"
  },
  "language_info": {
   "codemirror_mode": {
    "name": "ipython",
    "version": 3
   },
   "file_extension": ".py",
   "mimetype": "text/x-python",
   "name": "python",
   "nbconvert_exporter": "python",
   "pygments_lexer": "ipython3",
   "version": "3.13.0"
  }
 },
 "nbformat": 4,
 "nbformat_minor": 2
}

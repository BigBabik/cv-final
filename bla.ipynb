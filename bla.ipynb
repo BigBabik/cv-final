{
 "cells": [
  {
   "cell_type": "code",
   "execution_count": 1,
   "metadata": {},
   "outputs": [],
   "source": [
    "import numpy as np"
   ]
  },
  {
   "cell_type": "code",
   "execution_count": 5,
   "metadata": {},
   "outputs": [
    {
     "name": "stdout",
     "output_type": "stream",
     "text": [
      "['keypoints0', 'keypoints1', 'matches', 'match_confidence', 'scene_name']\n"
     ]
    }
   ],
   "source": [
    "import os\n",
    "\n",
    "# Directory containing the npz files\n",
    "directory = '/Users/yoav/Documents/Yoav/CS/22928 - Intro to CV/cv-final/data/internal/dump_match_pairs'\n",
    "\n",
    "# List all files in the directory\n",
    "files = os.listdir(directory)\n",
    "\n",
    "# Filter out the npz files\n",
    "npz_files = [file for file in files if file.endswith('.npz')]\n",
    "\n",
    "# Sort the files to get the first one\n",
    "npz_files.sort()\n",
    "\n",
    "# Load the first npz file\n",
    "first_npz_file = npz_files[0]\n",
    "data = np.load(os.path.join(directory, first_npz_file))\n",
    "\n",
    "# Print the keys of the npz file\n",
    "print(data.files)"
   ]
  },
  {
   "cell_type": "code",
   "execution_count": 12,
   "metadata": {},
   "outputs": [
    {
     "name": "stdout",
     "output_type": "stream",
     "text": [
      "                                           sample_id  \\\n",
      "0  st_peters_square;61838905_5998204213-31114085_...   \n",
      "1  st_peters_square;61888375_5977160696-31114085_...   \n",
      "2  st_peters_square;99669631_2524741025-73248999_...   \n",
      "\n",
      "                                  fundamental_matrix  \n",
      "0  [-4.23302886104571e-07, -3.130600047119747e-05...  \n",
      "1  [-4.399606690758423e-06, -0.000241455609844919...  \n",
      "2  [1.3851692080129176e-07, 3.669134139240682e-06...  \n"
     ]
    }
   ],
   "source": [
    "import cv2\n",
    "import pandas as pd\n",
    "\n",
    "# Iterate over all npz files\n",
    "# Initialize lists to store the results\n",
    "samples = []\n",
    "fundamental_matrices = []\n",
    "\n",
    "# Iterate over all npz files\n",
    "for npz_file in npz_files:\n",
    "    # Load the npz file\n",
    "    data = np.load(os.path.join(directory, npz_file))\n",
    "    \n",
    "    # Extract matches and keypoints\n",
    "    matches = data['matches']\n",
    "    kpts0 = data['keypoints0']\n",
    "    kpts1 = data['keypoints1']\n",
    "    \n",
    "    # Filter valid matches\n",
    "    valid = matches > -1\n",
    "    mkpts0 = kpts0[valid]\n",
    "    mkpts1 = kpts1[matches[valid]]\n",
    "    \n",
    "    # Estimate the fundamental matrix using the matched keypoints\n",
    "    F, mask = cv2.findFundamentalMat(mkpts0, mkpts1, cv2.FM_RANSAC)\n",
    "    \n",
    "    # Extract scene name and image names\n",
    "    scene_name = data['scene_name']\n",
    "    image_name0 = npz_file.split('-')[0]\n",
    "    image_name1 = npz_file.split('-')[1]\n",
    "    \n",
    "    # Append the results to the lists\n",
    "    samples.append(f\"{scene_name};{image_name0}-{image_name1}\")\n",
    "    F = F.reshape(-1)\n",
    "    fundamental_matrices.append(F)\n",
    "\n",
    "# Create a dataframe with the collected data\n",
    "df = pd.DataFrame({\n",
    "    'sample_id': samples,\n",
    "    'fundamental_matrix': fundamental_matrices\n",
    "})\n",
    "\n",
    "print(df)"
   ]
  },
  {
   "cell_type": "code",
   "execution_count": 13,
   "metadata": {},
   "outputs": [],
   "source": [
    "df['fundamental_matrix'] = df['fundamental_matrix'].apply(lambda x: ' '.join(f'{num:.5e}' for num in x))\n"
   ]
  },
  {
   "cell_type": "code",
   "execution_count": 14,
   "metadata": {},
   "outputs": [
    {
     "data": {
      "text/html": [
       "<div>\n",
       "<style scoped>\n",
       "    .dataframe tbody tr th:only-of-type {\n",
       "        vertical-align: middle;\n",
       "    }\n",
       "\n",
       "    .dataframe tbody tr th {\n",
       "        vertical-align: top;\n",
       "    }\n",
       "\n",
       "    .dataframe thead th {\n",
       "        text-align: right;\n",
       "    }\n",
       "</style>\n",
       "<table border=\"1\" class=\"dataframe\">\n",
       "  <thead>\n",
       "    <tr style=\"text-align: right;\">\n",
       "      <th></th>\n",
       "      <th>sample_id</th>\n",
       "      <th>fundamental_matrix</th>\n",
       "    </tr>\n",
       "  </thead>\n",
       "  <tbody>\n",
       "    <tr>\n",
       "      <th>0</th>\n",
       "      <td>st_peters_square;61838905_5998204213-31114085_...</td>\n",
       "      <td>-4.23303e-07 -3.13060e-05 -5.08634e-03 3.26446...</td>\n",
       "    </tr>\n",
       "    <tr>\n",
       "      <th>1</th>\n",
       "      <td>st_peters_square;61888375_5977160696-31114085_...</td>\n",
       "      <td>-4.39961e-06 -2.41456e-04 5.72142e-02 2.62679e...</td>\n",
       "    </tr>\n",
       "    <tr>\n",
       "      <th>2</th>\n",
       "      <td>st_peters_square;99669631_2524741025-73248999_...</td>\n",
       "      <td>1.38517e-07 3.66913e-06 5.15050e-04 -3.89309e-...</td>\n",
       "    </tr>\n",
       "  </tbody>\n",
       "</table>\n",
       "</div>"
      ],
      "text/plain": [
       "                                           sample_id  \\\n",
       "0  st_peters_square;61838905_5998204213-31114085_...   \n",
       "1  st_peters_square;61888375_5977160696-31114085_...   \n",
       "2  st_peters_square;99669631_2524741025-73248999_...   \n",
       "\n",
       "                                  fundamental_matrix  \n",
       "0  -4.23303e-07 -3.13060e-05 -5.08634e-03 3.26446...  \n",
       "1  -4.39961e-06 -2.41456e-04 5.72142e-02 2.62679e...  \n",
       "2  1.38517e-07 3.66913e-06 5.15050e-04 -3.89309e-...  "
      ]
     },
     "execution_count": 14,
     "metadata": {},
     "output_type": "execute_result"
    }
   ],
   "source": [
    "df"
   ]
  }
 ],
 "metadata": {
  "kernelspec": {
   "display_name": "Python 3 (ipykernel)",
   "language": "python",
   "name": "python3"
  },
  "language_info": {
   "codemirror_mode": {
    "name": "ipython",
    "version": 3
   },
   "file_extension": ".py",
   "mimetype": "text/x-python",
   "name": "python",
   "nbconvert_exporter": "python",
   "pygments_lexer": "ipython3",
   "version": "3.13.0"
  }
 },
 "nbformat": 4,
 "nbformat_minor": 2
}

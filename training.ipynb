{
 "cells": [
  {
   "cell_type": "code",
   "execution_count": 5,
   "metadata": {},
   "outputs": [],
   "source": [
    "import pandas as pd\n",
    "from utils import data_util as du, preproc_utils as pu, extractor_util as exu, estimator_util as esu, evaluation_util as evu\n",
    "import importlib\n",
    "from typing import List, Dict, Any\n",
    "import wrappers as wrp\n",
    "import os\n",
    "import numpy as np"
   ]
  },
  {
   "cell_type": "code",
   "execution_count": 3,
   "metadata": {},
   "outputs": [],
   "source": [
    "DATA_SRC_DIR = '/Users/yoav/Documents/Yoav/CS/22928 - Intro to CV/cv-final/data'\n",
    "EXT_DATA_DIR = '/Users/yoav/Documents/Yoav/CS/22928 - Intro to CV/cv-final/data/external'\n",
    "INT_DATA_DIR = '/Users/yoav/Documents/Yoav/CS/22928 - Intro to CV/cv-final/data/internal'"
   ]
  },
  {
   "cell_type": "code",
   "execution_count": 6,
   "metadata": {},
   "outputs": [],
   "source": [
    "scaling_data = pd.read_csv(os.path.join(EXT_DATA_DIR, 'train/scaling_factors.csv'), index_col=0).set_index('scene')"
   ]
  },
  {
   "cell_type": "code",
   "execution_count": 24,
   "metadata": {},
   "outputs": [],
   "source": [
    "importlib.reload(wrp)\n",
    "dataset = wrp.load_dataset(EXT_DATA_DIR)"
   ]
  },
  {
   "cell_type": "code",
   "execution_count": 25,
   "metadata": {},
   "outputs": [],
   "source": [
    "# Usage\n",
    "config = pu.PreprocessConfig(size=(512, 512), normalize=False)\n",
    "preprocessor = pu.ImagePreprocessor(config)"
   ]
  },
  {
   "cell_type": "code",
   "execution_count": 26,
   "metadata": {},
   "outputs": [],
   "source": [
    "default_sift_config = exu.SIFTConfig()\n",
    "extractor_config = exu.FeatureExtractorConfig(default_sift_config)\n",
    "extractor = exu.FeatureExtractor(config=extractor_config)"
   ]
  },
  {
   "cell_type": "code",
   "execution_count": 27,
   "metadata": {},
   "outputs": [],
   "source": [
    "bf_config = exu.BFMatcherConfig(knn=True)\n",
    "matcher_config = exu.MatcherConfig(bf_config)"
   ]
  },
  {
   "cell_type": "code",
   "execution_count": 28,
   "metadata": {},
   "outputs": [],
   "source": [
    "list1 = [(1, 2), (3, 4), (5, 6), (7, 8), (9, 10), (11, 12), (13, 14), (15, 16)]\n",
    "list2 = [(17, 18), (19, 20), (21, 22), (23, 24), (25, 26), (27, 28), (29, 30), (31, 32)]"
   ]
  },
  {
   "cell_type": "code",
   "execution_count": 29,
   "metadata": {},
   "outputs": [],
   "source": [
    "importlib.reload(esu)\n",
    "\n",
    "# Recreate the estimator configuration and estimator using the reloaded module\n",
    "es_alg_conf = esu.MAGSACConfig()\n",
    "es_conf = esu.EstimatorConfig('MAGSAC', es_alg_conf)\n",
    "fe = esu.FundamentalMatrixEstimator(list1, list2, es_conf)\n"
   ]
  },
  {
   "cell_type": "code",
   "execution_count": 30,
   "metadata": {},
   "outputs": [],
   "source": [
    "matcher = exu.FeatureMatcher(matcher_config)"
   ]
  },
  {
   "cell_type": "code",
   "execution_count": 31,
   "metadata": {},
   "outputs": [],
   "source": [
    "dataset = wrp.preprocess_data(dataset, preprocessor, extractor)"
   ]
  },
  {
   "cell_type": "code",
   "execution_count": 32,
   "metadata": {},
   "outputs": [
    {
     "name": "stdout",
     "output_type": "stream",
     "text": [
      "[+] Processing scene \"brandenburg_gate\": found 6767 pairs (will keep 1000)\n",
      "[+] Processing scene \"trevi_fountain\": found 11166 pairs (will keep 1000)\n",
      "[+] Processing scene \"lincoln_memorial_statue\": found 6308 pairs (will keep 1000)\n",
      "[+] Processing scene \"pantheon_exterior\": found 9888 pairs (will keep 1000)\n",
      "[+] Processing scene \"buckingham_palace\": found 6646 pairs (will keep 1000)\n",
      "[+] Processing scene \"taj_mahal\": found 6730 pairs (will keep 1000)\n",
      "[+] Processing scene \"temple_nara_japan\": found 8115 pairs (will keep 1000)\n",
      "[+] Processing scene \"sagrada_familia\": found 2767 pairs (will keep 1000)\n",
      "[+] Processing scene \"notre_dame_front_facade\": found 8448 pairs (will keep 1000)\n",
      "[+] Processing scene \"colosseum_exterior\": found 7314 pairs (will keep 1000)\n",
      "[+] Processing scene \"sacre_coeur\": found 4233 pairs (will keep 1000)\n",
      "[+] Processing scene \"british_museum\": found 889 pairs (will keep 889)\n"
     ]
    }
   ],
   "source": [
    "wrp.sample_pairs_for_run(dataset, 1000)"
   ]
  },
  {
   "cell_type": "code",
   "execution_count": 33,
   "metadata": {},
   "outputs": [
    {
     "name": "stderr",
     "output_type": "stream",
     "text": [
      "Scenes: 100%|██████████████████████████████████████████████████████████████████████████████████████████████████████████████████████████████████████████████████████████████████████████| 12/12 [01:20<00:00,  6.74s/it]\n"
     ]
    }
   ],
   "source": [
    "dataset = wrp.extract_features(dataset, extractor)"
   ]
  },
  {
   "cell_type": "code",
   "execution_count": 34,
   "metadata": {},
   "outputs": [
    {
     "name": "stdout",
     "output_type": "stream",
     "text": [
      "Matching features for scene: brandenburg_gate\n",
      "In matcher there are 1000 valid pairs to estimate for\n",
      "Total time taken for matching features in scene brandenburg_gate: 7.35 seconds\n",
      "Matching features for scene: trevi_fountain\n",
      "In matcher there are 1000 valid pairs to estimate for\n",
      "Total time taken for matching features in scene trevi_fountain: 58.83 seconds\n",
      "Matching features for scene: lincoln_memorial_statue\n",
      "In matcher there are 1000 valid pairs to estimate for\n",
      "Total time taken for matching features in scene lincoln_memorial_statue: 3.28 seconds\n",
      "Matching features for scene: pantheon_exterior\n",
      "In matcher there are 1000 valid pairs to estimate for\n",
      "Total time taken for matching features in scene pantheon_exterior: 28.71 seconds\n",
      "Matching features for scene: buckingham_palace\n",
      "In matcher there are 1000 valid pairs to estimate for\n",
      "Total time taken for matching features in scene buckingham_palace: 51.67 seconds\n",
      "Matching features for scene: taj_mahal\n",
      "In matcher there are 1000 valid pairs to estimate for\n",
      "Total time taken for matching features in scene taj_mahal: 16.36 seconds\n",
      "Matching features for scene: temple_nara_japan\n",
      "In matcher there are 1000 valid pairs to estimate for\n",
      "Total time taken for matching features in scene temple_nara_japan: 31.36 seconds\n",
      "Matching features for scene: sagrada_familia\n",
      "In matcher there are 1000 valid pairs to estimate for\n",
      "Total time taken for matching features in scene sagrada_familia: 90.19 seconds\n",
      "Matching features for scene: notre_dame_front_facade\n",
      "In matcher there are 1000 valid pairs to estimate for\n",
      "Total time taken for matching features in scene notre_dame_front_facade: 64.16 seconds\n",
      "Matching features for scene: colosseum_exterior\n",
      "In matcher there are 1000 valid pairs to estimate for\n",
      "Total time taken for matching features in scene colosseum_exterior: 435.18 seconds\n",
      "Matching features for scene: sacre_coeur\n",
      "In matcher there are 1000 valid pairs to estimate for\n",
      "Total time taken for matching features in scene sacre_coeur: 31.40 seconds\n",
      "Matching features for scene: british_museum\n",
      "In matcher there are 889 valid pairs to estimate for\n",
      "Total time taken for matching features in scene british_museum: 13.73 seconds\n"
     ]
    }
   ],
   "source": [
    "wrp.match_features(dataset, matcher, covisibility_threshold=0.1)"
   ]
  },
  {
   "cell_type": "code",
   "execution_count": 35,
   "metadata": {},
   "outputs": [
    {
     "name": "stdout",
     "output_type": "stream",
     "text": [
      "Estimating fundamental matrix for pairs in scene: brandenburg_gate\n",
      "Estimating fundamental matrix for pairs in scene: trevi_fountain\n",
      "[-]Error: Unable to predict fundemental matrix, filling in random value!!\n",
      "[-]Error: Unable to predict fundemental matrix, filling in random value!!\n",
      "Estimating fundamental matrix for pairs in scene: lincoln_memorial_statue\n",
      "[-]Error: Unable to predict fundemental matrix, filling in random value!!\n",
      "[-]Error: Unable to predict fundemental matrix, filling in random value!!\n",
      "[-]Error: Unable to predict fundemental matrix, filling in random value!!\n",
      "[-]Error: Unable to predict fundemental matrix, filling in random value!!\n",
      "[-]Error: Unable to predict fundemental matrix, filling in random value!!\n",
      "[-]Error: Unable to predict fundemental matrix, filling in random value!!\n",
      "[-]Error: Unable to predict fundemental matrix, filling in random value!!\n",
      "[-]Error: Unable to predict fundemental matrix, filling in random value!!\n",
      "[-]Error: Unable to predict fundemental matrix, filling in random value!!\n",
      "[-]Error: Unable to predict fundemental matrix, filling in random value!!\n",
      "[-]Error: Unable to predict fundemental matrix, filling in random value!!\n",
      "[-]Error: Unable to predict fundemental matrix, filling in random value!!\n",
      "[-]Error: Unable to predict fundemental matrix, filling in random value!!\n",
      "[-]Error: Unable to predict fundemental matrix, filling in random value!!\n",
      "[-]Error: Unable to predict fundemental matrix, filling in random value!!\n",
      "[-]Error: Unable to predict fundemental matrix, filling in random value!!\n",
      "[-]Error: Unable to predict fundemental matrix, filling in random value!!\n",
      "[-]Error: Unable to predict fundemental matrix, filling in random value!!\n",
      "Estimating fundamental matrix for pairs in scene: pantheon_exterior\n",
      "Estimating fundamental matrix for pairs in scene: buckingham_palace\n",
      "Estimating fundamental matrix for pairs in scene: taj_mahal\n",
      "[-]Error: Unable to predict fundemental matrix, filling in random value!!\n",
      "[-]Error: Unable to predict fundemental matrix, filling in random value!!\n",
      "[-]Error: Unable to predict fundemental matrix, filling in random value!!\n",
      "[-]Error: Unable to predict fundemental matrix, filling in random value!!\n",
      "[-]Error: Unable to predict fundemental matrix, filling in random value!!\n",
      "[-]Error: Unable to predict fundemental matrix, filling in random value!!\n",
      "Estimating fundamental matrix for pairs in scene: temple_nara_japan\n",
      "Estimating fundamental matrix for pairs in scene: sagrada_familia\n",
      "Estimating fundamental matrix for pairs in scene: notre_dame_front_facade\n",
      "[-]Error: Unable to predict fundemental matrix, filling in random value!!\n",
      "[-]Error: Unable to predict fundemental matrix, filling in random value!!\n",
      "[-]Error: Unable to predict fundemental matrix, filling in random value!!\n",
      "Estimating fundamental matrix for pairs in scene: colosseum_exterior\n",
      "[-]Error: Unable to predict fundemental matrix, filling in random value!!\n",
      "Estimating fundamental matrix for pairs in scene: sacre_coeur\n",
      "[-]Error: Unable to predict fundemental matrix, filling in random value!!\n",
      "Estimating fundamental matrix for pairs in scene: british_museum\n"
     ]
    }
   ],
   "source": [
    "sub = wrp.estimate_fundamental_matrix(dataset=dataset, estimator=fe)"
   ]
  },
  {
   "cell_type": "code",
   "execution_count": 36,
   "metadata": {},
   "outputs": [
    {
     "data": {
      "text/html": [
       "<div>\n",
       "<style scoped>\n",
       "    .dataframe tbody tr th:only-of-type {\n",
       "        vertical-align: middle;\n",
       "    }\n",
       "\n",
       "    .dataframe tbody tr th {\n",
       "        vertical-align: top;\n",
       "    }\n",
       "\n",
       "    .dataframe thead th {\n",
       "        text-align: right;\n",
       "    }\n",
       "</style>\n",
       "<table border=\"1\" class=\"dataframe\">\n",
       "  <thead>\n",
       "    <tr style=\"text-align: right;\">\n",
       "      <th></th>\n",
       "      <th>sample_id</th>\n",
       "      <th>fundamental_matrix</th>\n",
       "      <th>mask</th>\n",
       "      <th>inliers1</th>\n",
       "      <th>inliers2</th>\n",
       "    </tr>\n",
       "  </thead>\n",
       "  <tbody>\n",
       "    <tr>\n",
       "      <th>0</th>\n",
       "      <td>brandenburg_gate;95850075_1570642878-62661350_...</td>\n",
       "      <td>[58.35728388845713, 102.47001496957583, 3.3900...</td>\n",
       "      <td>[[1], [1], [1], [1], [1], [1], [1], [1], [1], ...</td>\n",
       "      <td>[[-0.141128, 0.006934], [-0.1361, 0.046888], [...</td>\n",
       "      <td>[[-0.057306, -0.201213], [-0.361891, 0.009507]...</td>\n",
       "    </tr>\n",
       "    <tr>\n",
       "      <th>1</th>\n",
       "      <td>brandenburg_gate;95733753_243743733-54233019_1...</td>\n",
       "      <td>[-24.59035673071758, -63.4177751688933, -12.19...</td>\n",
       "      <td>[[1], [1], [1], [1], [1], [1], [1], [1], [1], ...</td>\n",
       "      <td>[[-0.286968, 0.038841], [-0.277438, -0.029953]...</td>\n",
       "      <td>[[-0.455103, 0.097561], [-0.435118, -0.05511],...</td>\n",
       "    </tr>\n",
       "    <tr>\n",
       "      <th>2</th>\n",
       "      <td>brandenburg_gate;95048461_7775852580-62661350_...</td>\n",
       "      <td>[-17.71485628738074, 7.777875050231567, -4.459...</td>\n",
       "      <td>[[1], [1], [1], [1], [1], [1], [1], [1], [1], ...</td>\n",
       "      <td>[[-0.466916, -0.176258], [-0.447821, -0.235853...</td>\n",
       "      <td>[[-0.33407, -0.255708], [-0.200771, -0.266797]...</td>\n",
       "    </tr>\n",
       "    <tr>\n",
       "      <th>3</th>\n",
       "      <td>brandenburg_gate;90920828_5082887495-74616849_...</td>\n",
       "      <td>[-3.328306959868837, -39.13296128450056, 7.767...</td>\n",
       "      <td>[[1], [1], [1], [1], [1], [1], [1], [1], [1], ...</td>\n",
       "      <td>[[-0.449611, -0.054365], [-0.44568, -0.184222]...</td>\n",
       "      <td>[[-0.456476, -0.087079], [-0.447788, -0.211336...</td>\n",
       "    </tr>\n",
       "    <tr>\n",
       "      <th>4</th>\n",
       "      <td>brandenburg_gate;90920828_5082887495-27175827_...</td>\n",
       "      <td>[-23.70566184595777, 103.95896073820806, 13.83...</td>\n",
       "      <td>[[1], [1], [1], [1], [1], [1], [1], [1], [1], ...</td>\n",
       "      <td>[[-0.44568, -0.184222], [-0.44463, -0.178125],...</td>\n",
       "      <td>[[-0.290195, -0.094119], [-0.289663, -0.090223...</td>\n",
       "    </tr>\n",
       "  </tbody>\n",
       "</table>\n",
       "</div>"
      ],
      "text/plain": [
       "                                           sample_id  \\\n",
       "0  brandenburg_gate;95850075_1570642878-62661350_...   \n",
       "1  brandenburg_gate;95733753_243743733-54233019_1...   \n",
       "2  brandenburg_gate;95048461_7775852580-62661350_...   \n",
       "3  brandenburg_gate;90920828_5082887495-74616849_...   \n",
       "4  brandenburg_gate;90920828_5082887495-27175827_...   \n",
       "\n",
       "                                  fundamental_matrix  \\\n",
       "0  [58.35728388845713, 102.47001496957583, 3.3900...   \n",
       "1  [-24.59035673071758, -63.4177751688933, -12.19...   \n",
       "2  [-17.71485628738074, 7.777875050231567, -4.459...   \n",
       "3  [-3.328306959868837, -39.13296128450056, 7.767...   \n",
       "4  [-23.70566184595777, 103.95896073820806, 13.83...   \n",
       "\n",
       "                                                mask  \\\n",
       "0  [[1], [1], [1], [1], [1], [1], [1], [1], [1], ...   \n",
       "1  [[1], [1], [1], [1], [1], [1], [1], [1], [1], ...   \n",
       "2  [[1], [1], [1], [1], [1], [1], [1], [1], [1], ...   \n",
       "3  [[1], [1], [1], [1], [1], [1], [1], [1], [1], ...   \n",
       "4  [[1], [1], [1], [1], [1], [1], [1], [1], [1], ...   \n",
       "\n",
       "                                            inliers1  \\\n",
       "0  [[-0.141128, 0.006934], [-0.1361, 0.046888], [...   \n",
       "1  [[-0.286968, 0.038841], [-0.277438, -0.029953]...   \n",
       "2  [[-0.466916, -0.176258], [-0.447821, -0.235853...   \n",
       "3  [[-0.449611, -0.054365], [-0.44568, -0.184222]...   \n",
       "4  [[-0.44568, -0.184222], [-0.44463, -0.178125],...   \n",
       "\n",
       "                                            inliers2  \n",
       "0  [[-0.057306, -0.201213], [-0.361891, 0.009507]...  \n",
       "1  [[-0.455103, 0.097561], [-0.435118, -0.05511],...  \n",
       "2  [[-0.33407, -0.255708], [-0.200771, -0.266797]...  \n",
       "3  [[-0.456476, -0.087079], [-0.447788, -0.211336...  \n",
       "4  [[-0.290195, -0.094119], [-0.289663, -0.090223...  "
      ]
     },
     "execution_count": 36,
     "metadata": {},
     "output_type": "execute_result"
    }
   ],
   "source": [
    "sub.head()"
   ]
  },
  {
   "cell_type": "code",
   "execution_count": 37,
   "metadata": {},
   "outputs": [
    {
     "data": {
      "text/html": [
       "<div>\n",
       "<style scoped>\n",
       "    .dataframe tbody tr th:only-of-type {\n",
       "        vertical-align: middle;\n",
       "    }\n",
       "\n",
       "    .dataframe tbody tr th {\n",
       "        vertical-align: top;\n",
       "    }\n",
       "\n",
       "    .dataframe thead th {\n",
       "        text-align: right;\n",
       "    }\n",
       "</style>\n",
       "<table border=\"1\" class=\"dataframe\">\n",
       "  <thead>\n",
       "    <tr style=\"text-align: right;\">\n",
       "      <th></th>\n",
       "      <th>sample_id</th>\n",
       "      <th>fundamental_matrix</th>\n",
       "      <th>mask</th>\n",
       "      <th>inliers1</th>\n",
       "      <th>inliers2</th>\n",
       "    </tr>\n",
       "  </thead>\n",
       "  <tbody>\n",
       "  </tbody>\n",
       "</table>\n",
       "</div>"
      ],
      "text/plain": [
       "Empty DataFrame\n",
       "Columns: [sample_id, fundamental_matrix, mask, inliers1, inliers2]\n",
       "Index: []"
      ]
     },
     "execution_count": 37,
     "metadata": {},
     "output_type": "execute_result"
    }
   ],
   "source": [
    "sub[sub.fundamental_matrix.isna()]"
   ]
  },
  {
   "cell_type": "code",
   "execution_count": 38,
   "metadata": {},
   "outputs": [],
   "source": [
    "thresholds_q = np.linspace(1, 10, 10)\n",
    "thresholds_t = np.geomspace(0.2, 5, 10)"
   ]
  },
  {
   "cell_type": "code",
   "execution_count": 39,
   "metadata": {},
   "outputs": [
    {
     "name": "stdout",
     "output_type": "stream",
     "text": [
      "Evaluating for brandenburg_gate\n",
      "Evaluating for trevi_fountain\n",
      "Evaluating for lincoln_memorial_statue\n",
      "Evaluating for pantheon_exterior\n",
      "Evaluating for buckingham_palace\n",
      "Evaluating for taj_mahal\n",
      "Evaluating for temple_nara_japan\n",
      "Evaluating for sagrada_familia\n",
      "Evaluating for notre_dame_front_facade\n",
      "Evaluating for colosseum_exterior\n",
      "Evaluating for sacre_coeur\n",
      "Evaluating for british_museum\n"
     ]
    }
   ],
   "source": [
    "evals = wrp.evaluate_results(dataset, sub, scaling=scaling_data, thresholds_q=thresholds_q, thresholds_t=thresholds_t)"
   ]
  },
  {
   "cell_type": "code",
   "execution_count": 42,
   "metadata": {
    "vscode": {
     "languageId": "ruby"
    }
   },
   "outputs": [
    {
     "name": "stdout",
     "output_type": "stream",
     "text": [
      "                      scene   maa\n",
      "0          brandenburg_gate  0.01\n",
      "1            british_museum  0.02\n",
      "2         buckingham_palace  0.00\n",
      "3        colosseum_exterior  0.00\n",
      "4   lincoln_memorial_statue  0.02\n",
      "5   notre_dame_front_facade  0.01\n",
      "6         pantheon_exterior  0.01\n",
      "7               sacre_coeur  0.01\n",
      "8           sagrada_familia  0.01\n",
      "9                 taj_mahal  0.01\n",
      "10        temple_nara_japan  0.02\n",
      "11           trevi_fountain  0.01\n"
     ]
    }
   ],
   "source": [
    "# Extract scene names from sample_id\n",
    "evals['scene'] = evals['sample_id'].apply(lambda x: x.split(';')[0])\n",
    "\n",
    "# Group by scene and calculate mean accuracy measures\n",
    "scene_accuracy = evals.groupby('scene').agg({\n",
    "    'maa': 'mean'\n",
    "}).reset_index()\n",
    "\n",
    "scene_accuracy['maa'] = scene_accuracy['maa'].map(lambda x: f\"{x:.2f}\")\n",
    "print(scene_accuracy)"
   ]
  },
  {
   "cell_type": "code",
   "execution_count": null,
   "metadata": {
    "vscode": {
     "languageId": "ruby"
    }
   },
   "outputs": [],
   "source": []
  }
 ],
 "metadata": {
  "kernelspec": {
   "display_name": "Python 3 (ipykernel)",
   "language": "python",
   "name": "python3"
  },
  "language_info": {
   "codemirror_mode": {
    "name": "ipython",
    "version": 3
   },
   "file_extension": ".py",
   "mimetype": "text/x-python",
   "name": "python",
   "nbconvert_exporter": "python",
   "pygments_lexer": "ipython3",
   "version": "3.13.0"
  }
 },
 "nbformat": 4,
 "nbformat_minor": 2
}

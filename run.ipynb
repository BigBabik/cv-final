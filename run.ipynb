{
 "cells": [
  {
   "cell_type": "code",
   "execution_count": 1,
   "metadata": {},
   "outputs": [],
   "source": [
    "import pandas as pd\n",
    "import numpy as np\n",
    "import torch\n",
    "\n",
    "from extract_features_utils import process_images, process_superglue, create_super_matching\n",
    "from fundamental_utils import get_F_dataframe, create_fundamental_matrix\n",
    "from eval import mean_average_accuracy, calc_maa\n"
   ]
  },
  {
   "cell_type": "code",
   "execution_count": 13,
   "metadata": {},
   "outputs": [],
   "source": [
    "def eval_image_matrix_predict(root_directory, scene_name, image0_name, image1_name):\n",
    "    if torch.cuda.is_available():\n",
    "        device = 'cuda'\n",
    "    else:\n",
    "        device = 'cpu'\n",
    "    matching = create_super_matching(device)\n",
    "    images_directory = f\"{root_directory}/{scene_name}/images\"\n",
    "    mkpts0, mkpts1, mconf = process_superglue(images_directory,\n",
    "                                            image0_name,\n",
    "                                            image1_name,\n",
    "                                            device,\n",
    "                                            matching,\n",
    "                                            scene_name,\n",
    "                                            output_path=None)\n",
    "    \n",
    "    print(\"Done superglue\")\n",
    "    F, mask = create_fundamental_matrix(mkpts0, mkpts1)\n",
    "    truth_csv = images_directory = f\"{root_directory}/{scene_name}/pair_covisibility.csv\"\n",
    "    \n",
    "    truth_dff = pd.read_csv(truth_csv)\n",
    "    search_pair = f\"{image0_name}-{image1_name}\"\n",
    "    F_gt_string = truth_dff.loc[truth_dff[\"pair\"] == search_pair, 'fundamental_matrix'].iloc[0]\n",
    "    F_gt = np.array([float(x) for x in F_gt_string.split(\" \")])\n",
    "    \n",
    "    print(\"Predict\")\n",
    "    print(F)\n",
    "    print(\"Truth\")\n",
    "    print(F_gt)\n",
    "\n",
    "    mAA = calc_maa(F, F_gt)\n",
    "    print(mAA)\n",
    "\n",
    "\n"
   ]
  },
  {
   "cell_type": "code",
   "execution_count": 14,
   "metadata": {},
   "outputs": [
    {
     "name": "stderr",
     "output_type": "stream",
     "text": [
      "/app/models/superpoint.py:137: FutureWarning: You are using `torch.load` with `weights_only=False` (the current default value), which uses the default pickle module implicitly. It is possible to construct malicious pickle data which will execute arbitrary code during unpickling (See https://github.com/pytorch/pytorch/blob/main/SECURITY.md#untrusted-models for more details). In a future release, the default value for `weights_only` will be flipped to `True`. This limits the functions that could be executed during unpickling. Arbitrary objects will no longer be allowed to be loaded via this mode unless they are explicitly allowlisted by the user via `torch.serialization.add_safe_globals`. We recommend you start setting `weights_only=True` for any use case where you don't have full control of the loaded file. Please open an issue on GitHub for any issues related to this experimental feature.\n",
      "  self.load_state_dict(torch.load(str(path)))\n",
      "/app/models/superglue.py:226: FutureWarning: You are using `torch.load` with `weights_only=False` (the current default value), which uses the default pickle module implicitly. It is possible to construct malicious pickle data which will execute arbitrary code during unpickling (See https://github.com/pytorch/pytorch/blob/main/SECURITY.md#untrusted-models for more details). In a future release, the default value for `weights_only` will be flipped to `True`. This limits the functions that could be executed during unpickling. Arbitrary objects will no longer be allowed to be loaded via this mode unless they are explicitly allowlisted by the user via `torch.serialization.add_safe_globals`. We recommend you start setting `weights_only=True` for any use case where you don't have full control of the loaded file. Please open an issue on GitHub for any issues related to this experimental feature.\n",
      "  self.load_state_dict(torch.load(str(path)))\n"
     ]
    },
    {
     "name": "stdout",
     "output_type": "stream",
     "text": [
      "Loaded SuperPoint model\n",
      "Loaded SuperGlue model (\"outdoor\" weights)\n",
      "Done superglue\n",
      "Predict\n",
      "[-1.72039647e-07 -5.75948942e-06  5.03774889e-03  5.46740914e-06\n",
      "  4.14132331e-08  1.24313783e-03 -4.43191998e-03 -8.85249524e-04\n",
      " -2.56789004e-01]\n",
      "Truth\n",
      "[-1.40897905e-02 -6.92930907e-01  4.97934919e+02  6.56727472e-01\n",
      "  2.46979507e-02  2.84718397e+02 -4.35043708e+02 -2.27718322e+02\n",
      " -3.47486802e+04]\n",
      "100.0\n"
     ]
    }
   ],
   "source": [
    "input = \"90920828_5082887495-81677974_8097325090\"\n",
    "\n",
    "image0_name, image1_name = input.split(\"-\")\n",
    "eval_image_matrix_predict(\n",
    "    \"/share/project_data/train\",\n",
    "    \"brandenburg_gate\", \n",
    "    image0_name,\n",
    "    image1_name)"
   ]
  },
  {
   "cell_type": "code",
   "execution_count": 2,
   "metadata": {},
   "outputs": [],
   "source": [
    "def load_files_paths(input_csv, input_dir):\n",
    "    input_csv = \"/share/project_data/test.csv\"\n",
    "    test_samples = pd.read_csv(input_csv)\n",
    "    test_samples.rename(columns={'batch_id': 'scene_name', 'image_1_id': 'im1', 'image_2_id': 'im2'}, inplace=True)  # edited columns\n",
    "\n",
    "\n",
    "    for index, row in test_samples.iterrows():  #edited - change to iter on pd\n",
    "        scene_name = row['scene_name']\n",
    "        scene_input_dir = input_dir / scene_name\n",
    "\n",
    "        image0_path = f\"{scene_input_dir}/{row['im1']}.jpg\"\n",
    "        image1_path = f\"{scene_input_dir}/{row['im2']}.jpg\"\n",
    "         # path of images\n",
    "\n"
   ]
  },
  {
   "cell_type": "code",
   "execution_count": null,
   "metadata": {},
   "outputs": [],
   "source": []
  },
  {
   "cell_type": "code",
   "execution_count": 2,
   "metadata": {},
   "outputs": [
    {
     "name": "stdout",
     "output_type": "stream",
     "text": [
      "Running inference on device \"cuda\"\n",
      "Loaded SuperPoint model\n"
     ]
    },
    {
     "name": "stderr",
     "output_type": "stream",
     "text": [
      "/app/models/superpoint.py:137: FutureWarning: You are using `torch.load` with `weights_only=False` (the current default value), which uses the default pickle module implicitly. It is possible to construct malicious pickle data which will execute arbitrary code during unpickling (See https://github.com/pytorch/pytorch/blob/main/SECURITY.md#untrusted-models for more details). In a future release, the default value for `weights_only` will be flipped to `True`. This limits the functions that could be executed during unpickling. Arbitrary objects will no longer be allowed to be loaded via this mode unless they are explicitly allowlisted by the user via `torch.serialization.add_safe_globals`. We recommend you start setting `weights_only=True` for any use case where you don't have full control of the loaded file. Please open an issue on GitHub for any issues related to this experimental feature.\n",
      "  self.load_state_dict(torch.load(str(path)))\n",
      "/app/models/superglue.py:227: FutureWarning: You are using `torch.load` with `weights_only=False` (the current default value), which uses the default pickle module implicitly. It is possible to construct malicious pickle data which will execute arbitrary code during unpickling (See https://github.com/pytorch/pytorch/blob/main/SECURITY.md#untrusted-models for more details). In a future release, the default value for `weights_only` will be flipped to `True`. This limits the functions that could be executed during unpickling. Arbitrary objects will no longer be allowed to be loaded via this mode unless they are explicitly allowlisted by the user via `torch.serialization.add_safe_globals`. We recommend you start setting `weights_only=True` for any use case where you don't have full control of the loaded file. Please open an issue on GitHub for any issues related to this experimental feature.\n",
      "  self.load_state_dict(torch.load(str(path)))\n"
     ]
    },
    {
     "name": "stdout",
     "output_type": "stream",
     "text": [
      "Loaded SuperGlue model (\"outdoor\" weights)\n",
      "Looking for data in directory \"/share/project_data/test_images\"\n",
      "Will write matches to directory \"/share/project_data/dump_match_data\"\n",
      "Skipping\n",
      "Skipping\n",
      "Skipping\n",
      "Skipping\n",
      "Skipping\n",
      "Skipping\n",
      "Skipping\n",
      "Skipping\n",
      "Skipping\n",
      "Skipping\n",
      "Skipping\n",
      "Skipping\n",
      "Skipping\n",
      "Skipping\n",
      "Skipping\n",
      "Skipping\n",
      "[torch.Size([1, 2, 842]), torch.Size([1, 1, 842])]\n",
      "[torch.Size([1, 2, 1152]), torch.Size([1, 1, 1152])]\n",
      "[torch.Size([1, 2, 1137]), torch.Size([1, 1, 1137])]\n",
      "[torch.Size([1, 2, 67]), torch.Size([1, 1, 67])]\n",
      "[torch.Size([1, 2, 1021]), torch.Size([1, 1, 1021])]\n",
      "[torch.Size([1, 2, 929]), torch.Size([1, 1, 929])]\n",
      "[torch.Size([1, 2, 1021]), torch.Size([1, 1, 1021])]\n",
      "[torch.Size([1, 2, 1090]), torch.Size([1, 1, 1090])]\n",
      "[torch.Size([1, 2, 1021]), torch.Size([1, 1, 1021])]\n",
      "[torch.Size([1, 2, 1004]), torch.Size([1, 1, 1004])]\n",
      "[torch.Size([1, 2, 1021]), torch.Size([1, 1, 1021])]\n",
      "[torch.Size([1, 2, 647]), torch.Size([1, 1, 647])]\n",
      "[torch.Size([1, 2, 1021]), torch.Size([1, 1, 1021])]\n",
      "[torch.Size([1, 2, 375]), torch.Size([1, 1, 375])]\n",
      "[torch.Size([1, 2, 1021]), torch.Size([1, 1, 1021])]\n",
      "[torch.Size([1, 2, 622]), torch.Size([1, 1, 622])]\n",
      "[torch.Size([1, 2, 1021]), torch.Size([1, 1, 1021])]\n",
      "[torch.Size([1, 2, 950]), torch.Size([1, 1, 950])]\n",
      "[torch.Size([1, 2, 1021]), torch.Size([1, 1, 1021])]\n",
      "[torch.Size([1, 2, 1195]), torch.Size([1, 1, 1195])]\n",
      "[torch.Size([1, 2, 929]), torch.Size([1, 1, 929])]\n",
      "[torch.Size([1, 2, 622]), torch.Size([1, 1, 622])]\n",
      "[torch.Size([1, 2, 929]), torch.Size([1, 1, 929])]\n",
      "[torch.Size([1, 2, 818]), torch.Size([1, 1, 818])]\n",
      "[torch.Size([1, 2, 929]), torch.Size([1, 1, 929])]\n",
      "[torch.Size([1, 2, 1195]), torch.Size([1, 1, 1195])]\n",
      "[torch.Size([1, 2, 1248]), torch.Size([1, 1, 1248])]\n",
      "[torch.Size([1, 2, 1307]), torch.Size([1, 1, 1307])]\n"
     ]
    },
    {
     "ename": "KeyboardInterrupt",
     "evalue": "",
     "output_type": "error",
     "traceback": [
      "\u001b[0;31m---------------------------------------------------------------------------\u001b[0m",
      "\u001b[0;31mKeyboardInterrupt\u001b[0m                         Traceback (most recent call last)",
      "Cell \u001b[0;32mIn[2], line 2\u001b[0m\n\u001b[1;32m      1\u001b[0m \u001b[38;5;66;03m# Using super glue\u001b[39;00m\n\u001b[0;32m----> 2\u001b[0m \u001b[43mprocess_images\u001b[49m\u001b[43m(\u001b[49m\n\u001b[1;32m      3\u001b[0m \u001b[43m    \u001b[49m\u001b[43minput_csv\u001b[49m\u001b[38;5;241;43m=\u001b[39;49m\u001b[38;5;124;43m\"\u001b[39;49m\u001b[38;5;124;43m/share/project_data/test.csv\u001b[39;49m\u001b[38;5;124;43m\"\u001b[39;49m\u001b[43m,\u001b[49m\n\u001b[1;32m      4\u001b[0m \u001b[43m    \u001b[49m\u001b[43minput_dir\u001b[49m\u001b[38;5;241;43m=\u001b[39;49m\u001b[38;5;124;43m\"\u001b[39;49m\u001b[38;5;124;43m/share/project_data/test_images/\u001b[39;49m\u001b[38;5;124;43m\"\u001b[39;49m\u001b[43m,\u001b[49m\n\u001b[1;32m      5\u001b[0m \u001b[43m    \u001b[49m\u001b[43moutput_dir\u001b[49m\u001b[38;5;241;43m=\u001b[39;49m\u001b[38;5;124;43m\"\u001b[39;49m\u001b[38;5;124;43m/share/project_data/dump_match_data\u001b[39;49m\u001b[38;5;124;43m\"\u001b[39;49m\u001b[43m,\u001b[49m\n\u001b[1;32m      6\u001b[0m \u001b[43m    \u001b[49m\u001b[43mdo_viz\u001b[49m\u001b[38;5;241;43m=\u001b[39;49m\u001b[38;5;28;43;01mFalse\u001b[39;49;00m\u001b[43m,\u001b[49m\n\u001b[1;32m      7\u001b[0m \u001b[43m    \u001b[49m\u001b[43mmax_length\u001b[49m\u001b[38;5;241;43m=\u001b[39;49m\u001b[38;5;241;43m-\u001b[39;49m\u001b[38;5;241;43m1\u001b[39;49m\u001b[43m,\u001b[49m\n\u001b[1;32m      8\u001b[0m \u001b[43m    \u001b[49m\u001b[43mfast_viz\u001b[49m\u001b[38;5;241;43m=\u001b[39;49m\u001b[38;5;28;43;01mFalse\u001b[39;49;00m\u001b[43m)\u001b[49m\n",
      "File \u001b[0;32m/app/extract_features_utils.py:263\u001b[0m, in \u001b[0;36mprocess_images\u001b[0;34m(input_csv, input_dir, output_dir, do_viz, resize, max_length, fast_viz)\u001b[0m\n\u001b[1;32m    259\u001b[0m timer\u001b[38;5;241m.\u001b[39mupdate(\u001b[38;5;124m'\u001b[39m\u001b[38;5;124mload_image\u001b[39m\u001b[38;5;124m'\u001b[39m)\n\u001b[1;32m    261\u001b[0m \u001b[38;5;28;01mif\u001b[39;00m do_match:\n\u001b[1;32m    262\u001b[0m     \u001b[38;5;66;03m# Perform the matching.\u001b[39;00m\n\u001b[0;32m--> 263\u001b[0m     pred \u001b[38;5;241m=\u001b[39m \u001b[43mmatching\u001b[49m\u001b[43m(\u001b[49m\u001b[43m{\u001b[49m\u001b[38;5;124;43m'\u001b[39;49m\u001b[38;5;124;43mimage0\u001b[39;49m\u001b[38;5;124;43m'\u001b[39;49m\u001b[43m:\u001b[49m\u001b[43m \u001b[49m\u001b[43minp0\u001b[49m\u001b[43m,\u001b[49m\u001b[43m \u001b[49m\u001b[38;5;124;43m'\u001b[39;49m\u001b[38;5;124;43mimage1\u001b[39;49m\u001b[38;5;124;43m'\u001b[39;49m\u001b[43m:\u001b[49m\u001b[43m \u001b[49m\u001b[43minp1\u001b[49m\u001b[43m}\u001b[49m\u001b[43m)\u001b[49m\n\u001b[1;32m    264\u001b[0m     pred \u001b[38;5;241m=\u001b[39m {k: v[\u001b[38;5;241m0\u001b[39m]\u001b[38;5;241m.\u001b[39mcpu()\u001b[38;5;241m.\u001b[39mnumpy() \u001b[38;5;28;01mfor\u001b[39;00m k, v \u001b[38;5;129;01min\u001b[39;00m pred\u001b[38;5;241m.\u001b[39mitems()}\n\u001b[1;32m    265\u001b[0m     kpts0, kpts1 \u001b[38;5;241m=\u001b[39m pred[\u001b[38;5;124m'\u001b[39m\u001b[38;5;124mkeypoints0\u001b[39m\u001b[38;5;124m'\u001b[39m], pred[\u001b[38;5;124m'\u001b[39m\u001b[38;5;124mkeypoints1\u001b[39m\u001b[38;5;124m'\u001b[39m]\n",
      "File \u001b[0;32m/usr/local/lib/python3.10/dist-packages/torch/nn/modules/module.py:1736\u001b[0m, in \u001b[0;36mModule._wrapped_call_impl\u001b[0;34m(self, *args, **kwargs)\u001b[0m\n\u001b[1;32m   1734\u001b[0m     \u001b[38;5;28;01mreturn\u001b[39;00m \u001b[38;5;28mself\u001b[39m\u001b[38;5;241m.\u001b[39m_compiled_call_impl(\u001b[38;5;241m*\u001b[39margs, \u001b[38;5;241m*\u001b[39m\u001b[38;5;241m*\u001b[39mkwargs)  \u001b[38;5;66;03m# type: ignore[misc]\u001b[39;00m\n\u001b[1;32m   1735\u001b[0m \u001b[38;5;28;01melse\u001b[39;00m:\n\u001b[0;32m-> 1736\u001b[0m     \u001b[38;5;28;01mreturn\u001b[39;00m \u001b[38;5;28;43mself\u001b[39;49m\u001b[38;5;241;43m.\u001b[39;49m\u001b[43m_call_impl\u001b[49m\u001b[43m(\u001b[49m\u001b[38;5;241;43m*\u001b[39;49m\u001b[43margs\u001b[49m\u001b[43m,\u001b[49m\u001b[43m \u001b[49m\u001b[38;5;241;43m*\u001b[39;49m\u001b[38;5;241;43m*\u001b[39;49m\u001b[43mkwargs\u001b[49m\u001b[43m)\u001b[49m\n",
      "File \u001b[0;32m/usr/local/lib/python3.10/dist-packages/torch/nn/modules/module.py:1747\u001b[0m, in \u001b[0;36mModule._call_impl\u001b[0;34m(self, *args, **kwargs)\u001b[0m\n\u001b[1;32m   1742\u001b[0m \u001b[38;5;66;03m# If we don't have any hooks, we want to skip the rest of the logic in\u001b[39;00m\n\u001b[1;32m   1743\u001b[0m \u001b[38;5;66;03m# this function, and just call forward.\u001b[39;00m\n\u001b[1;32m   1744\u001b[0m \u001b[38;5;28;01mif\u001b[39;00m \u001b[38;5;129;01mnot\u001b[39;00m (\u001b[38;5;28mself\u001b[39m\u001b[38;5;241m.\u001b[39m_backward_hooks \u001b[38;5;129;01mor\u001b[39;00m \u001b[38;5;28mself\u001b[39m\u001b[38;5;241m.\u001b[39m_backward_pre_hooks \u001b[38;5;129;01mor\u001b[39;00m \u001b[38;5;28mself\u001b[39m\u001b[38;5;241m.\u001b[39m_forward_hooks \u001b[38;5;129;01mor\u001b[39;00m \u001b[38;5;28mself\u001b[39m\u001b[38;5;241m.\u001b[39m_forward_pre_hooks\n\u001b[1;32m   1745\u001b[0m         \u001b[38;5;129;01mor\u001b[39;00m _global_backward_pre_hooks \u001b[38;5;129;01mor\u001b[39;00m _global_backward_hooks\n\u001b[1;32m   1746\u001b[0m         \u001b[38;5;129;01mor\u001b[39;00m _global_forward_hooks \u001b[38;5;129;01mor\u001b[39;00m _global_forward_pre_hooks):\n\u001b[0;32m-> 1747\u001b[0m     \u001b[38;5;28;01mreturn\u001b[39;00m \u001b[43mforward_call\u001b[49m\u001b[43m(\u001b[49m\u001b[38;5;241;43m*\u001b[39;49m\u001b[43margs\u001b[49m\u001b[43m,\u001b[49m\u001b[43m \u001b[49m\u001b[38;5;241;43m*\u001b[39;49m\u001b[38;5;241;43m*\u001b[39;49m\u001b[43mkwargs\u001b[49m\u001b[43m)\u001b[49m\n\u001b[1;32m   1749\u001b[0m result \u001b[38;5;241m=\u001b[39m \u001b[38;5;28;01mNone\u001b[39;00m\n\u001b[1;32m   1750\u001b[0m called_always_called_hooks \u001b[38;5;241m=\u001b[39m \u001b[38;5;28mset\u001b[39m()\n",
      "File \u001b[0;32m/app/models/matching.py:81\u001b[0m, in \u001b[0;36mMatching.forward\u001b[0;34m(self, data)\u001b[0m\n\u001b[1;32m     78\u001b[0m         data[k] \u001b[38;5;241m=\u001b[39m torch\u001b[38;5;241m.\u001b[39mstack(data[k])\n\u001b[1;32m     80\u001b[0m \u001b[38;5;66;03m# Perform the matching\u001b[39;00m\n\u001b[0;32m---> 81\u001b[0m pred \u001b[38;5;241m=\u001b[39m {\u001b[38;5;241m*\u001b[39m\u001b[38;5;241m*\u001b[39mpred, \u001b[38;5;241m*\u001b[39m\u001b[38;5;241m*\u001b[39m\u001b[38;5;28;43mself\u001b[39;49m\u001b[38;5;241;43m.\u001b[39;49m\u001b[43msuperglue\u001b[49m\u001b[43m(\u001b[49m\u001b[43mdata\u001b[49m\u001b[43m)\u001b[49m}\n\u001b[1;32m     83\u001b[0m \u001b[38;5;28;01mreturn\u001b[39;00m pred\n",
      "File \u001b[0;32m/usr/local/lib/python3.10/dist-packages/torch/nn/modules/module.py:1736\u001b[0m, in \u001b[0;36mModule._wrapped_call_impl\u001b[0;34m(self, *args, **kwargs)\u001b[0m\n\u001b[1;32m   1734\u001b[0m     \u001b[38;5;28;01mreturn\u001b[39;00m \u001b[38;5;28mself\u001b[39m\u001b[38;5;241m.\u001b[39m_compiled_call_impl(\u001b[38;5;241m*\u001b[39margs, \u001b[38;5;241m*\u001b[39m\u001b[38;5;241m*\u001b[39mkwargs)  \u001b[38;5;66;03m# type: ignore[misc]\u001b[39;00m\n\u001b[1;32m   1735\u001b[0m \u001b[38;5;28;01melse\u001b[39;00m:\n\u001b[0;32m-> 1736\u001b[0m     \u001b[38;5;28;01mreturn\u001b[39;00m \u001b[38;5;28;43mself\u001b[39;49m\u001b[38;5;241;43m.\u001b[39;49m\u001b[43m_call_impl\u001b[49m\u001b[43m(\u001b[49m\u001b[38;5;241;43m*\u001b[39;49m\u001b[43margs\u001b[49m\u001b[43m,\u001b[49m\u001b[43m \u001b[49m\u001b[38;5;241;43m*\u001b[39;49m\u001b[38;5;241;43m*\u001b[39;49m\u001b[43mkwargs\u001b[49m\u001b[43m)\u001b[49m\n",
      "File \u001b[0;32m/usr/local/lib/python3.10/dist-packages/torch/nn/modules/module.py:1747\u001b[0m, in \u001b[0;36mModule._call_impl\u001b[0;34m(self, *args, **kwargs)\u001b[0m\n\u001b[1;32m   1742\u001b[0m \u001b[38;5;66;03m# If we don't have any hooks, we want to skip the rest of the logic in\u001b[39;00m\n\u001b[1;32m   1743\u001b[0m \u001b[38;5;66;03m# this function, and just call forward.\u001b[39;00m\n\u001b[1;32m   1744\u001b[0m \u001b[38;5;28;01mif\u001b[39;00m \u001b[38;5;129;01mnot\u001b[39;00m (\u001b[38;5;28mself\u001b[39m\u001b[38;5;241m.\u001b[39m_backward_hooks \u001b[38;5;129;01mor\u001b[39;00m \u001b[38;5;28mself\u001b[39m\u001b[38;5;241m.\u001b[39m_backward_pre_hooks \u001b[38;5;129;01mor\u001b[39;00m \u001b[38;5;28mself\u001b[39m\u001b[38;5;241m.\u001b[39m_forward_hooks \u001b[38;5;129;01mor\u001b[39;00m \u001b[38;5;28mself\u001b[39m\u001b[38;5;241m.\u001b[39m_forward_pre_hooks\n\u001b[1;32m   1745\u001b[0m         \u001b[38;5;129;01mor\u001b[39;00m _global_backward_pre_hooks \u001b[38;5;129;01mor\u001b[39;00m _global_backward_hooks\n\u001b[1;32m   1746\u001b[0m         \u001b[38;5;129;01mor\u001b[39;00m _global_forward_hooks \u001b[38;5;129;01mor\u001b[39;00m _global_forward_pre_hooks):\n\u001b[0;32m-> 1747\u001b[0m     \u001b[38;5;28;01mreturn\u001b[39;00m \u001b[43mforward_call\u001b[49m\u001b[43m(\u001b[49m\u001b[38;5;241;43m*\u001b[39;49m\u001b[43margs\u001b[49m\u001b[43m,\u001b[49m\u001b[43m \u001b[49m\u001b[38;5;241;43m*\u001b[39;49m\u001b[38;5;241;43m*\u001b[39;49m\u001b[43mkwargs\u001b[49m\u001b[43m)\u001b[49m\n\u001b[1;32m   1749\u001b[0m result \u001b[38;5;241m=\u001b[39m \u001b[38;5;28;01mNone\u001b[39;00m\n\u001b[1;32m   1750\u001b[0m called_always_called_hooks \u001b[38;5;241m=\u001b[39m \u001b[38;5;28mset\u001b[39m()\n",
      "File \u001b[0;32m/app/models/superglue.py:263\u001b[0m, in \u001b[0;36mSuperGlue.forward\u001b[0;34m(self, data)\u001b[0m\n\u001b[1;32m    260\u001b[0m scores \u001b[38;5;241m=\u001b[39m scores \u001b[38;5;241m/\u001b[39m \u001b[38;5;28mself\u001b[39m\u001b[38;5;241m.\u001b[39mconfig[\u001b[38;5;124m'\u001b[39m\u001b[38;5;124mdescriptor_dim\u001b[39m\u001b[38;5;124m'\u001b[39m]\u001b[38;5;241m*\u001b[39m\u001b[38;5;241m*\u001b[39m\u001b[38;5;241m.5\u001b[39m\n\u001b[1;32m    262\u001b[0m \u001b[38;5;66;03m# Run the optimal transport.\u001b[39;00m\n\u001b[0;32m--> 263\u001b[0m scores \u001b[38;5;241m=\u001b[39m \u001b[43mlog_optimal_transport\u001b[49m\u001b[43m(\u001b[49m\n\u001b[1;32m    264\u001b[0m \u001b[43m    \u001b[49m\u001b[43mscores\u001b[49m\u001b[43m,\u001b[49m\u001b[43m \u001b[49m\u001b[38;5;28;43mself\u001b[39;49m\u001b[38;5;241;43m.\u001b[39;49m\u001b[43mbin_score\u001b[49m\u001b[43m,\u001b[49m\n\u001b[1;32m    265\u001b[0m \u001b[43m    \u001b[49m\u001b[43miters\u001b[49m\u001b[38;5;241;43m=\u001b[39;49m\u001b[38;5;28;43mself\u001b[39;49m\u001b[38;5;241;43m.\u001b[39;49m\u001b[43mconfig\u001b[49m\u001b[43m[\u001b[49m\u001b[38;5;124;43m'\u001b[39;49m\u001b[38;5;124;43msinkhorn_iterations\u001b[39;49m\u001b[38;5;124;43m'\u001b[39;49m\u001b[43m]\u001b[49m\u001b[43m)\u001b[49m\n\u001b[1;32m    267\u001b[0m \u001b[38;5;66;03m# Get the matches with score above \"match_threshold\".\u001b[39;00m\n\u001b[1;32m    268\u001b[0m max0, max1 \u001b[38;5;241m=\u001b[39m scores[:, :\u001b[38;5;241m-\u001b[39m\u001b[38;5;241m1\u001b[39m, :\u001b[38;5;241m-\u001b[39m\u001b[38;5;241m1\u001b[39m]\u001b[38;5;241m.\u001b[39mmax(\u001b[38;5;241m2\u001b[39m), scores[:, :\u001b[38;5;241m-\u001b[39m\u001b[38;5;241m1\u001b[39m, :\u001b[38;5;241m-\u001b[39m\u001b[38;5;241m1\u001b[39m]\u001b[38;5;241m.\u001b[39mmax(\u001b[38;5;241m1\u001b[39m)\n",
      "File \u001b[0;32m/app/models/superglue.py:171\u001b[0m, in \u001b[0;36mlog_optimal_transport\u001b[0;34m(scores, alpha, iters)\u001b[0m\n\u001b[1;32m    168\u001b[0m log_nu \u001b[38;5;241m=\u001b[39m torch\u001b[38;5;241m.\u001b[39mcat([norm\u001b[38;5;241m.\u001b[39mexpand(n), ms\u001b[38;5;241m.\u001b[39mlog()[\u001b[38;5;28;01mNone\u001b[39;00m] \u001b[38;5;241m+\u001b[39m norm])\n\u001b[1;32m    169\u001b[0m log_mu, log_nu \u001b[38;5;241m=\u001b[39m log_mu[\u001b[38;5;28;01mNone\u001b[39;00m]\u001b[38;5;241m.\u001b[39mexpand(b, \u001b[38;5;241m-\u001b[39m\u001b[38;5;241m1\u001b[39m), log_nu[\u001b[38;5;28;01mNone\u001b[39;00m]\u001b[38;5;241m.\u001b[39mexpand(b, \u001b[38;5;241m-\u001b[39m\u001b[38;5;241m1\u001b[39m)\n\u001b[0;32m--> 171\u001b[0m Z \u001b[38;5;241m=\u001b[39m \u001b[43mlog_sinkhorn_iterations\u001b[49m\u001b[43m(\u001b[49m\u001b[43mcouplings\u001b[49m\u001b[43m,\u001b[49m\u001b[43m \u001b[49m\u001b[43mlog_mu\u001b[49m\u001b[43m,\u001b[49m\u001b[43m \u001b[49m\u001b[43mlog_nu\u001b[49m\u001b[43m,\u001b[49m\u001b[43m \u001b[49m\u001b[43miters\u001b[49m\u001b[43m)\u001b[49m\n\u001b[1;32m    172\u001b[0m Z \u001b[38;5;241m=\u001b[39m Z \u001b[38;5;241m-\u001b[39m norm  \u001b[38;5;66;03m# multiply probabilities by M+N\u001b[39;00m\n\u001b[1;32m    173\u001b[0m \u001b[38;5;28;01mreturn\u001b[39;00m Z\n",
      "File \u001b[0;32m/app/models/superglue.py:149\u001b[0m, in \u001b[0;36mlog_sinkhorn_iterations\u001b[0;34m(Z, log_mu, log_nu, iters)\u001b[0m\n\u001b[1;32m    147\u001b[0m \u001b[38;5;28;01mfor\u001b[39;00m _ \u001b[38;5;129;01min\u001b[39;00m \u001b[38;5;28mrange\u001b[39m(iters):\n\u001b[1;32m    148\u001b[0m     u \u001b[38;5;241m=\u001b[39m log_mu \u001b[38;5;241m-\u001b[39m torch\u001b[38;5;241m.\u001b[39mlogsumexp(Z \u001b[38;5;241m+\u001b[39m v\u001b[38;5;241m.\u001b[39munsqueeze(\u001b[38;5;241m1\u001b[39m), dim\u001b[38;5;241m=\u001b[39m\u001b[38;5;241m2\u001b[39m)\n\u001b[0;32m--> 149\u001b[0m     v \u001b[38;5;241m=\u001b[39m log_nu \u001b[38;5;241m-\u001b[39m \u001b[43mtorch\u001b[49m\u001b[38;5;241;43m.\u001b[39;49m\u001b[43mlogsumexp\u001b[49m\u001b[43m(\u001b[49m\u001b[43mZ\u001b[49m\u001b[43m \u001b[49m\u001b[38;5;241;43m+\u001b[39;49m\u001b[43m \u001b[49m\u001b[43mu\u001b[49m\u001b[38;5;241;43m.\u001b[39;49m\u001b[43munsqueeze\u001b[49m\u001b[43m(\u001b[49m\u001b[38;5;241;43m2\u001b[39;49m\u001b[43m)\u001b[49m\u001b[43m,\u001b[49m\u001b[43m \u001b[49m\u001b[43mdim\u001b[49m\u001b[38;5;241;43m=\u001b[39;49m\u001b[38;5;241;43m1\u001b[39;49m\u001b[43m)\u001b[49m\n\u001b[1;32m    150\u001b[0m \u001b[38;5;28;01mreturn\u001b[39;00m Z \u001b[38;5;241m+\u001b[39m u\u001b[38;5;241m.\u001b[39munsqueeze(\u001b[38;5;241m2\u001b[39m) \u001b[38;5;241m+\u001b[39m v\u001b[38;5;241m.\u001b[39munsqueeze(\u001b[38;5;241m1\u001b[39m)\n",
      "\u001b[0;31mKeyboardInterrupt\u001b[0m: "
     ]
    }
   ],
   "source": [
    "# Using super glue\n",
    "process_images(\n",
    "    input_csv=\"/share/project_data/test.csv\",\n",
    "    input_dir=\"/share/project_data/test_images/\",\n",
    "    output_dir=\"/share/project_data/dump_match_data\",\n",
    "    do_viz=False,\n",
    "    max_length=-1,\n",
    "    fast_viz=False)"
   ]
  },
  {
   "cell_type": "code",
   "execution_count": 4,
   "metadata": {},
   "outputs": [
    {
     "name": "stderr",
     "output_type": "stream",
     "text": [
      "  0%|          | 16/18840 [00:00<03:55, 79.83it/s]"
     ]
    },
    {
     "name": "stdout",
     "output_type": "stream",
     "text": [
      "None\n"
     ]
    },
    {
     "name": "stderr",
     "output_type": "stream",
     "text": [
      "  0%|          | 60/18840 [00:00<03:03, 102.22it/s]"
     ]
    },
    {
     "name": "stdout",
     "output_type": "stream",
     "text": [
      "Found 0\n",
      "OpenCV(4.11.0) /io/opencv/modules/calib3d/src/usac/ransac_solvers.cpp:1047: error: (-2:Unspecified error) in function 'cv::usac::mergePoints(cv::InputArray, cv::InputArray, cv::Mat&, bool)::<lambda(cv::Mat&, int)>'\n",
      "> Invalid dimension of point (expected: 'points.cols >= pt_dim'), where\n",
      ">     'points.cols' is 0\n",
      "> must be greater than or equal to\n",
      ">     'pt_dim' is 2\n",
      "\n",
      "error\n",
      "Found 2\n",
      "OpenCV(4.11.0) /io/opencv/modules/calib3d/src/usac/sampler.cpp:45: error: (-215:Assertion failed) sample_size <= points_size_ in function 'setPointsSize'\n",
      "\n"
     ]
    },
    {
     "name": "stderr",
     "output_type": "stream",
     "text": [
      "  1%|          | 121/18840 [00:01<03:01, 103.14it/s]"
     ]
    },
    {
     "name": "stdout",
     "output_type": "stream",
     "text": [
      "Found 4\n",
      "OpenCV(4.11.0) /io/opencv/modules/calib3d/src/usac/sampler.cpp:45: error: (-215:Assertion failed) sample_size <= points_size_ in function 'setPointsSize'\n",
      "\n"
     ]
    },
    {
     "name": "stderr",
     "output_type": "stream",
     "text": [
      "  1%|          | 197/18840 [00:02<04:20, 71.49it/s] "
     ]
    },
    {
     "name": "stdout",
     "output_type": "stream",
     "text": [
      "Found 0\n",
      "OpenCV(4.11.0) /io/opencv/modules/calib3d/src/usac/ransac_solvers.cpp:1047: error: (-2:Unspecified error) in function 'cv::usac::mergePoints(cv::InputArray, cv::InputArray, cv::Mat&, bool)::<lambda(cv::Mat&, int)>'\n",
      "> Invalid dimension of point (expected: 'points.cols >= pt_dim'), where\n",
      ">     'points.cols' is 0\n",
      "> must be greater than or equal to\n",
      ">     'pt_dim' is 2\n",
      "\n"
     ]
    },
    {
     "name": "stderr",
     "output_type": "stream",
     "text": [
      "  1%|          | 232/18840 [00:03<04:37, 67.04it/s]"
     ]
    },
    {
     "name": "stdout",
     "output_type": "stream",
     "text": [
      "Found 4\n",
      "OpenCV(4.11.0) /io/opencv/modules/calib3d/src/usac/sampler.cpp:45: error: (-215:Assertion failed) sample_size <= points_size_ in function 'setPointsSize'\n",
      "\n",
      "Found 2\n",
      "OpenCV(4.11.0) /io/opencv/modules/calib3d/src/usac/sampler.cpp:45: error: (-215:Assertion failed) sample_size <= points_size_ in function 'setPointsSize'\n",
      "\n"
     ]
    },
    {
     "name": "stderr",
     "output_type": "stream",
     "text": [
      "  2%|▏         | 346/18840 [00:05<05:35, 55.10it/s]"
     ]
    },
    {
     "name": "stdout",
     "output_type": "stream",
     "text": [
      "Found 1\n",
      "OpenCV(4.11.0) /io/opencv/modules/calib3d/src/usac/ransac_solvers.cpp:1047: error: (-2:Unspecified error) in function 'cv::usac::mergePoints(cv::InputArray, cv::InputArray, cv::Mat&, bool)::<lambda(cv::Mat&, int)>'\n",
      "> Invalid dimension of point (expected: 'points.cols >= pt_dim'), where\n",
      ">     'points.cols' is 1\n",
      "> must be greater than or equal to\n",
      ">     'pt_dim' is 2\n",
      "\n",
      "Found 0\n",
      "OpenCV(4.11.0) /io/opencv/modules/calib3d/src/usac/ransac_solvers.cpp:1047: error: (-2:Unspecified error) in function 'cv::usac::mergePoints(cv::InputArray, cv::InputArray, cv::Mat&, bool)::<lambda(cv::Mat&, int)>'\n",
      "> Invalid dimension of point (expected: 'points.cols >= pt_dim'), where\n",
      ">     'points.cols' is 0\n",
      "> must be greater than or equal to\n",
      ">     'pt_dim' is 2\n",
      "\n",
      "Found 3\n",
      "OpenCV(4.11.0) /io/opencv/modules/calib3d/src/usac/sampler.cpp:45: error: (-215:Assertion failed) sample_size <= points_size_ in function 'setPointsSize'\n",
      "\n",
      "Found 0\n",
      "OpenCV(4.11.0) /io/opencv/modules/calib3d/src/usac/ransac_solvers.cpp:1047: error: (-2:Unspecified error) in function 'cv::usac::mergePoints(cv::InputArray, cv::InputArray, cv::Mat&, bool)::<lambda(cv::Mat&, int)>'\n",
      "> Invalid dimension of point (expected: 'points.cols >= pt_dim'), where\n",
      ">     'points.cols' is 0\n",
      "> must be greater than or equal to\n",
      ">     'pt_dim' is 2\n",
      "\n",
      "Found 0\n",
      "OpenCV(4.11.0) /io/opencv/modules/calib3d/src/usac/ransac_solvers.cpp:1047: error: (-2:Unspecified error) in function 'cv::usac::mergePoints(cv::InputArray, cv::InputArray, cv::Mat&, bool)::<lambda(cv::Mat&, int)>'\n",
      "> Invalid dimension of point (expected: 'points.cols >= pt_dim'), where\n",
      ">     'points.cols' is 0\n",
      "> must be greater than or equal to\n",
      ">     'pt_dim' is 2\n",
      "\n"
     ]
    },
    {
     "name": "stderr",
     "output_type": "stream",
     "text": [
      "  2%|▏         | 436/18840 [00:07<04:37, 66.26it/s]"
     ]
    },
    {
     "name": "stdout",
     "output_type": "stream",
     "text": [
      "Found 0\n",
      "OpenCV(4.11.0) /io/opencv/modules/calib3d/src/usac/ransac_solvers.cpp:1047: error: (-2:Unspecified error) in function 'cv::usac::mergePoints(cv::InputArray, cv::InputArray, cv::Mat&, bool)::<lambda(cv::Mat&, int)>'\n",
      "> Invalid dimension of point (expected: 'points.cols >= pt_dim'), where\n",
      ">     'points.cols' is 0\n",
      "> must be greater than or equal to\n",
      ">     'pt_dim' is 2\n",
      "\n",
      "Found 0\n",
      "OpenCV(4.11.0) /io/opencv/modules/calib3d/src/usac/ransac_solvers.cpp:1047: error: (-2:Unspecified error) in function 'cv::usac::mergePoints(cv::InputArray, cv::InputArray, cv::Mat&, bool)::<lambda(cv::Mat&, int)>'\n",
      "> Invalid dimension of point (expected: 'points.cols >= pt_dim'), where\n",
      ">     'points.cols' is 0\n",
      "> must be greater than or equal to\n",
      ">     'pt_dim' is 2\n",
      "\n",
      "Found 4\n",
      "OpenCV(4.11.0) /io/opencv/modules/calib3d/src/usac/sampler.cpp:45: error: (-215:Assertion failed) sample_size <= points_size_ in function 'setPointsSize'\n",
      "\n",
      "Found 0\n",
      "OpenCV(4.11.0) /io/opencv/modules/calib3d/src/usac/ransac_solvers.cpp:1047: error: (-2:Unspecified error) in function 'cv::usac::mergePoints(cv::InputArray, cv::InputArray, cv::Mat&, bool)::<lambda(cv::Mat&, int)>'\n",
      "> Invalid dimension of point (expected: 'points.cols >= pt_dim'), where\n",
      ">     'points.cols' is 0\n",
      "> must be greater than or equal to\n",
      ">     'pt_dim' is 2\n",
      "\n",
      "Found 0\n",
      "OpenCV(4.11.0) /io/opencv/modules/calib3d/src/usac/ransac_solvers.cpp:1047: error: (-2:Unspecified error) in function 'cv::usac::mergePoints(cv::InputArray, cv::InputArray, cv::Mat&, bool)::<lambda(cv::Mat&, int)>'\n",
      "> Invalid dimension of point (expected: 'points.cols >= pt_dim'), where\n",
      ">     'points.cols' is 0\n",
      "> must be greater than or equal to\n",
      ">     'pt_dim' is 2\n",
      "\n",
      "Found 0\n",
      "OpenCV(4.11.0) /io/opencv/modules/calib3d/src/usac/ransac_solvers.cpp:1047: error: (-2:Unspecified error) in function 'cv::usac::mergePoints(cv::InputArray, cv::InputArray, cv::Mat&, bool)::<lambda(cv::Mat&, int)>'\n",
      "> Invalid dimension of point (expected: 'points.cols >= pt_dim'), where\n",
      ">     'points.cols' is 0\n",
      "> must be greater than or equal to\n",
      ">     'pt_dim' is 2\n",
      "\n",
      "Found 0\n",
      "OpenCV(4.11.0) /io/opencv/modules/calib3d/src/usac/ransac_solvers.cpp:1047: error: (-2:Unspecified error) in function 'cv::usac::mergePoints(cv::InputArray, cv::InputArray, cv::Mat&, bool)::<lambda(cv::Mat&, int)>'\n",
      "> Invalid dimension of point (expected: 'points.cols >= pt_dim'), where\n",
      ">     'points.cols' is 0\n",
      "> must be greater than or equal to\n",
      ">     'pt_dim' is 2\n",
      "\n",
      "Found 1\n",
      "OpenCV(4.11.0) /io/opencv/modules/calib3d/src/usac/ransac_solvers.cpp:1047: error: (-2:Unspecified error) in function 'cv::usac::mergePoints(cv::InputArray, cv::InputArray, cv::Mat&, bool)::<lambda(cv::Mat&, int)>'\n",
      "> Invalid dimension of point (expected: 'points.cols >= pt_dim'), where\n",
      ">     'points.cols' is 1\n",
      "> must be greater than or equal to\n",
      ">     'pt_dim' is 2\n",
      "\n",
      "Found 0\n",
      "OpenCV(4.11.0) /io/opencv/modules/calib3d/src/usac/ransac_solvers.cpp:1047: error: (-2:Unspecified error) in function 'cv::usac::mergePoints(cv::InputArray, cv::InputArray, cv::Mat&, bool)::<lambda(cv::Mat&, int)>'\n",
      "> Invalid dimension of point (expected: 'points.cols >= pt_dim'), where\n",
      ">     'points.cols' is 0\n",
      "> must be greater than or equal to\n",
      ">     'pt_dim' is 2\n",
      "\n",
      "Found 0\n",
      "OpenCV(4.11.0) /io/opencv/modules/calib3d/src/usac/ransac_solvers.cpp:1047: error: (-2:Unspecified error) in function 'cv::usac::mergePoints(cv::InputArray, cv::InputArray, cv::Mat&, bool)::<lambda(cv::Mat&, int)>'\n",
      "> Invalid dimension of point (expected: 'points.cols >= pt_dim'), where\n",
      ">     'points.cols' is 0\n",
      "> must be greater than or equal to\n",
      ">     'pt_dim' is 2\n",
      "\n"
     ]
    },
    {
     "name": "stderr",
     "output_type": "stream",
     "text": [
      "  2%|▏         | 443/18840 [00:07<05:08, 59.56it/s]"
     ]
    },
    {
     "name": "stdout",
     "output_type": "stream",
     "text": [
      "Found 0\n",
      "OpenCV(4.11.0) /io/opencv/modules/calib3d/src/usac/ransac_solvers.cpp:1047: error: (-2:Unspecified error) in function 'cv::usac::mergePoints(cv::InputArray, cv::InputArray, cv::Mat&, bool)::<lambda(cv::Mat&, int)>'\n",
      "> Invalid dimension of point (expected: 'points.cols >= pt_dim'), where\n",
      ">     'points.cols' is 0\n",
      "> must be greater than or equal to\n",
      ">     'pt_dim' is 2\n",
      "\n",
      "Found 0\n",
      "OpenCV(4.11.0) /io/opencv/modules/calib3d/src/usac/ransac_solvers.cpp:1047: error: (-2:Unspecified error) in function 'cv::usac::mergePoints(cv::InputArray, cv::InputArray, cv::Mat&, bool)::<lambda(cv::Mat&, int)>'\n",
      "> Invalid dimension of point (expected: 'points.cols >= pt_dim'), where\n",
      ">     'points.cols' is 0\n",
      "> must be greater than or equal to\n",
      ">     'pt_dim' is 2\n",
      "\n",
      "Found 1\n",
      "OpenCV(4.11.0) /io/opencv/modules/calib3d/src/usac/ransac_solvers.cpp:1047: error: (-2:Unspecified error) in function 'cv::usac::mergePoints(cv::InputArray, cv::InputArray, cv::Mat&, bool)::<lambda(cv::Mat&, int)>'\n",
      "> Invalid dimension of point (expected: 'points.cols >= pt_dim'), where\n",
      ">     'points.cols' is 1\n",
      "> must be greater than or equal to\n",
      ">     'pt_dim' is 2\n",
      "\n",
      "Found 0\n",
      "OpenCV(4.11.0) /io/opencv/modules/calib3d/src/usac/ransac_solvers.cpp:1047: error: (-2:Unspecified error) in function 'cv::usac::mergePoints(cv::InputArray, cv::InputArray, cv::Mat&, bool)::<lambda(cv::Mat&, int)>'\n",
      "> Invalid dimension of point (expected: 'points.cols >= pt_dim'), where\n",
      ">     'points.cols' is 0\n",
      "> must be greater than or equal to\n",
      ">     'pt_dim' is 2\n",
      "\n",
      "Found 0\n",
      "OpenCV(4.11.0) /io/opencv/modules/calib3d/src/usac/ransac_solvers.cpp:1047: error: (-2:Unspecified error) in function 'cv::usac::mergePoints(cv::InputArray, cv::InputArray, cv::Mat&, bool)::<lambda(cv::Mat&, int)>'\n",
      "> Invalid dimension of point (expected: 'points.cols >= pt_dim'), where\n",
      ">     'points.cols' is 0\n",
      "> must be greater than or equal to\n",
      ">     'pt_dim' is 2\n",
      "\n",
      "Found 0\n",
      "OpenCV(4.11.0) /io/opencv/modules/calib3d/src/usac/ransac_solvers.cpp:1047: error: (-2:Unspecified error) in function 'cv::usac::mergePoints(cv::InputArray, cv::InputArray, cv::Mat&, bool)::<lambda(cv::Mat&, int)>'\n",
      "> Invalid dimension of point (expected: 'points.cols >= pt_dim'), where\n",
      ">     'points.cols' is 0\n",
      "> must be greater than or equal to\n",
      ">     'pt_dim' is 2\n",
      "\n",
      "Found 0\n",
      "OpenCV(4.11.0) /io/opencv/modules/calib3d/src/usac/ransac_solvers.cpp:1047: error: (-2:Unspecified error) in function 'cv::usac::mergePoints(cv::InputArray, cv::InputArray, cv::Mat&, bool)::<lambda(cv::Mat&, int)>'\n",
      "> Invalid dimension of point (expected: 'points.cols >= pt_dim'), where\n",
      ">     'points.cols' is 0\n",
      "> must be greater than or equal to\n",
      ">     'pt_dim' is 2\n",
      "\n",
      "Found 0\n",
      "OpenCV(4.11.0) /io/opencv/modules/calib3d/src/usac/ransac_solvers.cpp:1047: error: (-2:Unspecified error) in function 'cv::usac::mergePoints(cv::InputArray, cv::InputArray, cv::Mat&, bool)::<lambda(cv::Mat&, int)>'\n",
      "> Invalid dimension of point (expected: 'points.cols >= pt_dim'), where\n",
      ">     'points.cols' is 0\n",
      "> must be greater than or equal to\n",
      ">     'pt_dim' is 2\n",
      "\n",
      "Found 0\n",
      "OpenCV(4.11.0) /io/opencv/modules/calib3d/src/usac/ransac_solvers.cpp:1047: error: (-2:Unspecified error) in function 'cv::usac::mergePoints(cv::InputArray, cv::InputArray, cv::Mat&, bool)::<lambda(cv::Mat&, int)>'\n",
      "> Invalid dimension of point (expected: 'points.cols >= pt_dim'), where\n",
      ">     'points.cols' is 0\n",
      "> must be greater than or equal to\n",
      ">     'pt_dim' is 2\n",
      "\n",
      "Found 1\n",
      "OpenCV(4.11.0) /io/opencv/modules/calib3d/src/usac/ransac_solvers.cpp:1047: error: (-2:Unspecified error) in function 'cv::usac::mergePoints(cv::InputArray, cv::InputArray, cv::Mat&, bool)::<lambda(cv::Mat&, int)>'\n",
      "> Invalid dimension of point (expected: 'points.cols >= pt_dim'), where\n",
      ">     'points.cols' is 1\n",
      "> must be greater than or equal to\n",
      ">     'pt_dim' is 2\n",
      "\n"
     ]
    },
    {
     "name": "stderr",
     "output_type": "stream",
     "text": [
      "  3%|▎         | 516/18840 [00:09<07:19, 41.72it/s]"
     ]
    },
    {
     "name": "stdout",
     "output_type": "stream",
     "text": [
      "Found 0\n",
      "OpenCV(4.11.0) /io/opencv/modules/calib3d/src/usac/ransac_solvers.cpp:1047: error: (-2:Unspecified error) in function 'cv::usac::mergePoints(cv::InputArray, cv::InputArray, cv::Mat&, bool)::<lambda(cv::Mat&, int)>'\n",
      "> Invalid dimension of point (expected: 'points.cols >= pt_dim'), where\n",
      ">     'points.cols' is 0\n",
      "> must be greater than or equal to\n",
      ">     'pt_dim' is 2\n",
      "\n"
     ]
    },
    {
     "name": "stderr",
     "output_type": "stream",
     "text": [
      "  3%|▎         | 578/18840 [00:10<07:12, 42.18it/s]"
     ]
    },
    {
     "name": "stdout",
     "output_type": "stream",
     "text": [
      "Found 0\n",
      "OpenCV(4.11.0) /io/opencv/modules/calib3d/src/usac/ransac_solvers.cpp:1047: error: (-2:Unspecified error) in function 'cv::usac::mergePoints(cv::InputArray, cv::InputArray, cv::Mat&, bool)::<lambda(cv::Mat&, int)>'\n",
      "> Invalid dimension of point (expected: 'points.cols >= pt_dim'), where\n",
      ">     'points.cols' is 0\n",
      "> must be greater than or equal to\n",
      ">     'pt_dim' is 2\n",
      "\n",
      "Found 1\n",
      "OpenCV(4.11.0) /io/opencv/modules/calib3d/src/usac/ransac_solvers.cpp:1047: error: (-2:Unspecified error) in function 'cv::usac::mergePoints(cv::InputArray, cv::InputArray, cv::Mat&, bool)::<lambda(cv::Mat&, int)>'\n",
      "> Invalid dimension of point (expected: 'points.cols >= pt_dim'), where\n",
      ">     'points.cols' is 1\n",
      "> must be greater than or equal to\n",
      ">     'pt_dim' is 2\n",
      "\n"
     ]
    },
    {
     "name": "stderr",
     "output_type": "stream",
     "text": [
      "  4%|▎         | 664/18840 [00:12<03:13, 94.16it/s]"
     ]
    },
    {
     "name": "stdout",
     "output_type": "stream",
     "text": [
      "Found 4\n",
      "OpenCV(4.11.0) /io/opencv/modules/calib3d/src/usac/sampler.cpp:45: error: (-215:Assertion failed) sample_size <= points_size_ in function 'setPointsSize'\n",
      "\n"
     ]
    },
    {
     "name": "stderr",
     "output_type": "stream",
     "text": [
      "  4%|▍         | 737/18840 [00:14<07:08, 42.29it/s]"
     ]
    },
    {
     "name": "stdout",
     "output_type": "stream",
     "text": [
      "Found 2\n",
      "OpenCV(4.11.0) /io/opencv/modules/calib3d/src/usac/sampler.cpp:45: error: (-215:Assertion failed) sample_size <= points_size_ in function 'setPointsSize'\n",
      "\n"
     ]
    },
    {
     "name": "stderr",
     "output_type": "stream",
     "text": [
      "  4%|▍         | 760/18840 [00:14<04:57, 60.86it/s]"
     ]
    },
    {
     "name": "stdout",
     "output_type": "stream",
     "text": [
      "Found 1\n",
      "OpenCV(4.11.0) /io/opencv/modules/calib3d/src/usac/ransac_solvers.cpp:1047: error: (-2:Unspecified error) in function 'cv::usac::mergePoints(cv::InputArray, cv::InputArray, cv::Mat&, bool)::<lambda(cv::Mat&, int)>'\n",
      "> Invalid dimension of point (expected: 'points.cols >= pt_dim'), where\n",
      ">     'points.cols' is 1\n",
      "> must be greater than or equal to\n",
      ">     'pt_dim' is 2\n",
      "\n"
     ]
    },
    {
     "name": "stderr",
     "output_type": "stream",
     "text": [
      "  4%|▍         | 784/18840 [00:15<06:51, 43.92it/s]"
     ]
    },
    {
     "name": "stdout",
     "output_type": "stream",
     "text": [
      "Found 0\n",
      "OpenCV(4.11.0) /io/opencv/modules/calib3d/src/usac/ransac_solvers.cpp:1047: error: (-2:Unspecified error) in function 'cv::usac::mergePoints(cv::InputArray, cv::InputArray, cv::Mat&, bool)::<lambda(cv::Mat&, int)>'\n",
      "> Invalid dimension of point (expected: 'points.cols >= pt_dim'), where\n",
      ">     'points.cols' is 0\n",
      "> must be greater than or equal to\n",
      ">     'pt_dim' is 2\n",
      "\n"
     ]
    },
    {
     "name": "stderr",
     "output_type": "stream",
     "text": [
      "  4%|▍         | 810/18840 [00:15<06:16, 47.87it/s]"
     ]
    },
    {
     "name": "stdout",
     "output_type": "stream",
     "text": [
      "Found 0\n",
      "OpenCV(4.11.0) /io/opencv/modules/calib3d/src/usac/ransac_solvers.cpp:1047: error: (-2:Unspecified error) in function 'cv::usac::mergePoints(cv::InputArray, cv::InputArray, cv::Mat&, bool)::<lambda(cv::Mat&, int)>'\n",
      "> Invalid dimension of point (expected: 'points.cols >= pt_dim'), where\n",
      ">     'points.cols' is 0\n",
      "> must be greater than or equal to\n",
      ">     'pt_dim' is 2\n",
      "\n"
     ]
    },
    {
     "name": "stderr",
     "output_type": "stream",
     "text": [
      "  5%|▌         | 1035/18840 [00:20<02:53, 102.67it/s]"
     ]
    },
    {
     "name": "stdout",
     "output_type": "stream",
     "text": [
      "Found 1\n",
      "OpenCV(4.11.0) /io/opencv/modules/calib3d/src/usac/ransac_solvers.cpp:1047: error: (-2:Unspecified error) in function 'cv::usac::mergePoints(cv::InputArray, cv::InputArray, cv::Mat&, bool)::<lambda(cv::Mat&, int)>'\n",
      "> Invalid dimension of point (expected: 'points.cols >= pt_dim'), where\n",
      ">     'points.cols' is 1\n",
      "> must be greater than or equal to\n",
      ">     'pt_dim' is 2\n",
      "\n",
      "Found 0\n",
      "OpenCV(4.11.0) /io/opencv/modules/calib3d/src/usac/ransac_solvers.cpp:1047: error: (-2:Unspecified error) in function 'cv::usac::mergePoints(cv::InputArray, cv::InputArray, cv::Mat&, bool)::<lambda(cv::Mat&, int)>'\n",
      "> Invalid dimension of point (expected: 'points.cols >= pt_dim'), where\n",
      ">     'points.cols' is 0\n",
      "> must be greater than or equal to\n",
      ">     'pt_dim' is 2\n",
      "\n",
      "Found 3\n",
      "OpenCV(4.11.0) /io/opencv/modules/calib3d/src/usac/sampler.cpp:45: error: (-215:Assertion failed) sample_size <= points_size_ in function 'setPointsSize'\n",
      "\n",
      "Found 0\n",
      "OpenCV(4.11.0) /io/opencv/modules/calib3d/src/usac/ransac_solvers.cpp:1047: error: (-2:Unspecified error) in function 'cv::usac::mergePoints(cv::InputArray, cv::InputArray, cv::Mat&, bool)::<lambda(cv::Mat&, int)>'\n",
      "> Invalid dimension of point (expected: 'points.cols >= pt_dim'), where\n",
      ">     'points.cols' is 0\n",
      "> must be greater than or equal to\n",
      ">     'pt_dim' is 2\n",
      "\n"
     ]
    },
    {
     "name": "stderr",
     "output_type": "stream",
     "text": [
      "  6%|▌         | 1084/18840 [00:21<04:19, 68.52it/s] "
     ]
    },
    {
     "name": "stdout",
     "output_type": "stream",
     "text": [
      "Found 0\n",
      "OpenCV(4.11.0) /io/opencv/modules/calib3d/src/usac/ransac_solvers.cpp:1047: error: (-2:Unspecified error) in function 'cv::usac::mergePoints(cv::InputArray, cv::InputArray, cv::Mat&, bool)::<lambda(cv::Mat&, int)>'\n",
      "> Invalid dimension of point (expected: 'points.cols >= pt_dim'), where\n",
      ">     'points.cols' is 0\n",
      "> must be greater than or equal to\n",
      ">     'pt_dim' is 2\n",
      "\n"
     ]
    },
    {
     "name": "stderr",
     "output_type": "stream",
     "text": [
      "  6%|▌         | 1176/18840 [00:22<02:47, 105.18it/s]"
     ]
    },
    {
     "name": "stdout",
     "output_type": "stream",
     "text": [
      "Found 1\n",
      "OpenCV(4.11.0) /io/opencv/modules/calib3d/src/usac/ransac_solvers.cpp:1047: error: (-2:Unspecified error) in function 'cv::usac::mergePoints(cv::InputArray, cv::InputArray, cv::Mat&, bool)::<lambda(cv::Mat&, int)>'\n",
      "> Invalid dimension of point (expected: 'points.cols >= pt_dim'), where\n",
      ">     'points.cols' is 1\n",
      "> must be greater than or equal to\n",
      ">     'pt_dim' is 2\n",
      "\n",
      "Found 3\n",
      "OpenCV(4.11.0) /io/opencv/modules/calib3d/src/usac/sampler.cpp:45: error: (-215:Assertion failed) sample_size <= points_size_ in function 'setPointsSize'\n",
      "\n"
     ]
    },
    {
     "name": "stderr",
     "output_type": "stream",
     "text": [
      "  7%|▋         | 1231/18840 [00:23<05:50, 50.22it/s] "
     ]
    },
    {
     "name": "stdout",
     "output_type": "stream",
     "text": [
      "Found 0\n",
      "OpenCV(4.11.0) /io/opencv/modules/calib3d/src/usac/ransac_solvers.cpp:1047: error: (-2:Unspecified error) in function 'cv::usac::mergePoints(cv::InputArray, cv::InputArray, cv::Mat&, bool)::<lambda(cv::Mat&, int)>'\n",
      "> Invalid dimension of point (expected: 'points.cols >= pt_dim'), where\n",
      ">     'points.cols' is 0\n",
      "> must be greater than or equal to\n",
      ">     'pt_dim' is 2\n",
      "\n"
     ]
    },
    {
     "name": "stderr",
     "output_type": "stream",
     "text": [
      "  7%|▋         | 1259/18840 [00:24<06:07, 47.86it/s]"
     ]
    },
    {
     "name": "stdout",
     "output_type": "stream",
     "text": [
      "Found 1\n",
      "OpenCV(4.11.0) /io/opencv/modules/calib3d/src/usac/ransac_solvers.cpp:1047: error: (-2:Unspecified error) in function 'cv::usac::mergePoints(cv::InputArray, cv::InputArray, cv::Mat&, bool)::<lambda(cv::Mat&, int)>'\n",
      "> Invalid dimension of point (expected: 'points.cols >= pt_dim'), where\n",
      ">     'points.cols' is 1\n",
      "> must be greater than or equal to\n",
      ">     'pt_dim' is 2\n",
      "\n"
     ]
    },
    {
     "name": "stderr",
     "output_type": "stream",
     "text": [
      "  8%|▊         | 1426/18840 [00:27<05:46, 50.32it/s]"
     ]
    },
    {
     "name": "stdout",
     "output_type": "stream",
     "text": [
      "Found 0\n",
      "OpenCV(4.11.0) /io/opencv/modules/calib3d/src/usac/ransac_solvers.cpp:1047: error: (-2:Unspecified error) in function 'cv::usac::mergePoints(cv::InputArray, cv::InputArray, cv::Mat&, bool)::<lambda(cv::Mat&, int)>'\n",
      "> Invalid dimension of point (expected: 'points.cols >= pt_dim'), where\n",
      ">     'points.cols' is 0\n",
      "> must be greater than or equal to\n",
      ">     'pt_dim' is 2\n",
      "\n"
     ]
    },
    {
     "name": "stderr",
     "output_type": "stream",
     "text": [
      "  8%|▊         | 1514/18840 [00:29<05:43, 50.44it/s]"
     ]
    },
    {
     "name": "stdout",
     "output_type": "stream",
     "text": [
      "Found 1\n",
      "OpenCV(4.11.0) /io/opencv/modules/calib3d/src/usac/ransac_solvers.cpp:1047: error: (-2:Unspecified error) in function 'cv::usac::mergePoints(cv::InputArray, cv::InputArray, cv::Mat&, bool)::<lambda(cv::Mat&, int)>'\n",
      "> Invalid dimension of point (expected: 'points.cols >= pt_dim'), where\n",
      ">     'points.cols' is 1\n",
      "> must be greater than or equal to\n",
      ">     'pt_dim' is 2\n",
      "\n",
      "Found 1\n",
      "OpenCV(4.11.0) /io/opencv/modules/calib3d/src/usac/ransac_solvers.cpp:1047: error: (-2:Unspecified error) in function 'cv::usac::mergePoints(cv::InputArray, cv::InputArray, cv::Mat&, bool)::<lambda(cv::Mat&, int)>'\n",
      "> Invalid dimension of point (expected: 'points.cols >= pt_dim'), where\n",
      ">     'points.cols' is 1\n",
      "> must be greater than or equal to\n",
      ">     'pt_dim' is 2\n",
      "\n",
      "Found 0\n",
      "OpenCV(4.11.0) /io/opencv/modules/calib3d/src/usac/ransac_solvers.cpp:1047: error: (-2:Unspecified error) in function 'cv::usac::mergePoints(cv::InputArray, cv::InputArray, cv::Mat&, bool)::<lambda(cv::Mat&, int)>'\n",
      "> Invalid dimension of point (expected: 'points.cols >= pt_dim'), where\n",
      ">     'points.cols' is 0\n",
      "> must be greater than or equal to\n",
      ">     'pt_dim' is 2\n",
      "\n",
      "Found 0\n",
      "OpenCV(4.11.0) /io/opencv/modules/calib3d/src/usac/ransac_solvers.cpp:1047: error: (-2:Unspecified error) in function 'cv::usac::mergePoints(cv::InputArray, cv::InputArray, cv::Mat&, bool)::<lambda(cv::Mat&, int)>'\n",
      "> Invalid dimension of point (expected: 'points.cols >= pt_dim'), where\n",
      ">     'points.cols' is 0\n",
      "> must be greater than or equal to\n",
      ">     'pt_dim' is 2\n",
      "\n",
      "Found 3\n",
      "OpenCV(4.11.0) /io/opencv/modules/calib3d/src/usac/sampler.cpp:45: error: (-215:Assertion failed) sample_size <= points_size_ in function 'setPointsSize'\n",
      "\n",
      "Found 1\n",
      "OpenCV(4.11.0) /io/opencv/modules/calib3d/src/usac/ransac_solvers.cpp:1047: error: (-2:Unspecified error) in function 'cv::usac::mergePoints(cv::InputArray, cv::InputArray, cv::Mat&, bool)::<lambda(cv::Mat&, int)>'\n",
      "> Invalid dimension of point (expected: 'points.cols >= pt_dim'), where\n",
      ">     'points.cols' is 1\n",
      "> must be greater than or equal to\n",
      ">     'pt_dim' is 2\n",
      "\n",
      "Found 0\n",
      "OpenCV(4.11.0) /io/opencv/modules/calib3d/src/usac/ransac_solvers.cpp:1047: error: (-2:Unspecified error) in function 'cv::usac::mergePoints(cv::InputArray, cv::InputArray, cv::Mat&, bool)::<lambda(cv::Mat&, int)>'\n",
      "> Invalid dimension of point (expected: 'points.cols >= pt_dim'), where\n",
      ">     'points.cols' is 0\n",
      "> must be greater than or equal to\n",
      ">     'pt_dim' is 2\n",
      "\n",
      "Found 1\n",
      "OpenCV(4.11.0) /io/opencv/modules/calib3d/src/usac/ransac_solvers.cpp:1047: error: (-2:Unspecified error) in function 'cv::usac::mergePoints(cv::InputArray, cv::InputArray, cv::Mat&, bool)::<lambda(cv::Mat&, int)>'\n",
      "> Invalid dimension of point (expected: 'points.cols >= pt_dim'), where\n",
      ">     'points.cols' is 1\n",
      "> must be greater than or equal to\n",
      ">     'pt_dim' is 2\n",
      "\n",
      "Found 0\n",
      "OpenCV(4.11.0) /io/opencv/modules/calib3d/src/usac/ransac_solvers.cpp:1047: error: (-2:Unspecified error) in function 'cv::usac::mergePoints(cv::InputArray, cv::InputArray, cv::Mat&, bool)::<lambda(cv::Mat&, int)>'\n",
      "> Invalid dimension of point (expected: 'points.cols >= pt_dim'), where\n",
      ">     'points.cols' is 0\n",
      "> must be greater than or equal to\n",
      ">     'pt_dim' is 2\n",
      "\n",
      "Found 0\n",
      "OpenCV(4.11.0) /io/opencv/modules/calib3d/src/usac/ransac_solvers.cpp:1047: error: (-2:Unspecified error) in function 'cv::usac::mergePoints(cv::InputArray, cv::InputArray, cv::Mat&, bool)::<lambda(cv::Mat&, int)>'\n",
      "> Invalid dimension of point (expected: 'points.cols >= pt_dim'), where\n",
      ">     'points.cols' is 0\n",
      "> must be greater than or equal to\n",
      ">     'pt_dim' is 2\n",
      "\n"
     ]
    },
    {
     "name": "stderr",
     "output_type": "stream",
     "text": [
      "  8%|▊         | 1526/18840 [00:29<05:31, 52.24it/s]"
     ]
    },
    {
     "name": "stdout",
     "output_type": "stream",
     "text": [
      "Found 0\n",
      "OpenCV(4.11.0) /io/opencv/modules/calib3d/src/usac/ransac_solvers.cpp:1047: error: (-2:Unspecified error) in function 'cv::usac::mergePoints(cv::InputArray, cv::InputArray, cv::Mat&, bool)::<lambda(cv::Mat&, int)>'\n",
      "> Invalid dimension of point (expected: 'points.cols >= pt_dim'), where\n",
      ">     'points.cols' is 0\n",
      "> must be greater than or equal to\n",
      ">     'pt_dim' is 2\n",
      "\n",
      "Found 0\n",
      "OpenCV(4.11.0) /io/opencv/modules/calib3d/src/usac/ransac_solvers.cpp:1047: error: (-2:Unspecified error) in function 'cv::usac::mergePoints(cv::InputArray, cv::InputArray, cv::Mat&, bool)::<lambda(cv::Mat&, int)>'\n",
      "> Invalid dimension of point (expected: 'points.cols >= pt_dim'), where\n",
      ">     'points.cols' is 0\n",
      "> must be greater than or equal to\n",
      ">     'pt_dim' is 2\n",
      "\n",
      "Found 0\n",
      "OpenCV(4.11.0) /io/opencv/modules/calib3d/src/usac/ransac_solvers.cpp:1047: error: (-2:Unspecified error) in function 'cv::usac::mergePoints(cv::InputArray, cv::InputArray, cv::Mat&, bool)::<lambda(cv::Mat&, int)>'\n",
      "> Invalid dimension of point (expected: 'points.cols >= pt_dim'), where\n",
      ">     'points.cols' is 0\n",
      "> must be greater than or equal to\n",
      ">     'pt_dim' is 2\n",
      "\n",
      "Found 0\n",
      "OpenCV(4.11.0) /io/opencv/modules/calib3d/src/usac/ransac_solvers.cpp:1047: error: (-2:Unspecified error) in function 'cv::usac::mergePoints(cv::InputArray, cv::InputArray, cv::Mat&, bool)::<lambda(cv::Mat&, int)>'\n",
      "> Invalid dimension of point (expected: 'points.cols >= pt_dim'), where\n",
      ">     'points.cols' is 0\n",
      "> must be greater than or equal to\n",
      ">     'pt_dim' is 2\n",
      "\n",
      "Found 0\n",
      "OpenCV(4.11.0) /io/opencv/modules/calib3d/src/usac/ransac_solvers.cpp:1047: error: (-2:Unspecified error) in function 'cv::usac::mergePoints(cv::InputArray, cv::InputArray, cv::Mat&, bool)::<lambda(cv::Mat&, int)>'\n",
      "> Invalid dimension of point (expected: 'points.cols >= pt_dim'), where\n",
      ">     'points.cols' is 0\n",
      "> must be greater than or equal to\n",
      ">     'pt_dim' is 2\n",
      "\n",
      "Found 0\n",
      "OpenCV(4.11.0) /io/opencv/modules/calib3d/src/usac/ransac_solvers.cpp:1047: error: (-2:Unspecified error) in function 'cv::usac::mergePoints(cv::InputArray, cv::InputArray, cv::Mat&, bool)::<lambda(cv::Mat&, int)>'\n",
      "> Invalid dimension of point (expected: 'points.cols >= pt_dim'), where\n",
      ">     'points.cols' is 0\n",
      "> must be greater than or equal to\n",
      ">     'pt_dim' is 2\n",
      "\n",
      "Found 0\n",
      "OpenCV(4.11.0) /io/opencv/modules/calib3d/src/usac/ransac_solvers.cpp:1047: error: (-2:Unspecified error) in function 'cv::usac::mergePoints(cv::InputArray, cv::InputArray, cv::Mat&, bool)::<lambda(cv::Mat&, int)>'\n",
      "> Invalid dimension of point (expected: 'points.cols >= pt_dim'), where\n",
      ">     'points.cols' is 0\n",
      "> must be greater than or equal to\n",
      ">     'pt_dim' is 2\n",
      "\n",
      "Found 0\n",
      "OpenCV(4.11.0) /io/opencv/modules/calib3d/src/usac/ransac_solvers.cpp:1047: error: (-2:Unspecified error) in function 'cv::usac::mergePoints(cv::InputArray, cv::InputArray, cv::Mat&, bool)::<lambda(cv::Mat&, int)>'\n",
      "> Invalid dimension of point (expected: 'points.cols >= pt_dim'), where\n",
      ">     'points.cols' is 0\n",
      "> must be greater than or equal to\n",
      ">     'pt_dim' is 2\n",
      "\n",
      "Found 0\n",
      "OpenCV(4.11.0) /io/opencv/modules/calib3d/src/usac/ransac_solvers.cpp:1047: error: (-2:Unspecified error) in function 'cv::usac::mergePoints(cv::InputArray, cv::InputArray, cv::Mat&, bool)::<lambda(cv::Mat&, int)>'\n",
      "> Invalid dimension of point (expected: 'points.cols >= pt_dim'), where\n",
      ">     'points.cols' is 0\n",
      "> must be greater than or equal to\n",
      ">     'pt_dim' is 2\n",
      "\n",
      "Found 0\n",
      "OpenCV(4.11.0) /io/opencv/modules/calib3d/src/usac/ransac_solvers.cpp:1047: error: (-2:Unspecified error) in function 'cv::usac::mergePoints(cv::InputArray, cv::InputArray, cv::Mat&, bool)::<lambda(cv::Mat&, int)>'\n",
      "> Invalid dimension of point (expected: 'points.cols >= pt_dim'), where\n",
      ">     'points.cols' is 0\n",
      "> must be greater than or equal to\n",
      ">     'pt_dim' is 2\n",
      "\n"
     ]
    },
    {
     "name": "stderr",
     "output_type": "stream",
     "text": [
      "  8%|▊         | 1538/18840 [00:29<05:21, 53.84it/s]"
     ]
    },
    {
     "name": "stdout",
     "output_type": "stream",
     "text": [
      "Found 0\n",
      "OpenCV(4.11.0) /io/opencv/modules/calib3d/src/usac/ransac_solvers.cpp:1047: error: (-2:Unspecified error) in function 'cv::usac::mergePoints(cv::InputArray, cv::InputArray, cv::Mat&, bool)::<lambda(cv::Mat&, int)>'\n",
      "> Invalid dimension of point (expected: 'points.cols >= pt_dim'), where\n",
      ">     'points.cols' is 0\n",
      "> must be greater than or equal to\n",
      ">     'pt_dim' is 2\n",
      "\n",
      "Found 1\n",
      "OpenCV(4.11.0) /io/opencv/modules/calib3d/src/usac/ransac_solvers.cpp:1047: error: (-2:Unspecified error) in function 'cv::usac::mergePoints(cv::InputArray, cv::InputArray, cv::Mat&, bool)::<lambda(cv::Mat&, int)>'\n",
      "> Invalid dimension of point (expected: 'points.cols >= pt_dim'), where\n",
      ">     'points.cols' is 1\n",
      "> must be greater than or equal to\n",
      ">     'pt_dim' is 2\n",
      "\n",
      "Found 0\n",
      "OpenCV(4.11.0) /io/opencv/modules/calib3d/src/usac/ransac_solvers.cpp:1047: error: (-2:Unspecified error) in function 'cv::usac::mergePoints(cv::InputArray, cv::InputArray, cv::Mat&, bool)::<lambda(cv::Mat&, int)>'\n",
      "> Invalid dimension of point (expected: 'points.cols >= pt_dim'), where\n",
      ">     'points.cols' is 0\n",
      "> must be greater than or equal to\n",
      ">     'pt_dim' is 2\n",
      "\n",
      "Found 1\n",
      "OpenCV(4.11.0) /io/opencv/modules/calib3d/src/usac/ransac_solvers.cpp:1047: error: (-2:Unspecified error) in function 'cv::usac::mergePoints(cv::InputArray, cv::InputArray, cv::Mat&, bool)::<lambda(cv::Mat&, int)>'\n",
      "> Invalid dimension of point (expected: 'points.cols >= pt_dim'), where\n",
      ">     'points.cols' is 1\n",
      "> must be greater than or equal to\n",
      ">     'pt_dim' is 2\n",
      "\n",
      "Found 0\n",
      "OpenCV(4.11.0) /io/opencv/modules/calib3d/src/usac/ransac_solvers.cpp:1047: error: (-2:Unspecified error) in function 'cv::usac::mergePoints(cv::InputArray, cv::InputArray, cv::Mat&, bool)::<lambda(cv::Mat&, int)>'\n",
      "> Invalid dimension of point (expected: 'points.cols >= pt_dim'), where\n",
      ">     'points.cols' is 0\n",
      "> must be greater than or equal to\n",
      ">     'pt_dim' is 2\n",
      "\n",
      "Found 1\n",
      "OpenCV(4.11.0) /io/opencv/modules/calib3d/src/usac/ransac_solvers.cpp:1047: error: (-2:Unspecified error) in function 'cv::usac::mergePoints(cv::InputArray, cv::InputArray, cv::Mat&, bool)::<lambda(cv::Mat&, int)>'\n",
      "> Invalid dimension of point (expected: 'points.cols >= pt_dim'), where\n",
      ">     'points.cols' is 1\n",
      "> must be greater than or equal to\n",
      ">     'pt_dim' is 2\n",
      "\n",
      "Found 2\n",
      "OpenCV(4.11.0) /io/opencv/modules/calib3d/src/usac/sampler.cpp:45: error: (-215:Assertion failed) sample_size <= points_size_ in function 'setPointsSize'\n",
      "\n",
      "Found 0\n",
      "OpenCV(4.11.0) /io/opencv/modules/calib3d/src/usac/ransac_solvers.cpp:1047: error: (-2:Unspecified error) in function 'cv::usac::mergePoints(cv::InputArray, cv::InputArray, cv::Mat&, bool)::<lambda(cv::Mat&, int)>'\n",
      "> Invalid dimension of point (expected: 'points.cols >= pt_dim'), where\n",
      ">     'points.cols' is 0\n",
      "> must be greater than or equal to\n",
      ">     'pt_dim' is 2\n",
      "\n"
     ]
    },
    {
     "name": "stderr",
     "output_type": "stream",
     "text": [
      "  9%|▊         | 1620/18840 [00:32<03:26, 83.20it/s]"
     ]
    },
    {
     "name": "stdout",
     "output_type": "stream",
     "text": [
      "Found 0\n",
      "OpenCV(4.11.0) /io/opencv/modules/calib3d/src/usac/ransac_solvers.cpp:1047: error: (-2:Unspecified error) in function 'cv::usac::mergePoints(cv::InputArray, cv::InputArray, cv::Mat&, bool)::<lambda(cv::Mat&, int)>'\n",
      "> Invalid dimension of point (expected: 'points.cols >= pt_dim'), where\n",
      ">     'points.cols' is 0\n",
      "> must be greater than or equal to\n",
      ">     'pt_dim' is 2\n",
      "\n",
      "Found 0\n",
      "OpenCV(4.11.0) /io/opencv/modules/calib3d/src/usac/ransac_solvers.cpp:1047: error: (-2:Unspecified error) in function 'cv::usac::mergePoints(cv::InputArray, cv::InputArray, cv::Mat&, bool)::<lambda(cv::Mat&, int)>'\n",
      "> Invalid dimension of point (expected: 'points.cols >= pt_dim'), where\n",
      ">     'points.cols' is 0\n",
      "> must be greater than or equal to\n",
      ">     'pt_dim' is 2\n",
      "\n",
      "Found 0\n",
      "OpenCV(4.11.0) /io/opencv/modules/calib3d/src/usac/ransac_solvers.cpp:1047: error: (-2:Unspecified error) in function 'cv::usac::mergePoints(cv::InputArray, cv::InputArray, cv::Mat&, bool)::<lambda(cv::Mat&, int)>'\n",
      "> Invalid dimension of point (expected: 'points.cols >= pt_dim'), where\n",
      ">     'points.cols' is 0\n",
      "> must be greater than or equal to\n",
      ">     'pt_dim' is 2\n",
      "\n",
      "Found 1\n",
      "OpenCV(4.11.0) /io/opencv/modules/calib3d/src/usac/ransac_solvers.cpp:1047: error: (-2:Unspecified error) in function 'cv::usac::mergePoints(cv::InputArray, cv::InputArray, cv::Mat&, bool)::<lambda(cv::Mat&, int)>'\n",
      "> Invalid dimension of point (expected: 'points.cols >= pt_dim'), where\n",
      ">     'points.cols' is 1\n",
      "> must be greater than or equal to\n",
      ">     'pt_dim' is 2\n",
      "\n",
      "Found 0\n",
      "OpenCV(4.11.0) /io/opencv/modules/calib3d/src/usac/ransac_solvers.cpp:1047: error: (-2:Unspecified error) in function 'cv::usac::mergePoints(cv::InputArray, cv::InputArray, cv::Mat&, bool)::<lambda(cv::Mat&, int)>'\n",
      "> Invalid dimension of point (expected: 'points.cols >= pt_dim'), where\n",
      ">     'points.cols' is 0\n",
      "> must be greater than or equal to\n",
      ">     'pt_dim' is 2\n",
      "\n",
      "Found 0\n",
      "OpenCV(4.11.0) /io/opencv/modules/calib3d/src/usac/ransac_solvers.cpp:1047: error: (-2:Unspecified error) in function 'cv::usac::mergePoints(cv::InputArray, cv::InputArray, cv::Mat&, bool)::<lambda(cv::Mat&, int)>'\n",
      "> Invalid dimension of point (expected: 'points.cols >= pt_dim'), where\n",
      ">     'points.cols' is 0\n",
      "> must be greater than or equal to\n",
      ">     'pt_dim' is 2\n",
      "\n",
      "Found 0\n",
      "OpenCV(4.11.0) /io/opencv/modules/calib3d/src/usac/ransac_solvers.cpp:1047: error: (-2:Unspecified error) in function 'cv::usac::mergePoints(cv::InputArray, cv::InputArray, cv::Mat&, bool)::<lambda(cv::Mat&, int)>'\n",
      "> Invalid dimension of point (expected: 'points.cols >= pt_dim'), where\n",
      ">     'points.cols' is 0\n",
      "> must be greater than or equal to\n",
      ">     'pt_dim' is 2\n",
      "\n",
      "Found 0\n",
      "OpenCV(4.11.0) /io/opencv/modules/calib3d/src/usac/ransac_solvers.cpp:1047: error: (-2:Unspecified error) in function 'cv::usac::mergePoints(cv::InputArray, cv::InputArray, cv::Mat&, bool)::<lambda(cv::Mat&, int)>'\n",
      "> Invalid dimension of point (expected: 'points.cols >= pt_dim'), where\n",
      ">     'points.cols' is 0\n",
      "> must be greater than or equal to\n",
      ">     'pt_dim' is 2\n",
      "\n",
      "Found 0\n",
      "OpenCV(4.11.0) /io/opencv/modules/calib3d/src/usac/ransac_solvers.cpp:1047: error: (-2:Unspecified error) in function 'cv::usac::mergePoints(cv::InputArray, cv::InputArray, cv::Mat&, bool)::<lambda(cv::Mat&, int)>'\n",
      "> Invalid dimension of point (expected: 'points.cols >= pt_dim'), where\n",
      ">     'points.cols' is 0\n",
      "> must be greater than or equal to\n",
      ">     'pt_dim' is 2\n",
      "\n",
      "Found 0\n",
      "OpenCV(4.11.0) /io/opencv/modules/calib3d/src/usac/ransac_solvers.cpp:1047: error: (-2:Unspecified error) in function 'cv::usac::mergePoints(cv::InputArray, cv::InputArray, cv::Mat&, bool)::<lambda(cv::Mat&, int)>'\n",
      "> Invalid dimension of point (expected: 'points.cols >= pt_dim'), where\n",
      ">     'points.cols' is 0\n",
      "> must be greater than or equal to\n",
      ">     'pt_dim' is 2\n",
      "\n",
      "Found 0\n",
      "OpenCV(4.11.0) /io/opencv/modules/calib3d/src/usac/ransac_solvers.cpp:1047: error: (-2:Unspecified error) in function 'cv::usac::mergePoints(cv::InputArray, cv::InputArray, cv::Mat&, bool)::<lambda(cv::Mat&, int)>'\n",
      "> Invalid dimension of point (expected: 'points.cols >= pt_dim'), where\n",
      ">     'points.cols' is 0\n",
      "> must be greater than or equal to\n",
      ">     'pt_dim' is 2\n",
      "\n",
      "Found 1\n",
      "OpenCV(4.11.0) /io/opencv/modules/calib3d/src/usac/ransac_solvers.cpp:1047: error: (-2:Unspecified error) in function 'cv::usac::mergePoints(cv::InputArray, cv::InputArray, cv::Mat&, bool)::<lambda(cv::Mat&, int)>'\n",
      "> Invalid dimension of point (expected: 'points.cols >= pt_dim'), where\n",
      ">     'points.cols' is 1\n",
      "> must be greater than or equal to\n",
      ">     'pt_dim' is 2\n",
      "\n",
      "Found 0\n",
      "OpenCV(4.11.0) /io/opencv/modules/calib3d/src/usac/ransac_solvers.cpp:1047: error: (-2:Unspecified error) in function 'cv::usac::mergePoints(cv::InputArray, cv::InputArray, cv::Mat&, bool)::<lambda(cv::Mat&, int)>'\n",
      "> Invalid dimension of point (expected: 'points.cols >= pt_dim'), where\n",
      ">     'points.cols' is 0\n",
      "> must be greater than or equal to\n",
      ">     'pt_dim' is 2\n",
      "\n",
      "Found 0\n",
      "OpenCV(4.11.0) /io/opencv/modules/calib3d/src/usac/ransac_solvers.cpp:1047: error: (-2:Unspecified error) in function 'cv::usac::mergePoints(cv::InputArray, cv::InputArray, cv::Mat&, bool)::<lambda(cv::Mat&, int)>'\n",
      "> Invalid dimension of point (expected: 'points.cols >= pt_dim'), where\n",
      ">     'points.cols' is 0\n",
      "> must be greater than or equal to\n",
      ">     'pt_dim' is 2\n",
      "\n",
      "Found 0\n",
      "OpenCV(4.11.0) /io/opencv/modules/calib3d/src/usac/ransac_solvers.cpp:1047: error: (-2:Unspecified error) in function 'cv::usac::mergePoints(cv::InputArray, cv::InputArray, cv::Mat&, bool)::<lambda(cv::Mat&, int)>'\n",
      "> Invalid dimension of point (expected: 'points.cols >= pt_dim'), where\n",
      ">     'points.cols' is 0\n",
      "> must be greater than or equal to\n",
      ">     'pt_dim' is 2\n",
      "\n",
      "Found 0\n",
      "OpenCV(4.11.0) /io/opencv/modules/calib3d/src/usac/ransac_solvers.cpp:1047: error: (-2:Unspecified error) in function 'cv::usac::mergePoints(cv::InputArray, cv::InputArray, cv::Mat&, bool)::<lambda(cv::Mat&, int)>'\n",
      "> Invalid dimension of point (expected: 'points.cols >= pt_dim'), where\n",
      ">     'points.cols' is 0\n",
      "> must be greater than or equal to\n",
      ">     'pt_dim' is 2\n",
      "\n",
      "Found 0\n",
      "OpenCV(4.11.0) /io/opencv/modules/calib3d/src/usac/ransac_solvers.cpp:1047: error: (-2:Unspecified error) in function 'cv::usac::mergePoints(cv::InputArray, cv::InputArray, cv::Mat&, bool)::<lambda(cv::Mat&, int)>'\n",
      "> Invalid dimension of point (expected: 'points.cols >= pt_dim'), where\n",
      ">     'points.cols' is 0\n",
      "> must be greater than or equal to\n",
      ">     'pt_dim' is 2\n",
      "\n",
      "Found 0\n",
      "OpenCV(4.11.0) /io/opencv/modules/calib3d/src/usac/ransac_solvers.cpp:1047: error: (-2:Unspecified error) in function 'cv::usac::mergePoints(cv::InputArray, cv::InputArray, cv::Mat&, bool)::<lambda(cv::Mat&, int)>'\n",
      "> Invalid dimension of point (expected: 'points.cols >= pt_dim'), where\n",
      ">     'points.cols' is 0\n",
      "> must be greater than or equal to\n",
      ">     'pt_dim' is 2\n",
      "\n",
      "Found 0\n",
      "OpenCV(4.11.0) /io/opencv/modules/calib3d/src/usac/ransac_solvers.cpp:1047: error: (-2:Unspecified error) in function 'cv::usac::mergePoints(cv::InputArray, cv::InputArray, cv::Mat&, bool)::<lambda(cv::Mat&, int)>'\n",
      "> Invalid dimension of point (expected: 'points.cols >= pt_dim'), where\n",
      ">     'points.cols' is 0\n",
      "> must be greater than or equal to\n",
      ">     'pt_dim' is 2\n",
      "\n",
      "Found 1\n",
      "OpenCV(4.11.0) /io/opencv/modules/calib3d/src/usac/ransac_solvers.cpp:1047: error: (-2:Unspecified error) in function 'cv::usac::mergePoints(cv::InputArray, cv::InputArray, cv::Mat&, bool)::<lambda(cv::Mat&, int)>'\n",
      "> Invalid dimension of point (expected: 'points.cols >= pt_dim'), where\n",
      ">     'points.cols' is 1\n",
      "> must be greater than or equal to\n",
      ">     'pt_dim' is 2\n",
      "\n",
      "OpenCV(4.11.0) /io/opencv/modules/calib3d/src/usac/estimator.cpp:353: error: (-215:Assertion failed) !model.empty() in function 'setModelParameters'\n",
      "\n",
      "Found 1\n",
      "OpenCV(4.11.0) /io/opencv/modules/calib3d/src/usac/ransac_solvers.cpp:1047: error: (-2:Unspecified error) in function 'cv::usac::mergePoints(cv::InputArray, cv::InputArray, cv::Mat&, bool)::<lambda(cv::Mat&, int)>'\n",
      "> Invalid dimension of point (expected: 'points.cols >= pt_dim'), where\n",
      ">     'points.cols' is 1\n",
      "> must be greater than or equal to\n",
      ">     'pt_dim' is 2\n",
      "\n"
     ]
    },
    {
     "name": "stderr",
     "output_type": "stream",
     "text": [
      "  9%|▉         | 1718/18840 [00:34<06:26, 44.32it/s]"
     ]
    },
    {
     "name": "stdout",
     "output_type": "stream",
     "text": [
      "Found 0\n",
      "OpenCV(4.11.0) /io/opencv/modules/calib3d/src/usac/ransac_solvers.cpp:1047: error: (-2:Unspecified error) in function 'cv::usac::mergePoints(cv::InputArray, cv::InputArray, cv::Mat&, bool)::<lambda(cv::Mat&, int)>'\n",
      "> Invalid dimension of point (expected: 'points.cols >= pt_dim'), where\n",
      ">     'points.cols' is 0\n",
      "> must be greater than or equal to\n",
      ">     'pt_dim' is 2\n",
      "\n",
      "Found 6\n",
      "OpenCV(4.11.0) /io/opencv/modules/calib3d/src/usac/sampler.cpp:45: error: (-215:Assertion failed) sample_size <= points_size_ in function 'setPointsSize'\n",
      "\n"
     ]
    },
    {
     "name": "stderr",
     "output_type": "stream",
     "text": [
      "  9%|▉         | 1728/18840 [00:34<06:56, 41.08it/s]"
     ]
    },
    {
     "name": "stdout",
     "output_type": "stream",
     "text": [
      "Found 1\n",
      "OpenCV(4.11.0) /io/opencv/modules/calib3d/src/usac/ransac_solvers.cpp:1047: error: (-2:Unspecified error) in function 'cv::usac::mergePoints(cv::InputArray, cv::InputArray, cv::Mat&, bool)::<lambda(cv::Mat&, int)>'\n",
      "> Invalid dimension of point (expected: 'points.cols >= pt_dim'), where\n",
      ">     'points.cols' is 1\n",
      "> must be greater than or equal to\n",
      ">     'pt_dim' is 2\n",
      "\n"
     ]
    },
    {
     "name": "stderr",
     "output_type": "stream",
     "text": [
      "  9%|▉         | 1748/18840 [00:35<06:15, 45.47it/s]"
     ]
    },
    {
     "name": "stdout",
     "output_type": "stream",
     "text": [
      "Found 0\n",
      "OpenCV(4.11.0) /io/opencv/modules/calib3d/src/usac/ransac_solvers.cpp:1047: error: (-2:Unspecified error) in function 'cv::usac::mergePoints(cv::InputArray, cv::InputArray, cv::Mat&, bool)::<lambda(cv::Mat&, int)>'\n",
      "> Invalid dimension of point (expected: 'points.cols >= pt_dim'), where\n",
      ">     'points.cols' is 0\n",
      "> must be greater than or equal to\n",
      ">     'pt_dim' is 2\n",
      "\n"
     ]
    },
    {
     "name": "stderr",
     "output_type": "stream",
     "text": [
      "  9%|▉         | 1764/18840 [00:35<06:12, 45.89it/s]"
     ]
    },
    {
     "name": "stdout",
     "output_type": "stream",
     "text": [
      "Found 0\n",
      "OpenCV(4.11.0) /io/opencv/modules/calib3d/src/usac/ransac_solvers.cpp:1047: error: (-2:Unspecified error) in function 'cv::usac::mergePoints(cv::InputArray, cv::InputArray, cv::Mat&, bool)::<lambda(cv::Mat&, int)>'\n",
      "> Invalid dimension of point (expected: 'points.cols >= pt_dim'), where\n",
      ">     'points.cols' is 0\n",
      "> must be greater than or equal to\n",
      ">     'pt_dim' is 2\n",
      "\n"
     ]
    },
    {
     "name": "stderr",
     "output_type": "stream",
     "text": [
      "  9%|▉         | 1789/18840 [00:36<06:08, 46.32it/s]"
     ]
    },
    {
     "name": "stdout",
     "output_type": "stream",
     "text": [
      "Found 0\n",
      "OpenCV(4.11.0) /io/opencv/modules/calib3d/src/usac/ransac_solvers.cpp:1047: error: (-2:Unspecified error) in function 'cv::usac::mergePoints(cv::InputArray, cv::InputArray, cv::Mat&, bool)::<lambda(cv::Mat&, int)>'\n",
      "> Invalid dimension of point (expected: 'points.cols >= pt_dim'), where\n",
      ">     'points.cols' is 0\n",
      "> must be greater than or equal to\n",
      ">     'pt_dim' is 2\n",
      "\n"
     ]
    },
    {
     "name": "stderr",
     "output_type": "stream",
     "text": [
      " 10%|▉         | 1806/18840 [00:36<04:18, 65.95it/s]"
     ]
    },
    {
     "name": "stdout",
     "output_type": "stream",
     "text": [
      "Found 0\n",
      "OpenCV(4.11.0) /io/opencv/modules/calib3d/src/usac/ransac_solvers.cpp:1047: error: (-2:Unspecified error) in function 'cv::usac::mergePoints(cv::InputArray, cv::InputArray, cv::Mat&, bool)::<lambda(cv::Mat&, int)>'\n",
      "> Invalid dimension of point (expected: 'points.cols >= pt_dim'), where\n",
      ">     'points.cols' is 0\n",
      "> must be greater than or equal to\n",
      ">     'pt_dim' is 2\n",
      "\n",
      "Found 2\n",
      "OpenCV(4.11.0) /io/opencv/modules/calib3d/src/usac/sampler.cpp:45: error: (-215:Assertion failed) sample_size <= points_size_ in function 'setPointsSize'\n",
      "\n"
     ]
    },
    {
     "name": "stderr",
     "output_type": "stream",
     "text": [
      " 10%|▉         | 1873/18840 [00:37<06:17, 44.97it/s]"
     ]
    },
    {
     "name": "stdout",
     "output_type": "stream",
     "text": [
      "Found 0\n",
      "OpenCV(4.11.0) /io/opencv/modules/calib3d/src/usac/ransac_solvers.cpp:1047: error: (-2:Unspecified error) in function 'cv::usac::mergePoints(cv::InputArray, cv::InputArray, cv::Mat&, bool)::<lambda(cv::Mat&, int)>'\n",
      "> Invalid dimension of point (expected: 'points.cols >= pt_dim'), where\n",
      ">     'points.cols' is 0\n",
      "> must be greater than or equal to\n",
      ">     'pt_dim' is 2\n",
      "\n"
     ]
    },
    {
     "name": "stderr",
     "output_type": "stream",
     "text": [
      " 10%|▉         | 1883/18840 [00:37<06:53, 41.06it/s]"
     ]
    },
    {
     "name": "stdout",
     "output_type": "stream",
     "text": [
      "Found 0\n",
      "OpenCV(4.11.0) /io/opencv/modules/calib3d/src/usac/ransac_solvers.cpp:1047: error: (-2:Unspecified error) in function 'cv::usac::mergePoints(cv::InputArray, cv::InputArray, cv::Mat&, bool)::<lambda(cv::Mat&, int)>'\n",
      "> Invalid dimension of point (expected: 'points.cols >= pt_dim'), where\n",
      ">     'points.cols' is 0\n",
      "> must be greater than or equal to\n",
      ">     'pt_dim' is 2\n",
      "\n"
     ]
    },
    {
     "name": "stderr",
     "output_type": "stream",
     "text": [
      " 11%|█         | 2049/18840 [00:41<06:00, 46.56it/s]"
     ]
    },
    {
     "name": "stdout",
     "output_type": "stream",
     "text": [
      "Found 1\n",
      "OpenCV(4.11.0) /io/opencv/modules/calib3d/src/usac/ransac_solvers.cpp:1047: error: (-2:Unspecified error) in function 'cv::usac::mergePoints(cv::InputArray, cv::InputArray, cv::Mat&, bool)::<lambda(cv::Mat&, int)>'\n",
      "> Invalid dimension of point (expected: 'points.cols >= pt_dim'), where\n",
      ">     'points.cols' is 1\n",
      "> must be greater than or equal to\n",
      ">     'pt_dim' is 2\n",
      "\n"
     ]
    },
    {
     "name": "stderr",
     "output_type": "stream",
     "text": [
      " 11%|█▏        | 2153/18840 [00:43<03:30, 79.10it/s]"
     ]
    },
    {
     "name": "stdout",
     "output_type": "stream",
     "text": [
      "Found 2\n",
      "OpenCV(4.11.0) /io/opencv/modules/calib3d/src/usac/sampler.cpp:45: error: (-215:Assertion failed) sample_size <= points_size_ in function 'setPointsSize'\n",
      "\n",
      "Found 4\n",
      "OpenCV(4.11.0) /io/opencv/modules/calib3d/src/usac/sampler.cpp:45: error: (-215:Assertion failed) sample_size <= points_size_ in function 'setPointsSize'\n",
      "\n",
      "Found 0\n",
      "OpenCV(4.11.0) /io/opencv/modules/calib3d/src/usac/ransac_solvers.cpp:1047: error: (-2:Unspecified error) in function 'cv::usac::mergePoints(cv::InputArray, cv::InputArray, cv::Mat&, bool)::<lambda(cv::Mat&, int)>'\n",
      "> Invalid dimension of point (expected: 'points.cols >= pt_dim'), where\n",
      ">     'points.cols' is 0\n",
      "> must be greater than or equal to\n",
      ">     'pt_dim' is 2\n",
      "\n",
      "Found 3\n",
      "OpenCV(4.11.0) /io/opencv/modules/calib3d/src/usac/sampler.cpp:45: error: (-215:Assertion failed) sample_size <= points_size_ in function 'setPointsSize'\n",
      "\n",
      "Found 0\n",
      "OpenCV(4.11.0) /io/opencv/modules/calib3d/src/usac/ransac_solvers.cpp:1047: error: (-2:Unspecified error) in function 'cv::usac::mergePoints(cv::InputArray, cv::InputArray, cv::Mat&, bool)::<lambda(cv::Mat&, int)>'\n",
      "> Invalid dimension of point (expected: 'points.cols >= pt_dim'), where\n",
      ">     'points.cols' is 0\n",
      "> must be greater than or equal to\n",
      ">     'pt_dim' is 2\n",
      "\n",
      "Found 0\n",
      "OpenCV(4.11.0) /io/opencv/modules/calib3d/src/usac/ransac_solvers.cpp:1047: error: (-2:Unspecified error) in function 'cv::usac::mergePoints(cv::InputArray, cv::InputArray, cv::Mat&, bool)::<lambda(cv::Mat&, int)>'\n",
      "> Invalid dimension of point (expected: 'points.cols >= pt_dim'), where\n",
      ">     'points.cols' is 0\n",
      "> must be greater than or equal to\n",
      ">     'pt_dim' is 2\n",
      "\n"
     ]
    },
    {
     "name": "stderr",
     "output_type": "stream",
     "text": [
      " 12%|█▏        | 2233/18840 [00:45<03:13, 85.61it/s]"
     ]
    },
    {
     "name": "stdout",
     "output_type": "stream",
     "text": [
      "Found 1\n",
      "OpenCV(4.11.0) /io/opencv/modules/calib3d/src/usac/ransac_solvers.cpp:1047: error: (-2:Unspecified error) in function 'cv::usac::mergePoints(cv::InputArray, cv::InputArray, cv::Mat&, bool)::<lambda(cv::Mat&, int)>'\n",
      "> Invalid dimension of point (expected: 'points.cols >= pt_dim'), where\n",
      ">     'points.cols' is 1\n",
      "> must be greater than or equal to\n",
      ">     'pt_dim' is 2\n",
      "\n",
      "Found 1\n",
      "OpenCV(4.11.0) /io/opencv/modules/calib3d/src/usac/ransac_solvers.cpp:1047: error: (-2:Unspecified error) in function 'cv::usac::mergePoints(cv::InputArray, cv::InputArray, cv::Mat&, bool)::<lambda(cv::Mat&, int)>'\n",
      "> Invalid dimension of point (expected: 'points.cols >= pt_dim'), where\n",
      ">     'points.cols' is 1\n",
      "> must be greater than or equal to\n",
      ">     'pt_dim' is 2\n",
      "\n"
     ]
    },
    {
     "name": "stderr",
     "output_type": "stream",
     "text": [
      " 12%|█▏        | 2260/18840 [00:45<03:07, 88.33it/s] "
     ]
    },
    {
     "name": "stdout",
     "output_type": "stream",
     "text": [
      "Found 1\n",
      "OpenCV(4.11.0) /io/opencv/modules/calib3d/src/usac/ransac_solvers.cpp:1047: error: (-2:Unspecified error) in function 'cv::usac::mergePoints(cv::InputArray, cv::InputArray, cv::Mat&, bool)::<lambda(cv::Mat&, int)>'\n",
      "> Invalid dimension of point (expected: 'points.cols >= pt_dim'), where\n",
      ">     'points.cols' is 1\n",
      "> must be greater than or equal to\n",
      ">     'pt_dim' is 2\n",
      "\n"
     ]
    },
    {
     "name": "stderr",
     "output_type": "stream",
     "text": [
      " 13%|█▎        | 2361/18840 [00:47<06:28, 42.46it/s]"
     ]
    },
    {
     "name": "stdout",
     "output_type": "stream",
     "text": [
      "Found 1\n",
      "OpenCV(4.11.0) /io/opencv/modules/calib3d/src/usac/ransac_solvers.cpp:1047: error: (-2:Unspecified error) in function 'cv::usac::mergePoints(cv::InputArray, cv::InputArray, cv::Mat&, bool)::<lambda(cv::Mat&, int)>'\n",
      "> Invalid dimension of point (expected: 'points.cols >= pt_dim'), where\n",
      ">     'points.cols' is 1\n",
      "> must be greater than or equal to\n",
      ">     'pt_dim' is 2\n",
      "\n"
     ]
    },
    {
     "name": "stderr",
     "output_type": "stream",
     "text": [
      " 13%|█▎        | 2376/18840 [00:48<06:26, 42.60it/s]"
     ]
    },
    {
     "name": "stdout",
     "output_type": "stream",
     "text": [
      "Found 0\n",
      "OpenCV(4.11.0) /io/opencv/modules/calib3d/src/usac/ransac_solvers.cpp:1047: error: (-2:Unspecified error) in function 'cv::usac::mergePoints(cv::InputArray, cv::InputArray, cv::Mat&, bool)::<lambda(cv::Mat&, int)>'\n",
      "> Invalid dimension of point (expected: 'points.cols >= pt_dim'), where\n",
      ">     'points.cols' is 0\n",
      "> must be greater than or equal to\n",
      ">     'pt_dim' is 2\n",
      "\n"
     ]
    },
    {
     "name": "stderr",
     "output_type": "stream",
     "text": [
      " 13%|█▎        | 2482/18840 [00:50<06:12, 43.86it/s]"
     ]
    },
    {
     "name": "stdout",
     "output_type": "stream",
     "text": [
      "Found 0\n",
      "OpenCV(4.11.0) /io/opencv/modules/calib3d/src/usac/ransac_solvers.cpp:1047: error: (-2:Unspecified error) in function 'cv::usac::mergePoints(cv::InputArray, cv::InputArray, cv::Mat&, bool)::<lambda(cv::Mat&, int)>'\n",
      "> Invalid dimension of point (expected: 'points.cols >= pt_dim'), where\n",
      ">     'points.cols' is 0\n",
      "> must be greater than or equal to\n",
      ">     'pt_dim' is 2\n",
      "\n"
     ]
    },
    {
     "name": "stderr",
     "output_type": "stream",
     "text": [
      " 13%|█▎        | 2497/18840 [00:51<06:12, 43.86it/s]"
     ]
    },
    {
     "name": "stdout",
     "output_type": "stream",
     "text": [
      "Found 0\n",
      "OpenCV(4.11.0) /io/opencv/modules/calib3d/src/usac/ransac_solvers.cpp:1047: error: (-2:Unspecified error) in function 'cv::usac::mergePoints(cv::InputArray, cv::InputArray, cv::Mat&, bool)::<lambda(cv::Mat&, int)>'\n",
      "> Invalid dimension of point (expected: 'points.cols >= pt_dim'), where\n",
      ">     'points.cols' is 0\n",
      "> must be greater than or equal to\n",
      ">     'pt_dim' is 2\n",
      "\n"
     ]
    },
    {
     "name": "stderr",
     "output_type": "stream",
     "text": [
      " 14%|█▎        | 2575/18840 [00:52<02:13, 121.76it/s]"
     ]
    },
    {
     "name": "stdout",
     "output_type": "stream",
     "text": [
      "Found 0\n",
      "OpenCV(4.11.0) /io/opencv/modules/calib3d/src/usac/ransac_solvers.cpp:1047: error: (-2:Unspecified error) in function 'cv::usac::mergePoints(cv::InputArray, cv::InputArray, cv::Mat&, bool)::<lambda(cv::Mat&, int)>'\n",
      "> Invalid dimension of point (expected: 'points.cols >= pt_dim'), where\n",
      ">     'points.cols' is 0\n",
      "> must be greater than or equal to\n",
      ">     'pt_dim' is 2\n",
      "\n",
      "Found 0\n",
      "OpenCV(4.11.0) /io/opencv/modules/calib3d/src/usac/ransac_solvers.cpp:1047: error: (-2:Unspecified error) in function 'cv::usac::mergePoints(cv::InputArray, cv::InputArray, cv::Mat&, bool)::<lambda(cv::Mat&, int)>'\n",
      "> Invalid dimension of point (expected: 'points.cols >= pt_dim'), where\n",
      ">     'points.cols' is 0\n",
      "> must be greater than or equal to\n",
      ">     'pt_dim' is 2\n",
      "\n",
      "Found 0\n",
      "OpenCV(4.11.0) /io/opencv/modules/calib3d/src/usac/ransac_solvers.cpp:1047: error: (-2:Unspecified error) in function 'cv::usac::mergePoints(cv::InputArray, cv::InputArray, cv::Mat&, bool)::<lambda(cv::Mat&, int)>'\n",
      "> Invalid dimension of point (expected: 'points.cols >= pt_dim'), where\n",
      ">     'points.cols' is 0\n",
      "> must be greater than or equal to\n",
      ">     'pt_dim' is 2\n",
      "\n"
     ]
    },
    {
     "name": "stderr",
     "output_type": "stream",
     "text": [
      " 14%|█▍        | 2608/18840 [00:52<01:53, 142.56it/s]"
     ]
    },
    {
     "name": "stdout",
     "output_type": "stream",
     "text": [
      "Found 4\n",
      "OpenCV(4.11.0) /io/opencv/modules/calib3d/src/usac/sampler.cpp:45: error: (-215:Assertion failed) sample_size <= points_size_ in function 'setPointsSize'\n",
      "\n",
      "Found 0\n",
      "OpenCV(4.11.0) /io/opencv/modules/calib3d/src/usac/ransac_solvers.cpp:1047: error: (-2:Unspecified error) in function 'cv::usac::mergePoints(cv::InputArray, cv::InputArray, cv::Mat&, bool)::<lambda(cv::Mat&, int)>'\n",
      "> Invalid dimension of point (expected: 'points.cols >= pt_dim'), where\n",
      ">     'points.cols' is 0\n",
      "> must be greater than or equal to\n",
      ">     'pt_dim' is 2\n",
      "\n",
      "Found 0\n",
      "OpenCV(4.11.0) /io/opencv/modules/calib3d/src/usac/ransac_solvers.cpp:1047: error: (-2:Unspecified error) in function 'cv::usac::mergePoints(cv::InputArray, cv::InputArray, cv::Mat&, bool)::<lambda(cv::Mat&, int)>'\n",
      "> Invalid dimension of point (expected: 'points.cols >= pt_dim'), where\n",
      ">     'points.cols' is 0\n",
      "> must be greater than or equal to\n",
      ">     'pt_dim' is 2\n",
      "\n"
     ]
    },
    {
     "name": "stderr",
     "output_type": "stream",
     "text": [
      " 14%|█▍        | 2635/18840 [00:52<03:50, 70.21it/s] "
     ]
    },
    {
     "name": "stdout",
     "output_type": "stream",
     "text": [
      "Found 0\n",
      "OpenCV(4.11.0) /io/opencv/modules/calib3d/src/usac/ransac_solvers.cpp:1047: error: (-2:Unspecified error) in function 'cv::usac::mergePoints(cv::InputArray, cv::InputArray, cv::Mat&, bool)::<lambda(cv::Mat&, int)>'\n",
      "> Invalid dimension of point (expected: 'points.cols >= pt_dim'), where\n",
      ">     'points.cols' is 0\n",
      "> must be greater than or equal to\n",
      ">     'pt_dim' is 2\n",
      "\n"
     ]
    },
    {
     "name": "stderr",
     "output_type": "stream",
     "text": [
      " 14%|█▍        | 2653/18840 [00:53<04:46, 56.50it/s]"
     ]
    },
    {
     "name": "stdout",
     "output_type": "stream",
     "text": [
      "Found 0\n",
      "OpenCV(4.11.0) /io/opencv/modules/calib3d/src/usac/ransac_solvers.cpp:1047: error: (-2:Unspecified error) in function 'cv::usac::mergePoints(cv::InputArray, cv::InputArray, cv::Mat&, bool)::<lambda(cv::Mat&, int)>'\n",
      "> Invalid dimension of point (expected: 'points.cols >= pt_dim'), where\n",
      ">     'points.cols' is 0\n",
      "> must be greater than or equal to\n",
      ">     'pt_dim' is 2\n",
      "\n"
     ]
    },
    {
     "name": "stderr",
     "output_type": "stream",
     "text": [
      " 14%|█▍        | 2690/18840 [00:53<03:00, 89.57it/s]"
     ]
    },
    {
     "name": "stdout",
     "output_type": "stream",
     "text": [
      "Found 0\n",
      "OpenCV(4.11.0) /io/opencv/modules/calib3d/src/usac/ransac_solvers.cpp:1047: error: (-2:Unspecified error) in function 'cv::usac::mergePoints(cv::InputArray, cv::InputArray, cv::Mat&, bool)::<lambda(cv::Mat&, int)>'\n",
      "> Invalid dimension of point (expected: 'points.cols >= pt_dim'), where\n",
      ">     'points.cols' is 0\n",
      "> must be greater than or equal to\n",
      ">     'pt_dim' is 2\n",
      "\n"
     ]
    },
    {
     "name": "stderr",
     "output_type": "stream",
     "text": [
      " 15%|█▍        | 2751/18840 [00:54<02:45, 97.34it/s]"
     ]
    },
    {
     "name": "stdout",
     "output_type": "stream",
     "text": [
      "Found 0\n",
      "OpenCV(4.11.0) /io/opencv/modules/calib3d/src/usac/ransac_solvers.cpp:1047: error: (-2:Unspecified error) in function 'cv::usac::mergePoints(cv::InputArray, cv::InputArray, cv::Mat&, bool)::<lambda(cv::Mat&, int)>'\n",
      "> Invalid dimension of point (expected: 'points.cols >= pt_dim'), where\n",
      ">     'points.cols' is 0\n",
      "> must be greater than or equal to\n",
      ">     'pt_dim' is 2\n",
      "\n",
      "Found 2\n",
      "OpenCV(4.11.0) /io/opencv/modules/calib3d/src/usac/sampler.cpp:45: error: (-215:Assertion failed) sample_size <= points_size_ in function 'setPointsSize'\n",
      "\n",
      "Found 0\n",
      "OpenCV(4.11.0) /io/opencv/modules/calib3d/src/usac/ransac_solvers.cpp:1047: error: (-2:Unspecified error) in function 'cv::usac::mergePoints(cv::InputArray, cv::InputArray, cv::Mat&, bool)::<lambda(cv::Mat&, int)>'\n",
      "> Invalid dimension of point (expected: 'points.cols >= pt_dim'), where\n",
      ">     'points.cols' is 0\n",
      "> must be greater than or equal to\n",
      ">     'pt_dim' is 2\n",
      "\n",
      "Found 0\n",
      "OpenCV(4.11.0) /io/opencv/modules/calib3d/src/usac/ransac_solvers.cpp:1047: error: (-2:Unspecified error) in function 'cv::usac::mergePoints(cv::InputArray, cv::InputArray, cv::Mat&, bool)::<lambda(cv::Mat&, int)>'\n",
      "> Invalid dimension of point (expected: 'points.cols >= pt_dim'), where\n",
      ">     'points.cols' is 0\n",
      "> must be greater than or equal to\n",
      ">     'pt_dim' is 2\n",
      "\n",
      "Found 0\n",
      "OpenCV(4.11.0) /io/opencv/modules/calib3d/src/usac/ransac_solvers.cpp:1047: error: (-2:Unspecified error) in function 'cv::usac::mergePoints(cv::InputArray, cv::InputArray, cv::Mat&, bool)::<lambda(cv::Mat&, int)>'\n",
      "> Invalid dimension of point (expected: 'points.cols >= pt_dim'), where\n",
      ">     'points.cols' is 0\n",
      "> must be greater than or equal to\n",
      ">     'pt_dim' is 2\n",
      "\n"
     ]
    },
    {
     "name": "stderr",
     "output_type": "stream",
     "text": [
      " 15%|█▍        | 2781/18840 [00:55<04:21, 61.42it/s]"
     ]
    },
    {
     "name": "stdout",
     "output_type": "stream",
     "text": [
      "Found 0\n",
      "OpenCV(4.11.0) /io/opencv/modules/calib3d/src/usac/ransac_solvers.cpp:1047: error: (-2:Unspecified error) in function 'cv::usac::mergePoints(cv::InputArray, cv::InputArray, cv::Mat&, bool)::<lambda(cv::Mat&, int)>'\n",
      "> Invalid dimension of point (expected: 'points.cols >= pt_dim'), where\n",
      ">     'points.cols' is 0\n",
      "> must be greater than or equal to\n",
      ">     'pt_dim' is 2\n",
      "\n"
     ]
    },
    {
     "name": "stderr",
     "output_type": "stream",
     "text": [
      " 15%|█▌        | 2826/18840 [00:56<05:17, 50.37it/s]"
     ]
    },
    {
     "name": "stdout",
     "output_type": "stream",
     "text": [
      "Found 0\n",
      "OpenCV(4.11.0) /io/opencv/modules/calib3d/src/usac/ransac_solvers.cpp:1047: error: (-2:Unspecified error) in function 'cv::usac::mergePoints(cv::InputArray, cv::InputArray, cv::Mat&, bool)::<lambda(cv::Mat&, int)>'\n",
      "> Invalid dimension of point (expected: 'points.cols >= pt_dim'), where\n",
      ">     'points.cols' is 0\n",
      "> must be greater than or equal to\n",
      ">     'pt_dim' is 2\n",
      "\n"
     ]
    },
    {
     "name": "stderr",
     "output_type": "stream",
     "text": [
      " 15%|█▌        | 2837/18840 [00:56<05:34, 47.90it/s]"
     ]
    },
    {
     "name": "stdout",
     "output_type": "stream",
     "text": [
      "Found 0\n",
      "OpenCV(4.11.0) /io/opencv/modules/calib3d/src/usac/ransac_solvers.cpp:1047: error: (-2:Unspecified error) in function 'cv::usac::mergePoints(cv::InputArray, cv::InputArray, cv::Mat&, bool)::<lambda(cv::Mat&, int)>'\n",
      "> Invalid dimension of point (expected: 'points.cols >= pt_dim'), where\n",
      ">     'points.cols' is 0\n",
      "> must be greater than or equal to\n",
      ">     'pt_dim' is 2\n",
      "\n"
     ]
    },
    {
     "name": "stderr",
     "output_type": "stream",
     "text": [
      " 15%|█▌        | 2868/18840 [00:56<05:34, 47.73it/s]"
     ]
    },
    {
     "name": "stdout",
     "output_type": "stream",
     "text": [
      "Found 0\n",
      "OpenCV(4.11.0) /io/opencv/modules/calib3d/src/usac/ransac_solvers.cpp:1047: error: (-2:Unspecified error) in function 'cv::usac::mergePoints(cv::InputArray, cv::InputArray, cv::Mat&, bool)::<lambda(cv::Mat&, int)>'\n",
      "> Invalid dimension of point (expected: 'points.cols >= pt_dim'), where\n",
      ">     'points.cols' is 0\n",
      "> must be greater than or equal to\n",
      ">     'pt_dim' is 2\n",
      "\n"
     ]
    },
    {
     "name": "stderr",
     "output_type": "stream",
     "text": [
      " 15%|█▌        | 2883/18840 [00:57<05:34, 47.76it/s]"
     ]
    },
    {
     "name": "stdout",
     "output_type": "stream",
     "text": [
      "Found 1\n",
      "OpenCV(4.11.0) /io/opencv/modules/calib3d/src/usac/ransac_solvers.cpp:1047: error: (-2:Unspecified error) in function 'cv::usac::mergePoints(cv::InputArray, cv::InputArray, cv::Mat&, bool)::<lambda(cv::Mat&, int)>'\n",
      "> Invalid dimension of point (expected: 'points.cols >= pt_dim'), where\n",
      ">     'points.cols' is 1\n",
      "> must be greater than or equal to\n",
      ">     'pt_dim' is 2\n",
      "\n"
     ]
    },
    {
     "name": "stderr",
     "output_type": "stream",
     "text": [
      " 15%|█▌        | 2913/18840 [00:57<05:52, 45.21it/s]"
     ]
    },
    {
     "name": "stdout",
     "output_type": "stream",
     "text": [
      "Found 0\n",
      "OpenCV(4.11.0) /io/opencv/modules/calib3d/src/usac/ransac_solvers.cpp:1047: error: (-2:Unspecified error) in function 'cv::usac::mergePoints(cv::InputArray, cv::InputArray, cv::Mat&, bool)::<lambda(cv::Mat&, int)>'\n",
      "> Invalid dimension of point (expected: 'points.cols >= pt_dim'), where\n",
      ">     'points.cols' is 0\n",
      "> must be greater than or equal to\n",
      ">     'pt_dim' is 2\n",
      "\n"
     ]
    },
    {
     "name": "stderr",
     "output_type": "stream",
     "text": [
      " 16%|█▌        | 2928/18840 [00:58<06:00, 44.16it/s]"
     ]
    },
    {
     "name": "stdout",
     "output_type": "stream",
     "text": [
      "Found 0\n",
      "OpenCV(4.11.0) /io/opencv/modules/calib3d/src/usac/ransac_solvers.cpp:1047: error: (-2:Unspecified error) in function 'cv::usac::mergePoints(cv::InputArray, cv::InputArray, cv::Mat&, bool)::<lambda(cv::Mat&, int)>'\n",
      "> Invalid dimension of point (expected: 'points.cols >= pt_dim'), where\n",
      ">     'points.cols' is 0\n",
      "> must be greater than or equal to\n",
      ">     'pt_dim' is 2\n",
      "\n"
     ]
    },
    {
     "name": "stderr",
     "output_type": "stream",
     "text": [
      " 16%|█▋        | 3063/18840 [01:02<15:06, 17.40it/s]"
     ]
    },
    {
     "name": "stdout",
     "output_type": "stream",
     "text": [
      "Found 0\n",
      "OpenCV(4.11.0) /io/opencv/modules/calib3d/src/usac/ransac_solvers.cpp:1047: error: (-2:Unspecified error) in function 'cv::usac::mergePoints(cv::InputArray, cv::InputArray, cv::Mat&, bool)::<lambda(cv::Mat&, int)>'\n",
      "> Invalid dimension of point (expected: 'points.cols >= pt_dim'), where\n",
      ">     'points.cols' is 0\n",
      "> must be greater than or equal to\n",
      ">     'pt_dim' is 2\n",
      "\n"
     ]
    },
    {
     "name": "stderr",
     "output_type": "stream",
     "text": [
      " 16%|█▋        | 3077/18840 [01:03<09:09, 28.68it/s]"
     ]
    },
    {
     "name": "stdout",
     "output_type": "stream",
     "text": [
      "Found 0\n",
      "OpenCV(4.11.0) /io/opencv/modules/calib3d/src/usac/ransac_solvers.cpp:1047: error: (-2:Unspecified error) in function 'cv::usac::mergePoints(cv::InputArray, cv::InputArray, cv::Mat&, bool)::<lambda(cv::Mat&, int)>'\n",
      "> Invalid dimension of point (expected: 'points.cols >= pt_dim'), where\n",
      ">     'points.cols' is 0\n",
      "> must be greater than or equal to\n",
      ">     'pt_dim' is 2\n",
      "\n"
     ]
    },
    {
     "name": "stderr",
     "output_type": "stream",
     "text": [
      " 17%|█▋        | 3109/18840 [01:03<05:40, 46.19it/s]"
     ]
    },
    {
     "name": "stdout",
     "output_type": "stream",
     "text": [
      "Found 0\n",
      "OpenCV(4.11.0) /io/opencv/modules/calib3d/src/usac/ransac_solvers.cpp:1047: error: (-2:Unspecified error) in function 'cv::usac::mergePoints(cv::InputArray, cv::InputArray, cv::Mat&, bool)::<lambda(cv::Mat&, int)>'\n",
      "> Invalid dimension of point (expected: 'points.cols >= pt_dim'), where\n",
      ">     'points.cols' is 0\n",
      "> must be greater than or equal to\n",
      ">     'pt_dim' is 2\n",
      "\n"
     ]
    },
    {
     "name": "stderr",
     "output_type": "stream",
     "text": [
      " 17%|█▋        | 3126/18840 [01:04<05:20, 49.02it/s]"
     ]
    },
    {
     "name": "stdout",
     "output_type": "stream",
     "text": [
      "Found 0\n",
      "OpenCV(4.11.0) /io/opencv/modules/calib3d/src/usac/ransac_solvers.cpp:1047: error: (-2:Unspecified error) in function 'cv::usac::mergePoints(cv::InputArray, cv::InputArray, cv::Mat&, bool)::<lambda(cv::Mat&, int)>'\n",
      "> Invalid dimension of point (expected: 'points.cols >= pt_dim'), where\n",
      ">     'points.cols' is 0\n",
      "> must be greater than or equal to\n",
      ">     'pt_dim' is 2\n",
      "\n"
     ]
    },
    {
     "name": "stderr",
     "output_type": "stream",
     "text": [
      " 17%|█▋        | 3248/18840 [01:05<03:53, 66.87it/s] "
     ]
    },
    {
     "name": "stdout",
     "output_type": "stream",
     "text": [
      "Found 0\n",
      "OpenCV(4.11.0) /io/opencv/modules/calib3d/src/usac/ransac_solvers.cpp:1047: error: (-2:Unspecified error) in function 'cv::usac::mergePoints(cv::InputArray, cv::InputArray, cv::Mat&, bool)::<lambda(cv::Mat&, int)>'\n",
      "> Invalid dimension of point (expected: 'points.cols >= pt_dim'), where\n",
      ">     'points.cols' is 0\n",
      "> must be greater than or equal to\n",
      ">     'pt_dim' is 2\n",
      "\n"
     ]
    },
    {
     "name": "stderr",
     "output_type": "stream",
     "text": [
      " 17%|█▋        | 3256/18840 [01:05<04:08, 62.65it/s]"
     ]
    },
    {
     "name": "stdout",
     "output_type": "stream",
     "text": [
      "Found 1\n",
      "OpenCV(4.11.0) /io/opencv/modules/calib3d/src/usac/ransac_solvers.cpp:1047: error: (-2:Unspecified error) in function 'cv::usac::mergePoints(cv::InputArray, cv::InputArray, cv::Mat&, bool)::<lambda(cv::Mat&, int)>'\n",
      "> Invalid dimension of point (expected: 'points.cols >= pt_dim'), where\n",
      ">     'points.cols' is 1\n",
      "> must be greater than or equal to\n",
      ">     'pt_dim' is 2\n",
      "\n"
     ]
    },
    {
     "name": "stderr",
     "output_type": "stream",
     "text": [
      " 18%|█▊        | 3325/18840 [01:07<04:45, 54.29it/s]"
     ]
    },
    {
     "name": "stdout",
     "output_type": "stream",
     "text": [
      "Found 0\n",
      "OpenCV(4.11.0) /io/opencv/modules/calib3d/src/usac/ransac_solvers.cpp:1047: error: (-2:Unspecified error) in function 'cv::usac::mergePoints(cv::InputArray, cv::InputArray, cv::Mat&, bool)::<lambda(cv::Mat&, int)>'\n",
      "> Invalid dimension of point (expected: 'points.cols >= pt_dim'), where\n",
      ">     'points.cols' is 0\n",
      "> must be greater than or equal to\n",
      ">     'pt_dim' is 2\n",
      "\n"
     ]
    },
    {
     "name": "stderr",
     "output_type": "stream",
     "text": [
      " 18%|█▊        | 3337/18840 [01:07<04:48, 53.76it/s]"
     ]
    },
    {
     "name": "stdout",
     "output_type": "stream",
     "text": [
      "Found 0\n",
      "OpenCV(4.11.0) /io/opencv/modules/calib3d/src/usac/ransac_solvers.cpp:1047: error: (-2:Unspecified error) in function 'cv::usac::mergePoints(cv::InputArray, cv::InputArray, cv::Mat&, bool)::<lambda(cv::Mat&, int)>'\n",
      "> Invalid dimension of point (expected: 'points.cols >= pt_dim'), where\n",
      ">     'points.cols' is 0\n",
      "> must be greater than or equal to\n",
      ">     'pt_dim' is 2\n",
      "\n"
     ]
    },
    {
     "name": "stderr",
     "output_type": "stream",
     "text": [
      " 18%|█▊        | 3450/18840 [01:08<02:26, 104.96it/s]"
     ]
    },
    {
     "name": "stdout",
     "output_type": "stream",
     "text": [
      "Found 2\n",
      "OpenCV(4.11.0) /io/opencv/modules/calib3d/src/usac/sampler.cpp:45: error: (-215:Assertion failed) sample_size <= points_size_ in function 'setPointsSize'\n",
      "\n",
      "Found 0\n",
      "OpenCV(4.11.0) /io/opencv/modules/calib3d/src/usac/ransac_solvers.cpp:1047: error: (-2:Unspecified error) in function 'cv::usac::mergePoints(cv::InputArray, cv::InputArray, cv::Mat&, bool)::<lambda(cv::Mat&, int)>'\n",
      "> Invalid dimension of point (expected: 'points.cols >= pt_dim'), where\n",
      ">     'points.cols' is 0\n",
      "> must be greater than or equal to\n",
      ">     'pt_dim' is 2\n",
      "\n"
     ]
    },
    {
     "name": "stderr",
     "output_type": "stream",
     "text": [
      " 20%|█▉        | 3730/18840 [01:11<04:13, 59.57it/s] "
     ]
    },
    {
     "name": "stdout",
     "output_type": "stream",
     "text": [
      "Found 1\n",
      "OpenCV(4.11.0) /io/opencv/modules/calib3d/src/usac/ransac_solvers.cpp:1047: error: (-2:Unspecified error) in function 'cv::usac::mergePoints(cv::InputArray, cv::InputArray, cv::Mat&, bool)::<lambda(cv::Mat&, int)>'\n",
      "> Invalid dimension of point (expected: 'points.cols >= pt_dim'), where\n",
      ">     'points.cols' is 1\n",
      "> must be greater than or equal to\n",
      ">     'pt_dim' is 2\n",
      "\n"
     ]
    },
    {
     "name": "stderr",
     "output_type": "stream",
     "text": [
      " 20%|█▉        | 3743/18840 [01:11<04:22, 57.44it/s]"
     ]
    },
    {
     "name": "stdout",
     "output_type": "stream",
     "text": [
      "Found 0\n",
      "OpenCV(4.11.0) /io/opencv/modules/calib3d/src/usac/ransac_solvers.cpp:1047: error: (-2:Unspecified error) in function 'cv::usac::mergePoints(cv::InputArray, cv::InputArray, cv::Mat&, bool)::<lambda(cv::Mat&, int)>'\n",
      "> Invalid dimension of point (expected: 'points.cols >= pt_dim'), where\n",
      ">     'points.cols' is 0\n",
      "> must be greater than or equal to\n",
      ">     'pt_dim' is 2\n",
      "\n"
     ]
    },
    {
     "name": "stderr",
     "output_type": "stream",
     "text": [
      " 20%|██        | 3791/18840 [01:12<02:44, 91.73it/s]"
     ]
    },
    {
     "name": "stdout",
     "output_type": "stream",
     "text": [
      "OpenCV(4.11.0) /io/opencv/modules/calib3d/src/usac/estimator.cpp:353: error: (-215:Assertion failed) !model.empty() in function 'setModelParameters'\n",
      "\n"
     ]
    },
    {
     "name": "stderr",
     "output_type": "stream",
     "text": [
      " 21%|██        | 3899/18840 [01:13<02:29, 100.11it/s]"
     ]
    },
    {
     "name": "stdout",
     "output_type": "stream",
     "text": [
      "Found 0\n",
      "OpenCV(4.11.0) /io/opencv/modules/calib3d/src/usac/ransac_solvers.cpp:1047: error: (-2:Unspecified error) in function 'cv::usac::mergePoints(cv::InputArray, cv::InputArray, cv::Mat&, bool)::<lambda(cv::Mat&, int)>'\n",
      "> Invalid dimension of point (expected: 'points.cols >= pt_dim'), where\n",
      ">     'points.cols' is 0\n",
      "> must be greater than or equal to\n",
      ">     'pt_dim' is 2\n",
      "\n",
      "Found 3\n",
      "OpenCV(4.11.0) /io/opencv/modules/calib3d/src/usac/sampler.cpp:45: error: (-215:Assertion failed) sample_size <= points_size_ in function 'setPointsSize'\n",
      "\n"
     ]
    },
    {
     "name": "stderr",
     "output_type": "stream",
     "text": [
      " 21%|██        | 3974/18840 [01:14<02:11, 112.95it/s]"
     ]
    },
    {
     "name": "stdout",
     "output_type": "stream",
     "text": [
      "Found 1\n",
      "OpenCV(4.11.0) /io/opencv/modules/calib3d/src/usac/ransac_solvers.cpp:1047: error: (-2:Unspecified error) in function 'cv::usac::mergePoints(cv::InputArray, cv::InputArray, cv::Mat&, bool)::<lambda(cv::Mat&, int)>'\n",
      "> Invalid dimension of point (expected: 'points.cols >= pt_dim'), where\n",
      ">     'points.cols' is 1\n",
      "> must be greater than or equal to\n",
      ">     'pt_dim' is 2\n",
      "\n",
      "Found 4\n",
      "OpenCV(4.11.0) /io/opencv/modules/calib3d/src/usac/sampler.cpp:45: error: (-215:Assertion failed) sample_size <= points_size_ in function 'setPointsSize'\n",
      "\n",
      "Found 0\n",
      "OpenCV(4.11.0) /io/opencv/modules/calib3d/src/usac/ransac_solvers.cpp:1047: error: (-2:Unspecified error) in function 'cv::usac::mergePoints(cv::InputArray, cv::InputArray, cv::Mat&, bool)::<lambda(cv::Mat&, int)>'\n",
      "> Invalid dimension of point (expected: 'points.cols >= pt_dim'), where\n",
      ">     'points.cols' is 0\n",
      "> must be greater than or equal to\n",
      ">     'pt_dim' is 2\n",
      "\n"
     ]
    },
    {
     "name": "stderr",
     "output_type": "stream",
     "text": [
      " 21%|██▏       | 4019/18840 [01:14<01:52, 132.24it/s]"
     ]
    },
    {
     "name": "stdout",
     "output_type": "stream",
     "text": [
      "Found 0\n",
      "OpenCV(4.11.0) /io/opencv/modules/calib3d/src/usac/ransac_solvers.cpp:1047: error: (-2:Unspecified error) in function 'cv::usac::mergePoints(cv::InputArray, cv::InputArray, cv::Mat&, bool)::<lambda(cv::Mat&, int)>'\n",
      "> Invalid dimension of point (expected: 'points.cols >= pt_dim'), where\n",
      ">     'points.cols' is 0\n",
      "> must be greater than or equal to\n",
      ">     'pt_dim' is 2\n",
      "\n",
      "Found 2\n",
      "OpenCV(4.11.0) /io/opencv/modules/calib3d/src/usac/sampler.cpp:45: error: (-215:Assertion failed) sample_size <= points_size_ in function 'setPointsSize'\n",
      "\n"
     ]
    },
    {
     "name": "stderr",
     "output_type": "stream",
     "text": [
      " 21%|██▏       | 4050/18840 [01:15<02:02, 120.71it/s]"
     ]
    },
    {
     "name": "stdout",
     "output_type": "stream",
     "text": [
      "Found 0\n",
      "OpenCV(4.11.0) /io/opencv/modules/calib3d/src/usac/ransac_solvers.cpp:1047: error: (-2:Unspecified error) in function 'cv::usac::mergePoints(cv::InputArray, cv::InputArray, cv::Mat&, bool)::<lambda(cv::Mat&, int)>'\n",
      "> Invalid dimension of point (expected: 'points.cols >= pt_dim'), where\n",
      ">     'points.cols' is 0\n",
      "> must be greater than or equal to\n",
      ">     'pt_dim' is 2\n",
      "\n"
     ]
    },
    {
     "name": "stderr",
     "output_type": "stream",
     "text": [
      " 22%|██▏       | 4074/18840 [01:15<03:08, 78.50it/s] "
     ]
    },
    {
     "name": "stdout",
     "output_type": "stream",
     "text": [
      "Found 3\n",
      "OpenCV(4.11.0) /io/opencv/modules/calib3d/src/usac/sampler.cpp:45: error: (-215:Assertion failed) sample_size <= points_size_ in function 'setPointsSize'\n",
      "\n"
     ]
    },
    {
     "name": "stderr",
     "output_type": "stream",
     "text": [
      " 22%|██▏       | 4084/18840 [01:15<03:27, 70.97it/s]"
     ]
    },
    {
     "name": "stdout",
     "output_type": "stream",
     "text": [
      "Found 0\n",
      "OpenCV(4.11.0) /io/opencv/modules/calib3d/src/usac/ransac_solvers.cpp:1047: error: (-2:Unspecified error) in function 'cv::usac::mergePoints(cv::InputArray, cv::InputArray, cv::Mat&, bool)::<lambda(cv::Mat&, int)>'\n",
      "> Invalid dimension of point (expected: 'points.cols >= pt_dim'), where\n",
      ">     'points.cols' is 0\n",
      "> must be greater than or equal to\n",
      ">     'pt_dim' is 2\n",
      "\n"
     ]
    },
    {
     "name": "stderr",
     "output_type": "stream",
     "text": [
      " 22%|██▏       | 4126/18840 [01:16<04:29, 54.62it/s]"
     ]
    },
    {
     "name": "stdout",
     "output_type": "stream",
     "text": [
      "Found 1\n",
      "OpenCV(4.11.0) /io/opencv/modules/calib3d/src/usac/ransac_solvers.cpp:1047: error: (-2:Unspecified error) in function 'cv::usac::mergePoints(cv::InputArray, cv::InputArray, cv::Mat&, bool)::<lambda(cv::Mat&, int)>'\n",
      "> Invalid dimension of point (expected: 'points.cols >= pt_dim'), where\n",
      ">     'points.cols' is 1\n",
      "> must be greater than or equal to\n",
      ">     'pt_dim' is 2\n",
      "\n"
     ]
    },
    {
     "name": "stderr",
     "output_type": "stream",
     "text": [
      " 22%|██▏       | 4144/18840 [01:17<04:34, 53.53it/s]"
     ]
    },
    {
     "name": "stdout",
     "output_type": "stream",
     "text": [
      "Found 0\n",
      "OpenCV(4.11.0) /io/opencv/modules/calib3d/src/usac/ransac_solvers.cpp:1047: error: (-2:Unspecified error) in function 'cv::usac::mergePoints(cv::InputArray, cv::InputArray, cv::Mat&, bool)::<lambda(cv::Mat&, int)>'\n",
      "> Invalid dimension of point (expected: 'points.cols >= pt_dim'), where\n",
      ">     'points.cols' is 0\n",
      "> must be greater than or equal to\n",
      ">     'pt_dim' is 2\n",
      "\n"
     ]
    },
    {
     "name": "stderr",
     "output_type": "stream",
     "text": [
      " 22%|██▏       | 4191/18840 [01:17<02:15, 107.73it/s]"
     ]
    },
    {
     "name": "stdout",
     "output_type": "stream",
     "text": [
      "Found 0\n",
      "OpenCV(4.11.0) /io/opencv/modules/calib3d/src/usac/ransac_solvers.cpp:1047: error: (-2:Unspecified error) in function 'cv::usac::mergePoints(cv::InputArray, cv::InputArray, cv::Mat&, bool)::<lambda(cv::Mat&, int)>'\n",
      "> Invalid dimension of point (expected: 'points.cols >= pt_dim'), where\n",
      ">     'points.cols' is 0\n",
      "> must be greater than or equal to\n",
      ">     'pt_dim' is 2\n",
      "\n"
     ]
    },
    {
     "name": "stderr",
     "output_type": "stream",
     "text": [
      " 22%|██▏       | 4222/18840 [01:17<03:29, 69.69it/s] "
     ]
    },
    {
     "name": "stdout",
     "output_type": "stream",
     "text": [
      "Found 0\n",
      "OpenCV(4.11.0) /io/opencv/modules/calib3d/src/usac/ransac_solvers.cpp:1047: error: (-2:Unspecified error) in function 'cv::usac::mergePoints(cv::InputArray, cv::InputArray, cv::Mat&, bool)::<lambda(cv::Mat&, int)>'\n",
      "> Invalid dimension of point (expected: 'points.cols >= pt_dim'), where\n",
      ">     'points.cols' is 0\n",
      "> must be greater than or equal to\n",
      ">     'pt_dim' is 2\n",
      "\n"
     ]
    },
    {
     "name": "stderr",
     "output_type": "stream",
     "text": [
      " 22%|██▏       | 4237/18840 [01:18<03:54, 62.19it/s]"
     ]
    },
    {
     "name": "stdout",
     "output_type": "stream",
     "text": [
      "Found 0\n",
      "OpenCV(4.11.0) /io/opencv/modules/calib3d/src/usac/ransac_solvers.cpp:1047: error: (-2:Unspecified error) in function 'cv::usac::mergePoints(cv::InputArray, cv::InputArray, cv::Mat&, bool)::<lambda(cv::Mat&, int)>'\n",
      "> Invalid dimension of point (expected: 'points.cols >= pt_dim'), where\n",
      ">     'points.cols' is 0\n",
      "> must be greater than or equal to\n",
      ">     'pt_dim' is 2\n",
      "\n"
     ]
    },
    {
     "name": "stderr",
     "output_type": "stream",
     "text": [
      " 23%|██▎       | 4286/18840 [01:18<02:14, 108.57it/s]"
     ]
    },
    {
     "name": "stdout",
     "output_type": "stream",
     "text": [
      "Found 3\n",
      "OpenCV(4.11.0) /io/opencv/modules/calib3d/src/usac/sampler.cpp:45: error: (-215:Assertion failed) sample_size <= points_size_ in function 'setPointsSize'\n",
      "\n",
      "Found 0\n",
      "OpenCV(4.11.0) /io/opencv/modules/calib3d/src/usac/ransac_solvers.cpp:1047: error: (-2:Unspecified error) in function 'cv::usac::mergePoints(cv::InputArray, cv::InputArray, cv::Mat&, bool)::<lambda(cv::Mat&, int)>'\n",
      "> Invalid dimension of point (expected: 'points.cols >= pt_dim'), where\n",
      ">     'points.cols' is 0\n",
      "> must be greater than or equal to\n",
      ">     'pt_dim' is 2\n",
      "\n",
      "Found 0\n",
      "OpenCV(4.11.0) /io/opencv/modules/calib3d/src/usac/ransac_solvers.cpp:1047: error: (-2:Unspecified error) in function 'cv::usac::mergePoints(cv::InputArray, cv::InputArray, cv::Mat&, bool)::<lambda(cv::Mat&, int)>'\n",
      "> Invalid dimension of point (expected: 'points.cols >= pt_dim'), where\n",
      ">     'points.cols' is 0\n",
      "> must be greater than or equal to\n",
      ">     'pt_dim' is 2\n",
      "\n"
     ]
    },
    {
     "name": "stderr",
     "output_type": "stream",
     "text": [
      " 23%|██▎       | 4319/18840 [01:19<03:28, 69.59it/s] "
     ]
    },
    {
     "name": "stdout",
     "output_type": "stream",
     "text": [
      "Found 0\n",
      "OpenCV(4.11.0) /io/opencv/modules/calib3d/src/usac/ransac_solvers.cpp:1047: error: (-2:Unspecified error) in function 'cv::usac::mergePoints(cv::InputArray, cv::InputArray, cv::Mat&, bool)::<lambda(cv::Mat&, int)>'\n",
      "> Invalid dimension of point (expected: 'points.cols >= pt_dim'), where\n",
      ">     'points.cols' is 0\n",
      "> must be greater than or equal to\n",
      ">     'pt_dim' is 2\n",
      "\n"
     ]
    },
    {
     "name": "stderr",
     "output_type": "stream",
     "text": [
      " 23%|██▎       | 4335/18840 [01:19<04:01, 59.97it/s]"
     ]
    },
    {
     "name": "stdout",
     "output_type": "stream",
     "text": [
      "Found 0\n",
      "OpenCV(4.11.0) /io/opencv/modules/calib3d/src/usac/ransac_solvers.cpp:1047: error: (-2:Unspecified error) in function 'cv::usac::mergePoints(cv::InputArray, cv::InputArray, cv::Mat&, bool)::<lambda(cv::Mat&, int)>'\n",
      "> Invalid dimension of point (expected: 'points.cols >= pt_dim'), where\n",
      ">     'points.cols' is 0\n",
      "> must be greater than or equal to\n",
      ">     'pt_dim' is 2\n",
      "\n"
     ]
    },
    {
     "name": "stderr",
     "output_type": "stream",
     "text": [
      " 23%|██▎       | 4387/18840 [01:20<02:15, 106.80it/s]"
     ]
    },
    {
     "name": "stdout",
     "output_type": "stream",
     "text": [
      "Found 0\n",
      "OpenCV(4.11.0) /io/opencv/modules/calib3d/src/usac/ransac_solvers.cpp:1047: error: (-2:Unspecified error) in function 'cv::usac::mergePoints(cv::InputArray, cv::InputArray, cv::Mat&, bool)::<lambda(cv::Mat&, int)>'\n",
      "> Invalid dimension of point (expected: 'points.cols >= pt_dim'), where\n",
      ">     'points.cols' is 0\n",
      "> must be greater than or equal to\n",
      ">     'pt_dim' is 2\n",
      "\n",
      "Found 1\n",
      "OpenCV(4.11.0) /io/opencv/modules/calib3d/src/usac/ransac_solvers.cpp:1047: error: (-2:Unspecified error) in function 'cv::usac::mergePoints(cv::InputArray, cv::InputArray, cv::Mat&, bool)::<lambda(cv::Mat&, int)>'\n",
      "> Invalid dimension of point (expected: 'points.cols >= pt_dim'), where\n",
      ">     'points.cols' is 1\n",
      "> must be greater than or equal to\n",
      ">     'pt_dim' is 2\n",
      "\n",
      "Found 0\n",
      "OpenCV(4.11.0) /io/opencv/modules/calib3d/src/usac/ransac_solvers.cpp:1047: error: (-2:Unspecified error) in function 'cv::usac::mergePoints(cv::InputArray, cv::InputArray, cv::Mat&, bool)::<lambda(cv::Mat&, int)>'\n",
      "> Invalid dimension of point (expected: 'points.cols >= pt_dim'), where\n",
      ">     'points.cols' is 0\n",
      "> must be greater than or equal to\n",
      ">     'pt_dim' is 2\n",
      "\n"
     ]
    },
    {
     "name": "stderr",
     "output_type": "stream",
     "text": [
      " 24%|██▍       | 4523/18840 [01:22<03:04, 77.47it/s] "
     ]
    },
    {
     "name": "stdout",
     "output_type": "stream",
     "text": [
      "Found 1\n",
      "OpenCV(4.11.0) /io/opencv/modules/calib3d/src/usac/ransac_solvers.cpp:1047: error: (-2:Unspecified error) in function 'cv::usac::mergePoints(cv::InputArray, cv::InputArray, cv::Mat&, bool)::<lambda(cv::Mat&, int)>'\n",
      "> Invalid dimension of point (expected: 'points.cols >= pt_dim'), where\n",
      ">     'points.cols' is 1\n",
      "> must be greater than or equal to\n",
      ">     'pt_dim' is 2\n",
      "\n",
      "Found 3\n",
      "OpenCV(4.11.0) /io/opencv/modules/calib3d/src/usac/sampler.cpp:45: error: (-215:Assertion failed) sample_size <= points_size_ in function 'setPointsSize'\n",
      "\n",
      "Found 0\n",
      "OpenCV(4.11.0) /io/opencv/modules/calib3d/src/usac/ransac_solvers.cpp:1047: error: (-2:Unspecified error) in function 'cv::usac::mergePoints(cv::InputArray, cv::InputArray, cv::Mat&, bool)::<lambda(cv::Mat&, int)>'\n",
      "> Invalid dimension of point (expected: 'points.cols >= pt_dim'), where\n",
      ">     'points.cols' is 0\n",
      "> must be greater than or equal to\n",
      ">     'pt_dim' is 2\n",
      "\n",
      "Found 1\n",
      "OpenCV(4.11.0) /io/opencv/modules/calib3d/src/usac/ransac_solvers.cpp:1047: error: (-2:Unspecified error) in function 'cv::usac::mergePoints(cv::InputArray, cv::InputArray, cv::Mat&, bool)::<lambda(cv::Mat&, int)>'\n",
      "> Invalid dimension of point (expected: 'points.cols >= pt_dim'), where\n",
      ">     'points.cols' is 1\n",
      "> must be greater than or equal to\n",
      ">     'pt_dim' is 2\n",
      "\n",
      "Found 3\n",
      "OpenCV(4.11.0) /io/opencv/modules/calib3d/src/usac/sampler.cpp:45: error: (-215:Assertion failed) sample_size <= points_size_ in function 'setPointsSize'\n",
      "\n",
      "Found 3\n",
      "OpenCV(4.11.0) /io/opencv/modules/calib3d/src/usac/sampler.cpp:45: error: (-215:Assertion failed) sample_size <= points_size_ in function 'setPointsSize'\n",
      "\n",
      "Found 1\n",
      "OpenCV(4.11.0) /io/opencv/modules/calib3d/src/usac/ransac_solvers.cpp:1047: error: (-2:Unspecified error) in function 'cv::usac::mergePoints(cv::InputArray, cv::InputArray, cv::Mat&, bool)::<lambda(cv::Mat&, int)>'\n",
      "> Invalid dimension of point (expected: 'points.cols >= pt_dim'), where\n",
      ">     'points.cols' is 1\n",
      "> must be greater than or equal to\n",
      ">     'pt_dim' is 2\n",
      "\n",
      "Found 1\n",
      "OpenCV(4.11.0) /io/opencv/modules/calib3d/src/usac/ransac_solvers.cpp:1047: error: (-2:Unspecified error) in function 'cv::usac::mergePoints(cv::InputArray, cv::InputArray, cv::Mat&, bool)::<lambda(cv::Mat&, int)>'\n",
      "> Invalid dimension of point (expected: 'points.cols >= pt_dim'), where\n",
      ">     'points.cols' is 1\n",
      "> must be greater than or equal to\n",
      ">     'pt_dim' is 2\n",
      "\n"
     ]
    },
    {
     "name": "stderr",
     "output_type": "stream",
     "text": [
      " 24%|██▍       | 4551/18840 [01:22<02:13, 107.31it/s]"
     ]
    },
    {
     "name": "stdout",
     "output_type": "stream",
     "text": [
      "Found 0\n",
      "OpenCV(4.11.0) /io/opencv/modules/calib3d/src/usac/ransac_solvers.cpp:1047: error: (-2:Unspecified error) in function 'cv::usac::mergePoints(cv::InputArray, cv::InputArray, cv::Mat&, bool)::<lambda(cv::Mat&, int)>'\n",
      "> Invalid dimension of point (expected: 'points.cols >= pt_dim'), where\n",
      ">     'points.cols' is 0\n",
      "> must be greater than or equal to\n",
      ">     'pt_dim' is 2\n",
      "\n",
      "Found 2\n",
      "OpenCV(4.11.0) /io/opencv/modules/calib3d/src/usac/sampler.cpp:45: error: (-215:Assertion failed) sample_size <= points_size_ in function 'setPointsSize'\n",
      "\n",
      "Found 0\n",
      "OpenCV(4.11.0) /io/opencv/modules/calib3d/src/usac/ransac_solvers.cpp:1047: error: (-2:Unspecified error) in function 'cv::usac::mergePoints(cv::InputArray, cv::InputArray, cv::Mat&, bool)::<lambda(cv::Mat&, int)>'\n",
      "> Invalid dimension of point (expected: 'points.cols >= pt_dim'), where\n",
      ">     'points.cols' is 0\n",
      "> must be greater than or equal to\n",
      ">     'pt_dim' is 2\n",
      "\n",
      "Found 1\n",
      "OpenCV(4.11.0) /io/opencv/modules/calib3d/src/usac/ransac_solvers.cpp:1047: error: (-2:Unspecified error) in function 'cv::usac::mergePoints(cv::InputArray, cv::InputArray, cv::Mat&, bool)::<lambda(cv::Mat&, int)>'\n",
      "> Invalid dimension of point (expected: 'points.cols >= pt_dim'), where\n",
      ">     'points.cols' is 1\n",
      "> must be greater than or equal to\n",
      ">     'pt_dim' is 2\n",
      "\n"
     ]
    },
    {
     "name": "stderr",
     "output_type": "stream",
     "text": [
      " 24%|██▍       | 4581/18840 [01:23<03:37, 65.67it/s] "
     ]
    },
    {
     "name": "stdout",
     "output_type": "stream",
     "text": [
      "Found 1\n",
      "OpenCV(4.11.0) /io/opencv/modules/calib3d/src/usac/ransac_solvers.cpp:1047: error: (-2:Unspecified error) in function 'cv::usac::mergePoints(cv::InputArray, cv::InputArray, cv::Mat&, bool)::<lambda(cv::Mat&, int)>'\n",
      "> Invalid dimension of point (expected: 'points.cols >= pt_dim'), where\n",
      ">     'points.cols' is 1\n",
      "> must be greater than or equal to\n",
      ">     'pt_dim' is 2\n",
      "\n"
     ]
    },
    {
     "name": "stderr",
     "output_type": "stream",
     "text": [
      " 24%|██▍       | 4596/18840 [01:23<03:51, 61.41it/s]"
     ]
    },
    {
     "name": "stdout",
     "output_type": "stream",
     "text": [
      "Found 0\n",
      "OpenCV(4.11.0) /io/opencv/modules/calib3d/src/usac/ransac_solvers.cpp:1047: error: (-2:Unspecified error) in function 'cv::usac::mergePoints(cv::InputArray, cv::InputArray, cv::Mat&, bool)::<lambda(cv::Mat&, int)>'\n",
      "> Invalid dimension of point (expected: 'points.cols >= pt_dim'), where\n",
      ">     'points.cols' is 0\n",
      "> must be greater than or equal to\n",
      ">     'pt_dim' is 2\n",
      "\n"
     ]
    },
    {
     "name": "stderr",
     "output_type": "stream",
     "text": [
      " 25%|██▍       | 4640/18840 [01:24<02:26, 97.11it/s]"
     ]
    },
    {
     "name": "stdout",
     "output_type": "stream",
     "text": [
      "Found 1\n",
      "OpenCV(4.11.0) /io/opencv/modules/calib3d/src/usac/ransac_solvers.cpp:1047: error: (-2:Unspecified error) in function 'cv::usac::mergePoints(cv::InputArray, cv::InputArray, cv::Mat&, bool)::<lambda(cv::Mat&, int)>'\n",
      "> Invalid dimension of point (expected: 'points.cols >= pt_dim'), where\n",
      ">     'points.cols' is 1\n",
      "> must be greater than or equal to\n",
      ">     'pt_dim' is 2\n",
      "\n",
      "Found 0\n",
      "OpenCV(4.11.0) /io/opencv/modules/calib3d/src/usac/ransac_solvers.cpp:1047: error: (-2:Unspecified error) in function 'cv::usac::mergePoints(cv::InputArray, cv::InputArray, cv::Mat&, bool)::<lambda(cv::Mat&, int)>'\n",
      "> Invalid dimension of point (expected: 'points.cols >= pt_dim'), where\n",
      ">     'points.cols' is 0\n",
      "> must be greater than or equal to\n",
      ">     'pt_dim' is 2\n",
      "\n"
     ]
    },
    {
     "name": "stderr",
     "output_type": "stream",
     "text": [
      " 25%|██▍       | 4667/18840 [01:24<02:05, 113.37it/s]"
     ]
    },
    {
     "name": "stdout",
     "output_type": "stream",
     "text": [
      "Found 0\n",
      "OpenCV(4.11.0) /io/opencv/modules/calib3d/src/usac/ransac_solvers.cpp:1047: error: (-2:Unspecified error) in function 'cv::usac::mergePoints(cv::InputArray, cv::InputArray, cv::Mat&, bool)::<lambda(cv::Mat&, int)>'\n",
      "> Invalid dimension of point (expected: 'points.cols >= pt_dim'), where\n",
      ">     'points.cols' is 0\n",
      "> must be greater than or equal to\n",
      ">     'pt_dim' is 2\n",
      "\n"
     ]
    },
    {
     "name": "stderr",
     "output_type": "stream",
     "text": [
      " 25%|██▌       | 4727/18840 [01:24<03:21, 69.93it/s] "
     ]
    },
    {
     "name": "stdout",
     "output_type": "stream",
     "text": [
      "Found 0\n",
      "OpenCV(4.11.0) /io/opencv/modules/calib3d/src/usac/ransac_solvers.cpp:1047: error: (-2:Unspecified error) in function 'cv::usac::mergePoints(cv::InputArray, cv::InputArray, cv::Mat&, bool)::<lambda(cv::Mat&, int)>'\n",
      "> Invalid dimension of point (expected: 'points.cols >= pt_dim'), where\n",
      ">     'points.cols' is 0\n",
      "> must be greater than or equal to\n",
      ">     'pt_dim' is 2\n",
      "\n"
     ]
    },
    {
     "name": "stderr",
     "output_type": "stream",
     "text": [
      " 25%|██▌       | 4744/18840 [01:25<03:53, 60.42it/s]"
     ]
    },
    {
     "name": "stdout",
     "output_type": "stream",
     "text": [
      "Found 0\n",
      "OpenCV(4.11.0) /io/opencv/modules/calib3d/src/usac/ransac_solvers.cpp:1047: error: (-2:Unspecified error) in function 'cv::usac::mergePoints(cv::InputArray, cv::InputArray, cv::Mat&, bool)::<lambda(cv::Mat&, int)>'\n",
      "> Invalid dimension of point (expected: 'points.cols >= pt_dim'), where\n",
      ">     'points.cols' is 0\n",
      "> must be greater than or equal to\n",
      ">     'pt_dim' is 2\n",
      "\n"
     ]
    },
    {
     "name": "stderr",
     "output_type": "stream",
     "text": [
      " 25%|██▌       | 4789/18840 [01:25<02:23, 97.61it/s]"
     ]
    },
    {
     "name": "stdout",
     "output_type": "stream",
     "text": [
      "Found 2\n",
      "OpenCV(4.11.0) /io/opencv/modules/calib3d/src/usac/sampler.cpp:45: error: (-215:Assertion failed) sample_size <= points_size_ in function 'setPointsSize'\n",
      "\n",
      "Found 0\n",
      "OpenCV(4.11.0) /io/opencv/modules/calib3d/src/usac/ransac_solvers.cpp:1047: error: (-2:Unspecified error) in function 'cv::usac::mergePoints(cv::InputArray, cv::InputArray, cv::Mat&, bool)::<lambda(cv::Mat&, int)>'\n",
      "> Invalid dimension of point (expected: 'points.cols >= pt_dim'), where\n",
      ">     'points.cols' is 0\n",
      "> must be greater than or equal to\n",
      ">     'pt_dim' is 2\n",
      "\n",
      "Found 4\n",
      "OpenCV(4.11.0) /io/opencv/modules/calib3d/src/usac/sampler.cpp:45: error: (-215:Assertion failed) sample_size <= points_size_ in function 'setPointsSize'\n",
      "\n"
     ]
    },
    {
     "name": "stderr",
     "output_type": "stream",
     "text": [
      " 26%|██▌       | 4834/18840 [01:26<01:50, 126.80it/s]"
     ]
    },
    {
     "name": "stdout",
     "output_type": "stream",
     "text": [
      "Found 3\n",
      "OpenCV(4.11.0) /io/opencv/modules/calib3d/src/usac/sampler.cpp:45: error: (-215:Assertion failed) sample_size <= points_size_ in function 'setPointsSize'\n",
      "\n",
      "Found 0\n",
      "OpenCV(4.11.0) /io/opencv/modules/calib3d/src/usac/ransac_solvers.cpp:1047: error: (-2:Unspecified error) in function 'cv::usac::mergePoints(cv::InputArray, cv::InputArray, cv::Mat&, bool)::<lambda(cv::Mat&, int)>'\n",
      "> Invalid dimension of point (expected: 'points.cols >= pt_dim'), where\n",
      ">     'points.cols' is 0\n",
      "> must be greater than or equal to\n",
      ">     'pt_dim' is 2\n",
      "\n",
      "Found 0\n",
      "OpenCV(4.11.0) /io/opencv/modules/calib3d/src/usac/ransac_solvers.cpp:1047: error: (-2:Unspecified error) in function 'cv::usac::mergePoints(cv::InputArray, cv::InputArray, cv::Mat&, bool)::<lambda(cv::Mat&, int)>'\n",
      "> Invalid dimension of point (expected: 'points.cols >= pt_dim'), where\n",
      ">     'points.cols' is 0\n",
      "> must be greater than or equal to\n",
      ">     'pt_dim' is 2\n",
      "\n",
      "OpenCV(4.11.0) /io/opencv/modules/calib3d/src/usac/estimator.cpp:353: error: (-215:Assertion failed) !model.empty() in function 'setModelParameters'\n",
      "\n",
      "Found 0\n",
      "OpenCV(4.11.0) /io/opencv/modules/calib3d/src/usac/ransac_solvers.cpp:1047: error: (-2:Unspecified error) in function 'cv::usac::mergePoints(cv::InputArray, cv::InputArray, cv::Mat&, bool)::<lambda(cv::Mat&, int)>'\n",
      "> Invalid dimension of point (expected: 'points.cols >= pt_dim'), where\n",
      ">     'points.cols' is 0\n",
      "> must be greater than or equal to\n",
      ">     'pt_dim' is 2\n",
      "\n"
     ]
    },
    {
     "name": "stderr",
     "output_type": "stream",
     "text": [
      " 26%|██▌       | 4850/18840 [01:26<01:43, 134.78it/s]"
     ]
    },
    {
     "name": "stdout",
     "output_type": "stream",
     "text": [
      "Found 2\n",
      "OpenCV(4.11.0) /io/opencv/modules/calib3d/src/usac/sampler.cpp:45: error: (-215:Assertion failed) sample_size <= points_size_ in function 'setPointsSize'\n",
      "\n",
      "Found 0\n",
      "OpenCV(4.11.0) /io/opencv/modules/calib3d/src/usac/ransac_solvers.cpp:1047: error: (-2:Unspecified error) in function 'cv::usac::mergePoints(cv::InputArray, cv::InputArray, cv::Mat&, bool)::<lambda(cv::Mat&, int)>'\n",
      "> Invalid dimension of point (expected: 'points.cols >= pt_dim'), where\n",
      ">     'points.cols' is 0\n",
      "> must be greater than or equal to\n",
      ">     'pt_dim' is 2\n",
      "\n"
     ]
    },
    {
     "name": "stderr",
     "output_type": "stream",
     "text": [
      " 26%|██▌       | 4886/18840 [01:26<03:12, 72.49it/s] "
     ]
    },
    {
     "name": "stdout",
     "output_type": "stream",
     "text": [
      "Found 0\n",
      "OpenCV(4.11.0) /io/opencv/modules/calib3d/src/usac/ransac_solvers.cpp:1047: error: (-2:Unspecified error) in function 'cv::usac::mergePoints(cv::InputArray, cv::InputArray, cv::Mat&, bool)::<lambda(cv::Mat&, int)>'\n",
      "> Invalid dimension of point (expected: 'points.cols >= pt_dim'), where\n",
      ">     'points.cols' is 0\n",
      "> must be greater than or equal to\n",
      ">     'pt_dim' is 2\n",
      "\n"
     ]
    },
    {
     "name": "stderr",
     "output_type": "stream",
     "text": [
      " 26%|██▌       | 4895/18840 [01:27<03:35, 64.85it/s]"
     ]
    },
    {
     "name": "stdout",
     "output_type": "stream",
     "text": [
      "Found 0\n",
      "OpenCV(4.11.0) /io/opencv/modules/calib3d/src/usac/ransac_solvers.cpp:1047: error: (-2:Unspecified error) in function 'cv::usac::mergePoints(cv::InputArray, cv::InputArray, cv::Mat&, bool)::<lambda(cv::Mat&, int)>'\n",
      "> Invalid dimension of point (expected: 'points.cols >= pt_dim'), where\n",
      ">     'points.cols' is 0\n",
      "> must be greater than or equal to\n",
      ">     'pt_dim' is 2\n",
      "\n"
     ]
    },
    {
     "name": "stderr",
     "output_type": "stream",
     "text": [
      " 26%|██▌       | 4944/18840 [01:27<03:59, 58.08it/s]"
     ]
    },
    {
     "name": "stdout",
     "output_type": "stream",
     "text": [
      "Found 1\n",
      "OpenCV(4.11.0) /io/opencv/modules/calib3d/src/usac/ransac_solvers.cpp:1047: error: (-2:Unspecified error) in function 'cv::usac::mergePoints(cv::InputArray, cv::InputArray, cv::Mat&, bool)::<lambda(cv::Mat&, int)>'\n",
      "> Invalid dimension of point (expected: 'points.cols >= pt_dim'), where\n",
      ">     'points.cols' is 1\n",
      "> must be greater than or equal to\n",
      ">     'pt_dim' is 2\n",
      "\n"
     ]
    },
    {
     "name": "stderr",
     "output_type": "stream",
     "text": [
      " 26%|██▋       | 4956/18840 [01:28<04:01, 57.60it/s]"
     ]
    },
    {
     "name": "stdout",
     "output_type": "stream",
     "text": [
      "Found 0\n",
      "OpenCV(4.11.0) /io/opencv/modules/calib3d/src/usac/ransac_solvers.cpp:1047: error: (-2:Unspecified error) in function 'cv::usac::mergePoints(cv::InputArray, cv::InputArray, cv::Mat&, bool)::<lambda(cv::Mat&, int)>'\n",
      "> Invalid dimension of point (expected: 'points.cols >= pt_dim'), where\n",
      ">     'points.cols' is 0\n",
      "> must be greater than or equal to\n",
      ">     'pt_dim' is 2\n",
      "\n"
     ]
    },
    {
     "name": "stderr",
     "output_type": "stream",
     "text": [
      " 27%|██▋       | 5004/18840 [01:29<04:21, 52.97it/s]"
     ]
    },
    {
     "name": "stdout",
     "output_type": "stream",
     "text": [
      "Found 0\n",
      "OpenCV(4.11.0) /io/opencv/modules/calib3d/src/usac/ransac_solvers.cpp:1047: error: (-2:Unspecified error) in function 'cv::usac::mergePoints(cv::InputArray, cv::InputArray, cv::Mat&, bool)::<lambda(cv::Mat&, int)>'\n",
      "> Invalid dimension of point (expected: 'points.cols >= pt_dim'), where\n",
      ">     'points.cols' is 0\n",
      "> must be greater than or equal to\n",
      ">     'pt_dim' is 2\n",
      "\n"
     ]
    },
    {
     "name": "stderr",
     "output_type": "stream",
     "text": [
      " 27%|██▋       | 5016/18840 [01:29<04:25, 51.97it/s]"
     ]
    },
    {
     "name": "stdout",
     "output_type": "stream",
     "text": [
      "Found 0\n",
      "OpenCV(4.11.0) /io/opencv/modules/calib3d/src/usac/ransac_solvers.cpp:1047: error: (-2:Unspecified error) in function 'cv::usac::mergePoints(cv::InputArray, cv::InputArray, cv::Mat&, bool)::<lambda(cv::Mat&, int)>'\n",
      "> Invalid dimension of point (expected: 'points.cols >= pt_dim'), where\n",
      ">     'points.cols' is 0\n",
      "> must be greater than or equal to\n",
      ">     'pt_dim' is 2\n",
      "\n"
     ]
    },
    {
     "name": "stderr",
     "output_type": "stream",
     "text": [
      " 27%|██▋       | 5139/18840 [01:31<03:51, 59.17it/s] "
     ]
    },
    {
     "name": "stdout",
     "output_type": "stream",
     "text": [
      "Found 2\n",
      "OpenCV(4.11.0) /io/opencv/modules/calib3d/src/usac/sampler.cpp:45: error: (-215:Assertion failed) sample_size <= points_size_ in function 'setPointsSize'\n",
      "\n",
      "Found 1\n",
      "OpenCV(4.11.0) /io/opencv/modules/calib3d/src/usac/ransac_solvers.cpp:1047: error: (-2:Unspecified error) in function 'cv::usac::mergePoints(cv::InputArray, cv::InputArray, cv::Mat&, bool)::<lambda(cv::Mat&, int)>'\n",
      "> Invalid dimension of point (expected: 'points.cols >= pt_dim'), where\n",
      ">     'points.cols' is 1\n",
      "> must be greater than or equal to\n",
      ">     'pt_dim' is 2\n",
      "\n",
      "Found 0\n",
      "OpenCV(4.11.0) /io/opencv/modules/calib3d/src/usac/ransac_solvers.cpp:1047: error: (-2:Unspecified error) in function 'cv::usac::mergePoints(cv::InputArray, cv::InputArray, cv::Mat&, bool)::<lambda(cv::Mat&, int)>'\n",
      "> Invalid dimension of point (expected: 'points.cols >= pt_dim'), where\n",
      ">     'points.cols' is 0\n",
      "> must be greater than or equal to\n",
      ">     'pt_dim' is 2\n",
      "\n",
      "Found 0\n",
      "OpenCV(4.11.0) /io/opencv/modules/calib3d/src/usac/ransac_solvers.cpp:1047: error: (-2:Unspecified error) in function 'cv::usac::mergePoints(cv::InputArray, cv::InputArray, cv::Mat&, bool)::<lambda(cv::Mat&, int)>'\n",
      "> Invalid dimension of point (expected: 'points.cols >= pt_dim'), where\n",
      ">     'points.cols' is 0\n",
      "> must be greater than or equal to\n",
      ">     'pt_dim' is 2\n",
      "\n",
      "Found 0\n",
      "OpenCV(4.11.0) /io/opencv/modules/calib3d/src/usac/ransac_solvers.cpp:1047: error: (-2:Unspecified error) in function 'cv::usac::mergePoints(cv::InputArray, cv::InputArray, cv::Mat&, bool)::<lambda(cv::Mat&, int)>'\n",
      "> Invalid dimension of point (expected: 'points.cols >= pt_dim'), where\n",
      ">     'points.cols' is 0\n",
      "> must be greater than or equal to\n",
      ">     'pt_dim' is 2\n",
      "\n",
      "Found 0\n",
      "OpenCV(4.11.0) /io/opencv/modules/calib3d/src/usac/ransac_solvers.cpp:1047: error: (-2:Unspecified error) in function 'cv::usac::mergePoints(cv::InputArray, cv::InputArray, cv::Mat&, bool)::<lambda(cv::Mat&, int)>'\n",
      "> Invalid dimension of point (expected: 'points.cols >= pt_dim'), where\n",
      ">     'points.cols' is 0\n",
      "> must be greater than or equal to\n",
      ">     'pt_dim' is 2\n",
      "\n",
      "Found 4\n",
      "OpenCV(4.11.0) /io/opencv/modules/calib3d/src/usac/sampler.cpp:45: error: (-215:Assertion failed) sample_size <= points_size_ in function 'setPointsSize'\n",
      "\n",
      "Found 1\n",
      "OpenCV(4.11.0) /io/opencv/modules/calib3d/src/usac/ransac_solvers.cpp:1047: error: (-2:Unspecified error) in function 'cv::usac::mergePoints(cv::InputArray, cv::InputArray, cv::Mat&, bool)::<lambda(cv::Mat&, int)>'\n",
      "> Invalid dimension of point (expected: 'points.cols >= pt_dim'), where\n",
      ">     'points.cols' is 1\n",
      "> must be greater than or equal to\n",
      ">     'pt_dim' is 2\n",
      "\n",
      "Found 0\n",
      "OpenCV(4.11.0) /io/opencv/modules/calib3d/src/usac/ransac_solvers.cpp:1047: error: (-2:Unspecified error) in function 'cv::usac::mergePoints(cv::InputArray, cv::InputArray, cv::Mat&, bool)::<lambda(cv::Mat&, int)>'\n",
      "> Invalid dimension of point (expected: 'points.cols >= pt_dim'), where\n",
      ">     'points.cols' is 0\n",
      "> must be greater than or equal to\n",
      ">     'pt_dim' is 2\n",
      "\n"
     ]
    },
    {
     "name": "stderr",
     "output_type": "stream",
     "text": [
      " 27%|██▋       | 5153/18840 [01:31<03:40, 62.07it/s]"
     ]
    },
    {
     "name": "stdout",
     "output_type": "stream",
     "text": [
      "Found 2\n",
      "OpenCV(4.11.0) /io/opencv/modules/calib3d/src/usac/sampler.cpp:45: error: (-215:Assertion failed) sample_size <= points_size_ in function 'setPointsSize'\n",
      "\n",
      "Found 0\n",
      "OpenCV(4.11.0) /io/opencv/modules/calib3d/src/usac/ransac_solvers.cpp:1047: error: (-2:Unspecified error) in function 'cv::usac::mergePoints(cv::InputArray, cv::InputArray, cv::Mat&, bool)::<lambda(cv::Mat&, int)>'\n",
      "> Invalid dimension of point (expected: 'points.cols >= pt_dim'), where\n",
      ">     'points.cols' is 0\n",
      "> must be greater than or equal to\n",
      ">     'pt_dim' is 2\n",
      "\n",
      "Found 0\n",
      "OpenCV(4.11.0) /io/opencv/modules/calib3d/src/usac/ransac_solvers.cpp:1047: error: (-2:Unspecified error) in function 'cv::usac::mergePoints(cv::InputArray, cv::InputArray, cv::Mat&, bool)::<lambda(cv::Mat&, int)>'\n",
      "> Invalid dimension of point (expected: 'points.cols >= pt_dim'), where\n",
      ">     'points.cols' is 0\n",
      "> must be greater than or equal to\n",
      ">     'pt_dim' is 2\n",
      "\n",
      "Found 1\n",
      "OpenCV(4.11.0) /io/opencv/modules/calib3d/src/usac/ransac_solvers.cpp:1047: error: (-2:Unspecified error) in function 'cv::usac::mergePoints(cv::InputArray, cv::InputArray, cv::Mat&, bool)::<lambda(cv::Mat&, int)>'\n",
      "> Invalid dimension of point (expected: 'points.cols >= pt_dim'), where\n",
      ">     'points.cols' is 1\n",
      "> must be greater than or equal to\n",
      ">     'pt_dim' is 2\n",
      "\n",
      "Found 0\n",
      "OpenCV(4.11.0) /io/opencv/modules/calib3d/src/usac/ransac_solvers.cpp:1047: error: (-2:Unspecified error) in function 'cv::usac::mergePoints(cv::InputArray, cv::InputArray, cv::Mat&, bool)::<lambda(cv::Mat&, int)>'\n",
      "> Invalid dimension of point (expected: 'points.cols >= pt_dim'), where\n",
      ">     'points.cols' is 0\n",
      "> must be greater than or equal to\n",
      ">     'pt_dim' is 2\n",
      "\n",
      "Found 0\n",
      "OpenCV(4.11.0) /io/opencv/modules/calib3d/src/usac/ransac_solvers.cpp:1047: error: (-2:Unspecified error) in function 'cv::usac::mergePoints(cv::InputArray, cv::InputArray, cv::Mat&, bool)::<lambda(cv::Mat&, int)>'\n",
      "> Invalid dimension of point (expected: 'points.cols >= pt_dim'), where\n",
      ">     'points.cols' is 0\n",
      "> must be greater than or equal to\n",
      ">     'pt_dim' is 2\n",
      "\n",
      "Found 1\n",
      "OpenCV(4.11.0) /io/opencv/modules/calib3d/src/usac/ransac_solvers.cpp:1047: error: (-2:Unspecified error) in function 'cv::usac::mergePoints(cv::InputArray, cv::InputArray, cv::Mat&, bool)::<lambda(cv::Mat&, int)>'\n",
      "> Invalid dimension of point (expected: 'points.cols >= pt_dim'), where\n",
      ">     'points.cols' is 1\n",
      "> must be greater than or equal to\n",
      ">     'pt_dim' is 2\n",
      "\n",
      "Found 0\n",
      "OpenCV(4.11.0) /io/opencv/modules/calib3d/src/usac/ransac_solvers.cpp:1047: error: (-2:Unspecified error) in function 'cv::usac::mergePoints(cv::InputArray, cv::InputArray, cv::Mat&, bool)::<lambda(cv::Mat&, int)>'\n",
      "> Invalid dimension of point (expected: 'points.cols >= pt_dim'), where\n",
      ">     'points.cols' is 0\n",
      "> must be greater than or equal to\n",
      ">     'pt_dim' is 2\n",
      "\n",
      "Found 0\n",
      "OpenCV(4.11.0) /io/opencv/modules/calib3d/src/usac/ransac_solvers.cpp:1047: error: (-2:Unspecified error) in function 'cv::usac::mergePoints(cv::InputArray, cv::InputArray, cv::Mat&, bool)::<lambda(cv::Mat&, int)>'\n",
      "> Invalid dimension of point (expected: 'points.cols >= pt_dim'), where\n",
      ">     'points.cols' is 0\n",
      "> must be greater than or equal to\n",
      ">     'pt_dim' is 2\n",
      "\n",
      "Found 2\n",
      "OpenCV(4.11.0) /io/opencv/modules/calib3d/src/usac/sampler.cpp:45: error: (-215:Assertion failed) sample_size <= points_size_ in function 'setPointsSize'\n",
      "\n",
      "Found 3\n",
      "OpenCV(4.11.0) /io/opencv/modules/calib3d/src/usac/sampler.cpp:45: error: (-215:Assertion failed) sample_size <= points_size_ in function 'setPointsSize'\n",
      "\n"
     ]
    },
    {
     "name": "stderr",
     "output_type": "stream",
     "text": [
      " 27%|██▋       | 5167/18840 [01:31<03:37, 62.76it/s]"
     ]
    },
    {
     "name": "stdout",
     "output_type": "stream",
     "text": [
      "Found 3\n",
      "OpenCV(4.11.0) /io/opencv/modules/calib3d/src/usac/sampler.cpp:45: error: (-215:Assertion failed) sample_size <= points_size_ in function 'setPointsSize'\n",
      "\n",
      "Found 0\n",
      "OpenCV(4.11.0) /io/opencv/modules/calib3d/src/usac/ransac_solvers.cpp:1047: error: (-2:Unspecified error) in function 'cv::usac::mergePoints(cv::InputArray, cv::InputArray, cv::Mat&, bool)::<lambda(cv::Mat&, int)>'\n",
      "> Invalid dimension of point (expected: 'points.cols >= pt_dim'), where\n",
      ">     'points.cols' is 0\n",
      "> must be greater than or equal to\n",
      ">     'pt_dim' is 2\n",
      "\n",
      "Found 4\n",
      "OpenCV(4.11.0) /io/opencv/modules/calib3d/src/usac/sampler.cpp:45: error: (-215:Assertion failed) sample_size <= points_size_ in function 'setPointsSize'\n",
      "\n",
      "Found 4\n",
      "OpenCV(4.11.0) /io/opencv/modules/calib3d/src/usac/sampler.cpp:45: error: (-215:Assertion failed) sample_size <= points_size_ in function 'setPointsSize'\n",
      "\n",
      "Found 1\n",
      "OpenCV(4.11.0) /io/opencv/modules/calib3d/src/usac/ransac_solvers.cpp:1047: error: (-2:Unspecified error) in function 'cv::usac::mergePoints(cv::InputArray, cv::InputArray, cv::Mat&, bool)::<lambda(cv::Mat&, int)>'\n",
      "> Invalid dimension of point (expected: 'points.cols >= pt_dim'), where\n",
      ">     'points.cols' is 1\n",
      "> must be greater than or equal to\n",
      ">     'pt_dim' is 2\n",
      "\n",
      "Found 0\n",
      "OpenCV(4.11.0) /io/opencv/modules/calib3d/src/usac/ransac_solvers.cpp:1047: error: (-2:Unspecified error) in function 'cv::usac::mergePoints(cv::InputArray, cv::InputArray, cv::Mat&, bool)::<lambda(cv::Mat&, int)>'\n",
      "> Invalid dimension of point (expected: 'points.cols >= pt_dim'), where\n",
      ">     'points.cols' is 0\n",
      "> must be greater than or equal to\n",
      ">     'pt_dim' is 2\n",
      "\n",
      "Found 0\n",
      "OpenCV(4.11.0) /io/opencv/modules/calib3d/src/usac/ransac_solvers.cpp:1047: error: (-2:Unspecified error) in function 'cv::usac::mergePoints(cv::InputArray, cv::InputArray, cv::Mat&, bool)::<lambda(cv::Mat&, int)>'\n",
      "> Invalid dimension of point (expected: 'points.cols >= pt_dim'), where\n",
      ">     'points.cols' is 0\n",
      "> must be greater than or equal to\n",
      ">     'pt_dim' is 2\n",
      "\n",
      "Found 0\n",
      "OpenCV(4.11.0) /io/opencv/modules/calib3d/src/usac/ransac_solvers.cpp:1047: error: (-2:Unspecified error) in function 'cv::usac::mergePoints(cv::InputArray, cv::InputArray, cv::Mat&, bool)::<lambda(cv::Mat&, int)>'\n",
      "> Invalid dimension of point (expected: 'points.cols >= pt_dim'), where\n",
      ">     'points.cols' is 0\n",
      "> must be greater than or equal to\n",
      ">     'pt_dim' is 2\n",
      "\n",
      "Found 2\n",
      "OpenCV(4.11.0) /io/opencv/modules/calib3d/src/usac/sampler.cpp:45: error: (-215:Assertion failed) sample_size <= points_size_ in function 'setPointsSize'\n",
      "\n",
      "Found 0\n",
      "OpenCV(4.11.0) /io/opencv/modules/calib3d/src/usac/ransac_solvers.cpp:1047: error: (-2:Unspecified error) in function 'cv::usac::mergePoints(cv::InputArray, cv::InputArray, cv::Mat&, bool)::<lambda(cv::Mat&, int)>'\n",
      "> Invalid dimension of point (expected: 'points.cols >= pt_dim'), where\n",
      ">     'points.cols' is 0\n",
      "> must be greater than or equal to\n",
      ">     'pt_dim' is 2\n",
      "\n"
     ]
    },
    {
     "name": "stderr",
     "output_type": "stream",
     "text": [
      " 28%|██▊       | 5181/18840 [01:31<03:39, 62.36it/s]"
     ]
    },
    {
     "name": "stdout",
     "output_type": "stream",
     "text": [
      "Found 0\n",
      "OpenCV(4.11.0) /io/opencv/modules/calib3d/src/usac/ransac_solvers.cpp:1047: error: (-2:Unspecified error) in function 'cv::usac::mergePoints(cv::InputArray, cv::InputArray, cv::Mat&, bool)::<lambda(cv::Mat&, int)>'\n",
      "> Invalid dimension of point (expected: 'points.cols >= pt_dim'), where\n",
      ">     'points.cols' is 0\n",
      "> must be greater than or equal to\n",
      ">     'pt_dim' is 2\n",
      "\n",
      "Found 0\n",
      "OpenCV(4.11.0) /io/opencv/modules/calib3d/src/usac/ransac_solvers.cpp:1047: error: (-2:Unspecified error) in function 'cv::usac::mergePoints(cv::InputArray, cv::InputArray, cv::Mat&, bool)::<lambda(cv::Mat&, int)>'\n",
      "> Invalid dimension of point (expected: 'points.cols >= pt_dim'), where\n",
      ">     'points.cols' is 0\n",
      "> must be greater than or equal to\n",
      ">     'pt_dim' is 2\n",
      "\n",
      "Found 1\n",
      "OpenCV(4.11.0) /io/opencv/modules/calib3d/src/usac/ransac_solvers.cpp:1047: error: (-2:Unspecified error) in function 'cv::usac::mergePoints(cv::InputArray, cv::InputArray, cv::Mat&, bool)::<lambda(cv::Mat&, int)>'\n",
      "> Invalid dimension of point (expected: 'points.cols >= pt_dim'), where\n",
      ">     'points.cols' is 1\n",
      "> must be greater than or equal to\n",
      ">     'pt_dim' is 2\n",
      "\n",
      "Found 5\n",
      "OpenCV(4.11.0) /io/opencv/modules/calib3d/src/usac/sampler.cpp:45: error: (-215:Assertion failed) sample_size <= points_size_ in function 'setPointsSize'\n",
      "\n",
      "Found 0\n",
      "OpenCV(4.11.0) /io/opencv/modules/calib3d/src/usac/ransac_solvers.cpp:1047: error: (-2:Unspecified error) in function 'cv::usac::mergePoints(cv::InputArray, cv::InputArray, cv::Mat&, bool)::<lambda(cv::Mat&, int)>'\n",
      "> Invalid dimension of point (expected: 'points.cols >= pt_dim'), where\n",
      ">     'points.cols' is 0\n",
      "> must be greater than or equal to\n",
      ">     'pt_dim' is 2\n",
      "\n",
      "Found 0\n",
      "OpenCV(4.11.0) /io/opencv/modules/calib3d/src/usac/ransac_solvers.cpp:1047: error: (-2:Unspecified error) in function 'cv::usac::mergePoints(cv::InputArray, cv::InputArray, cv::Mat&, bool)::<lambda(cv::Mat&, int)>'\n",
      "> Invalid dimension of point (expected: 'points.cols >= pt_dim'), where\n",
      ">     'points.cols' is 0\n",
      "> must be greater than or equal to\n",
      ">     'pt_dim' is 2\n",
      "\n",
      "Found 0\n",
      "OpenCV(4.11.0) /io/opencv/modules/calib3d/src/usac/ransac_solvers.cpp:1047: error: (-2:Unspecified error) in function 'cv::usac::mergePoints(cv::InputArray, cv::InputArray, cv::Mat&, bool)::<lambda(cv::Mat&, int)>'\n",
      "> Invalid dimension of point (expected: 'points.cols >= pt_dim'), where\n",
      ">     'points.cols' is 0\n",
      "> must be greater than or equal to\n",
      ">     'pt_dim' is 2\n",
      "\n",
      "Found 0\n",
      "OpenCV(4.11.0) /io/opencv/modules/calib3d/src/usac/ransac_solvers.cpp:1047: error: (-2:Unspecified error) in function 'cv::usac::mergePoints(cv::InputArray, cv::InputArray, cv::Mat&, bool)::<lambda(cv::Mat&, int)>'\n",
      "> Invalid dimension of point (expected: 'points.cols >= pt_dim'), where\n",
      ">     'points.cols' is 0\n",
      "> must be greater than or equal to\n",
      ">     'pt_dim' is 2\n",
      "\n",
      "Found 1\n",
      "OpenCV(4.11.0) /io/opencv/modules/calib3d/src/usac/ransac_solvers.cpp:1047: error: (-2:Unspecified error) in function 'cv::usac::mergePoints(cv::InputArray, cv::InputArray, cv::Mat&, bool)::<lambda(cv::Mat&, int)>'\n",
      "> Invalid dimension of point (expected: 'points.cols >= pt_dim'), where\n",
      ">     'points.cols' is 1\n",
      "> must be greater than or equal to\n",
      ">     'pt_dim' is 2\n",
      "\n"
     ]
    },
    {
     "name": "stderr",
     "output_type": "stream",
     "text": [
      " 28%|██▊       | 5202/18840 [01:31<02:45, 82.36it/s]"
     ]
    },
    {
     "name": "stdout",
     "output_type": "stream",
     "text": [
      "Found 0\n",
      "OpenCV(4.11.0) /io/opencv/modules/calib3d/src/usac/ransac_solvers.cpp:1047: error: (-2:Unspecified error) in function 'cv::usac::mergePoints(cv::InputArray, cv::InputArray, cv::Mat&, bool)::<lambda(cv::Mat&, int)>'\n",
      "> Invalid dimension of point (expected: 'points.cols >= pt_dim'), where\n",
      ">     'points.cols' is 0\n",
      "> must be greater than or equal to\n",
      ">     'pt_dim' is 2\n",
      "\n",
      "Found 0\n",
      "OpenCV(4.11.0) /io/opencv/modules/calib3d/src/usac/ransac_solvers.cpp:1047: error: (-2:Unspecified error) in function 'cv::usac::mergePoints(cv::InputArray, cv::InputArray, cv::Mat&, bool)::<lambda(cv::Mat&, int)>'\n",
      "> Invalid dimension of point (expected: 'points.cols >= pt_dim'), where\n",
      ">     'points.cols' is 0\n",
      "> must be greater than or equal to\n",
      ">     'pt_dim' is 2\n",
      "\n",
      "Found 4\n",
      "OpenCV(4.11.0) /io/opencv/modules/calib3d/src/usac/sampler.cpp:45: error: (-215:Assertion failed) sample_size <= points_size_ in function 'setPointsSize'\n",
      "\n",
      "Found 0\n",
      "OpenCV(4.11.0) /io/opencv/modules/calib3d/src/usac/ransac_solvers.cpp:1047: error: (-2:Unspecified error) in function 'cv::usac::mergePoints(cv::InputArray, cv::InputArray, cv::Mat&, bool)::<lambda(cv::Mat&, int)>'\n",
      "> Invalid dimension of point (expected: 'points.cols >= pt_dim'), where\n",
      ">     'points.cols' is 0\n",
      "> must be greater than or equal to\n",
      ">     'pt_dim' is 2\n",
      "\n",
      "Found 0\n",
      "OpenCV(4.11.0) /io/opencv/modules/calib3d/src/usac/ransac_solvers.cpp:1047: error: (-2:Unspecified error) in function 'cv::usac::mergePoints(cv::InputArray, cv::InputArray, cv::Mat&, bool)::<lambda(cv::Mat&, int)>'\n",
      "> Invalid dimension of point (expected: 'points.cols >= pt_dim'), where\n",
      ">     'points.cols' is 0\n",
      "> must be greater than or equal to\n",
      ">     'pt_dim' is 2\n",
      "\n",
      "Found 6\n",
      "OpenCV(4.11.0) /io/opencv/modules/calib3d/src/usac/sampler.cpp:45: error: (-215:Assertion failed) sample_size <= points_size_ in function 'setPointsSize'\n",
      "\n",
      "Found 0\n",
      "OpenCV(4.11.0) /io/opencv/modules/calib3d/src/usac/ransac_solvers.cpp:1047: error: (-2:Unspecified error) in function 'cv::usac::mergePoints(cv::InputArray, cv::InputArray, cv::Mat&, bool)::<lambda(cv::Mat&, int)>'\n",
      "> Invalid dimension of point (expected: 'points.cols >= pt_dim'), where\n",
      ">     'points.cols' is 0\n",
      "> must be greater than or equal to\n",
      ">     'pt_dim' is 2\n",
      "\n",
      "Found 5\n",
      "OpenCV(4.11.0) /io/opencv/modules/calib3d/src/usac/sampler.cpp:45: error: (-215:Assertion failed) sample_size <= points_size_ in function 'setPointsSize'\n",
      "\n"
     ]
    },
    {
     "name": "stderr",
     "output_type": "stream",
     "text": [
      " 28%|██▊       | 5233/18840 [01:32<01:58, 114.45it/s]"
     ]
    },
    {
     "name": "stdout",
     "output_type": "stream",
     "text": [
      "Found 0\n",
      "OpenCV(4.11.0) /io/opencv/modules/calib3d/src/usac/ransac_solvers.cpp:1047: error: (-2:Unspecified error) in function 'cv::usac::mergePoints(cv::InputArray, cv::InputArray, cv::Mat&, bool)::<lambda(cv::Mat&, int)>'\n",
      "> Invalid dimension of point (expected: 'points.cols >= pt_dim'), where\n",
      ">     'points.cols' is 0\n",
      "> must be greater than or equal to\n",
      ">     'pt_dim' is 2\n",
      "\n"
     ]
    },
    {
     "name": "stderr",
     "output_type": "stream",
     "text": [
      " 29%|██▉       | 5449/18840 [01:36<02:15, 98.49it/s] "
     ]
    },
    {
     "name": "stdout",
     "output_type": "stream",
     "text": [
      "Found 0\n",
      "OpenCV(4.11.0) /io/opencv/modules/calib3d/src/usac/ransac_solvers.cpp:1047: error: (-2:Unspecified error) in function 'cv::usac::mergePoints(cv::InputArray, cv::InputArray, cv::Mat&, bool)::<lambda(cv::Mat&, int)>'\n",
      "> Invalid dimension of point (expected: 'points.cols >= pt_dim'), where\n",
      ">     'points.cols' is 0\n",
      "> must be greater than or equal to\n",
      ">     'pt_dim' is 2\n",
      "\n",
      "Found 0\n",
      "OpenCV(4.11.0) /io/opencv/modules/calib3d/src/usac/ransac_solvers.cpp:1047: error: (-2:Unspecified error) in function 'cv::usac::mergePoints(cv::InputArray, cv::InputArray, cv::Mat&, bool)::<lambda(cv::Mat&, int)>'\n",
      "> Invalid dimension of point (expected: 'points.cols >= pt_dim'), where\n",
      ">     'points.cols' is 0\n",
      "> must be greater than or equal to\n",
      ">     'pt_dim' is 2\n",
      "\n",
      "Found 0\n",
      "OpenCV(4.11.0) /io/opencv/modules/calib3d/src/usac/ransac_solvers.cpp:1047: error: (-2:Unspecified error) in function 'cv::usac::mergePoints(cv::InputArray, cv::InputArray, cv::Mat&, bool)::<lambda(cv::Mat&, int)>'\n",
      "> Invalid dimension of point (expected: 'points.cols >= pt_dim'), where\n",
      ">     'points.cols' is 0\n",
      "> must be greater than or equal to\n",
      ">     'pt_dim' is 2\n",
      "\n"
     ]
    },
    {
     "name": "stderr",
     "output_type": "stream",
     "text": [
      " 29%|██▉       | 5472/18840 [01:37<02:07, 104.82it/s]"
     ]
    },
    {
     "name": "stdout",
     "output_type": "stream",
     "text": [
      "Found 0\n",
      "OpenCV(4.11.0) /io/opencv/modules/calib3d/src/usac/ransac_solvers.cpp:1047: error: (-2:Unspecified error) in function 'cv::usac::mergePoints(cv::InputArray, cv::InputArray, cv::Mat&, bool)::<lambda(cv::Mat&, int)>'\n",
      "> Invalid dimension of point (expected: 'points.cols >= pt_dim'), where\n",
      ">     'points.cols' is 0\n",
      "> must be greater than or equal to\n",
      ">     'pt_dim' is 2\n",
      "\n"
     ]
    },
    {
     "name": "stderr",
     "output_type": "stream",
     "text": [
      " 30%|██▉       | 5596/18840 [01:38<01:44, 126.82it/s]"
     ]
    },
    {
     "name": "stdout",
     "output_type": "stream",
     "text": [
      "Found 3\n",
      "OpenCV(4.11.0) /io/opencv/modules/calib3d/src/usac/sampler.cpp:45: error: (-215:Assertion failed) sample_size <= points_size_ in function 'setPointsSize'\n",
      "\n",
      "Found 3\n",
      "OpenCV(4.11.0) /io/opencv/modules/calib3d/src/usac/sampler.cpp:45: error: (-215:Assertion failed) sample_size <= points_size_ in function 'setPointsSize'\n",
      "\n",
      "Found 0\n",
      "OpenCV(4.11.0) /io/opencv/modules/calib3d/src/usac/ransac_solvers.cpp:1047: error: (-2:Unspecified error) in function 'cv::usac::mergePoints(cv::InputArray, cv::InputArray, cv::Mat&, bool)::<lambda(cv::Mat&, int)>'\n",
      "> Invalid dimension of point (expected: 'points.cols >= pt_dim'), where\n",
      ">     'points.cols' is 0\n",
      "> must be greater than or equal to\n",
      ">     'pt_dim' is 2\n",
      "\n"
     ]
    },
    {
     "name": "stderr",
     "output_type": "stream",
     "text": [
      " 30%|███       | 5695/18840 [01:39<02:36, 84.02it/s] "
     ]
    },
    {
     "name": "stdout",
     "output_type": "stream",
     "text": [
      "Found 0\n",
      "OpenCV(4.11.0) /io/opencv/modules/calib3d/src/usac/ransac_solvers.cpp:1047: error: (-2:Unspecified error) in function 'cv::usac::mergePoints(cv::InputArray, cv::InputArray, cv::Mat&, bool)::<lambda(cv::Mat&, int)>'\n",
      "> Invalid dimension of point (expected: 'points.cols >= pt_dim'), where\n",
      ">     'points.cols' is 0\n",
      "> must be greater than or equal to\n",
      ">     'pt_dim' is 2\n",
      "\n"
     ]
    },
    {
     "name": "stderr",
     "output_type": "stream",
     "text": [
      " 30%|███       | 5705/18840 [01:39<02:53, 75.61it/s]"
     ]
    },
    {
     "name": "stdout",
     "output_type": "stream",
     "text": [
      "Found 0\n",
      "OpenCV(4.11.0) /io/opencv/modules/calib3d/src/usac/ransac_solvers.cpp:1047: error: (-2:Unspecified error) in function 'cv::usac::mergePoints(cv::InputArray, cv::InputArray, cv::Mat&, bool)::<lambda(cv::Mat&, int)>'\n",
      "> Invalid dimension of point (expected: 'points.cols >= pt_dim'), where\n",
      ">     'points.cols' is 0\n",
      "> must be greater than or equal to\n",
      ">     'pt_dim' is 2\n",
      "\n"
     ]
    },
    {
     "name": "stderr",
     "output_type": "stream",
     "text": [
      " 31%|███       | 5816/18840 [01:41<03:39, 59.35it/s]"
     ]
    },
    {
     "name": "stdout",
     "output_type": "stream",
     "text": [
      "Found 1\n",
      "OpenCV(4.11.0) /io/opencv/modules/calib3d/src/usac/ransac_solvers.cpp:1047: error: (-2:Unspecified error) in function 'cv::usac::mergePoints(cv::InputArray, cv::InputArray, cv::Mat&, bool)::<lambda(cv::Mat&, int)>'\n",
      "> Invalid dimension of point (expected: 'points.cols >= pt_dim'), where\n",
      ">     'points.cols' is 1\n",
      "> must be greater than or equal to\n",
      ">     'pt_dim' is 2\n",
      "\n"
     ]
    },
    {
     "name": "stderr",
     "output_type": "stream",
     "text": [
      " 31%|███       | 5828/18840 [01:41<03:47, 57.27it/s]"
     ]
    },
    {
     "name": "stdout",
     "output_type": "stream",
     "text": [
      "Found 0\n",
      "OpenCV(4.11.0) /io/opencv/modules/calib3d/src/usac/ransac_solvers.cpp:1047: error: (-2:Unspecified error) in function 'cv::usac::mergePoints(cv::InputArray, cv::InputArray, cv::Mat&, bool)::<lambda(cv::Mat&, int)>'\n",
      "> Invalid dimension of point (expected: 'points.cols >= pt_dim'), where\n",
      ">     'points.cols' is 0\n",
      "> must be greater than or equal to\n",
      ">     'pt_dim' is 2\n",
      "\n"
     ]
    },
    {
     "name": "stderr",
     "output_type": "stream",
     "text": [
      " 31%|███       | 5869/18840 [01:42<02:30, 86.36it/s]"
     ]
    },
    {
     "name": "stdout",
     "output_type": "stream",
     "text": [
      "Found 0\n",
      "OpenCV(4.11.0) /io/opencv/modules/calib3d/src/usac/ransac_solvers.cpp:1047: error: (-2:Unspecified error) in function 'cv::usac::mergePoints(cv::InputArray, cv::InputArray, cv::Mat&, bool)::<lambda(cv::Mat&, int)>'\n",
      "> Invalid dimension of point (expected: 'points.cols >= pt_dim'), where\n",
      ">     'points.cols' is 0\n",
      "> must be greater than or equal to\n",
      ">     'pt_dim' is 2\n",
      "\n"
     ]
    },
    {
     "name": "stderr",
     "output_type": "stream",
     "text": [
      " 33%|███▎      | 6179/18840 [01:46<01:47, 117.79it/s]"
     ]
    },
    {
     "name": "stdout",
     "output_type": "stream",
     "text": [
      "Found 1\n",
      "OpenCV(4.11.0) /io/opencv/modules/calib3d/src/usac/ransac_solvers.cpp:1047: error: (-2:Unspecified error) in function 'cv::usac::mergePoints(cv::InputArray, cv::InputArray, cv::Mat&, bool)::<lambda(cv::Mat&, int)>'\n",
      "> Invalid dimension of point (expected: 'points.cols >= pt_dim'), where\n",
      ">     'points.cols' is 1\n",
      "> must be greater than or equal to\n",
      ">     'pt_dim' is 2\n",
      "\n",
      "Found 0\n",
      "OpenCV(4.11.0) /io/opencv/modules/calib3d/src/usac/ransac_solvers.cpp:1047: error: (-2:Unspecified error) in function 'cv::usac::mergePoints(cv::InputArray, cv::InputArray, cv::Mat&, bool)::<lambda(cv::Mat&, int)>'\n",
      "> Invalid dimension of point (expected: 'points.cols >= pt_dim'), where\n",
      ">     'points.cols' is 0\n",
      "> must be greater than or equal to\n",
      ">     'pt_dim' is 2\n",
      "\n",
      "Found 1\n",
      "OpenCV(4.11.0) /io/opencv/modules/calib3d/src/usac/ransac_solvers.cpp:1047: error: (-2:Unspecified error) in function 'cv::usac::mergePoints(cv::InputArray, cv::InputArray, cv::Mat&, bool)::<lambda(cv::Mat&, int)>'\n",
      "> Invalid dimension of point (expected: 'points.cols >= pt_dim'), where\n",
      ">     'points.cols' is 1\n",
      "> must be greater than or equal to\n",
      ">     'pt_dim' is 2\n",
      "\n",
      "Found 1\n",
      "OpenCV(4.11.0) /io/opencv/modules/calib3d/src/usac/ransac_solvers.cpp:1047: error: (-2:Unspecified error) in function 'cv::usac::mergePoints(cv::InputArray, cv::InputArray, cv::Mat&, bool)::<lambda(cv::Mat&, int)>'\n",
      "> Invalid dimension of point (expected: 'points.cols >= pt_dim'), where\n",
      ">     'points.cols' is 1\n",
      "> must be greater than or equal to\n",
      ">     'pt_dim' is 2\n",
      "\n",
      "Found 4\n",
      "OpenCV(4.11.0) /io/opencv/modules/calib3d/src/usac/sampler.cpp:45: error: (-215:Assertion failed) sample_size <= points_size_ in function 'setPointsSize'\n",
      "\n"
     ]
    },
    {
     "name": "stderr",
     "output_type": "stream",
     "text": [
      " 33%|███▎      | 6214/18840 [01:47<01:50, 114.30it/s]"
     ]
    },
    {
     "name": "stdout",
     "output_type": "stream",
     "text": [
      "Found 0\n",
      "OpenCV(4.11.0) /io/opencv/modules/calib3d/src/usac/ransac_solvers.cpp:1047: error: (-2:Unspecified error) in function 'cv::usac::mergePoints(cv::InputArray, cv::InputArray, cv::Mat&, bool)::<lambda(cv::Mat&, int)>'\n",
      "> Invalid dimension of point (expected: 'points.cols >= pt_dim'), where\n",
      ">     'points.cols' is 0\n",
      "> must be greater than or equal to\n",
      ">     'pt_dim' is 2\n",
      "\n"
     ]
    },
    {
     "name": "stderr",
     "output_type": "stream",
     "text": [
      " 33%|███▎      | 6227/18840 [01:47<02:19, 90.49it/s] "
     ]
    },
    {
     "name": "stdout",
     "output_type": "stream",
     "text": [
      "Found 1\n",
      "OpenCV(4.11.0) /io/opencv/modules/calib3d/src/usac/ransac_solvers.cpp:1047: error: (-2:Unspecified error) in function 'cv::usac::mergePoints(cv::InputArray, cv::InputArray, cv::Mat&, bool)::<lambda(cv::Mat&, int)>'\n",
      "> Invalid dimension of point (expected: 'points.cols >= pt_dim'), where\n",
      ">     'points.cols' is 1\n",
      "> must be greater than or equal to\n",
      ">     'pt_dim' is 2\n",
      "\n"
     ]
    },
    {
     "name": "stderr",
     "output_type": "stream",
     "text": [
      " 33%|███▎      | 6247/18840 [01:47<02:55, 71.82it/s]"
     ]
    },
    {
     "name": "stdout",
     "output_type": "stream",
     "text": [
      "Found 0\n",
      "OpenCV(4.11.0) /io/opencv/modules/calib3d/src/usac/ransac_solvers.cpp:1047: error: (-2:Unspecified error) in function 'cv::usac::mergePoints(cv::InputArray, cv::InputArray, cv::Mat&, bool)::<lambda(cv::Mat&, int)>'\n",
      "> Invalid dimension of point (expected: 'points.cols >= pt_dim'), where\n",
      ">     'points.cols' is 0\n",
      "> must be greater than or equal to\n",
      ">     'pt_dim' is 2\n",
      "\n"
     ]
    },
    {
     "name": "stderr",
     "output_type": "stream",
     "text": [
      " 33%|███▎      | 6284/18840 [01:48<02:37, 79.86it/s]"
     ]
    },
    {
     "name": "stdout",
     "output_type": "stream",
     "text": [
      "Found 1\n",
      "OpenCV(4.11.0) /io/opencv/modules/calib3d/src/usac/ransac_solvers.cpp:1047: error: (-2:Unspecified error) in function 'cv::usac::mergePoints(cv::InputArray, cv::InputArray, cv::Mat&, bool)::<lambda(cv::Mat&, int)>'\n",
      "> Invalid dimension of point (expected: 'points.cols >= pt_dim'), where\n",
      ">     'points.cols' is 1\n",
      "> must be greater than or equal to\n",
      ">     'pt_dim' is 2\n",
      "\n",
      "Found 2\n",
      "OpenCV(4.11.0) /io/opencv/modules/calib3d/src/usac/sampler.cpp:45: error: (-215:Assertion failed) sample_size <= points_size_ in function 'setPointsSize'\n",
      "\n",
      "Found 5\n",
      "OpenCV(4.11.0) /io/opencv/modules/calib3d/src/usac/sampler.cpp:45: error: (-215:Assertion failed) sample_size <= points_size_ in function 'setPointsSize'\n",
      "\n",
      "Found 0\n",
      "OpenCV(4.11.0) /io/opencv/modules/calib3d/src/usac/ransac_solvers.cpp:1047: error: (-2:Unspecified error) in function 'cv::usac::mergePoints(cv::InputArray, cv::InputArray, cv::Mat&, bool)::<lambda(cv::Mat&, int)>'\n",
      "> Invalid dimension of point (expected: 'points.cols >= pt_dim'), where\n",
      ">     'points.cols' is 0\n",
      "> must be greater than or equal to\n",
      ">     'pt_dim' is 2\n",
      "\n"
     ]
    },
    {
     "name": "stderr",
     "output_type": "stream",
     "text": [
      " 34%|███▍      | 6455/18840 [01:50<04:11, 49.24it/s] "
     ]
    },
    {
     "name": "stdout",
     "output_type": "stream",
     "text": [
      "Found 1\n",
      "OpenCV(4.11.0) /io/opencv/modules/calib3d/src/usac/ransac_solvers.cpp:1047: error: (-2:Unspecified error) in function 'cv::usac::mergePoints(cv::InputArray, cv::InputArray, cv::Mat&, bool)::<lambda(cv::Mat&, int)>'\n",
      "> Invalid dimension of point (expected: 'points.cols >= pt_dim'), where\n",
      ">     'points.cols' is 1\n",
      "> must be greater than or equal to\n",
      ">     'pt_dim' is 2\n",
      "\n"
     ]
    },
    {
     "name": "stderr",
     "output_type": "stream",
     "text": [
      " 34%|███▍      | 6470/18840 [01:51<04:34, 45.11it/s]"
     ]
    },
    {
     "name": "stdout",
     "output_type": "stream",
     "text": [
      "Found 0\n",
      "OpenCV(4.11.0) /io/opencv/modules/calib3d/src/usac/ransac_solvers.cpp:1047: error: (-2:Unspecified error) in function 'cv::usac::mergePoints(cv::InputArray, cv::InputArray, cv::Mat&, bool)::<lambda(cv::Mat&, int)>'\n",
      "> Invalid dimension of point (expected: 'points.cols >= pt_dim'), where\n",
      ">     'points.cols' is 0\n",
      "> must be greater than or equal to\n",
      ">     'pt_dim' is 2\n",
      "\n"
     ]
    },
    {
     "name": "stderr",
     "output_type": "stream",
     "text": [
      " 35%|███▍      | 6509/18840 [01:51<02:53, 71.08it/s]"
     ]
    },
    {
     "name": "stdout",
     "output_type": "stream",
     "text": [
      "Found 0\n",
      "OpenCV(4.11.0) /io/opencv/modules/calib3d/src/usac/ransac_solvers.cpp:1047: error: (-2:Unspecified error) in function 'cv::usac::mergePoints(cv::InputArray, cv::InputArray, cv::Mat&, bool)::<lambda(cv::Mat&, int)>'\n",
      "> Invalid dimension of point (expected: 'points.cols >= pt_dim'), where\n",
      ">     'points.cols' is 0\n",
      "> must be greater than or equal to\n",
      ">     'pt_dim' is 2\n",
      "\n"
     ]
    },
    {
     "name": "stderr",
     "output_type": "stream",
     "text": [
      " 35%|███▌      | 6634/18840 [01:53<03:59, 50.88it/s]"
     ]
    },
    {
     "name": "stdout",
     "output_type": "stream",
     "text": [
      "Found 0\n",
      "OpenCV(4.11.0) /io/opencv/modules/calib3d/src/usac/ransac_solvers.cpp:1047: error: (-2:Unspecified error) in function 'cv::usac::mergePoints(cv::InputArray, cv::InputArray, cv::Mat&, bool)::<lambda(cv::Mat&, int)>'\n",
      "> Invalid dimension of point (expected: 'points.cols >= pt_dim'), where\n",
      ">     'points.cols' is 0\n",
      "> must be greater than or equal to\n",
      ">     'pt_dim' is 2\n",
      "\n"
     ]
    },
    {
     "name": "stderr",
     "output_type": "stream",
     "text": [
      " 35%|███▌      | 6646/18840 [01:54<03:59, 50.83it/s]"
     ]
    },
    {
     "name": "stdout",
     "output_type": "stream",
     "text": [
      "Found 0\n",
      "OpenCV(4.11.0) /io/opencv/modules/calib3d/src/usac/ransac_solvers.cpp:1047: error: (-2:Unspecified error) in function 'cv::usac::mergePoints(cv::InputArray, cv::InputArray, cv::Mat&, bool)::<lambda(cv::Mat&, int)>'\n",
      "> Invalid dimension of point (expected: 'points.cols >= pt_dim'), where\n",
      ">     'points.cols' is 0\n",
      "> must be greater than or equal to\n",
      ">     'pt_dim' is 2\n",
      "\n"
     ]
    },
    {
     "name": "stderr",
     "output_type": "stream",
     "text": [
      " 35%|███▌      | 6676/18840 [01:54<03:30, 57.87it/s]"
     ]
    },
    {
     "name": "stdout",
     "output_type": "stream",
     "text": [
      "Found 1\n",
      "OpenCV(4.11.0) /io/opencv/modules/calib3d/src/usac/ransac_solvers.cpp:1047: error: (-2:Unspecified error) in function 'cv::usac::mergePoints(cv::InputArray, cv::InputArray, cv::Mat&, bool)::<lambda(cv::Mat&, int)>'\n",
      "> Invalid dimension of point (expected: 'points.cols >= pt_dim'), where\n",
      ">     'points.cols' is 1\n",
      "> must be greater than or equal to\n",
      ">     'pt_dim' is 2\n",
      "\n",
      "Found 0\n",
      "OpenCV(4.11.0) /io/opencv/modules/calib3d/src/usac/ransac_solvers.cpp:1047: error: (-2:Unspecified error) in function 'cv::usac::mergePoints(cv::InputArray, cv::InputArray, cv::Mat&, bool)::<lambda(cv::Mat&, int)>'\n",
      "> Invalid dimension of point (expected: 'points.cols >= pt_dim'), where\n",
      ">     'points.cols' is 0\n",
      "> must be greater than or equal to\n",
      ">     'pt_dim' is 2\n",
      "\n",
      "Found 4\n",
      "OpenCV(4.11.0) /io/opencv/modules/calib3d/src/usac/sampler.cpp:45: error: (-215:Assertion failed) sample_size <= points_size_ in function 'setPointsSize'\n",
      "\n",
      "Found 2\n",
      "OpenCV(4.11.0) /io/opencv/modules/calib3d/src/usac/sampler.cpp:45: error: (-215:Assertion failed) sample_size <= points_size_ in function 'setPointsSize'\n",
      "\n",
      "Found 0\n",
      "OpenCV(4.11.0) /io/opencv/modules/calib3d/src/usac/ransac_solvers.cpp:1047: error: (-2:Unspecified error) in function 'cv::usac::mergePoints(cv::InputArray, cv::InputArray, cv::Mat&, bool)::<lambda(cv::Mat&, int)>'\n",
      "> Invalid dimension of point (expected: 'points.cols >= pt_dim'), where\n",
      ">     'points.cols' is 0\n",
      "> must be greater than or equal to\n",
      ">     'pt_dim' is 2\n",
      "\n",
      "Found 2\n",
      "OpenCV(4.11.0) /io/opencv/modules/calib3d/src/usac/sampler.cpp:45: error: (-215:Assertion failed) sample_size <= points_size_ in function 'setPointsSize'\n",
      "\n",
      "Found 0\n",
      "OpenCV(4.11.0) /io/opencv/modules/calib3d/src/usac/ransac_solvers.cpp:1047: error: (-2:Unspecified error) in function 'cv::usac::mergePoints(cv::InputArray, cv::InputArray, cv::Mat&, bool)::<lambda(cv::Mat&, int)>'\n",
      "> Invalid dimension of point (expected: 'points.cols >= pt_dim'), where\n",
      ">     'points.cols' is 0\n",
      "> must be greater than or equal to\n",
      ">     'pt_dim' is 2\n",
      "\n"
     ]
    },
    {
     "name": "stderr",
     "output_type": "stream",
     "text": [
      " 36%|███▌      | 6702/18840 [01:54<02:11, 92.01it/s]"
     ]
    },
    {
     "name": "stdout",
     "output_type": "stream",
     "text": [
      "Found 4\n",
      "OpenCV(4.11.0) /io/opencv/modules/calib3d/src/usac/sampler.cpp:45: error: (-215:Assertion failed) sample_size <= points_size_ in function 'setPointsSize'\n",
      "\n",
      "Found 1\n",
      "OpenCV(4.11.0) /io/opencv/modules/calib3d/src/usac/ransac_solvers.cpp:1047: error: (-2:Unspecified error) in function 'cv::usac::mergePoints(cv::InputArray, cv::InputArray, cv::Mat&, bool)::<lambda(cv::Mat&, int)>'\n",
      "> Invalid dimension of point (expected: 'points.cols >= pt_dim'), where\n",
      ">     'points.cols' is 1\n",
      "> must be greater than or equal to\n",
      ">     'pt_dim' is 2\n",
      "\n",
      "Found 4\n",
      "OpenCV(4.11.0) /io/opencv/modules/calib3d/src/usac/sampler.cpp:45: error: (-215:Assertion failed) sample_size <= points_size_ in function 'setPointsSize'\n",
      "\n",
      "Found 5\n",
      "OpenCV(4.11.0) /io/opencv/modules/calib3d/src/usac/sampler.cpp:45: error: (-215:Assertion failed) sample_size <= points_size_ in function 'setPointsSize'\n",
      "\n",
      "Found 2\n",
      "OpenCV(4.11.0) /io/opencv/modules/calib3d/src/usac/sampler.cpp:45: error: (-215:Assertion failed) sample_size <= points_size_ in function 'setPointsSize'\n",
      "\n",
      "Found 4\n",
      "OpenCV(4.11.0) /io/opencv/modules/calib3d/src/usac/sampler.cpp:45: error: (-215:Assertion failed) sample_size <= points_size_ in function 'setPointsSize'\n",
      "\n"
     ]
    },
    {
     "name": "stderr",
     "output_type": "stream",
     "text": [
      " 36%|███▌      | 6731/18840 [01:55<01:45, 114.35it/s]"
     ]
    },
    {
     "name": "stdout",
     "output_type": "stream",
     "text": [
      "Found 1\n",
      "OpenCV(4.11.0) /io/opencv/modules/calib3d/src/usac/ransac_solvers.cpp:1047: error: (-2:Unspecified error) in function 'cv::usac::mergePoints(cv::InputArray, cv::InputArray, cv::Mat&, bool)::<lambda(cv::Mat&, int)>'\n",
      "> Invalid dimension of point (expected: 'points.cols >= pt_dim'), where\n",
      ">     'points.cols' is 1\n",
      "> must be greater than or equal to\n",
      ">     'pt_dim' is 2\n",
      "\n",
      "Found 0\n",
      "OpenCV(4.11.0) /io/opencv/modules/calib3d/src/usac/ransac_solvers.cpp:1047: error: (-2:Unspecified error) in function 'cv::usac::mergePoints(cv::InputArray, cv::InputArray, cv::Mat&, bool)::<lambda(cv::Mat&, int)>'\n",
      "> Invalid dimension of point (expected: 'points.cols >= pt_dim'), where\n",
      ">     'points.cols' is 0\n",
      "> must be greater than or equal to\n",
      ">     'pt_dim' is 2\n",
      "\n",
      "Found 3\n",
      "OpenCV(4.11.0) /io/opencv/modules/calib3d/src/usac/sampler.cpp:45: error: (-215:Assertion failed) sample_size <= points_size_ in function 'setPointsSize'\n",
      "\n",
      "Found 2\n",
      "OpenCV(4.11.0) /io/opencv/modules/calib3d/src/usac/sampler.cpp:45: error: (-215:Assertion failed) sample_size <= points_size_ in function 'setPointsSize'\n",
      "\n",
      "Found 0\n",
      "OpenCV(4.11.0) /io/opencv/modules/calib3d/src/usac/ransac_solvers.cpp:1047: error: (-2:Unspecified error) in function 'cv::usac::mergePoints(cv::InputArray, cv::InputArray, cv::Mat&, bool)::<lambda(cv::Mat&, int)>'\n",
      "> Invalid dimension of point (expected: 'points.cols >= pt_dim'), where\n",
      ">     'points.cols' is 0\n",
      "> must be greater than or equal to\n",
      ">     'pt_dim' is 2\n",
      "\n",
      "Found 2\n",
      "OpenCV(4.11.0) /io/opencv/modules/calib3d/src/usac/sampler.cpp:45: error: (-215:Assertion failed) sample_size <= points_size_ in function 'setPointsSize'\n",
      "\n",
      "Found 2\n",
      "OpenCV(4.11.0) /io/opencv/modules/calib3d/src/usac/sampler.cpp:45: error: (-215:Assertion failed) sample_size <= points_size_ in function 'setPointsSize'\n",
      "\n"
     ]
    },
    {
     "name": "stderr",
     "output_type": "stream",
     "text": [
      " 36%|███▌      | 6762/18840 [01:55<01:33, 129.75it/s]"
     ]
    },
    {
     "name": "stdout",
     "output_type": "stream",
     "text": [
      "Found 0\n",
      "OpenCV(4.11.0) /io/opencv/modules/calib3d/src/usac/ransac_solvers.cpp:1047: error: (-2:Unspecified error) in function 'cv::usac::mergePoints(cv::InputArray, cv::InputArray, cv::Mat&, bool)::<lambda(cv::Mat&, int)>'\n",
      "> Invalid dimension of point (expected: 'points.cols >= pt_dim'), where\n",
      ">     'points.cols' is 0\n",
      "> must be greater than or equal to\n",
      ">     'pt_dim' is 2\n",
      "\n",
      "Found 3\n",
      "OpenCV(4.11.0) /io/opencv/modules/calib3d/src/usac/sampler.cpp:45: error: (-215:Assertion failed) sample_size <= points_size_ in function 'setPointsSize'\n",
      "\n",
      "Found 0\n",
      "OpenCV(4.11.0) /io/opencv/modules/calib3d/src/usac/ransac_solvers.cpp:1047: error: (-2:Unspecified error) in function 'cv::usac::mergePoints(cv::InputArray, cv::InputArray, cv::Mat&, bool)::<lambda(cv::Mat&, int)>'\n",
      "> Invalid dimension of point (expected: 'points.cols >= pt_dim'), where\n",
      ">     'points.cols' is 0\n",
      "> must be greater than or equal to\n",
      ">     'pt_dim' is 2\n",
      "\n",
      "Found 1\n",
      "OpenCV(4.11.0) /io/opencv/modules/calib3d/src/usac/ransac_solvers.cpp:1047: error: (-2:Unspecified error) in function 'cv::usac::mergePoints(cv::InputArray, cv::InputArray, cv::Mat&, bool)::<lambda(cv::Mat&, int)>'\n",
      "> Invalid dimension of point (expected: 'points.cols >= pt_dim'), where\n",
      ">     'points.cols' is 1\n",
      "> must be greater than or equal to\n",
      ">     'pt_dim' is 2\n",
      "\n"
     ]
    },
    {
     "name": "stderr",
     "output_type": "stream",
     "text": [
      " 37%|███▋      | 6987/18840 [01:57<01:27, 135.71it/s]"
     ]
    },
    {
     "name": "stdout",
     "output_type": "stream",
     "text": [
      "Found 1\n",
      "OpenCV(4.11.0) /io/opencv/modules/calib3d/src/usac/ransac_solvers.cpp:1047: error: (-2:Unspecified error) in function 'cv::usac::mergePoints(cv::InputArray, cv::InputArray, cv::Mat&, bool)::<lambda(cv::Mat&, int)>'\n",
      "> Invalid dimension of point (expected: 'points.cols >= pt_dim'), where\n",
      ">     'points.cols' is 1\n",
      "> must be greater than or equal to\n",
      ">     'pt_dim' is 2\n",
      "\n",
      "OpenCV(4.11.0) /io/opencv/modules/calib3d/src/usac/estimator.cpp:353: error: (-215:Assertion failed) !model.empty() in function 'setModelParameters'\n",
      "\n",
      "Found 1\n",
      "OpenCV(4.11.0) /io/opencv/modules/calib3d/src/usac/ransac_solvers.cpp:1047: error: (-2:Unspecified error) in function 'cv::usac::mergePoints(cv::InputArray, cv::InputArray, cv::Mat&, bool)::<lambda(cv::Mat&, int)>'\n",
      "> Invalid dimension of point (expected: 'points.cols >= pt_dim'), where\n",
      ">     'points.cols' is 1\n",
      "> must be greater than or equal to\n",
      ">     'pt_dim' is 2\n",
      "\n",
      "Found 1\n",
      "OpenCV(4.11.0) /io/opencv/modules/calib3d/src/usac/ransac_solvers.cpp:1047: error: (-2:Unspecified error) in function 'cv::usac::mergePoints(cv::InputArray, cv::InputArray, cv::Mat&, bool)::<lambda(cv::Mat&, int)>'\n",
      "> Invalid dimension of point (expected: 'points.cols >= pt_dim'), where\n",
      ">     'points.cols' is 1\n",
      "> must be greater than or equal to\n",
      ">     'pt_dim' is 2\n",
      "\n",
      "Found 1\n",
      "OpenCV(4.11.0) /io/opencv/modules/calib3d/src/usac/ransac_solvers.cpp:1047: error: (-2:Unspecified error) in function 'cv::usac::mergePoints(cv::InputArray, cv::InputArray, cv::Mat&, bool)::<lambda(cv::Mat&, int)>'\n",
      "> Invalid dimension of point (expected: 'points.cols >= pt_dim'), where\n",
      ">     'points.cols' is 1\n",
      "> must be greater than or equal to\n",
      ">     'pt_dim' is 2\n",
      "\n"
     ]
    },
    {
     "name": "stderr",
     "output_type": "stream",
     "text": [
      " 37%|███▋      | 7001/18840 [01:57<01:28, 133.12it/s]"
     ]
    },
    {
     "name": "stdout",
     "output_type": "stream",
     "text": [
      "Found 1\n",
      "OpenCV(4.11.0) /io/opencv/modules/calib3d/src/usac/ransac_solvers.cpp:1047: error: (-2:Unspecified error) in function 'cv::usac::mergePoints(cv::InputArray, cv::InputArray, cv::Mat&, bool)::<lambda(cv::Mat&, int)>'\n",
      "> Invalid dimension of point (expected: 'points.cols >= pt_dim'), where\n",
      ">     'points.cols' is 1\n",
      "> must be greater than or equal to\n",
      ">     'pt_dim' is 2\n",
      "\n",
      "Found 2\n",
      "OpenCV(4.11.0) /io/opencv/modules/calib3d/src/usac/sampler.cpp:45: error: (-215:Assertion failed) sample_size <= points_size_ in function 'setPointsSize'\n",
      "\n"
     ]
    },
    {
     "name": "stderr",
     "output_type": "stream",
     "text": [
      " 38%|███▊      | 7089/18840 [01:59<03:50, 50.94it/s] "
     ]
    },
    {
     "name": "stdout",
     "output_type": "stream",
     "text": [
      "Found 0\n",
      "OpenCV(4.11.0) /io/opencv/modules/calib3d/src/usac/ransac_solvers.cpp:1047: error: (-2:Unspecified error) in function 'cv::usac::mergePoints(cv::InputArray, cv::InputArray, cv::Mat&, bool)::<lambda(cv::Mat&, int)>'\n",
      "> Invalid dimension of point (expected: 'points.cols >= pt_dim'), where\n",
      ">     'points.cols' is 0\n",
      "> must be greater than or equal to\n",
      ">     'pt_dim' is 2\n",
      "\n"
     ]
    },
    {
     "name": "stderr",
     "output_type": "stream",
     "text": [
      " 38%|███▊      | 7101/18840 [01:59<03:52, 50.58it/s]"
     ]
    },
    {
     "name": "stdout",
     "output_type": "stream",
     "text": [
      "Found 0\n",
      "OpenCV(4.11.0) /io/opencv/modules/calib3d/src/usac/ransac_solvers.cpp:1047: error: (-2:Unspecified error) in function 'cv::usac::mergePoints(cv::InputArray, cv::InputArray, cv::Mat&, bool)::<lambda(cv::Mat&, int)>'\n",
      "> Invalid dimension of point (expected: 'points.cols >= pt_dim'), where\n",
      ">     'points.cols' is 0\n",
      "> must be greater than or equal to\n",
      ">     'pt_dim' is 2\n",
      "\n"
     ]
    },
    {
     "name": "stderr",
     "output_type": "stream",
     "text": [
      " 38%|███▊      | 7137/18840 [02:00<03:15, 59.80it/s]"
     ]
    },
    {
     "name": "stdout",
     "output_type": "stream",
     "text": [
      "Found 0\n",
      "OpenCV(4.11.0) /io/opencv/modules/calib3d/src/usac/ransac_solvers.cpp:1047: error: (-2:Unspecified error) in function 'cv::usac::mergePoints(cv::InputArray, cv::InputArray, cv::Mat&, bool)::<lambda(cv::Mat&, int)>'\n",
      "> Invalid dimension of point (expected: 'points.cols >= pt_dim'), where\n",
      ">     'points.cols' is 0\n",
      "> must be greater than or equal to\n",
      ">     'pt_dim' is 2\n",
      "\n",
      "Found 6\n",
      "OpenCV(4.11.0) /io/opencv/modules/calib3d/src/usac/sampler.cpp:45: error: (-215:Assertion failed) sample_size <= points_size_ in function 'setPointsSize'\n",
      "\n"
     ]
    },
    {
     "name": "stderr",
     "output_type": "stream",
     "text": [
      " 38%|███▊      | 7184/18840 [02:00<01:38, 118.42it/s]"
     ]
    },
    {
     "name": "stdout",
     "output_type": "stream",
     "text": [
      "Found 0\n",
      "OpenCV(4.11.0) /io/opencv/modules/calib3d/src/usac/ransac_solvers.cpp:1047: error: (-2:Unspecified error) in function 'cv::usac::mergePoints(cv::InputArray, cv::InputArray, cv::Mat&, bool)::<lambda(cv::Mat&, int)>'\n",
      "> Invalid dimension of point (expected: 'points.cols >= pt_dim'), where\n",
      ">     'points.cols' is 0\n",
      "> must be greater than or equal to\n",
      ">     'pt_dim' is 2\n",
      "\n"
     ]
    },
    {
     "name": "stderr",
     "output_type": "stream",
     "text": [
      " 38%|███▊      | 7216/18840 [02:00<01:23, 138.89it/s]"
     ]
    },
    {
     "name": "stdout",
     "output_type": "stream",
     "text": [
      "Found 0\n",
      "OpenCV(4.11.0) /io/opencv/modules/calib3d/src/usac/ransac_solvers.cpp:1047: error: (-2:Unspecified error) in function 'cv::usac::mergePoints(cv::InputArray, cv::InputArray, cv::Mat&, bool)::<lambda(cv::Mat&, int)>'\n",
      "> Invalid dimension of point (expected: 'points.cols >= pt_dim'), where\n",
      ">     'points.cols' is 0\n",
      "> must be greater than or equal to\n",
      ">     'pt_dim' is 2\n",
      "\n",
      "Found 1\n",
      "OpenCV(4.11.0) /io/opencv/modules/calib3d/src/usac/ransac_solvers.cpp:1047: error: (-2:Unspecified error) in function 'cv::usac::mergePoints(cv::InputArray, cv::InputArray, cv::Mat&, bool)::<lambda(cv::Mat&, int)>'\n",
      "> Invalid dimension of point (expected: 'points.cols >= pt_dim'), where\n",
      ">     'points.cols' is 1\n",
      "> must be greater than or equal to\n",
      ">     'pt_dim' is 2\n",
      "\n"
     ]
    },
    {
     "name": "stderr",
     "output_type": "stream",
     "text": [
      " 38%|███▊      | 7248/18840 [02:01<01:27, 133.00it/s]"
     ]
    },
    {
     "name": "stdout",
     "output_type": "stream",
     "text": [
      "Found 1\n",
      "OpenCV(4.11.0) /io/opencv/modules/calib3d/src/usac/ransac_solvers.cpp:1047: error: (-2:Unspecified error) in function 'cv::usac::mergePoints(cv::InputArray, cv::InputArray, cv::Mat&, bool)::<lambda(cv::Mat&, int)>'\n",
      "> Invalid dimension of point (expected: 'points.cols >= pt_dim'), where\n",
      ">     'points.cols' is 1\n",
      "> must be greater than or equal to\n",
      ">     'pt_dim' is 2\n",
      "\n",
      "Found 1\n",
      "OpenCV(4.11.0) /io/opencv/modules/calib3d/src/usac/ransac_solvers.cpp:1047: error: (-2:Unspecified error) in function 'cv::usac::mergePoints(cv::InputArray, cv::InputArray, cv::Mat&, bool)::<lambda(cv::Mat&, int)>'\n",
      "> Invalid dimension of point (expected: 'points.cols >= pt_dim'), where\n",
      ">     'points.cols' is 1\n",
      "> must be greater than or equal to\n",
      ">     'pt_dim' is 2\n",
      "\n"
     ]
    },
    {
     "name": "stderr",
     "output_type": "stream",
     "text": [
      " 39%|███▊      | 7274/18840 [02:01<02:28, 78.08it/s] "
     ]
    },
    {
     "name": "stdout",
     "output_type": "stream",
     "text": [
      "Found 0\n",
      "OpenCV(4.11.0) /io/opencv/modules/calib3d/src/usac/ransac_solvers.cpp:1047: error: (-2:Unspecified error) in function 'cv::usac::mergePoints(cv::InputArray, cv::InputArray, cv::Mat&, bool)::<lambda(cv::Mat&, int)>'\n",
      "> Invalid dimension of point (expected: 'points.cols >= pt_dim'), where\n",
      ">     'points.cols' is 0\n",
      "> must be greater than or equal to\n",
      ">     'pt_dim' is 2\n",
      "\n"
     ]
    },
    {
     "name": "stderr",
     "output_type": "stream",
     "text": [
      " 39%|███▊      | 7284/18840 [02:01<02:41, 71.57it/s]"
     ]
    },
    {
     "name": "stdout",
     "output_type": "stream",
     "text": [
      "Found 0\n",
      "OpenCV(4.11.0) /io/opencv/modules/calib3d/src/usac/ransac_solvers.cpp:1047: error: (-2:Unspecified error) in function 'cv::usac::mergePoints(cv::InputArray, cv::InputArray, cv::Mat&, bool)::<lambda(cv::Mat&, int)>'\n",
      "> Invalid dimension of point (expected: 'points.cols >= pt_dim'), where\n",
      ">     'points.cols' is 0\n",
      "> must be greater than or equal to\n",
      ">     'pt_dim' is 2\n",
      "\n"
     ]
    },
    {
     "name": "stderr",
     "output_type": "stream",
     "text": [
      " 39%|███▉      | 7315/18840 [02:02<03:06, 61.79it/s]"
     ]
    },
    {
     "name": "stdout",
     "output_type": "stream",
     "text": [
      "Found 1\n",
      "OpenCV(4.11.0) /io/opencv/modules/calib3d/src/usac/ransac_solvers.cpp:1047: error: (-2:Unspecified error) in function 'cv::usac::mergePoints(cv::InputArray, cv::InputArray, cv::Mat&, bool)::<lambda(cv::Mat&, int)>'\n",
      "> Invalid dimension of point (expected: 'points.cols >= pt_dim'), where\n",
      ">     'points.cols' is 1\n",
      "> must be greater than or equal to\n",
      ">     'pt_dim' is 2\n",
      "\n",
      "Found 5\n",
      "OpenCV(4.11.0) /io/opencv/modules/calib3d/src/usac/sampler.cpp:45: error: (-215:Assertion failed) sample_size <= points_size_ in function 'setPointsSize'\n",
      "\n"
     ]
    },
    {
     "name": "stderr",
     "output_type": "stream",
     "text": [
      " 39%|███▉      | 7371/18840 [02:02<01:27, 130.39it/s]"
     ]
    },
    {
     "name": "stdout",
     "output_type": "stream",
     "text": [
      "Found 2\n",
      "OpenCV(4.11.0) /io/opencv/modules/calib3d/src/usac/sampler.cpp:45: error: (-215:Assertion failed) sample_size <= points_size_ in function 'setPointsSize'\n",
      "\n"
     ]
    },
    {
     "name": "stderr",
     "output_type": "stream",
     "text": [
      " 40%|███▉      | 7467/18840 [02:05<06:29, 29.21it/s] "
     ]
    },
    {
     "name": "stdout",
     "output_type": "stream",
     "text": [
      "Found 0\n",
      "OpenCV(4.11.0) /io/opencv/modules/calib3d/src/usac/ransac_solvers.cpp:1047: error: (-2:Unspecified error) in function 'cv::usac::mergePoints(cv::InputArray, cv::InputArray, cv::Mat&, bool)::<lambda(cv::Mat&, int)>'\n",
      "> Invalid dimension of point (expected: 'points.cols >= pt_dim'), where\n",
      ">     'points.cols' is 0\n",
      "> must be greater than or equal to\n",
      ">     'pt_dim' is 2\n",
      "\n"
     ]
    },
    {
     "name": "stderr",
     "output_type": "stream",
     "text": [
      " 40%|███▉      | 7479/18840 [02:05<05:14, 36.07it/s]"
     ]
    },
    {
     "name": "stdout",
     "output_type": "stream",
     "text": [
      "Found 0\n",
      "OpenCV(4.11.0) /io/opencv/modules/calib3d/src/usac/ransac_solvers.cpp:1047: error: (-2:Unspecified error) in function 'cv::usac::mergePoints(cv::InputArray, cv::InputArray, cv::Mat&, bool)::<lambda(cv::Mat&, int)>'\n",
      "> Invalid dimension of point (expected: 'points.cols >= pt_dim'), where\n",
      ">     'points.cols' is 0\n",
      "> must be greater than or equal to\n",
      ">     'pt_dim' is 2\n",
      "\n"
     ]
    },
    {
     "name": "stderr",
     "output_type": "stream",
     "text": [
      " 40%|███▉      | 7510/18840 [02:06<03:34, 52.89it/s]"
     ]
    },
    {
     "name": "stdout",
     "output_type": "stream",
     "text": [
      "Found 5\n",
      "OpenCV(4.11.0) /io/opencv/modules/calib3d/src/usac/sampler.cpp:45: error: (-215:Assertion failed) sample_size <= points_size_ in function 'setPointsSize'\n",
      "\n"
     ]
    },
    {
     "name": "stderr",
     "output_type": "stream",
     "text": [
      " 41%|████      | 7759/18840 [02:08<01:18, 140.92it/s]"
     ]
    },
    {
     "name": "stdout",
     "output_type": "stream",
     "text": [
      "Found 1\n",
      "OpenCV(4.11.0) /io/opencv/modules/calib3d/src/usac/ransac_solvers.cpp:1047: error: (-2:Unspecified error) in function 'cv::usac::mergePoints(cv::InputArray, cv::InputArray, cv::Mat&, bool)::<lambda(cv::Mat&, int)>'\n",
      "> Invalid dimension of point (expected: 'points.cols >= pt_dim'), where\n",
      ">     'points.cols' is 1\n",
      "> must be greater than or equal to\n",
      ">     'pt_dim' is 2\n",
      "\n"
     ]
    },
    {
     "name": "stderr",
     "output_type": "stream",
     "text": [
      " 41%|████▏     | 7786/18840 [02:09<02:11, 84.07it/s] "
     ]
    },
    {
     "name": "stdout",
     "output_type": "stream",
     "text": [
      "Found 0\n",
      "OpenCV(4.11.0) /io/opencv/modules/calib3d/src/usac/ransac_solvers.cpp:1047: error: (-2:Unspecified error) in function 'cv::usac::mergePoints(cv::InputArray, cv::InputArray, cv::Mat&, bool)::<lambda(cv::Mat&, int)>'\n",
      "> Invalid dimension of point (expected: 'points.cols >= pt_dim'), where\n",
      ">     'points.cols' is 0\n",
      "> must be greater than or equal to\n",
      ">     'pt_dim' is 2\n",
      "\n"
     ]
    },
    {
     "name": "stderr",
     "output_type": "stream",
     "text": [
      " 41%|████▏     | 7806/18840 [02:09<02:35, 70.74it/s]"
     ]
    },
    {
     "name": "stdout",
     "output_type": "stream",
     "text": [
      "Found 0\n",
      "OpenCV(4.11.0) /io/opencv/modules/calib3d/src/usac/ransac_solvers.cpp:1047: error: (-2:Unspecified error) in function 'cv::usac::mergePoints(cv::InputArray, cv::InputArray, cv::Mat&, bool)::<lambda(cv::Mat&, int)>'\n",
      "> Invalid dimension of point (expected: 'points.cols >= pt_dim'), where\n",
      ">     'points.cols' is 0\n",
      "> must be greater than or equal to\n",
      ">     'pt_dim' is 2\n",
      "\n"
     ]
    },
    {
     "name": "stderr",
     "output_type": "stream",
     "text": [
      " 42%|████▏     | 7997/18840 [02:12<01:40, 107.56it/s]"
     ]
    },
    {
     "name": "stdout",
     "output_type": "stream",
     "text": [
      "Found 0\n",
      "OpenCV(4.11.0) /io/opencv/modules/calib3d/src/usac/ransac_solvers.cpp:1047: error: (-2:Unspecified error) in function 'cv::usac::mergePoints(cv::InputArray, cv::InputArray, cv::Mat&, bool)::<lambda(cv::Mat&, int)>'\n",
      "> Invalid dimension of point (expected: 'points.cols >= pt_dim'), where\n",
      ">     'points.cols' is 0\n",
      "> must be greater than or equal to\n",
      ">     'pt_dim' is 2\n",
      "\n",
      "Found 5\n",
      "OpenCV(4.11.0) /io/opencv/modules/calib3d/src/usac/sampler.cpp:45: error: (-215:Assertion failed) sample_size <= points_size_ in function 'setPointsSize'\n",
      "\n",
      "Found 0\n",
      "OpenCV(4.11.0) /io/opencv/modules/calib3d/src/usac/ransac_solvers.cpp:1047: error: (-2:Unspecified error) in function 'cv::usac::mergePoints(cv::InputArray, cv::InputArray, cv::Mat&, bool)::<lambda(cv::Mat&, int)>'\n",
      "> Invalid dimension of point (expected: 'points.cols >= pt_dim'), where\n",
      ">     'points.cols' is 0\n",
      "> must be greater than or equal to\n",
      ">     'pt_dim' is 2\n",
      "\n"
     ]
    },
    {
     "name": "stderr",
     "output_type": "stream",
     "text": [
      " 43%|████▎     | 8071/18840 [02:12<01:18, 138.00it/s]"
     ]
    },
    {
     "name": "stdout",
     "output_type": "stream",
     "text": [
      "Found 0\n",
      "OpenCV(4.11.0) /io/opencv/modules/calib3d/src/usac/ransac_solvers.cpp:1047: error: (-2:Unspecified error) in function 'cv::usac::mergePoints(cv::InputArray, cv::InputArray, cv::Mat&, bool)::<lambda(cv::Mat&, int)>'\n",
      "> Invalid dimension of point (expected: 'points.cols >= pt_dim'), where\n",
      ">     'points.cols' is 0\n",
      "> must be greater than or equal to\n",
      ">     'pt_dim' is 2\n",
      "\n"
     ]
    },
    {
     "name": "stderr",
     "output_type": "stream",
     "text": [
      " 43%|████▎     | 8169/18840 [02:14<01:52, 94.52it/s] "
     ]
    },
    {
     "name": "stdout",
     "output_type": "stream",
     "text": [
      "Found 2\n",
      "OpenCV(4.11.0) /io/opencv/modules/calib3d/src/usac/sampler.cpp:45: error: (-215:Assertion failed) sample_size <= points_size_ in function 'setPointsSize'\n",
      "\n",
      "Found 0\n",
      "OpenCV(4.11.0) /io/opencv/modules/calib3d/src/usac/ransac_solvers.cpp:1047: error: (-2:Unspecified error) in function 'cv::usac::mergePoints(cv::InputArray, cv::InputArray, cv::Mat&, bool)::<lambda(cv::Mat&, int)>'\n",
      "> Invalid dimension of point (expected: 'points.cols >= pt_dim'), where\n",
      ">     'points.cols' is 0\n",
      "> must be greater than or equal to\n",
      ">     'pt_dim' is 2\n",
      "\n",
      "Found 0\n",
      "OpenCV(4.11.0) /io/opencv/modules/calib3d/src/usac/ransac_solvers.cpp:1047: error: (-2:Unspecified error) in function 'cv::usac::mergePoints(cv::InputArray, cv::InputArray, cv::Mat&, bool)::<lambda(cv::Mat&, int)>'\n",
      "> Invalid dimension of point (expected: 'points.cols >= pt_dim'), where\n",
      ">     'points.cols' is 0\n",
      "> must be greater than or equal to\n",
      ">     'pt_dim' is 2\n",
      "\n"
     ]
    },
    {
     "name": "stderr",
     "output_type": "stream",
     "text": [
      " 44%|████▎     | 8198/18840 [02:14<01:31, 116.02it/s]"
     ]
    },
    {
     "name": "stdout",
     "output_type": "stream",
     "text": [
      "Found 2\n",
      "OpenCV(4.11.0) /io/opencv/modules/calib3d/src/usac/sampler.cpp:45: error: (-215:Assertion failed) sample_size <= points_size_ in function 'setPointsSize'\n",
      "\n",
      "Found 1\n",
      "OpenCV(4.11.0) /io/opencv/modules/calib3d/src/usac/ransac_solvers.cpp:1047: error: (-2:Unspecified error) in function 'cv::usac::mergePoints(cv::InputArray, cv::InputArray, cv::Mat&, bool)::<lambda(cv::Mat&, int)>'\n",
      "> Invalid dimension of point (expected: 'points.cols >= pt_dim'), where\n",
      ">     'points.cols' is 1\n",
      "> must be greater than or equal to\n",
      ">     'pt_dim' is 2\n",
      "\n"
     ]
    },
    {
     "name": "stderr",
     "output_type": "stream",
     "text": [
      " 44%|████▍     | 8247/18840 [02:14<01:14, 142.98it/s]"
     ]
    },
    {
     "name": "stdout",
     "output_type": "stream",
     "text": [
      "Found 0\n",
      "OpenCV(4.11.0) /io/opencv/modules/calib3d/src/usac/ransac_solvers.cpp:1047: error: (-2:Unspecified error) in function 'cv::usac::mergePoints(cv::InputArray, cv::InputArray, cv::Mat&, bool)::<lambda(cv::Mat&, int)>'\n",
      "> Invalid dimension of point (expected: 'points.cols >= pt_dim'), where\n",
      ">     'points.cols' is 0\n",
      "> must be greater than or equal to\n",
      ">     'pt_dim' is 2\n",
      "\n"
     ]
    },
    {
     "name": "stderr",
     "output_type": "stream",
     "text": [
      " 44%|████▍     | 8300/18840 [02:14<01:04, 162.68it/s]"
     ]
    },
    {
     "name": "stdout",
     "output_type": "stream",
     "text": [
      "Found 0\n",
      "OpenCV(4.11.0) /io/opencv/modules/calib3d/src/usac/ransac_solvers.cpp:1047: error: (-2:Unspecified error) in function 'cv::usac::mergePoints(cv::InputArray, cv::InputArray, cv::Mat&, bool)::<lambda(cv::Mat&, int)>'\n",
      "> Invalid dimension of point (expected: 'points.cols >= pt_dim'), where\n",
      ">     'points.cols' is 0\n",
      "> must be greater than or equal to\n",
      ">     'pt_dim' is 2\n",
      "\n",
      "Found 0\n",
      "OpenCV(4.11.0) /io/opencv/modules/calib3d/src/usac/ransac_solvers.cpp:1047: error: (-2:Unspecified error) in function 'cv::usac::mergePoints(cv::InputArray, cv::InputArray, cv::Mat&, bool)::<lambda(cv::Mat&, int)>'\n",
      "> Invalid dimension of point (expected: 'points.cols >= pt_dim'), where\n",
      ">     'points.cols' is 0\n",
      "> must be greater than or equal to\n",
      ">     'pt_dim' is 2\n",
      "\n",
      "Found 0\n",
      "OpenCV(4.11.0) /io/opencv/modules/calib3d/src/usac/ransac_solvers.cpp:1047: error: (-2:Unspecified error) in function 'cv::usac::mergePoints(cv::InputArray, cv::InputArray, cv::Mat&, bool)::<lambda(cv::Mat&, int)>'\n",
      "> Invalid dimension of point (expected: 'points.cols >= pt_dim'), where\n",
      ">     'points.cols' is 0\n",
      "> must be greater than or equal to\n",
      ">     'pt_dim' is 2\n",
      "\n"
     ]
    },
    {
     "name": "stderr",
     "output_type": "stream",
     "text": [
      " 45%|████▍     | 8447/18840 [02:17<02:03, 83.97it/s] "
     ]
    },
    {
     "name": "stdout",
     "output_type": "stream",
     "text": [
      "Found 0\n",
      "OpenCV(4.11.0) /io/opencv/modules/calib3d/src/usac/ransac_solvers.cpp:1047: error: (-2:Unspecified error) in function 'cv::usac::mergePoints(cv::InputArray, cv::InputArray, cv::Mat&, bool)::<lambda(cv::Mat&, int)>'\n",
      "> Invalid dimension of point (expected: 'points.cols >= pt_dim'), where\n",
      ">     'points.cols' is 0\n",
      "> must be greater than or equal to\n",
      ">     'pt_dim' is 2\n",
      "\n",
      "Found 0\n",
      "OpenCV(4.11.0) /io/opencv/modules/calib3d/src/usac/ransac_solvers.cpp:1047: error: (-2:Unspecified error) in function 'cv::usac::mergePoints(cv::InputArray, cv::InputArray, cv::Mat&, bool)::<lambda(cv::Mat&, int)>'\n",
      "> Invalid dimension of point (expected: 'points.cols >= pt_dim'), where\n",
      ">     'points.cols' is 0\n",
      "> must be greater than or equal to\n",
      ">     'pt_dim' is 2\n",
      "\n",
      "Found 6\n",
      "OpenCV(4.11.0) /io/opencv/modules/calib3d/src/usac/sampler.cpp:45: error: (-215:Assertion failed) sample_size <= points_size_ in function 'setPointsSize'\n",
      "\n",
      "Found 0\n",
      "OpenCV(4.11.0) /io/opencv/modules/calib3d/src/usac/ransac_solvers.cpp:1047: error: (-2:Unspecified error) in function 'cv::usac::mergePoints(cv::InputArray, cv::InputArray, cv::Mat&, bool)::<lambda(cv::Mat&, int)>'\n",
      "> Invalid dimension of point (expected: 'points.cols >= pt_dim'), where\n",
      ">     'points.cols' is 0\n",
      "> must be greater than or equal to\n",
      ">     'pt_dim' is 2\n",
      "\n",
      "Found 2\n",
      "OpenCV(4.11.0) /io/opencv/modules/calib3d/src/usac/sampler.cpp:45: error: (-215:Assertion failed) sample_size <= points_size_ in function 'setPointsSize'\n",
      "\n",
      "Found 0\n",
      "OpenCV(4.11.0) /io/opencv/modules/calib3d/src/usac/ransac_solvers.cpp:1047: error: (-2:Unspecified error) in function 'cv::usac::mergePoints(cv::InputArray, cv::InputArray, cv::Mat&, bool)::<lambda(cv::Mat&, int)>'\n",
      "> Invalid dimension of point (expected: 'points.cols >= pt_dim'), where\n",
      ">     'points.cols' is 0\n",
      "> must be greater than or equal to\n",
      ">     'pt_dim' is 2\n",
      "\n",
      "Found 5\n",
      "OpenCV(4.11.0) /io/opencv/modules/calib3d/src/usac/sampler.cpp:45: error: (-215:Assertion failed) sample_size <= points_size_ in function 'setPointsSize'\n",
      "\n"
     ]
    },
    {
     "name": "stderr",
     "output_type": "stream",
     "text": [
      " 45%|████▌     | 8493/18840 [02:17<01:22, 126.02it/s]"
     ]
    },
    {
     "name": "stdout",
     "output_type": "stream",
     "text": [
      "Found 0\n",
      "OpenCV(4.11.0) /io/opencv/modules/calib3d/src/usac/ransac_solvers.cpp:1047: error: (-2:Unspecified error) in function 'cv::usac::mergePoints(cv::InputArray, cv::InputArray, cv::Mat&, bool)::<lambda(cv::Mat&, int)>'\n",
      "> Invalid dimension of point (expected: 'points.cols >= pt_dim'), where\n",
      ">     'points.cols' is 0\n",
      "> must be greater than or equal to\n",
      ">     'pt_dim' is 2\n",
      "\n",
      "Found 0\n",
      "OpenCV(4.11.0) /io/opencv/modules/calib3d/src/usac/ransac_solvers.cpp:1047: error: (-2:Unspecified error) in function 'cv::usac::mergePoints(cv::InputArray, cv::InputArray, cv::Mat&, bool)::<lambda(cv::Mat&, int)>'\n",
      "> Invalid dimension of point (expected: 'points.cols >= pt_dim'), where\n",
      ">     'points.cols' is 0\n",
      "> must be greater than or equal to\n",
      ">     'pt_dim' is 2\n",
      "\n",
      "Found 0\n",
      "OpenCV(4.11.0) /io/opencv/modules/calib3d/src/usac/ransac_solvers.cpp:1047: error: (-2:Unspecified error) in function 'cv::usac::mergePoints(cv::InputArray, cv::InputArray, cv::Mat&, bool)::<lambda(cv::Mat&, int)>'\n",
      "> Invalid dimension of point (expected: 'points.cols >= pt_dim'), where\n",
      ">     'points.cols' is 0\n",
      "> must be greater than or equal to\n",
      ">     'pt_dim' is 2\n",
      "\n",
      "Found 3\n",
      "OpenCV(4.11.0) /io/opencv/modules/calib3d/src/usac/sampler.cpp:45: error: (-215:Assertion failed) sample_size <= points_size_ in function 'setPointsSize'\n",
      "\n",
      "Found 2\n",
      "OpenCV(4.11.0) /io/opencv/modules/calib3d/src/usac/sampler.cpp:45: error: (-215:Assertion failed) sample_size <= points_size_ in function 'setPointsSize'\n",
      "\n",
      "Found 1\n",
      "OpenCV(4.11.0) /io/opencv/modules/calib3d/src/usac/ransac_solvers.cpp:1047: error: (-2:Unspecified error) in function 'cv::usac::mergePoints(cv::InputArray, cv::InputArray, cv::Mat&, bool)::<lambda(cv::Mat&, int)>'\n",
      "> Invalid dimension of point (expected: 'points.cols >= pt_dim'), where\n",
      ">     'points.cols' is 1\n",
      "> must be greater than or equal to\n",
      ">     'pt_dim' is 2\n",
      "\n"
     ]
    },
    {
     "name": "stderr",
     "output_type": "stream",
     "text": [
      " 45%|████▌     | 8522/18840 [02:17<01:17, 133.54it/s]"
     ]
    },
    {
     "name": "stdout",
     "output_type": "stream",
     "text": [
      "Found 2\n",
      "OpenCV(4.11.0) /io/opencv/modules/calib3d/src/usac/sampler.cpp:45: error: (-215:Assertion failed) sample_size <= points_size_ in function 'setPointsSize'\n",
      "\n",
      "Found 5\n",
      "OpenCV(4.11.0) /io/opencv/modules/calib3d/src/usac/sampler.cpp:45: error: (-215:Assertion failed) sample_size <= points_size_ in function 'setPointsSize'\n",
      "\n",
      "Found 0\n",
      "OpenCV(4.11.0) /io/opencv/modules/calib3d/src/usac/ransac_solvers.cpp:1047: error: (-2:Unspecified error) in function 'cv::usac::mergePoints(cv::InputArray, cv::InputArray, cv::Mat&, bool)::<lambda(cv::Mat&, int)>'\n",
      "> Invalid dimension of point (expected: 'points.cols >= pt_dim'), where\n",
      ">     'points.cols' is 0\n",
      "> must be greater than or equal to\n",
      ">     'pt_dim' is 2\n",
      "\n"
     ]
    },
    {
     "name": "stderr",
     "output_type": "stream",
     "text": [
      " 45%|████▌     | 8553/18840 [02:18<01:12, 141.25it/s]"
     ]
    },
    {
     "name": "stdout",
     "output_type": "stream",
     "text": [
      "Found 5\n",
      "OpenCV(4.11.0) /io/opencv/modules/calib3d/src/usac/sampler.cpp:45: error: (-215:Assertion failed) sample_size <= points_size_ in function 'setPointsSize'\n",
      "\n"
     ]
    },
    {
     "name": "stderr",
     "output_type": "stream",
     "text": [
      " 46%|████▌     | 8601/18840 [02:18<01:07, 150.77it/s]"
     ]
    },
    {
     "name": "stdout",
     "output_type": "stream",
     "text": [
      "Found 3\n",
      "OpenCV(4.11.0) /io/opencv/modules/calib3d/src/usac/sampler.cpp:45: error: (-215:Assertion failed) sample_size <= points_size_ in function 'setPointsSize'\n",
      "\n"
     ]
    },
    {
     "name": "stderr",
     "output_type": "stream",
     "text": [
      " 46%|████▌     | 8647/18840 [02:18<02:03, 82.49it/s] "
     ]
    },
    {
     "name": "stdout",
     "output_type": "stream",
     "text": [
      "Found 0\n",
      "OpenCV(4.11.0) /io/opencv/modules/calib3d/src/usac/ransac_solvers.cpp:1047: error: (-2:Unspecified error) in function 'cv::usac::mergePoints(cv::InputArray, cv::InputArray, cv::Mat&, bool)::<lambda(cv::Mat&, int)>'\n",
      "> Invalid dimension of point (expected: 'points.cols >= pt_dim'), where\n",
      ">     'points.cols' is 0\n",
      "> must be greater than or equal to\n",
      ">     'pt_dim' is 2\n",
      "\n"
     ]
    },
    {
     "name": "stderr",
     "output_type": "stream",
     "text": [
      " 46%|████▌     | 8667/18840 [02:19<02:33, 66.26it/s]"
     ]
    },
    {
     "name": "stdout",
     "output_type": "stream",
     "text": [
      "Found 1\n",
      "OpenCV(4.11.0) /io/opencv/modules/calib3d/src/usac/ransac_solvers.cpp:1047: error: (-2:Unspecified error) in function 'cv::usac::mergePoints(cv::InputArray, cv::InputArray, cv::Mat&, bool)::<lambda(cv::Mat&, int)>'\n",
      "> Invalid dimension of point (expected: 'points.cols >= pt_dim'), where\n",
      ">     'points.cols' is 1\n",
      "> must be greater than or equal to\n",
      ">     'pt_dim' is 2\n",
      "\n"
     ]
    },
    {
     "name": "stderr",
     "output_type": "stream",
     "text": [
      " 46%|████▌     | 8695/18840 [02:19<03:08, 53.70it/s]"
     ]
    },
    {
     "name": "stdout",
     "output_type": "stream",
     "text": [
      "Found 0\n",
      "OpenCV(4.11.0) /io/opencv/modules/calib3d/src/usac/ransac_solvers.cpp:1047: error: (-2:Unspecified error) in function 'cv::usac::mergePoints(cv::InputArray, cv::InputArray, cv::Mat&, bool)::<lambda(cv::Mat&, int)>'\n",
      "> Invalid dimension of point (expected: 'points.cols >= pt_dim'), where\n",
      ">     'points.cols' is 0\n",
      "> must be greater than or equal to\n",
      ">     'pt_dim' is 2\n",
      "\n"
     ]
    },
    {
     "name": "stderr",
     "output_type": "stream",
     "text": [
      " 46%|████▋     | 8740/18840 [02:20<01:33, 107.54it/s]"
     ]
    },
    {
     "name": "stdout",
     "output_type": "stream",
     "text": [
      "Found 1\n",
      "OpenCV(4.11.0) /io/opencv/modules/calib3d/src/usac/ransac_solvers.cpp:1047: error: (-2:Unspecified error) in function 'cv::usac::mergePoints(cv::InputArray, cv::InputArray, cv::Mat&, bool)::<lambda(cv::Mat&, int)>'\n",
      "> Invalid dimension of point (expected: 'points.cols >= pt_dim'), where\n",
      ">     'points.cols' is 1\n",
      "> must be greater than or equal to\n",
      ">     'pt_dim' is 2\n",
      "\n"
     ]
    },
    {
     "name": "stderr",
     "output_type": "stream",
     "text": [
      " 47%|████▋     | 8866/18840 [02:21<01:31, 109.53it/s]"
     ]
    },
    {
     "name": "stdout",
     "output_type": "stream",
     "text": [
      "Found 0\n",
      "OpenCV(4.11.0) /io/opencv/modules/calib3d/src/usac/ransac_solvers.cpp:1047: error: (-2:Unspecified error) in function 'cv::usac::mergePoints(cv::InputArray, cv::InputArray, cv::Mat&, bool)::<lambda(cv::Mat&, int)>'\n",
      "> Invalid dimension of point (expected: 'points.cols >= pt_dim'), where\n",
      ">     'points.cols' is 0\n",
      "> must be greater than or equal to\n",
      ">     'pt_dim' is 2\n",
      "\n"
     ]
    },
    {
     "name": "stderr",
     "output_type": "stream",
     "text": [
      " 47%|████▋     | 8915/18840 [02:22<02:13, 74.15it/s] "
     ]
    },
    {
     "name": "stdout",
     "output_type": "stream",
     "text": [
      "Found 3\n",
      "OpenCV(4.11.0) /io/opencv/modules/calib3d/src/usac/sampler.cpp:45: error: (-215:Assertion failed) sample_size <= points_size_ in function 'setPointsSize'\n",
      "\n"
     ]
    },
    {
     "name": "stderr",
     "output_type": "stream",
     "text": [
      " 47%|████▋     | 8932/18840 [02:22<02:33, 64.70it/s]"
     ]
    },
    {
     "name": "stdout",
     "output_type": "stream",
     "text": [
      "Found 0\n",
      "OpenCV(4.11.0) /io/opencv/modules/calib3d/src/usac/ransac_solvers.cpp:1047: error: (-2:Unspecified error) in function 'cv::usac::mergePoints(cv::InputArray, cv::InputArray, cv::Mat&, bool)::<lambda(cv::Mat&, int)>'\n",
      "> Invalid dimension of point (expected: 'points.cols >= pt_dim'), where\n",
      ">     'points.cols' is 0\n",
      "> must be greater than or equal to\n",
      ">     'pt_dim' is 2\n",
      "\n"
     ]
    },
    {
     "name": "stderr",
     "output_type": "stream",
     "text": [
      " 49%|████▊     | 9182/18840 [02:27<03:02, 52.85it/s]"
     ]
    },
    {
     "name": "stdout",
     "output_type": "stream",
     "text": [
      "Found 0\n",
      "OpenCV(4.11.0) /io/opencv/modules/calib3d/src/usac/ransac_solvers.cpp:1047: error: (-2:Unspecified error) in function 'cv::usac::mergePoints(cv::InputArray, cv::InputArray, cv::Mat&, bool)::<lambda(cv::Mat&, int)>'\n",
      "> Invalid dimension of point (expected: 'points.cols >= pt_dim'), where\n",
      ">     'points.cols' is 0\n",
      "> must be greater than or equal to\n",
      ">     'pt_dim' is 2\n",
      "\n"
     ]
    },
    {
     "name": "stderr",
     "output_type": "stream",
     "text": [
      " 49%|████▉     | 9194/18840 [02:27<03:04, 52.33it/s]"
     ]
    },
    {
     "name": "stdout",
     "output_type": "stream",
     "text": [
      "Found 0\n",
      "OpenCV(4.11.0) /io/opencv/modules/calib3d/src/usac/ransac_solvers.cpp:1047: error: (-2:Unspecified error) in function 'cv::usac::mergePoints(cv::InputArray, cv::InputArray, cv::Mat&, bool)::<lambda(cv::Mat&, int)>'\n",
      "> Invalid dimension of point (expected: 'points.cols >= pt_dim'), where\n",
      ">     'points.cols' is 0\n",
      "> must be greater than or equal to\n",
      ">     'pt_dim' is 2\n",
      "\n"
     ]
    },
    {
     "name": "stderr",
     "output_type": "stream",
     "text": [
      " 49%|████▉     | 9224/18840 [02:27<03:05, 51.84it/s]"
     ]
    },
    {
     "name": "stdout",
     "output_type": "stream",
     "text": [
      "Found 0\n",
      "OpenCV(4.11.0) /io/opencv/modules/calib3d/src/usac/ransac_solvers.cpp:1047: error: (-2:Unspecified error) in function 'cv::usac::mergePoints(cv::InputArray, cv::InputArray, cv::Mat&, bool)::<lambda(cv::Mat&, int)>'\n",
      "> Invalid dimension of point (expected: 'points.cols >= pt_dim'), where\n",
      ">     'points.cols' is 0\n",
      "> must be greater than or equal to\n",
      ">     'pt_dim' is 2\n",
      "\n"
     ]
    },
    {
     "name": "stderr",
     "output_type": "stream",
     "text": [
      " 50%|█████     | 9426/18840 [02:31<02:41, 58.25it/s]"
     ]
    },
    {
     "name": "stdout",
     "output_type": "stream",
     "text": [
      "Found 5\n",
      "OpenCV(4.11.0) /io/opencv/modules/calib3d/src/usac/sampler.cpp:45: error: (-215:Assertion failed) sample_size <= points_size_ in function 'setPointsSize'\n",
      "\n",
      "Found 3\n",
      "OpenCV(4.11.0) /io/opencv/modules/calib3d/src/usac/sampler.cpp:45: error: (-215:Assertion failed) sample_size <= points_size_ in function 'setPointsSize'\n",
      "\n",
      "Found 3\n",
      "OpenCV(4.11.0) /io/opencv/modules/calib3d/src/usac/sampler.cpp:45: error: (-215:Assertion failed) sample_size <= points_size_ in function 'setPointsSize'\n",
      "\n",
      "Found 3\n",
      "OpenCV(4.11.0) /io/opencv/modules/calib3d/src/usac/sampler.cpp:45: error: (-215:Assertion failed) sample_size <= points_size_ in function 'setPointsSize'\n",
      "\n"
     ]
    },
    {
     "name": "stderr",
     "output_type": "stream",
     "text": [
      " 50%|█████     | 9440/18840 [02:31<02:31, 62.06it/s]"
     ]
    },
    {
     "name": "stdout",
     "output_type": "stream",
     "text": [
      "Found 1\n",
      "OpenCV(4.11.0) /io/opencv/modules/calib3d/src/usac/ransac_solvers.cpp:1047: error: (-2:Unspecified error) in function 'cv::usac::mergePoints(cv::InputArray, cv::InputArray, cv::Mat&, bool)::<lambda(cv::Mat&, int)>'\n",
      "> Invalid dimension of point (expected: 'points.cols >= pt_dim'), where\n",
      ">     'points.cols' is 1\n",
      "> must be greater than or equal to\n",
      ">     'pt_dim' is 2\n",
      "\n",
      "Found 1\n",
      "OpenCV(4.11.0) /io/opencv/modules/calib3d/src/usac/ransac_solvers.cpp:1047: error: (-2:Unspecified error) in function 'cv::usac::mergePoints(cv::InputArray, cv::InputArray, cv::Mat&, bool)::<lambda(cv::Mat&, int)>'\n",
      "> Invalid dimension of point (expected: 'points.cols >= pt_dim'), where\n",
      ">     'points.cols' is 1\n",
      "> must be greater than or equal to\n",
      ">     'pt_dim' is 2\n",
      "\n",
      "Found 4\n",
      "OpenCV(4.11.0) /io/opencv/modules/calib3d/src/usac/sampler.cpp:45: error: (-215:Assertion failed) sample_size <= points_size_ in function 'setPointsSize'\n",
      "\n",
      "Found 2\n",
      "OpenCV(4.11.0) /io/opencv/modules/calib3d/src/usac/sampler.cpp:45: error: (-215:Assertion failed) sample_size <= points_size_ in function 'setPointsSize'\n",
      "\n",
      "Found 6\n",
      "OpenCV(4.11.0) /io/opencv/modules/calib3d/src/usac/sampler.cpp:45: error: (-215:Assertion failed) sample_size <= points_size_ in function 'setPointsSize'\n",
      "\n"
     ]
    },
    {
     "name": "stderr",
     "output_type": "stream",
     "text": [
      " 50%|█████     | 9461/18840 [02:32<02:36, 60.10it/s]"
     ]
    },
    {
     "name": "stdout",
     "output_type": "stream",
     "text": [
      "Found 2\n",
      "OpenCV(4.11.0) /io/opencv/modules/calib3d/src/usac/sampler.cpp:45: error: (-215:Assertion failed) sample_size <= points_size_ in function 'setPointsSize'\n",
      "\n",
      "Found 2\n",
      "OpenCV(4.11.0) /io/opencv/modules/calib3d/src/usac/sampler.cpp:45: error: (-215:Assertion failed) sample_size <= points_size_ in function 'setPointsSize'\n",
      "\n",
      "Found 0\n",
      "OpenCV(4.11.0) /io/opencv/modules/calib3d/src/usac/ransac_solvers.cpp:1047: error: (-2:Unspecified error) in function 'cv::usac::mergePoints(cv::InputArray, cv::InputArray, cv::Mat&, bool)::<lambda(cv::Mat&, int)>'\n",
      "> Invalid dimension of point (expected: 'points.cols >= pt_dim'), where\n",
      ">     'points.cols' is 0\n",
      "> must be greater than or equal to\n",
      ">     'pt_dim' is 2\n",
      "\n",
      "Found 0\n",
      "OpenCV(4.11.0) /io/opencv/modules/calib3d/src/usac/ransac_solvers.cpp:1047: error: (-2:Unspecified error) in function 'cv::usac::mergePoints(cv::InputArray, cv::InputArray, cv::Mat&, bool)::<lambda(cv::Mat&, int)>'\n",
      "> Invalid dimension of point (expected: 'points.cols >= pt_dim'), where\n",
      ">     'points.cols' is 0\n",
      "> must be greater than or equal to\n",
      ">     'pt_dim' is 2\n",
      "\n"
     ]
    },
    {
     "name": "stderr",
     "output_type": "stream",
     "text": [
      " 50%|█████     | 9498/18840 [02:32<02:51, 54.54it/s]"
     ]
    },
    {
     "name": "stdout",
     "output_type": "stream",
     "text": [
      "Found 0\n",
      "OpenCV(4.11.0) /io/opencv/modules/calib3d/src/usac/ransac_solvers.cpp:1047: error: (-2:Unspecified error) in function 'cv::usac::mergePoints(cv::InputArray, cv::InputArray, cv::Mat&, bool)::<lambda(cv::Mat&, int)>'\n",
      "> Invalid dimension of point (expected: 'points.cols >= pt_dim'), where\n",
      ">     'points.cols' is 0\n",
      "> must be greater than or equal to\n",
      ">     'pt_dim' is 2\n",
      "\n"
     ]
    },
    {
     "name": "stderr",
     "output_type": "stream",
     "text": [
      " 50%|█████     | 9510/18840 [02:33<02:57, 52.45it/s]"
     ]
    },
    {
     "name": "stdout",
     "output_type": "stream",
     "text": [
      "Found 0\n",
      "OpenCV(4.11.0) /io/opencv/modules/calib3d/src/usac/ransac_solvers.cpp:1047: error: (-2:Unspecified error) in function 'cv::usac::mergePoints(cv::InputArray, cv::InputArray, cv::Mat&, bool)::<lambda(cv::Mat&, int)>'\n",
      "> Invalid dimension of point (expected: 'points.cols >= pt_dim'), where\n",
      ">     'points.cols' is 0\n",
      "> must be greater than or equal to\n",
      ">     'pt_dim' is 2\n",
      "\n"
     ]
    },
    {
     "name": "stderr",
     "output_type": "stream",
     "text": [
      " 51%|█████     | 9540/18840 [02:33<02:53, 53.64it/s]"
     ]
    },
    {
     "name": "stdout",
     "output_type": "stream",
     "text": [
      "Found 1\n",
      "OpenCV(4.11.0) /io/opencv/modules/calib3d/src/usac/ransac_solvers.cpp:1047: error: (-2:Unspecified error) in function 'cv::usac::mergePoints(cv::InputArray, cv::InputArray, cv::Mat&, bool)::<lambda(cv::Mat&, int)>'\n",
      "> Invalid dimension of point (expected: 'points.cols >= pt_dim'), where\n",
      ">     'points.cols' is 1\n",
      "> must be greater than or equal to\n",
      ">     'pt_dim' is 2\n",
      "\n"
     ]
    },
    {
     "name": "stderr",
     "output_type": "stream",
     "text": [
      " 51%|█████     | 9560/18840 [02:33<02:02, 75.85it/s]"
     ]
    },
    {
     "name": "stdout",
     "output_type": "stream",
     "text": [
      "Found 0\n",
      "OpenCV(4.11.0) /io/opencv/modules/calib3d/src/usac/ransac_solvers.cpp:1047: error: (-2:Unspecified error) in function 'cv::usac::mergePoints(cv::InputArray, cv::InputArray, cv::Mat&, bool)::<lambda(cv::Mat&, int)>'\n",
      "> Invalid dimension of point (expected: 'points.cols >= pt_dim'), where\n",
      ">     'points.cols' is 0\n",
      "> must be greater than or equal to\n",
      ">     'pt_dim' is 2\n",
      "\n",
      "Found 0\n",
      "OpenCV(4.11.0) /io/opencv/modules/calib3d/src/usac/ransac_solvers.cpp:1047: error: (-2:Unspecified error) in function 'cv::usac::mergePoints(cv::InputArray, cv::InputArray, cv::Mat&, bool)::<lambda(cv::Mat&, int)>'\n",
      "> Invalid dimension of point (expected: 'points.cols >= pt_dim'), where\n",
      ">     'points.cols' is 0\n",
      "> must be greater than or equal to\n",
      ">     'pt_dim' is 2\n",
      "\n",
      "Found 0\n",
      "OpenCV(4.11.0) /io/opencv/modules/calib3d/src/usac/ransac_solvers.cpp:1047: error: (-2:Unspecified error) in function 'cv::usac::mergePoints(cv::InputArray, cv::InputArray, cv::Mat&, bool)::<lambda(cv::Mat&, int)>'\n",
      "> Invalid dimension of point (expected: 'points.cols >= pt_dim'), where\n",
      ">     'points.cols' is 0\n",
      "> must be greater than or equal to\n",
      ">     'pt_dim' is 2\n",
      "\n",
      "Found 2\n",
      "OpenCV(4.11.0) /io/opencv/modules/calib3d/src/usac/sampler.cpp:45: error: (-215:Assertion failed) sample_size <= points_size_ in function 'setPointsSize'\n",
      "\n"
     ]
    },
    {
     "name": "stderr",
     "output_type": "stream",
     "text": [
      " 51%|█████     | 9606/18840 [02:34<01:16, 121.44it/s]"
     ]
    },
    {
     "name": "stdout",
     "output_type": "stream",
     "text": [
      "Found 1\n",
      "OpenCV(4.11.0) /io/opencv/modules/calib3d/src/usac/ransac_solvers.cpp:1047: error: (-2:Unspecified error) in function 'cv::usac::mergePoints(cv::InputArray, cv::InputArray, cv::Mat&, bool)::<lambda(cv::Mat&, int)>'\n",
      "> Invalid dimension of point (expected: 'points.cols >= pt_dim'), where\n",
      ">     'points.cols' is 1\n",
      "> must be greater than or equal to\n",
      ">     'pt_dim' is 2\n",
      "\n",
      "Found 0\n",
      "OpenCV(4.11.0) /io/opencv/modules/calib3d/src/usac/ransac_solvers.cpp:1047: error: (-2:Unspecified error) in function 'cv::usac::mergePoints(cv::InputArray, cv::InputArray, cv::Mat&, bool)::<lambda(cv::Mat&, int)>'\n",
      "> Invalid dimension of point (expected: 'points.cols >= pt_dim'), where\n",
      ">     'points.cols' is 0\n",
      "> must be greater than or equal to\n",
      ">     'pt_dim' is 2\n",
      "\n",
      "Found 3\n",
      "OpenCV(4.11.0) /io/opencv/modules/calib3d/src/usac/sampler.cpp:45: error: (-215:Assertion failed) sample_size <= points_size_ in function 'setPointsSize'\n",
      "\n"
     ]
    },
    {
     "name": "stderr",
     "output_type": "stream",
     "text": [
      " 51%|█████▏    | 9702/18840 [02:37<03:11, 47.66it/s] "
     ]
    },
    {
     "name": "stdout",
     "output_type": "stream",
     "text": [
      "Found 0\n",
      "OpenCV(4.11.0) /io/opencv/modules/calib3d/src/usac/ransac_solvers.cpp:1047: error: (-2:Unspecified error) in function 'cv::usac::mergePoints(cv::InputArray, cv::InputArray, cv::Mat&, bool)::<lambda(cv::Mat&, int)>'\n",
      "> Invalid dimension of point (expected: 'points.cols >= pt_dim'), where\n",
      ">     'points.cols' is 0\n",
      "> must be greater than or equal to\n",
      ">     'pt_dim' is 2\n",
      "\n"
     ]
    },
    {
     "name": "stderr",
     "output_type": "stream",
     "text": [
      " 52%|█████▏    | 9714/18840 [02:37<03:02, 49.96it/s]"
     ]
    },
    {
     "name": "stdout",
     "output_type": "stream",
     "text": [
      "Found 1\n",
      "OpenCV(4.11.0) /io/opencv/modules/calib3d/src/usac/ransac_solvers.cpp:1047: error: (-2:Unspecified error) in function 'cv::usac::mergePoints(cv::InputArray, cv::InputArray, cv::Mat&, bool)::<lambda(cv::Mat&, int)>'\n",
      "> Invalid dimension of point (expected: 'points.cols >= pt_dim'), where\n",
      ">     'points.cols' is 1\n",
      "> must be greater than or equal to\n",
      ">     'pt_dim' is 2\n",
      "\n"
     ]
    },
    {
     "name": "stderr",
     "output_type": "stream",
     "text": [
      " 52%|█████▏    | 9747/18840 [02:37<02:34, 58.75it/s]"
     ]
    },
    {
     "name": "stdout",
     "output_type": "stream",
     "text": [
      "Found 0\n",
      "OpenCV(4.11.0) /io/opencv/modules/calib3d/src/usac/ransac_solvers.cpp:1047: error: (-2:Unspecified error) in function 'cv::usac::mergePoints(cv::InputArray, cv::InputArray, cv::Mat&, bool)::<lambda(cv::Mat&, int)>'\n",
      "> Invalid dimension of point (expected: 'points.cols >= pt_dim'), where\n",
      ">     'points.cols' is 0\n",
      "> must be greater than or equal to\n",
      ">     'pt_dim' is 2\n",
      "\n"
     ]
    },
    {
     "name": "stderr",
     "output_type": "stream",
     "text": [
      " 52%|█████▏    | 9803/18840 [02:38<01:14, 120.71it/s]"
     ]
    },
    {
     "name": "stdout",
     "output_type": "stream",
     "text": [
      "Found 0\n",
      "OpenCV(4.11.0) /io/opencv/modules/calib3d/src/usac/ransac_solvers.cpp:1047: error: (-2:Unspecified error) in function 'cv::usac::mergePoints(cv::InputArray, cv::InputArray, cv::Mat&, bool)::<lambda(cv::Mat&, int)>'\n",
      "> Invalid dimension of point (expected: 'points.cols >= pt_dim'), where\n",
      ">     'points.cols' is 0\n",
      "> must be greater than or equal to\n",
      ">     'pt_dim' is 2\n",
      "\n"
     ]
    },
    {
     "name": "stderr",
     "output_type": "stream",
     "text": [
      " 53%|█████▎    | 9922/18840 [02:40<02:34, 57.76it/s] "
     ]
    },
    {
     "name": "stdout",
     "output_type": "stream",
     "text": [
      "Found 0\n",
      "OpenCV(4.11.0) /io/opencv/modules/calib3d/src/usac/ransac_solvers.cpp:1047: error: (-2:Unspecified error) in function 'cv::usac::mergePoints(cv::InputArray, cv::InputArray, cv::Mat&, bool)::<lambda(cv::Mat&, int)>'\n",
      "> Invalid dimension of point (expected: 'points.cols >= pt_dim'), where\n",
      ">     'points.cols' is 0\n",
      "> must be greater than or equal to\n",
      ">     'pt_dim' is 2\n",
      "\n"
     ]
    },
    {
     "name": "stderr",
     "output_type": "stream",
     "text": [
      " 53%|█████▎    | 9934/18840 [02:40<02:34, 57.72it/s]"
     ]
    },
    {
     "name": "stdout",
     "output_type": "stream",
     "text": [
      "Found 0\n",
      "OpenCV(4.11.0) /io/opencv/modules/calib3d/src/usac/ransac_solvers.cpp:1047: error: (-2:Unspecified error) in function 'cv::usac::mergePoints(cv::InputArray, cv::InputArray, cv::Mat&, bool)::<lambda(cv::Mat&, int)>'\n",
      "> Invalid dimension of point (expected: 'points.cols >= pt_dim'), where\n",
      ">     'points.cols' is 0\n",
      "> must be greater than or equal to\n",
      ">     'pt_dim' is 2\n",
      "\n"
     ]
    },
    {
     "name": "stderr",
     "output_type": "stream",
     "text": [
      " 53%|█████▎    | 9966/18840 [02:40<02:27, 60.01it/s]"
     ]
    },
    {
     "name": "stdout",
     "output_type": "stream",
     "text": [
      "Found 0\n",
      "OpenCV(4.11.0) /io/opencv/modules/calib3d/src/usac/ransac_solvers.cpp:1047: error: (-2:Unspecified error) in function 'cv::usac::mergePoints(cv::InputArray, cv::InputArray, cv::Mat&, bool)::<lambda(cv::Mat&, int)>'\n",
      "> Invalid dimension of point (expected: 'points.cols >= pt_dim'), where\n",
      ">     'points.cols' is 0\n",
      "> must be greater than or equal to\n",
      ">     'pt_dim' is 2\n",
      "\n"
     ]
    },
    {
     "name": "stderr",
     "output_type": "stream",
     "text": [
      " 53%|█████▎    | 9985/18840 [02:41<01:56, 75.88it/s]"
     ]
    },
    {
     "name": "stdout",
     "output_type": "stream",
     "text": [
      "Found 3\n",
      "OpenCV(4.11.0) /io/opencv/modules/calib3d/src/usac/sampler.cpp:45: error: (-215:Assertion failed) sample_size <= points_size_ in function 'setPointsSize'\n",
      "\n",
      "Found 2\n",
      "OpenCV(4.11.0) /io/opencv/modules/calib3d/src/usac/sampler.cpp:45: error: (-215:Assertion failed) sample_size <= points_size_ in function 'setPointsSize'\n",
      "\n",
      "Found 3\n",
      "OpenCV(4.11.0) /io/opencv/modules/calib3d/src/usac/sampler.cpp:45: error: (-215:Assertion failed) sample_size <= points_size_ in function 'setPointsSize'\n",
      "\n",
      "Found 3\n",
      "OpenCV(4.11.0) /io/opencv/modules/calib3d/src/usac/sampler.cpp:45: error: (-215:Assertion failed) sample_size <= points_size_ in function 'setPointsSize'\n",
      "\n",
      "Found 0\n",
      "OpenCV(4.11.0) /io/opencv/modules/calib3d/src/usac/ransac_solvers.cpp:1047: error: (-2:Unspecified error) in function 'cv::usac::mergePoints(cv::InputArray, cv::InputArray, cv::Mat&, bool)::<lambda(cv::Mat&, int)>'\n",
      "> Invalid dimension of point (expected: 'points.cols >= pt_dim'), where\n",
      ">     'points.cols' is 0\n",
      "> must be greater than or equal to\n",
      ">     'pt_dim' is 2\n",
      "\n",
      "Found 6\n",
      "OpenCV(4.11.0) /io/opencv/modules/calib3d/src/usac/sampler.cpp:45: error: (-215:Assertion failed) sample_size <= points_size_ in function 'setPointsSize'\n",
      "\n"
     ]
    },
    {
     "name": "stderr",
     "output_type": "stream",
     "text": [
      " 53%|█████▎    | 10029/18840 [02:41<01:13, 119.70it/s]"
     ]
    },
    {
     "name": "stdout",
     "output_type": "stream",
     "text": [
      "Found 0\n",
      "OpenCV(4.11.0) /io/opencv/modules/calib3d/src/usac/ransac_solvers.cpp:1047: error: (-2:Unspecified error) in function 'cv::usac::mergePoints(cv::InputArray, cv::InputArray, cv::Mat&, bool)::<lambda(cv::Mat&, int)>'\n",
      "> Invalid dimension of point (expected: 'points.cols >= pt_dim'), where\n",
      ">     'points.cols' is 0\n",
      "> must be greater than or equal to\n",
      ">     'pt_dim' is 2\n",
      "\n",
      "Found 2\n",
      "OpenCV(4.11.0) /io/opencv/modules/calib3d/src/usac/sampler.cpp:45: error: (-215:Assertion failed) sample_size <= points_size_ in function 'setPointsSize'\n",
      "\n",
      "Found 0\n",
      "OpenCV(4.11.0) /io/opencv/modules/calib3d/src/usac/ransac_solvers.cpp:1047: error: (-2:Unspecified error) in function 'cv::usac::mergePoints(cv::InputArray, cv::InputArray, cv::Mat&, bool)::<lambda(cv::Mat&, int)>'\n",
      "> Invalid dimension of point (expected: 'points.cols >= pt_dim'), where\n",
      ">     'points.cols' is 0\n",
      "> must be greater than or equal to\n",
      ">     'pt_dim' is 2\n",
      "\n"
     ]
    },
    {
     "name": "stderr",
     "output_type": "stream",
     "text": [
      " 54%|█████▍    | 10135/18840 [02:42<01:33, 93.20it/s] "
     ]
    },
    {
     "name": "stdout",
     "output_type": "stream",
     "text": [
      "Found 0\n",
      "OpenCV(4.11.0) /io/opencv/modules/calib3d/src/usac/ransac_solvers.cpp:1047: error: (-2:Unspecified error) in function 'cv::usac::mergePoints(cv::InputArray, cv::InputArray, cv::Mat&, bool)::<lambda(cv::Mat&, int)>'\n",
      "> Invalid dimension of point (expected: 'points.cols >= pt_dim'), where\n",
      ">     'points.cols' is 0\n",
      "> must be greater than or equal to\n",
      ">     'pt_dim' is 2\n",
      "\n",
      "Found 0\n",
      "OpenCV(4.11.0) /io/opencv/modules/calib3d/src/usac/ransac_solvers.cpp:1047: error: (-2:Unspecified error) in function 'cv::usac::mergePoints(cv::InputArray, cv::InputArray, cv::Mat&, bool)::<lambda(cv::Mat&, int)>'\n",
      "> Invalid dimension of point (expected: 'points.cols >= pt_dim'), where\n",
      ">     'points.cols' is 0\n",
      "> must be greater than or equal to\n",
      ">     'pt_dim' is 2\n",
      "\n",
      "Found 0\n",
      "OpenCV(4.11.0) /io/opencv/modules/calib3d/src/usac/ransac_solvers.cpp:1047: error: (-2:Unspecified error) in function 'cv::usac::mergePoints(cv::InputArray, cv::InputArray, cv::Mat&, bool)::<lambda(cv::Mat&, int)>'\n",
      "> Invalid dimension of point (expected: 'points.cols >= pt_dim'), where\n",
      ">     'points.cols' is 0\n",
      "> must be greater than or equal to\n",
      ">     'pt_dim' is 2\n",
      "\n"
     ]
    },
    {
     "name": "stderr",
     "output_type": "stream",
     "text": [
      " 54%|█████▍    | 10178/18840 [02:43<01:10, 122.44it/s]"
     ]
    },
    {
     "name": "stdout",
     "output_type": "stream",
     "text": [
      "Found 5\n",
      "OpenCV(4.11.0) /io/opencv/modules/calib3d/src/usac/sampler.cpp:45: error: (-215:Assertion failed) sample_size <= points_size_ in function 'setPointsSize'\n",
      "\n"
     ]
    },
    {
     "name": "stderr",
     "output_type": "stream",
     "text": [
      " 55%|█████▌    | 10449/18840 [02:47<01:15, 110.97it/s]"
     ]
    },
    {
     "name": "stdout",
     "output_type": "stream",
     "text": [
      "Found 1\n",
      "OpenCV(4.11.0) /io/opencv/modules/calib3d/src/usac/ransac_solvers.cpp:1047: error: (-2:Unspecified error) in function 'cv::usac::mergePoints(cv::InputArray, cv::InputArray, cv::Mat&, bool)::<lambda(cv::Mat&, int)>'\n",
      "> Invalid dimension of point (expected: 'points.cols >= pt_dim'), where\n",
      ">     'points.cols' is 1\n",
      "> must be greater than or equal to\n",
      ">     'pt_dim' is 2\n",
      "\n",
      "Found 3\n",
      "OpenCV(4.11.0) /io/opencv/modules/calib3d/src/usac/sampler.cpp:45: error: (-215:Assertion failed) sample_size <= points_size_ in function 'setPointsSize'\n",
      "\n",
      "Found 1\n",
      "OpenCV(4.11.0) /io/opencv/modules/calib3d/src/usac/ransac_solvers.cpp:1047: error: (-2:Unspecified error) in function 'cv::usac::mergePoints(cv::InputArray, cv::InputArray, cv::Mat&, bool)::<lambda(cv::Mat&, int)>'\n",
      "> Invalid dimension of point (expected: 'points.cols >= pt_dim'), where\n",
      ">     'points.cols' is 1\n",
      "> must be greater than or equal to\n",
      ">     'pt_dim' is 2\n",
      "\n",
      "Found 1\n",
      "OpenCV(4.11.0) /io/opencv/modules/calib3d/src/usac/ransac_solvers.cpp:1047: error: (-2:Unspecified error) in function 'cv::usac::mergePoints(cv::InputArray, cv::InputArray, cv::Mat&, bool)::<lambda(cv::Mat&, int)>'\n",
      "> Invalid dimension of point (expected: 'points.cols >= pt_dim'), where\n",
      ">     'points.cols' is 1\n",
      "> must be greater than or equal to\n",
      ">     'pt_dim' is 2\n",
      "\n",
      "Found 2\n",
      "OpenCV(4.11.0) /io/opencv/modules/calib3d/src/usac/sampler.cpp:45: error: (-215:Assertion failed) sample_size <= points_size_ in function 'setPointsSize'\n",
      "\n",
      "Found 3\n",
      "OpenCV(4.11.0) /io/opencv/modules/calib3d/src/usac/sampler.cpp:45: error: (-215:Assertion failed) sample_size <= points_size_ in function 'setPointsSize'\n",
      "\n"
     ]
    },
    {
     "name": "stderr",
     "output_type": "stream",
     "text": [
      " 56%|█████▌    | 10477/18840 [02:47<01:07, 123.38it/s]"
     ]
    },
    {
     "name": "stdout",
     "output_type": "stream",
     "text": [
      "Found 1\n",
      "OpenCV(4.11.0) /io/opencv/modules/calib3d/src/usac/ransac_solvers.cpp:1047: error: (-2:Unspecified error) in function 'cv::usac::mergePoints(cv::InputArray, cv::InputArray, cv::Mat&, bool)::<lambda(cv::Mat&, int)>'\n",
      "> Invalid dimension of point (expected: 'points.cols >= pt_dim'), where\n",
      ">     'points.cols' is 1\n",
      "> must be greater than or equal to\n",
      ">     'pt_dim' is 2\n",
      "\n",
      "Found 3\n",
      "OpenCV(4.11.0) /io/opencv/modules/calib3d/src/usac/sampler.cpp:45: error: (-215:Assertion failed) sample_size <= points_size_ in function 'setPointsSize'\n",
      "\n",
      "Found 3\n",
      "OpenCV(4.11.0) /io/opencv/modules/calib3d/src/usac/sampler.cpp:45: error: (-215:Assertion failed) sample_size <= points_size_ in function 'setPointsSize'\n",
      "\n",
      "Found 4\n",
      "OpenCV(4.11.0) /io/opencv/modules/calib3d/src/usac/sampler.cpp:45: error: (-215:Assertion failed) sample_size <= points_size_ in function 'setPointsSize'\n",
      "\n"
     ]
    },
    {
     "name": "stderr",
     "output_type": "stream",
     "text": [
      " 56%|█████▌    | 10512/18840 [02:48<01:54, 72.43it/s] "
     ]
    },
    {
     "name": "stdout",
     "output_type": "stream",
     "text": [
      "Found 1\n",
      "OpenCV(4.11.0) /io/opencv/modules/calib3d/src/usac/ransac_solvers.cpp:1047: error: (-2:Unspecified error) in function 'cv::usac::mergePoints(cv::InputArray, cv::InputArray, cv::Mat&, bool)::<lambda(cv::Mat&, int)>'\n",
      "> Invalid dimension of point (expected: 'points.cols >= pt_dim'), where\n",
      ">     'points.cols' is 1\n",
      "> must be greater than or equal to\n",
      ">     'pt_dim' is 2\n",
      "\n"
     ]
    },
    {
     "name": "stderr",
     "output_type": "stream",
     "text": [
      " 56%|█████▌    | 10529/18840 [02:48<02:11, 63.25it/s]"
     ]
    },
    {
     "name": "stdout",
     "output_type": "stream",
     "text": [
      "Found 1\n",
      "OpenCV(4.11.0) /io/opencv/modules/calib3d/src/usac/ransac_solvers.cpp:1047: error: (-2:Unspecified error) in function 'cv::usac::mergePoints(cv::InputArray, cv::InputArray, cv::Mat&, bool)::<lambda(cv::Mat&, int)>'\n",
      "> Invalid dimension of point (expected: 'points.cols >= pt_dim'), where\n",
      ">     'points.cols' is 1\n",
      "> must be greater than or equal to\n",
      ">     'pt_dim' is 2\n",
      "\n"
     ]
    },
    {
     "name": "stderr",
     "output_type": "stream",
     "text": [
      " 56%|█████▌    | 10555/18840 [02:48<02:29, 55.41it/s]"
     ]
    },
    {
     "name": "stdout",
     "output_type": "stream",
     "text": [
      "Found 0\n",
      "OpenCV(4.11.0) /io/opencv/modules/calib3d/src/usac/ransac_solvers.cpp:1047: error: (-2:Unspecified error) in function 'cv::usac::mergePoints(cv::InputArray, cv::InputArray, cv::Mat&, bool)::<lambda(cv::Mat&, int)>'\n",
      "> Invalid dimension of point (expected: 'points.cols >= pt_dim'), where\n",
      ">     'points.cols' is 0\n",
      "> must be greater than or equal to\n",
      ">     'pt_dim' is 2\n",
      "\n"
     ]
    },
    {
     "name": "stderr",
     "output_type": "stream",
     "text": [
      " 57%|█████▋    | 10807/18840 [02:53<02:32, 52.56it/s]"
     ]
    },
    {
     "name": "stdout",
     "output_type": "stream",
     "text": [
      "Found 0\n",
      "OpenCV(4.11.0) /io/opencv/modules/calib3d/src/usac/ransac_solvers.cpp:1047: error: (-2:Unspecified error) in function 'cv::usac::mergePoints(cv::InputArray, cv::InputArray, cv::Mat&, bool)::<lambda(cv::Mat&, int)>'\n",
      "> Invalid dimension of point (expected: 'points.cols >= pt_dim'), where\n",
      ">     'points.cols' is 0\n",
      "> must be greater than or equal to\n",
      ">     'pt_dim' is 2\n",
      "\n"
     ]
    },
    {
     "name": "stderr",
     "output_type": "stream",
     "text": [
      " 57%|█████▋    | 10819/18840 [02:53<02:37, 51.03it/s]"
     ]
    },
    {
     "name": "stdout",
     "output_type": "stream",
     "text": [
      "Found 0\n",
      "OpenCV(4.11.0) /io/opencv/modules/calib3d/src/usac/ransac_solvers.cpp:1047: error: (-2:Unspecified error) in function 'cv::usac::mergePoints(cv::InputArray, cv::InputArray, cv::Mat&, bool)::<lambda(cv::Mat&, int)>'\n",
      "> Invalid dimension of point (expected: 'points.cols >= pt_dim'), where\n",
      ">     'points.cols' is 0\n",
      "> must be greater than or equal to\n",
      ">     'pt_dim' is 2\n",
      "\n"
     ]
    },
    {
     "name": "stderr",
     "output_type": "stream",
     "text": [
      " 58%|█████▊    | 10849/18840 [02:54<02:32, 52.40it/s]"
     ]
    },
    {
     "name": "stdout",
     "output_type": "stream",
     "text": [
      "Found 0\n",
      "OpenCV(4.11.0) /io/opencv/modules/calib3d/src/usac/ransac_solvers.cpp:1047: error: (-2:Unspecified error) in function 'cv::usac::mergePoints(cv::InputArray, cv::InputArray, cv::Mat&, bool)::<lambda(cv::Mat&, int)>'\n",
      "> Invalid dimension of point (expected: 'points.cols >= pt_dim'), where\n",
      ">     'points.cols' is 0\n",
      "> must be greater than or equal to\n",
      ">     'pt_dim' is 2\n",
      "\n"
     ]
    },
    {
     "name": "stderr",
     "output_type": "stream",
     "text": [
      " 58%|█████▊    | 10975/18840 [02:55<01:03, 124.50it/s]"
     ]
    },
    {
     "name": "stdout",
     "output_type": "stream",
     "text": [
      "Found 0\n",
      "OpenCV(4.11.0) /io/opencv/modules/calib3d/src/usac/ransac_solvers.cpp:1047: error: (-2:Unspecified error) in function 'cv::usac::mergePoints(cv::InputArray, cv::InputArray, cv::Mat&, bool)::<lambda(cv::Mat&, int)>'\n",
      "> Invalid dimension of point (expected: 'points.cols >= pt_dim'), where\n",
      ">     'points.cols' is 0\n",
      "> must be greater than or equal to\n",
      ">     'pt_dim' is 2\n",
      "\n",
      "Found 0\n",
      "OpenCV(4.11.0) /io/opencv/modules/calib3d/src/usac/ransac_solvers.cpp:1047: error: (-2:Unspecified error) in function 'cv::usac::mergePoints(cv::InputArray, cv::InputArray, cv::Mat&, bool)::<lambda(cv::Mat&, int)>'\n",
      "> Invalid dimension of point (expected: 'points.cols >= pt_dim'), where\n",
      ">     'points.cols' is 0\n",
      "> must be greater than or equal to\n",
      ">     'pt_dim' is 2\n",
      "\n",
      "Found 4\n",
      "OpenCV(4.11.0) /io/opencv/modules/calib3d/src/usac/sampler.cpp:45: error: (-215:Assertion failed) sample_size <= points_size_ in function 'setPointsSize'\n",
      "\n"
     ]
    },
    {
     "name": "stderr",
     "output_type": "stream",
     "text": [
      " 58%|█████▊    | 11010/18840 [02:56<00:55, 140.10it/s]"
     ]
    },
    {
     "name": "stdout",
     "output_type": "stream",
     "text": [
      "Found 2\n",
      "OpenCV(4.11.0) /io/opencv/modules/calib3d/src/usac/sampler.cpp:45: error: (-215:Assertion failed) sample_size <= points_size_ in function 'setPointsSize'\n",
      "\n",
      "Found 5\n",
      "OpenCV(4.11.0) /io/opencv/modules/calib3d/src/usac/sampler.cpp:45: error: (-215:Assertion failed) sample_size <= points_size_ in function 'setPointsSize'\n",
      "\n"
     ]
    },
    {
     "name": "stderr",
     "output_type": "stream",
     "text": [
      " 59%|█████▉    | 11114/18840 [02:57<01:20, 95.84it/s] "
     ]
    },
    {
     "name": "stdout",
     "output_type": "stream",
     "text": [
      "Found 0\n",
      "OpenCV(4.11.0) /io/opencv/modules/calib3d/src/usac/ransac_solvers.cpp:1047: error: (-2:Unspecified error) in function 'cv::usac::mergePoints(cv::InputArray, cv::InputArray, cv::Mat&, bool)::<lambda(cv::Mat&, int)>'\n",
      "> Invalid dimension of point (expected: 'points.cols >= pt_dim'), where\n",
      ">     'points.cols' is 0\n",
      "> must be greater than or equal to\n",
      ">     'pt_dim' is 2\n",
      "\n",
      "Found 0\n",
      "OpenCV(4.11.0) /io/opencv/modules/calib3d/src/usac/ransac_solvers.cpp:1047: error: (-2:Unspecified error) in function 'cv::usac::mergePoints(cv::InputArray, cv::InputArray, cv::Mat&, bool)::<lambda(cv::Mat&, int)>'\n",
      "> Invalid dimension of point (expected: 'points.cols >= pt_dim'), where\n",
      ">     'points.cols' is 0\n",
      "> must be greater than or equal to\n",
      ">     'pt_dim' is 2\n",
      "\n",
      "Found 0\n",
      "OpenCV(4.11.0) /io/opencv/modules/calib3d/src/usac/ransac_solvers.cpp:1047: error: (-2:Unspecified error) in function 'cv::usac::mergePoints(cv::InputArray, cv::InputArray, cv::Mat&, bool)::<lambda(cv::Mat&, int)>'\n",
      "> Invalid dimension of point (expected: 'points.cols >= pt_dim'), where\n",
      ">     'points.cols' is 0\n",
      "> must be greater than or equal to\n",
      ">     'pt_dim' is 2\n",
      "\n",
      "Found 2\n",
      "OpenCV(4.11.0) /io/opencv/modules/calib3d/src/usac/sampler.cpp:45: error: (-215:Assertion failed) sample_size <= points_size_ in function 'setPointsSize'\n",
      "\n"
     ]
    },
    {
     "name": "stderr",
     "output_type": "stream",
     "text": [
      " 59%|█████▉    | 11158/18840 [02:57<01:01, 124.96it/s]"
     ]
    },
    {
     "name": "stdout",
     "output_type": "stream",
     "text": [
      "Found 2\n",
      "OpenCV(4.11.0) /io/opencv/modules/calib3d/src/usac/sampler.cpp:45: error: (-215:Assertion failed) sample_size <= points_size_ in function 'setPointsSize'\n",
      "\n",
      "Found 0\n",
      "OpenCV(4.11.0) /io/opencv/modules/calib3d/src/usac/ransac_solvers.cpp:1047: error: (-2:Unspecified error) in function 'cv::usac::mergePoints(cv::InputArray, cv::InputArray, cv::Mat&, bool)::<lambda(cv::Mat&, int)>'\n",
      "> Invalid dimension of point (expected: 'points.cols >= pt_dim'), where\n",
      ">     'points.cols' is 0\n",
      "> must be greater than or equal to\n",
      ">     'pt_dim' is 2\n",
      "\n",
      "Found 0\n",
      "OpenCV(4.11.0) /io/opencv/modules/calib3d/src/usac/ransac_solvers.cpp:1047: error: (-2:Unspecified error) in function 'cv::usac::mergePoints(cv::InputArray, cv::InputArray, cv::Mat&, bool)::<lambda(cv::Mat&, int)>'\n",
      "> Invalid dimension of point (expected: 'points.cols >= pt_dim'), where\n",
      ">     'points.cols' is 0\n",
      "> must be greater than or equal to\n",
      ">     'pt_dim' is 2\n",
      "\n",
      "Found 0\n",
      "OpenCV(4.11.0) /io/opencv/modules/calib3d/src/usac/ransac_solvers.cpp:1047: error: (-2:Unspecified error) in function 'cv::usac::mergePoints(cv::InputArray, cv::InputArray, cv::Mat&, bool)::<lambda(cv::Mat&, int)>'\n",
      "> Invalid dimension of point (expected: 'points.cols >= pt_dim'), where\n",
      ">     'points.cols' is 0\n",
      "> must be greater than or equal to\n",
      ">     'pt_dim' is 2\n",
      "\n",
      "Found 2\n",
      "OpenCV(4.11.0) /io/opencv/modules/calib3d/src/usac/sampler.cpp:45: error: (-215:Assertion failed) sample_size <= points_size_ in function 'setPointsSize'\n",
      "\n"
     ]
    },
    {
     "name": "stderr",
     "output_type": "stream",
     "text": [
      " 60%|██████    | 11355/18840 [03:01<02:15, 55.11it/s] "
     ]
    },
    {
     "name": "stdout",
     "output_type": "stream",
     "text": [
      "Found 0\n",
      "OpenCV(4.11.0) /io/opencv/modules/calib3d/src/usac/ransac_solvers.cpp:1047: error: (-2:Unspecified error) in function 'cv::usac::mergePoints(cv::InputArray, cv::InputArray, cv::Mat&, bool)::<lambda(cv::Mat&, int)>'\n",
      "> Invalid dimension of point (expected: 'points.cols >= pt_dim'), where\n",
      ">     'points.cols' is 0\n",
      "> must be greater than or equal to\n",
      ">     'pt_dim' is 2\n",
      "\n"
     ]
    },
    {
     "name": "stderr",
     "output_type": "stream",
     "text": [
      " 60%|██████    | 11367/18840 [03:01<02:28, 50.30it/s]"
     ]
    },
    {
     "name": "stdout",
     "output_type": "stream",
     "text": [
      "Found 1\n",
      "OpenCV(4.11.0) /io/opencv/modules/calib3d/src/usac/ransac_solvers.cpp:1047: error: (-2:Unspecified error) in function 'cv::usac::mergePoints(cv::InputArray, cv::InputArray, cv::Mat&, bool)::<lambda(cv::Mat&, int)>'\n",
      "> Invalid dimension of point (expected: 'points.cols >= pt_dim'), where\n",
      ">     'points.cols' is 1\n",
      "> must be greater than or equal to\n",
      ">     'pt_dim' is 2\n",
      "\n"
     ]
    },
    {
     "name": "stderr",
     "output_type": "stream",
     "text": [
      " 60%|██████    | 11397/18840 [03:02<02:28, 50.17it/s]"
     ]
    },
    {
     "name": "stdout",
     "output_type": "stream",
     "text": [
      "Found 1\n",
      "OpenCV(4.11.0) /io/opencv/modules/calib3d/src/usac/ransac_solvers.cpp:1047: error: (-2:Unspecified error) in function 'cv::usac::mergePoints(cv::InputArray, cv::InputArray, cv::Mat&, bool)::<lambda(cv::Mat&, int)>'\n",
      "> Invalid dimension of point (expected: 'points.cols >= pt_dim'), where\n",
      ">     'points.cols' is 1\n",
      "> must be greater than or equal to\n",
      ">     'pt_dim' is 2\n",
      "\n"
     ]
    },
    {
     "name": "stderr",
     "output_type": "stream",
     "text": [
      " 61%|██████    | 11521/18840 [03:04<02:31, 48.37it/s]"
     ]
    },
    {
     "name": "stdout",
     "output_type": "stream",
     "text": [
      "Found 0\n",
      "OpenCV(4.11.0) /io/opencv/modules/calib3d/src/usac/ransac_solvers.cpp:1047: error: (-2:Unspecified error) in function 'cv::usac::mergePoints(cv::InputArray, cv::InputArray, cv::Mat&, bool)::<lambda(cv::Mat&, int)>'\n",
      "> Invalid dimension of point (expected: 'points.cols >= pt_dim'), where\n",
      ">     'points.cols' is 0\n",
      "> must be greater than or equal to\n",
      ">     'pt_dim' is 2\n",
      "\n"
     ]
    },
    {
     "name": "stderr",
     "output_type": "stream",
     "text": [
      " 61%|██████    | 11531/18840 [03:04<02:35, 47.10it/s]"
     ]
    },
    {
     "name": "stdout",
     "output_type": "stream",
     "text": [
      "Found 0\n",
      "OpenCV(4.11.0) /io/opencv/modules/calib3d/src/usac/ransac_solvers.cpp:1047: error: (-2:Unspecified error) in function 'cv::usac::mergePoints(cv::InputArray, cv::InputArray, cv::Mat&, bool)::<lambda(cv::Mat&, int)>'\n",
      "> Invalid dimension of point (expected: 'points.cols >= pt_dim'), where\n",
      ">     'points.cols' is 0\n",
      "> must be greater than or equal to\n",
      ">     'pt_dim' is 2\n",
      "\n"
     ]
    },
    {
     "name": "stderr",
     "output_type": "stream",
     "text": [
      " 61%|██████▏   | 11561/18840 [03:05<02:35, 46.90it/s]"
     ]
    },
    {
     "name": "stdout",
     "output_type": "stream",
     "text": [
      "Found 1\n",
      "OpenCV(4.11.0) /io/opencv/modules/calib3d/src/usac/ransac_solvers.cpp:1047: error: (-2:Unspecified error) in function 'cv::usac::mergePoints(cv::InputArray, cv::InputArray, cv::Mat&, bool)::<lambda(cv::Mat&, int)>'\n",
      "> Invalid dimension of point (expected: 'points.cols >= pt_dim'), where\n",
      ">     'points.cols' is 1\n",
      "> must be greater than or equal to\n",
      ">     'pt_dim' is 2\n",
      "\n"
     ]
    },
    {
     "name": "stderr",
     "output_type": "stream",
     "text": [
      " 63%|██████▎   | 11831/18840 [03:11<01:54, 61.41it/s]"
     ]
    },
    {
     "name": "stdout",
     "output_type": "stream",
     "text": [
      "Found 0\n",
      "OpenCV(4.11.0) /io/opencv/modules/calib3d/src/usac/ransac_solvers.cpp:1047: error: (-2:Unspecified error) in function 'cv::usac::mergePoints(cv::InputArray, cv::InputArray, cv::Mat&, bool)::<lambda(cv::Mat&, int)>'\n",
      "> Invalid dimension of point (expected: 'points.cols >= pt_dim'), where\n",
      ">     'points.cols' is 0\n",
      "> must be greater than or equal to\n",
      ">     'pt_dim' is 2\n",
      "\n"
     ]
    },
    {
     "name": "stderr",
     "output_type": "stream",
     "text": [
      " 63%|██████▎   | 11844/18840 [03:11<02:01, 57.59it/s]"
     ]
    },
    {
     "name": "stdout",
     "output_type": "stream",
     "text": [
      "Found 0\n",
      "OpenCV(4.11.0) /io/opencv/modules/calib3d/src/usac/ransac_solvers.cpp:1047: error: (-2:Unspecified error) in function 'cv::usac::mergePoints(cv::InputArray, cv::InputArray, cv::Mat&, bool)::<lambda(cv::Mat&, int)>'\n",
      "> Invalid dimension of point (expected: 'points.cols >= pt_dim'), where\n",
      ">     'points.cols' is 0\n",
      "> must be greater than or equal to\n",
      ">     'pt_dim' is 2\n",
      "\n"
     ]
    },
    {
     "name": "stderr",
     "output_type": "stream",
     "text": [
      " 63%|██████▎   | 11876/18840 [03:11<01:59, 58.10it/s]"
     ]
    },
    {
     "name": "stdout",
     "output_type": "stream",
     "text": [
      "Found 0\n",
      "OpenCV(4.11.0) /io/opencv/modules/calib3d/src/usac/ransac_solvers.cpp:1047: error: (-2:Unspecified error) in function 'cv::usac::mergePoints(cv::InputArray, cv::InputArray, cv::Mat&, bool)::<lambda(cv::Mat&, int)>'\n",
      "> Invalid dimension of point (expected: 'points.cols >= pt_dim'), where\n",
      ">     'points.cols' is 0\n",
      "> must be greater than or equal to\n",
      ">     'pt_dim' is 2\n",
      "\n"
     ]
    },
    {
     "name": "stderr",
     "output_type": "stream",
     "text": [
      " 63%|██████▎   | 11901/18840 [03:12<02:04, 55.76it/s]"
     ]
    },
    {
     "name": "stdout",
     "output_type": "stream",
     "text": [
      "Found 0\n",
      "OpenCV(4.11.0) /io/opencv/modules/calib3d/src/usac/ransac_solvers.cpp:1047: error: (-2:Unspecified error) in function 'cv::usac::mergePoints(cv::InputArray, cv::InputArray, cv::Mat&, bool)::<lambda(cv::Mat&, int)>'\n",
      "> Invalid dimension of point (expected: 'points.cols >= pt_dim'), where\n",
      ">     'points.cols' is 0\n",
      "> must be greater than or equal to\n",
      ">     'pt_dim' is 2\n",
      "\n",
      "Found 0\n",
      "OpenCV(4.11.0) /io/opencv/modules/calib3d/src/usac/ransac_solvers.cpp:1047: error: (-2:Unspecified error) in function 'cv::usac::mergePoints(cv::InputArray, cv::InputArray, cv::Mat&, bool)::<lambda(cv::Mat&, int)>'\n",
      "> Invalid dimension of point (expected: 'points.cols >= pt_dim'), where\n",
      ">     'points.cols' is 0\n",
      "> must be greater than or equal to\n",
      ">     'pt_dim' is 2\n",
      "\n"
     ]
    },
    {
     "name": "stderr",
     "output_type": "stream",
     "text": [
      " 63%|██████▎   | 11919/18840 [03:12<02:13, 51.82it/s]"
     ]
    },
    {
     "name": "stdout",
     "output_type": "stream",
     "text": [
      "Found 0\n",
      "OpenCV(4.11.0) /io/opencv/modules/calib3d/src/usac/ransac_solvers.cpp:1047: error: (-2:Unspecified error) in function 'cv::usac::mergePoints(cv::InputArray, cv::InputArray, cv::Mat&, bool)::<lambda(cv::Mat&, int)>'\n",
      "> Invalid dimension of point (expected: 'points.cols >= pt_dim'), where\n",
      ">     'points.cols' is 0\n",
      "> must be greater than or equal to\n",
      ">     'pt_dim' is 2\n",
      "\n"
     ]
    },
    {
     "name": "stderr",
     "output_type": "stream",
     "text": [
      " 63%|██████▎   | 11931/18840 [03:13<02:12, 51.98it/s]"
     ]
    },
    {
     "name": "stdout",
     "output_type": "stream",
     "text": [
      "Found 2\n",
      "OpenCV(4.11.0) /io/opencv/modules/calib3d/src/usac/sampler.cpp:45: error: (-215:Assertion failed) sample_size <= points_size_ in function 'setPointsSize'\n",
      "\n"
     ]
    },
    {
     "name": "stderr",
     "output_type": "stream",
     "text": [
      " 63%|██████▎   | 11943/18840 [03:13<02:22, 48.34it/s]"
     ]
    },
    {
     "name": "stdout",
     "output_type": "stream",
     "text": [
      "Found 1\n",
      "OpenCV(4.11.0) /io/opencv/modules/calib3d/src/usac/ransac_solvers.cpp:1047: error: (-2:Unspecified error) in function 'cv::usac::mergePoints(cv::InputArray, cv::InputArray, cv::Mat&, bool)::<lambda(cv::Mat&, int)>'\n",
      "> Invalid dimension of point (expected: 'points.cols >= pt_dim'), where\n",
      ">     'points.cols' is 1\n",
      "> must be greater than or equal to\n",
      ">     'pt_dim' is 2\n",
      "\n",
      "Found 1\n",
      "OpenCV(4.11.0) /io/opencv/modules/calib3d/src/usac/ransac_solvers.cpp:1047: error: (-2:Unspecified error) in function 'cv::usac::mergePoints(cv::InputArray, cv::InputArray, cv::Mat&, bool)::<lambda(cv::Mat&, int)>'\n",
      "> Invalid dimension of point (expected: 'points.cols >= pt_dim'), where\n",
      ">     'points.cols' is 1\n",
      "> must be greater than or equal to\n",
      ">     'pt_dim' is 2\n",
      "\n",
      "Found 1\n",
      "OpenCV(4.11.0) /io/opencv/modules/calib3d/src/usac/ransac_solvers.cpp:1047: error: (-2:Unspecified error) in function 'cv::usac::mergePoints(cv::InputArray, cv::InputArray, cv::Mat&, bool)::<lambda(cv::Mat&, int)>'\n",
      "> Invalid dimension of point (expected: 'points.cols >= pt_dim'), where\n",
      ">     'points.cols' is 1\n",
      "> must be greater than or equal to\n",
      ">     'pt_dim' is 2\n",
      "\n"
     ]
    },
    {
     "name": "stderr",
     "output_type": "stream",
     "text": [
      " 64%|██████▎   | 11967/18840 [03:13<02:09, 53.19it/s]"
     ]
    },
    {
     "name": "stdout",
     "output_type": "stream",
     "text": [
      "Found 0\n",
      "OpenCV(4.11.0) /io/opencv/modules/calib3d/src/usac/ransac_solvers.cpp:1047: error: (-2:Unspecified error) in function 'cv::usac::mergePoints(cv::InputArray, cv::InputArray, cv::Mat&, bool)::<lambda(cv::Mat&, int)>'\n",
      "> Invalid dimension of point (expected: 'points.cols >= pt_dim'), where\n",
      ">     'points.cols' is 0\n",
      "> must be greater than or equal to\n",
      ">     'pt_dim' is 2\n",
      "\n"
     ]
    },
    {
     "name": "stderr",
     "output_type": "stream",
     "text": [
      " 64%|██████▎   | 11979/18840 [03:13<02:10, 52.44it/s]"
     ]
    },
    {
     "name": "stdout",
     "output_type": "stream",
     "text": [
      "Found 1\n",
      "OpenCV(4.11.0) /io/opencv/modules/calib3d/src/usac/ransac_solvers.cpp:1047: error: (-2:Unspecified error) in function 'cv::usac::mergePoints(cv::InputArray, cv::InputArray, cv::Mat&, bool)::<lambda(cv::Mat&, int)>'\n",
      "> Invalid dimension of point (expected: 'points.cols >= pt_dim'), where\n",
      ">     'points.cols' is 1\n",
      "> must be greater than or equal to\n",
      ">     'pt_dim' is 2\n",
      "\n"
     ]
    },
    {
     "name": "stderr",
     "output_type": "stream",
     "text": [
      " 64%|██████▍   | 12088/18840 [03:15<02:06, 53.40it/s]"
     ]
    },
    {
     "name": "stdout",
     "output_type": "stream",
     "text": [
      "Found 0\n",
      "OpenCV(4.11.0) /io/opencv/modules/calib3d/src/usac/ransac_solvers.cpp:1047: error: (-2:Unspecified error) in function 'cv::usac::mergePoints(cv::InputArray, cv::InputArray, cv::Mat&, bool)::<lambda(cv::Mat&, int)>'\n",
      "> Invalid dimension of point (expected: 'points.cols >= pt_dim'), where\n",
      ">     'points.cols' is 0\n",
      "> must be greater than or equal to\n",
      ">     'pt_dim' is 2\n",
      "\n"
     ]
    },
    {
     "name": "stderr",
     "output_type": "stream",
     "text": [
      " 64%|██████▍   | 12100/18840 [03:16<02:16, 49.53it/s]"
     ]
    },
    {
     "name": "stdout",
     "output_type": "stream",
     "text": [
      "Found 1\n",
      "OpenCV(4.11.0) /io/opencv/modules/calib3d/src/usac/ransac_solvers.cpp:1047: error: (-2:Unspecified error) in function 'cv::usac::mergePoints(cv::InputArray, cv::InputArray, cv::Mat&, bool)::<lambda(cv::Mat&, int)>'\n",
      "> Invalid dimension of point (expected: 'points.cols >= pt_dim'), where\n",
      ">     'points.cols' is 1\n",
      "> must be greater than or equal to\n",
      ">     'pt_dim' is 2\n",
      "\n"
     ]
    },
    {
     "name": "stderr",
     "output_type": "stream",
     "text": [
      " 64%|██████▍   | 12130/18840 [03:16<02:12, 50.59it/s]"
     ]
    },
    {
     "name": "stdout",
     "output_type": "stream",
     "text": [
      "Found 0\n",
      "OpenCV(4.11.0) /io/opencv/modules/calib3d/src/usac/ransac_solvers.cpp:1047: error: (-2:Unspecified error) in function 'cv::usac::mergePoints(cv::InputArray, cv::InputArray, cv::Mat&, bool)::<lambda(cv::Mat&, int)>'\n",
      "> Invalid dimension of point (expected: 'points.cols >= pt_dim'), where\n",
      ">     'points.cols' is 0\n",
      "> must be greater than or equal to\n",
      ">     'pt_dim' is 2\n",
      "\n"
     ]
    },
    {
     "name": "stderr",
     "output_type": "stream",
     "text": [
      " 65%|██████▍   | 12235/18840 [03:18<01:01, 108.01it/s]"
     ]
    },
    {
     "name": "stdout",
     "output_type": "stream",
     "text": [
      "Found 0\n",
      "OpenCV(4.11.0) /io/opencv/modules/calib3d/src/usac/ransac_solvers.cpp:1047: error: (-2:Unspecified error) in function 'cv::usac::mergePoints(cv::InputArray, cv::InputArray, cv::Mat&, bool)::<lambda(cv::Mat&, int)>'\n",
      "> Invalid dimension of point (expected: 'points.cols >= pt_dim'), where\n",
      ">     'points.cols' is 0\n",
      "> must be greater than or equal to\n",
      ">     'pt_dim' is 2\n",
      "\n",
      "Found 0\n",
      "OpenCV(4.11.0) /io/opencv/modules/calib3d/src/usac/ransac_solvers.cpp:1047: error: (-2:Unspecified error) in function 'cv::usac::mergePoints(cv::InputArray, cv::InputArray, cv::Mat&, bool)::<lambda(cv::Mat&, int)>'\n",
      "> Invalid dimension of point (expected: 'points.cols >= pt_dim'), where\n",
      ">     'points.cols' is 0\n",
      "> must be greater than or equal to\n",
      ">     'pt_dim' is 2\n",
      "\n"
     ]
    },
    {
     "name": "stderr",
     "output_type": "stream",
     "text": [
      " 65%|██████▌   | 12268/18840 [03:18<00:49, 132.65it/s]"
     ]
    },
    {
     "name": "stdout",
     "output_type": "stream",
     "text": [
      "Found 3\n",
      "OpenCV(4.11.0) /io/opencv/modules/calib3d/src/usac/sampler.cpp:45: error: (-215:Assertion failed) sample_size <= points_size_ in function 'setPointsSize'\n",
      "\n",
      "Found 1\n",
      "OpenCV(4.11.0) /io/opencv/modules/calib3d/src/usac/ransac_solvers.cpp:1047: error: (-2:Unspecified error) in function 'cv::usac::mergePoints(cv::InputArray, cv::InputArray, cv::Mat&, bool)::<lambda(cv::Mat&, int)>'\n",
      "> Invalid dimension of point (expected: 'points.cols >= pt_dim'), where\n",
      ">     'points.cols' is 1\n",
      "> must be greater than or equal to\n",
      ">     'pt_dim' is 2\n",
      "\n"
     ]
    },
    {
     "name": "stderr",
     "output_type": "stream",
     "text": [
      " 66%|██████▌   | 12397/18840 [03:20<01:56, 55.40it/s] "
     ]
    },
    {
     "name": "stdout",
     "output_type": "stream",
     "text": [
      "Found 0\n",
      "OpenCV(4.11.0) /io/opencv/modules/calib3d/src/usac/ransac_solvers.cpp:1047: error: (-2:Unspecified error) in function 'cv::usac::mergePoints(cv::InputArray, cv::InputArray, cv::Mat&, bool)::<lambda(cv::Mat&, int)>'\n",
      "> Invalid dimension of point (expected: 'points.cols >= pt_dim'), where\n",
      ">     'points.cols' is 0\n",
      "> must be greater than or equal to\n",
      ">     'pt_dim' is 2\n",
      "\n"
     ]
    },
    {
     "name": "stderr",
     "output_type": "stream",
     "text": [
      " 66%|██████▌   | 12409/18840 [03:20<01:59, 53.81it/s]"
     ]
    },
    {
     "name": "stdout",
     "output_type": "stream",
     "text": [
      "Found 0\n",
      "OpenCV(4.11.0) /io/opencv/modules/calib3d/src/usac/ransac_solvers.cpp:1047: error: (-2:Unspecified error) in function 'cv::usac::mergePoints(cv::InputArray, cv::InputArray, cv::Mat&, bool)::<lambda(cv::Mat&, int)>'\n",
      "> Invalid dimension of point (expected: 'points.cols >= pt_dim'), where\n",
      ">     'points.cols' is 0\n",
      "> must be greater than or equal to\n",
      ">     'pt_dim' is 2\n",
      "\n"
     ]
    },
    {
     "name": "stderr",
     "output_type": "stream",
     "text": [
      " 67%|██████▋   | 12556/18840 [03:23<00:54, 115.14it/s]"
     ]
    },
    {
     "name": "stdout",
     "output_type": "stream",
     "text": [
      "Found 0\n",
      "OpenCV(4.11.0) /io/opencv/modules/calib3d/src/usac/ransac_solvers.cpp:1047: error: (-2:Unspecified error) in function 'cv::usac::mergePoints(cv::InputArray, cv::InputArray, cv::Mat&, bool)::<lambda(cv::Mat&, int)>'\n",
      "> Invalid dimension of point (expected: 'points.cols >= pt_dim'), where\n",
      ">     'points.cols' is 0\n",
      "> must be greater than or equal to\n",
      ">     'pt_dim' is 2\n",
      "\n",
      "Found 2\n",
      "OpenCV(4.11.0) /io/opencv/modules/calib3d/src/usac/sampler.cpp:45: error: (-215:Assertion failed) sample_size <= points_size_ in function 'setPointsSize'\n",
      "\n"
     ]
    },
    {
     "name": "stderr",
     "output_type": "stream",
     "text": [
      " 67%|██████▋   | 12588/18840 [03:23<00:47, 132.39it/s]"
     ]
    },
    {
     "name": "stdout",
     "output_type": "stream",
     "text": [
      "Found 3\n",
      "OpenCV(4.11.0) /io/opencv/modules/calib3d/src/usac/sampler.cpp:45: error: (-215:Assertion failed) sample_size <= points_size_ in function 'setPointsSize'\n",
      "\n",
      "Found 2\n",
      "OpenCV(4.11.0) /io/opencv/modules/calib3d/src/usac/sampler.cpp:45: error: (-215:Assertion failed) sample_size <= points_size_ in function 'setPointsSize'\n",
      "\n",
      "Found 2\n",
      "OpenCV(4.11.0) /io/opencv/modules/calib3d/src/usac/sampler.cpp:45: error: (-215:Assertion failed) sample_size <= points_size_ in function 'setPointsSize'\n",
      "\n",
      "Found 0\n",
      "OpenCV(4.11.0) /io/opencv/modules/calib3d/src/usac/ransac_solvers.cpp:1047: error: (-2:Unspecified error) in function 'cv::usac::mergePoints(cv::InputArray, cv::InputArray, cv::Mat&, bool)::<lambda(cv::Mat&, int)>'\n",
      "> Invalid dimension of point (expected: 'points.cols >= pt_dim'), where\n",
      ">     'points.cols' is 0\n",
      "> must be greater than or equal to\n",
      ">     'pt_dim' is 2\n",
      "\n",
      "Found 1\n",
      "OpenCV(4.11.0) /io/opencv/modules/calib3d/src/usac/ransac_solvers.cpp:1047: error: (-2:Unspecified error) in function 'cv::usac::mergePoints(cv::InputArray, cv::InputArray, cv::Mat&, bool)::<lambda(cv::Mat&, int)>'\n",
      "> Invalid dimension of point (expected: 'points.cols >= pt_dim'), where\n",
      ">     'points.cols' is 1\n",
      "> must be greater than or equal to\n",
      ">     'pt_dim' is 2\n",
      "\n"
     ]
    },
    {
     "name": "stderr",
     "output_type": "stream",
     "text": [
      " 67%|██████▋   | 12660/18840 [03:24<01:56, 52.85it/s] "
     ]
    },
    {
     "name": "stdout",
     "output_type": "stream",
     "text": [
      "Found 0\n",
      "OpenCV(4.11.0) /io/opencv/modules/calib3d/src/usac/ransac_solvers.cpp:1047: error: (-2:Unspecified error) in function 'cv::usac::mergePoints(cv::InputArray, cv::InputArray, cv::Mat&, bool)::<lambda(cv::Mat&, int)>'\n",
      "> Invalid dimension of point (expected: 'points.cols >= pt_dim'), where\n",
      ">     'points.cols' is 0\n",
      "> must be greater than or equal to\n",
      ">     'pt_dim' is 2\n",
      "\n"
     ]
    },
    {
     "name": "stderr",
     "output_type": "stream",
     "text": [
      " 68%|██████▊   | 12720/18840 [03:25<01:57, 52.22it/s]"
     ]
    },
    {
     "name": "stdout",
     "output_type": "stream",
     "text": [
      "Found 2\n",
      "OpenCV(4.11.0) /io/opencv/modules/calib3d/src/usac/sampler.cpp:45: error: (-215:Assertion failed) sample_size <= points_size_ in function 'setPointsSize'\n",
      "\n",
      "Found 6\n",
      "OpenCV(4.11.0) /io/opencv/modules/calib3d/src/usac/sampler.cpp:45: error: (-215:Assertion failed) sample_size <= points_size_ in function 'setPointsSize'\n",
      "\n",
      "Found 0\n",
      "OpenCV(4.11.0) /io/opencv/modules/calib3d/src/usac/ransac_solvers.cpp:1047: error: (-2:Unspecified error) in function 'cv::usac::mergePoints(cv::InputArray, cv::InputArray, cv::Mat&, bool)::<lambda(cv::Mat&, int)>'\n",
      "> Invalid dimension of point (expected: 'points.cols >= pt_dim'), where\n",
      ">     'points.cols' is 0\n",
      "> must be greater than or equal to\n",
      ">     'pt_dim' is 2\n",
      "\n"
     ]
    },
    {
     "name": "stderr",
     "output_type": "stream",
     "text": [
      " 68%|██████▊   | 12769/18840 [03:26<00:49, 122.24it/s]"
     ]
    },
    {
     "name": "stdout",
     "output_type": "stream",
     "text": [
      "Found 2\n",
      "OpenCV(4.11.0) /io/opencv/modules/calib3d/src/usac/sampler.cpp:45: error: (-215:Assertion failed) sample_size <= points_size_ in function 'setPointsSize'\n",
      "\n",
      "Found 0\n",
      "OpenCV(4.11.0) /io/opencv/modules/calib3d/src/usac/ransac_solvers.cpp:1047: error: (-2:Unspecified error) in function 'cv::usac::mergePoints(cv::InputArray, cv::InputArray, cv::Mat&, bool)::<lambda(cv::Mat&, int)>'\n",
      "> Invalid dimension of point (expected: 'points.cols >= pt_dim'), where\n",
      ">     'points.cols' is 0\n",
      "> must be greater than or equal to\n",
      ">     'pt_dim' is 2\n",
      "\n",
      "Found 0\n",
      "OpenCV(4.11.0) /io/opencv/modules/calib3d/src/usac/ransac_solvers.cpp:1047: error: (-2:Unspecified error) in function 'cv::usac::mergePoints(cv::InputArray, cv::InputArray, cv::Mat&, bool)::<lambda(cv::Mat&, int)>'\n",
      "> Invalid dimension of point (expected: 'points.cols >= pt_dim'), where\n",
      ">     'points.cols' is 0\n",
      "> must be greater than or equal to\n",
      ">     'pt_dim' is 2\n",
      "\n"
     ]
    },
    {
     "name": "stderr",
     "output_type": "stream",
     "text": [
      " 68%|██████▊   | 12816/18840 [03:26<00:40, 147.59it/s]"
     ]
    },
    {
     "name": "stdout",
     "output_type": "stream",
     "text": [
      "Found 1\n",
      "OpenCV(4.11.0) /io/opencv/modules/calib3d/src/usac/ransac_solvers.cpp:1047: error: (-2:Unspecified error) in function 'cv::usac::mergePoints(cv::InputArray, cv::InputArray, cv::Mat&, bool)::<lambda(cv::Mat&, int)>'\n",
      "> Invalid dimension of point (expected: 'points.cols >= pt_dim'), where\n",
      ">     'points.cols' is 1\n",
      "> must be greater than or equal to\n",
      ">     'pt_dim' is 2\n",
      "\n",
      "Found 0\n",
      "OpenCV(4.11.0) /io/opencv/modules/calib3d/src/usac/ransac_solvers.cpp:1047: error: (-2:Unspecified error) in function 'cv::usac::mergePoints(cv::InputArray, cv::InputArray, cv::Mat&, bool)::<lambda(cv::Mat&, int)>'\n",
      "> Invalid dimension of point (expected: 'points.cols >= pt_dim'), where\n",
      ">     'points.cols' is 0\n",
      "> must be greater than or equal to\n",
      ">     'pt_dim' is 2\n",
      "\n"
     ]
    },
    {
     "name": "stderr",
     "output_type": "stream",
     "text": [
      " 68%|██████▊   | 12900/18840 [03:27<00:37, 157.18it/s]"
     ]
    },
    {
     "name": "stdout",
     "output_type": "stream",
     "text": [
      "Found 5\n",
      "OpenCV(4.11.0) /io/opencv/modules/calib3d/src/usac/sampler.cpp:45: error: (-215:Assertion failed) sample_size <= points_size_ in function 'setPointsSize'\n",
      "\n",
      "Found 0\n",
      "OpenCV(4.11.0) /io/opencv/modules/calib3d/src/usac/ransac_solvers.cpp:1047: error: (-2:Unspecified error) in function 'cv::usac::mergePoints(cv::InputArray, cv::InputArray, cv::Mat&, bool)::<lambda(cv::Mat&, int)>'\n",
      "> Invalid dimension of point (expected: 'points.cols >= pt_dim'), where\n",
      ">     'points.cols' is 0\n",
      "> must be greater than or equal to\n",
      ">     'pt_dim' is 2\n",
      "\n"
     ]
    },
    {
     "name": "stderr",
     "output_type": "stream",
     "text": [
      " 69%|██████▉   | 13006/18840 [03:27<00:35, 162.33it/s]"
     ]
    },
    {
     "name": "stdout",
     "output_type": "stream",
     "text": [
      "Found 4\n",
      "OpenCV(4.11.0) /io/opencv/modules/calib3d/src/usac/sampler.cpp:45: error: (-215:Assertion failed) sample_size <= points_size_ in function 'setPointsSize'\n",
      "\n"
     ]
    },
    {
     "name": "stderr",
     "output_type": "stream",
     "text": [
      " 69%|██████▉   | 13068/18840 [03:28<01:08, 84.00it/s] "
     ]
    },
    {
     "name": "stdout",
     "output_type": "stream",
     "text": [
      "Found 0\n",
      "OpenCV(4.11.0) /io/opencv/modules/calib3d/src/usac/ransac_solvers.cpp:1047: error: (-2:Unspecified error) in function 'cv::usac::mergePoints(cv::InputArray, cv::InputArray, cv::Mat&, bool)::<lambda(cv::Mat&, int)>'\n",
      "> Invalid dimension of point (expected: 'points.cols >= pt_dim'), where\n",
      ">     'points.cols' is 0\n",
      "> must be greater than or equal to\n",
      ">     'pt_dim' is 2\n",
      "\n"
     ]
    },
    {
     "name": "stderr",
     "output_type": "stream",
     "text": [
      " 69%|██████▉   | 13079/18840 [03:28<01:18, 73.58it/s]"
     ]
    },
    {
     "name": "stdout",
     "output_type": "stream",
     "text": [
      "Found 0\n",
      "OpenCV(4.11.0) /io/opencv/modules/calib3d/src/usac/ransac_solvers.cpp:1047: error: (-2:Unspecified error) in function 'cv::usac::mergePoints(cv::InputArray, cv::InputArray, cv::Mat&, bool)::<lambda(cv::Mat&, int)>'\n",
      "> Invalid dimension of point (expected: 'points.cols >= pt_dim'), where\n",
      ">     'points.cols' is 0\n",
      "> must be greater than or equal to\n",
      ">     'pt_dim' is 2\n",
      "\n"
     ]
    },
    {
     "name": "stderr",
     "output_type": "stream",
     "text": [
      " 70%|██████▉   | 13110/18840 [03:29<01:38, 57.88it/s]"
     ]
    },
    {
     "name": "stdout",
     "output_type": "stream",
     "text": [
      "Found 0\n",
      "OpenCV(4.11.0) /io/opencv/modules/calib3d/src/usac/ransac_solvers.cpp:1047: error: (-2:Unspecified error) in function 'cv::usac::mergePoints(cv::InputArray, cv::InputArray, cv::Mat&, bool)::<lambda(cv::Mat&, int)>'\n",
      "> Invalid dimension of point (expected: 'points.cols >= pt_dim'), where\n",
      ">     'points.cols' is 0\n",
      "> must be greater than or equal to\n",
      ">     'pt_dim' is 2\n",
      "\n"
     ]
    },
    {
     "name": "stderr",
     "output_type": "stream",
     "text": [
      " 70%|███████   | 13225/18840 [03:31<00:48, 116.10it/s]"
     ]
    },
    {
     "name": "stdout",
     "output_type": "stream",
     "text": [
      "Found 0\n",
      "OpenCV(4.11.0) /io/opencv/modules/calib3d/src/usac/ransac_solvers.cpp:1047: error: (-2:Unspecified error) in function 'cv::usac::mergePoints(cv::InputArray, cv::InputArray, cv::Mat&, bool)::<lambda(cv::Mat&, int)>'\n",
      "> Invalid dimension of point (expected: 'points.cols >= pt_dim'), where\n",
      ">     'points.cols' is 0\n",
      "> must be greater than or equal to\n",
      ">     'pt_dim' is 2\n",
      "\n",
      "Found 4\n",
      "OpenCV(4.11.0) /io/opencv/modules/calib3d/src/usac/sampler.cpp:45: error: (-215:Assertion failed) sample_size <= points_size_ in function 'setPointsSize'\n",
      "\n",
      "Found 0\n",
      "OpenCV(4.11.0) /io/opencv/modules/calib3d/src/usac/ransac_solvers.cpp:1047: error: (-2:Unspecified error) in function 'cv::usac::mergePoints(cv::InputArray, cv::InputArray, cv::Mat&, bool)::<lambda(cv::Mat&, int)>'\n",
      "> Invalid dimension of point (expected: 'points.cols >= pt_dim'), where\n",
      ">     'points.cols' is 0\n",
      "> must be greater than or equal to\n",
      ">     'pt_dim' is 2\n",
      "\n",
      "Found 0\n",
      "OpenCV(4.11.0) /io/opencv/modules/calib3d/src/usac/ransac_solvers.cpp:1047: error: (-2:Unspecified error) in function 'cv::usac::mergePoints(cv::InputArray, cv::InputArray, cv::Mat&, bool)::<lambda(cv::Mat&, int)>'\n",
      "> Invalid dimension of point (expected: 'points.cols >= pt_dim'), where\n",
      ">     'points.cols' is 0\n",
      "> must be greater than or equal to\n",
      ">     'pt_dim' is 2\n",
      "\n",
      "Found 0\n",
      "OpenCV(4.11.0) /io/opencv/modules/calib3d/src/usac/ransac_solvers.cpp:1047: error: (-2:Unspecified error) in function 'cv::usac::mergePoints(cv::InputArray, cv::InputArray, cv::Mat&, bool)::<lambda(cv::Mat&, int)>'\n",
      "> Invalid dimension of point (expected: 'points.cols >= pt_dim'), where\n",
      ">     'points.cols' is 0\n",
      "> must be greater than or equal to\n",
      ">     'pt_dim' is 2\n",
      "\n",
      "Found 0\n",
      "OpenCV(4.11.0) /io/opencv/modules/calib3d/src/usac/ransac_solvers.cpp:1047: error: (-2:Unspecified error) in function 'cv::usac::mergePoints(cv::InputArray, cv::InputArray, cv::Mat&, bool)::<lambda(cv::Mat&, int)>'\n",
      "> Invalid dimension of point (expected: 'points.cols >= pt_dim'), where\n",
      ">     'points.cols' is 0\n",
      "> must be greater than or equal to\n",
      ">     'pt_dim' is 2\n",
      "\n",
      "Found 0\n",
      "OpenCV(4.11.0) /io/opencv/modules/calib3d/src/usac/ransac_solvers.cpp:1047: error: (-2:Unspecified error) in function 'cv::usac::mergePoints(cv::InputArray, cv::InputArray, cv::Mat&, bool)::<lambda(cv::Mat&, int)>'\n",
      "> Invalid dimension of point (expected: 'points.cols >= pt_dim'), where\n",
      ">     'points.cols' is 0\n",
      "> must be greater than or equal to\n",
      ">     'pt_dim' is 2\n",
      "\n",
      "Found 0\n",
      "OpenCV(4.11.0) /io/opencv/modules/calib3d/src/usac/ransac_solvers.cpp:1047: error: (-2:Unspecified error) in function 'cv::usac::mergePoints(cv::InputArray, cv::InputArray, cv::Mat&, bool)::<lambda(cv::Mat&, int)>'\n",
      "> Invalid dimension of point (expected: 'points.cols >= pt_dim'), where\n",
      ">     'points.cols' is 0\n",
      "> must be greater than or equal to\n",
      ">     'pt_dim' is 2\n",
      "\n",
      "Found 0\n",
      "OpenCV(4.11.0) /io/opencv/modules/calib3d/src/usac/ransac_solvers.cpp:1047: error: (-2:Unspecified error) in function 'cv::usac::mergePoints(cv::InputArray, cv::InputArray, cv::Mat&, bool)::<lambda(cv::Mat&, int)>'\n",
      "> Invalid dimension of point (expected: 'points.cols >= pt_dim'), where\n",
      ">     'points.cols' is 0\n",
      "> must be greater than or equal to\n",
      ">     'pt_dim' is 2\n",
      "\n",
      "Found 0\n",
      "OpenCV(4.11.0) /io/opencv/modules/calib3d/src/usac/ransac_solvers.cpp:1047: error: (-2:Unspecified error) in function 'cv::usac::mergePoints(cv::InputArray, cv::InputArray, cv::Mat&, bool)::<lambda(cv::Mat&, int)>'\n",
      "> Invalid dimension of point (expected: 'points.cols >= pt_dim'), where\n",
      ">     'points.cols' is 0\n",
      "> must be greater than or equal to\n",
      ">     'pt_dim' is 2\n",
      "\n",
      "Found 0\n",
      "OpenCV(4.11.0) /io/opencv/modules/calib3d/src/usac/ransac_solvers.cpp:1047: error: (-2:Unspecified error) in function 'cv::usac::mergePoints(cv::InputArray, cv::InputArray, cv::Mat&, bool)::<lambda(cv::Mat&, int)>'\n",
      "> Invalid dimension of point (expected: 'points.cols >= pt_dim'), where\n",
      ">     'points.cols' is 0\n",
      "> must be greater than or equal to\n",
      ">     'pt_dim' is 2\n",
      "\n",
      "Found 0\n",
      "OpenCV(4.11.0) /io/opencv/modules/calib3d/src/usac/ransac_solvers.cpp:1047: error: (-2:Unspecified error) in function 'cv::usac::mergePoints(cv::InputArray, cv::InputArray, cv::Mat&, bool)::<lambda(cv::Mat&, int)>'\n",
      "> Invalid dimension of point (expected: 'points.cols >= pt_dim'), where\n",
      ">     'points.cols' is 0\n",
      "> must be greater than or equal to\n",
      ">     'pt_dim' is 2\n",
      "\n",
      "Found 0\n",
      "OpenCV(4.11.0) /io/opencv/modules/calib3d/src/usac/ransac_solvers.cpp:1047: error: (-2:Unspecified error) in function 'cv::usac::mergePoints(cv::InputArray, cv::InputArray, cv::Mat&, bool)::<lambda(cv::Mat&, int)>'\n",
      "> Invalid dimension of point (expected: 'points.cols >= pt_dim'), where\n",
      ">     'points.cols' is 0\n",
      "> must be greater than or equal to\n",
      ">     'pt_dim' is 2\n",
      "\n",
      "Found 0\n",
      "OpenCV(4.11.0) /io/opencv/modules/calib3d/src/usac/ransac_solvers.cpp:1047: error: (-2:Unspecified error) in function 'cv::usac::mergePoints(cv::InputArray, cv::InputArray, cv::Mat&, bool)::<lambda(cv::Mat&, int)>'\n",
      "> Invalid dimension of point (expected: 'points.cols >= pt_dim'), where\n",
      ">     'points.cols' is 0\n",
      "> must be greater than or equal to\n",
      ">     'pt_dim' is 2\n",
      "\n",
      "Found 0\n",
      "OpenCV(4.11.0) /io/opencv/modules/calib3d/src/usac/ransac_solvers.cpp:1047: error: (-2:Unspecified error) in function 'cv::usac::mergePoints(cv::InputArray, cv::InputArray, cv::Mat&, bool)::<lambda(cv::Mat&, int)>'\n",
      "> Invalid dimension of point (expected: 'points.cols >= pt_dim'), where\n",
      ">     'points.cols' is 0\n",
      "> must be greater than or equal to\n",
      ">     'pt_dim' is 2\n",
      "\n",
      "Found 3\n",
      "OpenCV(4.11.0) /io/opencv/modules/calib3d/src/usac/sampler.cpp:45: error: (-215:Assertion failed) sample_size <= points_size_ in function 'setPointsSize'\n",
      "\n",
      "Found 1\n",
      "OpenCV(4.11.0) /io/opencv/modules/calib3d/src/usac/ransac_solvers.cpp:1047: error: (-2:Unspecified error) in function 'cv::usac::mergePoints(cv::InputArray, cv::InputArray, cv::Mat&, bool)::<lambda(cv::Mat&, int)>'\n",
      "> Invalid dimension of point (expected: 'points.cols >= pt_dim'), where\n",
      ">     'points.cols' is 1\n",
      "> must be greater than or equal to\n",
      ">     'pt_dim' is 2\n",
      "\n",
      "Found 0\n",
      "OpenCV(4.11.0) /io/opencv/modules/calib3d/src/usac/ransac_solvers.cpp:1047: error: (-2:Unspecified error) in function 'cv::usac::mergePoints(cv::InputArray, cv::InputArray, cv::Mat&, bool)::<lambda(cv::Mat&, int)>'\n",
      "> Invalid dimension of point (expected: 'points.cols >= pt_dim'), where\n",
      ">     'points.cols' is 0\n",
      "> must be greater than or equal to\n",
      ">     'pt_dim' is 2\n",
      "\n",
      "Found 0\n",
      "OpenCV(4.11.0) /io/opencv/modules/calib3d/src/usac/ransac_solvers.cpp:1047: error: (-2:Unspecified error) in function 'cv::usac::mergePoints(cv::InputArray, cv::InputArray, cv::Mat&, bool)::<lambda(cv::Mat&, int)>'\n",
      "> Invalid dimension of point (expected: 'points.cols >= pt_dim'), where\n",
      ">     'points.cols' is 0\n",
      "> must be greater than or equal to\n",
      ">     'pt_dim' is 2\n",
      "\n",
      "Found 1\n",
      "OpenCV(4.11.0) /io/opencv/modules/calib3d/src/usac/ransac_solvers.cpp:1047: error: (-2:Unspecified error) in function 'cv::usac::mergePoints(cv::InputArray, cv::InputArray, cv::Mat&, bool)::<lambda(cv::Mat&, int)>'\n",
      "> Invalid dimension of point (expected: 'points.cols >= pt_dim'), where\n",
      ">     'points.cols' is 1\n",
      "> must be greater than or equal to\n",
      ">     'pt_dim' is 2\n",
      "\n",
      "Found 1\n",
      "OpenCV(4.11.0) /io/opencv/modules/calib3d/src/usac/ransac_solvers.cpp:1047: error: (-2:Unspecified error) in function 'cv::usac::mergePoints(cv::InputArray, cv::InputArray, cv::Mat&, bool)::<lambda(cv::Mat&, int)>'\n",
      "> Invalid dimension of point (expected: 'points.cols >= pt_dim'), where\n",
      ">     'points.cols' is 1\n",
      "> must be greater than or equal to\n",
      ">     'pt_dim' is 2\n",
      "\n",
      "Found 0\n",
      "OpenCV(4.11.0) /io/opencv/modules/calib3d/src/usac/ransac_solvers.cpp:1047: error: (-2:Unspecified error) in function 'cv::usac::mergePoints(cv::InputArray, cv::InputArray, cv::Mat&, bool)::<lambda(cv::Mat&, int)>'\n",
      "> Invalid dimension of point (expected: 'points.cols >= pt_dim'), where\n",
      ">     'points.cols' is 0\n",
      "> must be greater than or equal to\n",
      ">     'pt_dim' is 2\n",
      "\n",
      "Found 3\n",
      "OpenCV(4.11.0) /io/opencv/modules/calib3d/src/usac/sampler.cpp:45: error: (-215:Assertion failed) sample_size <= points_size_ in function 'setPointsSize'\n",
      "\n",
      "Found 0\n",
      "OpenCV(4.11.0) /io/opencv/modules/calib3d/src/usac/ransac_solvers.cpp:1047: error: (-2:Unspecified error) in function 'cv::usac::mergePoints(cv::InputArray, cv::InputArray, cv::Mat&, bool)::<lambda(cv::Mat&, int)>'\n",
      "> Invalid dimension of point (expected: 'points.cols >= pt_dim'), where\n",
      ">     'points.cols' is 0\n",
      "> must be greater than or equal to\n",
      ">     'pt_dim' is 2\n",
      "\n",
      "Found 0\n",
      "OpenCV(4.11.0) /io/opencv/modules/calib3d/src/usac/ransac_solvers.cpp:1047: error: (-2:Unspecified error) in function 'cv::usac::mergePoints(cv::InputArray, cv::InputArray, cv::Mat&, bool)::<lambda(cv::Mat&, int)>'\n",
      "> Invalid dimension of point (expected: 'points.cols >= pt_dim'), where\n",
      ">     'points.cols' is 0\n",
      "> must be greater than or equal to\n",
      ">     'pt_dim' is 2\n",
      "\n",
      "Found 1\n",
      "OpenCV(4.11.0) /io/opencv/modules/calib3d/src/usac/ransac_solvers.cpp:1047: error: (-2:Unspecified error) in function 'cv::usac::mergePoints(cv::InputArray, cv::InputArray, cv::Mat&, bool)::<lambda(cv::Mat&, int)>'\n",
      "> Invalid dimension of point (expected: 'points.cols >= pt_dim'), where\n",
      ">     'points.cols' is 1\n",
      "> must be greater than or equal to\n",
      ">     'pt_dim' is 2\n",
      "\n",
      "Found 0\n",
      "OpenCV(4.11.0) /io/opencv/modules/calib3d/src/usac/ransac_solvers.cpp:1047: error: (-2:Unspecified error) in function 'cv::usac::mergePoints(cv::InputArray, cv::InputArray, cv::Mat&, bool)::<lambda(cv::Mat&, int)>'\n",
      "> Invalid dimension of point (expected: 'points.cols >= pt_dim'), where\n",
      ">     'points.cols' is 0\n",
      "> must be greater than or equal to\n",
      ">     'pt_dim' is 2\n",
      "\n",
      "Found 0\n",
      "OpenCV(4.11.0) /io/opencv/modules/calib3d/src/usac/ransac_solvers.cpp:1047: error: (-2:Unspecified error) in function 'cv::usac::mergePoints(cv::InputArray, cv::InputArray, cv::Mat&, bool)::<lambda(cv::Mat&, int)>'\n",
      "> Invalid dimension of point (expected: 'points.cols >= pt_dim'), where\n",
      ">     'points.cols' is 0\n",
      "> must be greater than or equal to\n",
      ">     'pt_dim' is 2\n",
      "\n",
      "Found 3\n",
      "OpenCV(4.11.0) /io/opencv/modules/calib3d/src/usac/sampler.cpp:45: error: (-215:Assertion failed) sample_size <= points_size_ in function 'setPointsSize'\n",
      "\n",
      "Found 5\n",
      "OpenCV(4.11.0) /io/opencv/modules/calib3d/src/usac/sampler.cpp:45: error: (-215:Assertion failed) sample_size <= points_size_ in function 'setPointsSize'\n",
      "\n",
      "Found 3\n",
      "OpenCV(4.11.0) /io/opencv/modules/calib3d/src/usac/sampler.cpp:45: error: (-215:Assertion failed) sample_size <= points_size_ in function 'setPointsSize'\n",
      "\n",
      "Found 0\n",
      "OpenCV(4.11.0) /io/opencv/modules/calib3d/src/usac/ransac_solvers.cpp:1047: error: (-2:Unspecified error) in function 'cv::usac::mergePoints(cv::InputArray, cv::InputArray, cv::Mat&, bool)::<lambda(cv::Mat&, int)>'\n",
      "> Invalid dimension of point (expected: 'points.cols >= pt_dim'), where\n",
      ">     'points.cols' is 0\n",
      "> must be greater than or equal to\n",
      ">     'pt_dim' is 2\n",
      "\n",
      "Found 0\n",
      "OpenCV(4.11.0) /io/opencv/modules/calib3d/src/usac/ransac_solvers.cpp:1047: error: (-2:Unspecified error) in function 'cv::usac::mergePoints(cv::InputArray, cv::InputArray, cv::Mat&, bool)::<lambda(cv::Mat&, int)>'\n",
      "> Invalid dimension of point (expected: 'points.cols >= pt_dim'), where\n",
      ">     'points.cols' is 0\n",
      "> must be greater than or equal to\n",
      ">     'pt_dim' is 2\n",
      "\n",
      "Found 0\n",
      "OpenCV(4.11.0) /io/opencv/modules/calib3d/src/usac/ransac_solvers.cpp:1047: error: (-2:Unspecified error) in function 'cv::usac::mergePoints(cv::InputArray, cv::InputArray, cv::Mat&, bool)::<lambda(cv::Mat&, int)>'\n",
      "> Invalid dimension of point (expected: 'points.cols >= pt_dim'), where\n",
      ">     'points.cols' is 0\n",
      "> must be greater than or equal to\n",
      ">     'pt_dim' is 2\n",
      "\n",
      "Found 0\n",
      "OpenCV(4.11.0) /io/opencv/modules/calib3d/src/usac/ransac_solvers.cpp:1047: error: (-2:Unspecified error) in function 'cv::usac::mergePoints(cv::InputArray, cv::InputArray, cv::Mat&, bool)::<lambda(cv::Mat&, int)>'\n",
      "> Invalid dimension of point (expected: 'points.cols >= pt_dim'), where\n",
      ">     'points.cols' is 0\n",
      "> must be greater than or equal to\n",
      ">     'pt_dim' is 2\n",
      "\n",
      "Found 0\n",
      "OpenCV(4.11.0) /io/opencv/modules/calib3d/src/usac/ransac_solvers.cpp:1047: error: (-2:Unspecified error) in function 'cv::usac::mergePoints(cv::InputArray, cv::InputArray, cv::Mat&, bool)::<lambda(cv::Mat&, int)>'\n",
      "> Invalid dimension of point (expected: 'points.cols >= pt_dim'), where\n",
      ">     'points.cols' is 0\n",
      "> must be greater than or equal to\n",
      ">     'pt_dim' is 2\n",
      "\n",
      "Found 1\n",
      "OpenCV(4.11.0) /io/opencv/modules/calib3d/src/usac/ransac_solvers.cpp:1047: error: (-2:Unspecified error) in function 'cv::usac::mergePoints(cv::InputArray, cv::InputArray, cv::Mat&, bool)::<lambda(cv::Mat&, int)>'\n",
      "> Invalid dimension of point (expected: 'points.cols >= pt_dim'), where\n",
      ">     'points.cols' is 1\n",
      "> must be greater than or equal to\n",
      ">     'pt_dim' is 2\n",
      "\n",
      "Found 0\n",
      "OpenCV(4.11.0) /io/opencv/modules/calib3d/src/usac/ransac_solvers.cpp:1047: error: (-2:Unspecified error) in function 'cv::usac::mergePoints(cv::InputArray, cv::InputArray, cv::Mat&, bool)::<lambda(cv::Mat&, int)>'\n",
      "> Invalid dimension of point (expected: 'points.cols >= pt_dim'), where\n",
      ">     'points.cols' is 0\n",
      "> must be greater than or equal to\n",
      ">     'pt_dim' is 2\n",
      "\n",
      "Found 1\n",
      "OpenCV(4.11.0) /io/opencv/modules/calib3d/src/usac/ransac_solvers.cpp:1047: error: (-2:Unspecified error) in function 'cv::usac::mergePoints(cv::InputArray, cv::InputArray, cv::Mat&, bool)::<lambda(cv::Mat&, int)>'\n",
      "> Invalid dimension of point (expected: 'points.cols >= pt_dim'), where\n",
      ">     'points.cols' is 1\n",
      "> must be greater than or equal to\n",
      ">     'pt_dim' is 2\n",
      "\n",
      "Found 0\n",
      "OpenCV(4.11.0) /io/opencv/modules/calib3d/src/usac/ransac_solvers.cpp:1047: error: (-2:Unspecified error) in function 'cv::usac::mergePoints(cv::InputArray, cv::InputArray, cv::Mat&, bool)::<lambda(cv::Mat&, int)>'\n",
      "> Invalid dimension of point (expected: 'points.cols >= pt_dim'), where\n",
      ">     'points.cols' is 0\n",
      "> must be greater than or equal to\n",
      ">     'pt_dim' is 2\n",
      "\n",
      "Found 0\n",
      "OpenCV(4.11.0) /io/opencv/modules/calib3d/src/usac/ransac_solvers.cpp:1047: error: (-2:Unspecified error) in function 'cv::usac::mergePoints(cv::InputArray, cv::InputArray, cv::Mat&, bool)::<lambda(cv::Mat&, int)>'\n",
      "> Invalid dimension of point (expected: 'points.cols >= pt_dim'), where\n",
      ">     'points.cols' is 0\n",
      "> must be greater than or equal to\n",
      ">     'pt_dim' is 2\n",
      "\n",
      "Found 0\n",
      "OpenCV(4.11.0) /io/opencv/modules/calib3d/src/usac/ransac_solvers.cpp:1047: error: (-2:Unspecified error) in function 'cv::usac::mergePoints(cv::InputArray, cv::InputArray, cv::Mat&, bool)::<lambda(cv::Mat&, int)>'\n",
      "> Invalid dimension of point (expected: 'points.cols >= pt_dim'), where\n",
      ">     'points.cols' is 0\n",
      "> must be greater than or equal to\n",
      ">     'pt_dim' is 2\n",
      "\n",
      "Found 0\n",
      "OpenCV(4.11.0) /io/opencv/modules/calib3d/src/usac/ransac_solvers.cpp:1047: error: (-2:Unspecified error) in function 'cv::usac::mergePoints(cv::InputArray, cv::InputArray, cv::Mat&, bool)::<lambda(cv::Mat&, int)>'\n",
      "> Invalid dimension of point (expected: 'points.cols >= pt_dim'), where\n",
      ">     'points.cols' is 0\n",
      "> must be greater than or equal to\n",
      ">     'pt_dim' is 2\n",
      "\n",
      "Found 0\n",
      "OpenCV(4.11.0) /io/opencv/modules/calib3d/src/usac/ransac_solvers.cpp:1047: error: (-2:Unspecified error) in function 'cv::usac::mergePoints(cv::InputArray, cv::InputArray, cv::Mat&, bool)::<lambda(cv::Mat&, int)>'\n",
      "> Invalid dimension of point (expected: 'points.cols >= pt_dim'), where\n",
      ">     'points.cols' is 0\n",
      "> must be greater than or equal to\n",
      ">     'pt_dim' is 2\n",
      "\n",
      "Found 0\n",
      "OpenCV(4.11.0) /io/opencv/modules/calib3d/src/usac/ransac_solvers.cpp:1047: error: (-2:Unspecified error) in function 'cv::usac::mergePoints(cv::InputArray, cv::InputArray, cv::Mat&, bool)::<lambda(cv::Mat&, int)>'\n",
      "> Invalid dimension of point (expected: 'points.cols >= pt_dim'), where\n",
      ">     'points.cols' is 0\n",
      "> must be greater than or equal to\n",
      ">     'pt_dim' is 2\n",
      "\n",
      "Found 0\n",
      "OpenCV(4.11.0) /io/opencv/modules/calib3d/src/usac/ransac_solvers.cpp:1047: error: (-2:Unspecified error) in function 'cv::usac::mergePoints(cv::InputArray, cv::InputArray, cv::Mat&, bool)::<lambda(cv::Mat&, int)>'\n",
      "> Invalid dimension of point (expected: 'points.cols >= pt_dim'), where\n",
      ">     'points.cols' is 0\n",
      "> must be greater than or equal to\n",
      ">     'pt_dim' is 2\n",
      "\n",
      "Found 0\n",
      "OpenCV(4.11.0) /io/opencv/modules/calib3d/src/usac/ransac_solvers.cpp:1047: error: (-2:Unspecified error) in function 'cv::usac::mergePoints(cv::InputArray, cv::InputArray, cv::Mat&, bool)::<lambda(cv::Mat&, int)>'\n",
      "> Invalid dimension of point (expected: 'points.cols >= pt_dim'), where\n",
      ">     'points.cols' is 0\n",
      "> must be greater than or equal to\n",
      ">     'pt_dim' is 2\n",
      "\n",
      "Found 0\n",
      "OpenCV(4.11.0) /io/opencv/modules/calib3d/src/usac/ransac_solvers.cpp:1047: error: (-2:Unspecified error) in function 'cv::usac::mergePoints(cv::InputArray, cv::InputArray, cv::Mat&, bool)::<lambda(cv::Mat&, int)>'\n",
      "> Invalid dimension of point (expected: 'points.cols >= pt_dim'), where\n",
      ">     'points.cols' is 0\n",
      "> must be greater than or equal to\n",
      ">     'pt_dim' is 2\n",
      "\n"
     ]
    },
    {
     "name": "stderr",
     "output_type": "stream",
     "text": [
      " 70%|███████   | 13275/18840 [03:31<00:31, 175.39it/s]"
     ]
    },
    {
     "name": "stdout",
     "output_type": "stream",
     "text": [
      "Found 0\n",
      "OpenCV(4.11.0) /io/opencv/modules/calib3d/src/usac/ransac_solvers.cpp:1047: error: (-2:Unspecified error) in function 'cv::usac::mergePoints(cv::InputArray, cv::InputArray, cv::Mat&, bool)::<lambda(cv::Mat&, int)>'\n",
      "> Invalid dimension of point (expected: 'points.cols >= pt_dim'), where\n",
      ">     'points.cols' is 0\n",
      "> must be greater than or equal to\n",
      ">     'pt_dim' is 2\n",
      "\n",
      "Found 5\n",
      "OpenCV(4.11.0) /io/opencv/modules/calib3d/src/usac/sampler.cpp:45: error: (-215:Assertion failed) sample_size <= points_size_ in function 'setPointsSize'\n",
      "\n",
      "Found 0\n",
      "OpenCV(4.11.0) /io/opencv/modules/calib3d/src/usac/ransac_solvers.cpp:1047: error: (-2:Unspecified error) in function 'cv::usac::mergePoints(cv::InputArray, cv::InputArray, cv::Mat&, bool)::<lambda(cv::Mat&, int)>'\n",
      "> Invalid dimension of point (expected: 'points.cols >= pt_dim'), where\n",
      ">     'points.cols' is 0\n",
      "> must be greater than or equal to\n",
      ">     'pt_dim' is 2\n",
      "\n",
      "Found 0\n",
      "OpenCV(4.11.0) /io/opencv/modules/calib3d/src/usac/ransac_solvers.cpp:1047: error: (-2:Unspecified error) in function 'cv::usac::mergePoints(cv::InputArray, cv::InputArray, cv::Mat&, bool)::<lambda(cv::Mat&, int)>'\n",
      "> Invalid dimension of point (expected: 'points.cols >= pt_dim'), where\n",
      ">     'points.cols' is 0\n",
      "> must be greater than or equal to\n",
      ">     'pt_dim' is 2\n",
      "\n",
      "Found 0\n",
      "OpenCV(4.11.0) /io/opencv/modules/calib3d/src/usac/ransac_solvers.cpp:1047: error: (-2:Unspecified error) in function 'cv::usac::mergePoints(cv::InputArray, cv::InputArray, cv::Mat&, bool)::<lambda(cv::Mat&, int)>'\n",
      "> Invalid dimension of point (expected: 'points.cols >= pt_dim'), where\n",
      ">     'points.cols' is 0\n",
      "> must be greater than or equal to\n",
      ">     'pt_dim' is 2\n",
      "\n",
      "Found 2\n",
      "OpenCV(4.11.0) /io/opencv/modules/calib3d/src/usac/sampler.cpp:45: error: (-215:Assertion failed) sample_size <= points_size_ in function 'setPointsSize'\n",
      "\n",
      "Found 0\n",
      "OpenCV(4.11.0) /io/opencv/modules/calib3d/src/usac/ransac_solvers.cpp:1047: error: (-2:Unspecified error) in function 'cv::usac::mergePoints(cv::InputArray, cv::InputArray, cv::Mat&, bool)::<lambda(cv::Mat&, int)>'\n",
      "> Invalid dimension of point (expected: 'points.cols >= pt_dim'), where\n",
      ">     'points.cols' is 0\n",
      "> must be greater than or equal to\n",
      ">     'pt_dim' is 2\n",
      "\n",
      "Found 0\n",
      "OpenCV(4.11.0) /io/opencv/modules/calib3d/src/usac/ransac_solvers.cpp:1047: error: (-2:Unspecified error) in function 'cv::usac::mergePoints(cv::InputArray, cv::InputArray, cv::Mat&, bool)::<lambda(cv::Mat&, int)>'\n",
      "> Invalid dimension of point (expected: 'points.cols >= pt_dim'), where\n",
      ">     'points.cols' is 0\n",
      "> must be greater than or equal to\n",
      ">     'pt_dim' is 2\n",
      "\n",
      "Found 0\n",
      "OpenCV(4.11.0) /io/opencv/modules/calib3d/src/usac/ransac_solvers.cpp:1047: error: (-2:Unspecified error) in function 'cv::usac::mergePoints(cv::InputArray, cv::InputArray, cv::Mat&, bool)::<lambda(cv::Mat&, int)>'\n",
      "> Invalid dimension of point (expected: 'points.cols >= pt_dim'), where\n",
      ">     'points.cols' is 0\n",
      "> must be greater than or equal to\n",
      ">     'pt_dim' is 2\n",
      "\n",
      "Found 0\n",
      "OpenCV(4.11.0) /io/opencv/modules/calib3d/src/usac/ransac_solvers.cpp:1047: error: (-2:Unspecified error) in function 'cv::usac::mergePoints(cv::InputArray, cv::InputArray, cv::Mat&, bool)::<lambda(cv::Mat&, int)>'\n",
      "> Invalid dimension of point (expected: 'points.cols >= pt_dim'), where\n",
      ">     'points.cols' is 0\n",
      "> must be greater than or equal to\n",
      ">     'pt_dim' is 2\n",
      "\n",
      "Found 1\n",
      "OpenCV(4.11.0) /io/opencv/modules/calib3d/src/usac/ransac_solvers.cpp:1047: error: (-2:Unspecified error) in function 'cv::usac::mergePoints(cv::InputArray, cv::InputArray, cv::Mat&, bool)::<lambda(cv::Mat&, int)>'\n",
      "> Invalid dimension of point (expected: 'points.cols >= pt_dim'), where\n",
      ">     'points.cols' is 1\n",
      "> must be greater than or equal to\n",
      ">     'pt_dim' is 2\n",
      "\n",
      "Found 0\n",
      "OpenCV(4.11.0) /io/opencv/modules/calib3d/src/usac/ransac_solvers.cpp:1047: error: (-2:Unspecified error) in function 'cv::usac::mergePoints(cv::InputArray, cv::InputArray, cv::Mat&, bool)::<lambda(cv::Mat&, int)>'\n",
      "> Invalid dimension of point (expected: 'points.cols >= pt_dim'), where\n",
      ">     'points.cols' is 0\n",
      "> must be greater than or equal to\n",
      ">     'pt_dim' is 2\n",
      "\n",
      "Found 0\n",
      "OpenCV(4.11.0) /io/opencv/modules/calib3d/src/usac/ransac_solvers.cpp:1047: error: (-2:Unspecified error) in function 'cv::usac::mergePoints(cv::InputArray, cv::InputArray, cv::Mat&, bool)::<lambda(cv::Mat&, int)>'\n",
      "> Invalid dimension of point (expected: 'points.cols >= pt_dim'), where\n",
      ">     'points.cols' is 0\n",
      "> must be greater than or equal to\n",
      ">     'pt_dim' is 2\n",
      "\n",
      "Found 0\n",
      "OpenCV(4.11.0) /io/opencv/modules/calib3d/src/usac/ransac_solvers.cpp:1047: error: (-2:Unspecified error) in function 'cv::usac::mergePoints(cv::InputArray, cv::InputArray, cv::Mat&, bool)::<lambda(cv::Mat&, int)>'\n",
      "> Invalid dimension of point (expected: 'points.cols >= pt_dim'), where\n",
      ">     'points.cols' is 0\n",
      "> must be greater than or equal to\n",
      ">     'pt_dim' is 2\n",
      "\n",
      "Found 0\n",
      "OpenCV(4.11.0) /io/opencv/modules/calib3d/src/usac/ransac_solvers.cpp:1047: error: (-2:Unspecified error) in function 'cv::usac::mergePoints(cv::InputArray, cv::InputArray, cv::Mat&, bool)::<lambda(cv::Mat&, int)>'\n",
      "> Invalid dimension of point (expected: 'points.cols >= pt_dim'), where\n",
      ">     'points.cols' is 0\n",
      "> must be greater than or equal to\n",
      ">     'pt_dim' is 2\n",
      "\n",
      "Found 0\n",
      "OpenCV(4.11.0) /io/opencv/modules/calib3d/src/usac/ransac_solvers.cpp:1047: error: (-2:Unspecified error) in function 'cv::usac::mergePoints(cv::InputArray, cv::InputArray, cv::Mat&, bool)::<lambda(cv::Mat&, int)>'\n",
      "> Invalid dimension of point (expected: 'points.cols >= pt_dim'), where\n",
      ">     'points.cols' is 0\n",
      "> must be greater than or equal to\n",
      ">     'pt_dim' is 2\n",
      "\n",
      "Found 2\n",
      "OpenCV(4.11.0) /io/opencv/modules/calib3d/src/usac/sampler.cpp:45: error: (-215:Assertion failed) sample_size <= points_size_ in function 'setPointsSize'\n",
      "\n",
      "Found 1\n",
      "OpenCV(4.11.0) /io/opencv/modules/calib3d/src/usac/ransac_solvers.cpp:1047: error: (-2:Unspecified error) in function 'cv::usac::mergePoints(cv::InputArray, cv::InputArray, cv::Mat&, bool)::<lambda(cv::Mat&, int)>'\n",
      "> Invalid dimension of point (expected: 'points.cols >= pt_dim'), where\n",
      ">     'points.cols' is 1\n",
      "> must be greater than or equal to\n",
      ">     'pt_dim' is 2\n",
      "\n",
      "Found 0\n",
      "OpenCV(4.11.0) /io/opencv/modules/calib3d/src/usac/ransac_solvers.cpp:1047: error: (-2:Unspecified error) in function 'cv::usac::mergePoints(cv::InputArray, cv::InputArray, cv::Mat&, bool)::<lambda(cv::Mat&, int)>'\n",
      "> Invalid dimension of point (expected: 'points.cols >= pt_dim'), where\n",
      ">     'points.cols' is 0\n",
      "> must be greater than or equal to\n",
      ">     'pt_dim' is 2\n",
      "\n",
      "Found 1\n",
      "OpenCV(4.11.0) /io/opencv/modules/calib3d/src/usac/ransac_solvers.cpp:1047: error: (-2:Unspecified error) in function 'cv::usac::mergePoints(cv::InputArray, cv::InputArray, cv::Mat&, bool)::<lambda(cv::Mat&, int)>'\n",
      "> Invalid dimension of point (expected: 'points.cols >= pt_dim'), where\n",
      ">     'points.cols' is 1\n",
      "> must be greater than or equal to\n",
      ">     'pt_dim' is 2\n",
      "\n",
      "Found 2\n",
      "OpenCV(4.11.0) /io/opencv/modules/calib3d/src/usac/sampler.cpp:45: error: (-215:Assertion failed) sample_size <= points_size_ in function 'setPointsSize'\n",
      "\n",
      "Found 0\n",
      "OpenCV(4.11.0) /io/opencv/modules/calib3d/src/usac/ransac_solvers.cpp:1047: error: (-2:Unspecified error) in function 'cv::usac::mergePoints(cv::InputArray, cv::InputArray, cv::Mat&, bool)::<lambda(cv::Mat&, int)>'\n",
      "> Invalid dimension of point (expected: 'points.cols >= pt_dim'), where\n",
      ">     'points.cols' is 0\n",
      "> must be greater than or equal to\n",
      ">     'pt_dim' is 2\n",
      "\n",
      "Found 0\n",
      "OpenCV(4.11.0) /io/opencv/modules/calib3d/src/usac/ransac_solvers.cpp:1047: error: (-2:Unspecified error) in function 'cv::usac::mergePoints(cv::InputArray, cv::InputArray, cv::Mat&, bool)::<lambda(cv::Mat&, int)>'\n",
      "> Invalid dimension of point (expected: 'points.cols >= pt_dim'), where\n",
      ">     'points.cols' is 0\n",
      "> must be greater than or equal to\n",
      ">     'pt_dim' is 2\n",
      "\n",
      "Found 0\n",
      "OpenCV(4.11.0) /io/opencv/modules/calib3d/src/usac/ransac_solvers.cpp:1047: error: (-2:Unspecified error) in function 'cv::usac::mergePoints(cv::InputArray, cv::InputArray, cv::Mat&, bool)::<lambda(cv::Mat&, int)>'\n",
      "> Invalid dimension of point (expected: 'points.cols >= pt_dim'), where\n",
      ">     'points.cols' is 0\n",
      "> must be greater than or equal to\n",
      ">     'pt_dim' is 2\n",
      "\n",
      "Found 0\n",
      "OpenCV(4.11.0) /io/opencv/modules/calib3d/src/usac/ransac_solvers.cpp:1047: error: (-2:Unspecified error) in function 'cv::usac::mergePoints(cv::InputArray, cv::InputArray, cv::Mat&, bool)::<lambda(cv::Mat&, int)>'\n",
      "> Invalid dimension of point (expected: 'points.cols >= pt_dim'), where\n",
      ">     'points.cols' is 0\n",
      "> must be greater than or equal to\n",
      ">     'pt_dim' is 2\n",
      "\n",
      "Found 0\n",
      "OpenCV(4.11.0) /io/opencv/modules/calib3d/src/usac/ransac_solvers.cpp:1047: error: (-2:Unspecified error) in function 'cv::usac::mergePoints(cv::InputArray, cv::InputArray, cv::Mat&, bool)::<lambda(cv::Mat&, int)>'\n",
      "> Invalid dimension of point (expected: 'points.cols >= pt_dim'), where\n",
      ">     'points.cols' is 0\n",
      "> must be greater than or equal to\n",
      ">     'pt_dim' is 2\n",
      "\n",
      "Found 1\n",
      "OpenCV(4.11.0) /io/opencv/modules/calib3d/src/usac/ransac_solvers.cpp:1047: error: (-2:Unspecified error) in function 'cv::usac::mergePoints(cv::InputArray, cv::InputArray, cv::Mat&, bool)::<lambda(cv::Mat&, int)>'\n",
      "> Invalid dimension of point (expected: 'points.cols >= pt_dim'), where\n",
      ">     'points.cols' is 1\n",
      "> must be greater than or equal to\n",
      ">     'pt_dim' is 2\n",
      "\n",
      "Found 0\n",
      "OpenCV(4.11.0) /io/opencv/modules/calib3d/src/usac/ransac_solvers.cpp:1047: error: (-2:Unspecified error) in function 'cv::usac::mergePoints(cv::InputArray, cv::InputArray, cv::Mat&, bool)::<lambda(cv::Mat&, int)>'\n",
      "> Invalid dimension of point (expected: 'points.cols >= pt_dim'), where\n",
      ">     'points.cols' is 0\n",
      "> must be greater than or equal to\n",
      ">     'pt_dim' is 2\n",
      "\n",
      "Found 6\n",
      "OpenCV(4.11.0) /io/opencv/modules/calib3d/src/usac/sampler.cpp:45: error: (-215:Assertion failed) sample_size <= points_size_ in function 'setPointsSize'\n",
      "\n",
      "Found 2\n",
      "OpenCV(4.11.0) /io/opencv/modules/calib3d/src/usac/sampler.cpp:45: error: (-215:Assertion failed) sample_size <= points_size_ in function 'setPointsSize'\n",
      "\n"
     ]
    },
    {
     "name": "stderr",
     "output_type": "stream",
     "text": [
      " 71%|███████   | 13365/18840 [03:32<01:00, 91.22it/s] "
     ]
    },
    {
     "name": "stdout",
     "output_type": "stream",
     "text": [
      "Found 2\n",
      "OpenCV(4.11.0) /io/opencv/modules/calib3d/src/usac/sampler.cpp:45: error: (-215:Assertion failed) sample_size <= points_size_ in function 'setPointsSize'\n",
      "\n",
      "Found 0\n",
      "OpenCV(4.11.0) /io/opencv/modules/calib3d/src/usac/ransac_solvers.cpp:1047: error: (-2:Unspecified error) in function 'cv::usac::mergePoints(cv::InputArray, cv::InputArray, cv::Mat&, bool)::<lambda(cv::Mat&, int)>'\n",
      "> Invalid dimension of point (expected: 'points.cols >= pt_dim'), where\n",
      ">     'points.cols' is 0\n",
      "> must be greater than or equal to\n",
      ">     'pt_dim' is 2\n",
      "\n",
      "Found 6\n",
      "OpenCV(4.11.0) /io/opencv/modules/calib3d/src/usac/sampler.cpp:45: error: (-215:Assertion failed) sample_size <= points_size_ in function 'setPointsSize'\n",
      "\n",
      "Found 0\n",
      "OpenCV(4.11.0) /io/opencv/modules/calib3d/src/usac/ransac_solvers.cpp:1047: error: (-2:Unspecified error) in function 'cv::usac::mergePoints(cv::InputArray, cv::InputArray, cv::Mat&, bool)::<lambda(cv::Mat&, int)>'\n",
      "> Invalid dimension of point (expected: 'points.cols >= pt_dim'), where\n",
      ">     'points.cols' is 0\n",
      "> must be greater than or equal to\n",
      ">     'pt_dim' is 2\n",
      "\n",
      "Found 0\n",
      "OpenCV(4.11.0) /io/opencv/modules/calib3d/src/usac/ransac_solvers.cpp:1047: error: (-2:Unspecified error) in function 'cv::usac::mergePoints(cv::InputArray, cv::InputArray, cv::Mat&, bool)::<lambda(cv::Mat&, int)>'\n",
      "> Invalid dimension of point (expected: 'points.cols >= pt_dim'), where\n",
      ">     'points.cols' is 0\n",
      "> must be greater than or equal to\n",
      ">     'pt_dim' is 2\n",
      "\n",
      "Found 0\n",
      "OpenCV(4.11.0) /io/opencv/modules/calib3d/src/usac/ransac_solvers.cpp:1047: error: (-2:Unspecified error) in function 'cv::usac::mergePoints(cv::InputArray, cv::InputArray, cv::Mat&, bool)::<lambda(cv::Mat&, int)>'\n",
      "> Invalid dimension of point (expected: 'points.cols >= pt_dim'), where\n",
      ">     'points.cols' is 0\n",
      "> must be greater than or equal to\n",
      ">     'pt_dim' is 2\n",
      "\n",
      "Found 2\n",
      "OpenCV(4.11.0) /io/opencv/modules/calib3d/src/usac/sampler.cpp:45: error: (-215:Assertion failed) sample_size <= points_size_ in function 'setPointsSize'\n",
      "\n",
      "Found 0\n",
      "OpenCV(4.11.0) /io/opencv/modules/calib3d/src/usac/ransac_solvers.cpp:1047: error: (-2:Unspecified error) in function 'cv::usac::mergePoints(cv::InputArray, cv::InputArray, cv::Mat&, bool)::<lambda(cv::Mat&, int)>'\n",
      "> Invalid dimension of point (expected: 'points.cols >= pt_dim'), where\n",
      ">     'points.cols' is 0\n",
      "> must be greater than or equal to\n",
      ">     'pt_dim' is 2\n",
      "\n",
      "Found 0\n",
      "OpenCV(4.11.0) /io/opencv/modules/calib3d/src/usac/ransac_solvers.cpp:1047: error: (-2:Unspecified error) in function 'cv::usac::mergePoints(cv::InputArray, cv::InputArray, cv::Mat&, bool)::<lambda(cv::Mat&, int)>'\n",
      "> Invalid dimension of point (expected: 'points.cols >= pt_dim'), where\n",
      ">     'points.cols' is 0\n",
      "> must be greater than or equal to\n",
      ">     'pt_dim' is 2\n",
      "\n",
      "Found 0\n",
      "OpenCV(4.11.0) /io/opencv/modules/calib3d/src/usac/ransac_solvers.cpp:1047: error: (-2:Unspecified error) in function 'cv::usac::mergePoints(cv::InputArray, cv::InputArray, cv::Mat&, bool)::<lambda(cv::Mat&, int)>'\n",
      "> Invalid dimension of point (expected: 'points.cols >= pt_dim'), where\n",
      ">     'points.cols' is 0\n",
      "> must be greater than or equal to\n",
      ">     'pt_dim' is 2\n",
      "\n",
      "Found 0\n",
      "OpenCV(4.11.0) /io/opencv/modules/calib3d/src/usac/ransac_solvers.cpp:1047: error: (-2:Unspecified error) in function 'cv::usac::mergePoints(cv::InputArray, cv::InputArray, cv::Mat&, bool)::<lambda(cv::Mat&, int)>'\n",
      "> Invalid dimension of point (expected: 'points.cols >= pt_dim'), where\n",
      ">     'points.cols' is 0\n",
      "> must be greater than or equal to\n",
      ">     'pt_dim' is 2\n",
      "\n",
      "Found 1\n",
      "OpenCV(4.11.0) /io/opencv/modules/calib3d/src/usac/ransac_solvers.cpp:1047: error: (-2:Unspecified error) in function 'cv::usac::mergePoints(cv::InputArray, cv::InputArray, cv::Mat&, bool)::<lambda(cv::Mat&, int)>'\n",
      "> Invalid dimension of point (expected: 'points.cols >= pt_dim'), where\n",
      ">     'points.cols' is 1\n",
      "> must be greater than or equal to\n",
      ">     'pt_dim' is 2\n",
      "\n",
      "Found 1\n",
      "OpenCV(4.11.0) /io/opencv/modules/calib3d/src/usac/ransac_solvers.cpp:1047: error: (-2:Unspecified error) in function 'cv::usac::mergePoints(cv::InputArray, cv::InputArray, cv::Mat&, bool)::<lambda(cv::Mat&, int)>'\n",
      "> Invalid dimension of point (expected: 'points.cols >= pt_dim'), where\n",
      ">     'points.cols' is 1\n",
      "> must be greater than or equal to\n",
      ">     'pt_dim' is 2\n",
      "\n",
      "Found 1\n",
      "OpenCV(4.11.0) /io/opencv/modules/calib3d/src/usac/ransac_solvers.cpp:1047: error: (-2:Unspecified error) in function 'cv::usac::mergePoints(cv::InputArray, cv::InputArray, cv::Mat&, bool)::<lambda(cv::Mat&, int)>'\n",
      "> Invalid dimension of point (expected: 'points.cols >= pt_dim'), where\n",
      ">     'points.cols' is 1\n",
      "> must be greater than or equal to\n",
      ">     'pt_dim' is 2\n",
      "\n"
     ]
    },
    {
     "name": "stderr",
     "output_type": "stream",
     "text": [
      " 71%|███████   | 13394/18840 [03:32<00:47, 113.85it/s]"
     ]
    },
    {
     "name": "stdout",
     "output_type": "stream",
     "text": [
      "Found 2\n",
      "OpenCV(4.11.0) /io/opencv/modules/calib3d/src/usac/sampler.cpp:45: error: (-215:Assertion failed) sample_size <= points_size_ in function 'setPointsSize'\n",
      "\n",
      "Found 0\n",
      "OpenCV(4.11.0) /io/opencv/modules/calib3d/src/usac/ransac_solvers.cpp:1047: error: (-2:Unspecified error) in function 'cv::usac::mergePoints(cv::InputArray, cv::InputArray, cv::Mat&, bool)::<lambda(cv::Mat&, int)>'\n",
      "> Invalid dimension of point (expected: 'points.cols >= pt_dim'), where\n",
      ">     'points.cols' is 0\n",
      "> must be greater than or equal to\n",
      ">     'pt_dim' is 2\n",
      "\n",
      "Found 4\n",
      "OpenCV(4.11.0) /io/opencv/modules/calib3d/src/usac/sampler.cpp:45: error: (-215:Assertion failed) sample_size <= points_size_ in function 'setPointsSize'\n",
      "\n",
      "Found 0\n",
      "OpenCV(4.11.0) /io/opencv/modules/calib3d/src/usac/ransac_solvers.cpp:1047: error: (-2:Unspecified error) in function 'cv::usac::mergePoints(cv::InputArray, cv::InputArray, cv::Mat&, bool)::<lambda(cv::Mat&, int)>'\n",
      "> Invalid dimension of point (expected: 'points.cols >= pt_dim'), where\n",
      ">     'points.cols' is 0\n",
      "> must be greater than or equal to\n",
      ">     'pt_dim' is 2\n",
      "\n",
      "Found 1\n",
      "OpenCV(4.11.0) /io/opencv/modules/calib3d/src/usac/ransac_solvers.cpp:1047: error: (-2:Unspecified error) in function 'cv::usac::mergePoints(cv::InputArray, cv::InputArray, cv::Mat&, bool)::<lambda(cv::Mat&, int)>'\n",
      "> Invalid dimension of point (expected: 'points.cols >= pt_dim'), where\n",
      ">     'points.cols' is 1\n",
      "> must be greater than or equal to\n",
      ">     'pt_dim' is 2\n",
      "\n",
      "Found 0\n",
      "OpenCV(4.11.0) /io/opencv/modules/calib3d/src/usac/ransac_solvers.cpp:1047: error: (-2:Unspecified error) in function 'cv::usac::mergePoints(cv::InputArray, cv::InputArray, cv::Mat&, bool)::<lambda(cv::Mat&, int)>'\n",
      "> Invalid dimension of point (expected: 'points.cols >= pt_dim'), where\n",
      ">     'points.cols' is 0\n",
      "> must be greater than or equal to\n",
      ">     'pt_dim' is 2\n",
      "\n",
      "Found 1\n",
      "OpenCV(4.11.0) /io/opencv/modules/calib3d/src/usac/ransac_solvers.cpp:1047: error: (-2:Unspecified error) in function 'cv::usac::mergePoints(cv::InputArray, cv::InputArray, cv::Mat&, bool)::<lambda(cv::Mat&, int)>'\n",
      "> Invalid dimension of point (expected: 'points.cols >= pt_dim'), where\n",
      ">     'points.cols' is 1\n",
      "> must be greater than or equal to\n",
      ">     'pt_dim' is 2\n",
      "\n",
      "Found 4\n",
      "OpenCV(4.11.0) /io/opencv/modules/calib3d/src/usac/sampler.cpp:45: error: (-215:Assertion failed) sample_size <= points_size_ in function 'setPointsSize'\n",
      "\n",
      "Found 0\n",
      "OpenCV(4.11.0) /io/opencv/modules/calib3d/src/usac/ransac_solvers.cpp:1047: error: (-2:Unspecified error) in function 'cv::usac::mergePoints(cv::InputArray, cv::InputArray, cv::Mat&, bool)::<lambda(cv::Mat&, int)>'\n",
      "> Invalid dimension of point (expected: 'points.cols >= pt_dim'), where\n",
      ">     'points.cols' is 0\n",
      "> must be greater than or equal to\n",
      ">     'pt_dim' is 2\n",
      "\n",
      "Found 1\n",
      "OpenCV(4.11.0) /io/opencv/modules/calib3d/src/usac/ransac_solvers.cpp:1047: error: (-2:Unspecified error) in function 'cv::usac::mergePoints(cv::InputArray, cv::InputArray, cv::Mat&, bool)::<lambda(cv::Mat&, int)>'\n",
      "> Invalid dimension of point (expected: 'points.cols >= pt_dim'), where\n",
      ">     'points.cols' is 1\n",
      "> must be greater than or equal to\n",
      ">     'pt_dim' is 2\n",
      "\n",
      "Found 1\n",
      "OpenCV(4.11.0) /io/opencv/modules/calib3d/src/usac/ransac_solvers.cpp:1047: error: (-2:Unspecified error) in function 'cv::usac::mergePoints(cv::InputArray, cv::InputArray, cv::Mat&, bool)::<lambda(cv::Mat&, int)>'\n",
      "> Invalid dimension of point (expected: 'points.cols >= pt_dim'), where\n",
      ">     'points.cols' is 1\n",
      "> must be greater than or equal to\n",
      ">     'pt_dim' is 2\n",
      "\n",
      "Found 1\n",
      "OpenCV(4.11.0) /io/opencv/modules/calib3d/src/usac/ransac_solvers.cpp:1047: error: (-2:Unspecified error) in function 'cv::usac::mergePoints(cv::InputArray, cv::InputArray, cv::Mat&, bool)::<lambda(cv::Mat&, int)>'\n",
      "> Invalid dimension of point (expected: 'points.cols >= pt_dim'), where\n",
      ">     'points.cols' is 1\n",
      "> must be greater than or equal to\n",
      ">     'pt_dim' is 2\n",
      "\n",
      "Found 4\n",
      "OpenCV(4.11.0) /io/opencv/modules/calib3d/src/usac/sampler.cpp:45: error: (-215:Assertion failed) sample_size <= points_size_ in function 'setPointsSize'\n",
      "\n",
      "Found 4\n",
      "OpenCV(4.11.0) /io/opencv/modules/calib3d/src/usac/sampler.cpp:45: error: (-215:Assertion failed) sample_size <= points_size_ in function 'setPointsSize'\n",
      "\n",
      "Found 1\n",
      "OpenCV(4.11.0) /io/opencv/modules/calib3d/src/usac/ransac_solvers.cpp:1047: error: (-2:Unspecified error) in function 'cv::usac::mergePoints(cv::InputArray, cv::InputArray, cv::Mat&, bool)::<lambda(cv::Mat&, int)>'\n",
      "> Invalid dimension of point (expected: 'points.cols >= pt_dim'), where\n",
      ">     'points.cols' is 1\n",
      "> must be greater than or equal to\n",
      ">     'pt_dim' is 2\n",
      "\n"
     ]
    },
    {
     "name": "stderr",
     "output_type": "stream",
     "text": [
      " 71%|███████   | 13421/18840 [03:33<00:51, 104.83it/s]"
     ]
    },
    {
     "name": "stdout",
     "output_type": "stream",
     "text": [
      "Found 1\n",
      "OpenCV(4.11.0) /io/opencv/modules/calib3d/src/usac/ransac_solvers.cpp:1047: error: (-2:Unspecified error) in function 'cv::usac::mergePoints(cv::InputArray, cv::InputArray, cv::Mat&, bool)::<lambda(cv::Mat&, int)>'\n",
      "> Invalid dimension of point (expected: 'points.cols >= pt_dim'), where\n",
      ">     'points.cols' is 1\n",
      "> must be greater than or equal to\n",
      ">     'pt_dim' is 2\n",
      "\n",
      "Found 0\n",
      "OpenCV(4.11.0) /io/opencv/modules/calib3d/src/usac/ransac_solvers.cpp:1047: error: (-2:Unspecified error) in function 'cv::usac::mergePoints(cv::InputArray, cv::InputArray, cv::Mat&, bool)::<lambda(cv::Mat&, int)>'\n",
      "> Invalid dimension of point (expected: 'points.cols >= pt_dim'), where\n",
      ">     'points.cols' is 0\n",
      "> must be greater than or equal to\n",
      ">     'pt_dim' is 2\n",
      "\n",
      "Found 0\n",
      "OpenCV(4.11.0) /io/opencv/modules/calib3d/src/usac/ransac_solvers.cpp:1047: error: (-2:Unspecified error) in function 'cv::usac::mergePoints(cv::InputArray, cv::InputArray, cv::Mat&, bool)::<lambda(cv::Mat&, int)>'\n",
      "> Invalid dimension of point (expected: 'points.cols >= pt_dim'), where\n",
      ">     'points.cols' is 0\n",
      "> must be greater than or equal to\n",
      ">     'pt_dim' is 2\n",
      "\n",
      "Found 1\n",
      "OpenCV(4.11.0) /io/opencv/modules/calib3d/src/usac/ransac_solvers.cpp:1047: error: (-2:Unspecified error) in function 'cv::usac::mergePoints(cv::InputArray, cv::InputArray, cv::Mat&, bool)::<lambda(cv::Mat&, int)>'\n",
      "> Invalid dimension of point (expected: 'points.cols >= pt_dim'), where\n",
      ">     'points.cols' is 1\n",
      "> must be greater than or equal to\n",
      ">     'pt_dim' is 2\n",
      "\n",
      "Found 4\n",
      "OpenCV(4.11.0) /io/opencv/modules/calib3d/src/usac/sampler.cpp:45: error: (-215:Assertion failed) sample_size <= points_size_ in function 'setPointsSize'\n",
      "\n",
      "Found 4\n",
      "OpenCV(4.11.0) /io/opencv/modules/calib3d/src/usac/sampler.cpp:45: error: (-215:Assertion failed) sample_size <= points_size_ in function 'setPointsSize'\n",
      "\n",
      "Found 0\n",
      "OpenCV(4.11.0) /io/opencv/modules/calib3d/src/usac/ransac_solvers.cpp:1047: error: (-2:Unspecified error) in function 'cv::usac::mergePoints(cv::InputArray, cv::InputArray, cv::Mat&, bool)::<lambda(cv::Mat&, int)>'\n",
      "> Invalid dimension of point (expected: 'points.cols >= pt_dim'), where\n",
      ">     'points.cols' is 0\n",
      "> must be greater than or equal to\n",
      ">     'pt_dim' is 2\n",
      "\n"
     ]
    },
    {
     "name": "stderr",
     "output_type": "stream",
     "text": [
      " 72%|███████▏  | 13513/18840 [03:34<01:38, 54.26it/s] "
     ]
    },
    {
     "name": "stdout",
     "output_type": "stream",
     "text": [
      "Found 0\n",
      "OpenCV(4.11.0) /io/opencv/modules/calib3d/src/usac/ransac_solvers.cpp:1047: error: (-2:Unspecified error) in function 'cv::usac::mergePoints(cv::InputArray, cv::InputArray, cv::Mat&, bool)::<lambda(cv::Mat&, int)>'\n",
      "> Invalid dimension of point (expected: 'points.cols >= pt_dim'), where\n",
      ">     'points.cols' is 0\n",
      "> must be greater than or equal to\n",
      ">     'pt_dim' is 2\n",
      "\n"
     ]
    },
    {
     "name": "stderr",
     "output_type": "stream",
     "text": [
      " 72%|███████▏  | 13603/18840 [03:36<00:52, 99.46it/s]"
     ]
    },
    {
     "name": "stdout",
     "output_type": "stream",
     "text": [
      "Found 2\n",
      "OpenCV(4.11.0) /io/opencv/modules/calib3d/src/usac/sampler.cpp:45: error: (-215:Assertion failed) sample_size <= points_size_ in function 'setPointsSize'\n",
      "\n",
      "Found 0\n",
      "OpenCV(4.11.0) /io/opencv/modules/calib3d/src/usac/ransac_solvers.cpp:1047: error: (-2:Unspecified error) in function 'cv::usac::mergePoints(cv::InputArray, cv::InputArray, cv::Mat&, bool)::<lambda(cv::Mat&, int)>'\n",
      "> Invalid dimension of point (expected: 'points.cols >= pt_dim'), where\n",
      ">     'points.cols' is 0\n",
      "> must be greater than or equal to\n",
      ">     'pt_dim' is 2\n",
      "\n",
      "Found 0\n",
      "OpenCV(4.11.0) /io/opencv/modules/calib3d/src/usac/ransac_solvers.cpp:1047: error: (-2:Unspecified error) in function 'cv::usac::mergePoints(cv::InputArray, cv::InputArray, cv::Mat&, bool)::<lambda(cv::Mat&, int)>'\n",
      "> Invalid dimension of point (expected: 'points.cols >= pt_dim'), where\n",
      ">     'points.cols' is 0\n",
      "> must be greater than or equal to\n",
      ">     'pt_dim' is 2\n",
      "\n",
      "Found 1\n",
      "OpenCV(4.11.0) /io/opencv/modules/calib3d/src/usac/ransac_solvers.cpp:1047: error: (-2:Unspecified error) in function 'cv::usac::mergePoints(cv::InputArray, cv::InputArray, cv::Mat&, bool)::<lambda(cv::Mat&, int)>'\n",
      "> Invalid dimension of point (expected: 'points.cols >= pt_dim'), where\n",
      ">     'points.cols' is 1\n",
      "> must be greater than or equal to\n",
      ">     'pt_dim' is 2\n",
      "\n"
     ]
    },
    {
     "name": "stderr",
     "output_type": "stream",
     "text": [
      " 72%|███████▏  | 13645/18840 [03:36<00:41, 125.35it/s]"
     ]
    },
    {
     "name": "stdout",
     "output_type": "stream",
     "text": [
      "Found 1\n",
      "OpenCV(4.11.0) /io/opencv/modules/calib3d/src/usac/ransac_solvers.cpp:1047: error: (-2:Unspecified error) in function 'cv::usac::mergePoints(cv::InputArray, cv::InputArray, cv::Mat&, bool)::<lambda(cv::Mat&, int)>'\n",
      "> Invalid dimension of point (expected: 'points.cols >= pt_dim'), where\n",
      ">     'points.cols' is 1\n",
      "> must be greater than or equal to\n",
      ">     'pt_dim' is 2\n",
      "\n",
      "Found 1\n",
      "OpenCV(4.11.0) /io/opencv/modules/calib3d/src/usac/ransac_solvers.cpp:1047: error: (-2:Unspecified error) in function 'cv::usac::mergePoints(cv::InputArray, cv::InputArray, cv::Mat&, bool)::<lambda(cv::Mat&, int)>'\n",
      "> Invalid dimension of point (expected: 'points.cols >= pt_dim'), where\n",
      ">     'points.cols' is 1\n",
      "> must be greater than or equal to\n",
      ">     'pt_dim' is 2\n",
      "\n"
     ]
    },
    {
     "name": "stderr",
     "output_type": "stream",
     "text": [
      " 73%|███████▎  | 13674/18840 [03:36<00:38, 134.27it/s]"
     ]
    },
    {
     "name": "stdout",
     "output_type": "stream",
     "text": [
      "Found 0\n",
      "OpenCV(4.11.0) /io/opencv/modules/calib3d/src/usac/ransac_solvers.cpp:1047: error: (-2:Unspecified error) in function 'cv::usac::mergePoints(cv::InputArray, cv::InputArray, cv::Mat&, bool)::<lambda(cv::Mat&, int)>'\n",
      "> Invalid dimension of point (expected: 'points.cols >= pt_dim'), where\n",
      ">     'points.cols' is 0\n",
      "> must be greater than or equal to\n",
      ">     'pt_dim' is 2\n",
      "\n",
      "Found 3\n",
      "OpenCV(4.11.0) /io/opencv/modules/calib3d/src/usac/sampler.cpp:45: error: (-215:Assertion failed) sample_size <= points_size_ in function 'setPointsSize'\n",
      "\n",
      "Found 0\n",
      "OpenCV(4.11.0) /io/opencv/modules/calib3d/src/usac/ransac_solvers.cpp:1047: error: (-2:Unspecified error) in function 'cv::usac::mergePoints(cv::InputArray, cv::InputArray, cv::Mat&, bool)::<lambda(cv::Mat&, int)>'\n",
      "> Invalid dimension of point (expected: 'points.cols >= pt_dim'), where\n",
      ">     'points.cols' is 0\n",
      "> must be greater than or equal to\n",
      ">     'pt_dim' is 2\n",
      "\n",
      "Found 1\n",
      "OpenCV(4.11.0) /io/opencv/modules/calib3d/src/usac/ransac_solvers.cpp:1047: error: (-2:Unspecified error) in function 'cv::usac::mergePoints(cv::InputArray, cv::InputArray, cv::Mat&, bool)::<lambda(cv::Mat&, int)>'\n",
      "> Invalid dimension of point (expected: 'points.cols >= pt_dim'), where\n",
      ">     'points.cols' is 1\n",
      "> must be greater than or equal to\n",
      ">     'pt_dim' is 2\n",
      "\n",
      "Found 0\n",
      "OpenCV(4.11.0) /io/opencv/modules/calib3d/src/usac/ransac_solvers.cpp:1047: error: (-2:Unspecified error) in function 'cv::usac::mergePoints(cv::InputArray, cv::InputArray, cv::Mat&, bool)::<lambda(cv::Mat&, int)>'\n",
      "> Invalid dimension of point (expected: 'points.cols >= pt_dim'), where\n",
      ">     'points.cols' is 0\n",
      "> must be greater than or equal to\n",
      ">     'pt_dim' is 2\n",
      "\n",
      "Found 2\n",
      "OpenCV(4.11.0) /io/opencv/modules/calib3d/src/usac/sampler.cpp:45: error: (-215:Assertion failed) sample_size <= points_size_ in function 'setPointsSize'\n",
      "\n"
     ]
    },
    {
     "name": "stderr",
     "output_type": "stream",
     "text": [
      " 73%|███████▎  | 13722/18840 [03:36<00:34, 147.34it/s]"
     ]
    },
    {
     "name": "stdout",
     "output_type": "stream",
     "text": [
      "Found 0\n",
      "OpenCV(4.11.0) /io/opencv/modules/calib3d/src/usac/ransac_solvers.cpp:1047: error: (-2:Unspecified error) in function 'cv::usac::mergePoints(cv::InputArray, cv::InputArray, cv::Mat&, bool)::<lambda(cv::Mat&, int)>'\n",
      "> Invalid dimension of point (expected: 'points.cols >= pt_dim'), where\n",
      ">     'points.cols' is 0\n",
      "> must be greater than or equal to\n",
      ">     'pt_dim' is 2\n",
      "\n",
      "Found 2\n",
      "OpenCV(4.11.0) /io/opencv/modules/calib3d/src/usac/sampler.cpp:45: error: (-215:Assertion failed) sample_size <= points_size_ in function 'setPointsSize'\n",
      "\n",
      "Found 2\n",
      "OpenCV(4.11.0) /io/opencv/modules/calib3d/src/usac/sampler.cpp:45: error: (-215:Assertion failed) sample_size <= points_size_ in function 'setPointsSize'\n",
      "\n",
      "Found 0\n",
      "OpenCV(4.11.0) /io/opencv/modules/calib3d/src/usac/ransac_solvers.cpp:1047: error: (-2:Unspecified error) in function 'cv::usac::mergePoints(cv::InputArray, cv::InputArray, cv::Mat&, bool)::<lambda(cv::Mat&, int)>'\n",
      "> Invalid dimension of point (expected: 'points.cols >= pt_dim'), where\n",
      ">     'points.cols' is 0\n",
      "> must be greater than or equal to\n",
      ">     'pt_dim' is 2\n",
      "\n"
     ]
    },
    {
     "name": "stderr",
     "output_type": "stream",
     "text": [
      " 73%|███████▎  | 13737/18840 [03:37<00:36, 139.16it/s]"
     ]
    },
    {
     "name": "stdout",
     "output_type": "stream",
     "text": [
      "Found 0\n",
      "OpenCV(4.11.0) /io/opencv/modules/calib3d/src/usac/ransac_solvers.cpp:1047: error: (-2:Unspecified error) in function 'cv::usac::mergePoints(cv::InputArray, cv::InputArray, cv::Mat&, bool)::<lambda(cv::Mat&, int)>'\n",
      "> Invalid dimension of point (expected: 'points.cols >= pt_dim'), where\n",
      ">     'points.cols' is 0\n",
      "> must be greater than or equal to\n",
      ">     'pt_dim' is 2\n",
      "\n",
      "Found 0\n",
      "OpenCV(4.11.0) /io/opencv/modules/calib3d/src/usac/ransac_solvers.cpp:1047: error: (-2:Unspecified error) in function 'cv::usac::mergePoints(cv::InputArray, cv::InputArray, cv::Mat&, bool)::<lambda(cv::Mat&, int)>'\n",
      "> Invalid dimension of point (expected: 'points.cols >= pt_dim'), where\n",
      ">     'points.cols' is 0\n",
      "> must be greater than or equal to\n",
      ">     'pt_dim' is 2\n",
      "\n"
     ]
    },
    {
     "name": "stderr",
     "output_type": "stream",
     "text": [
      " 73%|███████▎  | 13838/18840 [03:39<01:22, 60.45it/s] "
     ]
    },
    {
     "name": "stdout",
     "output_type": "stream",
     "text": [
      "Found 0\n",
      "OpenCV(4.11.0) /io/opencv/modules/calib3d/src/usac/ransac_solvers.cpp:1047: error: (-2:Unspecified error) in function 'cv::usac::mergePoints(cv::InputArray, cv::InputArray, cv::Mat&, bool)::<lambda(cv::Mat&, int)>'\n",
      "> Invalid dimension of point (expected: 'points.cols >= pt_dim'), where\n",
      ">     'points.cols' is 0\n",
      "> must be greater than or equal to\n",
      ">     'pt_dim' is 2\n",
      "\n",
      "Found 2\n",
      "OpenCV(4.11.0) /io/opencv/modules/calib3d/src/usac/sampler.cpp:45: error: (-215:Assertion failed) sample_size <= points_size_ in function 'setPointsSize'\n",
      "\n",
      "Found 3\n",
      "OpenCV(4.11.0) /io/opencv/modules/calib3d/src/usac/sampler.cpp:45: error: (-215:Assertion failed) sample_size <= points_size_ in function 'setPointsSize'\n",
      "\n",
      "Found 0\n",
      "OpenCV(4.11.0) /io/opencv/modules/calib3d/src/usac/ransac_solvers.cpp:1047: error: (-2:Unspecified error) in function 'cv::usac::mergePoints(cv::InputArray, cv::InputArray, cv::Mat&, bool)::<lambda(cv::Mat&, int)>'\n",
      "> Invalid dimension of point (expected: 'points.cols >= pt_dim'), where\n",
      ">     'points.cols' is 0\n",
      "> must be greater than or equal to\n",
      ">     'pt_dim' is 2\n",
      "\n",
      "Found 1\n",
      "OpenCV(4.11.0) /io/opencv/modules/calib3d/src/usac/ransac_solvers.cpp:1047: error: (-2:Unspecified error) in function 'cv::usac::mergePoints(cv::InputArray, cv::InputArray, cv::Mat&, bool)::<lambda(cv::Mat&, int)>'\n",
      "> Invalid dimension of point (expected: 'points.cols >= pt_dim'), where\n",
      ">     'points.cols' is 1\n",
      "> must be greater than or equal to\n",
      ">     'pt_dim' is 2\n",
      "\n",
      "Found 0\n",
      "OpenCV(4.11.0) /io/opencv/modules/calib3d/src/usac/ransac_solvers.cpp:1047: error: (-2:Unspecified error) in function 'cv::usac::mergePoints(cv::InputArray, cv::InputArray, cv::Mat&, bool)::<lambda(cv::Mat&, int)>'\n",
      "> Invalid dimension of point (expected: 'points.cols >= pt_dim'), where\n",
      ">     'points.cols' is 0\n",
      "> must be greater than or equal to\n",
      ">     'pt_dim' is 2\n",
      "\n",
      "Found 1\n",
      "OpenCV(4.11.0) /io/opencv/modules/calib3d/src/usac/ransac_solvers.cpp:1047: error: (-2:Unspecified error) in function 'cv::usac::mergePoints(cv::InputArray, cv::InputArray, cv::Mat&, bool)::<lambda(cv::Mat&, int)>'\n",
      "> Invalid dimension of point (expected: 'points.cols >= pt_dim'), where\n",
      ">     'points.cols' is 1\n",
      "> must be greater than or equal to\n",
      ">     'pt_dim' is 2\n",
      "\n",
      "Found 0\n",
      "OpenCV(4.11.0) /io/opencv/modules/calib3d/src/usac/ransac_solvers.cpp:1047: error: (-2:Unspecified error) in function 'cv::usac::mergePoints(cv::InputArray, cv::InputArray, cv::Mat&, bool)::<lambda(cv::Mat&, int)>'\n",
      "> Invalid dimension of point (expected: 'points.cols >= pt_dim'), where\n",
      ">     'points.cols' is 0\n",
      "> must be greater than or equal to\n",
      ">     'pt_dim' is 2\n",
      "\n",
      "Found 0\n",
      "OpenCV(4.11.0) /io/opencv/modules/calib3d/src/usac/ransac_solvers.cpp:1047: error: (-2:Unspecified error) in function 'cv::usac::mergePoints(cv::InputArray, cv::InputArray, cv::Mat&, bool)::<lambda(cv::Mat&, int)>'\n",
      "> Invalid dimension of point (expected: 'points.cols >= pt_dim'), where\n",
      ">     'points.cols' is 0\n",
      "> must be greater than or equal to\n",
      ">     'pt_dim' is 2\n",
      "\n",
      "Found 0\n",
      "OpenCV(4.11.0) /io/opencv/modules/calib3d/src/usac/ransac_solvers.cpp:1047: error: (-2:Unspecified error) in function 'cv::usac::mergePoints(cv::InputArray, cv::InputArray, cv::Mat&, bool)::<lambda(cv::Mat&, int)>'\n",
      "> Invalid dimension of point (expected: 'points.cols >= pt_dim'), where\n",
      ">     'points.cols' is 0\n",
      "> must be greater than or equal to\n",
      ">     'pt_dim' is 2\n",
      "\n"
     ]
    },
    {
     "name": "stderr",
     "output_type": "stream",
     "text": [
      " 74%|███████▎  | 13853/18840 [03:40<01:17, 64.49it/s]"
     ]
    },
    {
     "name": "stdout",
     "output_type": "stream",
     "text": [
      "Found 0\n",
      "OpenCV(4.11.0) /io/opencv/modules/calib3d/src/usac/ransac_solvers.cpp:1047: error: (-2:Unspecified error) in function 'cv::usac::mergePoints(cv::InputArray, cv::InputArray, cv::Mat&, bool)::<lambda(cv::Mat&, int)>'\n",
      "> Invalid dimension of point (expected: 'points.cols >= pt_dim'), where\n",
      ">     'points.cols' is 0\n",
      "> must be greater than or equal to\n",
      ">     'pt_dim' is 2\n",
      "\n",
      "Found 0\n",
      "OpenCV(4.11.0) /io/opencv/modules/calib3d/src/usac/ransac_solvers.cpp:1047: error: (-2:Unspecified error) in function 'cv::usac::mergePoints(cv::InputArray, cv::InputArray, cv::Mat&, bool)::<lambda(cv::Mat&, int)>'\n",
      "> Invalid dimension of point (expected: 'points.cols >= pt_dim'), where\n",
      ">     'points.cols' is 0\n",
      "> must be greater than or equal to\n",
      ">     'pt_dim' is 2\n",
      "\n",
      "Found 1\n",
      "OpenCV(4.11.0) /io/opencv/modules/calib3d/src/usac/ransac_solvers.cpp:1047: error: (-2:Unspecified error) in function 'cv::usac::mergePoints(cv::InputArray, cv::InputArray, cv::Mat&, bool)::<lambda(cv::Mat&, int)>'\n",
      "> Invalid dimension of point (expected: 'points.cols >= pt_dim'), where\n",
      ">     'points.cols' is 1\n",
      "> must be greater than or equal to\n",
      ">     'pt_dim' is 2\n",
      "\n",
      "Found 0\n",
      "OpenCV(4.11.0) /io/opencv/modules/calib3d/src/usac/ransac_solvers.cpp:1047: error: (-2:Unspecified error) in function 'cv::usac::mergePoints(cv::InputArray, cv::InputArray, cv::Mat&, bool)::<lambda(cv::Mat&, int)>'\n",
      "> Invalid dimension of point (expected: 'points.cols >= pt_dim'), where\n",
      ">     'points.cols' is 0\n",
      "> must be greater than or equal to\n",
      ">     'pt_dim' is 2\n",
      "\n",
      "Found 0\n",
      "OpenCV(4.11.0) /io/opencv/modules/calib3d/src/usac/ransac_solvers.cpp:1047: error: (-2:Unspecified error) in function 'cv::usac::mergePoints(cv::InputArray, cv::InputArray, cv::Mat&, bool)::<lambda(cv::Mat&, int)>'\n",
      "> Invalid dimension of point (expected: 'points.cols >= pt_dim'), where\n",
      ">     'points.cols' is 0\n",
      "> must be greater than or equal to\n",
      ">     'pt_dim' is 2\n",
      "\n",
      "Found 1\n",
      "OpenCV(4.11.0) /io/opencv/modules/calib3d/src/usac/ransac_solvers.cpp:1047: error: (-2:Unspecified error) in function 'cv::usac::mergePoints(cv::InputArray, cv::InputArray, cv::Mat&, bool)::<lambda(cv::Mat&, int)>'\n",
      "> Invalid dimension of point (expected: 'points.cols >= pt_dim'), where\n",
      ">     'points.cols' is 1\n",
      "> must be greater than or equal to\n",
      ">     'pt_dim' is 2\n",
      "\n",
      "Found 2\n",
      "OpenCV(4.11.0) /io/opencv/modules/calib3d/src/usac/sampler.cpp:45: error: (-215:Assertion failed) sample_size <= points_size_ in function 'setPointsSize'\n",
      "\n",
      "Found 1\n",
      "OpenCV(4.11.0) /io/opencv/modules/calib3d/src/usac/ransac_solvers.cpp:1047: error: (-2:Unspecified error) in function 'cv::usac::mergePoints(cv::InputArray, cv::InputArray, cv::Mat&, bool)::<lambda(cv::Mat&, int)>'\n",
      "> Invalid dimension of point (expected: 'points.cols >= pt_dim'), where\n",
      ">     'points.cols' is 1\n",
      "> must be greater than or equal to\n",
      ">     'pt_dim' is 2\n",
      "\n",
      "Found 2\n",
      "OpenCV(4.11.0) /io/opencv/modules/calib3d/src/usac/sampler.cpp:45: error: (-215:Assertion failed) sample_size <= points_size_ in function 'setPointsSize'\n",
      "\n",
      "Found 0\n",
      "OpenCV(4.11.0) /io/opencv/modules/calib3d/src/usac/ransac_solvers.cpp:1047: error: (-2:Unspecified error) in function 'cv::usac::mergePoints(cv::InputArray, cv::InputArray, cv::Mat&, bool)::<lambda(cv::Mat&, int)>'\n",
      "> Invalid dimension of point (expected: 'points.cols >= pt_dim'), where\n",
      ">     'points.cols' is 0\n",
      "> must be greater than or equal to\n",
      ">     'pt_dim' is 2\n",
      "\n",
      "Found 0\n",
      "OpenCV(4.11.0) /io/opencv/modules/calib3d/src/usac/ransac_solvers.cpp:1047: error: (-2:Unspecified error) in function 'cv::usac::mergePoints(cv::InputArray, cv::InputArray, cv::Mat&, bool)::<lambda(cv::Mat&, int)>'\n",
      "> Invalid dimension of point (expected: 'points.cols >= pt_dim'), where\n",
      ">     'points.cols' is 0\n",
      "> must be greater than or equal to\n",
      ">     'pt_dim' is 2\n",
      "\n",
      "Found 0\n",
      "OpenCV(4.11.0) /io/opencv/modules/calib3d/src/usac/ransac_solvers.cpp:1047: error: (-2:Unspecified error) in function 'cv::usac::mergePoints(cv::InputArray, cv::InputArray, cv::Mat&, bool)::<lambda(cv::Mat&, int)>'\n",
      "> Invalid dimension of point (expected: 'points.cols >= pt_dim'), where\n",
      ">     'points.cols' is 0\n",
      "> must be greater than or equal to\n",
      ">     'pt_dim' is 2\n",
      "\n",
      "Found 0\n",
      "OpenCV(4.11.0) /io/opencv/modules/calib3d/src/usac/ransac_solvers.cpp:1047: error: (-2:Unspecified error) in function 'cv::usac::mergePoints(cv::InputArray, cv::InputArray, cv::Mat&, bool)::<lambda(cv::Mat&, int)>'\n",
      "> Invalid dimension of point (expected: 'points.cols >= pt_dim'), where\n",
      ">     'points.cols' is 0\n",
      "> must be greater than or equal to\n",
      ">     'pt_dim' is 2\n",
      "\n"
     ]
    },
    {
     "name": "stderr",
     "output_type": "stream",
     "text": [
      " 74%|███████▎  | 13870/18840 [03:40<01:15, 65.58it/s]"
     ]
    },
    {
     "name": "stdout",
     "output_type": "stream",
     "text": [
      "Found 1\n",
      "OpenCV(4.11.0) /io/opencv/modules/calib3d/src/usac/ransac_solvers.cpp:1047: error: (-2:Unspecified error) in function 'cv::usac::mergePoints(cv::InputArray, cv::InputArray, cv::Mat&, bool)::<lambda(cv::Mat&, int)>'\n",
      "> Invalid dimension of point (expected: 'points.cols >= pt_dim'), where\n",
      ">     'points.cols' is 1\n",
      "> must be greater than or equal to\n",
      ">     'pt_dim' is 2\n",
      "\n",
      "Found 4\n",
      "OpenCV(4.11.0) /io/opencv/modules/calib3d/src/usac/sampler.cpp:45: error: (-215:Assertion failed) sample_size <= points_size_ in function 'setPointsSize'\n",
      "\n",
      "Found 1\n",
      "OpenCV(4.11.0) /io/opencv/modules/calib3d/src/usac/ransac_solvers.cpp:1047: error: (-2:Unspecified error) in function 'cv::usac::mergePoints(cv::InputArray, cv::InputArray, cv::Mat&, bool)::<lambda(cv::Mat&, int)>'\n",
      "> Invalid dimension of point (expected: 'points.cols >= pt_dim'), where\n",
      ">     'points.cols' is 1\n",
      "> must be greater than or equal to\n",
      ">     'pt_dim' is 2\n",
      "\n",
      "Found 0\n",
      "OpenCV(4.11.0) /io/opencv/modules/calib3d/src/usac/ransac_solvers.cpp:1047: error: (-2:Unspecified error) in function 'cv::usac::mergePoints(cv::InputArray, cv::InputArray, cv::Mat&, bool)::<lambda(cv::Mat&, int)>'\n",
      "> Invalid dimension of point (expected: 'points.cols >= pt_dim'), where\n",
      ">     'points.cols' is 0\n",
      "> must be greater than or equal to\n",
      ">     'pt_dim' is 2\n",
      "\n",
      "Found 0\n",
      "OpenCV(4.11.0) /io/opencv/modules/calib3d/src/usac/ransac_solvers.cpp:1047: error: (-2:Unspecified error) in function 'cv::usac::mergePoints(cv::InputArray, cv::InputArray, cv::Mat&, bool)::<lambda(cv::Mat&, int)>'\n",
      "> Invalid dimension of point (expected: 'points.cols >= pt_dim'), where\n",
      ">     'points.cols' is 0\n",
      "> must be greater than or equal to\n",
      ">     'pt_dim' is 2\n",
      "\n",
      "Found 0\n",
      "OpenCV(4.11.0) /io/opencv/modules/calib3d/src/usac/ransac_solvers.cpp:1047: error: (-2:Unspecified error) in function 'cv::usac::mergePoints(cv::InputArray, cv::InputArray, cv::Mat&, bool)::<lambda(cv::Mat&, int)>'\n",
      "> Invalid dimension of point (expected: 'points.cols >= pt_dim'), where\n",
      ">     'points.cols' is 0\n",
      "> must be greater than or equal to\n",
      ">     'pt_dim' is 2\n",
      "\n",
      "Found 3\n",
      "OpenCV(4.11.0) /io/opencv/modules/calib3d/src/usac/sampler.cpp:45: error: (-215:Assertion failed) sample_size <= points_size_ in function 'setPointsSize'\n",
      "\n",
      "Found 0\n",
      "OpenCV(4.11.0) /io/opencv/modules/calib3d/src/usac/ransac_solvers.cpp:1047: error: (-2:Unspecified error) in function 'cv::usac::mergePoints(cv::InputArray, cv::InputArray, cv::Mat&, bool)::<lambda(cv::Mat&, int)>'\n",
      "> Invalid dimension of point (expected: 'points.cols >= pt_dim'), where\n",
      ">     'points.cols' is 0\n",
      "> must be greater than or equal to\n",
      ">     'pt_dim' is 2\n",
      "\n",
      "Found 1\n",
      "OpenCV(4.11.0) /io/opencv/modules/calib3d/src/usac/ransac_solvers.cpp:1047: error: (-2:Unspecified error) in function 'cv::usac::mergePoints(cv::InputArray, cv::InputArray, cv::Mat&, bool)::<lambda(cv::Mat&, int)>'\n",
      "> Invalid dimension of point (expected: 'points.cols >= pt_dim'), where\n",
      ">     'points.cols' is 1\n",
      "> must be greater than or equal to\n",
      ">     'pt_dim' is 2\n",
      "\n",
      "Found 2\n",
      "OpenCV(4.11.0) /io/opencv/modules/calib3d/src/usac/sampler.cpp:45: error: (-215:Assertion failed) sample_size <= points_size_ in function 'setPointsSize'\n",
      "\n",
      "Found 3\n",
      "OpenCV(4.11.0) /io/opencv/modules/calib3d/src/usac/sampler.cpp:45: error: (-215:Assertion failed) sample_size <= points_size_ in function 'setPointsSize'\n",
      "\n"
     ]
    },
    {
     "name": "stderr",
     "output_type": "stream",
     "text": [
      " 74%|███████▎  | 13884/18840 [03:40<01:15, 65.97it/s]"
     ]
    },
    {
     "name": "stdout",
     "output_type": "stream",
     "text": [
      "Found 0\n",
      "OpenCV(4.11.0) /io/opencv/modules/calib3d/src/usac/ransac_solvers.cpp:1047: error: (-2:Unspecified error) in function 'cv::usac::mergePoints(cv::InputArray, cv::InputArray, cv::Mat&, bool)::<lambda(cv::Mat&, int)>'\n",
      "> Invalid dimension of point (expected: 'points.cols >= pt_dim'), where\n",
      ">     'points.cols' is 0\n",
      "> must be greater than or equal to\n",
      ">     'pt_dim' is 2\n",
      "\n",
      "Found 0\n",
      "OpenCV(4.11.0) /io/opencv/modules/calib3d/src/usac/ransac_solvers.cpp:1047: error: (-2:Unspecified error) in function 'cv::usac::mergePoints(cv::InputArray, cv::InputArray, cv::Mat&, bool)::<lambda(cv::Mat&, int)>'\n",
      "> Invalid dimension of point (expected: 'points.cols >= pt_dim'), where\n",
      ">     'points.cols' is 0\n",
      "> must be greater than or equal to\n",
      ">     'pt_dim' is 2\n",
      "\n",
      "Found 0\n",
      "OpenCV(4.11.0) /io/opencv/modules/calib3d/src/usac/ransac_solvers.cpp:1047: error: (-2:Unspecified error) in function 'cv::usac::mergePoints(cv::InputArray, cv::InputArray, cv::Mat&, bool)::<lambda(cv::Mat&, int)>'\n",
      "> Invalid dimension of point (expected: 'points.cols >= pt_dim'), where\n",
      ">     'points.cols' is 0\n",
      "> must be greater than or equal to\n",
      ">     'pt_dim' is 2\n",
      "\n",
      "Found 1\n",
      "OpenCV(4.11.0) /io/opencv/modules/calib3d/src/usac/ransac_solvers.cpp:1047: error: (-2:Unspecified error) in function 'cv::usac::mergePoints(cv::InputArray, cv::InputArray, cv::Mat&, bool)::<lambda(cv::Mat&, int)>'\n",
      "> Invalid dimension of point (expected: 'points.cols >= pt_dim'), where\n",
      ">     'points.cols' is 1\n",
      "> must be greater than or equal to\n",
      ">     'pt_dim' is 2\n",
      "\n",
      "Found 0\n",
      "OpenCV(4.11.0) /io/opencv/modules/calib3d/src/usac/ransac_solvers.cpp:1047: error: (-2:Unspecified error) in function 'cv::usac::mergePoints(cv::InputArray, cv::InputArray, cv::Mat&, bool)::<lambda(cv::Mat&, int)>'\n",
      "> Invalid dimension of point (expected: 'points.cols >= pt_dim'), where\n",
      ">     'points.cols' is 0\n",
      "> must be greater than or equal to\n",
      ">     'pt_dim' is 2\n",
      "\n",
      "Found 0\n",
      "OpenCV(4.11.0) /io/opencv/modules/calib3d/src/usac/ransac_solvers.cpp:1047: error: (-2:Unspecified error) in function 'cv::usac::mergePoints(cv::InputArray, cv::InputArray, cv::Mat&, bool)::<lambda(cv::Mat&, int)>'\n",
      "> Invalid dimension of point (expected: 'points.cols >= pt_dim'), where\n",
      ">     'points.cols' is 0\n",
      "> must be greater than or equal to\n",
      ">     'pt_dim' is 2\n",
      "\n",
      "Found 0\n",
      "OpenCV(4.11.0) /io/opencv/modules/calib3d/src/usac/ransac_solvers.cpp:1047: error: (-2:Unspecified error) in function 'cv::usac::mergePoints(cv::InputArray, cv::InputArray, cv::Mat&, bool)::<lambda(cv::Mat&, int)>'\n",
      "> Invalid dimension of point (expected: 'points.cols >= pt_dim'), where\n",
      ">     'points.cols' is 0\n",
      "> must be greater than or equal to\n",
      ">     'pt_dim' is 2\n",
      "\n",
      "Found 0\n",
      "OpenCV(4.11.0) /io/opencv/modules/calib3d/src/usac/ransac_solvers.cpp:1047: error: (-2:Unspecified error) in function 'cv::usac::mergePoints(cv::InputArray, cv::InputArray, cv::Mat&, bool)::<lambda(cv::Mat&, int)>'\n",
      "> Invalid dimension of point (expected: 'points.cols >= pt_dim'), where\n",
      ">     'points.cols' is 0\n",
      "> must be greater than or equal to\n",
      ">     'pt_dim' is 2\n",
      "\n",
      "Found 1\n",
      "OpenCV(4.11.0) /io/opencv/modules/calib3d/src/usac/ransac_solvers.cpp:1047: error: (-2:Unspecified error) in function 'cv::usac::mergePoints(cv::InputArray, cv::InputArray, cv::Mat&, bool)::<lambda(cv::Mat&, int)>'\n",
      "> Invalid dimension of point (expected: 'points.cols >= pt_dim'), where\n",
      ">     'points.cols' is 1\n",
      "> must be greater than or equal to\n",
      ">     'pt_dim' is 2\n",
      "\n",
      "Found 0\n",
      "OpenCV(4.11.0) /io/opencv/modules/calib3d/src/usac/ransac_solvers.cpp:1047: error: (-2:Unspecified error) in function 'cv::usac::mergePoints(cv::InputArray, cv::InputArray, cv::Mat&, bool)::<lambda(cv::Mat&, int)>'\n",
      "> Invalid dimension of point (expected: 'points.cols >= pt_dim'), where\n",
      ">     'points.cols' is 0\n",
      "> must be greater than or equal to\n",
      ">     'pt_dim' is 2\n",
      "\n",
      "Found 0\n",
      "OpenCV(4.11.0) /io/opencv/modules/calib3d/src/usac/ransac_solvers.cpp:1047: error: (-2:Unspecified error) in function 'cv::usac::mergePoints(cv::InputArray, cv::InputArray, cv::Mat&, bool)::<lambda(cv::Mat&, int)>'\n",
      "> Invalid dimension of point (expected: 'points.cols >= pt_dim'), where\n",
      ">     'points.cols' is 0\n",
      "> must be greater than or equal to\n",
      ">     'pt_dim' is 2\n",
      "\n"
     ]
    },
    {
     "name": "stderr",
     "output_type": "stream",
     "text": [
      " 74%|███████▍  | 13898/18840 [03:40<01:16, 64.41it/s]"
     ]
    },
    {
     "name": "stdout",
     "output_type": "stream",
     "text": [
      "Found 2\n",
      "OpenCV(4.11.0) /io/opencv/modules/calib3d/src/usac/sampler.cpp:45: error: (-215:Assertion failed) sample_size <= points_size_ in function 'setPointsSize'\n",
      "\n",
      "Found 0\n",
      "OpenCV(4.11.0) /io/opencv/modules/calib3d/src/usac/ransac_solvers.cpp:1047: error: (-2:Unspecified error) in function 'cv::usac::mergePoints(cv::InputArray, cv::InputArray, cv::Mat&, bool)::<lambda(cv::Mat&, int)>'\n",
      "> Invalid dimension of point (expected: 'points.cols >= pt_dim'), where\n",
      ">     'points.cols' is 0\n",
      "> must be greater than or equal to\n",
      ">     'pt_dim' is 2\n",
      "\n",
      "Found 4\n",
      "OpenCV(4.11.0) /io/opencv/modules/calib3d/src/usac/sampler.cpp:45: error: (-215:Assertion failed) sample_size <= points_size_ in function 'setPointsSize'\n",
      "\n",
      "Found 0\n",
      "OpenCV(4.11.0) /io/opencv/modules/calib3d/src/usac/ransac_solvers.cpp:1047: error: (-2:Unspecified error) in function 'cv::usac::mergePoints(cv::InputArray, cv::InputArray, cv::Mat&, bool)::<lambda(cv::Mat&, int)>'\n",
      "> Invalid dimension of point (expected: 'points.cols >= pt_dim'), where\n",
      ">     'points.cols' is 0\n",
      "> must be greater than or equal to\n",
      ">     'pt_dim' is 2\n",
      "\n",
      "Found 0\n",
      "OpenCV(4.11.0) /io/opencv/modules/calib3d/src/usac/ransac_solvers.cpp:1047: error: (-2:Unspecified error) in function 'cv::usac::mergePoints(cv::InputArray, cv::InputArray, cv::Mat&, bool)::<lambda(cv::Mat&, int)>'\n",
      "> Invalid dimension of point (expected: 'points.cols >= pt_dim'), where\n",
      ">     'points.cols' is 0\n",
      "> must be greater than or equal to\n",
      ">     'pt_dim' is 2\n",
      "\n",
      "Found 0\n",
      "OpenCV(4.11.0) /io/opencv/modules/calib3d/src/usac/ransac_solvers.cpp:1047: error: (-2:Unspecified error) in function 'cv::usac::mergePoints(cv::InputArray, cv::InputArray, cv::Mat&, bool)::<lambda(cv::Mat&, int)>'\n",
      "> Invalid dimension of point (expected: 'points.cols >= pt_dim'), where\n",
      ">     'points.cols' is 0\n",
      "> must be greater than or equal to\n",
      ">     'pt_dim' is 2\n",
      "\n",
      "Found 2\n",
      "OpenCV(4.11.0) /io/opencv/modules/calib3d/src/usac/sampler.cpp:45: error: (-215:Assertion failed) sample_size <= points_size_ in function 'setPointsSize'\n",
      "\n",
      "Found 3\n",
      "OpenCV(4.11.0) /io/opencv/modules/calib3d/src/usac/sampler.cpp:45: error: (-215:Assertion failed) sample_size <= points_size_ in function 'setPointsSize'\n",
      "\n",
      "Found 1\n",
      "OpenCV(4.11.0) /io/opencv/modules/calib3d/src/usac/ransac_solvers.cpp:1047: error: (-2:Unspecified error) in function 'cv::usac::mergePoints(cv::InputArray, cv::InputArray, cv::Mat&, bool)::<lambda(cv::Mat&, int)>'\n",
      "> Invalid dimension of point (expected: 'points.cols >= pt_dim'), where\n",
      ">     'points.cols' is 1\n",
      "> must be greater than or equal to\n",
      ">     'pt_dim' is 2\n",
      "\n",
      "Found 1\n",
      "OpenCV(4.11.0) /io/opencv/modules/calib3d/src/usac/ransac_solvers.cpp:1047: error: (-2:Unspecified error) in function 'cv::usac::mergePoints(cv::InputArray, cv::InputArray, cv::Mat&, bool)::<lambda(cv::Mat&, int)>'\n",
      "> Invalid dimension of point (expected: 'points.cols >= pt_dim'), where\n",
      ">     'points.cols' is 1\n",
      "> must be greater than or equal to\n",
      ">     'pt_dim' is 2\n",
      "\n",
      "Found 0\n",
      "OpenCV(4.11.0) /io/opencv/modules/calib3d/src/usac/ransac_solvers.cpp:1047: error: (-2:Unspecified error) in function 'cv::usac::mergePoints(cv::InputArray, cv::InputArray, cv::Mat&, bool)::<lambda(cv::Mat&, int)>'\n",
      "> Invalid dimension of point (expected: 'points.cols >= pt_dim'), where\n",
      ">     'points.cols' is 0\n",
      "> must be greater than or equal to\n",
      ">     'pt_dim' is 2\n",
      "\n",
      "Found 0\n",
      "OpenCV(4.11.0) /io/opencv/modules/calib3d/src/usac/ransac_solvers.cpp:1047: error: (-2:Unspecified error) in function 'cv::usac::mergePoints(cv::InputArray, cv::InputArray, cv::Mat&, bool)::<lambda(cv::Mat&, int)>'\n",
      "> Invalid dimension of point (expected: 'points.cols >= pt_dim'), where\n",
      ">     'points.cols' is 0\n",
      "> must be greater than or equal to\n",
      ">     'pt_dim' is 2\n",
      "\n"
     ]
    },
    {
     "name": "stderr",
     "output_type": "stream",
     "text": [
      " 74%|███████▍  | 13913/18840 [03:40<01:12, 67.94it/s]"
     ]
    },
    {
     "name": "stdout",
     "output_type": "stream",
     "text": [
      "Found 1\n",
      "OpenCV(4.11.0) /io/opencv/modules/calib3d/src/usac/ransac_solvers.cpp:1047: error: (-2:Unspecified error) in function 'cv::usac::mergePoints(cv::InputArray, cv::InputArray, cv::Mat&, bool)::<lambda(cv::Mat&, int)>'\n",
      "> Invalid dimension of point (expected: 'points.cols >= pt_dim'), where\n",
      ">     'points.cols' is 1\n",
      "> must be greater than or equal to\n",
      ">     'pt_dim' is 2\n",
      "\n",
      "Found 1\n",
      "OpenCV(4.11.0) /io/opencv/modules/calib3d/src/usac/ransac_solvers.cpp:1047: error: (-2:Unspecified error) in function 'cv::usac::mergePoints(cv::InputArray, cv::InputArray, cv::Mat&, bool)::<lambda(cv::Mat&, int)>'\n",
      "> Invalid dimension of point (expected: 'points.cols >= pt_dim'), where\n",
      ">     'points.cols' is 1\n",
      "> must be greater than or equal to\n",
      ">     'pt_dim' is 2\n",
      "\n",
      "Found 0\n",
      "OpenCV(4.11.0) /io/opencv/modules/calib3d/src/usac/ransac_solvers.cpp:1047: error: (-2:Unspecified error) in function 'cv::usac::mergePoints(cv::InputArray, cv::InputArray, cv::Mat&, bool)::<lambda(cv::Mat&, int)>'\n",
      "> Invalid dimension of point (expected: 'points.cols >= pt_dim'), where\n",
      ">     'points.cols' is 0\n",
      "> must be greater than or equal to\n",
      ">     'pt_dim' is 2\n",
      "\n",
      "Found 0\n",
      "OpenCV(4.11.0) /io/opencv/modules/calib3d/src/usac/ransac_solvers.cpp:1047: error: (-2:Unspecified error) in function 'cv::usac::mergePoints(cv::InputArray, cv::InputArray, cv::Mat&, bool)::<lambda(cv::Mat&, int)>'\n",
      "> Invalid dimension of point (expected: 'points.cols >= pt_dim'), where\n",
      ">     'points.cols' is 0\n",
      "> must be greater than or equal to\n",
      ">     'pt_dim' is 2\n",
      "\n",
      "Found 0\n",
      "OpenCV(4.11.0) /io/opencv/modules/calib3d/src/usac/ransac_solvers.cpp:1047: error: (-2:Unspecified error) in function 'cv::usac::mergePoints(cv::InputArray, cv::InputArray, cv::Mat&, bool)::<lambda(cv::Mat&, int)>'\n",
      "> Invalid dimension of point (expected: 'points.cols >= pt_dim'), where\n",
      ">     'points.cols' is 0\n",
      "> must be greater than or equal to\n",
      ">     'pt_dim' is 2\n",
      "\n",
      "Found 2\n",
      "OpenCV(4.11.0) /io/opencv/modules/calib3d/src/usac/sampler.cpp:45: error: (-215:Assertion failed) sample_size <= points_size_ in function 'setPointsSize'\n",
      "\n",
      "Found 1\n",
      "OpenCV(4.11.0) /io/opencv/modules/calib3d/src/usac/ransac_solvers.cpp:1047: error: (-2:Unspecified error) in function 'cv::usac::mergePoints(cv::InputArray, cv::InputArray, cv::Mat&, bool)::<lambda(cv::Mat&, int)>'\n",
      "> Invalid dimension of point (expected: 'points.cols >= pt_dim'), where\n",
      ">     'points.cols' is 1\n",
      "> must be greater than or equal to\n",
      ">     'pt_dim' is 2\n",
      "\n",
      "Found 0\n",
      "OpenCV(4.11.0) /io/opencv/modules/calib3d/src/usac/ransac_solvers.cpp:1047: error: (-2:Unspecified error) in function 'cv::usac::mergePoints(cv::InputArray, cv::InputArray, cv::Mat&, bool)::<lambda(cv::Mat&, int)>'\n",
      "> Invalid dimension of point (expected: 'points.cols >= pt_dim'), where\n",
      ">     'points.cols' is 0\n",
      "> must be greater than or equal to\n",
      ">     'pt_dim' is 2\n",
      "\n",
      "Found 1\n",
      "OpenCV(4.11.0) /io/opencv/modules/calib3d/src/usac/ransac_solvers.cpp:1047: error: (-2:Unspecified error) in function 'cv::usac::mergePoints(cv::InputArray, cv::InputArray, cv::Mat&, bool)::<lambda(cv::Mat&, int)>'\n",
      "> Invalid dimension of point (expected: 'points.cols >= pt_dim'), where\n",
      ">     'points.cols' is 1\n",
      "> must be greater than or equal to\n",
      ">     'pt_dim' is 2\n",
      "\n",
      "Found 5\n",
      "OpenCV(4.11.0) /io/opencv/modules/calib3d/src/usac/sampler.cpp:45: error: (-215:Assertion failed) sample_size <= points_size_ in function 'setPointsSize'\n",
      "\n",
      "Found 1\n",
      "OpenCV(4.11.0) /io/opencv/modules/calib3d/src/usac/ransac_solvers.cpp:1047: error: (-2:Unspecified error) in function 'cv::usac::mergePoints(cv::InputArray, cv::InputArray, cv::Mat&, bool)::<lambda(cv::Mat&, int)>'\n",
      "> Invalid dimension of point (expected: 'points.cols >= pt_dim'), where\n",
      ">     'points.cols' is 1\n",
      "> must be greater than or equal to\n",
      ">     'pt_dim' is 2\n",
      "\n",
      "Found 0\n",
      "OpenCV(4.11.0) /io/opencv/modules/calib3d/src/usac/ransac_solvers.cpp:1047: error: (-2:Unspecified error) in function 'cv::usac::mergePoints(cv::InputArray, cv::InputArray, cv::Mat&, bool)::<lambda(cv::Mat&, int)>'\n",
      "> Invalid dimension of point (expected: 'points.cols >= pt_dim'), where\n",
      ">     'points.cols' is 0\n",
      "> must be greater than or equal to\n",
      ">     'pt_dim' is 2\n",
      "\n",
      "Found 0\n",
      "OpenCV(4.11.0) /io/opencv/modules/calib3d/src/usac/ransac_solvers.cpp:1047: error: (-2:Unspecified error) in function 'cv::usac::mergePoints(cv::InputArray, cv::InputArray, cv::Mat&, bool)::<lambda(cv::Mat&, int)>'\n",
      "> Invalid dimension of point (expected: 'points.cols >= pt_dim'), where\n",
      ">     'points.cols' is 0\n",
      "> must be greater than or equal to\n",
      ">     'pt_dim' is 2\n",
      "\n",
      "Found 0\n",
      "OpenCV(4.11.0) /io/opencv/modules/calib3d/src/usac/ransac_solvers.cpp:1047: error: (-2:Unspecified error) in function 'cv::usac::mergePoints(cv::InputArray, cv::InputArray, cv::Mat&, bool)::<lambda(cv::Mat&, int)>'\n",
      "> Invalid dimension of point (expected: 'points.cols >= pt_dim'), where\n",
      ">     'points.cols' is 0\n",
      "> must be greater than or equal to\n",
      ">     'pt_dim' is 2\n",
      "\n"
     ]
    },
    {
     "name": "stderr",
     "output_type": "stream",
     "text": [
      " 74%|███████▍  | 13927/18840 [03:41<01:15, 65.03it/s]"
     ]
    },
    {
     "name": "stdout",
     "output_type": "stream",
     "text": [
      "Found 0\n",
      "OpenCV(4.11.0) /io/opencv/modules/calib3d/src/usac/ransac_solvers.cpp:1047: error: (-2:Unspecified error) in function 'cv::usac::mergePoints(cv::InputArray, cv::InputArray, cv::Mat&, bool)::<lambda(cv::Mat&, int)>'\n",
      "> Invalid dimension of point (expected: 'points.cols >= pt_dim'), where\n",
      ">     'points.cols' is 0\n",
      "> must be greater than or equal to\n",
      ">     'pt_dim' is 2\n",
      "\n",
      "Found 1\n",
      "OpenCV(4.11.0) /io/opencv/modules/calib3d/src/usac/ransac_solvers.cpp:1047: error: (-2:Unspecified error) in function 'cv::usac::mergePoints(cv::InputArray, cv::InputArray, cv::Mat&, bool)::<lambda(cv::Mat&, int)>'\n",
      "> Invalid dimension of point (expected: 'points.cols >= pt_dim'), where\n",
      ">     'points.cols' is 1\n",
      "> must be greater than or equal to\n",
      ">     'pt_dim' is 2\n",
      "\n",
      "Found 1\n",
      "OpenCV(4.11.0) /io/opencv/modules/calib3d/src/usac/ransac_solvers.cpp:1047: error: (-2:Unspecified error) in function 'cv::usac::mergePoints(cv::InputArray, cv::InputArray, cv::Mat&, bool)::<lambda(cv::Mat&, int)>'\n",
      "> Invalid dimension of point (expected: 'points.cols >= pt_dim'), where\n",
      ">     'points.cols' is 1\n",
      "> must be greater than or equal to\n",
      ">     'pt_dim' is 2\n",
      "\n",
      "Found 0\n",
      "OpenCV(4.11.0) /io/opencv/modules/calib3d/src/usac/ransac_solvers.cpp:1047: error: (-2:Unspecified error) in function 'cv::usac::mergePoints(cv::InputArray, cv::InputArray, cv::Mat&, bool)::<lambda(cv::Mat&, int)>'\n",
      "> Invalid dimension of point (expected: 'points.cols >= pt_dim'), where\n",
      ">     'points.cols' is 0\n",
      "> must be greater than or equal to\n",
      ">     'pt_dim' is 2\n",
      "\n",
      "Found 0\n",
      "OpenCV(4.11.0) /io/opencv/modules/calib3d/src/usac/ransac_solvers.cpp:1047: error: (-2:Unspecified error) in function 'cv::usac::mergePoints(cv::InputArray, cv::InputArray, cv::Mat&, bool)::<lambda(cv::Mat&, int)>'\n",
      "> Invalid dimension of point (expected: 'points.cols >= pt_dim'), where\n",
      ">     'points.cols' is 0\n",
      "> must be greater than or equal to\n",
      ">     'pt_dim' is 2\n",
      "\n"
     ]
    },
    {
     "name": "stderr",
     "output_type": "stream",
     "text": [
      " 74%|███████▍  | 14014/18840 [03:42<01:24, 56.90it/s]"
     ]
    },
    {
     "name": "stdout",
     "output_type": "stream",
     "text": [
      "Found 5\n",
      "OpenCV(4.11.0) /io/opencv/modules/calib3d/src/usac/sampler.cpp:45: error: (-215:Assertion failed) sample_size <= points_size_ in function 'setPointsSize'\n",
      "\n",
      "Found 1\n",
      "OpenCV(4.11.0) /io/opencv/modules/calib3d/src/usac/ransac_solvers.cpp:1047: error: (-2:Unspecified error) in function 'cv::usac::mergePoints(cv::InputArray, cv::InputArray, cv::Mat&, bool)::<lambda(cv::Mat&, int)>'\n",
      "> Invalid dimension of point (expected: 'points.cols >= pt_dim'), where\n",
      ">     'points.cols' is 1\n",
      "> must be greater than or equal to\n",
      ">     'pt_dim' is 2\n",
      "\n"
     ]
    },
    {
     "name": "stderr",
     "output_type": "stream",
     "text": [
      " 75%|███████▍  | 14116/18840 [03:44<01:21, 57.72it/s]"
     ]
    },
    {
     "name": "stdout",
     "output_type": "stream",
     "text": [
      "Found 0\n",
      "OpenCV(4.11.0) /io/opencv/modules/calib3d/src/usac/ransac_solvers.cpp:1047: error: (-2:Unspecified error) in function 'cv::usac::mergePoints(cv::InputArray, cv::InputArray, cv::Mat&, bool)::<lambda(cv::Mat&, int)>'\n",
      "> Invalid dimension of point (expected: 'points.cols >= pt_dim'), where\n",
      ">     'points.cols' is 0\n",
      "> must be greater than or equal to\n",
      ">     'pt_dim' is 2\n",
      "\n"
     ]
    },
    {
     "name": "stderr",
     "output_type": "stream",
     "text": [
      " 75%|███████▌  | 14207/18840 [03:45<00:38, 120.11it/s]"
     ]
    },
    {
     "name": "stdout",
     "output_type": "stream",
     "text": [
      "Found 5\n",
      "OpenCV(4.11.0) /io/opencv/modules/calib3d/src/usac/sampler.cpp:45: error: (-215:Assertion failed) sample_size <= points_size_ in function 'setPointsSize'\n",
      "\n",
      "Found 1\n",
      "OpenCV(4.11.0) /io/opencv/modules/calib3d/src/usac/ransac_solvers.cpp:1047: error: (-2:Unspecified error) in function 'cv::usac::mergePoints(cv::InputArray, cv::InputArray, cv::Mat&, bool)::<lambda(cv::Mat&, int)>'\n",
      "> Invalid dimension of point (expected: 'points.cols >= pt_dim'), where\n",
      ">     'points.cols' is 1\n",
      "> must be greater than or equal to\n",
      ">     'pt_dim' is 2\n",
      "\n",
      "Found 0\n",
      "OpenCV(4.11.0) /io/opencv/modules/calib3d/src/usac/ransac_solvers.cpp:1047: error: (-2:Unspecified error) in function 'cv::usac::mergePoints(cv::InputArray, cv::InputArray, cv::Mat&, bool)::<lambda(cv::Mat&, int)>'\n",
      "> Invalid dimension of point (expected: 'points.cols >= pt_dim'), where\n",
      ">     'points.cols' is 0\n",
      "> must be greater than or equal to\n",
      ">     'pt_dim' is 2\n",
      "\n",
      "Found 0\n",
      "OpenCV(4.11.0) /io/opencv/modules/calib3d/src/usac/ransac_solvers.cpp:1047: error: (-2:Unspecified error) in function 'cv::usac::mergePoints(cv::InputArray, cv::InputArray, cv::Mat&, bool)::<lambda(cv::Mat&, int)>'\n",
      "> Invalid dimension of point (expected: 'points.cols >= pt_dim'), where\n",
      ">     'points.cols' is 0\n",
      "> must be greater than or equal to\n",
      ">     'pt_dim' is 2\n",
      "\n",
      "Found 3\n",
      "OpenCV(4.11.0) /io/opencv/modules/calib3d/src/usac/sampler.cpp:45: error: (-215:Assertion failed) sample_size <= points_size_ in function 'setPointsSize'\n",
      "\n",
      "Found 4\n",
      "OpenCV(4.11.0) /io/opencv/modules/calib3d/src/usac/sampler.cpp:45: error: (-215:Assertion failed) sample_size <= points_size_ in function 'setPointsSize'\n",
      "\n",
      "Found 2\n",
      "OpenCV(4.11.0) /io/opencv/modules/calib3d/src/usac/sampler.cpp:45: error: (-215:Assertion failed) sample_size <= points_size_ in function 'setPointsSize'\n",
      "\n",
      "Found 3\n",
      "OpenCV(4.11.0) /io/opencv/modules/calib3d/src/usac/sampler.cpp:45: error: (-215:Assertion failed) sample_size <= points_size_ in function 'setPointsSize'\n",
      "\n",
      "Found 3\n",
      "OpenCV(4.11.0) /io/opencv/modules/calib3d/src/usac/sampler.cpp:45: error: (-215:Assertion failed) sample_size <= points_size_ in function 'setPointsSize'\n",
      "\n",
      "Found 3\n",
      "OpenCV(4.11.0) /io/opencv/modules/calib3d/src/usac/sampler.cpp:45: error: (-215:Assertion failed) sample_size <= points_size_ in function 'setPointsSize'\n",
      "\n",
      "Found 0\n",
      "OpenCV(4.11.0) /io/opencv/modules/calib3d/src/usac/ransac_solvers.cpp:1047: error: (-2:Unspecified error) in function 'cv::usac::mergePoints(cv::InputArray, cv::InputArray, cv::Mat&, bool)::<lambda(cv::Mat&, int)>'\n",
      "> Invalid dimension of point (expected: 'points.cols >= pt_dim'), where\n",
      ">     'points.cols' is 0\n",
      "> must be greater than or equal to\n",
      ">     'pt_dim' is 2\n",
      "\n",
      "Found 6\n",
      "OpenCV(4.11.0) /io/opencv/modules/calib3d/src/usac/sampler.cpp:45: error: (-215:Assertion failed) sample_size <= points_size_ in function 'setPointsSize'\n",
      "\n",
      "Found 1\n",
      "OpenCV(4.11.0) /io/opencv/modules/calib3d/src/usac/ransac_solvers.cpp:1047: error: (-2:Unspecified error) in function 'cv::usac::mergePoints(cv::InputArray, cv::InputArray, cv::Mat&, bool)::<lambda(cv::Mat&, int)>'\n",
      "> Invalid dimension of point (expected: 'points.cols >= pt_dim'), where\n",
      ">     'points.cols' is 1\n",
      "> must be greater than or equal to\n",
      ">     'pt_dim' is 2\n",
      "\n",
      "Found 1\n",
      "OpenCV(4.11.0) /io/opencv/modules/calib3d/src/usac/ransac_solvers.cpp:1047: error: (-2:Unspecified error) in function 'cv::usac::mergePoints(cv::InputArray, cv::InputArray, cv::Mat&, bool)::<lambda(cv::Mat&, int)>'\n",
      "> Invalid dimension of point (expected: 'points.cols >= pt_dim'), where\n",
      ">     'points.cols' is 1\n",
      "> must be greater than or equal to\n",
      ">     'pt_dim' is 2\n",
      "\n",
      "Found 5\n",
      "OpenCV(4.11.0) /io/opencv/modules/calib3d/src/usac/sampler.cpp:45: error: (-215:Assertion failed) sample_size <= points_size_ in function 'setPointsSize'\n",
      "\n",
      "Found 1\n",
      "OpenCV(4.11.0) /io/opencv/modules/calib3d/src/usac/ransac_solvers.cpp:1047: error: (-2:Unspecified error) in function 'cv::usac::mergePoints(cv::InputArray, cv::InputArray, cv::Mat&, bool)::<lambda(cv::Mat&, int)>'\n",
      "> Invalid dimension of point (expected: 'points.cols >= pt_dim'), where\n",
      ">     'points.cols' is 1\n",
      "> must be greater than or equal to\n",
      ">     'pt_dim' is 2\n",
      "\n",
      "Found 4\n",
      "OpenCV(4.11.0) /io/opencv/modules/calib3d/src/usac/sampler.cpp:45: error: (-215:Assertion failed) sample_size <= points_size_ in function 'setPointsSize'\n",
      "\n"
     ]
    },
    {
     "name": "stderr",
     "output_type": "stream",
     "text": [
      " 76%|███████▌  | 14253/18840 [03:45<00:26, 171.73it/s]"
     ]
    },
    {
     "name": "stdout",
     "output_type": "stream",
     "text": [
      "Found 4\n",
      "OpenCV(4.11.0) /io/opencv/modules/calib3d/src/usac/sampler.cpp:45: error: (-215:Assertion failed) sample_size <= points_size_ in function 'setPointsSize'\n",
      "\n",
      "Found 0\n",
      "OpenCV(4.11.0) /io/opencv/modules/calib3d/src/usac/ransac_solvers.cpp:1047: error: (-2:Unspecified error) in function 'cv::usac::mergePoints(cv::InputArray, cv::InputArray, cv::Mat&, bool)::<lambda(cv::Mat&, int)>'\n",
      "> Invalid dimension of point (expected: 'points.cols >= pt_dim'), where\n",
      ">     'points.cols' is 0\n",
      "> must be greater than or equal to\n",
      ">     'pt_dim' is 2\n",
      "\n",
      "Found 0\n",
      "OpenCV(4.11.0) /io/opencv/modules/calib3d/src/usac/ransac_solvers.cpp:1047: error: (-2:Unspecified error) in function 'cv::usac::mergePoints(cv::InputArray, cv::InputArray, cv::Mat&, bool)::<lambda(cv::Mat&, int)>'\n",
      "> Invalid dimension of point (expected: 'points.cols >= pt_dim'), where\n",
      ">     'points.cols' is 0\n",
      "> must be greater than or equal to\n",
      ">     'pt_dim' is 2\n",
      "\n",
      "Found 0\n",
      "OpenCV(4.11.0) /io/opencv/modules/calib3d/src/usac/ransac_solvers.cpp:1047: error: (-2:Unspecified error) in function 'cv::usac::mergePoints(cv::InputArray, cv::InputArray, cv::Mat&, bool)::<lambda(cv::Mat&, int)>'\n",
      "> Invalid dimension of point (expected: 'points.cols >= pt_dim'), where\n",
      ">     'points.cols' is 0\n",
      "> must be greater than or equal to\n",
      ">     'pt_dim' is 2\n",
      "\n",
      "Found 4\n",
      "OpenCV(4.11.0) /io/opencv/modules/calib3d/src/usac/sampler.cpp:45: error: (-215:Assertion failed) sample_size <= points_size_ in function 'setPointsSize'\n",
      "\n",
      "Found 0\n",
      "OpenCV(4.11.0) /io/opencv/modules/calib3d/src/usac/ransac_solvers.cpp:1047: error: (-2:Unspecified error) in function 'cv::usac::mergePoints(cv::InputArray, cv::InputArray, cv::Mat&, bool)::<lambda(cv::Mat&, int)>'\n",
      "> Invalid dimension of point (expected: 'points.cols >= pt_dim'), where\n",
      ">     'points.cols' is 0\n",
      "> must be greater than or equal to\n",
      ">     'pt_dim' is 2\n",
      "\n",
      "Found 0\n",
      "OpenCV(4.11.0) /io/opencv/modules/calib3d/src/usac/ransac_solvers.cpp:1047: error: (-2:Unspecified error) in function 'cv::usac::mergePoints(cv::InputArray, cv::InputArray, cv::Mat&, bool)::<lambda(cv::Mat&, int)>'\n",
      "> Invalid dimension of point (expected: 'points.cols >= pt_dim'), where\n",
      ">     'points.cols' is 0\n",
      "> must be greater than or equal to\n",
      ">     'pt_dim' is 2\n",
      "\n",
      "Found 0\n",
      "OpenCV(4.11.0) /io/opencv/modules/calib3d/src/usac/ransac_solvers.cpp:1047: error: (-2:Unspecified error) in function 'cv::usac::mergePoints(cv::InputArray, cv::InputArray, cv::Mat&, bool)::<lambda(cv::Mat&, int)>'\n",
      "> Invalid dimension of point (expected: 'points.cols >= pt_dim'), where\n",
      ">     'points.cols' is 0\n",
      "> must be greater than or equal to\n",
      ">     'pt_dim' is 2\n",
      "\n",
      "Found 3\n",
      "OpenCV(4.11.0) /io/opencv/modules/calib3d/src/usac/sampler.cpp:45: error: (-215:Assertion failed) sample_size <= points_size_ in function 'setPointsSize'\n",
      "\n",
      "Found 6\n",
      "OpenCV(4.11.0) /io/opencv/modules/calib3d/src/usac/sampler.cpp:45: error: (-215:Assertion failed) sample_size <= points_size_ in function 'setPointsSize'\n",
      "\n",
      "Found 6\n",
      "OpenCV(4.11.0) /io/opencv/modules/calib3d/src/usac/sampler.cpp:45: error: (-215:Assertion failed) sample_size <= points_size_ in function 'setPointsSize'\n",
      "\n",
      "Found 0\n",
      "OpenCV(4.11.0) /io/opencv/modules/calib3d/src/usac/ransac_solvers.cpp:1047: error: (-2:Unspecified error) in function 'cv::usac::mergePoints(cv::InputArray, cv::InputArray, cv::Mat&, bool)::<lambda(cv::Mat&, int)>'\n",
      "> Invalid dimension of point (expected: 'points.cols >= pt_dim'), where\n",
      ">     'points.cols' is 0\n",
      "> must be greater than or equal to\n",
      ">     'pt_dim' is 2\n",
      "\n"
     ]
    },
    {
     "name": "stderr",
     "output_type": "stream",
     "text": [
      " 76%|███████▌  | 14290/18840 [03:46<00:26, 173.35it/s]"
     ]
    },
    {
     "name": "stdout",
     "output_type": "stream",
     "text": [
      "Found 0\n",
      "OpenCV(4.11.0) /io/opencv/modules/calib3d/src/usac/ransac_solvers.cpp:1047: error: (-2:Unspecified error) in function 'cv::usac::mergePoints(cv::InputArray, cv::InputArray, cv::Mat&, bool)::<lambda(cv::Mat&, int)>'\n",
      "> Invalid dimension of point (expected: 'points.cols >= pt_dim'), where\n",
      ">     'points.cols' is 0\n",
      "> must be greater than or equal to\n",
      ">     'pt_dim' is 2\n",
      "\n",
      "Found 0\n",
      "OpenCV(4.11.0) /io/opencv/modules/calib3d/src/usac/ransac_solvers.cpp:1047: error: (-2:Unspecified error) in function 'cv::usac::mergePoints(cv::InputArray, cv::InputArray, cv::Mat&, bool)::<lambda(cv::Mat&, int)>'\n",
      "> Invalid dimension of point (expected: 'points.cols >= pt_dim'), where\n",
      ">     'points.cols' is 0\n",
      "> must be greater than or equal to\n",
      ">     'pt_dim' is 2\n",
      "\n"
     ]
    },
    {
     "name": "stderr",
     "output_type": "stream",
     "text": [
      " 76%|███████▌  | 14325/18840 [03:46<00:27, 161.89it/s]"
     ]
    },
    {
     "name": "stdout",
     "output_type": "stream",
     "text": [
      "Found 2\n",
      "OpenCV(4.11.0) /io/opencv/modules/calib3d/src/usac/sampler.cpp:45: error: (-215:Assertion failed) sample_size <= points_size_ in function 'setPointsSize'\n",
      "\n",
      "Found 0\n",
      "OpenCV(4.11.0) /io/opencv/modules/calib3d/src/usac/ransac_solvers.cpp:1047: error: (-2:Unspecified error) in function 'cv::usac::mergePoints(cv::InputArray, cv::InputArray, cv::Mat&, bool)::<lambda(cv::Mat&, int)>'\n",
      "> Invalid dimension of point (expected: 'points.cols >= pt_dim'), where\n",
      ">     'points.cols' is 0\n",
      "> must be greater than or equal to\n",
      ">     'pt_dim' is 2\n",
      "\n",
      "Found 1\n",
      "OpenCV(4.11.0) /io/opencv/modules/calib3d/src/usac/ransac_solvers.cpp:1047: error: (-2:Unspecified error) in function 'cv::usac::mergePoints(cv::InputArray, cv::InputArray, cv::Mat&, bool)::<lambda(cv::Mat&, int)>'\n",
      "> Invalid dimension of point (expected: 'points.cols >= pt_dim'), where\n",
      ">     'points.cols' is 1\n",
      "> must be greater than or equal to\n",
      ">     'pt_dim' is 2\n",
      "\n"
     ]
    },
    {
     "name": "stderr",
     "output_type": "stream",
     "text": [
      " 76%|███████▌  | 14359/18840 [03:46<00:32, 137.46it/s]"
     ]
    },
    {
     "name": "stdout",
     "output_type": "stream",
     "text": [
      "Found 0\n",
      "OpenCV(4.11.0) /io/opencv/modules/calib3d/src/usac/ransac_solvers.cpp:1047: error: (-2:Unspecified error) in function 'cv::usac::mergePoints(cv::InputArray, cv::InputArray, cv::Mat&, bool)::<lambda(cv::Mat&, int)>'\n",
      "> Invalid dimension of point (expected: 'points.cols >= pt_dim'), where\n",
      ">     'points.cols' is 0\n",
      "> must be greater than or equal to\n",
      ">     'pt_dim' is 2\n",
      "\n",
      "Found 2\n",
      "OpenCV(4.11.0) /io/opencv/modules/calib3d/src/usac/sampler.cpp:45: error: (-215:Assertion failed) sample_size <= points_size_ in function 'setPointsSize'\n",
      "\n"
     ]
    },
    {
     "name": "stderr",
     "output_type": "stream",
     "text": [
      " 77%|███████▋  | 14445/18840 [03:47<00:46, 95.01it/s] "
     ]
    },
    {
     "name": "stdout",
     "output_type": "stream",
     "text": [
      "Found 0\n",
      "OpenCV(4.11.0) /io/opencv/modules/calib3d/src/usac/ransac_solvers.cpp:1047: error: (-2:Unspecified error) in function 'cv::usac::mergePoints(cv::InputArray, cv::InputArray, cv::Mat&, bool)::<lambda(cv::Mat&, int)>'\n",
      "> Invalid dimension of point (expected: 'points.cols >= pt_dim'), where\n",
      ">     'points.cols' is 0\n",
      "> must be greater than or equal to\n",
      ">     'pt_dim' is 2\n",
      "\n",
      "Found 0\n",
      "OpenCV(4.11.0) /io/opencv/modules/calib3d/src/usac/ransac_solvers.cpp:1047: error: (-2:Unspecified error) in function 'cv::usac::mergePoints(cv::InputArray, cv::InputArray, cv::Mat&, bool)::<lambda(cv::Mat&, int)>'\n",
      "> Invalid dimension of point (expected: 'points.cols >= pt_dim'), where\n",
      ">     'points.cols' is 0\n",
      "> must be greater than or equal to\n",
      ">     'pt_dim' is 2\n",
      "\n"
     ]
    },
    {
     "name": "stderr",
     "output_type": "stream",
     "text": [
      " 78%|███████▊  | 14612/18840 [03:50<01:18, 53.63it/s]"
     ]
    },
    {
     "name": "stdout",
     "output_type": "stream",
     "text": [
      "Found 0\n",
      "OpenCV(4.11.0) /io/opencv/modules/calib3d/src/usac/ransac_solvers.cpp:1047: error: (-2:Unspecified error) in function 'cv::usac::mergePoints(cv::InputArray, cv::InputArray, cv::Mat&, bool)::<lambda(cv::Mat&, int)>'\n",
      "> Invalid dimension of point (expected: 'points.cols >= pt_dim'), where\n",
      ">     'points.cols' is 0\n",
      "> must be greater than or equal to\n",
      ">     'pt_dim' is 2\n",
      "\n"
     ]
    },
    {
     "name": "stderr",
     "output_type": "stream",
     "text": [
      " 78%|███████▊  | 14636/18840 [03:50<01:21, 51.79it/s]"
     ]
    },
    {
     "name": "stdout",
     "output_type": "stream",
     "text": [
      "Found 0\n",
      "OpenCV(4.11.0) /io/opencv/modules/calib3d/src/usac/ransac_solvers.cpp:1047: error: (-2:Unspecified error) in function 'cv::usac::mergePoints(cv::InputArray, cv::InputArray, cv::Mat&, bool)::<lambda(cv::Mat&, int)>'\n",
      "> Invalid dimension of point (expected: 'points.cols >= pt_dim'), where\n",
      ">     'points.cols' is 0\n",
      "> must be greater than or equal to\n",
      ">     'pt_dim' is 2\n",
      "\n"
     ]
    },
    {
     "name": "stderr",
     "output_type": "stream",
     "text": [
      " 78%|███████▊  | 14647/18840 [03:51<01:26, 48.34it/s]"
     ]
    },
    {
     "name": "stdout",
     "output_type": "stream",
     "text": [
      "Found 0\n",
      "OpenCV(4.11.0) /io/opencv/modules/calib3d/src/usac/ransac_solvers.cpp:1047: error: (-2:Unspecified error) in function 'cv::usac::mergePoints(cv::InputArray, cv::InputArray, cv::Mat&, bool)::<lambda(cv::Mat&, int)>'\n",
      "> Invalid dimension of point (expected: 'points.cols >= pt_dim'), where\n",
      ">     'points.cols' is 0\n",
      "> must be greater than or equal to\n",
      ">     'pt_dim' is 2\n",
      "\n"
     ]
    },
    {
     "name": "stderr",
     "output_type": "stream",
     "text": [
      " 78%|███████▊  | 14677/18840 [03:51<01:21, 51.34it/s]"
     ]
    },
    {
     "name": "stdout",
     "output_type": "stream",
     "text": [
      "Found 0\n",
      "OpenCV(4.11.0) /io/opencv/modules/calib3d/src/usac/ransac_solvers.cpp:1047: error: (-2:Unspecified error) in function 'cv::usac::mergePoints(cv::InputArray, cv::InputArray, cv::Mat&, bool)::<lambda(cv::Mat&, int)>'\n",
      "> Invalid dimension of point (expected: 'points.cols >= pt_dim'), where\n",
      ">     'points.cols' is 0\n",
      "> must be greater than or equal to\n",
      ">     'pt_dim' is 2\n",
      "\n"
     ]
    },
    {
     "name": "stderr",
     "output_type": "stream",
     "text": [
      " 78%|███████▊  | 14725/18840 [03:52<01:17, 52.87it/s]"
     ]
    },
    {
     "name": "stdout",
     "output_type": "stream",
     "text": [
      "Found 0\n",
      "OpenCV(4.11.0) /io/opencv/modules/calib3d/src/usac/ransac_solvers.cpp:1047: error: (-2:Unspecified error) in function 'cv::usac::mergePoints(cv::InputArray, cv::InputArray, cv::Mat&, bool)::<lambda(cv::Mat&, int)>'\n",
      "> Invalid dimension of point (expected: 'points.cols >= pt_dim'), where\n",
      ">     'points.cols' is 0\n",
      "> must be greater than or equal to\n",
      ">     'pt_dim' is 2\n",
      "\n"
     ]
    },
    {
     "name": "stderr",
     "output_type": "stream",
     "text": [
      " 78%|███████▊  | 14737/18840 [03:52<01:18, 52.45it/s]"
     ]
    },
    {
     "name": "stdout",
     "output_type": "stream",
     "text": [
      "Found 0\n",
      "OpenCV(4.11.0) /io/opencv/modules/calib3d/src/usac/ransac_solvers.cpp:1047: error: (-2:Unspecified error) in function 'cv::usac::mergePoints(cv::InputArray, cv::InputArray, cv::Mat&, bool)::<lambda(cv::Mat&, int)>'\n",
      "> Invalid dimension of point (expected: 'points.cols >= pt_dim'), where\n",
      ">     'points.cols' is 0\n",
      "> must be greater than or equal to\n",
      ">     'pt_dim' is 2\n",
      "\n"
     ]
    },
    {
     "name": "stderr",
     "output_type": "stream",
     "text": [
      " 78%|███████▊  | 14767/18840 [03:53<01:18, 51.64it/s]"
     ]
    },
    {
     "name": "stdout",
     "output_type": "stream",
     "text": [
      "Found 0\n",
      "OpenCV(4.11.0) /io/opencv/modules/calib3d/src/usac/ransac_solvers.cpp:1047: error: (-2:Unspecified error) in function 'cv::usac::mergePoints(cv::InputArray, cv::InputArray, cv::Mat&, bool)::<lambda(cv::Mat&, int)>'\n",
      "> Invalid dimension of point (expected: 'points.cols >= pt_dim'), where\n",
      ">     'points.cols' is 0\n",
      "> must be greater than or equal to\n",
      ">     'pt_dim' is 2\n",
      "\n"
     ]
    },
    {
     "name": "stderr",
     "output_type": "stream",
     "text": [
      " 79%|███████▊  | 14815/18840 [03:54<01:13, 54.77it/s]"
     ]
    },
    {
     "name": "stdout",
     "output_type": "stream",
     "text": [
      "Found 0\n",
      "OpenCV(4.11.0) /io/opencv/modules/calib3d/src/usac/ransac_solvers.cpp:1047: error: (-2:Unspecified error) in function 'cv::usac::mergePoints(cv::InputArray, cv::InputArray, cv::Mat&, bool)::<lambda(cv::Mat&, int)>'\n",
      "> Invalid dimension of point (expected: 'points.cols >= pt_dim'), where\n",
      ">     'points.cols' is 0\n",
      "> must be greater than or equal to\n",
      ">     'pt_dim' is 2\n",
      "\n"
     ]
    },
    {
     "name": "stderr",
     "output_type": "stream",
     "text": [
      " 79%|███████▊  | 14827/18840 [03:54<01:14, 53.67it/s]"
     ]
    },
    {
     "name": "stdout",
     "output_type": "stream",
     "text": [
      "Found 1\n",
      "OpenCV(4.11.0) /io/opencv/modules/calib3d/src/usac/ransac_solvers.cpp:1047: error: (-2:Unspecified error) in function 'cv::usac::mergePoints(cv::InputArray, cv::InputArray, cv::Mat&, bool)::<lambda(cv::Mat&, int)>'\n",
      "> Invalid dimension of point (expected: 'points.cols >= pt_dim'), where\n",
      ">     'points.cols' is 1\n",
      "> must be greater than or equal to\n",
      ">     'pt_dim' is 2\n",
      "\n"
     ]
    },
    {
     "name": "stderr",
     "output_type": "stream",
     "text": [
      " 79%|███████▉  | 14857/18840 [03:55<01:14, 53.53it/s]"
     ]
    },
    {
     "name": "stdout",
     "output_type": "stream",
     "text": [
      "Found 0\n",
      "OpenCV(4.11.0) /io/opencv/modules/calib3d/src/usac/ransac_solvers.cpp:1047: error: (-2:Unspecified error) in function 'cv::usac::mergePoints(cv::InputArray, cv::InputArray, cv::Mat&, bool)::<lambda(cv::Mat&, int)>'\n",
      "> Invalid dimension of point (expected: 'points.cols >= pt_dim'), where\n",
      ">     'points.cols' is 0\n",
      "> must be greater than or equal to\n",
      ">     'pt_dim' is 2\n",
      "\n"
     ]
    },
    {
     "name": "stderr",
     "output_type": "stream",
     "text": [
      " 79%|███████▉  | 14965/18840 [03:57<01:11, 54.49it/s]"
     ]
    },
    {
     "name": "stdout",
     "output_type": "stream",
     "text": [
      "Found 1\n",
      "OpenCV(4.11.0) /io/opencv/modules/calib3d/src/usac/ransac_solvers.cpp:1047: error: (-2:Unspecified error) in function 'cv::usac::mergePoints(cv::InputArray, cv::InputArray, cv::Mat&, bool)::<lambda(cv::Mat&, int)>'\n",
      "> Invalid dimension of point (expected: 'points.cols >= pt_dim'), where\n",
      ">     'points.cols' is 1\n",
      "> must be greater than or equal to\n",
      ">     'pt_dim' is 2\n",
      "\n",
      "Found 0\n",
      "OpenCV(4.11.0) /io/opencv/modules/calib3d/src/usac/ransac_solvers.cpp:1047: error: (-2:Unspecified error) in function 'cv::usac::mergePoints(cv::InputArray, cv::InputArray, cv::Mat&, bool)::<lambda(cv::Mat&, int)>'\n",
      "> Invalid dimension of point (expected: 'points.cols >= pt_dim'), where\n",
      ">     'points.cols' is 0\n",
      "> must be greater than or equal to\n",
      ">     'pt_dim' is 2\n",
      "\n"
     ]
    },
    {
     "name": "stderr",
     "output_type": "stream",
     "text": [
      " 80%|████████  | 15140/18840 [04:00<01:05, 56.45it/s]"
     ]
    },
    {
     "name": "stdout",
     "output_type": "stream",
     "text": [
      "Found 2\n",
      "OpenCV(4.11.0) /io/opencv/modules/calib3d/src/usac/sampler.cpp:45: error: (-215:Assertion failed) sample_size <= points_size_ in function 'setPointsSize'\n",
      "\n"
     ]
    },
    {
     "name": "stderr",
     "output_type": "stream",
     "text": [
      " 82%|████████▏ | 15357/18840 [04:03<00:25, 134.16it/s]"
     ]
    },
    {
     "name": "stdout",
     "output_type": "stream",
     "text": [
      "Found 2\n",
      "OpenCV(4.11.0) /io/opencv/modules/calib3d/src/usac/sampler.cpp:45: error: (-215:Assertion failed) sample_size <= points_size_ in function 'setPointsSize'\n",
      "\n"
     ]
    },
    {
     "name": "stderr",
     "output_type": "stream",
     "text": [
      " 82%|████████▏ | 15414/18840 [04:03<00:20, 170.00it/s]"
     ]
    },
    {
     "name": "stdout",
     "output_type": "stream",
     "text": [
      "Found 0\n",
      "OpenCV(4.11.0) /io/opencv/modules/calib3d/src/usac/ransac_solvers.cpp:1047: error: (-2:Unspecified error) in function 'cv::usac::mergePoints(cv::InputArray, cv::InputArray, cv::Mat&, bool)::<lambda(cv::Mat&, int)>'\n",
      "> Invalid dimension of point (expected: 'points.cols >= pt_dim'), where\n",
      ">     'points.cols' is 0\n",
      "> must be greater than or equal to\n",
      ">     'pt_dim' is 2\n",
      "\n",
      "Found 0\n",
      "OpenCV(4.11.0) /io/opencv/modules/calib3d/src/usac/ransac_solvers.cpp:1047: error: (-2:Unspecified error) in function 'cv::usac::mergePoints(cv::InputArray, cv::InputArray, cv::Mat&, bool)::<lambda(cv::Mat&, int)>'\n",
      "> Invalid dimension of point (expected: 'points.cols >= pt_dim'), where\n",
      ">     'points.cols' is 0\n",
      "> must be greater than or equal to\n",
      ">     'pt_dim' is 2\n",
      "\n"
     ]
    },
    {
     "name": "stderr",
     "output_type": "stream",
     "text": [
      " 82%|████████▏ | 15474/18840 [04:04<00:18, 181.54it/s]"
     ]
    },
    {
     "name": "stdout",
     "output_type": "stream",
     "text": [
      "Found 0\n",
      "OpenCV(4.11.0) /io/opencv/modules/calib3d/src/usac/ransac_solvers.cpp:1047: error: (-2:Unspecified error) in function 'cv::usac::mergePoints(cv::InputArray, cv::InputArray, cv::Mat&, bool)::<lambda(cv::Mat&, int)>'\n",
      "> Invalid dimension of point (expected: 'points.cols >= pt_dim'), where\n",
      ">     'points.cols' is 0\n",
      "> must be greater than or equal to\n",
      ">     'pt_dim' is 2\n",
      "\n",
      "Found 5\n",
      "OpenCV(4.11.0) /io/opencv/modules/calib3d/src/usac/sampler.cpp:45: error: (-215:Assertion failed) sample_size <= points_size_ in function 'setPointsSize'\n",
      "\n"
     ]
    },
    {
     "name": "stderr",
     "output_type": "stream",
     "text": [
      " 83%|████████▎ | 15695/18840 [04:07<00:57, 54.79it/s] "
     ]
    },
    {
     "name": "stdout",
     "output_type": "stream",
     "text": [
      "Found 0\n",
      "OpenCV(4.11.0) /io/opencv/modules/calib3d/src/usac/ransac_solvers.cpp:1047: error: (-2:Unspecified error) in function 'cv::usac::mergePoints(cv::InputArray, cv::InputArray, cv::Mat&, bool)::<lambda(cv::Mat&, int)>'\n",
      "> Invalid dimension of point (expected: 'points.cols >= pt_dim'), where\n",
      ">     'points.cols' is 0\n",
      "> must be greater than or equal to\n",
      ">     'pt_dim' is 2\n",
      "\n"
     ]
    },
    {
     "name": "stderr",
     "output_type": "stream",
     "text": [
      " 84%|████████▎ | 15738/18840 [04:08<00:25, 119.39it/s]"
     ]
    },
    {
     "name": "stdout",
     "output_type": "stream",
     "text": [
      "Found 0\n",
      "OpenCV(4.11.0) /io/opencv/modules/calib3d/src/usac/ransac_solvers.cpp:1047: error: (-2:Unspecified error) in function 'cv::usac::mergePoints(cv::InputArray, cv::InputArray, cv::Mat&, bool)::<lambda(cv::Mat&, int)>'\n",
      "> Invalid dimension of point (expected: 'points.cols >= pt_dim'), where\n",
      ">     'points.cols' is 0\n",
      "> must be greater than or equal to\n",
      ">     'pt_dim' is 2\n",
      "\n",
      "Found 0\n",
      "OpenCV(4.11.0) /io/opencv/modules/calib3d/src/usac/ransac_solvers.cpp:1047: error: (-2:Unspecified error) in function 'cv::usac::mergePoints(cv::InputArray, cv::InputArray, cv::Mat&, bool)::<lambda(cv::Mat&, int)>'\n",
      "> Invalid dimension of point (expected: 'points.cols >= pt_dim'), where\n",
      ">     'points.cols' is 0\n",
      "> must be greater than or equal to\n",
      ">     'pt_dim' is 2\n",
      "\n",
      "Found 0\n",
      "OpenCV(4.11.0) /io/opencv/modules/calib3d/src/usac/ransac_solvers.cpp:1047: error: (-2:Unspecified error) in function 'cv::usac::mergePoints(cv::InputArray, cv::InputArray, cv::Mat&, bool)::<lambda(cv::Mat&, int)>'\n",
      "> Invalid dimension of point (expected: 'points.cols >= pt_dim'), where\n",
      ">     'points.cols' is 0\n",
      "> must be greater than or equal to\n",
      ">     'pt_dim' is 2\n",
      "\n"
     ]
    },
    {
     "name": "stderr",
     "output_type": "stream",
     "text": [
      " 84%|████████▎ | 15773/18840 [04:08<00:21, 143.18it/s]"
     ]
    },
    {
     "name": "stdout",
     "output_type": "stream",
     "text": [
      "Found 0\n",
      "OpenCV(4.11.0) /io/opencv/modules/calib3d/src/usac/ransac_solvers.cpp:1047: error: (-2:Unspecified error) in function 'cv::usac::mergePoints(cv::InputArray, cv::InputArray, cv::Mat&, bool)::<lambda(cv::Mat&, int)>'\n",
      "> Invalid dimension of point (expected: 'points.cols >= pt_dim'), where\n",
      ">     'points.cols' is 0\n",
      "> must be greater than or equal to\n",
      ">     'pt_dim' is 2\n",
      "\n",
      "Found 3\n",
      "OpenCV(4.11.0) /io/opencv/modules/calib3d/src/usac/sampler.cpp:45: error: (-215:Assertion failed) sample_size <= points_size_ in function 'setPointsSize'\n",
      "\n",
      "Found 1\n",
      "OpenCV(4.11.0) /io/opencv/modules/calib3d/src/usac/ransac_solvers.cpp:1047: error: (-2:Unspecified error) in function 'cv::usac::mergePoints(cv::InputArray, cv::InputArray, cv::Mat&, bool)::<lambda(cv::Mat&, int)>'\n",
      "> Invalid dimension of point (expected: 'points.cols >= pt_dim'), where\n",
      ">     'points.cols' is 1\n",
      "> must be greater than or equal to\n",
      ">     'pt_dim' is 2\n",
      "\n"
     ]
    },
    {
     "name": "stderr",
     "output_type": "stream",
     "text": [
      " 84%|████████▍ | 15821/18840 [04:10<01:28, 34.05it/s] "
     ]
    },
    {
     "name": "stdout",
     "output_type": "stream",
     "text": [
      "Found 0\n",
      "OpenCV(4.11.0) /io/opencv/modules/calib3d/src/usac/ransac_solvers.cpp:1047: error: (-2:Unspecified error) in function 'cv::usac::mergePoints(cv::InputArray, cv::InputArray, cv::Mat&, bool)::<lambda(cv::Mat&, int)>'\n",
      "> Invalid dimension of point (expected: 'points.cols >= pt_dim'), where\n",
      ">     'points.cols' is 0\n",
      "> must be greater than or equal to\n",
      ">     'pt_dim' is 2\n",
      "\n",
      "Found 4\n",
      "OpenCV(4.11.0) /io/opencv/modules/calib3d/src/usac/sampler.cpp:45: error: (-215:Assertion failed) sample_size <= points_size_ in function 'setPointsSize'\n",
      "\n",
      "Found 1\n",
      "OpenCV(4.11.0) /io/opencv/modules/calib3d/src/usac/ransac_solvers.cpp:1047: error: (-2:Unspecified error) in function 'cv::usac::mergePoints(cv::InputArray, cv::InputArray, cv::Mat&, bool)::<lambda(cv::Mat&, int)>'\n",
      "> Invalid dimension of point (expected: 'points.cols >= pt_dim'), where\n",
      ">     'points.cols' is 1\n",
      "> must be greater than or equal to\n",
      ">     'pt_dim' is 2\n",
      "\n",
      "Found 0\n",
      "OpenCV(4.11.0) /io/opencv/modules/calib3d/src/usac/ransac_solvers.cpp:1047: error: (-2:Unspecified error) in function 'cv::usac::mergePoints(cv::InputArray, cv::InputArray, cv::Mat&, bool)::<lambda(cv::Mat&, int)>'\n",
      "> Invalid dimension of point (expected: 'points.cols >= pt_dim'), where\n",
      ">     'points.cols' is 0\n",
      "> must be greater than or equal to\n",
      ">     'pt_dim' is 2\n",
      "\n"
     ]
    },
    {
     "name": "stderr",
     "output_type": "stream",
     "text": [
      " 84%|████████▍ | 15887/18840 [04:10<00:35, 83.08it/s]"
     ]
    },
    {
     "name": "stdout",
     "output_type": "stream",
     "text": [
      "Found 1\n",
      "OpenCV(4.11.0) /io/opencv/modules/calib3d/src/usac/ransac_solvers.cpp:1047: error: (-2:Unspecified error) in function 'cv::usac::mergePoints(cv::InputArray, cv::InputArray, cv::Mat&, bool)::<lambda(cv::Mat&, int)>'\n",
      "> Invalid dimension of point (expected: 'points.cols >= pt_dim'), where\n",
      ">     'points.cols' is 1\n",
      "> must be greater than or equal to\n",
      ">     'pt_dim' is 2\n",
      "\n",
      "Found 0\n",
      "OpenCV(4.11.0) /io/opencv/modules/calib3d/src/usac/ransac_solvers.cpp:1047: error: (-2:Unspecified error) in function 'cv::usac::mergePoints(cv::InputArray, cv::InputArray, cv::Mat&, bool)::<lambda(cv::Mat&, int)>'\n",
      "> Invalid dimension of point (expected: 'points.cols >= pt_dim'), where\n",
      ">     'points.cols' is 0\n",
      "> must be greater than or equal to\n",
      ">     'pt_dim' is 2\n",
      "\n"
     ]
    },
    {
     "name": "stderr",
     "output_type": "stream",
     "text": [
      " 84%|████████▍ | 15912/18840 [04:10<00:44, 65.49it/s]"
     ]
    },
    {
     "name": "stdout",
     "output_type": "stream",
     "text": [
      "Found 0\n",
      "OpenCV(4.11.0) /io/opencv/modules/calib3d/src/usac/ransac_solvers.cpp:1047: error: (-2:Unspecified error) in function 'cv::usac::mergePoints(cv::InputArray, cv::InputArray, cv::Mat&, bool)::<lambda(cv::Mat&, int)>'\n",
      "> Invalid dimension of point (expected: 'points.cols >= pt_dim'), where\n",
      ">     'points.cols' is 0\n",
      "> must be greater than or equal to\n",
      ">     'pt_dim' is 2\n",
      "\n"
     ]
    },
    {
     "name": "stderr",
     "output_type": "stream",
     "text": [
      " 85%|████████▍ | 15922/18840 [04:11<00:47, 61.56it/s]"
     ]
    },
    {
     "name": "stdout",
     "output_type": "stream",
     "text": [
      "Found 0\n",
      "OpenCV(4.11.0) /io/opencv/modules/calib3d/src/usac/ransac_solvers.cpp:1047: error: (-2:Unspecified error) in function 'cv::usac::mergePoints(cv::InputArray, cv::InputArray, cv::Mat&, bool)::<lambda(cv::Mat&, int)>'\n",
      "> Invalid dimension of point (expected: 'points.cols >= pt_dim'), where\n",
      ">     'points.cols' is 0\n",
      "> must be greater than or equal to\n",
      ">     'pt_dim' is 2\n",
      "\n"
     ]
    },
    {
     "name": "stderr",
     "output_type": "stream",
     "text": [
      " 85%|████████▍ | 15952/18840 [04:11<00:51, 55.96it/s]"
     ]
    },
    {
     "name": "stdout",
     "output_type": "stream",
     "text": [
      "Found 0\n",
      "OpenCV(4.11.0) /io/opencv/modules/calib3d/src/usac/ransac_solvers.cpp:1047: error: (-2:Unspecified error) in function 'cv::usac::mergePoints(cv::InputArray, cv::InputArray, cv::Mat&, bool)::<lambda(cv::Mat&, int)>'\n",
      "> Invalid dimension of point (expected: 'points.cols >= pt_dim'), where\n",
      ">     'points.cols' is 0\n",
      "> must be greater than or equal to\n",
      ">     'pt_dim' is 2\n",
      "\n"
     ]
    },
    {
     "name": "stderr",
     "output_type": "stream",
     "text": [
      " 85%|████████▌ | 16077/18840 [04:14<00:52, 52.78it/s]"
     ]
    },
    {
     "name": "stdout",
     "output_type": "stream",
     "text": [
      "Found 1\n",
      "OpenCV(4.11.0) /io/opencv/modules/calib3d/src/usac/ransac_solvers.cpp:1047: error: (-2:Unspecified error) in function 'cv::usac::mergePoints(cv::InputArray, cv::InputArray, cv::Mat&, bool)::<lambda(cv::Mat&, int)>'\n",
      "> Invalid dimension of point (expected: 'points.cols >= pt_dim'), where\n",
      ">     'points.cols' is 1\n",
      "> must be greater than or equal to\n",
      ">     'pt_dim' is 2\n",
      "\n"
     ]
    },
    {
     "name": "stderr",
     "output_type": "stream",
     "text": [
      " 86%|████████▌ | 16112/18840 [04:14<00:52, 52.31it/s]"
     ]
    },
    {
     "name": "stdout",
     "output_type": "stream",
     "text": [
      "Found 4\n",
      "OpenCV(4.11.0) /io/opencv/modules/calib3d/src/usac/sampler.cpp:45: error: (-215:Assertion failed) sample_size <= points_size_ in function 'setPointsSize'\n",
      "\n"
     ]
    },
    {
     "name": "stderr",
     "output_type": "stream",
     "text": [
      " 86%|████████▋ | 16265/18840 [04:17<00:45, 57.09it/s]"
     ]
    },
    {
     "name": "stdout",
     "output_type": "stream",
     "text": [
      "Found 0\n",
      "OpenCV(4.11.0) /io/opencv/modules/calib3d/src/usac/ransac_solvers.cpp:1047: error: (-2:Unspecified error) in function 'cv::usac::mergePoints(cv::InputArray, cv::InputArray, cv::Mat&, bool)::<lambda(cv::Mat&, int)>'\n",
      "> Invalid dimension of point (expected: 'points.cols >= pt_dim'), where\n",
      ">     'points.cols' is 0\n",
      "> must be greater than or equal to\n",
      ">     'pt_dim' is 2\n",
      "\n"
     ]
    },
    {
     "name": "stderr",
     "output_type": "stream",
     "text": [
      " 87%|████████▋ | 16364/18840 [04:19<00:40, 61.64it/s]"
     ]
    },
    {
     "name": "stdout",
     "output_type": "stream",
     "text": [
      "Found 0\n",
      "OpenCV(4.11.0) /io/opencv/modules/calib3d/src/usac/ransac_solvers.cpp:1047: error: (-2:Unspecified error) in function 'cv::usac::mergePoints(cv::InputArray, cv::InputArray, cv::Mat&, bool)::<lambda(cv::Mat&, int)>'\n",
      "> Invalid dimension of point (expected: 'points.cols >= pt_dim'), where\n",
      ">     'points.cols' is 0\n",
      "> must be greater than or equal to\n",
      ">     'pt_dim' is 2\n",
      "\n"
     ]
    },
    {
     "name": "stderr",
     "output_type": "stream",
     "text": [
      " 87%|████████▋ | 16395/18840 [04:19<00:44, 54.90it/s]"
     ]
    },
    {
     "name": "stdout",
     "output_type": "stream",
     "text": [
      "Found 0\n",
      "OpenCV(4.11.0) /io/opencv/modules/calib3d/src/usac/ransac_solvers.cpp:1047: error: (-2:Unspecified error) in function 'cv::usac::mergePoints(cv::InputArray, cv::InputArray, cv::Mat&, bool)::<lambda(cv::Mat&, int)>'\n",
      "> Invalid dimension of point (expected: 'points.cols >= pt_dim'), where\n",
      ">     'points.cols' is 0\n",
      "> must be greater than or equal to\n",
      ">     'pt_dim' is 2\n",
      "\n"
     ]
    },
    {
     "name": "stderr",
     "output_type": "stream",
     "text": [
      " 87%|████████▋ | 16407/18840 [04:19<00:45, 52.97it/s]"
     ]
    },
    {
     "name": "stdout",
     "output_type": "stream",
     "text": [
      "Found 0\n",
      "OpenCV(4.11.0) /io/opencv/modules/calib3d/src/usac/ransac_solvers.cpp:1047: error: (-2:Unspecified error) in function 'cv::usac::mergePoints(cv::InputArray, cv::InputArray, cv::Mat&, bool)::<lambda(cv::Mat&, int)>'\n",
      "> Invalid dimension of point (expected: 'points.cols >= pt_dim'), where\n",
      ">     'points.cols' is 0\n",
      "> must be greater than or equal to\n",
      ">     'pt_dim' is 2\n",
      "\n"
     ]
    },
    {
     "name": "stderr",
     "output_type": "stream",
     "text": [
      " 87%|████████▋ | 16437/18840 [04:20<00:45, 52.89it/s]"
     ]
    },
    {
     "name": "stdout",
     "output_type": "stream",
     "text": [
      "Found 0\n",
      "OpenCV(4.11.0) /io/opencv/modules/calib3d/src/usac/ransac_solvers.cpp:1047: error: (-2:Unspecified error) in function 'cv::usac::mergePoints(cv::InputArray, cv::InputArray, cv::Mat&, bool)::<lambda(cv::Mat&, int)>'\n",
      "> Invalid dimension of point (expected: 'points.cols >= pt_dim'), where\n",
      ">     'points.cols' is 0\n",
      "> must be greater than or equal to\n",
      ">     'pt_dim' is 2\n",
      "\n"
     ]
    },
    {
     "name": "stderr",
     "output_type": "stream",
     "text": [
      " 88%|████████▊ | 16557/18840 [04:22<00:37, 61.30it/s]"
     ]
    },
    {
     "name": "stdout",
     "output_type": "stream",
     "text": [
      "Found 2\n",
      "OpenCV(4.11.0) /io/opencv/modules/calib3d/src/usac/sampler.cpp:45: error: (-215:Assertion failed) sample_size <= points_size_ in function 'setPointsSize'\n",
      "\n",
      "Found 1\n",
      "OpenCV(4.11.0) /io/opencv/modules/calib3d/src/usac/ransac_solvers.cpp:1047: error: (-2:Unspecified error) in function 'cv::usac::mergePoints(cv::InputArray, cv::InputArray, cv::Mat&, bool)::<lambda(cv::Mat&, int)>'\n",
      "> Invalid dimension of point (expected: 'points.cols >= pt_dim'), where\n",
      ">     'points.cols' is 1\n",
      "> must be greater than or equal to\n",
      ">     'pt_dim' is 2\n",
      "\n",
      "Found 0\n",
      "OpenCV(4.11.0) /io/opencv/modules/calib3d/src/usac/ransac_solvers.cpp:1047: error: (-2:Unspecified error) in function 'cv::usac::mergePoints(cv::InputArray, cv::InputArray, cv::Mat&, bool)::<lambda(cv::Mat&, int)>'\n",
      "> Invalid dimension of point (expected: 'points.cols >= pt_dim'), where\n",
      ">     'points.cols' is 0\n",
      "> must be greater than or equal to\n",
      ">     'pt_dim' is 2\n",
      "\n"
     ]
    },
    {
     "name": "stderr",
     "output_type": "stream",
     "text": [
      " 88%|████████▊ | 16607/18840 [04:22<00:17, 128.68it/s]"
     ]
    },
    {
     "name": "stdout",
     "output_type": "stream",
     "text": [
      "Found 0\n",
      "OpenCV(4.11.0) /io/opencv/modules/calib3d/src/usac/ransac_solvers.cpp:1047: error: (-2:Unspecified error) in function 'cv::usac::mergePoints(cv::InputArray, cv::InputArray, cv::Mat&, bool)::<lambda(cv::Mat&, int)>'\n",
      "> Invalid dimension of point (expected: 'points.cols >= pt_dim'), where\n",
      ">     'points.cols' is 0\n",
      "> must be greater than or equal to\n",
      ">     'pt_dim' is 2\n",
      "\n",
      "Found 2\n",
      "OpenCV(4.11.0) /io/opencv/modules/calib3d/src/usac/sampler.cpp:45: error: (-215:Assertion failed) sample_size <= points_size_ in function 'setPointsSize'\n",
      "\n",
      "Found 5\n",
      "OpenCV(4.11.0) /io/opencv/modules/calib3d/src/usac/sampler.cpp:45: error: (-215:Assertion failed) sample_size <= points_size_ in function 'setPointsSize'\n",
      "\n",
      "Found 2\n",
      "OpenCV(4.11.0) /io/opencv/modules/calib3d/src/usac/sampler.cpp:45: error: (-215:Assertion failed) sample_size <= points_size_ in function 'setPointsSize'\n",
      "\n",
      "Found 0\n",
      "OpenCV(4.11.0) /io/opencv/modules/calib3d/src/usac/ransac_solvers.cpp:1047: error: (-2:Unspecified error) in function 'cv::usac::mergePoints(cv::InputArray, cv::InputArray, cv::Mat&, bool)::<lambda(cv::Mat&, int)>'\n",
      "> Invalid dimension of point (expected: 'points.cols >= pt_dim'), where\n",
      ">     'points.cols' is 0\n",
      "> must be greater than or equal to\n",
      ">     'pt_dim' is 2\n",
      "\n",
      "Found 1\n",
      "OpenCV(4.11.0) /io/opencv/modules/calib3d/src/usac/ransac_solvers.cpp:1047: error: (-2:Unspecified error) in function 'cv::usac::mergePoints(cv::InputArray, cv::InputArray, cv::Mat&, bool)::<lambda(cv::Mat&, int)>'\n",
      "> Invalid dimension of point (expected: 'points.cols >= pt_dim'), where\n",
      ">     'points.cols' is 1\n",
      "> must be greater than or equal to\n",
      ">     'pt_dim' is 2\n",
      "\n"
     ]
    },
    {
     "name": "stderr",
     "output_type": "stream",
     "text": [
      " 88%|████████▊ | 16639/18840 [04:22<00:15, 143.39it/s]"
     ]
    },
    {
     "name": "stdout",
     "output_type": "stream",
     "text": [
      "Found 0\n",
      "OpenCV(4.11.0) /io/opencv/modules/calib3d/src/usac/ransac_solvers.cpp:1047: error: (-2:Unspecified error) in function 'cv::usac::mergePoints(cv::InputArray, cv::InputArray, cv::Mat&, bool)::<lambda(cv::Mat&, int)>'\n",
      "> Invalid dimension of point (expected: 'points.cols >= pt_dim'), where\n",
      ">     'points.cols' is 0\n",
      "> must be greater than or equal to\n",
      ">     'pt_dim' is 2\n",
      "\n",
      "Found 1\n",
      "OpenCV(4.11.0) /io/opencv/modules/calib3d/src/usac/ransac_solvers.cpp:1047: error: (-2:Unspecified error) in function 'cv::usac::mergePoints(cv::InputArray, cv::InputArray, cv::Mat&, bool)::<lambda(cv::Mat&, int)>'\n",
      "> Invalid dimension of point (expected: 'points.cols >= pt_dim'), where\n",
      ">     'points.cols' is 1\n",
      "> must be greater than or equal to\n",
      ">     'pt_dim' is 2\n",
      "\n",
      "Found 1\n",
      "OpenCV(4.11.0) /io/opencv/modules/calib3d/src/usac/ransac_solvers.cpp:1047: error: (-2:Unspecified error) in function 'cv::usac::mergePoints(cv::InputArray, cv::InputArray, cv::Mat&, bool)::<lambda(cv::Mat&, int)>'\n",
      "> Invalid dimension of point (expected: 'points.cols >= pt_dim'), where\n",
      ">     'points.cols' is 1\n",
      "> must be greater than or equal to\n",
      ">     'pt_dim' is 2\n",
      "\n",
      "Found 0\n",
      "OpenCV(4.11.0) /io/opencv/modules/calib3d/src/usac/ransac_solvers.cpp:1047: error: (-2:Unspecified error) in function 'cv::usac::mergePoints(cv::InputArray, cv::InputArray, cv::Mat&, bool)::<lambda(cv::Mat&, int)>'\n",
      "> Invalid dimension of point (expected: 'points.cols >= pt_dim'), where\n",
      ">     'points.cols' is 0\n",
      "> must be greater than or equal to\n",
      ">     'pt_dim' is 2\n",
      "\n"
     ]
    },
    {
     "name": "stderr",
     "output_type": "stream",
     "text": [
      " 89%|████████▊ | 16714/18840 [04:24<00:35, 60.10it/s] "
     ]
    },
    {
     "name": "stdout",
     "output_type": "stream",
     "text": [
      "Found 3\n",
      "OpenCV(4.11.0) /io/opencv/modules/calib3d/src/usac/sampler.cpp:45: error: (-215:Assertion failed) sample_size <= points_size_ in function 'setPointsSize'\n",
      "\n"
     ]
    },
    {
     "name": "stderr",
     "output_type": "stream",
     "text": [
      " 90%|████████▉ | 16904/18840 [04:27<00:31, 61.10it/s]"
     ]
    },
    {
     "name": "stdout",
     "output_type": "stream",
     "text": [
      "Found 1\n",
      "OpenCV(4.11.0) /io/opencv/modules/calib3d/src/usac/ransac_solvers.cpp:1047: error: (-2:Unspecified error) in function 'cv::usac::mergePoints(cv::InputArray, cv::InputArray, cv::Mat&, bool)::<lambda(cv::Mat&, int)>'\n",
      "> Invalid dimension of point (expected: 'points.cols >= pt_dim'), where\n",
      ">     'points.cols' is 1\n",
      "> must be greater than or equal to\n",
      ">     'pt_dim' is 2\n",
      "\n"
     ]
    },
    {
     "name": "stderr",
     "output_type": "stream",
     "text": [
      " 91%|█████████ | 17081/18840 [04:30<00:29, 59.43it/s]"
     ]
    },
    {
     "name": "stdout",
     "output_type": "stream",
     "text": [
      "Found 1\n",
      "OpenCV(4.11.0) /io/opencv/modules/calib3d/src/usac/ransac_solvers.cpp:1047: error: (-2:Unspecified error) in function 'cv::usac::mergePoints(cv::InputArray, cv::InputArray, cv::Mat&, bool)::<lambda(cv::Mat&, int)>'\n",
      "> Invalid dimension of point (expected: 'points.cols >= pt_dim'), where\n",
      ">     'points.cols' is 1\n",
      "> must be greater than or equal to\n",
      ">     'pt_dim' is 2\n",
      "\n"
     ]
    },
    {
     "name": "stderr",
     "output_type": "stream",
     "text": [
      " 91%|█████████ | 17190/18840 [04:32<00:29, 55.35it/s]"
     ]
    },
    {
     "name": "stdout",
     "output_type": "stream",
     "text": [
      "Found 0\n",
      "OpenCV(4.11.0) /io/opencv/modules/calib3d/src/usac/ransac_solvers.cpp:1047: error: (-2:Unspecified error) in function 'cv::usac::mergePoints(cv::InputArray, cv::InputArray, cv::Mat&, bool)::<lambda(cv::Mat&, int)>'\n",
      "> Invalid dimension of point (expected: 'points.cols >= pt_dim'), where\n",
      ">     'points.cols' is 0\n",
      "> must be greater than or equal to\n",
      ">     'pt_dim' is 2\n",
      "\n"
     ]
    },
    {
     "name": "stderr",
     "output_type": "stream",
     "text": [
      " 91%|█████████▏| 17215/18840 [04:32<00:18, 89.90it/s]"
     ]
    },
    {
     "name": "stdout",
     "output_type": "stream",
     "text": [
      "Found 0\n",
      "OpenCV(4.11.0) /io/opencv/modules/calib3d/src/usac/ransac_solvers.cpp:1047: error: (-2:Unspecified error) in function 'cv::usac::mergePoints(cv::InputArray, cv::InputArray, cv::Mat&, bool)::<lambda(cv::Mat&, int)>'\n",
      "> Invalid dimension of point (expected: 'points.cols >= pt_dim'), where\n",
      ">     'points.cols' is 0\n",
      "> must be greater than or equal to\n",
      ">     'pt_dim' is 2\n",
      "\n",
      "Found 0\n",
      "OpenCV(4.11.0) /io/opencv/modules/calib3d/src/usac/ransac_solvers.cpp:1047: error: (-2:Unspecified error) in function 'cv::usac::mergePoints(cv::InputArray, cv::InputArray, cv::Mat&, bool)::<lambda(cv::Mat&, int)>'\n",
      "> Invalid dimension of point (expected: 'points.cols >= pt_dim'), where\n",
      ">     'points.cols' is 0\n",
      "> must be greater than or equal to\n",
      ">     'pt_dim' is 2\n",
      "\n",
      "Found 0\n",
      "OpenCV(4.11.0) /io/opencv/modules/calib3d/src/usac/ransac_solvers.cpp:1047: error: (-2:Unspecified error) in function 'cv::usac::mergePoints(cv::InputArray, cv::InputArray, cv::Mat&, bool)::<lambda(cv::Mat&, int)>'\n",
      "> Invalid dimension of point (expected: 'points.cols >= pt_dim'), where\n",
      ">     'points.cols' is 0\n",
      "> must be greater than or equal to\n",
      ">     'pt_dim' is 2\n",
      "\n",
      "Found 0\n",
      "OpenCV(4.11.0) /io/opencv/modules/calib3d/src/usac/ransac_solvers.cpp:1047: error: (-2:Unspecified error) in function 'cv::usac::mergePoints(cv::InputArray, cv::InputArray, cv::Mat&, bool)::<lambda(cv::Mat&, int)>'\n",
      "> Invalid dimension of point (expected: 'points.cols >= pt_dim'), where\n",
      ">     'points.cols' is 0\n",
      "> must be greater than or equal to\n",
      ">     'pt_dim' is 2\n",
      "\n",
      "Found 0\n",
      "OpenCV(4.11.0) /io/opencv/modules/calib3d/src/usac/ransac_solvers.cpp:1047: error: (-2:Unspecified error) in function 'cv::usac::mergePoints(cv::InputArray, cv::InputArray, cv::Mat&, bool)::<lambda(cv::Mat&, int)>'\n",
      "> Invalid dimension of point (expected: 'points.cols >= pt_dim'), where\n",
      ">     'points.cols' is 0\n",
      "> must be greater than or equal to\n",
      ">     'pt_dim' is 2\n",
      "\n",
      "Found 0\n",
      "OpenCV(4.11.0) /io/opencv/modules/calib3d/src/usac/ransac_solvers.cpp:1047: error: (-2:Unspecified error) in function 'cv::usac::mergePoints(cv::InputArray, cv::InputArray, cv::Mat&, bool)::<lambda(cv::Mat&, int)>'\n",
      "> Invalid dimension of point (expected: 'points.cols >= pt_dim'), where\n",
      ">     'points.cols' is 0\n",
      "> must be greater than or equal to\n",
      ">     'pt_dim' is 2\n",
      "\n",
      "Found 1\n",
      "OpenCV(4.11.0) /io/opencv/modules/calib3d/src/usac/ransac_solvers.cpp:1047: error: (-2:Unspecified error) in function 'cv::usac::mergePoints(cv::InputArray, cv::InputArray, cv::Mat&, bool)::<lambda(cv::Mat&, int)>'\n",
      "> Invalid dimension of point (expected: 'points.cols >= pt_dim'), where\n",
      ">     'points.cols' is 1\n",
      "> must be greater than or equal to\n",
      ">     'pt_dim' is 2\n",
      "\n",
      "Found 1\n",
      "OpenCV(4.11.0) /io/opencv/modules/calib3d/src/usac/ransac_solvers.cpp:1047: error: (-2:Unspecified error) in function 'cv::usac::mergePoints(cv::InputArray, cv::InputArray, cv::Mat&, bool)::<lambda(cv::Mat&, int)>'\n",
      "> Invalid dimension of point (expected: 'points.cols >= pt_dim'), where\n",
      ">     'points.cols' is 1\n",
      "> must be greater than or equal to\n",
      ">     'pt_dim' is 2\n",
      "\n",
      "Found 0\n",
      "OpenCV(4.11.0) /io/opencv/modules/calib3d/src/usac/ransac_solvers.cpp:1047: error: (-2:Unspecified error) in function 'cv::usac::mergePoints(cv::InputArray, cv::InputArray, cv::Mat&, bool)::<lambda(cv::Mat&, int)>'\n",
      "> Invalid dimension of point (expected: 'points.cols >= pt_dim'), where\n",
      ">     'points.cols' is 0\n",
      "> must be greater than or equal to\n",
      ">     'pt_dim' is 2\n",
      "\n",
      "Found 1\n",
      "OpenCV(4.11.0) /io/opencv/modules/calib3d/src/usac/ransac_solvers.cpp:1047: error: (-2:Unspecified error) in function 'cv::usac::mergePoints(cv::InputArray, cv::InputArray, cv::Mat&, bool)::<lambda(cv::Mat&, int)>'\n",
      "> Invalid dimension of point (expected: 'points.cols >= pt_dim'), where\n",
      ">     'points.cols' is 1\n",
      "> must be greater than or equal to\n",
      ">     'pt_dim' is 2\n",
      "\n",
      "Found 6\n",
      "OpenCV(4.11.0) /io/opencv/modules/calib3d/src/usac/sampler.cpp:45: error: (-215:Assertion failed) sample_size <= points_size_ in function 'setPointsSize'\n",
      "\n",
      "Found 0\n",
      "OpenCV(4.11.0) /io/opencv/modules/calib3d/src/usac/ransac_solvers.cpp:1047: error: (-2:Unspecified error) in function 'cv::usac::mergePoints(cv::InputArray, cv::InputArray, cv::Mat&, bool)::<lambda(cv::Mat&, int)>'\n",
      "> Invalid dimension of point (expected: 'points.cols >= pt_dim'), where\n",
      ">     'points.cols' is 0\n",
      "> must be greater than or equal to\n",
      ">     'pt_dim' is 2\n",
      "\n",
      "Found 0\n",
      "OpenCV(4.11.0) /io/opencv/modules/calib3d/src/usac/ransac_solvers.cpp:1047: error: (-2:Unspecified error) in function 'cv::usac::mergePoints(cv::InputArray, cv::InputArray, cv::Mat&, bool)::<lambda(cv::Mat&, int)>'\n",
      "> Invalid dimension of point (expected: 'points.cols >= pt_dim'), where\n",
      ">     'points.cols' is 0\n",
      "> must be greater than or equal to\n",
      ">     'pt_dim' is 2\n",
      "\n",
      "Found 2\n",
      "OpenCV(4.11.0) /io/opencv/modules/calib3d/src/usac/sampler.cpp:45: error: (-215:Assertion failed) sample_size <= points_size_ in function 'setPointsSize'\n",
      "\n",
      "Found 0\n",
      "OpenCV(4.11.0) /io/opencv/modules/calib3d/src/usac/ransac_solvers.cpp:1047: error: (-2:Unspecified error) in function 'cv::usac::mergePoints(cv::InputArray, cv::InputArray, cv::Mat&, bool)::<lambda(cv::Mat&, int)>'\n",
      "> Invalid dimension of point (expected: 'points.cols >= pt_dim'), where\n",
      ">     'points.cols' is 0\n",
      "> must be greater than or equal to\n",
      ">     'pt_dim' is 2\n",
      "\n",
      "Found 2\n",
      "OpenCV(4.11.0) /io/opencv/modules/calib3d/src/usac/sampler.cpp:45: error: (-215:Assertion failed) sample_size <= points_size_ in function 'setPointsSize'\n",
      "\n",
      "Found 1\n",
      "OpenCV(4.11.0) /io/opencv/modules/calib3d/src/usac/ransac_solvers.cpp:1047: error: (-2:Unspecified error) in function 'cv::usac::mergePoints(cv::InputArray, cv::InputArray, cv::Mat&, bool)::<lambda(cv::Mat&, int)>'\n",
      "> Invalid dimension of point (expected: 'points.cols >= pt_dim'), where\n",
      ">     'points.cols' is 1\n",
      "> must be greater than or equal to\n",
      ">     'pt_dim' is 2\n",
      "\n",
      "Found 0\n",
      "OpenCV(4.11.0) /io/opencv/modules/calib3d/src/usac/ransac_solvers.cpp:1047: error: (-2:Unspecified error) in function 'cv::usac::mergePoints(cv::InputArray, cv::InputArray, cv::Mat&, bool)::<lambda(cv::Mat&, int)>'\n",
      "> Invalid dimension of point (expected: 'points.cols >= pt_dim'), where\n",
      ">     'points.cols' is 0\n",
      "> must be greater than or equal to\n",
      ">     'pt_dim' is 2\n",
      "\n",
      "Found 0\n",
      "OpenCV(4.11.0) /io/opencv/modules/calib3d/src/usac/ransac_solvers.cpp:1047: error: (-2:Unspecified error) in function 'cv::usac::mergePoints(cv::InputArray, cv::InputArray, cv::Mat&, bool)::<lambda(cv::Mat&, int)>'\n",
      "> Invalid dimension of point (expected: 'points.cols >= pt_dim'), where\n",
      ">     'points.cols' is 0\n",
      "> must be greater than or equal to\n",
      ">     'pt_dim' is 2\n",
      "\n",
      "Found 0\n",
      "OpenCV(4.11.0) /io/opencv/modules/calib3d/src/usac/ransac_solvers.cpp:1047: error: (-2:Unspecified error) in function 'cv::usac::mergePoints(cv::InputArray, cv::InputArray, cv::Mat&, bool)::<lambda(cv::Mat&, int)>'\n",
      "> Invalid dimension of point (expected: 'points.cols >= pt_dim'), where\n",
      ">     'points.cols' is 0\n",
      "> must be greater than or equal to\n",
      ">     'pt_dim' is 2\n",
      "\n",
      "Found 0\n",
      "OpenCV(4.11.0) /io/opencv/modules/calib3d/src/usac/ransac_solvers.cpp:1047: error: (-2:Unspecified error) in function 'cv::usac::mergePoints(cv::InputArray, cv::InputArray, cv::Mat&, bool)::<lambda(cv::Mat&, int)>'\n",
      "> Invalid dimension of point (expected: 'points.cols >= pt_dim'), where\n",
      ">     'points.cols' is 0\n",
      "> must be greater than or equal to\n",
      ">     'pt_dim' is 2\n",
      "\n",
      "Found 2\n",
      "OpenCV(4.11.0) /io/opencv/modules/calib3d/src/usac/sampler.cpp:45: error: (-215:Assertion failed) sample_size <= points_size_ in function 'setPointsSize'\n",
      "\n",
      "Found 0\n",
      "OpenCV(4.11.0) /io/opencv/modules/calib3d/src/usac/ransac_solvers.cpp:1047: error: (-2:Unspecified error) in function 'cv::usac::mergePoints(cv::InputArray, cv::InputArray, cv::Mat&, bool)::<lambda(cv::Mat&, int)>'\n",
      "> Invalid dimension of point (expected: 'points.cols >= pt_dim'), where\n",
      ">     'points.cols' is 0\n",
      "> must be greater than or equal to\n",
      ">     'pt_dim' is 2\n",
      "\n",
      "Found 1\n",
      "OpenCV(4.11.0) /io/opencv/modules/calib3d/src/usac/ransac_solvers.cpp:1047: error: (-2:Unspecified error) in function 'cv::usac::mergePoints(cv::InputArray, cv::InputArray, cv::Mat&, bool)::<lambda(cv::Mat&, int)>'\n",
      "> Invalid dimension of point (expected: 'points.cols >= pt_dim'), where\n",
      ">     'points.cols' is 1\n",
      "> must be greater than or equal to\n",
      ">     'pt_dim' is 2\n",
      "\n",
      "Found 0\n",
      "OpenCV(4.11.0) /io/opencv/modules/calib3d/src/usac/ransac_solvers.cpp:1047: error: (-2:Unspecified error) in function 'cv::usac::mergePoints(cv::InputArray, cv::InputArray, cv::Mat&, bool)::<lambda(cv::Mat&, int)>'\n",
      "> Invalid dimension of point (expected: 'points.cols >= pt_dim'), where\n",
      ">     'points.cols' is 0\n",
      "> must be greater than or equal to\n",
      ">     'pt_dim' is 2\n",
      "\n",
      "Found 0\n",
      "OpenCV(4.11.0) /io/opencv/modules/calib3d/src/usac/ransac_solvers.cpp:1047: error: (-2:Unspecified error) in function 'cv::usac::mergePoints(cv::InputArray, cv::InputArray, cv::Mat&, bool)::<lambda(cv::Mat&, int)>'\n",
      "> Invalid dimension of point (expected: 'points.cols >= pt_dim'), where\n",
      ">     'points.cols' is 0\n",
      "> must be greater than or equal to\n",
      ">     'pt_dim' is 2\n",
      "\n"
     ]
    },
    {
     "name": "stderr",
     "output_type": "stream",
     "text": [
      " 92%|█████████▏| 17244/18840 [04:33<00:13, 115.92it/s]"
     ]
    },
    {
     "name": "stdout",
     "output_type": "stream",
     "text": [
      "Found 1\n",
      "OpenCV(4.11.0) /io/opencv/modules/calib3d/src/usac/ransac_solvers.cpp:1047: error: (-2:Unspecified error) in function 'cv::usac::mergePoints(cv::InputArray, cv::InputArray, cv::Mat&, bool)::<lambda(cv::Mat&, int)>'\n",
      "> Invalid dimension of point (expected: 'points.cols >= pt_dim'), where\n",
      ">     'points.cols' is 1\n",
      "> must be greater than or equal to\n",
      ">     'pt_dim' is 2\n",
      "\n",
      "Found 1\n",
      "OpenCV(4.11.0) /io/opencv/modules/calib3d/src/usac/ransac_solvers.cpp:1047: error: (-2:Unspecified error) in function 'cv::usac::mergePoints(cv::InputArray, cv::InputArray, cv::Mat&, bool)::<lambda(cv::Mat&, int)>'\n",
      "> Invalid dimension of point (expected: 'points.cols >= pt_dim'), where\n",
      ">     'points.cols' is 1\n",
      "> must be greater than or equal to\n",
      ">     'pt_dim' is 2\n",
      "\n",
      "Found 0\n",
      "OpenCV(4.11.0) /io/opencv/modules/calib3d/src/usac/ransac_solvers.cpp:1047: error: (-2:Unspecified error) in function 'cv::usac::mergePoints(cv::InputArray, cv::InputArray, cv::Mat&, bool)::<lambda(cv::Mat&, int)>'\n",
      "> Invalid dimension of point (expected: 'points.cols >= pt_dim'), where\n",
      ">     'points.cols' is 0\n",
      "> must be greater than or equal to\n",
      ">     'pt_dim' is 2\n",
      "\n",
      "Found 1\n",
      "OpenCV(4.11.0) /io/opencv/modules/calib3d/src/usac/ransac_solvers.cpp:1047: error: (-2:Unspecified error) in function 'cv::usac::mergePoints(cv::InputArray, cv::InputArray, cv::Mat&, bool)::<lambda(cv::Mat&, int)>'\n",
      "> Invalid dimension of point (expected: 'points.cols >= pt_dim'), where\n",
      ">     'points.cols' is 1\n",
      "> must be greater than or equal to\n",
      ">     'pt_dim' is 2\n",
      "\n",
      "Found 1\n",
      "OpenCV(4.11.0) /io/opencv/modules/calib3d/src/usac/ransac_solvers.cpp:1047: error: (-2:Unspecified error) in function 'cv::usac::mergePoints(cv::InputArray, cv::InputArray, cv::Mat&, bool)::<lambda(cv::Mat&, int)>'\n",
      "> Invalid dimension of point (expected: 'points.cols >= pt_dim'), where\n",
      ">     'points.cols' is 1\n",
      "> must be greater than or equal to\n",
      ">     'pt_dim' is 2\n",
      "\n",
      "Found 0\n",
      "OpenCV(4.11.0) /io/opencv/modules/calib3d/src/usac/ransac_solvers.cpp:1047: error: (-2:Unspecified error) in function 'cv::usac::mergePoints(cv::InputArray, cv::InputArray, cv::Mat&, bool)::<lambda(cv::Mat&, int)>'\n",
      "> Invalid dimension of point (expected: 'points.cols >= pt_dim'), where\n",
      ">     'points.cols' is 0\n",
      "> must be greater than or equal to\n",
      ">     'pt_dim' is 2\n",
      "\n",
      "Found 0\n",
      "OpenCV(4.11.0) /io/opencv/modules/calib3d/src/usac/ransac_solvers.cpp:1047: error: (-2:Unspecified error) in function 'cv::usac::mergePoints(cv::InputArray, cv::InputArray, cv::Mat&, bool)::<lambda(cv::Mat&, int)>'\n",
      "> Invalid dimension of point (expected: 'points.cols >= pt_dim'), where\n",
      ">     'points.cols' is 0\n",
      "> must be greater than or equal to\n",
      ">     'pt_dim' is 2\n",
      "\n",
      "Found 0\n",
      "OpenCV(4.11.0) /io/opencv/modules/calib3d/src/usac/ransac_solvers.cpp:1047: error: (-2:Unspecified error) in function 'cv::usac::mergePoints(cv::InputArray, cv::InputArray, cv::Mat&, bool)::<lambda(cv::Mat&, int)>'\n",
      "> Invalid dimension of point (expected: 'points.cols >= pt_dim'), where\n",
      ">     'points.cols' is 0\n",
      "> must be greater than or equal to\n",
      ">     'pt_dim' is 2\n",
      "\n",
      "Found 1\n",
      "OpenCV(4.11.0) /io/opencv/modules/calib3d/src/usac/ransac_solvers.cpp:1047: error: (-2:Unspecified error) in function 'cv::usac::mergePoints(cv::InputArray, cv::InputArray, cv::Mat&, bool)::<lambda(cv::Mat&, int)>'\n",
      "> Invalid dimension of point (expected: 'points.cols >= pt_dim'), where\n",
      ">     'points.cols' is 1\n",
      "> must be greater than or equal to\n",
      ">     'pt_dim' is 2\n",
      "\n",
      "Found 0\n",
      "OpenCV(4.11.0) /io/opencv/modules/calib3d/src/usac/ransac_solvers.cpp:1047: error: (-2:Unspecified error) in function 'cv::usac::mergePoints(cv::InputArray, cv::InputArray, cv::Mat&, bool)::<lambda(cv::Mat&, int)>'\n",
      "> Invalid dimension of point (expected: 'points.cols >= pt_dim'), where\n",
      ">     'points.cols' is 0\n",
      "> must be greater than or equal to\n",
      ">     'pt_dim' is 2\n",
      "\n",
      "Found 2\n",
      "OpenCV(4.11.0) /io/opencv/modules/calib3d/src/usac/sampler.cpp:45: error: (-215:Assertion failed) sample_size <= points_size_ in function 'setPointsSize'\n",
      "\n",
      "Found 0\n",
      "OpenCV(4.11.0) /io/opencv/modules/calib3d/src/usac/ransac_solvers.cpp:1047: error: (-2:Unspecified error) in function 'cv::usac::mergePoints(cv::InputArray, cv::InputArray, cv::Mat&, bool)::<lambda(cv::Mat&, int)>'\n",
      "> Invalid dimension of point (expected: 'points.cols >= pt_dim'), where\n",
      ">     'points.cols' is 0\n",
      "> must be greater than or equal to\n",
      ">     'pt_dim' is 2\n",
      "\n",
      "Found 2\n",
      "OpenCV(4.11.0) /io/opencv/modules/calib3d/src/usac/sampler.cpp:45: error: (-215:Assertion failed) sample_size <= points_size_ in function 'setPointsSize'\n",
      "\n",
      "Found 0\n",
      "OpenCV(4.11.0) /io/opencv/modules/calib3d/src/usac/ransac_solvers.cpp:1047: error: (-2:Unspecified error) in function 'cv::usac::mergePoints(cv::InputArray, cv::InputArray, cv::Mat&, bool)::<lambda(cv::Mat&, int)>'\n",
      "> Invalid dimension of point (expected: 'points.cols >= pt_dim'), where\n",
      ">     'points.cols' is 0\n",
      "> must be greater than or equal to\n",
      ">     'pt_dim' is 2\n",
      "\n",
      "Found 0\n",
      "OpenCV(4.11.0) /io/opencv/modules/calib3d/src/usac/ransac_solvers.cpp:1047: error: (-2:Unspecified error) in function 'cv::usac::mergePoints(cv::InputArray, cv::InputArray, cv::Mat&, bool)::<lambda(cv::Mat&, int)>'\n",
      "> Invalid dimension of point (expected: 'points.cols >= pt_dim'), where\n",
      ">     'points.cols' is 0\n",
      "> must be greater than or equal to\n",
      ">     'pt_dim' is 2\n",
      "\n",
      "Found 5\n",
      "OpenCV(4.11.0) /io/opencv/modules/calib3d/src/usac/sampler.cpp:45: error: (-215:Assertion failed) sample_size <= points_size_ in function 'setPointsSize'\n",
      "\n",
      "Found 4\n",
      "OpenCV(4.11.0) /io/opencv/modules/calib3d/src/usac/sampler.cpp:45: error: (-215:Assertion failed) sample_size <= points_size_ in function 'setPointsSize'\n",
      "\n",
      "Found 0\n",
      "OpenCV(4.11.0) /io/opencv/modules/calib3d/src/usac/ransac_solvers.cpp:1047: error: (-2:Unspecified error) in function 'cv::usac::mergePoints(cv::InputArray, cv::InputArray, cv::Mat&, bool)::<lambda(cv::Mat&, int)>'\n",
      "> Invalid dimension of point (expected: 'points.cols >= pt_dim'), where\n",
      ">     'points.cols' is 0\n",
      "> must be greater than or equal to\n",
      ">     'pt_dim' is 2\n",
      "\n",
      "Found 1\n",
      "OpenCV(4.11.0) /io/opencv/modules/calib3d/src/usac/ransac_solvers.cpp:1047: error: (-2:Unspecified error) in function 'cv::usac::mergePoints(cv::InputArray, cv::InputArray, cv::Mat&, bool)::<lambda(cv::Mat&, int)>'\n",
      "> Invalid dimension of point (expected: 'points.cols >= pt_dim'), where\n",
      ">     'points.cols' is 1\n",
      "> must be greater than or equal to\n",
      ">     'pt_dim' is 2\n",
      "\n",
      "Found 0\n",
      "OpenCV(4.11.0) /io/opencv/modules/calib3d/src/usac/ransac_solvers.cpp:1047: error: (-2:Unspecified error) in function 'cv::usac::mergePoints(cv::InputArray, cv::InputArray, cv::Mat&, bool)::<lambda(cv::Mat&, int)>'\n",
      "> Invalid dimension of point (expected: 'points.cols >= pt_dim'), where\n",
      ">     'points.cols' is 0\n",
      "> must be greater than or equal to\n",
      ">     'pt_dim' is 2\n",
      "\n",
      "Found 0\n",
      "OpenCV(4.11.0) /io/opencv/modules/calib3d/src/usac/ransac_solvers.cpp:1047: error: (-2:Unspecified error) in function 'cv::usac::mergePoints(cv::InputArray, cv::InputArray, cv::Mat&, bool)::<lambda(cv::Mat&, int)>'\n",
      "> Invalid dimension of point (expected: 'points.cols >= pt_dim'), where\n",
      ">     'points.cols' is 0\n",
      "> must be greater than or equal to\n",
      ">     'pt_dim' is 2\n",
      "\n",
      "Found 1\n",
      "OpenCV(4.11.0) /io/opencv/modules/calib3d/src/usac/ransac_solvers.cpp:1047: error: (-2:Unspecified error) in function 'cv::usac::mergePoints(cv::InputArray, cv::InputArray, cv::Mat&, bool)::<lambda(cv::Mat&, int)>'\n",
      "> Invalid dimension of point (expected: 'points.cols >= pt_dim'), where\n",
      ">     'points.cols' is 1\n",
      "> must be greater than or equal to\n",
      ">     'pt_dim' is 2\n",
      "\n",
      "Found 0\n",
      "OpenCV(4.11.0) /io/opencv/modules/calib3d/src/usac/ransac_solvers.cpp:1047: error: (-2:Unspecified error) in function 'cv::usac::mergePoints(cv::InputArray, cv::InputArray, cv::Mat&, bool)::<lambda(cv::Mat&, int)>'\n",
      "> Invalid dimension of point (expected: 'points.cols >= pt_dim'), where\n",
      ">     'points.cols' is 0\n",
      "> must be greater than or equal to\n",
      ">     'pt_dim' is 2\n",
      "\n",
      "Found 0\n",
      "OpenCV(4.11.0) /io/opencv/modules/calib3d/src/usac/ransac_solvers.cpp:1047: error: (-2:Unspecified error) in function 'cv::usac::mergePoints(cv::InputArray, cv::InputArray, cv::Mat&, bool)::<lambda(cv::Mat&, int)>'\n",
      "> Invalid dimension of point (expected: 'points.cols >= pt_dim'), where\n",
      ">     'points.cols' is 0\n",
      "> must be greater than or equal to\n",
      ">     'pt_dim' is 2\n",
      "\n"
     ]
    },
    {
     "name": "stderr",
     "output_type": "stream",
     "text": [
      " 92%|█████████▏| 17272/18840 [04:33<00:12, 120.75it/s]"
     ]
    },
    {
     "name": "stdout",
     "output_type": "stream",
     "text": [
      "Found 1\n",
      "OpenCV(4.11.0) /io/opencv/modules/calib3d/src/usac/ransac_solvers.cpp:1047: error: (-2:Unspecified error) in function 'cv::usac::mergePoints(cv::InputArray, cv::InputArray, cv::Mat&, bool)::<lambda(cv::Mat&, int)>'\n",
      "> Invalid dimension of point (expected: 'points.cols >= pt_dim'), where\n",
      ">     'points.cols' is 1\n",
      "> must be greater than or equal to\n",
      ">     'pt_dim' is 2\n",
      "\n",
      "Found 1\n",
      "OpenCV(4.11.0) /io/opencv/modules/calib3d/src/usac/ransac_solvers.cpp:1047: error: (-2:Unspecified error) in function 'cv::usac::mergePoints(cv::InputArray, cv::InputArray, cv::Mat&, bool)::<lambda(cv::Mat&, int)>'\n",
      "> Invalid dimension of point (expected: 'points.cols >= pt_dim'), where\n",
      ">     'points.cols' is 1\n",
      "> must be greater than or equal to\n",
      ">     'pt_dim' is 2\n",
      "\n",
      "Found 0\n",
      "OpenCV(4.11.0) /io/opencv/modules/calib3d/src/usac/ransac_solvers.cpp:1047: error: (-2:Unspecified error) in function 'cv::usac::mergePoints(cv::InputArray, cv::InputArray, cv::Mat&, bool)::<lambda(cv::Mat&, int)>'\n",
      "> Invalid dimension of point (expected: 'points.cols >= pt_dim'), where\n",
      ">     'points.cols' is 0\n",
      "> must be greater than or equal to\n",
      ">     'pt_dim' is 2\n",
      "\n",
      "Found 0\n",
      "OpenCV(4.11.0) /io/opencv/modules/calib3d/src/usac/ransac_solvers.cpp:1047: error: (-2:Unspecified error) in function 'cv::usac::mergePoints(cv::InputArray, cv::InputArray, cv::Mat&, bool)::<lambda(cv::Mat&, int)>'\n",
      "> Invalid dimension of point (expected: 'points.cols >= pt_dim'), where\n",
      ">     'points.cols' is 0\n",
      "> must be greater than or equal to\n",
      ">     'pt_dim' is 2\n",
      "\n",
      "Found 1\n",
      "OpenCV(4.11.0) /io/opencv/modules/calib3d/src/usac/ransac_solvers.cpp:1047: error: (-2:Unspecified error) in function 'cv::usac::mergePoints(cv::InputArray, cv::InputArray, cv::Mat&, bool)::<lambda(cv::Mat&, int)>'\n",
      "> Invalid dimension of point (expected: 'points.cols >= pt_dim'), where\n",
      ">     'points.cols' is 1\n",
      "> must be greater than or equal to\n",
      ">     'pt_dim' is 2\n",
      "\n",
      "Found 3\n",
      "OpenCV(4.11.0) /io/opencv/modules/calib3d/src/usac/sampler.cpp:45: error: (-215:Assertion failed) sample_size <= points_size_ in function 'setPointsSize'\n",
      "\n",
      "Found 0\n",
      "OpenCV(4.11.0) /io/opencv/modules/calib3d/src/usac/ransac_solvers.cpp:1047: error: (-2:Unspecified error) in function 'cv::usac::mergePoints(cv::InputArray, cv::InputArray, cv::Mat&, bool)::<lambda(cv::Mat&, int)>'\n",
      "> Invalid dimension of point (expected: 'points.cols >= pt_dim'), where\n",
      ">     'points.cols' is 0\n",
      "> must be greater than or equal to\n",
      ">     'pt_dim' is 2\n",
      "\n",
      "Found 0\n",
      "OpenCV(4.11.0) /io/opencv/modules/calib3d/src/usac/ransac_solvers.cpp:1047: error: (-2:Unspecified error) in function 'cv::usac::mergePoints(cv::InputArray, cv::InputArray, cv::Mat&, bool)::<lambda(cv::Mat&, int)>'\n",
      "> Invalid dimension of point (expected: 'points.cols >= pt_dim'), where\n",
      ">     'points.cols' is 0\n",
      "> must be greater than or equal to\n",
      ">     'pt_dim' is 2\n",
      "\n",
      "Found 6\n",
      "OpenCV(4.11.0) /io/opencv/modules/calib3d/src/usac/sampler.cpp:45: error: (-215:Assertion failed) sample_size <= points_size_ in function 'setPointsSize'\n",
      "\n",
      "Found 0\n",
      "OpenCV(4.11.0) /io/opencv/modules/calib3d/src/usac/ransac_solvers.cpp:1047: error: (-2:Unspecified error) in function 'cv::usac::mergePoints(cv::InputArray, cv::InputArray, cv::Mat&, bool)::<lambda(cv::Mat&, int)>'\n",
      "> Invalid dimension of point (expected: 'points.cols >= pt_dim'), where\n",
      ">     'points.cols' is 0\n",
      "> must be greater than or equal to\n",
      ">     'pt_dim' is 2\n",
      "\n",
      "Found 0\n",
      "OpenCV(4.11.0) /io/opencv/modules/calib3d/src/usac/ransac_solvers.cpp:1047: error: (-2:Unspecified error) in function 'cv::usac::mergePoints(cv::InputArray, cv::InputArray, cv::Mat&, bool)::<lambda(cv::Mat&, int)>'\n",
      "> Invalid dimension of point (expected: 'points.cols >= pt_dim'), where\n",
      ">     'points.cols' is 0\n",
      "> must be greater than or equal to\n",
      ">     'pt_dim' is 2\n",
      "\n",
      "Found 0\n",
      "OpenCV(4.11.0) /io/opencv/modules/calib3d/src/usac/ransac_solvers.cpp:1047: error: (-2:Unspecified error) in function 'cv::usac::mergePoints(cv::InputArray, cv::InputArray, cv::Mat&, bool)::<lambda(cv::Mat&, int)>'\n",
      "> Invalid dimension of point (expected: 'points.cols >= pt_dim'), where\n",
      ">     'points.cols' is 0\n",
      "> must be greater than or equal to\n",
      ">     'pt_dim' is 2\n",
      "\n",
      "Found 0\n",
      "OpenCV(4.11.0) /io/opencv/modules/calib3d/src/usac/ransac_solvers.cpp:1047: error: (-2:Unspecified error) in function 'cv::usac::mergePoints(cv::InputArray, cv::InputArray, cv::Mat&, bool)::<lambda(cv::Mat&, int)>'\n",
      "> Invalid dimension of point (expected: 'points.cols >= pt_dim'), where\n",
      ">     'points.cols' is 0\n",
      "> must be greater than or equal to\n",
      ">     'pt_dim' is 2\n",
      "\n",
      "Found 1\n",
      "OpenCV(4.11.0) /io/opencv/modules/calib3d/src/usac/ransac_solvers.cpp:1047: error: (-2:Unspecified error) in function 'cv::usac::mergePoints(cv::InputArray, cv::InputArray, cv::Mat&, bool)::<lambda(cv::Mat&, int)>'\n",
      "> Invalid dimension of point (expected: 'points.cols >= pt_dim'), where\n",
      ">     'points.cols' is 1\n",
      "> must be greater than or equal to\n",
      ">     'pt_dim' is 2\n",
      "\n",
      "Found 0\n",
      "OpenCV(4.11.0) /io/opencv/modules/calib3d/src/usac/ransac_solvers.cpp:1047: error: (-2:Unspecified error) in function 'cv::usac::mergePoints(cv::InputArray, cv::InputArray, cv::Mat&, bool)::<lambda(cv::Mat&, int)>'\n",
      "> Invalid dimension of point (expected: 'points.cols >= pt_dim'), where\n",
      ">     'points.cols' is 0\n",
      "> must be greater than or equal to\n",
      ">     'pt_dim' is 2\n",
      "\n",
      "Found 1\n",
      "OpenCV(4.11.0) /io/opencv/modules/calib3d/src/usac/ransac_solvers.cpp:1047: error: (-2:Unspecified error) in function 'cv::usac::mergePoints(cv::InputArray, cv::InputArray, cv::Mat&, bool)::<lambda(cv::Mat&, int)>'\n",
      "> Invalid dimension of point (expected: 'points.cols >= pt_dim'), where\n",
      ">     'points.cols' is 1\n",
      "> must be greater than or equal to\n",
      ">     'pt_dim' is 2\n",
      "\n",
      "Found 0\n",
      "OpenCV(4.11.0) /io/opencv/modules/calib3d/src/usac/ransac_solvers.cpp:1047: error: (-2:Unspecified error) in function 'cv::usac::mergePoints(cv::InputArray, cv::InputArray, cv::Mat&, bool)::<lambda(cv::Mat&, int)>'\n",
      "> Invalid dimension of point (expected: 'points.cols >= pt_dim'), where\n",
      ">     'points.cols' is 0\n",
      "> must be greater than or equal to\n",
      ">     'pt_dim' is 2\n",
      "\n",
      "Found 2\n",
      "OpenCV(4.11.0) /io/opencv/modules/calib3d/src/usac/sampler.cpp:45: error: (-215:Assertion failed) sample_size <= points_size_ in function 'setPointsSize'\n",
      "\n",
      "Found 2\n",
      "OpenCV(4.11.0) /io/opencv/modules/calib3d/src/usac/sampler.cpp:45: error: (-215:Assertion failed) sample_size <= points_size_ in function 'setPointsSize'\n",
      "\n",
      "Found 1\n",
      "OpenCV(4.11.0) /io/opencv/modules/calib3d/src/usac/ransac_solvers.cpp:1047: error: (-2:Unspecified error) in function 'cv::usac::mergePoints(cv::InputArray, cv::InputArray, cv::Mat&, bool)::<lambda(cv::Mat&, int)>'\n",
      "> Invalid dimension of point (expected: 'points.cols >= pt_dim'), where\n",
      ">     'points.cols' is 1\n",
      "> must be greater than or equal to\n",
      ">     'pt_dim' is 2\n",
      "\n",
      "Found 0\n",
      "OpenCV(4.11.0) /io/opencv/modules/calib3d/src/usac/ransac_solvers.cpp:1047: error: (-2:Unspecified error) in function 'cv::usac::mergePoints(cv::InputArray, cv::InputArray, cv::Mat&, bool)::<lambda(cv::Mat&, int)>'\n",
      "> Invalid dimension of point (expected: 'points.cols >= pt_dim'), where\n",
      ">     'points.cols' is 0\n",
      "> must be greater than or equal to\n",
      ">     'pt_dim' is 2\n",
      "\n",
      "Found 0\n",
      "OpenCV(4.11.0) /io/opencv/modules/calib3d/src/usac/ransac_solvers.cpp:1047: error: (-2:Unspecified error) in function 'cv::usac::mergePoints(cv::InputArray, cv::InputArray, cv::Mat&, bool)::<lambda(cv::Mat&, int)>'\n",
      "> Invalid dimension of point (expected: 'points.cols >= pt_dim'), where\n",
      ">     'points.cols' is 0\n",
      "> must be greater than or equal to\n",
      ">     'pt_dim' is 2\n",
      "\n",
      "Found 0\n",
      "OpenCV(4.11.0) /io/opencv/modules/calib3d/src/usac/ransac_solvers.cpp:1047: error: (-2:Unspecified error) in function 'cv::usac::mergePoints(cv::InputArray, cv::InputArray, cv::Mat&, bool)::<lambda(cv::Mat&, int)>'\n",
      "> Invalid dimension of point (expected: 'points.cols >= pt_dim'), where\n",
      ">     'points.cols' is 0\n",
      "> must be greater than or equal to\n",
      ">     'pt_dim' is 2\n",
      "\n",
      "Found 1\n",
      "OpenCV(4.11.0) /io/opencv/modules/calib3d/src/usac/ransac_solvers.cpp:1047: error: (-2:Unspecified error) in function 'cv::usac::mergePoints(cv::InputArray, cv::InputArray, cv::Mat&, bool)::<lambda(cv::Mat&, int)>'\n",
      "> Invalid dimension of point (expected: 'points.cols >= pt_dim'), where\n",
      ">     'points.cols' is 1\n",
      "> must be greater than or equal to\n",
      ">     'pt_dim' is 2\n",
      "\n"
     ]
    },
    {
     "name": "stderr",
     "output_type": "stream",
     "text": [
      " 92%|█████████▏| 17287/18840 [04:33<00:12, 124.99it/s]"
     ]
    },
    {
     "name": "stdout",
     "output_type": "stream",
     "text": [
      "Found 0\n",
      "OpenCV(4.11.0) /io/opencv/modules/calib3d/src/usac/ransac_solvers.cpp:1047: error: (-2:Unspecified error) in function 'cv::usac::mergePoints(cv::InputArray, cv::InputArray, cv::Mat&, bool)::<lambda(cv::Mat&, int)>'\n",
      "> Invalid dimension of point (expected: 'points.cols >= pt_dim'), where\n",
      ">     'points.cols' is 0\n",
      "> must be greater than or equal to\n",
      ">     'pt_dim' is 2\n",
      "\n",
      "Found 0\n",
      "OpenCV(4.11.0) /io/opencv/modules/calib3d/src/usac/ransac_solvers.cpp:1047: error: (-2:Unspecified error) in function 'cv::usac::mergePoints(cv::InputArray, cv::InputArray, cv::Mat&, bool)::<lambda(cv::Mat&, int)>'\n",
      "> Invalid dimension of point (expected: 'points.cols >= pt_dim'), where\n",
      ">     'points.cols' is 0\n",
      "> must be greater than or equal to\n",
      ">     'pt_dim' is 2\n",
      "\n",
      "Found 0\n",
      "OpenCV(4.11.0) /io/opencv/modules/calib3d/src/usac/ransac_solvers.cpp:1047: error: (-2:Unspecified error) in function 'cv::usac::mergePoints(cv::InputArray, cv::InputArray, cv::Mat&, bool)::<lambda(cv::Mat&, int)>'\n",
      "> Invalid dimension of point (expected: 'points.cols >= pt_dim'), where\n",
      ">     'points.cols' is 0\n",
      "> must be greater than or equal to\n",
      ">     'pt_dim' is 2\n",
      "\n",
      "Found 0\n",
      "OpenCV(4.11.0) /io/opencv/modules/calib3d/src/usac/ransac_solvers.cpp:1047: error: (-2:Unspecified error) in function 'cv::usac::mergePoints(cv::InputArray, cv::InputArray, cv::Mat&, bool)::<lambda(cv::Mat&, int)>'\n",
      "> Invalid dimension of point (expected: 'points.cols >= pt_dim'), where\n",
      ">     'points.cols' is 0\n",
      "> must be greater than or equal to\n",
      ">     'pt_dim' is 2\n",
      "\n",
      "Found 0\n",
      "OpenCV(4.11.0) /io/opencv/modules/calib3d/src/usac/ransac_solvers.cpp:1047: error: (-2:Unspecified error) in function 'cv::usac::mergePoints(cv::InputArray, cv::InputArray, cv::Mat&, bool)::<lambda(cv::Mat&, int)>'\n",
      "> Invalid dimension of point (expected: 'points.cols >= pt_dim'), where\n",
      ">     'points.cols' is 0\n",
      "> must be greater than or equal to\n",
      ">     'pt_dim' is 2\n",
      "\n",
      "Found 1\n",
      "OpenCV(4.11.0) /io/opencv/modules/calib3d/src/usac/ransac_solvers.cpp:1047: error: (-2:Unspecified error) in function 'cv::usac::mergePoints(cv::InputArray, cv::InputArray, cv::Mat&, bool)::<lambda(cv::Mat&, int)>'\n",
      "> Invalid dimension of point (expected: 'points.cols >= pt_dim'), where\n",
      ">     'points.cols' is 1\n",
      "> must be greater than or equal to\n",
      ">     'pt_dim' is 2\n",
      "\n",
      "Found 1\n",
      "OpenCV(4.11.0) /io/opencv/modules/calib3d/src/usac/ransac_solvers.cpp:1047: error: (-2:Unspecified error) in function 'cv::usac::mergePoints(cv::InputArray, cv::InputArray, cv::Mat&, bool)::<lambda(cv::Mat&, int)>'\n",
      "> Invalid dimension of point (expected: 'points.cols >= pt_dim'), where\n",
      ">     'points.cols' is 1\n",
      "> must be greater than or equal to\n",
      ">     'pt_dim' is 2\n",
      "\n",
      "Found 1\n",
      "OpenCV(4.11.0) /io/opencv/modules/calib3d/src/usac/ransac_solvers.cpp:1047: error: (-2:Unspecified error) in function 'cv::usac::mergePoints(cv::InputArray, cv::InputArray, cv::Mat&, bool)::<lambda(cv::Mat&, int)>'\n",
      "> Invalid dimension of point (expected: 'points.cols >= pt_dim'), where\n",
      ">     'points.cols' is 1\n",
      "> must be greater than or equal to\n",
      ">     'pt_dim' is 2\n",
      "\n",
      "Found 1\n",
      "OpenCV(4.11.0) /io/opencv/modules/calib3d/src/usac/ransac_solvers.cpp:1047: error: (-2:Unspecified error) in function 'cv::usac::mergePoints(cv::InputArray, cv::InputArray, cv::Mat&, bool)::<lambda(cv::Mat&, int)>'\n",
      "> Invalid dimension of point (expected: 'points.cols >= pt_dim'), where\n",
      ">     'points.cols' is 1\n",
      "> must be greater than or equal to\n",
      ">     'pt_dim' is 2\n",
      "\n"
     ]
    },
    {
     "name": "stderr",
     "output_type": "stream",
     "text": [
      " 92%|█████████▏| 17311/18840 [04:33<00:20, 74.66it/s] "
     ]
    },
    {
     "name": "stdout",
     "output_type": "stream",
     "text": [
      "Found 6\n",
      "OpenCV(4.11.0) /io/opencv/modules/calib3d/src/usac/sampler.cpp:45: error: (-215:Assertion failed) sample_size <= points_size_ in function 'setPointsSize'\n",
      "\n"
     ]
    },
    {
     "name": "stderr",
     "output_type": "stream",
     "text": [
      " 92%|█████████▏| 17328/18840 [04:34<00:24, 61.54it/s]"
     ]
    },
    {
     "name": "stdout",
     "output_type": "stream",
     "text": [
      "Found 2\n",
      "OpenCV(4.11.0) /io/opencv/modules/calib3d/src/usac/sampler.cpp:45: error: (-215:Assertion failed) sample_size <= points_size_ in function 'setPointsSize'\n",
      "\n"
     ]
    },
    {
     "name": "stderr",
     "output_type": "stream",
     "text": [
      " 92%|█████████▏| 17407/18840 [04:35<00:15, 92.98it/s]"
     ]
    },
    {
     "name": "stdout",
     "output_type": "stream",
     "text": [
      "Found 1\n",
      "OpenCV(4.11.0) /io/opencv/modules/calib3d/src/usac/ransac_solvers.cpp:1047: error: (-2:Unspecified error) in function 'cv::usac::mergePoints(cv::InputArray, cv::InputArray, cv::Mat&, bool)::<lambda(cv::Mat&, int)>'\n",
      "> Invalid dimension of point (expected: 'points.cols >= pt_dim'), where\n",
      ">     'points.cols' is 1\n",
      "> must be greater than or equal to\n",
      ">     'pt_dim' is 2\n",
      "\n",
      "Found 0\n",
      "OpenCV(4.11.0) /io/opencv/modules/calib3d/src/usac/ransac_solvers.cpp:1047: error: (-2:Unspecified error) in function 'cv::usac::mergePoints(cv::InputArray, cv::InputArray, cv::Mat&, bool)::<lambda(cv::Mat&, int)>'\n",
      "> Invalid dimension of point (expected: 'points.cols >= pt_dim'), where\n",
      ">     'points.cols' is 0\n",
      "> must be greater than or equal to\n",
      ">     'pt_dim' is 2\n",
      "\n",
      "Found 0\n",
      "OpenCV(4.11.0) /io/opencv/modules/calib3d/src/usac/ransac_solvers.cpp:1047: error: (-2:Unspecified error) in function 'cv::usac::mergePoints(cv::InputArray, cv::InputArray, cv::Mat&, bool)::<lambda(cv::Mat&, int)>'\n",
      "> Invalid dimension of point (expected: 'points.cols >= pt_dim'), where\n",
      ">     'points.cols' is 0\n",
      "> must be greater than or equal to\n",
      ">     'pt_dim' is 2\n",
      "\n",
      "Found 0\n",
      "OpenCV(4.11.0) /io/opencv/modules/calib3d/src/usac/ransac_solvers.cpp:1047: error: (-2:Unspecified error) in function 'cv::usac::mergePoints(cv::InputArray, cv::InputArray, cv::Mat&, bool)::<lambda(cv::Mat&, int)>'\n",
      "> Invalid dimension of point (expected: 'points.cols >= pt_dim'), where\n",
      ">     'points.cols' is 0\n",
      "> must be greater than or equal to\n",
      ">     'pt_dim' is 2\n",
      "\n",
      "Found 0\n",
      "OpenCV(4.11.0) /io/opencv/modules/calib3d/src/usac/ransac_solvers.cpp:1047: error: (-2:Unspecified error) in function 'cv::usac::mergePoints(cv::InputArray, cv::InputArray, cv::Mat&, bool)::<lambda(cv::Mat&, int)>'\n",
      "> Invalid dimension of point (expected: 'points.cols >= pt_dim'), where\n",
      ">     'points.cols' is 0\n",
      "> must be greater than or equal to\n",
      ">     'pt_dim' is 2\n",
      "\n",
      "Found 0\n",
      "OpenCV(4.11.0) /io/opencv/modules/calib3d/src/usac/ransac_solvers.cpp:1047: error: (-2:Unspecified error) in function 'cv::usac::mergePoints(cv::InputArray, cv::InputArray, cv::Mat&, bool)::<lambda(cv::Mat&, int)>'\n",
      "> Invalid dimension of point (expected: 'points.cols >= pt_dim'), where\n",
      ">     'points.cols' is 0\n",
      "> must be greater than or equal to\n",
      ">     'pt_dim' is 2\n",
      "\n",
      "Found 0\n",
      "OpenCV(4.11.0) /io/opencv/modules/calib3d/src/usac/ransac_solvers.cpp:1047: error: (-2:Unspecified error) in function 'cv::usac::mergePoints(cv::InputArray, cv::InputArray, cv::Mat&, bool)::<lambda(cv::Mat&, int)>'\n",
      "> Invalid dimension of point (expected: 'points.cols >= pt_dim'), where\n",
      ">     'points.cols' is 0\n",
      "> must be greater than or equal to\n",
      ">     'pt_dim' is 2\n",
      "\n",
      "Found 0\n",
      "OpenCV(4.11.0) /io/opencv/modules/calib3d/src/usac/ransac_solvers.cpp:1047: error: (-2:Unspecified error) in function 'cv::usac::mergePoints(cv::InputArray, cv::InputArray, cv::Mat&, bool)::<lambda(cv::Mat&, int)>'\n",
      "> Invalid dimension of point (expected: 'points.cols >= pt_dim'), where\n",
      ">     'points.cols' is 0\n",
      "> must be greater than or equal to\n",
      ">     'pt_dim' is 2\n",
      "\n",
      "Found 0\n",
      "OpenCV(4.11.0) /io/opencv/modules/calib3d/src/usac/ransac_solvers.cpp:1047: error: (-2:Unspecified error) in function 'cv::usac::mergePoints(cv::InputArray, cv::InputArray, cv::Mat&, bool)::<lambda(cv::Mat&, int)>'\n",
      "> Invalid dimension of point (expected: 'points.cols >= pt_dim'), where\n",
      ">     'points.cols' is 0\n",
      "> must be greater than or equal to\n",
      ">     'pt_dim' is 2\n",
      "\n",
      "Found 0\n",
      "OpenCV(4.11.0) /io/opencv/modules/calib3d/src/usac/ransac_solvers.cpp:1047: error: (-2:Unspecified error) in function 'cv::usac::mergePoints(cv::InputArray, cv::InputArray, cv::Mat&, bool)::<lambda(cv::Mat&, int)>'\n",
      "> Invalid dimension of point (expected: 'points.cols >= pt_dim'), where\n",
      ">     'points.cols' is 0\n",
      "> must be greater than or equal to\n",
      ">     'pt_dim' is 2\n",
      "\n",
      "Found 6\n",
      "OpenCV(4.11.0) /io/opencv/modules/calib3d/src/usac/sampler.cpp:45: error: (-215:Assertion failed) sample_size <= points_size_ in function 'setPointsSize'\n",
      "\n",
      "Found 0\n",
      "OpenCV(4.11.0) /io/opencv/modules/calib3d/src/usac/ransac_solvers.cpp:1047: error: (-2:Unspecified error) in function 'cv::usac::mergePoints(cv::InputArray, cv::InputArray, cv::Mat&, bool)::<lambda(cv::Mat&, int)>'\n",
      "> Invalid dimension of point (expected: 'points.cols >= pt_dim'), where\n",
      ">     'points.cols' is 0\n",
      "> must be greater than or equal to\n",
      ">     'pt_dim' is 2\n",
      "\n",
      "Found 1\n",
      "OpenCV(4.11.0) /io/opencv/modules/calib3d/src/usac/ransac_solvers.cpp:1047: error: (-2:Unspecified error) in function 'cv::usac::mergePoints(cv::InputArray, cv::InputArray, cv::Mat&, bool)::<lambda(cv::Mat&, int)>'\n",
      "> Invalid dimension of point (expected: 'points.cols >= pt_dim'), where\n",
      ">     'points.cols' is 1\n",
      "> must be greater than or equal to\n",
      ">     'pt_dim' is 2\n",
      "\n",
      "Found 2\n",
      "OpenCV(4.11.0) /io/opencv/modules/calib3d/src/usac/sampler.cpp:45: error: (-215:Assertion failed) sample_size <= points_size_ in function 'setPointsSize'\n",
      "\n",
      "Found 0\n",
      "OpenCV(4.11.0) /io/opencv/modules/calib3d/src/usac/ransac_solvers.cpp:1047: error: (-2:Unspecified error) in function 'cv::usac::mergePoints(cv::InputArray, cv::InputArray, cv::Mat&, bool)::<lambda(cv::Mat&, int)>'\n",
      "> Invalid dimension of point (expected: 'points.cols >= pt_dim'), where\n",
      ">     'points.cols' is 0\n",
      "> must be greater than or equal to\n",
      ">     'pt_dim' is 2\n",
      "\n",
      "Found 0\n",
      "OpenCV(4.11.0) /io/opencv/modules/calib3d/src/usac/ransac_solvers.cpp:1047: error: (-2:Unspecified error) in function 'cv::usac::mergePoints(cv::InputArray, cv::InputArray, cv::Mat&, bool)::<lambda(cv::Mat&, int)>'\n",
      "> Invalid dimension of point (expected: 'points.cols >= pt_dim'), where\n",
      ">     'points.cols' is 0\n",
      "> must be greater than or equal to\n",
      ">     'pt_dim' is 2\n",
      "\n",
      "Found 3\n",
      "OpenCV(4.11.0) /io/opencv/modules/calib3d/src/usac/sampler.cpp:45: error: (-215:Assertion failed) sample_size <= points_size_ in function 'setPointsSize'\n",
      "\n",
      "Found 3\n",
      "OpenCV(4.11.0) /io/opencv/modules/calib3d/src/usac/sampler.cpp:45: error: (-215:Assertion failed) sample_size <= points_size_ in function 'setPointsSize'\n",
      "\n",
      "Found 0\n",
      "OpenCV(4.11.0) /io/opencv/modules/calib3d/src/usac/ransac_solvers.cpp:1047: error: (-2:Unspecified error) in function 'cv::usac::mergePoints(cv::InputArray, cv::InputArray, cv::Mat&, bool)::<lambda(cv::Mat&, int)>'\n",
      "> Invalid dimension of point (expected: 'points.cols >= pt_dim'), where\n",
      ">     'points.cols' is 0\n",
      "> must be greater than or equal to\n",
      ">     'pt_dim' is 2\n",
      "\n",
      "Found 0\n",
      "OpenCV(4.11.0) /io/opencv/modules/calib3d/src/usac/ransac_solvers.cpp:1047: error: (-2:Unspecified error) in function 'cv::usac::mergePoints(cv::InputArray, cv::InputArray, cv::Mat&, bool)::<lambda(cv::Mat&, int)>'\n",
      "> Invalid dimension of point (expected: 'points.cols >= pt_dim'), where\n",
      ">     'points.cols' is 0\n",
      "> must be greater than or equal to\n",
      ">     'pt_dim' is 2\n",
      "\n",
      "Found 1\n",
      "OpenCV(4.11.0) /io/opencv/modules/calib3d/src/usac/ransac_solvers.cpp:1047: error: (-2:Unspecified error) in function 'cv::usac::mergePoints(cv::InputArray, cv::InputArray, cv::Mat&, bool)::<lambda(cv::Mat&, int)>'\n",
      "> Invalid dimension of point (expected: 'points.cols >= pt_dim'), where\n",
      ">     'points.cols' is 1\n",
      "> must be greater than or equal to\n",
      ">     'pt_dim' is 2\n",
      "\n",
      "Found 2\n",
      "OpenCV(4.11.0) /io/opencv/modules/calib3d/src/usac/sampler.cpp:45: error: (-215:Assertion failed) sample_size <= points_size_ in function 'setPointsSize'\n",
      "\n",
      "Found 6\n",
      "OpenCV(4.11.0) /io/opencv/modules/calib3d/src/usac/sampler.cpp:45: error: (-215:Assertion failed) sample_size <= points_size_ in function 'setPointsSize'\n",
      "\n"
     ]
    },
    {
     "name": "stderr",
     "output_type": "stream",
     "text": [
      " 93%|█████████▎| 17437/18840 [04:35<00:11, 118.45it/s]"
     ]
    },
    {
     "name": "stdout",
     "output_type": "stream",
     "text": [
      "Found 0\n",
      "OpenCV(4.11.0) /io/opencv/modules/calib3d/src/usac/ransac_solvers.cpp:1047: error: (-2:Unspecified error) in function 'cv::usac::mergePoints(cv::InputArray, cv::InputArray, cv::Mat&, bool)::<lambda(cv::Mat&, int)>'\n",
      "> Invalid dimension of point (expected: 'points.cols >= pt_dim'), where\n",
      ">     'points.cols' is 0\n",
      "> must be greater than or equal to\n",
      ">     'pt_dim' is 2\n",
      "\n",
      "Found 0\n",
      "OpenCV(4.11.0) /io/opencv/modules/calib3d/src/usac/ransac_solvers.cpp:1047: error: (-2:Unspecified error) in function 'cv::usac::mergePoints(cv::InputArray, cv::InputArray, cv::Mat&, bool)::<lambda(cv::Mat&, int)>'\n",
      "> Invalid dimension of point (expected: 'points.cols >= pt_dim'), where\n",
      ">     'points.cols' is 0\n",
      "> must be greater than or equal to\n",
      ">     'pt_dim' is 2\n",
      "\n",
      "Found 0\n",
      "OpenCV(4.11.0) /io/opencv/modules/calib3d/src/usac/ransac_solvers.cpp:1047: error: (-2:Unspecified error) in function 'cv::usac::mergePoints(cv::InputArray, cv::InputArray, cv::Mat&, bool)::<lambda(cv::Mat&, int)>'\n",
      "> Invalid dimension of point (expected: 'points.cols >= pt_dim'), where\n",
      ">     'points.cols' is 0\n",
      "> must be greater than or equal to\n",
      ">     'pt_dim' is 2\n",
      "\n",
      "Found 0\n",
      "OpenCV(4.11.0) /io/opencv/modules/calib3d/src/usac/ransac_solvers.cpp:1047: error: (-2:Unspecified error) in function 'cv::usac::mergePoints(cv::InputArray, cv::InputArray, cv::Mat&, bool)::<lambda(cv::Mat&, int)>'\n",
      "> Invalid dimension of point (expected: 'points.cols >= pt_dim'), where\n",
      ">     'points.cols' is 0\n",
      "> must be greater than or equal to\n",
      ">     'pt_dim' is 2\n",
      "\n",
      "Found 0\n",
      "OpenCV(4.11.0) /io/opencv/modules/calib3d/src/usac/ransac_solvers.cpp:1047: error: (-2:Unspecified error) in function 'cv::usac::mergePoints(cv::InputArray, cv::InputArray, cv::Mat&, bool)::<lambda(cv::Mat&, int)>'\n",
      "> Invalid dimension of point (expected: 'points.cols >= pt_dim'), where\n",
      ">     'points.cols' is 0\n",
      "> must be greater than or equal to\n",
      ">     'pt_dim' is 2\n",
      "\n",
      "Found 0\n",
      "OpenCV(4.11.0) /io/opencv/modules/calib3d/src/usac/ransac_solvers.cpp:1047: error: (-2:Unspecified error) in function 'cv::usac::mergePoints(cv::InputArray, cv::InputArray, cv::Mat&, bool)::<lambda(cv::Mat&, int)>'\n",
      "> Invalid dimension of point (expected: 'points.cols >= pt_dim'), where\n",
      ">     'points.cols' is 0\n",
      "> must be greater than or equal to\n",
      ">     'pt_dim' is 2\n",
      "\n",
      "Found 0\n",
      "OpenCV(4.11.0) /io/opencv/modules/calib3d/src/usac/ransac_solvers.cpp:1047: error: (-2:Unspecified error) in function 'cv::usac::mergePoints(cv::InputArray, cv::InputArray, cv::Mat&, bool)::<lambda(cv::Mat&, int)>'\n",
      "> Invalid dimension of point (expected: 'points.cols >= pt_dim'), where\n",
      ">     'points.cols' is 0\n",
      "> must be greater than or equal to\n",
      ">     'pt_dim' is 2\n",
      "\n",
      "Found 0\n",
      "OpenCV(4.11.0) /io/opencv/modules/calib3d/src/usac/ransac_solvers.cpp:1047: error: (-2:Unspecified error) in function 'cv::usac::mergePoints(cv::InputArray, cv::InputArray, cv::Mat&, bool)::<lambda(cv::Mat&, int)>'\n",
      "> Invalid dimension of point (expected: 'points.cols >= pt_dim'), where\n",
      ">     'points.cols' is 0\n",
      "> must be greater than or equal to\n",
      ">     'pt_dim' is 2\n",
      "\n",
      "Found 0\n",
      "OpenCV(4.11.0) /io/opencv/modules/calib3d/src/usac/ransac_solvers.cpp:1047: error: (-2:Unspecified error) in function 'cv::usac::mergePoints(cv::InputArray, cv::InputArray, cv::Mat&, bool)::<lambda(cv::Mat&, int)>'\n",
      "> Invalid dimension of point (expected: 'points.cols >= pt_dim'), where\n",
      ">     'points.cols' is 0\n",
      "> must be greater than or equal to\n",
      ">     'pt_dim' is 2\n",
      "\n",
      "Found 0\n",
      "OpenCV(4.11.0) /io/opencv/modules/calib3d/src/usac/ransac_solvers.cpp:1047: error: (-2:Unspecified error) in function 'cv::usac::mergePoints(cv::InputArray, cv::InputArray, cv::Mat&, bool)::<lambda(cv::Mat&, int)>'\n",
      "> Invalid dimension of point (expected: 'points.cols >= pt_dim'), where\n",
      ">     'points.cols' is 0\n",
      "> must be greater than or equal to\n",
      ">     'pt_dim' is 2\n",
      "\n",
      "Found 0\n",
      "OpenCV(4.11.0) /io/opencv/modules/calib3d/src/usac/ransac_solvers.cpp:1047: error: (-2:Unspecified error) in function 'cv::usac::mergePoints(cv::InputArray, cv::InputArray, cv::Mat&, bool)::<lambda(cv::Mat&, int)>'\n",
      "> Invalid dimension of point (expected: 'points.cols >= pt_dim'), where\n",
      ">     'points.cols' is 0\n",
      "> must be greater than or equal to\n",
      ">     'pt_dim' is 2\n",
      "\n",
      "Found 4\n",
      "OpenCV(4.11.0) /io/opencv/modules/calib3d/src/usac/sampler.cpp:45: error: (-215:Assertion failed) sample_size <= points_size_ in function 'setPointsSize'\n",
      "\n",
      "Found 1\n",
      "OpenCV(4.11.0) /io/opencv/modules/calib3d/src/usac/ransac_solvers.cpp:1047: error: (-2:Unspecified error) in function 'cv::usac::mergePoints(cv::InputArray, cv::InputArray, cv::Mat&, bool)::<lambda(cv::Mat&, int)>'\n",
      "> Invalid dimension of point (expected: 'points.cols >= pt_dim'), where\n",
      ">     'points.cols' is 1\n",
      "> must be greater than or equal to\n",
      ">     'pt_dim' is 2\n",
      "\n",
      "Found 1\n",
      "OpenCV(4.11.0) /io/opencv/modules/calib3d/src/usac/ransac_solvers.cpp:1047: error: (-2:Unspecified error) in function 'cv::usac::mergePoints(cv::InputArray, cv::InputArray, cv::Mat&, bool)::<lambda(cv::Mat&, int)>'\n",
      "> Invalid dimension of point (expected: 'points.cols >= pt_dim'), where\n",
      ">     'points.cols' is 1\n",
      "> must be greater than or equal to\n",
      ">     'pt_dim' is 2\n",
      "\n",
      "Found 1\n",
      "OpenCV(4.11.0) /io/opencv/modules/calib3d/src/usac/ransac_solvers.cpp:1047: error: (-2:Unspecified error) in function 'cv::usac::mergePoints(cv::InputArray, cv::InputArray, cv::Mat&, bool)::<lambda(cv::Mat&, int)>'\n",
      "> Invalid dimension of point (expected: 'points.cols >= pt_dim'), where\n",
      ">     'points.cols' is 1\n",
      "> must be greater than or equal to\n",
      ">     'pt_dim' is 2\n",
      "\n",
      "Found 0\n",
      "OpenCV(4.11.0) /io/opencv/modules/calib3d/src/usac/ransac_solvers.cpp:1047: error: (-2:Unspecified error) in function 'cv::usac::mergePoints(cv::InputArray, cv::InputArray, cv::Mat&, bool)::<lambda(cv::Mat&, int)>'\n",
      "> Invalid dimension of point (expected: 'points.cols >= pt_dim'), where\n",
      ">     'points.cols' is 0\n",
      "> must be greater than or equal to\n",
      ">     'pt_dim' is 2\n",
      "\n",
      "Found 0\n",
      "OpenCV(4.11.0) /io/opencv/modules/calib3d/src/usac/ransac_solvers.cpp:1047: error: (-2:Unspecified error) in function 'cv::usac::mergePoints(cv::InputArray, cv::InputArray, cv::Mat&, bool)::<lambda(cv::Mat&, int)>'\n",
      "> Invalid dimension of point (expected: 'points.cols >= pt_dim'), where\n",
      ">     'points.cols' is 0\n",
      "> must be greater than or equal to\n",
      ">     'pt_dim' is 2\n",
      "\n",
      "Found 0\n",
      "OpenCV(4.11.0) /io/opencv/modules/calib3d/src/usac/ransac_solvers.cpp:1047: error: (-2:Unspecified error) in function 'cv::usac::mergePoints(cv::InputArray, cv::InputArray, cv::Mat&, bool)::<lambda(cv::Mat&, int)>'\n",
      "> Invalid dimension of point (expected: 'points.cols >= pt_dim'), where\n",
      ">     'points.cols' is 0\n",
      "> must be greater than or equal to\n",
      ">     'pt_dim' is 2\n",
      "\n",
      "Found 0\n",
      "OpenCV(4.11.0) /io/opencv/modules/calib3d/src/usac/ransac_solvers.cpp:1047: error: (-2:Unspecified error) in function 'cv::usac::mergePoints(cv::InputArray, cv::InputArray, cv::Mat&, bool)::<lambda(cv::Mat&, int)>'\n",
      "> Invalid dimension of point (expected: 'points.cols >= pt_dim'), where\n",
      ">     'points.cols' is 0\n",
      "> must be greater than or equal to\n",
      ">     'pt_dim' is 2\n",
      "\n",
      "Found 4\n",
      "OpenCV(4.11.0) /io/opencv/modules/calib3d/src/usac/sampler.cpp:45: error: (-215:Assertion failed) sample_size <= points_size_ in function 'setPointsSize'\n",
      "\n",
      "Found 0\n",
      "OpenCV(4.11.0) /io/opencv/modules/calib3d/src/usac/ransac_solvers.cpp:1047: error: (-2:Unspecified error) in function 'cv::usac::mergePoints(cv::InputArray, cv::InputArray, cv::Mat&, bool)::<lambda(cv::Mat&, int)>'\n",
      "> Invalid dimension of point (expected: 'points.cols >= pt_dim'), where\n",
      ">     'points.cols' is 0\n",
      "> must be greater than or equal to\n",
      ">     'pt_dim' is 2\n",
      "\n"
     ]
    },
    {
     "name": "stderr",
     "output_type": "stream",
     "text": [
      " 93%|█████████▎| 17468/18840 [04:35<00:10, 133.13it/s]"
     ]
    },
    {
     "name": "stdout",
     "output_type": "stream",
     "text": [
      "Found 0\n",
      "OpenCV(4.11.0) /io/opencv/modules/calib3d/src/usac/ransac_solvers.cpp:1047: error: (-2:Unspecified error) in function 'cv::usac::mergePoints(cv::InputArray, cv::InputArray, cv::Mat&, bool)::<lambda(cv::Mat&, int)>'\n",
      "> Invalid dimension of point (expected: 'points.cols >= pt_dim'), where\n",
      ">     'points.cols' is 0\n",
      "> must be greater than or equal to\n",
      ">     'pt_dim' is 2\n",
      "\n",
      "Found 0\n",
      "OpenCV(4.11.0) /io/opencv/modules/calib3d/src/usac/ransac_solvers.cpp:1047: error: (-2:Unspecified error) in function 'cv::usac::mergePoints(cv::InputArray, cv::InputArray, cv::Mat&, bool)::<lambda(cv::Mat&, int)>'\n",
      "> Invalid dimension of point (expected: 'points.cols >= pt_dim'), where\n",
      ">     'points.cols' is 0\n",
      "> must be greater than or equal to\n",
      ">     'pt_dim' is 2\n",
      "\n",
      "Found 1\n",
      "OpenCV(4.11.0) /io/opencv/modules/calib3d/src/usac/ransac_solvers.cpp:1047: error: (-2:Unspecified error) in function 'cv::usac::mergePoints(cv::InputArray, cv::InputArray, cv::Mat&, bool)::<lambda(cv::Mat&, int)>'\n",
      "> Invalid dimension of point (expected: 'points.cols >= pt_dim'), where\n",
      ">     'points.cols' is 1\n",
      "> must be greater than or equal to\n",
      ">     'pt_dim' is 2\n",
      "\n",
      "Found 0\n",
      "OpenCV(4.11.0) /io/opencv/modules/calib3d/src/usac/ransac_solvers.cpp:1047: error: (-2:Unspecified error) in function 'cv::usac::mergePoints(cv::InputArray, cv::InputArray, cv::Mat&, bool)::<lambda(cv::Mat&, int)>'\n",
      "> Invalid dimension of point (expected: 'points.cols >= pt_dim'), where\n",
      ">     'points.cols' is 0\n",
      "> must be greater than or equal to\n",
      ">     'pt_dim' is 2\n",
      "\n",
      "Found 0\n",
      "OpenCV(4.11.0) /io/opencv/modules/calib3d/src/usac/ransac_solvers.cpp:1047: error: (-2:Unspecified error) in function 'cv::usac::mergePoints(cv::InputArray, cv::InputArray, cv::Mat&, bool)::<lambda(cv::Mat&, int)>'\n",
      "> Invalid dimension of point (expected: 'points.cols >= pt_dim'), where\n",
      ">     'points.cols' is 0\n",
      "> must be greater than or equal to\n",
      ">     'pt_dim' is 2\n",
      "\n",
      "Found 0\n",
      "OpenCV(4.11.0) /io/opencv/modules/calib3d/src/usac/ransac_solvers.cpp:1047: error: (-2:Unspecified error) in function 'cv::usac::mergePoints(cv::InputArray, cv::InputArray, cv::Mat&, bool)::<lambda(cv::Mat&, int)>'\n",
      "> Invalid dimension of point (expected: 'points.cols >= pt_dim'), where\n",
      ">     'points.cols' is 0\n",
      "> must be greater than or equal to\n",
      ">     'pt_dim' is 2\n",
      "\n",
      "Found 1\n",
      "OpenCV(4.11.0) /io/opencv/modules/calib3d/src/usac/ransac_solvers.cpp:1047: error: (-2:Unspecified error) in function 'cv::usac::mergePoints(cv::InputArray, cv::InputArray, cv::Mat&, bool)::<lambda(cv::Mat&, int)>'\n",
      "> Invalid dimension of point (expected: 'points.cols >= pt_dim'), where\n",
      ">     'points.cols' is 1\n",
      "> must be greater than or equal to\n",
      ">     'pt_dim' is 2\n",
      "\n",
      "Found 1\n",
      "OpenCV(4.11.0) /io/opencv/modules/calib3d/src/usac/ransac_solvers.cpp:1047: error: (-2:Unspecified error) in function 'cv::usac::mergePoints(cv::InputArray, cv::InputArray, cv::Mat&, bool)::<lambda(cv::Mat&, int)>'\n",
      "> Invalid dimension of point (expected: 'points.cols >= pt_dim'), where\n",
      ">     'points.cols' is 1\n",
      "> must be greater than or equal to\n",
      ">     'pt_dim' is 2\n",
      "\n",
      "Found 0\n",
      "OpenCV(4.11.0) /io/opencv/modules/calib3d/src/usac/ransac_solvers.cpp:1047: error: (-2:Unspecified error) in function 'cv::usac::mergePoints(cv::InputArray, cv::InputArray, cv::Mat&, bool)::<lambda(cv::Mat&, int)>'\n",
      "> Invalid dimension of point (expected: 'points.cols >= pt_dim'), where\n",
      ">     'points.cols' is 0\n",
      "> must be greater than or equal to\n",
      ">     'pt_dim' is 2\n",
      "\n",
      "Found 0\n",
      "OpenCV(4.11.0) /io/opencv/modules/calib3d/src/usac/ransac_solvers.cpp:1047: error: (-2:Unspecified error) in function 'cv::usac::mergePoints(cv::InputArray, cv::InputArray, cv::Mat&, bool)::<lambda(cv::Mat&, int)>'\n",
      "> Invalid dimension of point (expected: 'points.cols >= pt_dim'), where\n",
      ">     'points.cols' is 0\n",
      "> must be greater than or equal to\n",
      ">     'pt_dim' is 2\n",
      "\n",
      "Found 0\n",
      "OpenCV(4.11.0) /io/opencv/modules/calib3d/src/usac/ransac_solvers.cpp:1047: error: (-2:Unspecified error) in function 'cv::usac::mergePoints(cv::InputArray, cv::InputArray, cv::Mat&, bool)::<lambda(cv::Mat&, int)>'\n",
      "> Invalid dimension of point (expected: 'points.cols >= pt_dim'), where\n",
      ">     'points.cols' is 0\n",
      "> must be greater than or equal to\n",
      ">     'pt_dim' is 2\n",
      "\n",
      "Found 1\n",
      "OpenCV(4.11.0) /io/opencv/modules/calib3d/src/usac/ransac_solvers.cpp:1047: error: (-2:Unspecified error) in function 'cv::usac::mergePoints(cv::InputArray, cv::InputArray, cv::Mat&, bool)::<lambda(cv::Mat&, int)>'\n",
      "> Invalid dimension of point (expected: 'points.cols >= pt_dim'), where\n",
      ">     'points.cols' is 1\n",
      "> must be greater than or equal to\n",
      ">     'pt_dim' is 2\n",
      "\n",
      "Found 0\n",
      "OpenCV(4.11.0) /io/opencv/modules/calib3d/src/usac/ransac_solvers.cpp:1047: error: (-2:Unspecified error) in function 'cv::usac::mergePoints(cv::InputArray, cv::InputArray, cv::Mat&, bool)::<lambda(cv::Mat&, int)>'\n",
      "> Invalid dimension of point (expected: 'points.cols >= pt_dim'), where\n",
      ">     'points.cols' is 0\n",
      "> must be greater than or equal to\n",
      ">     'pt_dim' is 2\n",
      "\n",
      "Found 0\n",
      "OpenCV(4.11.0) /io/opencv/modules/calib3d/src/usac/ransac_solvers.cpp:1047: error: (-2:Unspecified error) in function 'cv::usac::mergePoints(cv::InputArray, cv::InputArray, cv::Mat&, bool)::<lambda(cv::Mat&, int)>'\n",
      "> Invalid dimension of point (expected: 'points.cols >= pt_dim'), where\n",
      ">     'points.cols' is 0\n",
      "> must be greater than or equal to\n",
      ">     'pt_dim' is 2\n",
      "\n",
      "Found 0\n",
      "OpenCV(4.11.0) /io/opencv/modules/calib3d/src/usac/ransac_solvers.cpp:1047: error: (-2:Unspecified error) in function 'cv::usac::mergePoints(cv::InputArray, cv::InputArray, cv::Mat&, bool)::<lambda(cv::Mat&, int)>'\n",
      "> Invalid dimension of point (expected: 'points.cols >= pt_dim'), where\n",
      ">     'points.cols' is 0\n",
      "> must be greater than or equal to\n",
      ">     'pt_dim' is 2\n",
      "\n",
      "Found 0\n",
      "OpenCV(4.11.0) /io/opencv/modules/calib3d/src/usac/ransac_solvers.cpp:1047: error: (-2:Unspecified error) in function 'cv::usac::mergePoints(cv::InputArray, cv::InputArray, cv::Mat&, bool)::<lambda(cv::Mat&, int)>'\n",
      "> Invalid dimension of point (expected: 'points.cols >= pt_dim'), where\n",
      ">     'points.cols' is 0\n",
      "> must be greater than or equal to\n",
      ">     'pt_dim' is 2\n",
      "\n",
      "Found 0\n",
      "OpenCV(4.11.0) /io/opencv/modules/calib3d/src/usac/ransac_solvers.cpp:1047: error: (-2:Unspecified error) in function 'cv::usac::mergePoints(cv::InputArray, cv::InputArray, cv::Mat&, bool)::<lambda(cv::Mat&, int)>'\n",
      "> Invalid dimension of point (expected: 'points.cols >= pt_dim'), where\n",
      ">     'points.cols' is 0\n",
      "> must be greater than or equal to\n",
      ">     'pt_dim' is 2\n",
      "\n",
      "Found 2\n",
      "OpenCV(4.11.0) /io/opencv/modules/calib3d/src/usac/sampler.cpp:45: error: (-215:Assertion failed) sample_size <= points_size_ in function 'setPointsSize'\n",
      "\n",
      "Found 1\n",
      "OpenCV(4.11.0) /io/opencv/modules/calib3d/src/usac/ransac_solvers.cpp:1047: error: (-2:Unspecified error) in function 'cv::usac::mergePoints(cv::InputArray, cv::InputArray, cv::Mat&, bool)::<lambda(cv::Mat&, int)>'\n",
      "> Invalid dimension of point (expected: 'points.cols >= pt_dim'), where\n",
      ">     'points.cols' is 1\n",
      "> must be greater than or equal to\n",
      ">     'pt_dim' is 2\n",
      "\n",
      "Found 1\n",
      "OpenCV(4.11.0) /io/opencv/modules/calib3d/src/usac/ransac_solvers.cpp:1047: error: (-2:Unspecified error) in function 'cv::usac::mergePoints(cv::InputArray, cv::InputArray, cv::Mat&, bool)::<lambda(cv::Mat&, int)>'\n",
      "> Invalid dimension of point (expected: 'points.cols >= pt_dim'), where\n",
      ">     'points.cols' is 1\n",
      "> must be greater than or equal to\n",
      ">     'pt_dim' is 2\n",
      "\n",
      "Found 0\n",
      "OpenCV(4.11.0) /io/opencv/modules/calib3d/src/usac/ransac_solvers.cpp:1047: error: (-2:Unspecified error) in function 'cv::usac::mergePoints(cv::InputArray, cv::InputArray, cv::Mat&, bool)::<lambda(cv::Mat&, int)>'\n",
      "> Invalid dimension of point (expected: 'points.cols >= pt_dim'), where\n",
      ">     'points.cols' is 0\n",
      "> must be greater than or equal to\n",
      ">     'pt_dim' is 2\n",
      "\n",
      "Found 0\n",
      "OpenCV(4.11.0) /io/opencv/modules/calib3d/src/usac/ransac_solvers.cpp:1047: error: (-2:Unspecified error) in function 'cv::usac::mergePoints(cv::InputArray, cv::InputArray, cv::Mat&, bool)::<lambda(cv::Mat&, int)>'\n",
      "> Invalid dimension of point (expected: 'points.cols >= pt_dim'), where\n",
      ">     'points.cols' is 0\n",
      "> must be greater than or equal to\n",
      ">     'pt_dim' is 2\n",
      "\n",
      "Found 1\n",
      "OpenCV(4.11.0) /io/opencv/modules/calib3d/src/usac/ransac_solvers.cpp:1047: error: (-2:Unspecified error) in function 'cv::usac::mergePoints(cv::InputArray, cv::InputArray, cv::Mat&, bool)::<lambda(cv::Mat&, int)>'\n",
      "> Invalid dimension of point (expected: 'points.cols >= pt_dim'), where\n",
      ">     'points.cols' is 1\n",
      "> must be greater than or equal to\n",
      ">     'pt_dim' is 2\n",
      "\n",
      "Found 2\n",
      "OpenCV(4.11.0) /io/opencv/modules/calib3d/src/usac/sampler.cpp:45: error: (-215:Assertion failed) sample_size <= points_size_ in function 'setPointsSize'\n",
      "\n"
     ]
    },
    {
     "name": "stderr",
     "output_type": "stream",
     "text": [
      " 93%|█████████▎| 17482/18840 [04:36<00:12, 104.71it/s]"
     ]
    },
    {
     "name": "stdout",
     "output_type": "stream",
     "text": [
      "Found 0\n",
      "OpenCV(4.11.0) /io/opencv/modules/calib3d/src/usac/ransac_solvers.cpp:1047: error: (-2:Unspecified error) in function 'cv::usac::mergePoints(cv::InputArray, cv::InputArray, cv::Mat&, bool)::<lambda(cv::Mat&, int)>'\n",
      "> Invalid dimension of point (expected: 'points.cols >= pt_dim'), where\n",
      ">     'points.cols' is 0\n",
      "> must be greater than or equal to\n",
      ">     'pt_dim' is 2\n",
      "\n",
      "Found 1\n",
      "OpenCV(4.11.0) /io/opencv/modules/calib3d/src/usac/ransac_solvers.cpp:1047: error: (-2:Unspecified error) in function 'cv::usac::mergePoints(cv::InputArray, cv::InputArray, cv::Mat&, bool)::<lambda(cv::Mat&, int)>'\n",
      "> Invalid dimension of point (expected: 'points.cols >= pt_dim'), where\n",
      ">     'points.cols' is 1\n",
      "> must be greater than or equal to\n",
      ">     'pt_dim' is 2\n",
      "\n"
     ]
    },
    {
     "name": "stderr",
     "output_type": "stream",
     "text": [
      " 93%|█████████▎| 17536/18840 [04:37<00:20, 63.55it/s] "
     ]
    },
    {
     "name": "stdout",
     "output_type": "stream",
     "text": [
      "Found 4\n",
      "OpenCV(4.11.0) /io/opencv/modules/calib3d/src/usac/sampler.cpp:45: error: (-215:Assertion failed) sample_size <= points_size_ in function 'setPointsSize'\n",
      "\n"
     ]
    },
    {
     "name": "stderr",
     "output_type": "stream",
     "text": [
      " 94%|█████████▎| 17660/18840 [04:39<00:21, 56.17it/s]"
     ]
    },
    {
     "name": "stdout",
     "output_type": "stream",
     "text": [
      "Found 2\n",
      "OpenCV(4.11.0) /io/opencv/modules/calib3d/src/usac/sampler.cpp:45: error: (-215:Assertion failed) sample_size <= points_size_ in function 'setPointsSize'\n",
      "\n"
     ]
    },
    {
     "name": "stderr",
     "output_type": "stream",
     "text": [
      " 94%|█████████▍| 17672/18840 [04:39<00:20, 57.32it/s]"
     ]
    },
    {
     "name": "stdout",
     "output_type": "stream",
     "text": [
      "Found 0\n",
      "OpenCV(4.11.0) /io/opencv/modules/calib3d/src/usac/ransac_solvers.cpp:1047: error: (-2:Unspecified error) in function 'cv::usac::mergePoints(cv::InputArray, cv::InputArray, cv::Mat&, bool)::<lambda(cv::Mat&, int)>'\n",
      "> Invalid dimension of point (expected: 'points.cols >= pt_dim'), where\n",
      ">     'points.cols' is 0\n",
      "> must be greater than or equal to\n",
      ">     'pt_dim' is 2\n",
      "\n"
     ]
    },
    {
     "name": "stderr",
     "output_type": "stream",
     "text": [
      " 94%|█████████▍| 17702/18840 [04:41<01:29, 12.76it/s]"
     ]
    },
    {
     "name": "stdout",
     "output_type": "stream",
     "text": [
      "Found 0\n",
      "OpenCV(4.11.0) /io/opencv/modules/calib3d/src/usac/ransac_solvers.cpp:1047: error: (-2:Unspecified error) in function 'cv::usac::mergePoints(cv::InputArray, cv::InputArray, cv::Mat&, bool)::<lambda(cv::Mat&, int)>'\n",
      "> Invalid dimension of point (expected: 'points.cols >= pt_dim'), where\n",
      ">     'points.cols' is 0\n",
      "> must be greater than or equal to\n",
      ">     'pt_dim' is 2\n",
      "\n"
     ]
    },
    {
     "name": "stderr",
     "output_type": "stream",
     "text": [
      " 94%|█████████▍| 17779/18840 [04:42<00:11, 94.78it/s]"
     ]
    },
    {
     "name": "stdout",
     "output_type": "stream",
     "text": [
      "Found 0\n",
      "OpenCV(4.11.0) /io/opencv/modules/calib3d/src/usac/ransac_solvers.cpp:1047: error: (-2:Unspecified error) in function 'cv::usac::mergePoints(cv::InputArray, cv::InputArray, cv::Mat&, bool)::<lambda(cv::Mat&, int)>'\n",
      "> Invalid dimension of point (expected: 'points.cols >= pt_dim'), where\n",
      ">     'points.cols' is 0\n",
      "> must be greater than or equal to\n",
      ">     'pt_dim' is 2\n",
      "\n"
     ]
    },
    {
     "name": "stderr",
     "output_type": "stream",
     "text": [
      " 95%|█████████▍| 17823/18840 [04:42<00:08, 118.61it/s]"
     ]
    },
    {
     "name": "stdout",
     "output_type": "stream",
     "text": [
      "Found 0\n",
      "OpenCV(4.11.0) /io/opencv/modules/calib3d/src/usac/ransac_solvers.cpp:1047: error: (-2:Unspecified error) in function 'cv::usac::mergePoints(cv::InputArray, cv::InputArray, cv::Mat&, bool)::<lambda(cv::Mat&, int)>'\n",
      "> Invalid dimension of point (expected: 'points.cols >= pt_dim'), where\n",
      ">     'points.cols' is 0\n",
      "> must be greater than or equal to\n",
      ">     'pt_dim' is 2\n",
      "\n",
      "Found 2\n",
      "OpenCV(4.11.0) /io/opencv/modules/calib3d/src/usac/sampler.cpp:45: error: (-215:Assertion failed) sample_size <= points_size_ in function 'setPointsSize'\n",
      "\n",
      "Found 0\n",
      "OpenCV(4.11.0) /io/opencv/modules/calib3d/src/usac/ransac_solvers.cpp:1047: error: (-2:Unspecified error) in function 'cv::usac::mergePoints(cv::InputArray, cv::InputArray, cv::Mat&, bool)::<lambda(cv::Mat&, int)>'\n",
      "> Invalid dimension of point (expected: 'points.cols >= pt_dim'), where\n",
      ">     'points.cols' is 0\n",
      "> must be greater than or equal to\n",
      ">     'pt_dim' is 2\n",
      "\n"
     ]
    },
    {
     "name": "stderr",
     "output_type": "stream",
     "text": [
      " 96%|█████████▌| 18017/18840 [04:44<00:05, 156.03it/s]"
     ]
    },
    {
     "name": "stdout",
     "output_type": "stream",
     "text": [
      "Found 0\n",
      "OpenCV(4.11.0) /io/opencv/modules/calib3d/src/usac/ransac_solvers.cpp:1047: error: (-2:Unspecified error) in function 'cv::usac::mergePoints(cv::InputArray, cv::InputArray, cv::Mat&, bool)::<lambda(cv::Mat&, int)>'\n",
      "> Invalid dimension of point (expected: 'points.cols >= pt_dim'), where\n",
      ">     'points.cols' is 0\n",
      "> must be greater than or equal to\n",
      ">     'pt_dim' is 2\n",
      "\n",
      "Found 1\n",
      "OpenCV(4.11.0) /io/opencv/modules/calib3d/src/usac/ransac_solvers.cpp:1047: error: (-2:Unspecified error) in function 'cv::usac::mergePoints(cv::InputArray, cv::InputArray, cv::Mat&, bool)::<lambda(cv::Mat&, int)>'\n",
      "> Invalid dimension of point (expected: 'points.cols >= pt_dim'), where\n",
      ">     'points.cols' is 1\n",
      "> must be greater than or equal to\n",
      ">     'pt_dim' is 2\n",
      "\n",
      "Found 4\n",
      "OpenCV(4.11.0) /io/opencv/modules/calib3d/src/usac/sampler.cpp:45: error: (-215:Assertion failed) sample_size <= points_size_ in function 'setPointsSize'\n",
      "\n",
      "Found 0\n",
      "OpenCV(4.11.0) /io/opencv/modules/calib3d/src/usac/ransac_solvers.cpp:1047: error: (-2:Unspecified error) in function 'cv::usac::mergePoints(cv::InputArray, cv::InputArray, cv::Mat&, bool)::<lambda(cv::Mat&, int)>'\n",
      "> Invalid dimension of point (expected: 'points.cols >= pt_dim'), where\n",
      ">     'points.cols' is 0\n",
      "> must be greater than or equal to\n",
      ">     'pt_dim' is 2\n",
      "\n"
     ]
    },
    {
     "name": "stderr",
     "output_type": "stream",
     "text": [
      " 96%|█████████▌| 18053/18840 [04:44<00:04, 163.28it/s]"
     ]
    },
    {
     "name": "stdout",
     "output_type": "stream",
     "text": [
      "Found 0\n",
      "OpenCV(4.11.0) /io/opencv/modules/calib3d/src/usac/ransac_solvers.cpp:1047: error: (-2:Unspecified error) in function 'cv::usac::mergePoints(cv::InputArray, cv::InputArray, cv::Mat&, bool)::<lambda(cv::Mat&, int)>'\n",
      "> Invalid dimension of point (expected: 'points.cols >= pt_dim'), where\n",
      ">     'points.cols' is 0\n",
      "> must be greater than or equal to\n",
      ">     'pt_dim' is 2\n",
      "\n",
      "Found 2\n",
      "OpenCV(4.11.0) /io/opencv/modules/calib3d/src/usac/sampler.cpp:45: error: (-215:Assertion failed) sample_size <= points_size_ in function 'setPointsSize'\n",
      "\n",
      "Found 0\n",
      "OpenCV(4.11.0) /io/opencv/modules/calib3d/src/usac/ransac_solvers.cpp:1047: error: (-2:Unspecified error) in function 'cv::usac::mergePoints(cv::InputArray, cv::InputArray, cv::Mat&, bool)::<lambda(cv::Mat&, int)>'\n",
      "> Invalid dimension of point (expected: 'points.cols >= pt_dim'), where\n",
      ">     'points.cols' is 0\n",
      "> must be greater than or equal to\n",
      ">     'pt_dim' is 2\n",
      "\n"
     ]
    },
    {
     "name": "stderr",
     "output_type": "stream",
     "text": [
      " 96%|█████████▌| 18089/18840 [04:45<00:04, 166.56it/s]"
     ]
    },
    {
     "name": "stdout",
     "output_type": "stream",
     "text": [
      "Found 4\n",
      "OpenCV(4.11.0) /io/opencv/modules/calib3d/src/usac/sampler.cpp:45: error: (-215:Assertion failed) sample_size <= points_size_ in function 'setPointsSize'\n",
      "\n",
      "Found 0\n",
      "OpenCV(4.11.0) /io/opencv/modules/calib3d/src/usac/ransac_solvers.cpp:1047: error: (-2:Unspecified error) in function 'cv::usac::mergePoints(cv::InputArray, cv::InputArray, cv::Mat&, bool)::<lambda(cv::Mat&, int)>'\n",
      "> Invalid dimension of point (expected: 'points.cols >= pt_dim'), where\n",
      ">     'points.cols' is 0\n",
      "> must be greater than or equal to\n",
      ">     'pt_dim' is 2\n",
      "\n",
      "Found 0\n",
      "OpenCV(4.11.0) /io/opencv/modules/calib3d/src/usac/ransac_solvers.cpp:1047: error: (-2:Unspecified error) in function 'cv::usac::mergePoints(cv::InputArray, cv::InputArray, cv::Mat&, bool)::<lambda(cv::Mat&, int)>'\n",
      "> Invalid dimension of point (expected: 'points.cols >= pt_dim'), where\n",
      ">     'points.cols' is 0\n",
      "> must be greater than or equal to\n",
      ">     'pt_dim' is 2\n",
      "\n",
      "Found 0\n",
      "OpenCV(4.11.0) /io/opencv/modules/calib3d/src/usac/ransac_solvers.cpp:1047: error: (-2:Unspecified error) in function 'cv::usac::mergePoints(cv::InputArray, cv::InputArray, cv::Mat&, bool)::<lambda(cv::Mat&, int)>'\n",
      "> Invalid dimension of point (expected: 'points.cols >= pt_dim'), where\n",
      ">     'points.cols' is 0\n",
      "> must be greater than or equal to\n",
      ">     'pt_dim' is 2\n",
      "\n"
     ]
    },
    {
     "name": "stderr",
     "output_type": "stream",
     "text": [
      " 96%|█████████▌| 18120/18840 [04:45<00:08, 87.52it/s] "
     ]
    },
    {
     "name": "stdout",
     "output_type": "stream",
     "text": [
      "Found 1\n",
      "OpenCV(4.11.0) /io/opencv/modules/calib3d/src/usac/ransac_solvers.cpp:1047: error: (-2:Unspecified error) in function 'cv::usac::mergePoints(cv::InputArray, cv::InputArray, cv::Mat&, bool)::<lambda(cv::Mat&, int)>'\n",
      "> Invalid dimension of point (expected: 'points.cols >= pt_dim'), where\n",
      ">     'points.cols' is 1\n",
      "> must be greater than or equal to\n",
      ">     'pt_dim' is 2\n",
      "\n"
     ]
    },
    {
     "name": "stderr",
     "output_type": "stream",
     "text": [
      " 96%|█████████▌| 18132/18840 [04:45<00:09, 76.45it/s]"
     ]
    },
    {
     "name": "stdout",
     "output_type": "stream",
     "text": [
      "Found 0\n",
      "OpenCV(4.11.0) /io/opencv/modules/calib3d/src/usac/ransac_solvers.cpp:1047: error: (-2:Unspecified error) in function 'cv::usac::mergePoints(cv::InputArray, cv::InputArray, cv::Mat&, bool)::<lambda(cv::Mat&, int)>'\n",
      "> Invalid dimension of point (expected: 'points.cols >= pt_dim'), where\n",
      ">     'points.cols' is 0\n",
      "> must be greater than or equal to\n",
      ">     'pt_dim' is 2\n",
      "\n"
     ]
    },
    {
     "name": "stderr",
     "output_type": "stream",
     "text": [
      " 96%|█████████▋| 18166/18840 [04:46<00:11, 59.56it/s]"
     ]
    },
    {
     "name": "stdout",
     "output_type": "stream",
     "text": [
      "Found 0\n",
      "OpenCV(4.11.0) /io/opencv/modules/calib3d/src/usac/ransac_solvers.cpp:1047: error: (-2:Unspecified error) in function 'cv::usac::mergePoints(cv::InputArray, cv::InputArray, cv::Mat&, bool)::<lambda(cv::Mat&, int)>'\n",
      "> Invalid dimension of point (expected: 'points.cols >= pt_dim'), where\n",
      ">     'points.cols' is 0\n",
      "> must be greater than or equal to\n",
      ">     'pt_dim' is 2\n",
      "\n"
     ]
    },
    {
     "name": "stderr",
     "output_type": "stream",
     "text": [
      " 97%|█████████▋| 18216/18840 [04:47<00:12, 51.70it/s]"
     ]
    },
    {
     "name": "stdout",
     "output_type": "stream",
     "text": [
      "Found 0\n",
      "OpenCV(4.11.0) /io/opencv/modules/calib3d/src/usac/ransac_solvers.cpp:1047: error: (-2:Unspecified error) in function 'cv::usac::mergePoints(cv::InputArray, cv::InputArray, cv::Mat&, bool)::<lambda(cv::Mat&, int)>'\n",
      "> Invalid dimension of point (expected: 'points.cols >= pt_dim'), where\n",
      ">     'points.cols' is 0\n",
      "> must be greater than or equal to\n",
      ">     'pt_dim' is 2\n",
      "\n"
     ]
    },
    {
     "name": "stderr",
     "output_type": "stream",
     "text": [
      " 97%|█████████▋| 18228/18840 [04:47<00:11, 52.01it/s]"
     ]
    },
    {
     "name": "stdout",
     "output_type": "stream",
     "text": [
      "Found 0\n",
      "OpenCV(4.11.0) /io/opencv/modules/calib3d/src/usac/ransac_solvers.cpp:1047: error: (-2:Unspecified error) in function 'cv::usac::mergePoints(cv::InputArray, cv::InputArray, cv::Mat&, bool)::<lambda(cv::Mat&, int)>'\n",
      "> Invalid dimension of point (expected: 'points.cols >= pt_dim'), where\n",
      ">     'points.cols' is 0\n",
      "> must be greater than or equal to\n",
      ">     'pt_dim' is 2\n",
      "\n"
     ]
    },
    {
     "name": "stderr",
     "output_type": "stream",
     "text": [
      " 97%|█████████▋| 18258/18840 [04:48<00:11, 50.99it/s]"
     ]
    },
    {
     "name": "stdout",
     "output_type": "stream",
     "text": [
      "Found 0\n",
      "OpenCV(4.11.0) /io/opencv/modules/calib3d/src/usac/ransac_solvers.cpp:1047: error: (-2:Unspecified error) in function 'cv::usac::mergePoints(cv::InputArray, cv::InputArray, cv::Mat&, bool)::<lambda(cv::Mat&, int)>'\n",
      "> Invalid dimension of point (expected: 'points.cols >= pt_dim'), where\n",
      ">     'points.cols' is 0\n",
      "> must be greater than or equal to\n",
      ">     'pt_dim' is 2\n",
      "\n"
     ]
    },
    {
     "name": "stderr",
     "output_type": "stream",
     "text": [
      " 97%|█████████▋| 18312/18840 [04:49<00:09, 55.32it/s]"
     ]
    },
    {
     "name": "stdout",
     "output_type": "stream",
     "text": [
      "Found 0\n",
      "OpenCV(4.11.0) /io/opencv/modules/calib3d/src/usac/ransac_solvers.cpp:1047: error: (-2:Unspecified error) in function 'cv::usac::mergePoints(cv::InputArray, cv::InputArray, cv::Mat&, bool)::<lambda(cv::Mat&, int)>'\n",
      "> Invalid dimension of point (expected: 'points.cols >= pt_dim'), where\n",
      ">     'points.cols' is 0\n",
      "> must be greater than or equal to\n",
      ">     'pt_dim' is 2\n",
      "\n"
     ]
    },
    {
     "name": "stderr",
     "output_type": "stream",
     "text": [
      " 97%|█████████▋| 18330/18840 [04:49<00:09, 55.17it/s]"
     ]
    },
    {
     "name": "stdout",
     "output_type": "stream",
     "text": [
      "Found 0\n",
      "OpenCV(4.11.0) /io/opencv/modules/calib3d/src/usac/ransac_solvers.cpp:1047: error: (-2:Unspecified error) in function 'cv::usac::mergePoints(cv::InputArray, cv::InputArray, cv::Mat&, bool)::<lambda(cv::Mat&, int)>'\n",
      "> Invalid dimension of point (expected: 'points.cols >= pt_dim'), where\n",
      ">     'points.cols' is 0\n",
      "> must be greater than or equal to\n",
      ">     'pt_dim' is 2\n",
      "\n"
     ]
    },
    {
     "name": "stderr",
     "output_type": "stream",
     "text": [
      " 97%|█████████▋| 18354/18840 [04:49<00:08, 54.84it/s]"
     ]
    },
    {
     "name": "stdout",
     "output_type": "stream",
     "text": [
      "Found 1\n",
      "OpenCV(4.11.0) /io/opencv/modules/calib3d/src/usac/ransac_solvers.cpp:1047: error: (-2:Unspecified error) in function 'cv::usac::mergePoints(cv::InputArray, cv::InputArray, cv::Mat&, bool)::<lambda(cv::Mat&, int)>'\n",
      "> Invalid dimension of point (expected: 'points.cols >= pt_dim'), where\n",
      ">     'points.cols' is 1\n",
      "> must be greater than or equal to\n",
      ">     'pt_dim' is 2\n",
      "\n"
     ]
    },
    {
     "name": "stderr",
     "output_type": "stream",
     "text": [
      " 98%|█████████▊| 18494/18840 [04:52<00:06, 55.57it/s]"
     ]
    },
    {
     "name": "stdout",
     "output_type": "stream",
     "text": [
      "Found 0\n",
      "OpenCV(4.11.0) /io/opencv/modules/calib3d/src/usac/ransac_solvers.cpp:1047: error: (-2:Unspecified error) in function 'cv::usac::mergePoints(cv::InputArray, cv::InputArray, cv::Mat&, bool)::<lambda(cv::Mat&, int)>'\n",
      "> Invalid dimension of point (expected: 'points.cols >= pt_dim'), where\n",
      ">     'points.cols' is 0\n",
      "> must be greater than or equal to\n",
      ">     'pt_dim' is 2\n",
      "\n"
     ]
    },
    {
     "name": "stderr",
     "output_type": "stream",
     "text": [
      " 98%|█████████▊| 18506/18840 [04:52<00:06, 55.28it/s]"
     ]
    },
    {
     "name": "stdout",
     "output_type": "stream",
     "text": [
      "Found 0\n",
      "OpenCV(4.11.0) /io/opencv/modules/calib3d/src/usac/ransac_solvers.cpp:1047: error: (-2:Unspecified error) in function 'cv::usac::mergePoints(cv::InputArray, cv::InputArray, cv::Mat&, bool)::<lambda(cv::Mat&, int)>'\n",
      "> Invalid dimension of point (expected: 'points.cols >= pt_dim'), where\n",
      ">     'points.cols' is 0\n",
      "> must be greater than or equal to\n",
      ">     'pt_dim' is 2\n",
      "\n"
     ]
    },
    {
     "name": "stderr",
     "output_type": "stream",
     "text": [
      " 98%|█████████▊| 18536/18840 [04:53<00:05, 56.62it/s]"
     ]
    },
    {
     "name": "stdout",
     "output_type": "stream",
     "text": [
      "Found 0\n",
      "OpenCV(4.11.0) /io/opencv/modules/calib3d/src/usac/ransac_solvers.cpp:1047: error: (-2:Unspecified error) in function 'cv::usac::mergePoints(cv::InputArray, cv::InputArray, cv::Mat&, bool)::<lambda(cv::Mat&, int)>'\n",
      "> Invalid dimension of point (expected: 'points.cols >= pt_dim'), where\n",
      ">     'points.cols' is 0\n",
      "> must be greater than or equal to\n",
      ">     'pt_dim' is 2\n",
      "\n"
     ]
    },
    {
     "name": "stderr",
     "output_type": "stream",
     "text": [
      " 99%|█████████▉| 18626/18840 [04:54<00:04, 52.76it/s]"
     ]
    },
    {
     "name": "stdout",
     "output_type": "stream",
     "text": [
      "Found 4\n",
      "OpenCV(4.11.0) /io/opencv/modules/calib3d/src/usac/sampler.cpp:45: error: (-215:Assertion failed) sample_size <= points_size_ in function 'setPointsSize'\n",
      "\n"
     ]
    },
    {
     "name": "stderr",
     "output_type": "stream",
     "text": [
      " 99%|█████████▉| 18674/18840 [04:55<00:03, 51.94it/s]"
     ]
    },
    {
     "name": "stdout",
     "output_type": "stream",
     "text": [
      "Found 0\n",
      "OpenCV(4.11.0) /io/opencv/modules/calib3d/src/usac/ransac_solvers.cpp:1047: error: (-2:Unspecified error) in function 'cv::usac::mergePoints(cv::InputArray, cv::InputArray, cv::Mat&, bool)::<lambda(cv::Mat&, int)>'\n",
      "> Invalid dimension of point (expected: 'points.cols >= pt_dim'), where\n",
      ">     'points.cols' is 0\n",
      "> must be greater than or equal to\n",
      ">     'pt_dim' is 2\n",
      "\n"
     ]
    },
    {
     "name": "stderr",
     "output_type": "stream",
     "text": [
      " 99%|█████████▉| 18686/18840 [04:56<00:02, 52.66it/s]"
     ]
    },
    {
     "name": "stdout",
     "output_type": "stream",
     "text": [
      "Found 0\n",
      "OpenCV(4.11.0) /io/opencv/modules/calib3d/src/usac/ransac_solvers.cpp:1047: error: (-2:Unspecified error) in function 'cv::usac::mergePoints(cv::InputArray, cv::InputArray, cv::Mat&, bool)::<lambda(cv::Mat&, int)>'\n",
      "> Invalid dimension of point (expected: 'points.cols >= pt_dim'), where\n",
      ">     'points.cols' is 0\n",
      "> must be greater than or equal to\n",
      ">     'pt_dim' is 2\n",
      "\n"
     ]
    },
    {
     "name": "stderr",
     "output_type": "stream",
     "text": [
      " 99%|█████████▉| 18716/18840 [04:56<00:02, 54.14it/s]"
     ]
    },
    {
     "name": "stdout",
     "output_type": "stream",
     "text": [
      "Found 0\n",
      "OpenCV(4.11.0) /io/opencv/modules/calib3d/src/usac/ransac_solvers.cpp:1047: error: (-2:Unspecified error) in function 'cv::usac::mergePoints(cv::InputArray, cv::InputArray, cv::Mat&, bool)::<lambda(cv::Mat&, int)>'\n",
      "> Invalid dimension of point (expected: 'points.cols >= pt_dim'), where\n",
      ">     'points.cols' is 0\n",
      "> must be greater than or equal to\n",
      ">     'pt_dim' is 2\n",
      "\n"
     ]
    },
    {
     "name": "stderr",
     "output_type": "stream",
     "text": [
      "100%|█████████▉| 18768/18840 [04:57<00:00, 93.91it/s]"
     ]
    },
    {
     "name": "stdout",
     "output_type": "stream",
     "text": [
      "Found 4\n",
      "OpenCV(4.11.0) /io/opencv/modules/calib3d/src/usac/sampler.cpp:45: error: (-215:Assertion failed) sample_size <= points_size_ in function 'setPointsSize'\n",
      "\n",
      "Found 0\n",
      "OpenCV(4.11.0) /io/opencv/modules/calib3d/src/usac/ransac_solvers.cpp:1047: error: (-2:Unspecified error) in function 'cv::usac::mergePoints(cv::InputArray, cv::InputArray, cv::Mat&, bool)::<lambda(cv::Mat&, int)>'\n",
      "> Invalid dimension of point (expected: 'points.cols >= pt_dim'), where\n",
      ">     'points.cols' is 0\n",
      "> must be greater than or equal to\n",
      ">     'pt_dim' is 2\n",
      "\n"
     ]
    },
    {
     "name": "stderr",
     "output_type": "stream",
     "text": [
      "100%|██████████| 18840/18840 [04:57<00:00, 63.28it/s] "
     ]
    },
    {
     "name": "stdout",
     "output_type": "stream",
     "text": [
      "Found 0\n",
      "OpenCV(4.11.0) /io/opencv/modules/calib3d/src/usac/ransac_solvers.cpp:1047: error: (-2:Unspecified error) in function 'cv::usac::mergePoints(cv::InputArray, cv::InputArray, cv::Mat&, bool)::<lambda(cv::Mat&, int)>'\n",
      "> Invalid dimension of point (expected: 'points.cols >= pt_dim'), where\n",
      ">     'points.cols' is 0\n",
      "> must be greater than or equal to\n",
      ">     'pt_dim' is 2\n",
      "\n",
      "Found 6\n",
      "OpenCV(4.11.0) /io/opencv/modules/calib3d/src/usac/sampler.cpp:45: error: (-215:Assertion failed) sample_size <= points_size_ in function 'setPointsSize'\n",
      "\n",
      "Found 1\n",
      "OpenCV(4.11.0) /io/opencv/modules/calib3d/src/usac/ransac_solvers.cpp:1047: error: (-2:Unspecified error) in function 'cv::usac::mergePoints(cv::InputArray, cv::InputArray, cv::Mat&, bool)::<lambda(cv::Mat&, int)>'\n",
      "> Invalid dimension of point (expected: 'points.cols >= pt_dim'), where\n",
      ">     'points.cols' is 1\n",
      "> must be greater than or equal to\n",
      ">     'pt_dim' is 2\n",
      "\n",
      "Found 0\n",
      "OpenCV(4.11.0) /io/opencv/modules/calib3d/src/usac/ransac_solvers.cpp:1047: error: (-2:Unspecified error) in function 'cv::usac::mergePoints(cv::InputArray, cv::InputArray, cv::Mat&, bool)::<lambda(cv::Mat&, int)>'\n",
      "> Invalid dimension of point (expected: 'points.cols >= pt_dim'), where\n",
      ">     'points.cols' is 0\n",
      "> must be greater than or equal to\n",
      ">     'pt_dim' is 2\n",
      "\n",
      "total malformed 18840\n"
     ]
    },
    {
     "name": "stderr",
     "output_type": "stream",
     "text": [
      "\n"
     ]
    },
    {
     "data": {
      "text/html": [
       "<div>\n",
       "<style scoped>\n",
       "    .dataframe tbody tr th:only-of-type {\n",
       "        vertical-align: middle;\n",
       "    }\n",
       "\n",
       "    .dataframe tbody tr th {\n",
       "        vertical-align: top;\n",
       "    }\n",
       "\n",
       "    .dataframe thead th {\n",
       "        text-align: right;\n",
       "    }\n",
       "</style>\n",
       "<table border=\"1\" class=\"dataframe\">\n",
       "  <thead>\n",
       "    <tr style=\"text-align: right;\">\n",
       "      <th></th>\n",
       "      <th>sample_id</th>\n",
       "      <th>fundamental_matrix</th>\n",
       "    </tr>\n",
       "  </thead>\n",
       "  <tbody>\n",
       "    <tr>\n",
       "      <th>0</th>\n",
       "      <td>st_pauls_cathedral;00593112_5162872967-0016289...</td>\n",
       "      <td>[1.6898255653353515e-07, -3.508160896306064e-0...</td>\n",
       "    </tr>\n",
       "    <tr>\n",
       "      <th>1</th>\n",
       "      <td>st_pauls_cathedral;01024897_4276850874-0016289...</td>\n",
       "      <td>[-1.8006853758459624e-07, -4.530016550308369e-...</td>\n",
       "    </tr>\n",
       "    <tr>\n",
       "      <th>2</th>\n",
       "      <td>st_pauls_cathedral;01024897_4276850874-0059311...</td>\n",
       "      <td>[1.1352292117422329e-06, 9.040857654126194e-06...</td>\n",
       "    </tr>\n",
       "    <tr>\n",
       "      <th>3</th>\n",
       "      <td>st_peters_square;01086691_5427945640-00077205_...</td>\n",
       "      <td>[9.480653540447421e-08, -7.366099120154828e-06...</td>\n",
       "    </tr>\n",
       "    <tr>\n",
       "      <th>4</th>\n",
       "      <td>st_pauls_cathedral;01207461_5308976270-0016289...</td>\n",
       "      <td>[8.576869152857092e-08, -5.31829011431307e-09,...</td>\n",
       "    </tr>\n",
       "    <tr>\n",
       "      <th>...</th>\n",
       "      <td>...</td>\n",
       "      <td>...</td>\n",
       "    </tr>\n",
       "    <tr>\n",
       "      <th>18835</th>\n",
       "      <td>notre_dame_front_facade;99959942_5064636197-95...</td>\n",
       "      <td>None</td>\n",
       "    </tr>\n",
       "    <tr>\n",
       "      <th>18836</th>\n",
       "      <td>notre_dame_front_facade;99959942_5064636197-95...</td>\n",
       "      <td>None</td>\n",
       "    </tr>\n",
       "    <tr>\n",
       "      <th>18837</th>\n",
       "      <td>notre_dame_front_facade;99959942_5064636197-96...</td>\n",
       "      <td>[2.2538868738907904e-07, 5.682822550411361e-06...</td>\n",
       "    </tr>\n",
       "    <tr>\n",
       "      <th>18838</th>\n",
       "      <td>notre_dame_front_facade;99959942_5064636197-97...</td>\n",
       "      <td>[-1.2646020329514218e-06, -1.9271431448655385e...</td>\n",
       "    </tr>\n",
       "    <tr>\n",
       "      <th>18839</th>\n",
       "      <td>notre_dame_front_facade;99959942_5064636197-97...</td>\n",
       "      <td>[1.0229994886693195e-07, -5.998344315029387e-0...</td>\n",
       "    </tr>\n",
       "  </tbody>\n",
       "</table>\n",
       "<p>18840 rows × 2 columns</p>\n",
       "</div>"
      ],
      "text/plain": [
       "                                               sample_id  \\\n",
       "0      st_pauls_cathedral;00593112_5162872967-0016289...   \n",
       "1      st_pauls_cathedral;01024897_4276850874-0016289...   \n",
       "2      st_pauls_cathedral;01024897_4276850874-0059311...   \n",
       "3      st_peters_square;01086691_5427945640-00077205_...   \n",
       "4      st_pauls_cathedral;01207461_5308976270-0016289...   \n",
       "...                                                  ...   \n",
       "18835  notre_dame_front_facade;99959942_5064636197-95...   \n",
       "18836  notre_dame_front_facade;99959942_5064636197-95...   \n",
       "18837  notre_dame_front_facade;99959942_5064636197-96...   \n",
       "18838  notre_dame_front_facade;99959942_5064636197-97...   \n",
       "18839  notre_dame_front_facade;99959942_5064636197-97...   \n",
       "\n",
       "                                      fundamental_matrix  \n",
       "0      [1.6898255653353515e-07, -3.508160896306064e-0...  \n",
       "1      [-1.8006853758459624e-07, -4.530016550308369e-...  \n",
       "2      [1.1352292117422329e-06, 9.040857654126194e-06...  \n",
       "3      [9.480653540447421e-08, -7.366099120154828e-06...  \n",
       "4      [8.576869152857092e-08, -5.31829011431307e-09,...  \n",
       "...                                                  ...  \n",
       "18835                                               None  \n",
       "18836                                               None  \n",
       "18837  [2.2538868738907904e-07, 5.682822550411361e-06...  \n",
       "18838  [-1.2646020329514218e-06, -1.9271431448655385e...  \n",
       "18839  [1.0229994886693195e-07, -5.998344315029387e-0...  \n",
       "\n",
       "[18840 rows x 2 columns]"
      ]
     },
     "execution_count": 4,
     "metadata": {},
     "output_type": "execute_result"
    }
   ],
   "source": [
    "directory = '/share/project_data/dump_match_data'\n",
    "df = get_F_dataframe(directory)\n",
    "df"
   ]
  },
  {
   "cell_type": "code",
   "execution_count": 5,
   "metadata": {},
   "outputs": [
    {
     "data": {
      "text/plain": [
       "np.int64(1013)"
      ]
     },
     "execution_count": 5,
     "metadata": {},
     "output_type": "execute_result"
    }
   ],
   "source": [
    "df.isnull().sum().sum()"
   ]
  },
  {
   "cell_type": "markdown",
   "metadata": {},
   "source": []
  },
  {
   "cell_type": "code",
   "execution_count": 6,
   "metadata": {},
   "outputs": [
    {
     "data": {
      "text/html": [
       "<div>\n",
       "<style scoped>\n",
       "    .dataframe tbody tr th:only-of-type {\n",
       "        vertical-align: middle;\n",
       "    }\n",
       "\n",
       "    .dataframe tbody tr th {\n",
       "        vertical-align: top;\n",
       "    }\n",
       "\n",
       "    .dataframe thead th {\n",
       "        text-align: right;\n",
       "    }\n",
       "</style>\n",
       "<table border=\"1\" class=\"dataframe\">\n",
       "  <thead>\n",
       "    <tr style=\"text-align: right;\">\n",
       "      <th></th>\n",
       "      <th>sample_id</th>\n",
       "      <th>fundamental_matrix</th>\n",
       "    </tr>\n",
       "  </thead>\n",
       "  <tbody>\n",
       "    <tr>\n",
       "      <th>0</th>\n",
       "      <td>st_pauls_cathedral;00593112_5162872967-0016289...</td>\n",
       "      <td>1.68983e-07 -3.50816e-06 1.38754e-03 3.74179e-...</td>\n",
       "    </tr>\n",
       "    <tr>\n",
       "      <th>1</th>\n",
       "      <td>st_pauls_cathedral;01024897_4276850874-0016289...</td>\n",
       "      <td>-1.80069e-07 -4.53002e-06 4.11535e-03 3.69348e...</td>\n",
       "    </tr>\n",
       "    <tr>\n",
       "      <th>2</th>\n",
       "      <td>st_pauls_cathedral;01024897_4276850874-0059311...</td>\n",
       "      <td>1.13523e-06 9.04086e-06 -8.39192e-03 -7.61706e...</td>\n",
       "    </tr>\n",
       "    <tr>\n",
       "      <th>3</th>\n",
       "      <td>st_peters_square;01086691_5427945640-00077205_...</td>\n",
       "      <td>9.48065e-08 -7.36610e-06 5.58184e-03 7.47842e-...</td>\n",
       "    </tr>\n",
       "    <tr>\n",
       "      <th>4</th>\n",
       "      <td>st_pauls_cathedral;01207461_5308976270-0016289...</td>\n",
       "      <td>8.57687e-08 -5.31829e-09 1.53098e-04 1.23722e-...</td>\n",
       "    </tr>\n",
       "    <tr>\n",
       "      <th>...</th>\n",
       "      <td>...</td>\n",
       "      <td>...</td>\n",
       "    </tr>\n",
       "    <tr>\n",
       "      <th>18835</th>\n",
       "      <td>notre_dame_front_facade;99959942_5064636197-95...</td>\n",
       "      <td>0.00000e+00 0.00000e+00 0.00000e+00 0.00000e+0...</td>\n",
       "    </tr>\n",
       "    <tr>\n",
       "      <th>18836</th>\n",
       "      <td>notre_dame_front_facade;99959942_5064636197-95...</td>\n",
       "      <td>0.00000e+00 0.00000e+00 0.00000e+00 0.00000e+0...</td>\n",
       "    </tr>\n",
       "    <tr>\n",
       "      <th>18837</th>\n",
       "      <td>notre_dame_front_facade;99959942_5064636197-96...</td>\n",
       "      <td>2.25389e-07 5.68282e-06 -6.91652e-03 -5.49330e...</td>\n",
       "    </tr>\n",
       "    <tr>\n",
       "      <th>18838</th>\n",
       "      <td>notre_dame_front_facade;99959942_5064636197-97...</td>\n",
       "      <td>-1.26460e-06 -1.92714e-06 4.75744e-03 -1.46774...</td>\n",
       "    </tr>\n",
       "    <tr>\n",
       "      <th>18839</th>\n",
       "      <td>notre_dame_front_facade;99959942_5064636197-97...</td>\n",
       "      <td>1.02300e-07 -5.99834e-06 5.82037e-03 6.58593e-...</td>\n",
       "    </tr>\n",
       "  </tbody>\n",
       "</table>\n",
       "<p>18840 rows × 2 columns</p>\n",
       "</div>"
      ],
      "text/plain": [
       "                                               sample_id  \\\n",
       "0      st_pauls_cathedral;00593112_5162872967-0016289...   \n",
       "1      st_pauls_cathedral;01024897_4276850874-0016289...   \n",
       "2      st_pauls_cathedral;01024897_4276850874-0059311...   \n",
       "3      st_peters_square;01086691_5427945640-00077205_...   \n",
       "4      st_pauls_cathedral;01207461_5308976270-0016289...   \n",
       "...                                                  ...   \n",
       "18835  notre_dame_front_facade;99959942_5064636197-95...   \n",
       "18836  notre_dame_front_facade;99959942_5064636197-95...   \n",
       "18837  notre_dame_front_facade;99959942_5064636197-96...   \n",
       "18838  notre_dame_front_facade;99959942_5064636197-97...   \n",
       "18839  notre_dame_front_facade;99959942_5064636197-97...   \n",
       "\n",
       "                                      fundamental_matrix  \n",
       "0      1.68983e-07 -3.50816e-06 1.38754e-03 3.74179e-...  \n",
       "1      -1.80069e-07 -4.53002e-06 4.11535e-03 3.69348e...  \n",
       "2      1.13523e-06 9.04086e-06 -8.39192e-03 -7.61706e...  \n",
       "3      9.48065e-08 -7.36610e-06 5.58184e-03 7.47842e-...  \n",
       "4      8.57687e-08 -5.31829e-09 1.53098e-04 1.23722e-...  \n",
       "...                                                  ...  \n",
       "18835  0.00000e+00 0.00000e+00 0.00000e+00 0.00000e+0...  \n",
       "18836  0.00000e+00 0.00000e+00 0.00000e+00 0.00000e+0...  \n",
       "18837  2.25389e-07 5.68282e-06 -6.91652e-03 -5.49330e...  \n",
       "18838  -1.26460e-06 -1.92714e-06 4.75744e-03 -1.46774...  \n",
       "18839  1.02300e-07 -5.99834e-06 5.82037e-03 6.58593e-...  \n",
       "\n",
       "[18840 rows x 2 columns]"
      ]
     },
     "execution_count": 6,
     "metadata": {},
     "output_type": "execute_result"
    }
   ],
   "source": [
    "def format_fundamental_matrix(row):\n",
    "    if row is None:\n",
    "        # Replace None with a zero array of the same size\n",
    "        row = np.zeros(9)\n",
    "    # Convert array to a space-separated string in scientific notation\n",
    "    return \" \".join(f\"{num:.5e}\" for num in row)\n",
    "\n",
    "df[\"fundamental_matrix\"] = df[\"fundamental_matrix\"].apply(format_fundamental_matrix)\n",
    "df = df[[\"sample_id\", \"fundamental_matrix\"]]\n",
    "df.to_csv(\"/share/project_data/submit_result_super.csv\", index=False)\n",
    "df"
   ]
  },
  {
   "cell_type": "code",
   "execution_count": 8,
   "metadata": {},
   "outputs": [
    {
     "data": {
      "text/html": [
       "<div>\n",
       "<style scoped>\n",
       "    .dataframe tbody tr th:only-of-type {\n",
       "        vertical-align: middle;\n",
       "    }\n",
       "\n",
       "    .dataframe tbody tr th {\n",
       "        vertical-align: top;\n",
       "    }\n",
       "\n",
       "    .dataframe thead th {\n",
       "        text-align: right;\n",
       "    }\n",
       "</style>\n",
       "<table border=\"1\" class=\"dataframe\">\n",
       "  <thead>\n",
       "    <tr style=\"text-align: right;\">\n",
       "      <th></th>\n",
       "      <th>sample_id</th>\n",
       "      <th>fundamental_matrix</th>\n",
       "    </tr>\n",
       "  </thead>\n",
       "  <tbody>\n",
       "    <tr>\n",
       "      <th>0</th>\n",
       "      <td>st_pauls_cathedral;00593112_5162872967-0016289...</td>\n",
       "      <td>1.19594e-07 -3.75996e-06 1.32119e-03 4.13177e-...</td>\n",
       "    </tr>\n",
       "    <tr>\n",
       "      <th>1</th>\n",
       "      <td>st_pauls_cathedral;01024897_4276850874-0016289...</td>\n",
       "      <td>-2.56590e-07 -4.55470e-06 4.38572e-03 3.62466e...</td>\n",
       "    </tr>\n",
       "    <tr>\n",
       "      <th>2</th>\n",
       "      <td>st_pauls_cathedral;01024897_4276850874-0059311...</td>\n",
       "      <td>-1.32317e-06 -3.81726e-06 6.07444e-03 8.71021e...</td>\n",
       "    </tr>\n",
       "    <tr>\n",
       "      <th>3</th>\n",
       "      <td>st_peters_square;01086691_5427945640-00077205_...</td>\n",
       "      <td>8.69439e-08 -7.85316e-06 5.83033e-03 7.95102e-...</td>\n",
       "    </tr>\n",
       "    <tr>\n",
       "      <th>4</th>\n",
       "      <td>st_pauls_cathedral;01207461_5308976270-0016289...</td>\n",
       "      <td>1.10301e-07 1.29200e-07 8.62513e-05 1.16316e-0...</td>\n",
       "    </tr>\n",
       "    <tr>\n",
       "      <th>...</th>\n",
       "      <td>...</td>\n",
       "      <td>...</td>\n",
       "    </tr>\n",
       "    <tr>\n",
       "      <th>18835</th>\n",
       "      <td>notre_dame_front_facade;99959942_5064636197-95...</td>\n",
       "      <td>0.00000e+00 0.00000e+00 0.00000e+00 0.00000e+0...</td>\n",
       "    </tr>\n",
       "    <tr>\n",
       "      <th>18836</th>\n",
       "      <td>notre_dame_front_facade;99959942_5064636197-95...</td>\n",
       "      <td>0.00000e+00 0.00000e+00 0.00000e+00 0.00000e+0...</td>\n",
       "    </tr>\n",
       "    <tr>\n",
       "      <th>18837</th>\n",
       "      <td>notre_dame_front_facade;99959942_5064636197-96...</td>\n",
       "      <td>-2.31803e-07 -6.14146e-06 7.15251e-03 5.97006e...</td>\n",
       "    </tr>\n",
       "    <tr>\n",
       "      <th>18838</th>\n",
       "      <td>notre_dame_front_facade;99959942_5064636197-97...</td>\n",
       "      <td>7.85417e-08 -1.59414e-06 3.01979e-03 2.49550e-...</td>\n",
       "    </tr>\n",
       "    <tr>\n",
       "      <th>18839</th>\n",
       "      <td>notre_dame_front_facade;99959942_5064636197-97...</td>\n",
       "      <td>-7.34761e-08 6.34442e-06 -5.97639e-03 -6.96237...</td>\n",
       "    </tr>\n",
       "  </tbody>\n",
       "</table>\n",
       "<p>18840 rows × 2 columns</p>\n",
       "</div>"
      ],
      "text/plain": [
       "                                               sample_id  \\\n",
       "0      st_pauls_cathedral;00593112_5162872967-0016289...   \n",
       "1      st_pauls_cathedral;01024897_4276850874-0016289...   \n",
       "2      st_pauls_cathedral;01024897_4276850874-0059311...   \n",
       "3      st_peters_square;01086691_5427945640-00077205_...   \n",
       "4      st_pauls_cathedral;01207461_5308976270-0016289...   \n",
       "...                                                  ...   \n",
       "18835  notre_dame_front_facade;99959942_5064636197-95...   \n",
       "18836  notre_dame_front_facade;99959942_5064636197-95...   \n",
       "18837  notre_dame_front_facade;99959942_5064636197-96...   \n",
       "18838  notre_dame_front_facade;99959942_5064636197-97...   \n",
       "18839  notre_dame_front_facade;99959942_5064636197-97...   \n",
       "\n",
       "                                      fundamental_matrix  \n",
       "0      1.19594e-07 -3.75996e-06 1.32119e-03 4.13177e-...  \n",
       "1      -2.56590e-07 -4.55470e-06 4.38572e-03 3.62466e...  \n",
       "2      -1.32317e-06 -3.81726e-06 6.07444e-03 8.71021e...  \n",
       "3      8.69439e-08 -7.85316e-06 5.83033e-03 7.95102e-...  \n",
       "4      1.10301e-07 1.29200e-07 8.62513e-05 1.16316e-0...  \n",
       "...                                                  ...  \n",
       "18835  0.00000e+00 0.00000e+00 0.00000e+00 0.00000e+0...  \n",
       "18836  0.00000e+00 0.00000e+00 0.00000e+00 0.00000e+0...  \n",
       "18837  -2.31803e-07 -6.14146e-06 7.15251e-03 5.97006e...  \n",
       "18838  7.85417e-08 -1.59414e-06 3.01979e-03 2.49550e-...  \n",
       "18839  -7.34761e-08 6.34442e-06 -5.97639e-03 -6.96237...  \n",
       "\n",
       "[18840 rows x 2 columns]"
      ]
     },
     "execution_count": 8,
     "metadata": {},
     "output_type": "execute_result"
    }
   ],
   "source": [
    "df"
   ]
  },
  {
   "cell_type": "code",
   "execution_count": null,
   "metadata": {},
   "outputs": [],
   "source": []
  }
 ],
 "metadata": {
  "kernelspec": {
   "display_name": "Python 3 (ipykernel)",
   "language": "python",
   "name": "python3"
  },
  "language_info": {
   "codemirror_mode": {
    "name": "ipython",
    "version": 3
   },
   "file_extension": ".py",
   "mimetype": "text/x-python",
   "name": "python",
   "nbconvert_exporter": "python",
   "pygments_lexer": "ipython3",
   "version": "3.10.12"
  }
 },
 "nbformat": 4,
 "nbformat_minor": 2
}

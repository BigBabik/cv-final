{
 "cells": [
  {
   "cell_type": "code",
   "execution_count": 1,
   "metadata": {},
   "outputs": [],
   "source": [
    "import pandas as pd\n",
    "import numpy as np\n",
    "import torch\n",
    "\n",
    "from extract_features_utils import process_images, process_superglue, create_super_matching\n",
    "from fundamental_utils import get_F_dataframe, create_fundamental_matrix\n",
    "from eval import mean_average_accuracy, calc_maa\n"
   ]
  },
  {
   "cell_type": "code",
   "execution_count": 13,
   "metadata": {},
   "outputs": [],
   "source": [
    "def eval_image_matrix_predict(root_directory, scene_name, image0_name, image1_name):\n",
    "    if torch.cuda.is_available():\n",
    "        device = 'cuda'\n",
    "    else:\n",
    "        device = 'cpu'\n",
    "    matching = create_super_matching(device)\n",
    "    images_directory = f\"{root_directory}/{scene_name}/images\"\n",
    "    mkpts0, mkpts1, mconf = process_superglue(images_directory,\n",
    "                                            image0_name,\n",
    "                                            image1_name,\n",
    "                                            device,\n",
    "                                            matching,\n",
    "                                            scene_name,\n",
    "                                            output_path=None)\n",
    "    \n",
    "    print(\"Done superglue\")\n",
    "    F, mask = create_fundamental_matrix(mkpts0, mkpts1)\n",
    "    truth_csv = images_directory = f\"{root_directory}/{scene_name}/pair_covisibility.csv\"\n",
    "    \n",
    "    truth_dff = pd.read_csv(truth_csv)\n",
    "    search_pair = f\"{image0_name}-{image1_name}\"\n",
    "    F_gt_string = truth_dff.loc[truth_dff[\"pair\"] == search_pair, 'fundamental_matrix'].iloc[0]\n",
    "    F_gt = np.array([float(x) for x in F_gt_string.split(\" \")])\n",
    "    \n",
    "    print(\"Predict\")\n",
    "    print(F)\n",
    "    print(\"Truth\")\n",
    "    print(F_gt)\n",
    "\n",
    "    mAA = calc_maa(F, F_gt)\n",
    "    print(mAA)\n",
    "\n",
    "\n"
   ]
  },
  {
   "cell_type": "code",
   "execution_count": null,
   "metadata": {},
   "outputs": [],
   "source": [
    "input = \"90920828_5082887495-81677974_8097325090\"\n",
    "\n",
    "image0_name, image1_name = input.split(\"-\")\n",
    "eval_image_matrix_predict(\n",
    "    \"/share/project_data/train\",\n",
    "    \"brandenburg_gate\", \n",
    "    image0_name,\n",
    "    image1_name)"
   ]
  },
  {
   "cell_type": "code",
   "execution_count": 2,
   "metadata": {},
   "outputs": [],
   "source": [
    "def load_files_paths(input_csv, input_dir):\n",
    "    input_csv = \"/share/project_data/test.csv\"\n",
    "    test_samples = pd.read_csv(input_csv)\n",
    "    test_samples.rename(columns={'batch_id': 'scene_name', 'image_1_id': 'im1', 'image_2_id': 'im2'}, inplace=True)  # edited columns\n",
    "\n",
    "\n",
    "    for index, row in test_samples.iterrows():  #edited - change to iter on pd\n",
    "        scene_name = row['scene_name']\n",
    "        scene_input_dir = input_dir / scene_name\n",
    "\n",
    "        image0_path = f\"{scene_input_dir}/{row['im1']}.jpg\"\n",
    "        image1_path = f\"{scene_input_dir}/{row['im2']}.jpg\"\n",
    "         # path of images\n",
    "\n"
   ]
  },
  {
   "cell_type": "code",
   "execution_count": null,
   "metadata": {},
   "outputs": [],
   "source": []
  },
  {
   "cell_type": "code",
   "execution_count": null,
   "metadata": {},
   "outputs": [],
   "source": [
    "# Using super glue\n",
    "process_images(\n",
    "    input_csv=\"/share/project_data/test.csv\",\n",
    "    input_dir=\"/share/project_data/test_images/\",\n",
    "    output_dir=\"/share/project_data/dump_match_data\",\n",
    "    do_viz=False,\n",
    "    max_length=-1,\n",
    "    fast_viz=False)"
   ]
  },
  {
   "cell_type": "code",
   "execution_count": null,
   "metadata": {},
   "outputs": [
    {
     "name": "stderr",
     "output_type": "stream",
     "text": [
      "  0%|          | 5/18840 [00:00<07:06, 44.21it/s]"
     ]
    },
    {
     "name": "stdout",
     "output_type": "stream",
     "text": [
      "None\n"
     ]
    },
    {
     "name": "stderr",
     "output_type": "stream",
     "text": [
      "  1%|          | 150/18840 [00:06<08:11, 38.00it/s] "
     ]
    },
    {
     "name": "stdout",
     "output_type": "stream",
     "text": [
      "OpenCV(4.11.0) /io/opencv/modules/calib3d/src/usac/sampler.cpp:45: error: (-215:Assertion failed) sample_size <= points_size_ in function 'setPointsSize'\n",
      "\n",
      "Retry: 1\n",
      "OpenCV(4.11.0) /io/opencv/modules/calib3d/src/usac/sampler.cpp:45: error: (-215:Assertion failed) sample_size <= points_size_ in function 'setPointsSize'\n",
      "\n",
      "Retry: 2\n",
      "OpenCV(4.11.0) /io/opencv/modules/calib3d/src/usac/sampler.cpp:45: error: (-215:Assertion failed) sample_size <= points_size_ in function 'setPointsSize'\n",
      "\n",
      "Retry: 3\n",
      "OpenCV(4.11.0) /io/opencv/modules/calib3d/src/usac/sampler.cpp:45: error: (-215:Assertion failed) sample_size <= points_size_ in function 'setPointsSize'\n",
      "\n",
      "Retry: 4\n",
      "error\n"
     ]
    },
    {
     "name": "stderr",
     "output_type": "stream",
     "text": [
      "  1%|          | 207/18840 [00:08<08:54, 34.86it/s]"
     ]
    },
    {
     "name": "stdout",
     "output_type": "stream",
     "text": [
      "OpenCV(4.11.0) /io/opencv/modules/calib3d/src/usac/sampler.cpp:45: error: (-215:Assertion failed) sample_size <= points_size_ in function 'setPointsSize'\n",
      "\n",
      "Retry: 1\n",
      "OpenCV(4.11.0) /io/opencv/modules/calib3d/src/usac/sampler.cpp:45: error: (-215:Assertion failed) sample_size <= points_size_ in function 'setPointsSize'\n",
      "\n",
      "Retry: 2\n",
      "OpenCV(4.11.0) /io/opencv/modules/calib3d/src/usac/sampler.cpp:45: error: (-215:Assertion failed) sample_size <= points_size_ in function 'setPointsSize'\n",
      "\n",
      "Retry: 3\n",
      "OpenCV(4.11.0) /io/opencv/modules/calib3d/src/usac/sampler.cpp:45: error: (-215:Assertion failed) sample_size <= points_size_ in function 'setPointsSize'\n",
      "\n",
      "Retry: 4\n"
     ]
    },
    {
     "name": "stderr",
     "output_type": "stream",
     "text": [
      "  1%|          | 225/18840 [00:08<09:08, 33.91it/s]"
     ]
    },
    {
     "name": "stdout",
     "output_type": "stream",
     "text": [
      "OpenCV(4.11.0) /io/opencv/modules/calib3d/src/usac/sampler.cpp:45: error: (-215:Assertion failed) sample_size <= points_size_ in function 'setPointsSize'\n",
      "\n",
      "Retry: 1\n",
      "OpenCV(4.11.0) /io/opencv/modules/calib3d/src/usac/sampler.cpp:45: error: (-215:Assertion failed) sample_size <= points_size_ in function 'setPointsSize'\n",
      "\n",
      "Retry: 2\n",
      "OpenCV(4.11.0) /io/opencv/modules/calib3d/src/usac/sampler.cpp:45: error: (-215:Assertion failed) sample_size <= points_size_ in function 'setPointsSize'\n",
      "\n",
      "Retry: 3\n",
      "OpenCV(4.11.0) /io/opencv/modules/calib3d/src/usac/sampler.cpp:45: error: (-215:Assertion failed) sample_size <= points_size_ in function 'setPointsSize'\n",
      "\n",
      "Retry: 4\n"
     ]
    },
    {
     "name": "stderr",
     "output_type": "stream",
     "text": [
      "  2%|▏         | 348/18840 [00:11<07:44, 39.84it/s]"
     ]
    },
    {
     "name": "stdout",
     "output_type": "stream",
     "text": [
      "OpenCV(4.11.0) /io/opencv/modules/calib3d/src/usac/sampler.cpp:45: error: (-215:Assertion failed) sample_size <= points_size_ in function 'setPointsSize'\n",
      "\n",
      "Retry: 1\n",
      "OpenCV(4.11.0) /io/opencv/modules/calib3d/src/usac/sampler.cpp:45: error: (-215:Assertion failed) sample_size <= points_size_ in function 'setPointsSize'\n",
      "\n",
      "Retry: 2\n",
      "OpenCV(4.11.0) /io/opencv/modules/calib3d/src/usac/sampler.cpp:45: error: (-215:Assertion failed) sample_size <= points_size_ in function 'setPointsSize'\n",
      "\n",
      "Retry: 3\n",
      "OpenCV(4.11.0) /io/opencv/modules/calib3d/src/usac/sampler.cpp:45: error: (-215:Assertion failed) sample_size <= points_size_ in function 'setPointsSize'\n",
      "\n",
      "Retry: 4\n",
      "Found 2\n"
     ]
    },
    {
     "name": "stderr",
     "output_type": "stream",
     "text": [
      "  2%|▏         | 441/18840 [00:14<04:54, 62.40it/s]"
     ]
    },
    {
     "name": "stdout",
     "output_type": "stream",
     "text": [
      "Found 5\n",
      "Found 2\n",
      "Found 3\n",
      "Found 5\n",
      "Found 1\n",
      "Found 3\n",
      "Found 5\n",
      "Found 5\n",
      "Found 2\n",
      "Found 2\n",
      "Found 1\n",
      "Found 1\n"
     ]
    },
    {
     "name": "stderr",
     "output_type": "stream",
     "text": [
      "  3%|▎         | 513/18840 [00:16<11:34, 26.40it/s]"
     ]
    },
    {
     "name": "stdout",
     "output_type": "stream",
     "text": [
      "Found 3\n"
     ]
    },
    {
     "name": "stderr",
     "output_type": "stream",
     "text": [
      "  4%|▍         | 759/18840 [00:26<10:52, 27.72it/s]"
     ]
    },
    {
     "name": "stdout",
     "output_type": "stream",
     "text": [
      "Found 3\n"
     ]
    },
    {
     "name": "stderr",
     "output_type": "stream",
     "text": [
      "  4%|▍         | 783/18840 [00:27<11:13, 26.83it/s]"
     ]
    },
    {
     "name": "stdout",
     "output_type": "stream",
     "text": [
      "Found 3\n"
     ]
    },
    {
     "name": "stderr",
     "output_type": "stream",
     "text": [
      "  4%|▍         | 811/18840 [00:28<11:13, 26.76it/s]"
     ]
    },
    {
     "name": "stdout",
     "output_type": "stream",
     "text": [
      "Found 6\n"
     ]
    },
    {
     "name": "stderr",
     "output_type": "stream",
     "text": [
      "  4%|▍         | 844/18840 [00:29<14:05, 21.29it/s]"
     ]
    },
    {
     "name": "stdout",
     "output_type": "stream",
     "text": [
      "OpenCV(4.11.0) /io/opencv/modules/calib3d/src/usac/sampler.cpp:45: error: (-215:Assertion failed) sample_size <= points_size_ in function 'setPointsSize'\n",
      "\n",
      "Retry: 1\n",
      "OpenCV(4.11.0) /io/opencv/modules/calib3d/src/usac/sampler.cpp:45: error: (-215:Assertion failed) sample_size <= points_size_ in function 'setPointsSize'\n",
      "\n",
      "Retry: 2\n",
      "OpenCV(4.11.0) /io/opencv/modules/calib3d/src/usac/sampler.cpp:45: error: (-215:Assertion failed) sample_size <= points_size_ in function 'setPointsSize'\n",
      "\n",
      "Retry: 3\n",
      "OpenCV(4.11.0) /io/opencv/modules/calib3d/src/usac/sampler.cpp:45: error: (-215:Assertion failed) sample_size <= points_size_ in function 'setPointsSize'\n",
      "\n",
      "Retry: 4\n"
     ]
    },
    {
     "name": "stderr",
     "output_type": "stream",
     "text": [
      "  5%|▌         | 975/18840 [00:37<13:30, 22.04it/s]  "
     ]
    },
    {
     "name": "stdout",
     "output_type": "stream",
     "text": [
      "OpenCV(4.11.0) /io/opencv/modules/calib3d/src/usac/estimator.cpp:353: error: (-215:Assertion failed) !model.empty() in function 'setModelParameters'\n",
      "\n",
      "Retry: 1\n",
      "OpenCV(4.11.0) /io/opencv/modules/calib3d/src/usac/estimator.cpp:353: error: (-215:Assertion failed) !model.empty() in function 'setModelParameters'\n",
      "\n",
      "Retry: 2\n",
      "OpenCV(4.11.0) /io/opencv/modules/calib3d/src/usac/estimator.cpp:353: error: (-215:Assertion failed) !model.empty() in function 'setModelParameters'\n",
      "\n",
      "Retry: 3\n",
      "OpenCV(4.11.0) /io/opencv/modules/calib3d/src/usac/estimator.cpp:353: error: (-215:Assertion failed) !model.empty() in function 'setModelParameters'\n",
      "\n",
      "Retry: 4\n"
     ]
    },
    {
     "name": "stderr",
     "output_type": "stream",
     "text": [
      "  5%|▌         | 990/18840 [00:38<11:48, 25.20it/s]"
     ]
    },
    {
     "name": "stdout",
     "output_type": "stream",
     "text": [
      "OpenCV(4.11.0) /io/opencv/modules/calib3d/src/usac/estimator.cpp:353: error: (-215:Assertion failed) !model.empty() in function 'setModelParameters'\n",
      "\n",
      "Retry: 1\n",
      "OpenCV(4.11.0) /io/opencv/modules/calib3d/src/usac/estimator.cpp:353: error: (-215:Assertion failed) !model.empty() in function 'setModelParameters'\n",
      "\n",
      "Retry: 2\n",
      "OpenCV(4.11.0) /io/opencv/modules/calib3d/src/usac/estimator.cpp:353: error: (-215:Assertion failed) !model.empty() in function 'setModelParameters'\n",
      "\n",
      "Retry: 3\n",
      "OpenCV(4.11.0) /io/opencv/modules/calib3d/src/usac/estimator.cpp:353: error: (-215:Assertion failed) !model.empty() in function 'setModelParameters'\n",
      "\n",
      "Retry: 4\n"
     ]
    },
    {
     "name": "stderr",
     "output_type": "stream",
     "text": [
      "  6%|▌         | 1040/18840 [00:40<12:41, 23.37it/s]"
     ]
    },
    {
     "name": "stdout",
     "output_type": "stream",
     "text": [
      "OpenCV(4.11.0) /io/opencv/modules/calib3d/src/usac/sampler.cpp:45: error: (-215:Assertion failed) sample_size <= points_size_ in function 'setPointsSize'\n",
      "\n",
      "Retry: 1\n",
      "OpenCV(4.11.0) /io/opencv/modules/calib3d/src/usac/sampler.cpp:45: error: (-215:Assertion failed) sample_size <= points_size_ in function 'setPointsSize'\n",
      "\n",
      "Retry: 2\n",
      "OpenCV(4.11.0) /io/opencv/modules/calib3d/src/usac/sampler.cpp:45: error: (-215:Assertion failed) sample_size <= points_size_ in function 'setPointsSize'\n",
      "\n",
      "Retry: 3\n",
      "OpenCV(4.11.0) /io/opencv/modules/calib3d/src/usac/sampler.cpp:45: error: (-215:Assertion failed) sample_size <= points_size_ in function 'setPointsSize'\n",
      "\n",
      "Retry: 4\n"
     ]
    },
    {
     "name": "stderr",
     "output_type": "stream",
     "text": [
      "  6%|▌         | 1082/18840 [00:41<10:09, 29.13it/s]"
     ]
    },
    {
     "name": "stdout",
     "output_type": "stream",
     "text": [
      "Found 1\n"
     ]
    },
    {
     "name": "stderr",
     "output_type": "stream",
     "text": [
      "  6%|▌         | 1103/18840 [00:42<11:43, 25.21it/s]"
     ]
    },
    {
     "name": "stdout",
     "output_type": "stream",
     "text": [
      "OpenCV(4.11.0) /io/opencv/modules/calib3d/src/usac/sampler.cpp:45: error: (-215:Assertion failed) sample_size <= points_size_ in function 'setPointsSize'\n",
      "\n",
      "Retry: 1\n",
      "OpenCV(4.11.0) /io/opencv/modules/calib3d/src/usac/sampler.cpp:45: error: (-215:Assertion failed) sample_size <= points_size_ in function 'setPointsSize'\n",
      "\n",
      "Retry: 2\n",
      "OpenCV(4.11.0) /io/opencv/modules/calib3d/src/usac/sampler.cpp:45: error: (-215:Assertion failed) sample_size <= points_size_ in function 'setPointsSize'\n",
      "\n",
      "Retry: 3\n",
      "OpenCV(4.11.0) /io/opencv/modules/calib3d/src/usac/sampler.cpp:45: error: (-215:Assertion failed) sample_size <= points_size_ in function 'setPointsSize'\n",
      "\n",
      "Retry: 4\n"
     ]
    },
    {
     "name": "stderr",
     "output_type": "stream",
     "text": [
      "  7%|▋         | 1226/18840 [00:47<11:19, 25.91it/s]"
     ]
    },
    {
     "name": "stdout",
     "output_type": "stream",
     "text": [
      "Found 4\n"
     ]
    },
    {
     "name": "stderr",
     "output_type": "stream",
     "text": [
      "  7%|▋         | 1355/18840 [00:52<12:32, 23.24it/s]"
     ]
    },
    {
     "name": "stdout",
     "output_type": "stream",
     "text": [
      "OpenCV(4.11.0) /io/opencv/modules/calib3d/src/usac/sampler.cpp:45: error: (-215:Assertion failed) sample_size <= points_size_ in function 'setPointsSize'\n",
      "\n",
      "Retry: 1\n",
      "OpenCV(4.11.0) /io/opencv/modules/calib3d/src/usac/sampler.cpp:45: error: (-215:Assertion failed) sample_size <= points_size_ in function 'setPointsSize'\n",
      "\n",
      "Retry: 2\n",
      "OpenCV(4.11.0) /io/opencv/modules/calib3d/src/usac/sampler.cpp:45: error: (-215:Assertion failed) sample_size <= points_size_ in function 'setPointsSize'\n",
      "\n",
      "Retry: 3\n",
      "OpenCV(4.11.0) /io/opencv/modules/calib3d/src/usac/sampler.cpp:45: error: (-215:Assertion failed) sample_size <= points_size_ in function 'setPointsSize'\n",
      "\n",
      "Retry: 4\n"
     ]
    },
    {
     "name": "stderr",
     "output_type": "stream",
     "text": [
      "  8%|▊         | 1426/18840 [00:55<10:21, 28.04it/s]"
     ]
    },
    {
     "name": "stdout",
     "output_type": "stream",
     "text": [
      "Found 1\n"
     ]
    },
    {
     "name": "stderr",
     "output_type": "stream",
     "text": [
      "  8%|▊         | 1512/18840 [00:58<07:12, 40.08it/s]"
     ]
    },
    {
     "name": "stdout",
     "output_type": "stream",
     "text": [
      "Found 5\n",
      "Found 2\n",
      "OpenCV(4.11.0) /io/opencv/modules/calib3d/src/usac/sampler.cpp:45: error: (-215:Assertion failed) sample_size <= points_size_ in function 'setPointsSize'\n",
      "\n",
      "Retry: 1\n",
      "OpenCV(4.11.0) /io/opencv/modules/calib3d/src/usac/sampler.cpp:45: error: (-215:Assertion failed) sample_size <= points_size_ in function 'setPointsSize'\n",
      "\n",
      "Retry: 2\n",
      "OpenCV(4.11.0) /io/opencv/modules/calib3d/src/usac/sampler.cpp:45: error: (-215:Assertion failed) sample_size <= points_size_ in function 'setPointsSize'\n",
      "\n",
      "Retry: 3\n",
      "OpenCV(4.11.0) /io/opencv/modules/calib3d/src/usac/sampler.cpp:45: error: (-215:Assertion failed) sample_size <= points_size_ in function 'setPointsSize'\n",
      "\n",
      "Retry: 4\n",
      "Found 1\n",
      "Found 2\n",
      "Found 0\n",
      "Found 2\n",
      "Found 4\n",
      "Found 5\n",
      "Found 3\n",
      "Found 1\n"
     ]
    },
    {
     "name": "stderr",
     "output_type": "stream",
     "text": [
      "  8%|▊         | 1527/18840 [00:59<05:20, 54.08it/s]"
     ]
    },
    {
     "name": "stdout",
     "output_type": "stream",
     "text": [
      "Found 3\n",
      "Found 1\n",
      "Found 1\n",
      "Found 1\n",
      "Found 3\n",
      "Found 2\n",
      "Found 1\n",
      "Found 2\n",
      "Found 3\n"
     ]
    },
    {
     "name": "stderr",
     "output_type": "stream",
     "text": [
      "  8%|▊         | 1539/18840 [00:59<05:36, 51.40it/s]"
     ]
    },
    {
     "name": "stdout",
     "output_type": "stream",
     "text": [
      "Found 1\n",
      "Found 1\n",
      "Found 5\n"
     ]
    },
    {
     "name": "stderr",
     "output_type": "stream",
     "text": [
      "  8%|▊         | 1597/18840 [01:01<07:07, 40.37it/s]"
     ]
    },
    {
     "name": "stdout",
     "output_type": "stream",
     "text": [
      "Found 6\n",
      "Found 0\n",
      "Found 2\n",
      "Found 5\n",
      "Found 2\n",
      "Found 1\n",
      "Found 3\n",
      "Found 3\n",
      "Found 2\n",
      "Found 2\n"
     ]
    },
    {
     "name": "stderr",
     "output_type": "stream",
     "text": [
      "  9%|▊         | 1609/18840 [01:01<05:50, 49.14it/s]"
     ]
    },
    {
     "name": "stdout",
     "output_type": "stream",
     "text": [
      "Found 2\n",
      "Found 1\n",
      "Found 5\n",
      "Found 2\n",
      "Found 3\n",
      "Found 0\n",
      "Found 3\n",
      "Found 3\n",
      "Found 3\n"
     ]
    },
    {
     "name": "stderr",
     "output_type": "stream",
     "text": [
      "  9%|▊         | 1636/18840 [01:02<10:16, 27.90it/s]"
     ]
    },
    {
     "name": "stdout",
     "output_type": "stream",
     "text": [
      "OpenCV(4.11.0) /io/opencv/modules/calib3d/src/usac/estimator.cpp:353: error: (-215:Assertion failed) !model.empty() in function 'setModelParameters'\n",
      "\n",
      "Retry: 1\n",
      "OpenCV(4.11.0) /io/opencv/modules/calib3d/src/usac/estimator.cpp:353: error: (-215:Assertion failed) !model.empty() in function 'setModelParameters'\n",
      "\n",
      "Retry: 2\n",
      "OpenCV(4.11.0) /io/opencv/modules/calib3d/src/usac/estimator.cpp:353: error: (-215:Assertion failed) !model.empty() in function 'setModelParameters'\n",
      "\n",
      "Retry: 3\n",
      "OpenCV(4.11.0) /io/opencv/modules/calib3d/src/usac/estimator.cpp:353: error: (-215:Assertion failed) !model.empty() in function 'setModelParameters'\n",
      "\n",
      "Retry: 4\n"
     ]
    },
    {
     "name": "stderr",
     "output_type": "stream",
     "text": [
      "  9%|▉         | 1714/18840 [01:05<10:22, 27.52it/s]"
     ]
    },
    {
     "name": "stdout",
     "output_type": "stream",
     "text": [
      "Found 2\n"
     ]
    },
    {
     "name": "stderr",
     "output_type": "stream",
     "text": [
      "  9%|▉         | 1724/18840 [01:09<1:23:20,  3.42it/s]"
     ]
    },
    {
     "name": "stdout",
     "output_type": "stream",
     "text": [
      "OpenCV(4.11.0) /io/opencv/modules/calib3d/src/usac/sampler.cpp:45: error: (-215:Assertion failed) sample_size <= points_size_ in function 'setPointsSize'\n",
      "\n",
      "Retry: 1\n",
      "OpenCV(4.11.0) /io/opencv/modules/calib3d/src/usac/sampler.cpp:45: error: (-215:Assertion failed) sample_size <= points_size_ in function 'setPointsSize'\n",
      "\n",
      "Retry: 2\n",
      "OpenCV(4.11.0) /io/opencv/modules/calib3d/src/usac/sampler.cpp:45: error: (-215:Assertion failed) sample_size <= points_size_ in function 'setPointsSize'\n",
      "\n",
      "Retry: 3\n",
      "OpenCV(4.11.0) /io/opencv/modules/calib3d/src/usac/sampler.cpp:45: error: (-215:Assertion failed) sample_size <= points_size_ in function 'setPointsSize'\n",
      "\n",
      "Retry: 4\n",
      "Found 0\n"
     ]
    },
    {
     "name": "stderr",
     "output_type": "stream",
     "text": [
      "  9%|▉         | 1749/18840 [01:10<14:26, 19.74it/s]  "
     ]
    },
    {
     "name": "stdout",
     "output_type": "stream",
     "text": [
      "Found 0\n"
     ]
    },
    {
     "name": "stderr",
     "output_type": "stream",
     "text": [
      "  9%|▉         | 1761/18840 [01:10<12:35, 22.62it/s]"
     ]
    },
    {
     "name": "stdout",
     "output_type": "stream",
     "text": [
      "Found 1\n"
     ]
    },
    {
     "name": "stderr",
     "output_type": "stream",
     "text": [
      "  9%|▉         | 1776/18840 [01:11<15:12, 18.71it/s]"
     ]
    },
    {
     "name": "stdout",
     "output_type": "stream",
     "text": [
      "OpenCV(4.11.0) /io/opencv/modules/calib3d/src/usac/sampler.cpp:45: error: (-215:Assertion failed) sample_size <= points_size_ in function 'setPointsSize'\n",
      "\n",
      "Retry: 1\n",
      "OpenCV(4.11.0) /io/opencv/modules/calib3d/src/usac/sampler.cpp:45: error: (-215:Assertion failed) sample_size <= points_size_ in function 'setPointsSize'\n",
      "\n",
      "Retry: 2\n",
      "OpenCV(4.11.0) /io/opencv/modules/calib3d/src/usac/sampler.cpp:45: error: (-215:Assertion failed) sample_size <= points_size_ in function 'setPointsSize'\n",
      "\n",
      "Retry: 3\n",
      "OpenCV(4.11.0) /io/opencv/modules/calib3d/src/usac/sampler.cpp:45: error: (-215:Assertion failed) sample_size <= points_size_ in function 'setPointsSize'\n",
      "\n",
      "Retry: 4\n"
     ]
    },
    {
     "name": "stderr",
     "output_type": "stream",
     "text": [
      "  9%|▉         | 1785/18840 [01:11<11:44, 24.22it/s]"
     ]
    },
    {
     "name": "stdout",
     "output_type": "stream",
     "text": [
      "Found 0\n"
     ]
    },
    {
     "name": "stderr",
     "output_type": "stream",
     "text": [
      " 10%|▉         | 1798/18840 [01:12<10:34, 26.87it/s]"
     ]
    },
    {
     "name": "stdout",
     "output_type": "stream",
     "text": [
      "Found 1\n"
     ]
    },
    {
     "name": "stderr",
     "output_type": "stream",
     "text": [
      " 10%|▉         | 1868/18840 [01:14<10:06, 27.98it/s]"
     ]
    },
    {
     "name": "stdout",
     "output_type": "stream",
     "text": [
      "Found 3\n"
     ]
    },
    {
     "name": "stderr",
     "output_type": "stream",
     "text": [
      " 10%|▉         | 1880/18840 [01:15<10:35, 26.70it/s]"
     ]
    },
    {
     "name": "stdout",
     "output_type": "stream",
     "text": [
      "Found 2\n"
     ]
    },
    {
     "name": "stderr",
     "output_type": "stream",
     "text": [
      " 10%|█         | 1958/18840 [01:18<12:13, 23.00it/s]"
     ]
    },
    {
     "name": "stdout",
     "output_type": "stream",
     "text": [
      "OpenCV(4.11.0) /io/opencv/modules/calib3d/src/usac/sampler.cpp:45: error: (-215:Assertion failed) sample_size <= points_size_ in function 'setPointsSize'\n",
      "\n",
      "Retry: 1\n",
      "OpenCV(4.11.0) /io/opencv/modules/calib3d/src/usac/sampler.cpp:45: error: (-215:Assertion failed) sample_size <= points_size_ in function 'setPointsSize'\n",
      "\n",
      "Retry: 2\n",
      "OpenCV(4.11.0) /io/opencv/modules/calib3d/src/usac/sampler.cpp:45: error: (-215:Assertion failed) sample_size <= points_size_ in function 'setPointsSize'\n",
      "\n",
      "Retry: 3\n",
      "OpenCV(4.11.0) /io/opencv/modules/calib3d/src/usac/sampler.cpp:45: error: (-215:Assertion failed) sample_size <= points_size_ in function 'setPointsSize'\n",
      "\n",
      "Retry: 4\n"
     ]
    },
    {
     "name": "stderr",
     "output_type": "stream",
     "text": [
      " 11%|█         | 1988/18840 [01:19<12:07, 23.15it/s]"
     ]
    },
    {
     "name": "stdout",
     "output_type": "stream",
     "text": [
      "OpenCV(4.11.0) /io/opencv/modules/calib3d/src/usac/sampler.cpp:45: error: (-215:Assertion failed) sample_size <= points_size_ in function 'setPointsSize'\n",
      "\n",
      "Retry: 1\n",
      "OpenCV(4.11.0) /io/opencv/modules/calib3d/src/usac/sampler.cpp:45: error: (-215:Assertion failed) sample_size <= points_size_ in function 'setPointsSize'\n",
      "\n",
      "Retry: 2\n",
      "OpenCV(4.11.0) /io/opencv/modules/calib3d/src/usac/sampler.cpp:45: error: (-215:Assertion failed) sample_size <= points_size_ in function 'setPointsSize'\n",
      "\n",
      "Retry: 3\n",
      "OpenCV(4.11.0) /io/opencv/modules/calib3d/src/usac/sampler.cpp:45: error: (-215:Assertion failed) sample_size <= points_size_ in function 'setPointsSize'\n",
      "\n",
      "Retry: 4\n"
     ]
    },
    {
     "name": "stderr",
     "output_type": "stream",
     "text": [
      " 11%|█         | 2018/18840 [01:20<11:56, 23.48it/s]"
     ]
    },
    {
     "name": "stdout",
     "output_type": "stream",
     "text": [
      "OpenCV(4.11.0) /io/opencv/modules/calib3d/src/usac/sampler.cpp:45: error: (-215:Assertion failed) sample_size <= points_size_ in function 'setPointsSize'\n",
      "\n",
      "Retry: 1\n",
      "OpenCV(4.11.0) /io/opencv/modules/calib3d/src/usac/sampler.cpp:45: error: (-215:Assertion failed) sample_size <= points_size_ in function 'setPointsSize'\n",
      "\n",
      "Retry: 2\n",
      "OpenCV(4.11.0) /io/opencv/modules/calib3d/src/usac/sampler.cpp:45: error: (-215:Assertion failed) sample_size <= points_size_ in function 'setPointsSize'\n",
      "\n",
      "Retry: 3\n",
      "OpenCV(4.11.0) /io/opencv/modules/calib3d/src/usac/sampler.cpp:45: error: (-215:Assertion failed) sample_size <= points_size_ in function 'setPointsSize'\n",
      "\n",
      "Retry: 4\n"
     ]
    },
    {
     "name": "stderr",
     "output_type": "stream",
     "text": [
      " 11%|█▏        | 2130/18840 [01:25<11:17, 24.65it/s]"
     ]
    },
    {
     "name": "stdout",
     "output_type": "stream",
     "text": [
      "OpenCV(4.11.0) /io/opencv/modules/calib3d/src/usac/sampler.cpp:45: error: (-215:Assertion failed) sample_size <= points_size_ in function 'setPointsSize'\n",
      "\n",
      "Retry: 1\n",
      "OpenCV(4.11.0) /io/opencv/modules/calib3d/src/usac/sampler.cpp:45: error: (-215:Assertion failed) sample_size <= points_size_ in function 'setPointsSize'\n",
      "\n",
      "Retry: 2\n",
      "OpenCV(4.11.0) /io/opencv/modules/calib3d/src/usac/sampler.cpp:45: error: (-215:Assertion failed) sample_size <= points_size_ in function 'setPointsSize'\n",
      "\n",
      "Retry: 3\n",
      "OpenCV(4.11.0) /io/opencv/modules/calib3d/src/usac/sampler.cpp:45: error: (-215:Assertion failed) sample_size <= points_size_ in function 'setPointsSize'\n",
      "\n",
      "Retry: 4\n"
     ]
    },
    {
     "name": "stderr",
     "output_type": "stream",
     "text": [
      " 11%|█▏        | 2154/18840 [01:26<13:06, 21.21it/s]"
     ]
    },
    {
     "name": "stdout",
     "output_type": "stream",
     "text": [
      "OpenCV(4.11.0) /io/opencv/modules/calib3d/src/usac/sampler.cpp:45: error: (-215:Assertion failed) sample_size <= points_size_ in function 'setPointsSize'\n",
      "\n",
      "Retry: 1\n",
      "OpenCV(4.11.0) /io/opencv/modules/calib3d/src/usac/sampler.cpp:45: error: (-215:Assertion failed) sample_size <= points_size_ in function 'setPointsSize'\n",
      "\n",
      "Retry: 2\n",
      "OpenCV(4.11.0) /io/opencv/modules/calib3d/src/usac/sampler.cpp:45: error: (-215:Assertion failed) sample_size <= points_size_ in function 'setPointsSize'\n",
      "\n",
      "Retry: 3\n",
      "OpenCV(4.11.0) /io/opencv/modules/calib3d/src/usac/sampler.cpp:45: error: (-215:Assertion failed) sample_size <= points_size_ in function 'setPointsSize'\n",
      "\n",
      "Retry: 4\n",
      "Found 5\n"
     ]
    },
    {
     "name": "stderr",
     "output_type": "stream",
     "text": [
      " 11%|█▏        | 2163/18840 [01:27<13:23, 20.74it/s]"
     ]
    },
    {
     "name": "stdout",
     "output_type": "stream",
     "text": [
      "Found 3\n"
     ]
    },
    {
     "name": "stderr",
     "output_type": "stream",
     "text": [
      " 12%|█▏        | 2226/18840 [01:30<11:01, 25.11it/s]"
     ]
    },
    {
     "name": "stdout",
     "output_type": "stream",
     "text": [
      "Found 3\n"
     ]
    },
    {
     "name": "stderr",
     "output_type": "stream",
     "text": [
      " 12%|█▏        | 2256/18840 [01:31<11:21, 24.34it/s]"
     ]
    },
    {
     "name": "stdout",
     "output_type": "stream",
     "text": [
      "Found 3\n"
     ]
    },
    {
     "name": "stderr",
     "output_type": "stream",
     "text": [
      " 13%|█▎        | 2358/18840 [01:35<12:01, 22.86it/s]"
     ]
    },
    {
     "name": "stdout",
     "output_type": "stream",
     "text": [
      "Found 2\n"
     ]
    },
    {
     "name": "stderr",
     "output_type": "stream",
     "text": [
      " 13%|█▎        | 2370/18840 [01:36<12:10, 22.54it/s]"
     ]
    },
    {
     "name": "stdout",
     "output_type": "stream",
     "text": [
      "Found 1\n"
     ]
    },
    {
     "name": "stderr",
     "output_type": "stream",
     "text": [
      " 13%|█▎        | 2480/18840 [01:44<11:36, 23.47it/s]  "
     ]
    },
    {
     "name": "stdout",
     "output_type": "stream",
     "text": [
      "Found 1\n"
     ]
    },
    {
     "name": "stderr",
     "output_type": "stream",
     "text": [
      " 13%|█▎        | 2493/18840 [01:44<10:57, 24.85it/s]"
     ]
    },
    {
     "name": "stdout",
     "output_type": "stream",
     "text": [
      "Found 1\n"
     ]
    },
    {
     "name": "stderr",
     "output_type": "stream",
     "text": [
      " 14%|█▎        | 2550/18840 [01:47<11:25, 23.77it/s]"
     ]
    },
    {
     "name": "stdout",
     "output_type": "stream",
     "text": [
      "Found 5\n"
     ]
    },
    {
     "name": "stderr",
     "output_type": "stream",
     "text": [
      " 14%|█▎        | 2580/18840 [01:48<11:05, 24.43it/s]"
     ]
    },
    {
     "name": "stdout",
     "output_type": "stream",
     "text": [
      "Found 4\n"
     ]
    },
    {
     "name": "stderr",
     "output_type": "stream",
     "text": [
      " 14%|█▍        | 2595/18840 [01:49<12:34, 21.54it/s]"
     ]
    },
    {
     "name": "stdout",
     "output_type": "stream",
     "text": [
      "Found 3\n"
     ]
    },
    {
     "name": "stderr",
     "output_type": "stream",
     "text": [
      " 14%|█▍        | 2610/18840 [01:49<11:13, 24.09it/s]"
     ]
    },
    {
     "name": "stdout",
     "output_type": "stream",
     "text": [
      "Found 5\n"
     ]
    },
    {
     "name": "stderr",
     "output_type": "stream",
     "text": [
      " 14%|█▍        | 2637/18840 [01:51<11:30, 23.45it/s]"
     ]
    },
    {
     "name": "stdout",
     "output_type": "stream",
     "text": [
      "Found 0\n"
     ]
    },
    {
     "name": "stderr",
     "output_type": "stream",
     "text": [
      " 14%|█▍        | 2652/18840 [01:51<11:39, 23.13it/s]"
     ]
    },
    {
     "name": "stdout",
     "output_type": "stream",
     "text": [
      "Found 0\n"
     ]
    },
    {
     "name": "stderr",
     "output_type": "stream",
     "text": [
      " 14%|█▍        | 2685/18840 [01:53<11:26, 23.55it/s]"
     ]
    },
    {
     "name": "stdout",
     "output_type": "stream",
     "text": [
      "Found 4\n"
     ]
    },
    {
     "name": "stderr",
     "output_type": "stream",
     "text": [
      " 15%|█▍        | 2733/18840 [01:55<12:20, 21.75it/s]"
     ]
    },
    {
     "name": "stdout",
     "output_type": "stream",
     "text": [
      "OpenCV(4.11.0) /io/opencv/modules/calib3d/src/usac/sampler.cpp:45: error: (-215:Assertion failed) sample_size <= points_size_ in function 'setPointsSize'\n",
      "\n",
      "Retry: 1\n",
      "OpenCV(4.11.0) /io/opencv/modules/calib3d/src/usac/sampler.cpp:45: error: (-215:Assertion failed) sample_size <= points_size_ in function 'setPointsSize'\n",
      "\n",
      "Retry: 2\n",
      "OpenCV(4.11.0) /io/opencv/modules/calib3d/src/usac/sampler.cpp:45: error: (-215:Assertion failed) sample_size <= points_size_ in function 'setPointsSize'\n",
      "\n",
      "Retry: 3\n",
      "OpenCV(4.11.0) /io/opencv/modules/calib3d/src/usac/sampler.cpp:45: error: (-215:Assertion failed) sample_size <= points_size_ in function 'setPointsSize'\n",
      "\n",
      "Retry: 4\n"
     ]
    },
    {
     "name": "stderr",
     "output_type": "stream",
     "text": [
      " 15%|█▍        | 2745/18840 [01:55<11:03, 24.25it/s]"
     ]
    },
    {
     "name": "stdout",
     "output_type": "stream",
     "text": [
      "Found 2\n"
     ]
    },
    {
     "name": "stderr",
     "output_type": "stream",
     "text": [
      " 15%|█▌        | 2833/18840 [02:00<13:13, 20.17it/s]"
     ]
    },
    {
     "name": "stdout",
     "output_type": "stream",
     "text": [
      "Found 4\n"
     ]
    },
    {
     "name": "stderr",
     "output_type": "stream",
     "text": [
      " 15%|█▌        | 2865/18840 [02:01<11:36, 22.95it/s]"
     ]
    },
    {
     "name": "stdout",
     "output_type": "stream",
     "text": [
      "Found 4\n"
     ]
    },
    {
     "name": "stderr",
     "output_type": "stream",
     "text": [
      " 15%|█▌        | 2877/18840 [02:02<10:54, 24.38it/s]"
     ]
    },
    {
     "name": "stdout",
     "output_type": "stream",
     "text": [
      "Found 5\n",
      "OpenCV(4.11.0) /io/opencv/modules/calib3d/src/usac/sampler.cpp:45: error: (-215:Assertion failed) sample_size <= points_size_ in function 'setPointsSize'\n",
      "\n",
      "Retry: 1\n",
      "OpenCV(4.11.0) /io/opencv/modules/calib3d/src/usac/sampler.cpp:45: error: (-215:Assertion failed) sample_size <= points_size_ in function 'setPointsSize'\n",
      "\n",
      "Retry: 2\n",
      "OpenCV(4.11.0) /io/opencv/modules/calib3d/src/usac/sampler.cpp:45: error: (-215:Assertion failed) sample_size <= points_size_ in function 'setPointsSize'\n",
      "\n",
      "Retry: 3\n",
      "OpenCV(4.11.0) /io/opencv/modules/calib3d/src/usac/sampler.cpp:45: error: (-215:Assertion failed) sample_size <= points_size_ in function 'setPointsSize'\n",
      "\n",
      "Retry: 4\n"
     ]
    },
    {
     "name": "stderr",
     "output_type": "stream",
     "text": [
      " 15%|█▌        | 2913/18840 [02:03<11:36, 22.87it/s]"
     ]
    },
    {
     "name": "stdout",
     "output_type": "stream",
     "text": [
      "Found 4\n"
     ]
    },
    {
     "name": "stderr",
     "output_type": "stream",
     "text": [
      " 16%|█▋        | 3104/18840 [02:15<19:23, 13.53it/s]  "
     ]
    },
    {
     "name": "stdout",
     "output_type": "stream",
     "text": [
      "Found 5\n",
      "OpenCV(4.11.0) /io/opencv/modules/calib3d/src/usac/sampler.cpp:45: error: (-215:Assertion failed) sample_size <= points_size_ in function 'setPointsSize'\n",
      "\n",
      "Retry: 1\n",
      "OpenCV(4.11.0) /io/opencv/modules/calib3d/src/usac/sampler.cpp:45: error: (-215:Assertion failed) sample_size <= points_size_ in function 'setPointsSize'\n",
      "\n",
      "Retry: 2\n"
     ]
    },
    {
     "name": "stderr",
     "output_type": "stream",
     "text": [
      " 17%|█▋        | 3110/18840 [02:15<16:58, 15.44it/s]"
     ]
    },
    {
     "name": "stdout",
     "output_type": "stream",
     "text": [
      "OpenCV(4.11.0) /io/opencv/modules/calib3d/src/usac/sampler.cpp:45: error: (-215:Assertion failed) sample_size <= points_size_ in function 'setPointsSize'\n",
      "\n",
      "Retry: 3\n",
      "OpenCV(4.11.0) /io/opencv/modules/calib3d/src/usac/sampler.cpp:45: error: (-215:Assertion failed) sample_size <= points_size_ in function 'setPointsSize'\n",
      "\n",
      "Retry: 4\n"
     ]
    },
    {
     "name": "stderr",
     "output_type": "stream",
     "text": [
      " 17%|█▋        | 3119/18840 [02:16<12:44, 20.56it/s]"
     ]
    },
    {
     "name": "stdout",
     "output_type": "stream",
     "text": [
      "Found 4\n"
     ]
    },
    {
     "name": "stderr",
     "output_type": "stream",
     "text": [
      " 17%|█▋        | 3125/18840 [02:16<14:09, 18.51it/s]"
     ]
    },
    {
     "name": "stdout",
     "output_type": "stream",
     "text": [
      "OpenCV(4.11.0) /io/opencv/modules/calib3d/src/usac/sampler.cpp:45: error: (-215:Assertion failed) sample_size <= points_size_ in function 'setPointsSize'\n",
      "\n",
      "Retry: 1\n",
      "OpenCV(4.11.0) /io/opencv/modules/calib3d/src/usac/sampler.cpp:45: error: (-215:Assertion failed) sample_size <= points_size_ in function 'setPointsSize'\n",
      "\n",
      "Retry: 2\n",
      "OpenCV(4.11.0) /io/opencv/modules/calib3d/src/usac/sampler.cpp:45: error: (-215:Assertion failed) sample_size <= points_size_ in function 'setPointsSize'\n",
      "\n",
      "Retry: 3\n",
      "OpenCV(4.11.0) /io/opencv/modules/calib3d/src/usac/sampler.cpp:45: error: (-215:Assertion failed) sample_size <= points_size_ in function 'setPointsSize'\n",
      "\n",
      "Retry: 4\n"
     ]
    },
    {
     "name": "stderr",
     "output_type": "stream",
     "text": [
      " 17%|█▋        | 3131/18840 [02:16<14:19, 18.29it/s]"
     ]
    },
    {
     "name": "stdout",
     "output_type": "stream",
     "text": [
      "OpenCV(4.11.0) /io/opencv/modules/calib3d/src/usac/sampler.cpp:45: error: (-215:Assertion failed) sample_size <= points_size_ in function 'setPointsSize'\n",
      "\n",
      "Retry: 1\n",
      "OpenCV(4.11.0) /io/opencv/modules/calib3d/src/usac/sampler.cpp:45: error: (-215:Assertion failed) sample_size <= points_size_ in function 'setPointsSize'\n",
      "\n",
      "Retry: 2\n",
      "OpenCV(4.11.0) /io/opencv/modules/calib3d/src/usac/sampler.cpp:45: error: (-215:Assertion failed) sample_size <= points_size_ in function 'setPointsSize'\n",
      "\n",
      "Retry: 3\n",
      "OpenCV(4.11.0) /io/opencv/modules/calib3d/src/usac/sampler.cpp:45: error: (-215:Assertion failed) sample_size <= points_size_ in function 'setPointsSize'\n",
      "\n",
      "Retry: 4\n"
     ]
    },
    {
     "name": "stderr",
     "output_type": "stream",
     "text": [
      " 17%|█▋        | 3234/18840 [02:21<11:41, 22.24it/s]"
     ]
    },
    {
     "name": "stdout",
     "output_type": "stream",
     "text": [
      "OpenCV(4.11.0) /io/opencv/modules/calib3d/src/usac/sampler.cpp:45: error: (-215:Assertion failed) sample_size <= points_size_ in function 'setPointsSize'\n",
      "\n",
      "Retry: 1\n",
      "OpenCV(4.11.0) /io/opencv/modules/calib3d/src/usac/sampler.cpp:45: error: (-215:Assertion failed) sample_size <= points_size_ in function 'setPointsSize'\n",
      "\n",
      "Retry: 2\n",
      "OpenCV(4.11.0) /io/opencv/modules/calib3d/src/usac/sampler.cpp:45: error: (-215:Assertion failed) sample_size <= points_size_ in function 'setPointsSize'\n",
      "\n",
      "Retry: 3\n",
      "OpenCV(4.11.0) /io/opencv/modules/calib3d/src/usac/sampler.cpp:45: error: (-215:Assertion failed) sample_size <= points_size_ in function 'setPointsSize'\n",
      "\n",
      "Retry: 4\n"
     ]
    },
    {
     "name": "stderr",
     "output_type": "stream",
     "text": [
      " 17%|█▋        | 3241/18840 [02:21<11:53, 21.86it/s]"
     ]
    },
    {
     "name": "stdout",
     "output_type": "stream",
     "text": [
      "Found 3\n"
     ]
    },
    {
     "name": "stderr",
     "output_type": "stream",
     "text": [
      " 17%|█▋        | 3257/18840 [02:22<09:45, 26.61it/s]"
     ]
    },
    {
     "name": "stdout",
     "output_type": "stream",
     "text": [
      "Found 3\n"
     ]
    },
    {
     "name": "stderr",
     "output_type": "stream",
     "text": [
      " 20%|█▉        | 3722/18840 [02:41<08:57, 28.12it/s]"
     ]
    },
    {
     "name": "stdout",
     "output_type": "stream",
     "text": [
      "Found 6\n"
     ]
    },
    {
     "name": "stderr",
     "output_type": "stream",
     "text": [
      " 20%|█▉        | 3735/18840 [02:42<08:50, 28.45it/s]"
     ]
    },
    {
     "name": "stdout",
     "output_type": "stream",
     "text": [
      "Found 1\n"
     ]
    },
    {
     "name": "stderr",
     "output_type": "stream",
     "text": [
      " 20%|██        | 3774/18840 [02:43<10:36, 23.65it/s]"
     ]
    },
    {
     "name": "stdout",
     "output_type": "stream",
     "text": [
      "OpenCV(4.11.0) /io/opencv/modules/calib3d/src/usac/sampler.cpp:45: error: (-215:Assertion failed) sample_size <= points_size_ in function 'setPointsSize'\n",
      "\n",
      "Retry: 1\n",
      "OpenCV(4.11.0) /io/opencv/modules/calib3d/src/usac/sampler.cpp:45: error: (-215:Assertion failed) sample_size <= points_size_ in function 'setPointsSize'\n",
      "\n",
      "Retry: 2\n",
      "OpenCV(4.11.0) /io/opencv/modules/calib3d/src/usac/sampler.cpp:45: error: (-215:Assertion failed) sample_size <= points_size_ in function 'setPointsSize'\n",
      "\n",
      "Retry: 3\n",
      "OpenCV(4.11.0) /io/opencv/modules/calib3d/src/usac/sampler.cpp:45: error: (-215:Assertion failed) sample_size <= points_size_ in function 'setPointsSize'\n",
      "\n",
      "Retry: 4\n"
     ]
    },
    {
     "name": "stderr",
     "output_type": "stream",
     "text": [
      " 21%|██        | 3883/18840 [02:50<09:07, 27.33it/s]  "
     ]
    },
    {
     "name": "stdout",
     "output_type": "stream",
     "text": [
      "Found 4\n"
     ]
    },
    {
     "name": "stderr",
     "output_type": "stream",
     "text": [
      " 21%|██        | 3901/18840 [02:51<10:19, 24.12it/s]"
     ]
    },
    {
     "name": "stdout",
     "output_type": "stream",
     "text": [
      "OpenCV(4.11.0) /io/opencv/modules/calib3d/src/usac/sampler.cpp:45: error: (-215:Assertion failed) sample_size <= points_size_ in function 'setPointsSize'\n",
      "\n",
      "Retry: 1\n",
      "OpenCV(4.11.0) /io/opencv/modules/calib3d/src/usac/sampler.cpp:45: error: (-215:Assertion failed) sample_size <= points_size_ in function 'setPointsSize'\n",
      "\n",
      "Retry: 2\n",
      "OpenCV(4.11.0) /io/opencv/modules/calib3d/src/usac/sampler.cpp:45: error: (-215:Assertion failed) sample_size <= points_size_ in function 'setPointsSize'\n",
      "\n",
      "Retry: 3\n",
      "OpenCV(4.11.0) /io/opencv/modules/calib3d/src/usac/sampler.cpp:45: error: (-215:Assertion failed) sample_size <= points_size_ in function 'setPointsSize'\n",
      "\n",
      "Retry: 4\n"
     ]
    },
    {
     "name": "stderr",
     "output_type": "stream",
     "text": [
      " 21%|██        | 3956/18840 [02:53<09:27, 26.21it/s]"
     ]
    },
    {
     "name": "stdout",
     "output_type": "stream",
     "text": [
      "Found 2\n"
     ]
    },
    {
     "name": "stderr",
     "output_type": "stream",
     "text": [
      " 21%|██        | 3977/18840 [02:54<10:36, 23.35it/s]"
     ]
    },
    {
     "name": "stdout",
     "output_type": "stream",
     "text": [
      "Found 4\n"
     ]
    },
    {
     "name": "stderr",
     "output_type": "stream",
     "text": [
      " 21%|██        | 3996/18840 [02:55<09:26, 26.21it/s]"
     ]
    },
    {
     "name": "stdout",
     "output_type": "stream",
     "text": [
      "Found 2\n"
     ]
    },
    {
     "name": "stderr",
     "output_type": "stream",
     "text": [
      " 21%|██▏       | 4032/18840 [02:56<10:20, 23.88it/s]"
     ]
    },
    {
     "name": "stdout",
     "output_type": "stream",
     "text": [
      "Found 0\n"
     ]
    },
    {
     "name": "stderr",
     "output_type": "stream",
     "text": [
      " 22%|██▏       | 4056/18840 [02:58<11:30, 21.40it/s]"
     ]
    },
    {
     "name": "stdout",
     "output_type": "stream",
     "text": [
      "OpenCV(4.11.0) /io/opencv/modules/calib3d/src/usac/sampler.cpp:45: error: (-215:Assertion failed) sample_size <= points_size_ in function 'setPointsSize'\n",
      "\n",
      "Retry: 1\n",
      "OpenCV(4.11.0) /io/opencv/modules/calib3d/src/usac/sampler.cpp:45: error: (-215:Assertion failed) sample_size <= points_size_ in function 'setPointsSize'\n",
      "\n",
      "Retry: 2\n",
      "OpenCV(4.11.0) /io/opencv/modules/calib3d/src/usac/sampler.cpp:45: error: (-215:Assertion failed) sample_size <= points_size_ in function 'setPointsSize'\n",
      "\n",
      "Retry: 3\n",
      "OpenCV(4.11.0) /io/opencv/modules/calib3d/src/usac/sampler.cpp:45: error: (-215:Assertion failed) sample_size <= points_size_ in function 'setPointsSize'\n",
      "\n",
      "Retry: 4\n"
     ]
    },
    {
     "name": "stderr",
     "output_type": "stream",
     "text": [
      " 22%|██▏       | 4072/18840 [02:58<09:08, 26.90it/s]"
     ]
    },
    {
     "name": "stdout",
     "output_type": "stream",
     "text": [
      "Found 3\n"
     ]
    },
    {
     "name": "stderr",
     "output_type": "stream",
     "text": [
      " 22%|██▏       | 4082/18840 [02:59<09:00, 27.29it/s]"
     ]
    },
    {
     "name": "stdout",
     "output_type": "stream",
     "text": [
      "Found 0\n"
     ]
    },
    {
     "name": "stderr",
     "output_type": "stream",
     "text": [
      " 22%|██▏       | 4124/18840 [03:00<10:09, 24.16it/s]"
     ]
    },
    {
     "name": "stdout",
     "output_type": "stream",
     "text": [
      "Found 3\n"
     ]
    },
    {
     "name": "stderr",
     "output_type": "stream",
     "text": [
      " 22%|██▏       | 4137/18840 [03:01<09:39, 25.37it/s]"
     ]
    },
    {
     "name": "stdout",
     "output_type": "stream",
     "text": [
      "Found 2\n"
     ]
    },
    {
     "name": "stderr",
     "output_type": "stream",
     "text": [
      " 22%|██▏       | 4183/18840 [03:03<09:00, 27.14it/s]"
     ]
    },
    {
     "name": "stdout",
     "output_type": "stream",
     "text": [
      "Found 6\n"
     ]
    },
    {
     "name": "stderr",
     "output_type": "stream",
     "text": [
      " 22%|██▏       | 4220/18840 [03:04<08:55, 27.30it/s]"
     ]
    },
    {
     "name": "stdout",
     "output_type": "stream",
     "text": [
      "Found 1\n"
     ]
    },
    {
     "name": "stderr",
     "output_type": "stream",
     "text": [
      " 22%|██▏       | 4233/18840 [03:05<08:54, 27.32it/s]"
     ]
    },
    {
     "name": "stdout",
     "output_type": "stream",
     "text": [
      "Found 1\n"
     ]
    },
    {
     "name": "stderr",
     "output_type": "stream",
     "text": [
      " 22%|██▎       | 4239/18840 [03:05<11:13, 21.69it/s]"
     ]
    },
    {
     "name": "stdout",
     "output_type": "stream",
     "text": [
      "OpenCV(4.11.0) /io/opencv/modules/calib3d/src/usac/sampler.cpp:45: error: (-215:Assertion failed) sample_size <= points_size_ in function 'setPointsSize'\n",
      "\n",
      "Retry: 1\n",
      "OpenCV(4.11.0) /io/opencv/modules/calib3d/src/usac/sampler.cpp:45: error: (-215:Assertion failed) sample_size <= points_size_ in function 'setPointsSize'\n",
      "\n",
      "Retry: 2\n",
      "OpenCV(4.11.0) /io/opencv/modules/calib3d/src/usac/sampler.cpp:45: error: (-215:Assertion failed) sample_size <= points_size_ in function 'setPointsSize'\n",
      "\n",
      "Retry: 3\n",
      "OpenCV(4.11.0) /io/opencv/modules/calib3d/src/usac/sampler.cpp:45: error: (-215:Assertion failed) sample_size <= points_size_ in function 'setPointsSize'\n",
      "\n",
      "Retry: 4\n"
     ]
    },
    {
     "name": "stderr",
     "output_type": "stream",
     "text": [
      " 23%|██▎       | 4279/18840 [03:06<08:54, 27.27it/s]"
     ]
    },
    {
     "name": "stdout",
     "output_type": "stream",
     "text": [
      "Found 3\n"
     ]
    },
    {
     "name": "stderr",
     "output_type": "stream",
     "text": [
      " 23%|██▎       | 4317/18840 [03:08<09:24, 25.74it/s]"
     ]
    },
    {
     "name": "stdout",
     "output_type": "stream",
     "text": [
      "Found 2\n"
     ]
    },
    {
     "name": "stderr",
     "output_type": "stream",
     "text": [
      " 23%|██▎       | 4333/18840 [03:09<08:57, 27.00it/s]"
     ]
    },
    {
     "name": "stdout",
     "output_type": "stream",
     "text": [
      "Found 1\n"
     ]
    },
    {
     "name": "stderr",
     "output_type": "stream",
     "text": [
      " 23%|██▎       | 4380/18840 [03:10<08:53, 27.08it/s]"
     ]
    },
    {
     "name": "stdout",
     "output_type": "stream",
     "text": [
      "Found 2\n"
     ]
    },
    {
     "name": "stderr",
     "output_type": "stream",
     "text": [
      " 24%|██▍       | 4562/18840 [03:21<12:01, 19.80it/s]  "
     ]
    },
    {
     "name": "stdout",
     "output_type": "stream",
     "text": [
      "OpenCV(4.11.0) /io/opencv/modules/calib3d/src/usac/sampler.cpp:45: error: (-215:Assertion failed) sample_size <= points_size_ in function 'setPointsSize'\n",
      "\n",
      "Retry: 1\n",
      "OpenCV(4.11.0) /io/opencv/modules/calib3d/src/usac/sampler.cpp:45: error: (-215:Assertion failed) sample_size <= points_size_ in function 'setPointsSize'\n",
      "\n",
      "Retry: 2\n",
      "OpenCV(4.11.0) /io/opencv/modules/calib3d/src/usac/sampler.cpp:45: error: (-215:Assertion failed) sample_size <= points_size_ in function 'setPointsSize'\n",
      "\n",
      "Retry: 3\n",
      "OpenCV(4.11.0) /io/opencv/modules/calib3d/src/usac/sampler.cpp:45: error: (-215:Assertion failed) sample_size <= points_size_ in function 'setPointsSize'\n",
      "\n",
      "Retry: 4\n"
     ]
    },
    {
     "name": "stderr",
     "output_type": "stream",
     "text": [
      " 24%|██▍       | 4577/18840 [03:22<09:14, 25.74it/s]"
     ]
    },
    {
     "name": "stdout",
     "output_type": "stream",
     "text": [
      "Found 5\n"
     ]
    },
    {
     "name": "stderr",
     "output_type": "stream",
     "text": [
      " 24%|██▍       | 4590/18840 [03:22<08:38, 27.49it/s]"
     ]
    },
    {
     "name": "stdout",
     "output_type": "stream",
     "text": [
      "Found 1\n"
     ]
    },
    {
     "name": "stderr",
     "output_type": "stream",
     "text": [
      " 24%|██▍       | 4599/18840 [03:23<10:35, 22.42it/s]"
     ]
    },
    {
     "name": "stdout",
     "output_type": "stream",
     "text": [
      "OpenCV(4.11.0) /io/opencv/modules/calib3d/src/usac/sampler.cpp:45: error: (-215:Assertion failed) sample_size <= points_size_ in function 'setPointsSize'\n",
      "\n",
      "Retry: 1\n",
      "OpenCV(4.11.0) /io/opencv/modules/calib3d/src/usac/sampler.cpp:45: error: (-215:Assertion failed) sample_size <= points_size_ in function 'setPointsSize'\n",
      "\n",
      "Retry: 2\n",
      "OpenCV(4.11.0) /io/opencv/modules/calib3d/src/usac/sampler.cpp:45: error: (-215:Assertion failed) sample_size <= points_size_ in function 'setPointsSize'\n",
      "\n",
      "Retry: 3\n",
      "OpenCV(4.11.0) /io/opencv/modules/calib3d/src/usac/sampler.cpp:45: error: (-215:Assertion failed) sample_size <= points_size_ in function 'setPointsSize'\n",
      "\n",
      "Retry: 4\n"
     ]
    },
    {
     "name": "stderr",
     "output_type": "stream",
     "text": [
      " 25%|██▍       | 4639/18840 [03:24<08:52, 26.68it/s]"
     ]
    },
    {
     "name": "stdout",
     "output_type": "stream",
     "text": [
      "Found 4\n"
     ]
    },
    {
     "name": "stderr",
     "output_type": "stream",
     "text": [
      " 25%|██▌       | 4727/18840 [03:28<08:46, 26.80it/s]"
     ]
    },
    {
     "name": "stdout",
     "output_type": "stream",
     "text": [
      "Found 1\n"
     ]
    },
    {
     "name": "stderr",
     "output_type": "stream",
     "text": [
      " 25%|██▌       | 4739/18840 [03:28<08:31, 27.56it/s]"
     ]
    },
    {
     "name": "stdout",
     "output_type": "stream",
     "text": [
      "Found 2\n"
     ]
    },
    {
     "name": "stderr",
     "output_type": "stream",
     "text": [
      " 26%|██▌       | 4814/18840 [03:31<08:12, 28.46it/s]"
     ]
    },
    {
     "name": "stdout",
     "output_type": "stream",
     "text": [
      "Found 6\n",
      "OpenCV(4.11.0) /io/opencv/modules/calib3d/src/usac/sampler.cpp:45: error: (-215:Assertion failed) sample_size <= points_size_ in function 'setPointsSize'\n",
      "\n",
      "Retry: 1\n",
      "OpenCV(4.11.0) /io/opencv/modules/calib3d/src/usac/sampler.cpp:45: error: (-215:Assertion failed) sample_size <= points_size_ in function 'setPointsSize'\n",
      "\n",
      "Retry: 2\n"
     ]
    },
    {
     "name": "stderr",
     "output_type": "stream",
     "text": [
      " 26%|██▌       | 4820/18840 [03:31<09:23, 24.87it/s]"
     ]
    },
    {
     "name": "stdout",
     "output_type": "stream",
     "text": [
      "OpenCV(4.11.0) /io/opencv/modules/calib3d/src/usac/sampler.cpp:45: error: (-215:Assertion failed) sample_size <= points_size_ in function 'setPointsSize'\n",
      "\n",
      "Retry: 3\n",
      "OpenCV(4.11.0) /io/opencv/modules/calib3d/src/usac/sampler.cpp:45: error: (-215:Assertion failed) sample_size <= points_size_ in function 'setPointsSize'\n",
      "\n",
      "Retry: 4\n",
      "Found 2\n"
     ]
    },
    {
     "name": "stderr",
     "output_type": "stream",
     "text": [
      " 26%|██▌       | 4836/18840 [03:32<08:32, 27.34it/s]"
     ]
    },
    {
     "name": "stdout",
     "output_type": "stream",
     "text": [
      "Found 4\n"
     ]
    },
    {
     "name": "stderr",
     "output_type": "stream",
     "text": [
      " 26%|██▌       | 4880/18840 [03:34<08:34, 27.12it/s]"
     ]
    },
    {
     "name": "stdout",
     "output_type": "stream",
     "text": [
      "Found 2\n"
     ]
    },
    {
     "name": "stderr",
     "output_type": "stream",
     "text": [
      " 26%|██▌       | 4892/18840 [03:34<08:35, 27.08it/s]"
     ]
    },
    {
     "name": "stdout",
     "output_type": "stream",
     "text": [
      "Found 2\n"
     ]
    },
    {
     "name": "stderr",
     "output_type": "stream",
     "text": [
      " 26%|██▋       | 4951/18840 [03:36<08:35, 26.94it/s]"
     ]
    },
    {
     "name": "stdout",
     "output_type": "stream",
     "text": [
      "Found 5\n"
     ]
    },
    {
     "name": "stderr",
     "output_type": "stream",
     "text": [
      " 27%|██▋       | 5000/18840 [03:38<08:22, 27.54it/s]"
     ]
    },
    {
     "name": "stdout",
     "output_type": "stream",
     "text": [
      "Found 0\n"
     ]
    },
    {
     "name": "stderr",
     "output_type": "stream",
     "text": [
      " 27%|██▋       | 5015/18840 [03:39<08:42, 26.48it/s]"
     ]
    },
    {
     "name": "stdout",
     "output_type": "stream",
     "text": [
      "Found 0\n"
     ]
    },
    {
     "name": "stderr",
     "output_type": "stream",
     "text": [
      " 27%|██▋       | 5027/18840 [03:39<10:13, 22.50it/s]"
     ]
    },
    {
     "name": "stdout",
     "output_type": "stream",
     "text": [
      "OpenCV(4.11.0) /io/opencv/modules/calib3d/src/usac/sampler.cpp:45: error: (-215:Assertion failed) sample_size <= points_size_ in function 'setPointsSize'\n",
      "\n",
      "Retry: 1\n",
      "OpenCV(4.11.0) /io/opencv/modules/calib3d/src/usac/sampler.cpp:45: error: (-215:Assertion failed) sample_size <= points_size_ in function 'setPointsSize'\n",
      "\n",
      "Retry: 2\n",
      "OpenCV(4.11.0) /io/opencv/modules/calib3d/src/usac/sampler.cpp:45: error: (-215:Assertion failed) sample_size <= points_size_ in function 'setPointsSize'\n",
      "\n",
      "Retry: 3\n",
      "OpenCV(4.11.0) /io/opencv/modules/calib3d/src/usac/sampler.cpp:45: error: (-215:Assertion failed) sample_size <= points_size_ in function 'setPointsSize'\n",
      "\n",
      "Retry: 4\n"
     ]
    },
    {
     "name": "stderr",
     "output_type": "stream",
     "text": [
      " 27%|██▋       | 5138/18840 [03:44<09:21, 24.42it/s]"
     ]
    },
    {
     "name": "stdout",
     "output_type": "stream",
     "text": [
      "Found 2\n",
      "Found 5\n"
     ]
    },
    {
     "name": "stderr",
     "output_type": "stream",
     "text": [
      " 27%|██▋       | 5153/18840 [03:45<07:16, 31.33it/s]"
     ]
    },
    {
     "name": "stdout",
     "output_type": "stream",
     "text": [
      "Found 5\n",
      "OpenCV(4.11.0) /io/opencv/modules/calib3d/src/usac/sampler.cpp:45: error: (-215:Assertion failed) sample_size <= points_size_ in function 'setPointsSize'\n",
      "\n",
      "Retry: 1\n",
      "OpenCV(4.11.0) /io/opencv/modules/calib3d/src/usac/sampler.cpp:45: error: (-215:Assertion failed) sample_size <= points_size_ in function 'setPointsSize'\n",
      "\n",
      "Retry: 2\n",
      "OpenCV(4.11.0) /io/opencv/modules/calib3d/src/usac/sampler.cpp:45: error: (-215:Assertion failed) sample_size <= points_size_ in function 'setPointsSize'\n",
      "\n",
      "Retry: 3\n",
      "OpenCV(4.11.0) /io/opencv/modules/calib3d/src/usac/sampler.cpp:45: error: (-215:Assertion failed) sample_size <= points_size_ in function 'setPointsSize'\n",
      "\n",
      "Retry: 4\n"
     ]
    },
    {
     "name": "stderr",
     "output_type": "stream",
     "text": [
      " 27%|██▋       | 5168/18840 [03:45<05:54, 38.58it/s]"
     ]
    },
    {
     "name": "stdout",
     "output_type": "stream",
     "text": [
      "Found 3\n"
     ]
    },
    {
     "name": "stderr",
     "output_type": "stream",
     "text": [
      " 27%|██▋       | 5178/18840 [03:45<05:32, 41.09it/s]"
     ]
    },
    {
     "name": "stdout",
     "output_type": "stream",
     "text": [
      "Found 4\n",
      "Found 3\n",
      "Found 6\n"
     ]
    },
    {
     "name": "stderr",
     "output_type": "stream",
     "text": [
      " 28%|██▊       | 5217/18840 [03:47<08:13, 27.59it/s]"
     ]
    },
    {
     "name": "stdout",
     "output_type": "stream",
     "text": [
      "Found 1\n"
     ]
    },
    {
     "name": "stderr",
     "output_type": "stream",
     "text": [
      " 28%|██▊       | 5298/18840 [03:53<25:02,  9.02it/s]  "
     ]
    },
    {
     "name": "stdout",
     "output_type": "stream",
     "text": [
      "OpenCV(4.11.0) /io/opencv/modules/calib3d/src/usac/sampler.cpp:45: error: (-215:Assertion failed) sample_size <= points_size_ in function 'setPointsSize'\n",
      "\n",
      "Retry: 1\n",
      "OpenCV(4.11.0) /io/opencv/modules/calib3d/src/usac/sampler.cpp:45: error: (-215:Assertion failed) sample_size <= points_size_ in function 'setPointsSize'\n",
      "\n",
      "Retry: 2\n",
      "OpenCV(4.11.0) /io/opencv/modules/calib3d/src/usac/sampler.cpp:45: error: (-215:Assertion failed) sample_size <= points_size_ in function 'setPointsSize'\n",
      "\n",
      "Retry: 3\n",
      "OpenCV(4.11.0) /io/opencv/modules/calib3d/src/usac/sampler.cpp:45: error: (-215:Assertion failed) sample_size <= points_size_ in function 'setPointsSize'\n",
      "\n",
      "Retry: 4\n"
     ]
    },
    {
     "name": "stderr",
     "output_type": "stream",
     "text": [
      " 29%|██▉       | 5448/18840 [03:59<07:49, 28.55it/s]"
     ]
    },
    {
     "name": "stdout",
     "output_type": "stream",
     "text": [
      "Found 5\n"
     ]
    },
    {
     "name": "stderr",
     "output_type": "stream",
     "text": [
      " 30%|██▉       | 5593/18840 [04:05<08:00, 27.56it/s]"
     ]
    },
    {
     "name": "stdout",
     "output_type": "stream",
     "text": [
      "Found 6\n"
     ]
    },
    {
     "name": "stderr",
     "output_type": "stream",
     "text": [
      " 30%|██▉       | 5629/18840 [04:06<09:15, 23.76it/s]"
     ]
    },
    {
     "name": "stdout",
     "output_type": "stream",
     "text": [
      "OpenCV(4.11.0) /io/opencv/modules/calib3d/src/usac/estimator.cpp:353: error: (-215:Assertion failed) !model.empty() in function 'setModelParameters'\n",
      "\n",
      "Retry: 1\n",
      "OpenCV(4.11.0) /io/opencv/modules/calib3d/src/usac/estimator.cpp:353: error: (-215:Assertion failed) !model.empty() in function 'setModelParameters'\n",
      "\n",
      "Retry: 2\n",
      "OpenCV(4.11.0) /io/opencv/modules/calib3d/src/usac/estimator.cpp:353: error: (-215:Assertion failed) !model.empty() in function 'setModelParameters'\n",
      "\n",
      "Retry: 3\n",
      "OpenCV(4.11.0) /io/opencv/modules/calib3d/src/usac/estimator.cpp:353: error: (-215:Assertion failed) !model.empty() in function 'setModelParameters'\n",
      "\n",
      "Retry: 4\n"
     ]
    },
    {
     "name": "stderr",
     "output_type": "stream",
     "text": [
      " 30%|███       | 5693/18840 [04:09<07:37, 28.76it/s]"
     ]
    },
    {
     "name": "stdout",
     "output_type": "stream",
     "text": [
      "Found 1\n"
     ]
    },
    {
     "name": "stderr",
     "output_type": "stream",
     "text": [
      " 30%|███       | 5706/18840 [04:09<07:37, 28.72it/s]"
     ]
    },
    {
     "name": "stdout",
     "output_type": "stream",
     "text": [
      "Found 5\n"
     ]
    },
    {
     "name": "stderr",
     "output_type": "stream",
     "text": [
      " 31%|███       | 5811/18840 [04:14<08:17, 26.17it/s]"
     ]
    },
    {
     "name": "stdout",
     "output_type": "stream",
     "text": [
      "Found 5\n"
     ]
    },
    {
     "name": "stderr",
     "output_type": "stream",
     "text": [
      " 31%|███       | 5826/18840 [04:15<08:09, 26.59it/s]"
     ]
    },
    {
     "name": "stdout",
     "output_type": "stream",
     "text": [
      "Found 6\n"
     ]
    },
    {
     "name": "stderr",
     "output_type": "stream",
     "text": [
      " 33%|███▎      | 6167/18840 [04:32<07:48, 27.03it/s]  "
     ]
    },
    {
     "name": "stdout",
     "output_type": "stream",
     "text": [
      "Found 2\n"
     ]
    },
    {
     "name": "stderr",
     "output_type": "stream",
     "text": [
      " 33%|███▎      | 6184/18840 [04:33<07:11, 29.35it/s]"
     ]
    },
    {
     "name": "stdout",
     "output_type": "stream",
     "text": [
      "Found 4\n"
     ]
    },
    {
     "name": "stderr",
     "output_type": "stream",
     "text": [
      " 33%|███▎      | 6208/18840 [04:34<07:31, 27.98it/s]"
     ]
    },
    {
     "name": "stdout",
     "output_type": "stream",
     "text": [
      "OpenCV(4.11.0) /io/opencv/modules/calib3d/src/usac/estimator.cpp:353: error: (-215:Assertion failed) !model.empty() in function 'setModelParameters'\n",
      "\n",
      "Retry: 1\n",
      "OpenCV(4.11.0) /io/opencv/modules/calib3d/src/usac/estimator.cpp:353: error: (-215:Assertion failed) !model.empty() in function 'setModelParameters'\n",
      "\n",
      "Retry: 2\n",
      "OpenCV(4.11.0) /io/opencv/modules/calib3d/src/usac/estimator.cpp:353: error: (-215:Assertion failed) !model.empty() in function 'setModelParameters'\n",
      "\n",
      "Retry: 3\n",
      "OpenCV(4.11.0) /io/opencv/modules/calib3d/src/usac/estimator.cpp:353: error: (-215:Assertion failed) !model.empty() in function 'setModelParameters'\n",
      "\n",
      "Retry: 4\n"
     ]
    },
    {
     "name": "stderr",
     "output_type": "stream",
     "text": [
      " 33%|███▎      | 6243/18840 [04:35<07:25, 28.27it/s]"
     ]
    },
    {
     "name": "stdout",
     "output_type": "stream",
     "text": [
      "Found 3\n"
     ]
    },
    {
     "name": "stderr",
     "output_type": "stream",
     "text": [
      " 33%|███▎      | 6299/18840 [04:38<08:50, 23.66it/s]"
     ]
    },
    {
     "name": "stdout",
     "output_type": "stream",
     "text": [
      "Found 2\n"
     ]
    },
    {
     "name": "stderr",
     "output_type": "stream",
     "text": [
      " 34%|███▍      | 6452/18840 [04:45<08:56, 23.09it/s]"
     ]
    },
    {
     "name": "stdout",
     "output_type": "stream",
     "text": [
      "Found 2\n"
     ]
    },
    {
     "name": "stderr",
     "output_type": "stream",
     "text": [
      " 34%|███▍      | 6467/18840 [04:45<08:59, 22.93it/s]"
     ]
    },
    {
     "name": "stdout",
     "output_type": "stream",
     "text": [
      "Found 2\n"
     ]
    },
    {
     "name": "stderr",
     "output_type": "stream",
     "text": [
      " 35%|███▌      | 6628/18840 [04:53<09:09, 22.24it/s]"
     ]
    },
    {
     "name": "stdout",
     "output_type": "stream",
     "text": [
      "Found 2\n"
     ]
    },
    {
     "name": "stderr",
     "output_type": "stream",
     "text": [
      " 35%|███▌      | 6640/18840 [04:53<09:07, 22.28it/s]"
     ]
    },
    {
     "name": "stdout",
     "output_type": "stream",
     "text": [
      "Found 1\n"
     ]
    },
    {
     "name": "stderr",
     "output_type": "stream",
     "text": [
      " 36%|███▌      | 6748/18840 [05:01<09:04, 22.20it/s]  "
     ]
    },
    {
     "name": "stdout",
     "output_type": "stream",
     "text": [
      "OpenCV(4.11.0) /io/opencv/modules/calib3d/src/usac/sampler.cpp:45: error: (-215:Assertion failed) sample_size <= points_size_ in function 'setPointsSize'\n",
      "\n",
      "Retry: 1\n",
      "OpenCV(4.11.0) /io/opencv/modules/calib3d/src/usac/sampler.cpp:45: error: (-215:Assertion failed) sample_size <= points_size_ in function 'setPointsSize'\n",
      "\n",
      "Retry: 2\n",
      "OpenCV(4.11.0) /io/opencv/modules/calib3d/src/usac/sampler.cpp:45: error: (-215:Assertion failed) sample_size <= points_size_ in function 'setPointsSize'\n",
      "\n",
      "Retry: 3\n",
      "OpenCV(4.11.0) /io/opencv/modules/calib3d/src/usac/sampler.cpp:45: error: (-215:Assertion failed) sample_size <= points_size_ in function 'setPointsSize'\n",
      "\n",
      "Retry: 4\n",
      "Found 4\n"
     ]
    },
    {
     "name": "stderr",
     "output_type": "stream",
     "text": [
      " 37%|███▋      | 6982/18840 [05:11<08:22, 23.60it/s]"
     ]
    },
    {
     "name": "stdout",
     "output_type": "stream",
     "text": [
      "OpenCV(4.11.0) /io/opencv/modules/calib3d/src/usac/sampler.cpp:45: error: (-215:Assertion failed) sample_size <= points_size_ in function 'setPointsSize'\n",
      "\n",
      "Retry: 1\n",
      "OpenCV(4.11.0) /io/opencv/modules/calib3d/src/usac/sampler.cpp:45: error: (-215:Assertion failed) sample_size <= points_size_ in function 'setPointsSize'\n",
      "\n",
      "Retry: 2\n",
      "OpenCV(4.11.0) /io/opencv/modules/calib3d/src/usac/sampler.cpp:45: error: (-215:Assertion failed) sample_size <= points_size_ in function 'setPointsSize'\n",
      "\n",
      "Retry: 3\n",
      "OpenCV(4.11.0) /io/opencv/modules/calib3d/src/usac/sampler.cpp:45: error: (-215:Assertion failed) sample_size <= points_size_ in function 'setPointsSize'\n",
      "\n",
      "Retry: 4\n"
     ]
    },
    {
     "name": "stderr",
     "output_type": "stream",
     "text": [
      " 38%|███▊      | 7079/18840 [05:15<09:29, 20.64it/s]"
     ]
    },
    {
     "name": "stdout",
     "output_type": "stream",
     "text": [
      "OpenCV(4.11.0) /io/opencv/modules/calib3d/src/usac/sampler.cpp:45: error: (-215:Assertion failed) sample_size <= points_size_ in function 'setPointsSize'\n",
      "\n",
      "Retry: 1\n",
      "OpenCV(4.11.0) /io/opencv/modules/calib3d/src/usac/sampler.cpp:45: error: (-215:Assertion failed) sample_size <= points_size_ in function 'setPointsSize'\n",
      "\n",
      "Retry: 2\n",
      "OpenCV(4.11.0) /io/opencv/modules/calib3d/src/usac/sampler.cpp:45: error: (-215:Assertion failed) sample_size <= points_size_ in function 'setPointsSize'\n",
      "\n",
      "Retry: 3\n",
      "OpenCV(4.11.0) /io/opencv/modules/calib3d/src/usac/sampler.cpp:45: error: (-215:Assertion failed) sample_size <= points_size_ in function 'setPointsSize'\n",
      "\n",
      "Retry: 4\n"
     ]
    },
    {
     "name": "stderr",
     "output_type": "stream",
     "text": [
      " 38%|███▊      | 7088/18840 [05:16<08:25, 23.24it/s]"
     ]
    },
    {
     "name": "stdout",
     "output_type": "stream",
     "text": [
      "Found 4\n"
     ]
    },
    {
     "name": "stderr",
     "output_type": "stream",
     "text": [
      " 38%|███▊      | 7100/18840 [05:16<08:06, 24.11it/s]"
     ]
    },
    {
     "name": "stdout",
     "output_type": "stream",
     "text": [
      "Found 0\n"
     ]
    },
    {
     "name": "stderr",
     "output_type": "stream",
     "text": [
      " 38%|███▊      | 7158/18840 [05:19<07:40, 25.37it/s]"
     ]
    },
    {
     "name": "stdout",
     "output_type": "stream",
     "text": [
      "Found 4\n"
     ]
    },
    {
     "name": "stderr",
     "output_type": "stream",
     "text": [
      " 38%|███▊      | 7215/18840 [05:22<08:30, 22.79it/s]"
     ]
    },
    {
     "name": "stdout",
     "output_type": "stream",
     "text": [
      "Found 6\n"
     ]
    },
    {
     "name": "stderr",
     "output_type": "stream",
     "text": [
      " 39%|███▊      | 7270/18840 [05:24<07:33, 25.53it/s]"
     ]
    },
    {
     "name": "stdout",
     "output_type": "stream",
     "text": [
      "Found 3\n"
     ]
    },
    {
     "name": "stderr",
     "output_type": "stream",
     "text": [
      " 39%|███▊      | 7282/18840 [05:24<07:16, 26.45it/s]"
     ]
    },
    {
     "name": "stdout",
     "output_type": "stream",
     "text": [
      "Found 1\n"
     ]
    },
    {
     "name": "stderr",
     "output_type": "stream",
     "text": [
      " 40%|███▉      | 7459/18840 [05:35<08:21, 22.70it/s]  "
     ]
    },
    {
     "name": "stdout",
     "output_type": "stream",
     "text": [
      "Found 2\n"
     ]
    },
    {
     "name": "stderr",
     "output_type": "stream",
     "text": [
      " 40%|███▉      | 7474/18840 [05:35<08:17, 22.83it/s]"
     ]
    },
    {
     "name": "stdout",
     "output_type": "stream",
     "text": [
      "Found 4\n"
     ]
    },
    {
     "name": "stderr",
     "output_type": "stream",
     "text": [
      " 40%|████      | 7602/18840 [05:42<12:18, 15.22it/s]"
     ]
    },
    {
     "name": "stdout",
     "output_type": "stream",
     "text": [
      "OpenCV(4.11.0) /io/opencv/modules/calib3d/src/usac/estimator.cpp:353: error: (-215:Assertion failed) !model.empty() in function 'setModelParameters'\n",
      "\n",
      "Retry: 1\n",
      "OpenCV(4.11.0) /io/opencv/modules/calib3d/src/usac/estimator.cpp:353: error: (-215:Assertion failed) !model.empty() in function 'setModelParameters'\n",
      "\n",
      "Retry: 2\n",
      "OpenCV(4.11.0) /io/opencv/modules/calib3d/src/usac/estimator.cpp:353: error: (-215:Assertion failed) !model.empty() in function 'setModelParameters'\n",
      "\n",
      "Retry: 3\n",
      "OpenCV(4.11.0) /io/opencv/modules/calib3d/src/usac/estimator.cpp:353: error: (-215:Assertion failed) !model.empty() in function 'setModelParameters'\n",
      "\n",
      "Retry: 4\n"
     ]
    },
    {
     "name": "stderr",
     "output_type": "stream",
     "text": [
      " 42%|████▏     | 7997/18840 [06:02<07:20, 24.64it/s]"
     ]
    },
    {
     "name": "stdout",
     "output_type": "stream",
     "text": [
      "Found 1\n"
     ]
    },
    {
     "name": "stderr",
     "output_type": "stream",
     "text": [
      " 43%|████▎     | 8055/18840 [06:05<07:01, 25.56it/s]"
     ]
    },
    {
     "name": "stdout",
     "output_type": "stream",
     "text": [
      "Found 1\n"
     ]
    },
    {
     "name": "stderr",
     "output_type": "stream",
     "text": [
      " 43%|████▎     | 8167/18840 [06:10<08:03, 22.05it/s]"
     ]
    },
    {
     "name": "stdout",
     "output_type": "stream",
     "text": [
      "Found 2\n"
     ]
    },
    {
     "name": "stderr",
     "output_type": "stream",
     "text": [
      " 44%|████▎     | 8227/18840 [06:13<07:39, 23.10it/s]"
     ]
    },
    {
     "name": "stdout",
     "output_type": "stream",
     "text": [
      "Found 1\n"
     ]
    },
    {
     "name": "stderr",
     "output_type": "stream",
     "text": [
      " 44%|████▍     | 8291/18840 [06:17<07:52, 22.31it/s]"
     ]
    },
    {
     "name": "stdout",
     "output_type": "stream",
     "text": [
      "Found 3\n"
     ]
    },
    {
     "name": "stderr",
     "output_type": "stream",
     "text": [
      " 45%|████▍     | 8440/18840 [06:26<10:01, 17.28it/s]"
     ]
    },
    {
     "name": "stdout",
     "output_type": "stream",
     "text": [
      "OpenCV(4.11.0) /io/opencv/modules/calib3d/src/usac/sampler.cpp:45: error: (-215:Assertion failed) sample_size <= points_size_ in function 'setPointsSize'\n",
      "\n",
      "Retry: 1\n",
      "OpenCV(4.11.0) /io/opencv/modules/calib3d/src/usac/sampler.cpp:45: error: (-215:Assertion failed) sample_size <= points_size_ in function 'setPointsSize'\n",
      "\n",
      "Retry: 2\n",
      "OpenCV(4.11.0) /io/opencv/modules/calib3d/src/usac/sampler.cpp:45: error: (-215:Assertion failed) sample_size <= points_size_ in function 'setPointsSize'\n",
      "\n",
      "Retry: 3\n",
      "OpenCV(4.11.0) /io/opencv/modules/calib3d/src/usac/sampler.cpp:45: error: (-215:Assertion failed) sample_size <= points_size_ in function 'setPointsSize'\n",
      "\n",
      "Retry: 4\n"
     ]
    },
    {
     "name": "stderr",
     "output_type": "stream",
     "text": [
      " 45%|████▍     | 8449/18840 [06:26<08:17, 20.90it/s]"
     ]
    },
    {
     "name": "stdout",
     "output_type": "stream",
     "text": [
      "Found 4\n"
     ]
    },
    {
     "name": "stderr",
     "output_type": "stream",
     "text": [
      " 45%|████▍     | 8473/18840 [06:27<11:58, 14.43it/s]"
     ]
    },
    {
     "name": "stdout",
     "output_type": "stream",
     "text": [
      "OpenCV(4.11.0) /io/opencv/modules/calib3d/src/usac/sampler.cpp:45: error: (-215:Assertion failed) sample_size <= points_size_ in function 'setPointsSize'\n",
      "\n",
      "Retry: 1\n",
      "OpenCV(4.11.0) /io/opencv/modules/calib3d/src/usac/sampler.cpp:45: error: (-215:Assertion failed) sample_size <= points_size_ in function 'setPointsSize'\n",
      "\n",
      "Retry: 2\n",
      "OpenCV(4.11.0) /io/opencv/modules/calib3d/src/usac/sampler.cpp:45: error: (-215:Assertion failed) sample_size <= points_size_ in function 'setPointsSize'\n",
      "\n",
      "Retry: 3\n",
      "OpenCV(4.11.0) /io/opencv/modules/calib3d/src/usac/sampler.cpp:45: error: (-215:Assertion failed) sample_size <= points_size_ in function 'setPointsSize'\n",
      "\n",
      "Retry: 4\n",
      "OpenCV(4.11.0) /io/opencv/modules/calib3d/src/usac/sampler.cpp:45: error: (-215:Assertion failed) sample_size <= points_size_ in function 'setPointsSize'\n",
      "\n",
      "Retry: 1\n",
      "OpenCV(4.11.0) /io/opencv/modules/calib3d/src/usac/sampler.cpp:45: error: (-215:Assertion failed) sample_size <= points_size_ in function 'setPointsSize'\n",
      "\n",
      "Retry: 2\n",
      "OpenCV(4.11.0) /io/opencv/modules/calib3d/src/usac/sampler.cpp:45: error: (-215:Assertion failed) sample_size <= points_size_ in function 'setPointsSize'\n",
      "\n",
      "Retry: 3\n",
      "OpenCV(4.11.0) /io/opencv/modules/calib3d/src/usac/sampler.cpp:45: error: (-215:Assertion failed) sample_size <= points_size_ in function 'setPointsSize'\n",
      "\n",
      "Retry: 4\n"
     ]
    },
    {
     "name": "stderr",
     "output_type": "stream",
     "text": [
      " 45%|████▌     | 8482/18840 [06:28<09:55, 17.41it/s]"
     ]
    },
    {
     "name": "stdout",
     "output_type": "stream",
     "text": [
      "Found 6\n"
     ]
    },
    {
     "name": "stderr",
     "output_type": "stream",
     "text": [
      " 45%|████▌     | 8520/18840 [06:30<08:19, 20.68it/s]"
     ]
    },
    {
     "name": "stdout",
     "output_type": "stream",
     "text": [
      "Found 2\n"
     ]
    },
    {
     "name": "stderr",
     "output_type": "stream",
     "text": [
      " 46%|████▌     | 8648/18840 [06:36<07:47, 21.79it/s]"
     ]
    },
    {
     "name": "stdout",
     "output_type": "stream",
     "text": [
      "Found 6\n"
     ]
    },
    {
     "name": "stderr",
     "output_type": "stream",
     "text": [
      " 46%|████▌     | 8663/18840 [06:37<07:39, 22.15it/s]"
     ]
    },
    {
     "name": "stdout",
     "output_type": "stream",
     "text": [
      "Found 1\n"
     ]
    },
    {
     "name": "stderr",
     "output_type": "stream",
     "text": [
      " 47%|████▋     | 8846/18840 [06:46<07:11, 23.19it/s]"
     ]
    },
    {
     "name": "stdout",
     "output_type": "stream",
     "text": [
      "Found 1\n"
     ]
    },
    {
     "name": "stderr",
     "output_type": "stream",
     "text": [
      " 49%|████▊     | 9180/18840 [07:03<07:00, 22.98it/s]"
     ]
    },
    {
     "name": "stdout",
     "output_type": "stream",
     "text": [
      "Found 2\n"
     ]
    },
    {
     "name": "stderr",
     "output_type": "stream",
     "text": [
      " 49%|████▉     | 9192/18840 [07:04<06:41, 24.02it/s]"
     ]
    },
    {
     "name": "stdout",
     "output_type": "stream",
     "text": [
      "Found 6\n"
     ]
    },
    {
     "name": "stderr",
     "output_type": "stream",
     "text": [
      " 49%|████▉     | 9204/18840 [07:04<08:13, 19.52it/s]"
     ]
    },
    {
     "name": "stdout",
     "output_type": "stream",
     "text": [
      "OpenCV(4.11.0) /io/opencv/modules/calib3d/src/usac/sampler.cpp:45: error: (-215:Assertion failed) sample_size <= points_size_ in function 'setPointsSize'\n",
      "\n",
      "Retry: 1\n",
      "OpenCV(4.11.0) /io/opencv/modules/calib3d/src/usac/sampler.cpp:45: error: (-215:Assertion failed) sample_size <= points_size_ in function 'setPointsSize'\n",
      "\n",
      "Retry: 2\n",
      "OpenCV(4.11.0) /io/opencv/modules/calib3d/src/usac/sampler.cpp:45: error: (-215:Assertion failed) sample_size <= points_size_ in function 'setPointsSize'\n",
      "\n",
      "Retry: 3\n",
      "OpenCV(4.11.0) /io/opencv/modules/calib3d/src/usac/sampler.cpp:45: error: (-215:Assertion failed) sample_size <= points_size_ in function 'setPointsSize'\n",
      "\n",
      "Retry: 4\n"
     ]
    },
    {
     "name": "stderr",
     "output_type": "stream",
     "text": [
      " 50%|█████     | 9436/18840 [07:15<04:46, 32.85it/s]"
     ]
    },
    {
     "name": "stdout",
     "output_type": "stream",
     "text": [
      "Found 0\n"
     ]
    },
    {
     "name": "stderr",
     "output_type": "stream",
     "text": [
      " 50%|█████     | 9466/18840 [07:16<05:11, 30.11it/s]"
     ]
    },
    {
     "name": "stdout",
     "output_type": "stream",
     "text": [
      "Found 2\n"
     ]
    },
    {
     "name": "stderr",
     "output_type": "stream",
     "text": [
      " 50%|█████     | 9494/18840 [07:17<06:29, 24.00it/s]"
     ]
    },
    {
     "name": "stdout",
     "output_type": "stream",
     "text": [
      "Found 0\n"
     ]
    },
    {
     "name": "stderr",
     "output_type": "stream",
     "text": [
      " 50%|█████     | 9506/18840 [07:18<06:25, 24.19it/s]"
     ]
    },
    {
     "name": "stdout",
     "output_type": "stream",
     "text": [
      "Found 2\n"
     ]
    },
    {
     "name": "stderr",
     "output_type": "stream",
     "text": [
      " 51%|█████     | 9557/18840 [07:20<06:28, 23.88it/s]"
     ]
    },
    {
     "name": "stdout",
     "output_type": "stream",
     "text": [
      "Found 6\n"
     ]
    },
    {
     "name": "stderr",
     "output_type": "stream",
     "text": [
      " 51%|█████     | 9572/18840 [07:20<06:27, 23.92it/s]"
     ]
    },
    {
     "name": "stdout",
     "output_type": "stream",
     "text": [
      "Found 3\n"
     ]
    },
    {
     "name": "stderr",
     "output_type": "stream",
     "text": [
      " 51%|█████     | 9602/18840 [07:22<07:12, 21.36it/s]"
     ]
    },
    {
     "name": "stdout",
     "output_type": "stream",
     "text": [
      "OpenCV(4.11.0) /io/opencv/modules/calib3d/src/usac/sampler.cpp:45: error: (-215:Assertion failed) sample_size <= points_size_ in function 'setPointsSize'\n",
      "\n",
      "Retry: 1\n",
      "OpenCV(4.11.0) /io/opencv/modules/calib3d/src/usac/sampler.cpp:45: error: (-215:Assertion failed) sample_size <= points_size_ in function 'setPointsSize'\n",
      "\n",
      "Retry: 2\n",
      "OpenCV(4.11.0) /io/opencv/modules/calib3d/src/usac/sampler.cpp:45: error: (-215:Assertion failed) sample_size <= points_size_ in function 'setPointsSize'\n",
      "\n",
      "Retry: 3\n",
      "OpenCV(4.11.0) /io/opencv/modules/calib3d/src/usac/sampler.cpp:45: error: (-215:Assertion failed) sample_size <= points_size_ in function 'setPointsSize'\n",
      "\n",
      "Retry: 4\n"
     ]
    },
    {
     "name": "stderr",
     "output_type": "stream",
     "text": [
      " 52%|█████▏    | 9776/18840 [07:30<06:23, 23.62it/s]"
     ]
    },
    {
     "name": "stdout",
     "output_type": "stream",
     "text": [
      "Found 3\n"
     ]
    },
    {
     "name": "stderr",
     "output_type": "stream",
     "text": [
      " 53%|█████▎    | 9929/18840 [07:37<06:14, 23.83it/s]"
     ]
    },
    {
     "name": "stdout",
     "output_type": "stream",
     "text": [
      "Found 6\n"
     ]
    },
    {
     "name": "stderr",
     "output_type": "stream",
     "text": [
      " 53%|█████▎    | 9989/18840 [07:39<07:35, 19.44it/s]"
     ]
    },
    {
     "name": "stdout",
     "output_type": "stream",
     "text": [
      "OpenCV(4.11.0) /io/opencv/modules/calib3d/src/usac/sampler.cpp:45: error: (-215:Assertion failed) sample_size <= points_size_ in function 'setPointsSize'\n",
      "\n",
      "Retry: 1\n",
      "OpenCV(4.11.0) /io/opencv/modules/calib3d/src/usac/sampler.cpp:45: error: (-215:Assertion failed) sample_size <= points_size_ in function 'setPointsSize'\n",
      "\n",
      "Retry: 2\n",
      "OpenCV(4.11.0) /io/opencv/modules/calib3d/src/usac/sampler.cpp:45: error: (-215:Assertion failed) sample_size <= points_size_ in function 'setPointsSize'\n",
      "\n",
      "Retry: 3\n",
      "OpenCV(4.11.0) /io/opencv/modules/calib3d/src/usac/sampler.cpp:45: error: (-215:Assertion failed) sample_size <= points_size_ in function 'setPointsSize'\n",
      "\n",
      "Retry: 4\n"
     ]
    },
    {
     "name": "stderr",
     "output_type": "stream",
     "text": [
      " 53%|█████▎    | 10034/18840 [07:41<07:39, 19.16it/s]"
     ]
    },
    {
     "name": "stdout",
     "output_type": "stream",
     "text": [
      "OpenCV(4.11.0) /io/opencv/modules/calib3d/src/usac/sampler.cpp:45: error: (-215:Assertion failed) sample_size <= points_size_ in function 'setPointsSize'\n",
      "\n",
      "Retry: 1\n",
      "OpenCV(4.11.0) /io/opencv/modules/calib3d/src/usac/sampler.cpp:45: error: (-215:Assertion failed) sample_size <= points_size_ in function 'setPointsSize'\n",
      "\n",
      "Retry: 2\n",
      "OpenCV(4.11.0) /io/opencv/modules/calib3d/src/usac/sampler.cpp:45: error: (-215:Assertion failed) sample_size <= points_size_ in function 'setPointsSize'\n",
      "\n",
      "Retry: 3\n",
      "OpenCV(4.11.0) /io/opencv/modules/calib3d/src/usac/sampler.cpp:45: error: (-215:Assertion failed) sample_size <= points_size_ in function 'setPointsSize'\n",
      "\n",
      "Retry: 4\n"
     ]
    },
    {
     "name": "stderr",
     "output_type": "stream",
     "text": [
      " 54%|█████▍    | 10139/18840 [07:46<05:58, 24.29it/s]"
     ]
    },
    {
     "name": "stdout",
     "output_type": "stream",
     "text": [
      "Found 1\n"
     ]
    },
    {
     "name": "stderr",
     "output_type": "stream",
     "text": [
      " 55%|█████▌    | 10421/18840 [07:59<06:03, 23.16it/s]"
     ]
    },
    {
     "name": "stdout",
     "output_type": "stream",
     "text": [
      "OpenCV(4.11.0) /io/opencv/modules/calib3d/src/usac/estimator.cpp:353: error: (-215:Assertion failed) !model.empty() in function 'setModelParameters'\n",
      "\n",
      "Retry: 1\n",
      "OpenCV(4.11.0) /io/opencv/modules/calib3d/src/usac/estimator.cpp:353: error: (-215:Assertion failed) !model.empty() in function 'setModelParameters'\n",
      "\n",
      "Retry: 2\n",
      "OpenCV(4.11.0) /io/opencv/modules/calib3d/src/usac/estimator.cpp:353: error: (-215:Assertion failed) !model.empty() in function 'setModelParameters'\n",
      "\n",
      "Retry: 3\n",
      "OpenCV(4.11.0) /io/opencv/modules/calib3d/src/usac/estimator.cpp:353: error: (-215:Assertion failed) !model.empty() in function 'setModelParameters'\n",
      "\n",
      "Retry: 4\n"
     ]
    },
    {
     "name": "stderr",
     "output_type": "stream",
     "text": [
      " 56%|█████▌    | 10474/18840 [08:02<07:37, 18.29it/s]"
     ]
    },
    {
     "name": "stdout",
     "output_type": "stream",
     "text": [
      "OpenCV(4.11.0) /io/opencv/modules/calib3d/src/usac/estimator.cpp:353: error: (-215:Assertion failed) !model.empty() in function 'setModelParameters'\n",
      "\n",
      "Retry: 1\n",
      "OpenCV(4.11.0) /io/opencv/modules/calib3d/src/usac/estimator.cpp:353: error: (-215:Assertion failed) !model.empty() in function 'setModelParameters'\n",
      "\n",
      "Retry: 2\n",
      "OpenCV(4.11.0) /io/opencv/modules/calib3d/src/usac/estimator.cpp:353: error: (-215:Assertion failed) !model.empty() in function 'setModelParameters'\n",
      "\n",
      "Retry: 3\n",
      "OpenCV(4.11.0) /io/opencv/modules/calib3d/src/usac/estimator.cpp:353: error: (-215:Assertion failed) !model.empty() in function 'setModelParameters'\n",
      "\n",
      "Retry: 4\n",
      "OpenCV(4.11.0) /io/opencv/modules/calib3d/src/usac/sampler.cpp:45: error: (-215:Assertion failed) sample_size <= points_size_ in function 'setPointsSize'\n",
      "\n",
      "Retry: 1\n",
      "OpenCV(4.11.0) /io/opencv/modules/calib3d/src/usac/sampler.cpp:45: error: (-215:Assertion failed) sample_size <= points_size_ in function 'setPointsSize'\n",
      "\n",
      "Retry: 2\n"
     ]
    },
    {
     "name": "stderr",
     "output_type": "stream",
     "text": [
      " 56%|█████▌    | 10479/18840 [08:02<08:00, 17.40it/s]"
     ]
    },
    {
     "name": "stdout",
     "output_type": "stream",
     "text": [
      "OpenCV(4.11.0) /io/opencv/modules/calib3d/src/usac/sampler.cpp:45: error: (-215:Assertion failed) sample_size <= points_size_ in function 'setPointsSize'\n",
      "\n",
      "Retry: 3\n",
      "OpenCV(4.11.0) /io/opencv/modules/calib3d/src/usac/sampler.cpp:45: error: (-215:Assertion failed) sample_size <= points_size_ in function 'setPointsSize'\n",
      "\n",
      "Retry: 4\n"
     ]
    },
    {
     "name": "stderr",
     "output_type": "stream",
     "text": [
      " 56%|█████▌    | 10509/18840 [08:03<06:17, 22.08it/s]"
     ]
    },
    {
     "name": "stdout",
     "output_type": "stream",
     "text": [
      "Found 6\n"
     ]
    },
    {
     "name": "stderr",
     "output_type": "stream",
     "text": [
      " 56%|█████▌    | 10521/18840 [08:04<06:09, 22.52it/s]"
     ]
    },
    {
     "name": "stdout",
     "output_type": "stream",
     "text": [
      "Found 3\n"
     ]
    },
    {
     "name": "stderr",
     "output_type": "stream",
     "text": [
      " 57%|█████▋    | 10800/18840 [08:16<05:56, 22.55it/s]"
     ]
    },
    {
     "name": "stdout",
     "output_type": "stream",
     "text": [
      "Found 2\n"
     ]
    },
    {
     "name": "stderr",
     "output_type": "stream",
     "text": [
      " 57%|█████▋    | 10815/18840 [08:17<05:52, 22.76it/s]"
     ]
    },
    {
     "name": "stdout",
     "output_type": "stream",
     "text": [
      "Found 3\n"
     ]
    },
    {
     "name": "stderr",
     "output_type": "stream",
     "text": [
      " 58%|█████▊    | 10941/18840 [08:23<06:33, 20.09it/s]"
     ]
    },
    {
     "name": "stdout",
     "output_type": "stream",
     "text": [
      "OpenCV(4.11.0) /io/opencv/modules/calib3d/src/usac/sampler.cpp:45: error: (-215:Assertion failed) sample_size <= points_size_ in function 'setPointsSize'\n",
      "\n",
      "Retry: 1\n",
      "OpenCV(4.11.0) /io/opencv/modules/calib3d/src/usac/sampler.cpp:45: error: (-215:Assertion failed) sample_size <= points_size_ in function 'setPointsSize'\n",
      "\n",
      "Retry: 2\n",
      "OpenCV(4.11.0) /io/opencv/modules/calib3d/src/usac/sampler.cpp:45: error: (-215:Assertion failed) sample_size <= points_size_ in function 'setPointsSize'\n",
      "\n",
      "Retry: 3\n",
      "OpenCV(4.11.0) /io/opencv/modules/calib3d/src/usac/sampler.cpp:45: error: (-215:Assertion failed) sample_size <= points_size_ in function 'setPointsSize'\n",
      "\n",
      "Retry: 4\n"
     ]
    },
    {
     "name": "stderr",
     "output_type": "stream",
     "text": [
      " 58%|█████▊    | 10962/18840 [08:24<05:13, 25.10it/s]"
     ]
    },
    {
     "name": "stdout",
     "output_type": "stream",
     "text": [
      "Found 0\n"
     ]
    },
    {
     "name": "stderr",
     "output_type": "stream",
     "text": [
      " 59%|█████▉    | 11100/18840 [08:30<05:19, 24.20it/s]"
     ]
    },
    {
     "name": "stdout",
     "output_type": "stream",
     "text": [
      "Found 1\n"
     ]
    },
    {
     "name": "stderr",
     "output_type": "stream",
     "text": [
      " 59%|█████▉    | 11115/18840 [08:30<05:06, 25.20it/s]"
     ]
    },
    {
     "name": "stdout",
     "output_type": "stream",
     "text": [
      "Found 6\n"
     ]
    },
    {
     "name": "stderr",
     "output_type": "stream",
     "text": [
      " 59%|█████▉    | 11178/18840 [08:33<06:15, 20.41it/s]"
     ]
    },
    {
     "name": "stdout",
     "output_type": "stream",
     "text": [
      "OpenCV(4.11.0) /io/opencv/modules/calib3d/src/usac/sampler.cpp:45: error: (-215:Assertion failed) sample_size <= points_size_ in function 'setPointsSize'\n",
      "\n",
      "Retry: 1\n",
      "OpenCV(4.11.0) /io/opencv/modules/calib3d/src/usac/sampler.cpp:45: error: (-215:Assertion failed) sample_size <= points_size_ in function 'setPointsSize'\n",
      "\n",
      "Retry: 2\n",
      "OpenCV(4.11.0) /io/opencv/modules/calib3d/src/usac/sampler.cpp:45: error: (-215:Assertion failed) sample_size <= points_size_ in function 'setPointsSize'\n",
      "\n",
      "Retry: 3\n",
      "OpenCV(4.11.0) /io/opencv/modules/calib3d/src/usac/sampler.cpp:45: error: (-215:Assertion failed) sample_size <= points_size_ in function 'setPointsSize'\n",
      "\n",
      "Retry: 4\n"
     ]
    },
    {
     "name": "stderr",
     "output_type": "stream",
     "text": [
      " 60%|██████    | 11352/18840 [08:41<05:44, 21.72it/s]"
     ]
    },
    {
     "name": "stdout",
     "output_type": "stream",
     "text": [
      "Found 0\n"
     ]
    },
    {
     "name": "stderr",
     "output_type": "stream",
     "text": [
      " 60%|██████    | 11358/18840 [08:42<06:32, 19.06it/s]"
     ]
    },
    {
     "name": "stdout",
     "output_type": "stream",
     "text": [
      "OpenCV(4.11.0) /io/opencv/modules/calib3d/src/usac/sampler.cpp:45: error: (-215:Assertion failed) sample_size <= points_size_ in function 'setPointsSize'\n",
      "\n",
      "Retry: 1\n",
      "OpenCV(4.11.0) /io/opencv/modules/calib3d/src/usac/sampler.cpp:45: error: (-215:Assertion failed) sample_size <= points_size_ in function 'setPointsSize'\n",
      "\n",
      "Retry: 2\n",
      "OpenCV(4.11.0) /io/opencv/modules/calib3d/src/usac/sampler.cpp:45: error: (-215:Assertion failed) sample_size <= points_size_ in function 'setPointsSize'\n",
      "\n",
      "Retry: 3\n",
      "OpenCV(4.11.0) /io/opencv/modules/calib3d/src/usac/sampler.cpp:45: error: (-215:Assertion failed) sample_size <= points_size_ in function 'setPointsSize'\n",
      "\n",
      "Retry: 4\n"
     ]
    },
    {
     "name": "stderr",
     "output_type": "stream",
     "text": [
      " 60%|██████    | 11364/18840 [08:42<06:00, 20.73it/s]"
     ]
    },
    {
     "name": "stdout",
     "output_type": "stream",
     "text": [
      "Found 1\n"
     ]
    },
    {
     "name": "stderr",
     "output_type": "stream",
     "text": [
      " 60%|██████    | 11394/18840 [08:44<06:10, 20.12it/s]"
     ]
    },
    {
     "name": "stdout",
     "output_type": "stream",
     "text": [
      "Found 6\n"
     ]
    },
    {
     "name": "stderr",
     "output_type": "stream",
     "text": [
      " 61%|██████    | 11517/18840 [08:49<05:19, 22.89it/s]"
     ]
    },
    {
     "name": "stdout",
     "output_type": "stream",
     "text": [
      "Found 6\n"
     ]
    },
    {
     "name": "stderr",
     "output_type": "stream",
     "text": [
      " 61%|██████    | 11529/18840 [08:50<04:58, 24.46it/s]"
     ]
    },
    {
     "name": "stdout",
     "output_type": "stream",
     "text": [
      "Found 4\n"
     ]
    },
    {
     "name": "stderr",
     "output_type": "stream",
     "text": [
      " 62%|██████▏   | 11746/18840 [09:01<05:43, 20.64it/s]"
     ]
    },
    {
     "name": "stdout",
     "output_type": "stream",
     "text": [
      "OpenCV(4.11.0) /io/opencv/modules/calib3d/src/usac/sampler.cpp:45: error: (-215:Assertion failed) sample_size <= points_size_ in function 'setPointsSize'\n",
      "\n",
      "Retry: 1\n",
      "OpenCV(4.11.0) /io/opencv/modules/calib3d/src/usac/sampler.cpp:45: error: (-215:Assertion failed) sample_size <= points_size_ in function 'setPointsSize'\n",
      "\n",
      "Retry: 2\n",
      "OpenCV(4.11.0) /io/opencv/modules/calib3d/src/usac/sampler.cpp:45: error: (-215:Assertion failed) sample_size <= points_size_ in function 'setPointsSize'\n",
      "\n",
      "Retry: 3\n",
      "OpenCV(4.11.0) /io/opencv/modules/calib3d/src/usac/sampler.cpp:45: error: (-215:Assertion failed) sample_size <= points_size_ in function 'setPointsSize'\n",
      "\n",
      "Retry: 4\n"
     ]
    },
    {
     "name": "stderr",
     "output_type": "stream",
     "text": [
      " 62%|██████▏   | 11770/18840 [09:02<05:17, 22.30it/s]"
     ]
    },
    {
     "name": "stdout",
     "output_type": "stream",
     "text": [
      "OpenCV(4.11.0) /io/opencv/modules/calib3d/src/usac/sampler.cpp:45: error: (-215:Assertion failed) sample_size <= points_size_ in function 'setPointsSize'\n",
      "\n",
      "Retry: 1\n",
      "OpenCV(4.11.0) /io/opencv/modules/calib3d/src/usac/sampler.cpp:45: error: (-215:Assertion failed) sample_size <= points_size_ in function 'setPointsSize'\n",
      "\n",
      "Retry: 2\n",
      "OpenCV(4.11.0) /io/opencv/modules/calib3d/src/usac/sampler.cpp:45: error: (-215:Assertion failed) sample_size <= points_size_ in function 'setPointsSize'\n",
      "\n",
      "Retry: 3\n",
      "OpenCV(4.11.0) /io/opencv/modules/calib3d/src/usac/sampler.cpp:45: error: (-215:Assertion failed) sample_size <= points_size_ in function 'setPointsSize'\n",
      "\n",
      "Retry: 4\n"
     ]
    },
    {
     "name": "stderr",
     "output_type": "stream",
     "text": [
      " 63%|██████▎   | 11827/18840 [09:04<05:34, 20.97it/s]"
     ]
    },
    {
     "name": "stdout",
     "output_type": "stream",
     "text": [
      "Found 5\n",
      "OpenCV(4.11.0) /io/opencv/modules/calib3d/src/usac/sampler.cpp:45: error: (-215:Assertion failed) sample_size <= points_size_ in function 'setPointsSize'\n",
      "\n",
      "Retry: 1\n",
      "OpenCV(4.11.0) /io/opencv/modules/calib3d/src/usac/sampler.cpp:45: error: (-215:Assertion failed) sample_size <= points_size_ in function 'setPointsSize'\n",
      "\n",
      "Retry: 2\n",
      "OpenCV(4.11.0) /io/opencv/modules/calib3d/src/usac/sampler.cpp:45: error: (-215:Assertion failed) sample_size <= points_size_ in function 'setPointsSize'\n",
      "\n",
      "Retry: 3\n",
      "OpenCV(4.11.0) /io/opencv/modules/calib3d/src/usac/sampler.cpp:45: error: (-215:Assertion failed) sample_size <= points_size_ in function 'setPointsSize'\n",
      "\n",
      "Retry: 4\n"
     ]
    },
    {
     "name": "stderr",
     "output_type": "stream",
     "text": [
      " 63%|██████▎   | 11840/18840 [09:05<04:39, 25.02it/s]"
     ]
    },
    {
     "name": "stdout",
     "output_type": "stream",
     "text": [
      "Found 1\n"
     ]
    },
    {
     "name": "stderr",
     "output_type": "stream",
     "text": [
      " 63%|██████▎   | 11915/18840 [09:08<05:27, 21.13it/s]"
     ]
    },
    {
     "name": "stdout",
     "output_type": "stream",
     "text": [
      "Found 6\n"
     ]
    },
    {
     "name": "stderr",
     "output_type": "stream",
     "text": [
      " 63%|██████▎   | 11937/18840 [09:09<05:10, 22.24it/s]"
     ]
    },
    {
     "name": "stdout",
     "output_type": "stream",
     "text": [
      "OpenCV(4.11.0) /io/opencv/modules/calib3d/src/usac/sampler.cpp:45: error: (-215:Assertion failed) sample_size <= points_size_ in function 'setPointsSize'\n",
      "\n",
      "Retry: 1\n",
      "OpenCV(4.11.0) /io/opencv/modules/calib3d/src/usac/sampler.cpp:45: error: (-215:Assertion failed) sample_size <= points_size_ in function 'setPointsSize'\n",
      "\n",
      "Retry: 2\n",
      "OpenCV(4.11.0) /io/opencv/modules/calib3d/src/usac/sampler.cpp:45: error: (-215:Assertion failed) sample_size <= points_size_ in function 'setPointsSize'\n",
      "\n",
      "Retry: 3\n",
      "OpenCV(4.11.0) /io/opencv/modules/calib3d/src/usac/sampler.cpp:45: error: (-215:Assertion failed) sample_size <= points_size_ in function 'setPointsSize'\n",
      "\n",
      "Retry: 4\n"
     ]
    },
    {
     "name": "stderr",
     "output_type": "stream",
     "text": [
      " 64%|██████▍   | 12084/18840 [09:16<04:41, 23.98it/s]"
     ]
    },
    {
     "name": "stdout",
     "output_type": "stream",
     "text": [
      "Found 3\n"
     ]
    },
    {
     "name": "stderr",
     "output_type": "stream",
     "text": [
      " 64%|██████▍   | 12096/18840 [09:17<04:48, 23.36it/s]"
     ]
    },
    {
     "name": "stdout",
     "output_type": "stream",
     "text": [
      "Found 0\n"
     ]
    },
    {
     "name": "stderr",
     "output_type": "stream",
     "text": [
      " 64%|██████▍   | 12126/18840 [09:18<05:16, 21.24it/s]"
     ]
    },
    {
     "name": "stdout",
     "output_type": "stream",
     "text": [
      "Found 2\n"
     ]
    },
    {
     "name": "stderr",
     "output_type": "stream",
     "text": [
      " 65%|██████▍   | 12214/18840 [09:23<04:34, 24.10it/s]"
     ]
    },
    {
     "name": "stdout",
     "output_type": "stream",
     "text": [
      "Found 5\n"
     ]
    },
    {
     "name": "stderr",
     "output_type": "stream",
     "text": [
      " 65%|██████▍   | 12232/18840 [09:24<04:25, 24.92it/s]"
     ]
    },
    {
     "name": "stdout",
     "output_type": "stream",
     "text": [
      "Found 3\n"
     ]
    },
    {
     "name": "stderr",
     "output_type": "stream",
     "text": [
      " 65%|██████▌   | 12292/18840 [09:26<05:44, 19.00it/s]"
     ]
    },
    {
     "name": "stdout",
     "output_type": "stream",
     "text": [
      "OpenCV(4.11.0) /io/opencv/modules/calib3d/src/usac/sampler.cpp:45: error: (-215:Assertion failed) sample_size <= points_size_ in function 'setPointsSize'\n",
      "\n",
      "Retry: 1\n",
      "OpenCV(4.11.0) /io/opencv/modules/calib3d/src/usac/sampler.cpp:45: error: (-215:Assertion failed) sample_size <= points_size_ in function 'setPointsSize'\n",
      "\n",
      "Retry: 2\n",
      "OpenCV(4.11.0) /io/opencv/modules/calib3d/src/usac/sampler.cpp:45: error: (-215:Assertion failed) sample_size <= points_size_ in function 'setPointsSize'\n",
      "\n",
      "Retry: 3\n",
      "OpenCV(4.11.0) /io/opencv/modules/calib3d/src/usac/sampler.cpp:45: error: (-215:Assertion failed) sample_size <= points_size_ in function 'setPointsSize'\n",
      "\n",
      "Retry: 4\n"
     ]
    },
    {
     "name": "stderr",
     "output_type": "stream",
     "text": [
      " 67%|██████▋   | 12543/18840 [09:38<04:16, 24.57it/s]"
     ]
    },
    {
     "name": "stdout",
     "output_type": "stream",
     "text": [
      "Found 1\n"
     ]
    },
    {
     "name": "stderr",
     "output_type": "stream",
     "text": [
      " 67%|██████▋   | 12662/18840 [09:44<05:43, 17.97it/s]"
     ]
    },
    {
     "name": "stdout",
     "output_type": "stream",
     "text": [
      "OpenCV(4.11.0) /io/opencv/modules/calib3d/src/usac/sampler.cpp:45: error: (-215:Assertion failed) sample_size <= points_size_ in function 'setPointsSize'\n",
      "\n",
      "Retry: 1\n",
      "OpenCV(4.11.0) /io/opencv/modules/calib3d/src/usac/sampler.cpp:45: error: (-215:Assertion failed) sample_size <= points_size_ in function 'setPointsSize'\n",
      "\n",
      "Retry: 2\n",
      "OpenCV(4.11.0) /io/opencv/modules/calib3d/src/usac/sampler.cpp:45: error: (-215:Assertion failed) sample_size <= points_size_ in function 'setPointsSize'\n",
      "\n",
      "Retry: 3\n",
      "OpenCV(4.11.0) /io/opencv/modules/calib3d/src/usac/sampler.cpp:45: error: (-215:Assertion failed) sample_size <= points_size_ in function 'setPointsSize'\n",
      "\n",
      "Retry: 4\n"
     ]
    },
    {
     "name": "stderr",
     "output_type": "stream",
     "text": [
      " 68%|██████▊   | 12746/18840 [09:48<04:10, 24.35it/s]"
     ]
    },
    {
     "name": "stdout",
     "output_type": "stream",
     "text": [
      "Found 2\n"
     ]
    },
    {
     "name": "stderr",
     "output_type": "stream",
     "text": [
      " 68%|██████▊   | 12778/18840 [09:49<05:29, 18.40it/s]"
     ]
    },
    {
     "name": "stdout",
     "output_type": "stream",
     "text": [
      "OpenCV(4.11.0) /io/opencv/modules/calib3d/src/usac/sampler.cpp:45: error: (-215:Assertion failed) sample_size <= points_size_ in function 'setPointsSize'\n",
      "\n",
      "Retry: 1\n",
      "OpenCV(4.11.0) /io/opencv/modules/calib3d/src/usac/sampler.cpp:45: error: (-215:Assertion failed) sample_size <= points_size_ in function 'setPointsSize'\n",
      "\n",
      "Retry: 2\n",
      "OpenCV(4.11.0) /io/opencv/modules/calib3d/src/usac/sampler.cpp:45: error: (-215:Assertion failed) sample_size <= points_size_ in function 'setPointsSize'\n",
      "\n",
      "Retry: 3\n",
      "OpenCV(4.11.0) /io/opencv/modules/calib3d/src/usac/sampler.cpp:45: error: (-215:Assertion failed) sample_size <= points_size_ in function 'setPointsSize'\n",
      "\n",
      "Retry: 4\n"
     ]
    },
    {
     "name": "stderr",
     "output_type": "stream",
     "text": [
      " 68%|██████▊   | 12827/18840 [09:51<04:20, 23.09it/s]"
     ]
    },
    {
     "name": "stdout",
     "output_type": "stream",
     "text": [
      "Found 0\n"
     ]
    },
    {
     "name": "stderr",
     "output_type": "stream",
     "text": [
      " 68%|██████▊   | 12884/18840 [09:54<04:46, 20.82it/s]"
     ]
    },
    {
     "name": "stdout",
     "output_type": "stream",
     "text": [
      "OpenCV(4.11.0) /io/opencv/modules/calib3d/src/usac/sampler.cpp:45: error: (-215:Assertion failed) sample_size <= points_size_ in function 'setPointsSize'\n",
      "\n",
      "Retry: 1\n",
      "OpenCV(4.11.0) /io/opencv/modules/calib3d/src/usac/sampler.cpp:45: error: (-215:Assertion failed) sample_size <= points_size_ in function 'setPointsSize'\n",
      "\n",
      "Retry: 2\n",
      "OpenCV(4.11.0) /io/opencv/modules/calib3d/src/usac/sampler.cpp:45: error: (-215:Assertion failed) sample_size <= points_size_ in function 'setPointsSize'\n",
      "\n",
      "Retry: 3\n",
      "OpenCV(4.11.0) /io/opencv/modules/calib3d/src/usac/sampler.cpp:45: error: (-215:Assertion failed) sample_size <= points_size_ in function 'setPointsSize'\n",
      "\n",
      "Retry: 4\n"
     ]
    },
    {
     "name": "stderr",
     "output_type": "stream",
     "text": [
      " 69%|██████▊   | 12908/18840 [09:55<04:08, 23.87it/s]"
     ]
    },
    {
     "name": "stdout",
     "output_type": "stream",
     "text": [
      "Found 3\n"
     ]
    },
    {
     "name": "stderr",
     "output_type": "stream",
     "text": [
      " 69%|██████▉   | 12989/18840 [09:59<04:16, 22.82it/s]"
     ]
    },
    {
     "name": "stdout",
     "output_type": "stream",
     "text": [
      "Found 2\n"
     ]
    },
    {
     "name": "stderr",
     "output_type": "stream",
     "text": [
      " 69%|██████▉   | 13066/18840 [10:02<04:15, 22.62it/s]"
     ]
    },
    {
     "name": "stdout",
     "output_type": "stream",
     "text": [
      "Found 5\n"
     ]
    },
    {
     "name": "stderr",
     "output_type": "stream",
     "text": [
      " 69%|██████▉   | 13081/18840 [10:03<04:01, 23.89it/s]"
     ]
    },
    {
     "name": "stdout",
     "output_type": "stream",
     "text": [
      "Found 2\n"
     ]
    },
    {
     "name": "stderr",
     "output_type": "stream",
     "text": [
      " 70%|██████▉   | 13187/18840 [10:09<06:15, 15.04it/s]"
     ]
    },
    {
     "name": "stdout",
     "output_type": "stream",
     "text": [
      "OpenCV(4.11.0) /io/opencv/modules/calib3d/src/usac/sampler.cpp:45: error: (-215:Assertion failed) sample_size <= points_size_ in function 'setPointsSize'\n",
      "\n",
      "Retry: 1\n",
      "OpenCV(4.11.0) /io/opencv/modules/calib3d/src/usac/sampler.cpp:45: error: (-215:Assertion failed) sample_size <= points_size_ in function 'setPointsSize'\n",
      "\n",
      "Retry: 2\n",
      "OpenCV(4.11.0) /io/opencv/modules/calib3d/src/usac/sampler.cpp:45: error: (-215:Assertion failed) sample_size <= points_size_ in function 'setPointsSize'\n",
      "\n",
      "Retry: 3\n",
      "OpenCV(4.11.0) /io/opencv/modules/calib3d/src/usac/sampler.cpp:45: error: (-215:Assertion failed) sample_size <= points_size_ in function 'setPointsSize'\n",
      "\n",
      "Retry: 4\n"
     ]
    },
    {
     "name": "stderr",
     "output_type": "stream",
     "text": [
      " 70%|███████   | 13201/18840 [10:09<03:27, 27.19it/s]"
     ]
    },
    {
     "name": "stdout",
     "output_type": "stream",
     "text": [
      "Found 1\n",
      "Found 4\n",
      "Found 2\n",
      "Found 6\n"
     ]
    },
    {
     "name": "stderr",
     "output_type": "stream",
     "text": [
      " 70%|███████   | 13211/18840 [10:10<02:46, 33.89it/s]"
     ]
    },
    {
     "name": "stdout",
     "output_type": "stream",
     "text": [
      "Found 3\n",
      "Found 6\n"
     ]
    },
    {
     "name": "stderr",
     "output_type": "stream",
     "text": [
      " 70%|███████   | 13227/18840 [10:10<02:11, 42.53it/s]"
     ]
    },
    {
     "name": "stdout",
     "output_type": "stream",
     "text": [
      "Found 5\n",
      "Found 1\n",
      "Found 5\n",
      "Found 4\n",
      "Found 2\n"
     ]
    },
    {
     "name": "stderr",
     "output_type": "stream",
     "text": [
      " 70%|███████   | 13237/18840 [10:10<02:12, 42.41it/s]"
     ]
    },
    {
     "name": "stdout",
     "output_type": "stream",
     "text": [
      "Found 3\n",
      "Found 2\n",
      "Found 3\n",
      "Found 4\n",
      "Found 4\n",
      "Found 5\n"
     ]
    },
    {
     "name": "stderr",
     "output_type": "stream",
     "text": [
      " 70%|███████   | 13249/18840 [10:10<01:58, 47.03it/s]"
     ]
    },
    {
     "name": "stdout",
     "output_type": "stream",
     "text": [
      "Found 5\n",
      "Found 6\n"
     ]
    },
    {
     "name": "stderr",
     "output_type": "stream",
     "text": [
      " 70%|███████   | 13259/18840 [10:11<02:03, 45.18it/s]"
     ]
    },
    {
     "name": "stdout",
     "output_type": "stream",
     "text": [
      "Found 4\n",
      "Found 3\n",
      "Found 0\n"
     ]
    },
    {
     "name": "stderr",
     "output_type": "stream",
     "text": [
      " 70%|███████   | 13269/18840 [10:11<01:59, 46.46it/s]"
     ]
    },
    {
     "name": "stdout",
     "output_type": "stream",
     "text": [
      "Found 5\n",
      "Found 2\n",
      "Found 4\n",
      "Found 2\n",
      "Found 4\n"
     ]
    },
    {
     "name": "stderr",
     "output_type": "stream",
     "text": [
      " 70%|███████   | 13275/18840 [10:11<01:59, 46.75it/s]"
     ]
    },
    {
     "name": "stdout",
     "output_type": "stream",
     "text": [
      "Found 1\n"
     ]
    },
    {
     "name": "stderr",
     "output_type": "stream",
     "text": [
      " 71%|███████   | 13360/18840 [10:15<03:15, 28.00it/s]"
     ]
    },
    {
     "name": "stdout",
     "output_type": "stream",
     "text": [
      "Found 4\n"
     ]
    },
    {
     "name": "stderr",
     "output_type": "stream",
     "text": [
      " 71%|███████   | 13375/18840 [10:15<03:35, 25.42it/s]"
     ]
    },
    {
     "name": "stdout",
     "output_type": "stream",
     "text": [
      "Found 6\n"
     ]
    },
    {
     "name": "stderr",
     "output_type": "stream",
     "text": [
      " 71%|███████   | 13388/18840 [10:16<03:58, 22.83it/s]"
     ]
    },
    {
     "name": "stdout",
     "output_type": "stream",
     "text": [
      "OpenCV(4.11.0) /io/opencv/modules/calib3d/src/usac/sampler.cpp:45: error: (-215:Assertion failed) sample_size <= points_size_ in function 'setPointsSize'\n",
      "\n",
      "Retry: 1\n",
      "OpenCV(4.11.0) /io/opencv/modules/calib3d/src/usac/sampler.cpp:45: error: (-215:Assertion failed) sample_size <= points_size_ in function 'setPointsSize'\n",
      "\n",
      "Retry: 2\n",
      "OpenCV(4.11.0) /io/opencv/modules/calib3d/src/usac/sampler.cpp:45: error: (-215:Assertion failed) sample_size <= points_size_ in function 'setPointsSize'\n",
      "\n",
      "Retry: 3\n",
      "OpenCV(4.11.0) /io/opencv/modules/calib3d/src/usac/sampler.cpp:45: error: (-215:Assertion failed) sample_size <= points_size_ in function 'setPointsSize'\n",
      "\n",
      "Retry: 4\n"
     ]
    },
    {
     "name": "stderr",
     "output_type": "stream",
     "text": [
      " 71%|███████   | 13394/18840 [10:16<03:39, 24.84it/s]"
     ]
    },
    {
     "name": "stdout",
     "output_type": "stream",
     "text": [
      "Found 2\n"
     ]
    },
    {
     "name": "stderr",
     "output_type": "stream",
     "text": [
      " 71%|███████   | 13416/18840 [10:17<03:18, 27.37it/s]"
     ]
    },
    {
     "name": "stdout",
     "output_type": "stream",
     "text": [
      "Found 5\n",
      "Found 2\n"
     ]
    },
    {
     "name": "stderr",
     "output_type": "stream",
     "text": [
      " 72%|███████▏  | 13600/18840 [10:26<03:33, 24.50it/s]"
     ]
    },
    {
     "name": "stdout",
     "output_type": "stream",
     "text": [
      "Found 2\n"
     ]
    },
    {
     "name": "stderr",
     "output_type": "stream",
     "text": [
      " 72%|███████▏  | 13618/18840 [10:26<03:43, 23.31it/s]"
     ]
    },
    {
     "name": "stdout",
     "output_type": "stream",
     "text": [
      "OpenCV(4.11.0) /io/opencv/modules/calib3d/src/usac/estimator.cpp:353: error: (-215:Assertion failed) !model.empty() in function 'setModelParameters'\n",
      "\n",
      "Retry: 1\n",
      "OpenCV(4.11.0) /io/opencv/modules/calib3d/src/usac/estimator.cpp:353: error: (-215:Assertion failed) !model.empty() in function 'setModelParameters'\n",
      "\n",
      "Retry: 2\n",
      "OpenCV(4.11.0) /io/opencv/modules/calib3d/src/usac/estimator.cpp:353: error: (-215:Assertion failed) !model.empty() in function 'setModelParameters'\n",
      "\n",
      "Retry: 3\n",
      "OpenCV(4.11.0) /io/opencv/modules/calib3d/src/usac/estimator.cpp:353: error: (-215:Assertion failed) !model.empty() in function 'setModelParameters'\n",
      "\n",
      "Retry: 4\n"
     ]
    },
    {
     "name": "stderr",
     "output_type": "stream",
     "text": [
      " 72%|███████▏  | 13642/18840 [10:28<04:11, 20.68it/s]"
     ]
    },
    {
     "name": "stdout",
     "output_type": "stream",
     "text": [
      "OpenCV(4.11.0) /io/opencv/modules/calib3d/src/usac/estimator.cpp:353: error: (-215:Assertion failed) !model.empty() in function 'setModelParameters'\n",
      "\n",
      "Retry: 1\n",
      "OpenCV(4.11.0) /io/opencv/modules/calib3d/src/usac/estimator.cpp:353: error: (-215:Assertion failed) !model.empty() in function 'setModelParameters'\n",
      "\n",
      "Retry: 2\n",
      "OpenCV(4.11.0) /io/opencv/modules/calib3d/src/usac/estimator.cpp:353: error: (-215:Assertion failed) !model.empty() in function 'setModelParameters'\n",
      "\n",
      "Retry: 3\n",
      "OpenCV(4.11.0) /io/opencv/modules/calib3d/src/usac/estimator.cpp:353: error: (-215:Assertion failed) !model.empty() in function 'setModelParameters'\n",
      "\n",
      "Retry: 4\n"
     ]
    },
    {
     "name": "stderr",
     "output_type": "stream",
     "text": [
      " 73%|███████▎  | 13675/18840 [10:29<03:57, 21.76it/s]"
     ]
    },
    {
     "name": "stdout",
     "output_type": "stream",
     "text": [
      "OpenCV(4.11.0) /io/opencv/modules/calib3d/src/usac/sampler.cpp:45: error: (-215:Assertion failed) sample_size <= points_size_ in function 'setPointsSize'\n",
      "\n",
      "Retry: 1\n",
      "OpenCV(4.11.0) /io/opencv/modules/calib3d/src/usac/sampler.cpp:45: error: (-215:Assertion failed) sample_size <= points_size_ in function 'setPointsSize'\n",
      "\n",
      "Retry: 2\n",
      "OpenCV(4.11.0) /io/opencv/modules/calib3d/src/usac/sampler.cpp:45: error: (-215:Assertion failed) sample_size <= points_size_ in function 'setPointsSize'\n",
      "\n",
      "Retry: 3\n",
      "OpenCV(4.11.0) /io/opencv/modules/calib3d/src/usac/sampler.cpp:45: error: (-215:Assertion failed) sample_size <= points_size_ in function 'setPointsSize'\n",
      "\n",
      "Retry: 4\n"
     ]
    },
    {
     "name": "stderr",
     "output_type": "stream",
     "text": [
      " 73%|███████▎  | 13684/18840 [10:29<03:38, 23.65it/s]"
     ]
    },
    {
     "name": "stdout",
     "output_type": "stream",
     "text": [
      "Found 4\n"
     ]
    },
    {
     "name": "stderr",
     "output_type": "stream",
     "text": [
      " 73%|███████▎  | 13744/18840 [10:32<03:39, 23.17it/s]"
     ]
    },
    {
     "name": "stdout",
     "output_type": "stream",
     "text": [
      "Found 5\n"
     ]
    },
    {
     "name": "stderr",
     "output_type": "stream",
     "text": [
      " 73%|███████▎  | 13840/18840 [10:36<02:27, 33.84it/s]"
     ]
    },
    {
     "name": "stdout",
     "output_type": "stream",
     "text": [
      "Found 5\n",
      "Found 2\n",
      "Found 4\n"
     ]
    },
    {
     "name": "stderr",
     "output_type": "stream",
     "text": [
      " 74%|███████▎  | 13851/18840 [10:36<02:01, 41.08it/s]"
     ]
    },
    {
     "name": "stdout",
     "output_type": "stream",
     "text": [
      "Found 4\n",
      "Found 5\n",
      "Found 4\n"
     ]
    },
    {
     "name": "stderr",
     "output_type": "stream",
     "text": [
      " 74%|███████▎  | 13862/18840 [10:37<01:57, 42.52it/s]"
     ]
    },
    {
     "name": "stdout",
     "output_type": "stream",
     "text": [
      "Found 3\n",
      "Found 4\n",
      "Found 3\n",
      "Found 3\n"
     ]
    },
    {
     "name": "stderr",
     "output_type": "stream",
     "text": [
      " 74%|███████▎  | 13884/18840 [10:37<01:44, 47.46it/s]"
     ]
    },
    {
     "name": "stdout",
     "output_type": "stream",
     "text": [
      "Found 4\n",
      "Found 3\n",
      "Found 3\n",
      "Found 2\n",
      "Found 5\n"
     ]
    },
    {
     "name": "stderr",
     "output_type": "stream",
     "text": [
      " 74%|███████▍  | 13896/18840 [10:37<01:35, 51.64it/s]"
     ]
    },
    {
     "name": "stdout",
     "output_type": "stream",
     "text": [
      "Found 6\n",
      "Found 3\n"
     ]
    },
    {
     "name": "stderr",
     "output_type": "stream",
     "text": [
      " 74%|███████▍  | 13909/18840 [10:37<01:33, 52.51it/s]"
     ]
    },
    {
     "name": "stdout",
     "output_type": "stream",
     "text": [
      "Found 6\n",
      "Found 6\n",
      "Found 4\n",
      "Found 3\n",
      "Found 4\n",
      "Found 4\n",
      "Found 5\n",
      "Found 1\n",
      "Found 2\n"
     ]
    },
    {
     "name": "stderr",
     "output_type": "stream",
     "text": [
      " 74%|███████▍  | 13922/18840 [10:38<01:37, 50.62it/s]"
     ]
    },
    {
     "name": "stdout",
     "output_type": "stream",
     "text": [
      "Found 2\n",
      "Found 2\n"
     ]
    },
    {
     "name": "stderr",
     "output_type": "stream",
     "text": [
      " 75%|███████▍  | 14107/18840 [10:47<03:35, 21.98it/s]"
     ]
    },
    {
     "name": "stdout",
     "output_type": "stream",
     "text": [
      "Found 1\n"
     ]
    },
    {
     "name": "stderr",
     "output_type": "stream",
     "text": [
      " 75%|███████▍  | 14115/18840 [10:47<04:18, 18.27it/s]"
     ]
    },
    {
     "name": "stdout",
     "output_type": "stream",
     "text": [
      "OpenCV(4.11.0) /io/opencv/modules/calib3d/src/usac/sampler.cpp:45: error: (-215:Assertion failed) sample_size <= points_size_ in function 'setPointsSize'\n",
      "\n",
      "Retry: 1\n",
      "OpenCV(4.11.0) /io/opencv/modules/calib3d/src/usac/sampler.cpp:45: error: (-215:Assertion failed) sample_size <= points_size_ in function 'setPointsSize'\n",
      "\n",
      "Retry: 2\n",
      "OpenCV(4.11.0) /io/opencv/modules/calib3d/src/usac/sampler.cpp:45: error: (-215:Assertion failed) sample_size <= points_size_ in function 'setPointsSize'\n",
      "\n",
      "Retry: 3\n",
      "OpenCV(4.11.0) /io/opencv/modules/calib3d/src/usac/sampler.cpp:45: error: (-215:Assertion failed) sample_size <= points_size_ in function 'setPointsSize'\n",
      "\n",
      "Retry: 4\n"
     ]
    },
    {
     "name": "stderr",
     "output_type": "stream",
     "text": [
      " 75%|███████▌  | 14181/18840 [10:50<03:12, 24.24it/s]"
     ]
    },
    {
     "name": "stdout",
     "output_type": "stream",
     "text": [
      "Found 1\n",
      "Found 1\n"
     ]
    },
    {
     "name": "stderr",
     "output_type": "stream",
     "text": [
      " 75%|███████▌  | 14204/18840 [10:51<02:19, 33.28it/s]"
     ]
    },
    {
     "name": "stdout",
     "output_type": "stream",
     "text": [
      "Found 1\n"
     ]
    },
    {
     "name": "stderr",
     "output_type": "stream",
     "text": [
      " 75%|███████▌  | 14224/18840 [10:52<02:23, 32.11it/s]"
     ]
    },
    {
     "name": "stdout",
     "output_type": "stream",
     "text": [
      "Found 5\n"
     ]
    },
    {
     "name": "stderr",
     "output_type": "stream",
     "text": [
      " 76%|███████▌  | 14232/18840 [10:52<02:25, 31.62it/s]"
     ]
    },
    {
     "name": "stdout",
     "output_type": "stream",
     "text": [
      "Found 6\n"
     ]
    },
    {
     "name": "stderr",
     "output_type": "stream",
     "text": [
      " 76%|███████▌  | 14289/18840 [10:54<02:57, 25.66it/s]"
     ]
    },
    {
     "name": "stdout",
     "output_type": "stream",
     "text": [
      "Found 2\n"
     ]
    },
    {
     "name": "stderr",
     "output_type": "stream",
     "text": [
      " 76%|███████▌  | 14334/18840 [10:56<03:10, 23.68it/s]"
     ]
    },
    {
     "name": "stdout",
     "output_type": "stream",
     "text": [
      "OpenCV(4.11.0) /io/opencv/modules/calib3d/src/usac/estimator.cpp:353: error: (-215:Assertion failed) !model.empty() in function 'setModelParameters'\n",
      "\n",
      "Retry: 1\n",
      "OpenCV(4.11.0) /io/opencv/modules/calib3d/src/usac/estimator.cpp:353: error: (-215:Assertion failed) !model.empty() in function 'setModelParameters'\n",
      "\n",
      "Retry: 2\n",
      "OpenCV(4.11.0) /io/opencv/modules/calib3d/src/usac/estimator.cpp:353: error: (-215:Assertion failed) !model.empty() in function 'setModelParameters'\n",
      "\n",
      "Retry: 3\n",
      "OpenCV(4.11.0) /io/opencv/modules/calib3d/src/usac/estimator.cpp:353: error: (-215:Assertion failed) !model.empty() in function 'setModelParameters'\n",
      "\n",
      "Retry: 4\n"
     ]
    },
    {
     "name": "stderr",
     "output_type": "stream",
     "text": [
      " 76%|███████▌  | 14365/18840 [10:58<03:32, 21.11it/s]"
     ]
    },
    {
     "name": "stdout",
     "output_type": "stream",
     "text": [
      "OpenCV(4.11.0) /io/opencv/modules/calib3d/src/usac/sampler.cpp:45: error: (-215:Assertion failed) sample_size <= points_size_ in function 'setPointsSize'\n",
      "\n",
      "Retry: 1\n",
      "OpenCV(4.11.0) /io/opencv/modules/calib3d/src/usac/sampler.cpp:45: error: (-215:Assertion failed) sample_size <= points_size_ in function 'setPointsSize'\n",
      "\n",
      "Retry: 2\n",
      "OpenCV(4.11.0) /io/opencv/modules/calib3d/src/usac/sampler.cpp:45: error: (-215:Assertion failed) sample_size <= points_size_ in function 'setPointsSize'\n",
      "\n",
      "Retry: 3\n",
      "OpenCV(4.11.0) /io/opencv/modules/calib3d/src/usac/sampler.cpp:45: error: (-215:Assertion failed) sample_size <= points_size_ in function 'setPointsSize'\n",
      "\n",
      "Retry: 4\n"
     ]
    },
    {
     "name": "stderr",
     "output_type": "stream",
     "text": [
      " 77%|███████▋  | 14413/18840 [11:00<03:51, 19.08it/s]"
     ]
    },
    {
     "name": "stdout",
     "output_type": "stream",
     "text": [
      "OpenCV(4.11.0) /io/opencv/modules/calib3d/src/usac/sampler.cpp:45: error: (-215:Assertion failed) sample_size <= points_size_ in function 'setPointsSize'\n",
      "\n",
      "Retry: 1\n",
      "OpenCV(4.11.0) /io/opencv/modules/calib3d/src/usac/sampler.cpp:45: error: (-215:Assertion failed) sample_size <= points_size_ in function 'setPointsSize'\n",
      "\n",
      "Retry: 2\n",
      "OpenCV(4.11.0) /io/opencv/modules/calib3d/src/usac/sampler.cpp:45: error: (-215:Assertion failed) sample_size <= points_size_ in function 'setPointsSize'\n",
      "\n",
      "Retry: 3\n",
      "OpenCV(4.11.0) /io/opencv/modules/calib3d/src/usac/sampler.cpp:45: error: (-215:Assertion failed) sample_size <= points_size_ in function 'setPointsSize'\n",
      "\n",
      "Retry: 4\n"
     ]
    },
    {
     "name": "stderr",
     "output_type": "stream",
     "text": [
      " 77%|███████▋  | 14443/18840 [11:01<03:15, 22.55it/s]"
     ]
    },
    {
     "name": "stdout",
     "output_type": "stream",
     "text": [
      "Found 5\n"
     ]
    },
    {
     "name": "stderr",
     "output_type": "stream",
     "text": [
      " 78%|███████▊  | 14608/18840 [11:09<03:13, 21.88it/s]"
     ]
    },
    {
     "name": "stdout",
     "output_type": "stream",
     "text": [
      "Found 5\n"
     ]
    },
    {
     "name": "stderr",
     "output_type": "stream",
     "text": [
      " 78%|███████▊  | 14638/18840 [11:11<03:53, 17.98it/s]"
     ]
    },
    {
     "name": "stdout",
     "output_type": "stream",
     "text": [
      "OpenCV(4.11.0) /io/opencv/modules/calib3d/src/usac/sampler.cpp:45: error: (-215:Assertion failed) sample_size <= points_size_ in function 'setPointsSize'\n",
      "\n",
      "Retry: 1\n",
      "OpenCV(4.11.0) /io/opencv/modules/calib3d/src/usac/sampler.cpp:45: error: (-215:Assertion failed) sample_size <= points_size_ in function 'setPointsSize'\n",
      "\n",
      "Retry: 2\n",
      "OpenCV(4.11.0) /io/opencv/modules/calib3d/src/usac/sampler.cpp:45: error: (-215:Assertion failed) sample_size <= points_size_ in function 'setPointsSize'\n",
      "\n",
      "Retry: 3\n",
      "OpenCV(4.11.0) /io/opencv/modules/calib3d/src/usac/sampler.cpp:45: error: (-215:Assertion failed) sample_size <= points_size_ in function 'setPointsSize'\n",
      "\n",
      "Retry: 4\n"
     ]
    },
    {
     "name": "stderr",
     "output_type": "stream",
     "text": [
      " 78%|███████▊  | 14644/18840 [11:11<03:24, 20.49it/s]"
     ]
    },
    {
     "name": "stdout",
     "output_type": "stream",
     "text": [
      "Found 1\n"
     ]
    },
    {
     "name": "stderr",
     "output_type": "stream",
     "text": [
      " 78%|███████▊  | 14718/18840 [11:15<03:16, 20.97it/s]"
     ]
    },
    {
     "name": "stdout",
     "output_type": "stream",
     "text": [
      "Found 3\n"
     ]
    },
    {
     "name": "stderr",
     "output_type": "stream",
     "text": [
      " 78%|███████▊  | 14733/18840 [11:15<03:10, 21.53it/s]"
     ]
    },
    {
     "name": "stdout",
     "output_type": "stream",
     "text": [
      "Found 6\n"
     ]
    },
    {
     "name": "stderr",
     "output_type": "stream",
     "text": [
      " 79%|███████▊  | 14808/18840 [11:19<02:49, 23.85it/s]"
     ]
    },
    {
     "name": "stdout",
     "output_type": "stream",
     "text": [
      "Found 1\n"
     ]
    },
    {
     "name": "stderr",
     "output_type": "stream",
     "text": [
      " 79%|███████▊  | 14820/18840 [11:19<02:47, 23.99it/s]"
     ]
    },
    {
     "name": "stdout",
     "output_type": "stream",
     "text": [
      "Found 1\n"
     ]
    },
    {
     "name": "stderr",
     "output_type": "stream",
     "text": [
      " 79%|███████▉  | 14967/18840 [11:26<02:46, 23.29it/s]"
     ]
    },
    {
     "name": "stdout",
     "output_type": "stream",
     "text": [
      "Found 2\n"
     ]
    },
    {
     "name": "stderr",
     "output_type": "stream",
     "text": [
      " 80%|████████  | 15132/18840 [11:34<02:47, 22.07it/s]"
     ]
    },
    {
     "name": "stdout",
     "output_type": "stream",
     "text": [
      "Found 5\n"
     ]
    },
    {
     "name": "stderr",
     "output_type": "stream",
     "text": [
      " 81%|████████  | 15301/18840 [11:42<02:53, 20.37it/s]"
     ]
    },
    {
     "name": "stdout",
     "output_type": "stream",
     "text": [
      "OpenCV(4.11.0) /io/opencv/modules/calib3d/src/usac/sampler.cpp:45: error: (-215:Assertion failed) sample_size <= points_size_ in function 'setPointsSize'\n",
      "\n",
      "Retry: 1\n",
      "OpenCV(4.11.0) /io/opencv/modules/calib3d/src/usac/sampler.cpp:45: error: (-215:Assertion failed) sample_size <= points_size_ in function 'setPointsSize'\n",
      "\n",
      "Retry: 2\n",
      "OpenCV(4.11.0) /io/opencv/modules/calib3d/src/usac/sampler.cpp:45: error: (-215:Assertion failed) sample_size <= points_size_ in function 'setPointsSize'\n",
      "\n",
      "Retry: 3\n",
      "OpenCV(4.11.0) /io/opencv/modules/calib3d/src/usac/sampler.cpp:45: error: (-215:Assertion failed) sample_size <= points_size_ in function 'setPointsSize'\n",
      "\n",
      "Retry: 4\n"
     ]
    },
    {
     "name": "stderr",
     "output_type": "stream",
     "text": [
      " 82%|████████▏ | 15421/18840 [11:47<02:16, 25.07it/s]"
     ]
    },
    {
     "name": "stdout",
     "output_type": "stream",
     "text": [
      "Found 1\n"
     ]
    },
    {
     "name": "stderr",
     "output_type": "stream",
     "text": [
      " 83%|████████▎ | 15688/18840 [12:00<02:22, 22.10it/s]"
     ]
    },
    {
     "name": "stdout",
     "output_type": "stream",
     "text": [
      "Found 5\n"
     ]
    },
    {
     "name": "stderr",
     "output_type": "stream",
     "text": [
      " 83%|████████▎ | 15727/18840 [12:04<05:45,  9.02it/s]"
     ]
    },
    {
     "name": "stdout",
     "output_type": "stream",
     "text": [
      "Found 5\n"
     ]
    },
    {
     "name": "stderr",
     "output_type": "stream",
     "text": [
      " 84%|████████▎ | 15767/18840 [12:09<07:27,  6.86it/s]"
     ]
    },
    {
     "name": "stdout",
     "output_type": "stream",
     "text": [
      "OpenCV(4.11.0) /io/opencv/modules/calib3d/src/usac/sampler.cpp:45: error: (-215:Assertion failed) sample_size <= points_size_ in function 'setPointsSize'\n",
      "\n",
      "Retry: 1\n",
      "OpenCV(4.11.0) /io/opencv/modules/calib3d/src/usac/sampler.cpp:45: error: (-215:Assertion failed) sample_size <= points_size_ in function 'setPointsSize'\n",
      "\n",
      "Retry: 2\n",
      "OpenCV(4.11.0) /io/opencv/modules/calib3d/src/usac/sampler.cpp:45: error: (-215:Assertion failed) sample_size <= points_size_ in function 'setPointsSize'\n",
      "\n",
      "Retry: 3\n",
      "OpenCV(4.11.0) /io/opencv/modules/calib3d/src/usac/sampler.cpp:45: error: (-215:Assertion failed) sample_size <= points_size_ in function 'setPointsSize'\n",
      "\n",
      "Retry: 4\n"
     ]
    },
    {
     "name": "stderr",
     "output_type": "stream",
     "text": [
      " 84%|████████▍ | 15819/18840 [12:13<02:19, 21.68it/s]"
     ]
    },
    {
     "name": "stdout",
     "output_type": "stream",
     "text": [
      "Found 3\n"
     ]
    },
    {
     "name": "stderr",
     "output_type": "stream",
     "text": [
      " 84%|████████▍ | 15910/18840 [12:18<02:03, 23.71it/s]"
     ]
    },
    {
     "name": "stdout",
     "output_type": "stream",
     "text": [
      "Found 3\n"
     ]
    },
    {
     "name": "stderr",
     "output_type": "stream",
     "text": [
      " 85%|████████▍ | 15922/18840 [12:19<02:07, 22.87it/s]"
     ]
    },
    {
     "name": "stdout",
     "output_type": "stream",
     "text": [
      "Found 2\n"
     ]
    },
    {
     "name": "stderr",
     "output_type": "stream",
     "text": [
      " 85%|████████▍ | 15952/18840 [12:20<02:11, 21.92it/s]"
     ]
    },
    {
     "name": "stdout",
     "output_type": "stream",
     "text": [
      "Found 6\n"
     ]
    },
    {
     "name": "stderr",
     "output_type": "stream",
     "text": [
      " 87%|████████▋ | 16360/18840 [12:39<01:41, 24.50it/s]"
     ]
    },
    {
     "name": "stdout",
     "output_type": "stream",
     "text": [
      "Found 2\n"
     ]
    },
    {
     "name": "stderr",
     "output_type": "stream",
     "text": [
      " 87%|████████▋ | 16390/18840 [12:40<01:45, 23.30it/s]"
     ]
    },
    {
     "name": "stdout",
     "output_type": "stream",
     "text": [
      "Found 0\n"
     ]
    },
    {
     "name": "stderr",
     "output_type": "stream",
     "text": [
      " 87%|████████▋ | 16405/18840 [12:41<01:39, 24.50it/s]"
     ]
    },
    {
     "name": "stdout",
     "output_type": "stream",
     "text": [
      "Found 5\n"
     ]
    },
    {
     "name": "stderr",
     "output_type": "stream",
     "text": [
      " 88%|████████▊ | 16585/18840 [12:49<01:33, 24.24it/s]"
     ]
    },
    {
     "name": "stdout",
     "output_type": "stream",
     "text": [
      "Found 1\n",
      "OpenCV(4.11.0) /io/opencv/modules/calib3d/src/usac/sampler.cpp:45: error: (-215:Assertion failed) sample_size <= points_size_ in function 'setPointsSize'\n",
      "\n",
      "Retry: 1\n",
      "OpenCV(4.11.0) /io/opencv/modules/calib3d/src/usac/sampler.cpp:45: error: (-215:Assertion failed) sample_size <= points_size_ in function 'setPointsSize'\n",
      "\n",
      "Retry: 2\n",
      "OpenCV(4.11.0) /io/opencv/modules/calib3d/src/usac/sampler.cpp:45: error: (-215:Assertion failed) sample_size <= points_size_ in function 'setPointsSize'\n",
      "\n",
      "Retry: 3\n",
      "OpenCV(4.11.0) /io/opencv/modules/calib3d/src/usac/sampler.cpp:45: error: (-215:Assertion failed) sample_size <= points_size_ in function 'setPointsSize'\n",
      "\n",
      "Retry: 4\n"
     ]
    },
    {
     "name": "stderr",
     "output_type": "stream",
     "text": [
      " 88%|████████▊ | 16646/18840 [12:51<01:26, 25.35it/s]"
     ]
    },
    {
     "name": "stdout",
     "output_type": "stream",
     "text": [
      "Found 5\n"
     ]
    },
    {
     "name": "stderr",
     "output_type": "stream",
     "text": [
      " 91%|█████████ | 17181/18840 [13:19<01:12, 22.95it/s]"
     ]
    },
    {
     "name": "stdout",
     "output_type": "stream",
     "text": [
      "Found 3\n"
     ]
    },
    {
     "name": "stderr",
     "output_type": "stream",
     "text": [
      " 91%|█████████▏| 17197/18840 [13:19<01:09, 23.64it/s]"
     ]
    },
    {
     "name": "stdout",
     "output_type": "stream",
     "text": [
      "Found 5\n",
      "Found 6\n",
      "Found 2\n"
     ]
    },
    {
     "name": "stderr",
     "output_type": "stream",
     "text": [
      " 91%|█████████▏| 17209/18840 [13:20<00:52, 31.06it/s]"
     ]
    },
    {
     "name": "stdout",
     "output_type": "stream",
     "text": [
      "Found 5\n",
      "Found 4\n",
      "Found 5\n",
      "Found 6\n"
     ]
    },
    {
     "name": "stderr",
     "output_type": "stream",
     "text": [
      " 91%|█████████▏| 17217/18840 [13:20<00:53, 30.25it/s]"
     ]
    },
    {
     "name": "stdout",
     "output_type": "stream",
     "text": [
      "Found 6\n",
      "Found 3\n"
     ]
    },
    {
     "name": "stderr",
     "output_type": "stream",
     "text": [
      " 91%|█████████▏| 17226/18840 [13:20<00:46, 34.47it/s]"
     ]
    },
    {
     "name": "stdout",
     "output_type": "stream",
     "text": [
      "Found 4\n",
      "Found 5\n",
      "Found 6\n"
     ]
    },
    {
     "name": "stderr",
     "output_type": "stream",
     "text": [
      " 91%|█████████▏| 17238/18840 [13:20<00:48, 33.01it/s]"
     ]
    },
    {
     "name": "stdout",
     "output_type": "stream",
     "text": [
      "Found 6\n",
      "Found 5\n",
      "Found 6\n"
     ]
    },
    {
     "name": "stderr",
     "output_type": "stream",
     "text": [
      " 92%|█████████▏| 17246/18840 [13:21<00:49, 32.35it/s]"
     ]
    },
    {
     "name": "stdout",
     "output_type": "stream",
     "text": [
      "Found 5\n"
     ]
    },
    {
     "name": "stderr",
     "output_type": "stream",
     "text": [
      " 92%|█████████▏| 17255/18840 [13:21<00:44, 35.60it/s]"
     ]
    },
    {
     "name": "stdout",
     "output_type": "stream",
     "text": [
      "Found 6\n",
      "Found 5\n",
      "Found 2\n",
      "Found 6\n"
     ]
    },
    {
     "name": "stderr",
     "output_type": "stream",
     "text": [
      " 92%|█████████▏| 17263/18840 [13:21<00:53, 29.67it/s]"
     ]
    },
    {
     "name": "stdout",
     "output_type": "stream",
     "text": [
      "Found 3\n",
      "OpenCV(4.11.0) /io/opencv/modules/calib3d/src/usac/sampler.cpp:45: error: (-215:Assertion failed) sample_size <= points_size_ in function 'setPointsSize'\n",
      "\n",
      "Retry: 1\n",
      "OpenCV(4.11.0) /io/opencv/modules/calib3d/src/usac/sampler.cpp:45: error: (-215:Assertion failed) sample_size <= points_size_ in function 'setPointsSize'\n",
      "\n",
      "Retry: 2\n",
      "OpenCV(4.11.0) /io/opencv/modules/calib3d/src/usac/sampler.cpp:45: error: (-215:Assertion failed) sample_size <= points_size_ in function 'setPointsSize'\n",
      "\n",
      "Retry: 3\n",
      "OpenCV(4.11.0) /io/opencv/modules/calib3d/src/usac/sampler.cpp:45: error: (-215:Assertion failed) sample_size <= points_size_ in function 'setPointsSize'\n",
      "\n",
      "Retry: 4\n"
     ]
    },
    {
     "name": "stderr",
     "output_type": "stream",
     "text": [
      " 92%|█████████▏| 17267/18840 [13:21<00:58, 26.98it/s]"
     ]
    },
    {
     "name": "stdout",
     "output_type": "stream",
     "text": [
      "Found 6\n"
     ]
    },
    {
     "name": "stderr",
     "output_type": "stream",
     "text": [
      " 92%|█████████▏| 17279/18840 [13:22<00:48, 32.06it/s]"
     ]
    },
    {
     "name": "stdout",
     "output_type": "stream",
     "text": [
      "Found 6\n",
      "Found 5\n",
      "Found 4\n"
     ]
    },
    {
     "name": "stderr",
     "output_type": "stream",
     "text": [
      " 92%|█████████▏| 17287/18840 [13:22<00:48, 32.30it/s]"
     ]
    },
    {
     "name": "stdout",
     "output_type": "stream",
     "text": [
      "Found 4\n"
     ]
    },
    {
     "name": "stderr",
     "output_type": "stream",
     "text": [
      " 92%|█████████▏| 17300/18840 [13:23<01:05, 23.49it/s]"
     ]
    }
   ],
   "source": [
    "directory = '/share/project_data/dump_match_data'\n",
    "df = get_F_dataframe(directory)\n",
    "df"
   ]
  },
  {
   "cell_type": "code",
   "execution_count": 3,
   "metadata": {},
   "outputs": [
    {
     "data": {
      "text/plain": [
       "np.int64(422)"
      ]
     },
     "execution_count": 3,
     "metadata": {},
     "output_type": "execute_result"
    }
   ],
   "source": [
    "df.isnull().sum().sum()"
   ]
  },
  {
   "cell_type": "markdown",
   "metadata": {},
   "source": []
  },
  {
   "cell_type": "code",
   "execution_count": 4,
   "metadata": {},
   "outputs": [
    {
     "data": {
      "text/html": [
       "<div>\n",
       "<style scoped>\n",
       "    .dataframe tbody tr th:only-of-type {\n",
       "        vertical-align: middle;\n",
       "    }\n",
       "\n",
       "    .dataframe tbody tr th {\n",
       "        vertical-align: top;\n",
       "    }\n",
       "\n",
       "    .dataframe thead th {\n",
       "        text-align: right;\n",
       "    }\n",
       "</style>\n",
       "<table border=\"1\" class=\"dataframe\">\n",
       "  <thead>\n",
       "    <tr style=\"text-align: right;\">\n",
       "      <th></th>\n",
       "      <th>sample_id</th>\n",
       "      <th>fundamental_matrix</th>\n",
       "    </tr>\n",
       "  </thead>\n",
       "  <tbody>\n",
       "    <tr>\n",
       "      <th>0</th>\n",
       "      <td>st_pauls_cathedral;00593112_5162872967-0016289...</td>\n",
       "      <td>4.07561e-08 -5.51975e-06 1.61534e-03 5.99129e-...</td>\n",
       "    </tr>\n",
       "    <tr>\n",
       "      <th>1</th>\n",
       "      <td>st_pauls_cathedral;01024897_4276850874-0016289...</td>\n",
       "      <td>-1.89131e-07 -5.06228e-06 4.46444e-03 4.13692e...</td>\n",
       "    </tr>\n",
       "    <tr>\n",
       "      <th>2</th>\n",
       "      <td>st_pauls_cathedral;01024897_4276850874-0059311...</td>\n",
       "      <td>9.43429e-07 4.92725e-06 -5.88104e-03 -2.26703e...</td>\n",
       "    </tr>\n",
       "    <tr>\n",
       "      <th>3</th>\n",
       "      <td>st_peters_square;01086691_5427945640-00077205_...</td>\n",
       "      <td>8.47373e-08 -7.83232e-06 5.81060e-03 7.93195e-...</td>\n",
       "    </tr>\n",
       "    <tr>\n",
       "      <th>4</th>\n",
       "      <td>st_pauls_cathedral;01207461_5308976270-0016289...</td>\n",
       "      <td>9.94749e-08 5.57870e-08 1.27493e-04 1.23805e-0...</td>\n",
       "    </tr>\n",
       "    <tr>\n",
       "      <th>...</th>\n",
       "      <td>...</td>\n",
       "      <td>...</td>\n",
       "    </tr>\n",
       "    <tr>\n",
       "      <th>18835</th>\n",
       "      <td>notre_dame_front_facade;99959942_5064636197-95...</td>\n",
       "      <td>6.59281e-06 -2.18954e-07 -6.63177e-04 4.58401e...</td>\n",
       "    </tr>\n",
       "    <tr>\n",
       "      <th>18836</th>\n",
       "      <td>notre_dame_front_facade;99959942_5064636197-95...</td>\n",
       "      <td>0.00000e+00 0.00000e+00 0.00000e+00 0.00000e+0...</td>\n",
       "    </tr>\n",
       "    <tr>\n",
       "      <th>18837</th>\n",
       "      <td>notre_dame_front_facade;99959942_5064636197-96...</td>\n",
       "      <td>2.35661e-07 6.05837e-06 -7.11085e-03 -5.88628e...</td>\n",
       "    </tr>\n",
       "    <tr>\n",
       "      <th>18838</th>\n",
       "      <td>notre_dame_front_facade;99959942_5064636197-97...</td>\n",
       "      <td>1.27161e-07 7.42440e-06 -6.92129e-03 -7.50928e...</td>\n",
       "    </tr>\n",
       "    <tr>\n",
       "      <th>18839</th>\n",
       "      <td>notre_dame_front_facade;99959942_5064636197-97...</td>\n",
       "      <td>9.02838e-08 -6.09967e-06 5.85908e-03 6.69312e-...</td>\n",
       "    </tr>\n",
       "  </tbody>\n",
       "</table>\n",
       "<p>18840 rows × 2 columns</p>\n",
       "</div>"
      ],
      "text/plain": [
       "                                               sample_id  \\\n",
       "0      st_pauls_cathedral;00593112_5162872967-0016289...   \n",
       "1      st_pauls_cathedral;01024897_4276850874-0016289...   \n",
       "2      st_pauls_cathedral;01024897_4276850874-0059311...   \n",
       "3      st_peters_square;01086691_5427945640-00077205_...   \n",
       "4      st_pauls_cathedral;01207461_5308976270-0016289...   \n",
       "...                                                  ...   \n",
       "18835  notre_dame_front_facade;99959942_5064636197-95...   \n",
       "18836  notre_dame_front_facade;99959942_5064636197-95...   \n",
       "18837  notre_dame_front_facade;99959942_5064636197-96...   \n",
       "18838  notre_dame_front_facade;99959942_5064636197-97...   \n",
       "18839  notre_dame_front_facade;99959942_5064636197-97...   \n",
       "\n",
       "                                      fundamental_matrix  \n",
       "0      4.07561e-08 -5.51975e-06 1.61534e-03 5.99129e-...  \n",
       "1      -1.89131e-07 -5.06228e-06 4.46444e-03 4.13692e...  \n",
       "2      9.43429e-07 4.92725e-06 -5.88104e-03 -2.26703e...  \n",
       "3      8.47373e-08 -7.83232e-06 5.81060e-03 7.93195e-...  \n",
       "4      9.94749e-08 5.57870e-08 1.27493e-04 1.23805e-0...  \n",
       "...                                                  ...  \n",
       "18835  6.59281e-06 -2.18954e-07 -6.63177e-04 4.58401e...  \n",
       "18836  0.00000e+00 0.00000e+00 0.00000e+00 0.00000e+0...  \n",
       "18837  2.35661e-07 6.05837e-06 -7.11085e-03 -5.88628e...  \n",
       "18838  1.27161e-07 7.42440e-06 -6.92129e-03 -7.50928e...  \n",
       "18839  9.02838e-08 -6.09967e-06 5.85908e-03 6.69312e-...  \n",
       "\n",
       "[18840 rows x 2 columns]"
      ]
     },
     "execution_count": 4,
     "metadata": {},
     "output_type": "execute_result"
    }
   ],
   "source": [
    "def format_fundamental_matrix(row):\n",
    "    if row is None:\n",
    "        # Replace None with a zero array of the same size\n",
    "        row = np.zeros(9)\n",
    "    # Convert array to a space-separated string in scientific notation\n",
    "    return \" \".join(f\"{num:.5e}\" for num in row)\n",
    "\n",
    "df[\"fundamental_matrix\"] = df[\"fundamental_matrix\"].apply(format_fundamental_matrix)\n",
    "df = df[[\"sample_id\", \"fundamental_matrix\"]]\n",
    "df.to_csv(\"/share/project_data/submit_result_no_threshold_4.csv\", index=False)\n",
    "df"
   ]
  },
  {
   "cell_type": "code",
   "execution_count": null,
   "metadata": {},
   "outputs": [],
   "source": [
    "df"
   ]
  },
  {
   "cell_type": "code",
   "execution_count": null,
   "metadata": {},
   "outputs": [],
   "source": []
  }
 ],
 "metadata": {
  "kernelspec": {
   "display_name": "Python 3 (ipykernel)",
   "language": "python",
   "name": "python3"
  },
  "language_info": {
   "codemirror_mode": {
    "name": "ipython",
    "version": 3
   },
   "file_extension": ".py",
   "mimetype": "text/x-python",
   "name": "python",
   "nbconvert_exporter": "python",
   "pygments_lexer": "ipython3",
   "version": "3.10.12"
  }
 },
 "nbformat": 4,
 "nbformat_minor": 2
}

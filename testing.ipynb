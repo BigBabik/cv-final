{
 "cells": [
  {
   "cell_type": "code",
   "execution_count": 4,
   "metadata": {},
   "outputs": [],
   "source": [
    "import pandas as pd\n",
    "from utils import data_util as du, preproc_utils as pu, extractor_util as exu, estimator_util as esu\n",
    "import importlib\n",
    "from typing import List, Dict, Any\n",
    "import wrappers as wrp\n",
    "import os"
   ]
  },
  {
   "cell_type": "code",
   "execution_count": 5,
   "metadata": {},
   "outputs": [],
   "source": [
    "DATA_SRC_DIR = '/Users/yoav/Documents/Yoav/CS/22928 - Intro to CV/cv-final/data'\n",
    "EXT_DATA_DIR = '/Users/yoav/Documents/Yoav/CS/22928 - Intro to CV/cv-final/data/external'\n",
    "INT_DATA_DIR = '/Users/yoav/Documents/Yoav/CS/22928 - Intro to CV/cv-final/data/internal'"
   ]
  },
  {
   "cell_type": "code",
   "execution_count": 6,
   "metadata": {},
   "outputs": [
    {
     "data": {
      "text/plain": [
       "<module 'utils.estimator_util' from '/Users/yoav/Documents/Yoav/CS/22928 - Intro to CV/cv-final/utils/estimator_util.py'>"
      ]
     },
     "execution_count": 6,
     "metadata": {},
     "output_type": "execute_result"
    }
   ],
   "source": [
    "importlib.reload(wrp)\n",
    "importlib.reload(du)\n",
    "importlib.reload(exu)\n",
    "importlib.reload(esu)"
   ]
  },
  {
   "cell_type": "code",
   "execution_count": 7,
   "metadata": {},
   "outputs": [],
   "source": [
    "# Usage example\n",
    "dataset = du.DatasetLoader(EXT_DATA_DIR)"
   ]
  },
  {
   "cell_type": "code",
   "execution_count": null,
   "metadata": {},
   "outputs": [],
   "source": []
  },
  {
   "cell_type": "code",
   "execution_count": 8,
   "metadata": {},
   "outputs": [],
   "source": [
    "# Usage\n",
    "config = pu.PreprocessConfig(size=(512, 512), normalize=False)\n",
    "preprocessor = pu.ImagePreprocessor(config)"
   ]
  },
  {
   "cell_type": "code",
   "execution_count": 9,
   "metadata": {},
   "outputs": [],
   "source": [
    "default_sift_config = exu.SIFTConfig()\n",
    "extractor_config = exu.FeatureExtractorConfig(default_sift_config)\n",
    "extractor = exu.FeatureExtractor(config=extractor_config)"
   ]
  },
  {
   "cell_type": "code",
   "execution_count": 10,
   "metadata": {},
   "outputs": [],
   "source": [
    "dataset = wrp.load_dataset(EXT_DATA_DIR)"
   ]
  },
  {
   "cell_type": "code",
   "execution_count": 11,
   "metadata": {},
   "outputs": [],
   "source": [
    "dataset = wrp.preprocess_data(dataset, preprocessor, extractor)"
   ]
  },
  {
   "cell_type": "code",
   "execution_count": 12,
   "metadata": {},
   "outputs": [],
   "source": [
    "dataset = wrp.extract_features(dataset, extractor)"
   ]
  },
  {
   "cell_type": "code",
   "execution_count": 13,
   "metadata": {},
   "outputs": [],
   "source": [
    "bf_config = exu.BFMatcherConfig(knn=True)\n",
    "matcher_config = exu.MatcherConfig(bf_config)"
   ]
  },
  {
   "cell_type": "code",
   "execution_count": 14,
   "metadata": {},
   "outputs": [],
   "source": [
    "matcher = exu.FeatureMatcher(matcher_config)"
   ]
  },
  {
   "cell_type": "code",
   "execution_count": 15,
   "metadata": {},
   "outputs": [
    {
     "name": "stdout",
     "output_type": "stream",
     "text": [
      "Matching features for scene: brandenburg_gate\n",
      "There are 129 valid pairs to estimate for\n"
     ]
    }
   ],
   "source": [
    "wrp.match_features(dataset, matcher, covisibility_threshold=0.8)"
   ]
  },
  {
   "cell_type": "code",
   "execution_count": 16,
   "metadata": {},
   "outputs": [
    {
     "data": {
      "text/html": [
       "<div>\n",
       "<style scoped>\n",
       "    .dataframe tbody tr th:only-of-type {\n",
       "        vertical-align: middle;\n",
       "    }\n",
       "\n",
       "    .dataframe tbody tr th {\n",
       "        vertical-align: top;\n",
       "    }\n",
       "\n",
       "    .dataframe thead th {\n",
       "        text-align: right;\n",
       "    }\n",
       "</style>\n",
       "<table border=\"1\" class=\"dataframe\">\n",
       "  <thead>\n",
       "    <tr style=\"text-align: right;\">\n",
       "      <th></th>\n",
       "      <th>covisibility</th>\n",
       "      <th>fundamental_matrix</th>\n",
       "      <th>im1</th>\n",
       "      <th>im2</th>\n",
       "      <th>keypoints1</th>\n",
       "      <th>keypoints2</th>\n",
       "    </tr>\n",
       "    <tr>\n",
       "      <th>pair</th>\n",
       "      <th></th>\n",
       "      <th></th>\n",
       "      <th></th>\n",
       "      <th></th>\n",
       "      <th></th>\n",
       "      <th></th>\n",
       "    </tr>\n",
       "  </thead>\n",
       "  <tbody>\n",
       "    <tr>\n",
       "      <th>90920828_5082887495-20133057_3035445116</th>\n",
       "      <td>0.905</td>\n",
       "      <td>-9.27158516e-04 1.22034601e-01 -9.87725452e+01...</td>\n",
       "      <td>90920828_5082887495</td>\n",
       "      <td>20133057_3035445116</td>\n",
       "      <td>(-0.449611, -0.054365);(-0.440867, -0.181743);...</td>\n",
       "      <td>(-0.466144, -0.055466);(-0.455768, -0.185925);...</td>\n",
       "    </tr>\n",
       "    <tr>\n",
       "      <th>90920828_5082887495-17262282_1141017004</th>\n",
       "      <td>0.936</td>\n",
       "      <td>1.68899800e-03 1.18269247e-01 -1.02939518e+02 ...</td>\n",
       "      <td>90920828_5082887495</td>\n",
       "      <td>17262282_1141017004</td>\n",
       "      <td>(-0.449611, -0.054365);(-0.445680, -0.184222);...</td>\n",
       "      <td>(-0.461805, -0.083045);(-0.021437, -0.182804);...</td>\n",
       "    </tr>\n",
       "    <tr>\n",
       "      <th>20133057_3035445116-17262282_1141017004</th>\n",
       "      <td>0.908</td>\n",
       "      <td>-5.56308440e-04 1.74170978e-02 -2.49391042e+01...</td>\n",
       "      <td>20133057_3035445116</td>\n",
       "      <td>17262282_1141017004</td>\n",
       "      <td>(-0.470350, -0.043227);(-0.466144, -0.055466);...</td>\n",
       "      <td>(-0.467542, -0.070519);(-0.461805, -0.083045);...</td>\n",
       "    </tr>\n",
       "    <tr>\n",
       "      <th>38600512_2168650655-17262282_1141017004</th>\n",
       "      <td>0.901</td>\n",
       "      <td>1.26837683e-02 -5.42924979e-01 4.29820975e+02 ...</td>\n",
       "      <td>38600512_2168650655</td>\n",
       "      <td>17262282_1141017004</td>\n",
       "      <td>(-0.472237, -0.062819);(-0.458750, -0.189936);...</td>\n",
       "      <td>(-0.206424, -0.179398);(-0.021437, -0.182804);...</td>\n",
       "    </tr>\n",
       "    <tr>\n",
       "      <th>60770994_853214983-17262282_1141017004</th>\n",
       "      <td>0.912</td>\n",
       "      <td>-1.05214974e-02 -4.87393290e-01 3.90468870e+02...</td>\n",
       "      <td>60770994_853214983</td>\n",
       "      <td>17262282_1141017004</td>\n",
       "      <td>(-0.539844, -0.200452);(-0.539009, -0.199829);...</td>\n",
       "      <td>(-0.021437, -0.182804);(-0.021437, -0.182804);...</td>\n",
       "    </tr>\n",
       "    <tr>\n",
       "      <th>...</th>\n",
       "      <td>...</td>\n",
       "      <td>...</td>\n",
       "      <td>...</td>\n",
       "      <td>...</td>\n",
       "      <td>...</td>\n",
       "      <td>...</td>\n",
       "    </tr>\n",
       "    <tr>\n",
       "      <th>66720928_3418295149-65128211_1900926684</th>\n",
       "      <td>0.076</td>\n",
       "      <td>-8.12702062e-03 2.55588179e-01 -1.69505309e+02...</td>\n",
       "      <td>66720928_3418295149</td>\n",
       "      <td>65128211_1900926684</td>\n",
       "      <td>NaN</td>\n",
       "      <td>NaN</td>\n",
       "    </tr>\n",
       "    <tr>\n",
       "      <th>67266149_8114963267-20580890_6015148266</th>\n",
       "      <td>0.055</td>\n",
       "      <td>3.67415708e-03 6.55116510e-01 -4.49956197e+02 ...</td>\n",
       "      <td>67266149_8114963267</td>\n",
       "      <td>20580890_6015148266</td>\n",
       "      <td>NaN</td>\n",
       "      <td>NaN</td>\n",
       "    </tr>\n",
       "    <tr>\n",
       "      <th>67266149_8114963267-52630012_12435805525</th>\n",
       "      <td>0.094</td>\n",
       "      <td>-9.33957978e-02 2.05087664e+00 -1.31472168e+03...</td>\n",
       "      <td>67266149_8114963267</td>\n",
       "      <td>52630012_12435805525</td>\n",
       "      <td>NaN</td>\n",
       "      <td>NaN</td>\n",
       "    </tr>\n",
       "    <tr>\n",
       "      <th>67266149_8114963267-63229395_2704362565</th>\n",
       "      <td>0.042</td>\n",
       "      <td>-1.92191439e-02 8.12448695e-01 -5.57773493e+02...</td>\n",
       "      <td>67266149_8114963267</td>\n",
       "      <td>63229395_2704362565</td>\n",
       "      <td>NaN</td>\n",
       "      <td>NaN</td>\n",
       "    </tr>\n",
       "    <tr>\n",
       "      <th>67266149_8114963267-65128211_1900926684</th>\n",
       "      <td>0.086</td>\n",
       "      <td>-3.83547966e-02 1.90821384e+00 -1.18998197e+03...</td>\n",
       "      <td>67266149_8114963267</td>\n",
       "      <td>65128211_1900926684</td>\n",
       "      <td>NaN</td>\n",
       "      <td>NaN</td>\n",
       "    </tr>\n",
       "  </tbody>\n",
       "</table>\n",
       "<p>7503 rows × 6 columns</p>\n",
       "</div>"
      ],
      "text/plain": [
       "                                          covisibility  \\\n",
       "pair                                                     \n",
       "90920828_5082887495-20133057_3035445116          0.905   \n",
       "90920828_5082887495-17262282_1141017004          0.936   \n",
       "20133057_3035445116-17262282_1141017004          0.908   \n",
       "38600512_2168650655-17262282_1141017004          0.901   \n",
       "60770994_853214983-17262282_1141017004           0.912   \n",
       "...                                                ...   \n",
       "66720928_3418295149-65128211_1900926684          0.076   \n",
       "67266149_8114963267-20580890_6015148266          0.055   \n",
       "67266149_8114963267-52630012_12435805525         0.094   \n",
       "67266149_8114963267-63229395_2704362565          0.042   \n",
       "67266149_8114963267-65128211_1900926684          0.086   \n",
       "\n",
       "                                                                         fundamental_matrix  \\\n",
       "pair                                                                                          \n",
       "90920828_5082887495-20133057_3035445116   -9.27158516e-04 1.22034601e-01 -9.87725452e+01...   \n",
       "90920828_5082887495-17262282_1141017004   1.68899800e-03 1.18269247e-01 -1.02939518e+02 ...   \n",
       "20133057_3035445116-17262282_1141017004   -5.56308440e-04 1.74170978e-02 -2.49391042e+01...   \n",
       "38600512_2168650655-17262282_1141017004   1.26837683e-02 -5.42924979e-01 4.29820975e+02 ...   \n",
       "60770994_853214983-17262282_1141017004    -1.05214974e-02 -4.87393290e-01 3.90468870e+02...   \n",
       "...                                                                                     ...   \n",
       "66720928_3418295149-65128211_1900926684   -8.12702062e-03 2.55588179e-01 -1.69505309e+02...   \n",
       "67266149_8114963267-20580890_6015148266   3.67415708e-03 6.55116510e-01 -4.49956197e+02 ...   \n",
       "67266149_8114963267-52630012_12435805525  -9.33957978e-02 2.05087664e+00 -1.31472168e+03...   \n",
       "67266149_8114963267-63229395_2704362565   -1.92191439e-02 8.12448695e-01 -5.57773493e+02...   \n",
       "67266149_8114963267-65128211_1900926684   -3.83547966e-02 1.90821384e+00 -1.18998197e+03...   \n",
       "\n",
       "                                                          im1  \\\n",
       "pair                                                            \n",
       "90920828_5082887495-20133057_3035445116   90920828_5082887495   \n",
       "90920828_5082887495-17262282_1141017004   90920828_5082887495   \n",
       "20133057_3035445116-17262282_1141017004   20133057_3035445116   \n",
       "38600512_2168650655-17262282_1141017004   38600512_2168650655   \n",
       "60770994_853214983-17262282_1141017004     60770994_853214983   \n",
       "...                                                       ...   \n",
       "66720928_3418295149-65128211_1900926684   66720928_3418295149   \n",
       "67266149_8114963267-20580890_6015148266   67266149_8114963267   \n",
       "67266149_8114963267-52630012_12435805525  67266149_8114963267   \n",
       "67266149_8114963267-63229395_2704362565   67266149_8114963267   \n",
       "67266149_8114963267-65128211_1900926684   67266149_8114963267   \n",
       "\n",
       "                                                           im2  \\\n",
       "pair                                                             \n",
       "90920828_5082887495-20133057_3035445116    20133057_3035445116   \n",
       "90920828_5082887495-17262282_1141017004    17262282_1141017004   \n",
       "20133057_3035445116-17262282_1141017004    17262282_1141017004   \n",
       "38600512_2168650655-17262282_1141017004    17262282_1141017004   \n",
       "60770994_853214983-17262282_1141017004     17262282_1141017004   \n",
       "...                                                        ...   \n",
       "66720928_3418295149-65128211_1900926684    65128211_1900926684   \n",
       "67266149_8114963267-20580890_6015148266    20580890_6015148266   \n",
       "67266149_8114963267-52630012_12435805525  52630012_12435805525   \n",
       "67266149_8114963267-63229395_2704362565    63229395_2704362565   \n",
       "67266149_8114963267-65128211_1900926684    65128211_1900926684   \n",
       "\n",
       "                                                                                 keypoints1  \\\n",
       "pair                                                                                          \n",
       "90920828_5082887495-20133057_3035445116   (-0.449611, -0.054365);(-0.440867, -0.181743);...   \n",
       "90920828_5082887495-17262282_1141017004   (-0.449611, -0.054365);(-0.445680, -0.184222);...   \n",
       "20133057_3035445116-17262282_1141017004   (-0.470350, -0.043227);(-0.466144, -0.055466);...   \n",
       "38600512_2168650655-17262282_1141017004   (-0.472237, -0.062819);(-0.458750, -0.189936);...   \n",
       "60770994_853214983-17262282_1141017004    (-0.539844, -0.200452);(-0.539009, -0.199829);...   \n",
       "...                                                                                     ...   \n",
       "66720928_3418295149-65128211_1900926684                                                 NaN   \n",
       "67266149_8114963267-20580890_6015148266                                                 NaN   \n",
       "67266149_8114963267-52630012_12435805525                                                NaN   \n",
       "67266149_8114963267-63229395_2704362565                                                 NaN   \n",
       "67266149_8114963267-65128211_1900926684                                                 NaN   \n",
       "\n",
       "                                                                                 keypoints2  \n",
       "pair                                                                                         \n",
       "90920828_5082887495-20133057_3035445116   (-0.466144, -0.055466);(-0.455768, -0.185925);...  \n",
       "90920828_5082887495-17262282_1141017004   (-0.461805, -0.083045);(-0.021437, -0.182804);...  \n",
       "20133057_3035445116-17262282_1141017004   (-0.467542, -0.070519);(-0.461805, -0.083045);...  \n",
       "38600512_2168650655-17262282_1141017004   (-0.206424, -0.179398);(-0.021437, -0.182804);...  \n",
       "60770994_853214983-17262282_1141017004    (-0.021437, -0.182804);(-0.021437, -0.182804);...  \n",
       "...                                                                                     ...  \n",
       "66720928_3418295149-65128211_1900926684                                                 NaN  \n",
       "67266149_8114963267-20580890_6015148266                                                 NaN  \n",
       "67266149_8114963267-52630012_12435805525                                                NaN  \n",
       "67266149_8114963267-63229395_2704362565                                                 NaN  \n",
       "67266149_8114963267-65128211_1900926684                                                 NaN  \n",
       "\n",
       "[7503 rows x 6 columns]"
      ]
     },
     "execution_count": 16,
     "metadata": {},
     "output_type": "execute_result"
    }
   ],
   "source": [
    "dataset.scenes_data['brandenburg_gate'].covisibility"
   ]
  },
  {
   "cell_type": "code",
   "execution_count": 17,
   "metadata": {},
   "outputs": [],
   "source": [
    "es_alg_conf = esu.RANSACConfig()\n",
    "es_conf = esu.EstimatorConfig('RANSAC', es_alg_conf)"
   ]
  },
  {
   "cell_type": "code",
   "execution_count": 18,
   "metadata": {},
   "outputs": [],
   "source": [
    "list1 = [(1, 2), (3, 4), (5, 6), (7, 8), (9, 10), (11, 12), (13, 14), (15, 16)]\n",
    "list2 = [(17, 18), (19, 20), (21, 22), (23, 24), (25, 26), (27, 28), (29, 30), (31, 32)]"
   ]
  },
  {
   "cell_type": "code",
   "execution_count": 19,
   "metadata": {},
   "outputs": [],
   "source": [
    "fe = esu.FundamentalMatrixEstimator(list1, list2, es_conf)"
   ]
  },
  {
   "cell_type": "code",
   "execution_count": 23,
   "metadata": {},
   "outputs": [
    {
     "data": {
      "text/plain": [
       "<module 'wrappers' from '/Users/yoav/Documents/Yoav/CS/22928 - Intro to CV/cv-final/wrappers.py'>"
      ]
     },
     "execution_count": 23,
     "metadata": {},
     "output_type": "execute_result"
    }
   ],
   "source": [
    "importlib.reload(wrp)\n",
    " "
   ]
  },
  {
   "cell_type": "code",
   "execution_count": 24,
   "metadata": {},
   "outputs": [
    {
     "name": "stdout",
     "output_type": "stream",
     "text": [
      "Estimating fundamental matrix for pairs in scene: brandenburg_gate\n"
     ]
    }
   ],
   "source": [
    "sub = wrp.estimate_fundamental_matrix(dataset=dataset, estimator=fe)"
   ]
  },
  {
   "cell_type": "code",
   "execution_count": 25,
   "metadata": {},
   "outputs": [
    {
     "data": {
      "text/html": [
       "<div>\n",
       "<style scoped>\n",
       "    .dataframe tbody tr th:only-of-type {\n",
       "        vertical-align: middle;\n",
       "    }\n",
       "\n",
       "    .dataframe tbody tr th {\n",
       "        vertical-align: top;\n",
       "    }\n",
       "\n",
       "    .dataframe thead th {\n",
       "        text-align: right;\n",
       "    }\n",
       "</style>\n",
       "<table border=\"1\" class=\"dataframe\">\n",
       "  <thead>\n",
       "    <tr style=\"text-align: right;\">\n",
       "      <th></th>\n",
       "      <th>sample_id</th>\n",
       "      <th>fundamental_matrix</th>\n",
       "      <th>mask</th>\n",
       "      <th>inliers1</th>\n",
       "      <th>inliers2</th>\n",
       "    </tr>\n",
       "  </thead>\n",
       "  <tbody>\n",
       "    <tr>\n",
       "      <th>0</th>\n",
       "      <td>brandenburg_gate;90920828_5082887495-20133057_...</td>\n",
       "      <td>[12.727305249369623, 129.8952782434918, 33.798...</td>\n",
       "      <td>[[1], [1], [1], [1], [1], [1], [1], [1], [1], ...</td>\n",
       "      <td>[[-0.449611, -0.054365], [-0.440867, -0.181743...</td>\n",
       "      <td>[[-0.466144, -0.055466], [-0.455768, -0.185925...</td>\n",
       "    </tr>\n",
       "    <tr>\n",
       "      <th>1</th>\n",
       "      <td>brandenburg_gate;90920828_5082887495-17262282_...</td>\n",
       "      <td>[0.8136154091033959, 1.4789251634568656, 1.624...</td>\n",
       "      <td>[[1], [1], [1], [1], [1], [1], [1], [1], [1], ...</td>\n",
       "      <td>[[-0.449611, -0.054365], [-0.44568, -0.184222]...</td>\n",
       "      <td>[[-0.461805, -0.083045], [-0.021437, -0.182804...</td>\n",
       "    </tr>\n",
       "    <tr>\n",
       "      <th>2</th>\n",
       "      <td>brandenburg_gate;20133057_3035445116-17262282_...</td>\n",
       "      <td>[8.050046364629091, 30.007080418407753, 8.7334...</td>\n",
       "      <td>[[1], [1], [1], [1], [1], [1], [1], [1], [1], ...</td>\n",
       "      <td>[[-0.47035, -0.043227], [-0.466144, -0.055466]...</td>\n",
       "      <td>[[-0.467542, -0.070519], [-0.461805, -0.083045...</td>\n",
       "    </tr>\n",
       "    <tr>\n",
       "      <th>3</th>\n",
       "      <td>brandenburg_gate;38600512_2168650655-17262282_...</td>\n",
       "      <td>[1.9424634411315012, -11.466641154098864, -0.9...</td>\n",
       "      <td>[[1], [1], [1], [1], [1], [1], [1], [1], [1], ...</td>\n",
       "      <td>[[-0.472237, -0.062819], [-0.45875, -0.189936]...</td>\n",
       "      <td>[[-0.206424, -0.179398], [-0.021437, -0.182804...</td>\n",
       "    </tr>\n",
       "    <tr>\n",
       "      <th>4</th>\n",
       "      <td>brandenburg_gate;60770994_853214983-17262282_1...</td>\n",
       "      <td>[-12.213286566785511, -55.69894294595479, -16....</td>\n",
       "      <td>[[1], [1], [1], [1], [1], [1], [1], [1], [1], ...</td>\n",
       "      <td>[[-0.539844, -0.200452], [-0.539009, -0.199829...</td>\n",
       "      <td>[[-0.021437, -0.182804], [-0.021437, -0.182804...</td>\n",
       "    </tr>\n",
       "    <tr>\n",
       "      <th>...</th>\n",
       "      <td>...</td>\n",
       "      <td>...</td>\n",
       "      <td>...</td>\n",
       "      <td>...</td>\n",
       "      <td>...</td>\n",
       "    </tr>\n",
       "    <tr>\n",
       "      <th>124</th>\n",
       "      <td>brandenburg_gate;60824110_1469539304-08468928_...</td>\n",
       "      <td>[-8.213053501459155, 146.14638226789347, 38.72...</td>\n",
       "      <td>[[1], [1], [1], [1], [1], [1], [1], [1], [1], ...</td>\n",
       "      <td>[[-0.399234, 0.129181], [-0.393517, -0.116796]...</td>\n",
       "      <td>[[-0.241999, -0.202796], [-0.379758, -0.080159...</td>\n",
       "    </tr>\n",
       "    <tr>\n",
       "      <th>125</th>\n",
       "      <td>brandenburg_gate;66720928_3418295149-20133057_...</td>\n",
       "      <td>[20.700259524451795, -558.3868505686797, -136....</td>\n",
       "      <td>[[1], [1], [1], [1], [1], [1], [1], [1], [1], ...</td>\n",
       "      <td>[[-0.451147, -0.031407], [-0.43672, -0.079455]...</td>\n",
       "      <td>[[-0.044686, -0.09846], [-0.466144, -0.055466]...</td>\n",
       "    </tr>\n",
       "    <tr>\n",
       "      <th>126</th>\n",
       "      <td>brandenburg_gate;66720928_3418295149-02936509_...</td>\n",
       "      <td>[2.1700889810077104, 390.277154039344, -15.016...</td>\n",
       "      <td>[[1], [1], [1], [1], [1], [1], [1], [1], [1], ...</td>\n",
       "      <td>[[-0.44896, -0.088448], [-0.43465, 0.031499], ...</td>\n",
       "      <td>[[-0.422117, -0.320985], [-0.258219, -0.349716...</td>\n",
       "    </tr>\n",
       "    <tr>\n",
       "      <th>127</th>\n",
       "      <td>brandenburg_gate;66720928_3418295149-08814095_...</td>\n",
       "      <td>[43.12498319973662, -238.8020090557619, -49.64...</td>\n",
       "      <td>[[1], [1], [1], [1], [1], [1], [1], [1], [1], ...</td>\n",
       "      <td>[[-0.455657, -0.079186], [-0.444088, -0.04479]...</td>\n",
       "      <td>[[-0.480328, -0.073369], [-0.463585, -0.038242...</td>\n",
       "    </tr>\n",
       "    <tr>\n",
       "      <th>128</th>\n",
       "      <td>brandenburg_gate;67266149_8114963267-20133057_...</td>\n",
       "      <td>[-18.63759057113084, 38.4979295838429, 3.62039...</td>\n",
       "      <td>[[1], [1], [1], [1], [1], [1], [1], [1], [1], ...</td>\n",
       "      <td>[[-0.276308, -0.043104], [-0.276035, -0.046047...</td>\n",
       "      <td>[[-0.465918, -0.050111], [-0.466144, -0.055466...</td>\n",
       "    </tr>\n",
       "  </tbody>\n",
       "</table>\n",
       "<p>129 rows × 5 columns</p>\n",
       "</div>"
      ],
      "text/plain": [
       "                                             sample_id  \\\n",
       "0    brandenburg_gate;90920828_5082887495-20133057_...   \n",
       "1    brandenburg_gate;90920828_5082887495-17262282_...   \n",
       "2    brandenburg_gate;20133057_3035445116-17262282_...   \n",
       "3    brandenburg_gate;38600512_2168650655-17262282_...   \n",
       "4    brandenburg_gate;60770994_853214983-17262282_1...   \n",
       "..                                                 ...   \n",
       "124  brandenburg_gate;60824110_1469539304-08468928_...   \n",
       "125  brandenburg_gate;66720928_3418295149-20133057_...   \n",
       "126  brandenburg_gate;66720928_3418295149-02936509_...   \n",
       "127  brandenburg_gate;66720928_3418295149-08814095_...   \n",
       "128  brandenburg_gate;67266149_8114963267-20133057_...   \n",
       "\n",
       "                                    fundamental_matrix  \\\n",
       "0    [12.727305249369623, 129.8952782434918, 33.798...   \n",
       "1    [0.8136154091033959, 1.4789251634568656, 1.624...   \n",
       "2    [8.050046364629091, 30.007080418407753, 8.7334...   \n",
       "3    [1.9424634411315012, -11.466641154098864, -0.9...   \n",
       "4    [-12.213286566785511, -55.69894294595479, -16....   \n",
       "..                                                 ...   \n",
       "124  [-8.213053501459155, 146.14638226789347, 38.72...   \n",
       "125  [20.700259524451795, -558.3868505686797, -136....   \n",
       "126  [2.1700889810077104, 390.277154039344, -15.016...   \n",
       "127  [43.12498319973662, -238.8020090557619, -49.64...   \n",
       "128  [-18.63759057113084, 38.4979295838429, 3.62039...   \n",
       "\n",
       "                                                  mask  \\\n",
       "0    [[1], [1], [1], [1], [1], [1], [1], [1], [1], ...   \n",
       "1    [[1], [1], [1], [1], [1], [1], [1], [1], [1], ...   \n",
       "2    [[1], [1], [1], [1], [1], [1], [1], [1], [1], ...   \n",
       "3    [[1], [1], [1], [1], [1], [1], [1], [1], [1], ...   \n",
       "4    [[1], [1], [1], [1], [1], [1], [1], [1], [1], ...   \n",
       "..                                                 ...   \n",
       "124  [[1], [1], [1], [1], [1], [1], [1], [1], [1], ...   \n",
       "125  [[1], [1], [1], [1], [1], [1], [1], [1], [1], ...   \n",
       "126  [[1], [1], [1], [1], [1], [1], [1], [1], [1], ...   \n",
       "127  [[1], [1], [1], [1], [1], [1], [1], [1], [1], ...   \n",
       "128  [[1], [1], [1], [1], [1], [1], [1], [1], [1], ...   \n",
       "\n",
       "                                              inliers1  \\\n",
       "0    [[-0.449611, -0.054365], [-0.440867, -0.181743...   \n",
       "1    [[-0.449611, -0.054365], [-0.44568, -0.184222]...   \n",
       "2    [[-0.47035, -0.043227], [-0.466144, -0.055466]...   \n",
       "3    [[-0.472237, -0.062819], [-0.45875, -0.189936]...   \n",
       "4    [[-0.539844, -0.200452], [-0.539009, -0.199829...   \n",
       "..                                                 ...   \n",
       "124  [[-0.399234, 0.129181], [-0.393517, -0.116796]...   \n",
       "125  [[-0.451147, -0.031407], [-0.43672, -0.079455]...   \n",
       "126  [[-0.44896, -0.088448], [-0.43465, 0.031499], ...   \n",
       "127  [[-0.455657, -0.079186], [-0.444088, -0.04479]...   \n",
       "128  [[-0.276308, -0.043104], [-0.276035, -0.046047...   \n",
       "\n",
       "                                              inliers2  \n",
       "0    [[-0.466144, -0.055466], [-0.455768, -0.185925...  \n",
       "1    [[-0.461805, -0.083045], [-0.021437, -0.182804...  \n",
       "2    [[-0.467542, -0.070519], [-0.461805, -0.083045...  \n",
       "3    [[-0.206424, -0.179398], [-0.021437, -0.182804...  \n",
       "4    [[-0.021437, -0.182804], [-0.021437, -0.182804...  \n",
       "..                                                 ...  \n",
       "124  [[-0.241999, -0.202796], [-0.379758, -0.080159...  \n",
       "125  [[-0.044686, -0.09846], [-0.466144, -0.055466]...  \n",
       "126  [[-0.422117, -0.320985], [-0.258219, -0.349716...  \n",
       "127  [[-0.480328, -0.073369], [-0.463585, -0.038242...  \n",
       "128  [[-0.465918, -0.050111], [-0.466144, -0.055466...  \n",
       "\n",
       "[129 rows x 5 columns]"
      ]
     },
     "execution_count": 25,
     "metadata": {},
     "output_type": "execute_result"
    }
   ],
   "source": [
    "sub"
   ]
  },
  {
   "cell_type": "code",
   "execution_count": 27,
   "metadata": {},
   "outputs": [
    {
     "data": {
      "text/plain": [
       "<module 'utils.estimator_util' from '/Users/yoav/Documents/Yoav/CS/22928 - Intro to CV/cv-final/utils/estimator_util.py'>"
      ]
     },
     "execution_count": 27,
     "metadata": {},
     "output_type": "execute_result"
    }
   ],
   "source": [
    "importlib.reload(du)\n",
    "importlib.reload(exu)\n",
    "importlib.reload(esu)\n"
   ]
  },
  {
   "cell_type": "code",
   "execution_count": 28,
   "metadata": {},
   "outputs": [
    {
     "data": {
      "text/plain": [
       "<module 'wrappers' from '/Users/yoav/Documents/Yoav/CS/22928 - Intro to CV/cv-final/wrappers.py'>"
      ]
     },
     "execution_count": 28,
     "metadata": {},
     "output_type": "execute_result"
    }
   ],
   "source": [
    "import utils.evaluation_util as evu\n",
    "importlib.reload(wrp)\n"
   ]
  },
  {
   "cell_type": "code",
   "execution_count": 34,
   "metadata": {},
   "outputs": [],
   "source": [
    "scaling_data = pd.read_csv(os.path.join(EXT_DATA_DIR, 'train/scaling_factors.csv'), index_col=0).set_index('scene')"
   ]
  },
  {
   "cell_type": "code",
   "execution_count": 35,
   "metadata": {},
   "outputs": [
    {
     "data": {
      "text/html": [
       "<div>\n",
       "<style scoped>\n",
       "    .dataframe tbody tr th:only-of-type {\n",
       "        vertical-align: middle;\n",
       "    }\n",
       "\n",
       "    .dataframe tbody tr th {\n",
       "        vertical-align: top;\n",
       "    }\n",
       "\n",
       "    .dataframe thead th {\n",
       "        text-align: right;\n",
       "    }\n",
       "</style>\n",
       "<table border=\"1\" class=\"dataframe\">\n",
       "  <thead>\n",
       "    <tr style=\"text-align: right;\">\n",
       "      <th></th>\n",
       "      <th>scaling_factor</th>\n",
       "    </tr>\n",
       "    <tr>\n",
       "      <th>scene</th>\n",
       "      <th></th>\n",
       "    </tr>\n",
       "  </thead>\n",
       "  <tbody>\n",
       "    <tr>\n",
       "      <th>sagrada_familia</th>\n",
       "      <td>4.200</td>\n",
       "    </tr>\n",
       "    <tr>\n",
       "      <th>british_museum</th>\n",
       "      <td>2.517</td>\n",
       "    </tr>\n",
       "    <tr>\n",
       "      <th>taj_mahal</th>\n",
       "      <td>20.760</td>\n",
       "    </tr>\n",
       "    <tr>\n",
       "      <th>lincoln_memorial_statue</th>\n",
       "      <td>1.850</td>\n",
       "    </tr>\n",
       "    <tr>\n",
       "      <th>buckingham_palace</th>\n",
       "      <td>18.750</td>\n",
       "    </tr>\n",
       "    <tr>\n",
       "      <th>trevi_fountain</th>\n",
       "      <td>3.670</td>\n",
       "    </tr>\n",
       "    <tr>\n",
       "      <th>pantheon_exterior</th>\n",
       "      <td>5.410</td>\n",
       "    </tr>\n",
       "    <tr>\n",
       "      <th>temple_nara_japan</th>\n",
       "      <td>7.790</td>\n",
       "    </tr>\n",
       "    <tr>\n",
       "      <th>notre_dame_front_facade</th>\n",
       "      <td>1.360</td>\n",
       "    </tr>\n",
       "    <tr>\n",
       "      <th>colosseum_exterior</th>\n",
       "      <td>36.990</td>\n",
       "    </tr>\n",
       "    <tr>\n",
       "      <th>sacre_coeur</th>\n",
       "      <td>20.270</td>\n",
       "    </tr>\n",
       "    <tr>\n",
       "      <th>brandenburg_gate</th>\n",
       "      <td>7.380</td>\n",
       "    </tr>\n",
       "  </tbody>\n",
       "</table>\n",
       "</div>"
      ],
      "text/plain": [
       "                         scaling_factor\n",
       "scene                                  \n",
       "sagrada_familia                   4.200\n",
       "british_museum                    2.517\n",
       "taj_mahal                        20.760\n",
       "lincoln_memorial_statue           1.850\n",
       "buckingham_palace                18.750\n",
       "trevi_fountain                    3.670\n",
       "pantheon_exterior                 5.410\n",
       "temple_nara_japan                 7.790\n",
       "notre_dame_front_facade           1.360\n",
       "colosseum_exterior               36.990\n",
       "sacre_coeur                      20.270\n",
       "brandenburg_gate                  7.380"
      ]
     },
     "execution_count": 35,
     "metadata": {},
     "output_type": "execute_result"
    }
   ],
   "source": [
    "scaling_data"
   ]
  },
  {
   "cell_type": "code",
   "execution_count": 29,
   "metadata": {},
   "outputs": [
    {
     "name": "stdout",
     "output_type": "stream",
     "text": [
      "Evaluating for brandenburg_gate\n"
     ]
    },
    {
     "ename": "TypeError",
     "evalue": "compute_error_for_pair() missing 1 required positional argument: 'scale'",
     "output_type": "error",
     "traceback": [
      "\u001b[0;31m---------------------------------------------------------------------------\u001b[0m",
      "\u001b[0;31mTypeError\u001b[0m                                 Traceback (most recent call last)",
      "Cell \u001b[0;32mIn[29], line 1\u001b[0m\n\u001b[0;32m----> 1\u001b[0m \u001b[43mwrp\u001b[49m\u001b[38;5;241;43m.\u001b[39;49m\u001b[43mevaluate_results\u001b[49m\u001b[43m(\u001b[49m\u001b[43mdataset\u001b[49m\u001b[43m,\u001b[49m\u001b[43m \u001b[49m\u001b[43msub\u001b[49m\u001b[43m)\u001b[49m\n",
      "File \u001b[0;32m~/Documents/Yoav/CS/22928 - Intro to CV/cv-final/wrappers.py:208\u001b[0m, in \u001b[0;36mevaluate_results\u001b[0;34m(dataset, results)\u001b[0m\n\u001b[1;32m    205\u001b[0m     rel_results[\u001b[38;5;124m'\u001b[39m\u001b[38;5;124mq_gt\u001b[39m\u001b[38;5;124m'\u001b[39m] \u001b[38;5;241m=\u001b[39m rel_results[\u001b[38;5;124m'\u001b[39m\u001b[38;5;124mdR_gt\u001b[39m\u001b[38;5;124m'\u001b[39m]\u001b[38;5;241m.\u001b[39mapply(\u001b[38;5;28;01mlambda\u001b[39;00m dR_gt: evu\u001b[38;5;241m.\u001b[39mquaternion_from_matrix(dR_gt))\n\u001b[1;32m    206\u001b[0m     rel_results[\u001b[38;5;124m'\u001b[39m\u001b[38;5;124mq_gt\u001b[39m\u001b[38;5;124m'\u001b[39m] \u001b[38;5;241m=\u001b[39m rel_results[\u001b[38;5;124m'\u001b[39m\u001b[38;5;124mq_gt\u001b[39m\u001b[38;5;124m'\u001b[39m]\u001b[38;5;241m.\u001b[39mapply(\u001b[38;5;28;01mlambda\u001b[39;00m q_gt: q_gt \u001b[38;5;241m/\u001b[39m (np\u001b[38;5;241m.\u001b[39mlinalg\u001b[38;5;241m.\u001b[39mnorm(q_gt) \u001b[38;5;241m+\u001b[39m np\u001b[38;5;241m.\u001b[39mfinfo(\u001b[38;5;28mfloat\u001b[39m)\u001b[38;5;241m.\u001b[39meps))\n\u001b[0;32m--> 208\u001b[0m     rel_results[\u001b[38;5;124m'\u001b[39m\u001b[38;5;124merror\u001b[39m\u001b[38;5;124m'\u001b[39m] \u001b[38;5;241m=\u001b[39m \u001b[43mrel_results\u001b[49m\u001b[38;5;241;43m.\u001b[39;49m\u001b[43mapply\u001b[49m\u001b[43m(\u001b[49m\u001b[38;5;28;43;01mlambda\u001b[39;49;00m\u001b[43m \u001b[49m\u001b[43mrow\u001b[49m\u001b[43m:\u001b[49m\u001b[43m \u001b[49m\u001b[43mevu\u001b[49m\u001b[38;5;241;43m.\u001b[39;49m\u001b[43mcompute_error_for_pair\u001b[49m\u001b[43m(\u001b[49m\u001b[43mrow\u001b[49m\u001b[43m[\u001b[49m\u001b[38;5;124;43m'\u001b[39;49m\u001b[38;5;124;43mq\u001b[39;49m\u001b[38;5;124;43m'\u001b[39;49m\u001b[43m]\u001b[49m\u001b[43m,\u001b[49m\u001b[43m \u001b[49m\u001b[43mrow\u001b[49m\u001b[43m[\u001b[49m\u001b[38;5;124;43m'\u001b[39;49m\u001b[38;5;124;43mT\u001b[39;49m\u001b[38;5;124;43m'\u001b[39;49m\u001b[43m]\u001b[49m\u001b[43m,\u001b[49m\u001b[43m \u001b[49m\u001b[43mrow\u001b[49m\u001b[43m[\u001b[49m\u001b[38;5;124;43m'\u001b[39;49m\u001b[38;5;124;43mq_gt\u001b[39;49m\u001b[38;5;124;43m'\u001b[39;49m\u001b[43m]\u001b[49m\u001b[43m,\u001b[49m\u001b[43m \u001b[49m\u001b[43mrow\u001b[49m\u001b[43m[\u001b[49m\u001b[38;5;124;43m'\u001b[39;49m\u001b[38;5;124;43mdT_gt\u001b[39;49m\u001b[38;5;124;43m'\u001b[39;49m\u001b[43m]\u001b[49m\u001b[43m)\u001b[49m\u001b[43m,\u001b[49m\u001b[43m \u001b[49m\u001b[43maxis\u001b[49m\u001b[38;5;241;43m=\u001b[39;49m\u001b[38;5;241;43m1\u001b[39;49m\u001b[43m)\u001b[49m\n\u001b[1;32m    210\u001b[0m     results\u001b[38;5;241m.\u001b[39mupdate(rel_results)\n\u001b[1;32m    212\u001b[0m results[\u001b[38;5;124m'\u001b[39m\u001b[38;5;124mmean_average_acc_per_scene\u001b[39m\u001b[38;5;124m'\u001b[39m] \u001b[38;5;241m=\u001b[39m results\u001b[38;5;241m.\u001b[39mgroupby(results[\u001b[38;5;124m'\u001b[39m\u001b[38;5;124msample_id\u001b[39m\u001b[38;5;124m'\u001b[39m]\u001b[38;5;241m.\u001b[39mstr\u001b[38;5;241m.\u001b[39msplit(\u001b[38;5;124m'\u001b[39m\u001b[38;5;124m;\u001b[39m\u001b[38;5;124m'\u001b[39m)\u001b[38;5;241m.\u001b[39mstr[\u001b[38;5;241m0\u001b[39m])[\u001b[38;5;124m'\u001b[39m\u001b[38;5;124merror\u001b[39m\u001b[38;5;124m'\u001b[39m]\u001b[38;5;241m.\u001b[39mtransform(\u001b[38;5;28;01mlambda\u001b[39;00m x: evu\u001b[38;5;241m.\u001b[39mcompute_mean_average_acc(x))\n",
      "File \u001b[0;32m~/Documents/Yoav/CS/22928 - Intro to CV/cv-final/proj/lib/python3.13/site-packages/pandas/core/frame.py:10374\u001b[0m, in \u001b[0;36mDataFrame.apply\u001b[0;34m(self, func, axis, raw, result_type, args, by_row, engine, engine_kwargs, **kwargs)\u001b[0m\n\u001b[1;32m  10360\u001b[0m \u001b[38;5;28;01mfrom\u001b[39;00m \u001b[38;5;21;01mpandas\u001b[39;00m\u001b[38;5;21;01m.\u001b[39;00m\u001b[38;5;21;01mcore\u001b[39;00m\u001b[38;5;21;01m.\u001b[39;00m\u001b[38;5;21;01mapply\u001b[39;00m \u001b[38;5;28;01mimport\u001b[39;00m frame_apply\n\u001b[1;32m  10362\u001b[0m op \u001b[38;5;241m=\u001b[39m frame_apply(\n\u001b[1;32m  10363\u001b[0m     \u001b[38;5;28mself\u001b[39m,\n\u001b[1;32m  10364\u001b[0m     func\u001b[38;5;241m=\u001b[39mfunc,\n\u001b[0;32m   (...)\u001b[0m\n\u001b[1;32m  10372\u001b[0m     kwargs\u001b[38;5;241m=\u001b[39mkwargs,\n\u001b[1;32m  10373\u001b[0m )\n\u001b[0;32m> 10374\u001b[0m \u001b[38;5;28;01mreturn\u001b[39;00m \u001b[43mop\u001b[49m\u001b[38;5;241;43m.\u001b[39;49m\u001b[43mapply\u001b[49m\u001b[43m(\u001b[49m\u001b[43m)\u001b[49m\u001b[38;5;241m.\u001b[39m__finalize__(\u001b[38;5;28mself\u001b[39m, method\u001b[38;5;241m=\u001b[39m\u001b[38;5;124m\"\u001b[39m\u001b[38;5;124mapply\u001b[39m\u001b[38;5;124m\"\u001b[39m)\n",
      "File \u001b[0;32m~/Documents/Yoav/CS/22928 - Intro to CV/cv-final/proj/lib/python3.13/site-packages/pandas/core/apply.py:916\u001b[0m, in \u001b[0;36mFrameApply.apply\u001b[0;34m(self)\u001b[0m\n\u001b[1;32m    913\u001b[0m \u001b[38;5;28;01melif\u001b[39;00m \u001b[38;5;28mself\u001b[39m\u001b[38;5;241m.\u001b[39mraw:\n\u001b[1;32m    914\u001b[0m     \u001b[38;5;28;01mreturn\u001b[39;00m \u001b[38;5;28mself\u001b[39m\u001b[38;5;241m.\u001b[39mapply_raw(engine\u001b[38;5;241m=\u001b[39m\u001b[38;5;28mself\u001b[39m\u001b[38;5;241m.\u001b[39mengine, engine_kwargs\u001b[38;5;241m=\u001b[39m\u001b[38;5;28mself\u001b[39m\u001b[38;5;241m.\u001b[39mengine_kwargs)\n\u001b[0;32m--> 916\u001b[0m \u001b[38;5;28;01mreturn\u001b[39;00m \u001b[38;5;28;43mself\u001b[39;49m\u001b[38;5;241;43m.\u001b[39;49m\u001b[43mapply_standard\u001b[49m\u001b[43m(\u001b[49m\u001b[43m)\u001b[49m\n",
      "File \u001b[0;32m~/Documents/Yoav/CS/22928 - Intro to CV/cv-final/proj/lib/python3.13/site-packages/pandas/core/apply.py:1063\u001b[0m, in \u001b[0;36mFrameApply.apply_standard\u001b[0;34m(self)\u001b[0m\n\u001b[1;32m   1061\u001b[0m \u001b[38;5;28;01mdef\u001b[39;00m \u001b[38;5;21mapply_standard\u001b[39m(\u001b[38;5;28mself\u001b[39m):\n\u001b[1;32m   1062\u001b[0m     \u001b[38;5;28;01mif\u001b[39;00m \u001b[38;5;28mself\u001b[39m\u001b[38;5;241m.\u001b[39mengine \u001b[38;5;241m==\u001b[39m \u001b[38;5;124m\"\u001b[39m\u001b[38;5;124mpython\u001b[39m\u001b[38;5;124m\"\u001b[39m:\n\u001b[0;32m-> 1063\u001b[0m         results, res_index \u001b[38;5;241m=\u001b[39m \u001b[38;5;28;43mself\u001b[39;49m\u001b[38;5;241;43m.\u001b[39;49m\u001b[43mapply_series_generator\u001b[49m\u001b[43m(\u001b[49m\u001b[43m)\u001b[49m\n\u001b[1;32m   1064\u001b[0m     \u001b[38;5;28;01melse\u001b[39;00m:\n\u001b[1;32m   1065\u001b[0m         results, res_index \u001b[38;5;241m=\u001b[39m \u001b[38;5;28mself\u001b[39m\u001b[38;5;241m.\u001b[39mapply_series_numba()\n",
      "File \u001b[0;32m~/Documents/Yoav/CS/22928 - Intro to CV/cv-final/proj/lib/python3.13/site-packages/pandas/core/apply.py:1081\u001b[0m, in \u001b[0;36mFrameApply.apply_series_generator\u001b[0;34m(self)\u001b[0m\n\u001b[1;32m   1078\u001b[0m \u001b[38;5;28;01mwith\u001b[39;00m option_context(\u001b[38;5;124m\"\u001b[39m\u001b[38;5;124mmode.chained_assignment\u001b[39m\u001b[38;5;124m\"\u001b[39m, \u001b[38;5;28;01mNone\u001b[39;00m):\n\u001b[1;32m   1079\u001b[0m     \u001b[38;5;28;01mfor\u001b[39;00m i, v \u001b[38;5;129;01min\u001b[39;00m \u001b[38;5;28menumerate\u001b[39m(series_gen):\n\u001b[1;32m   1080\u001b[0m         \u001b[38;5;66;03m# ignore SettingWithCopy here in case the user mutates\u001b[39;00m\n\u001b[0;32m-> 1081\u001b[0m         results[i] \u001b[38;5;241m=\u001b[39m \u001b[38;5;28;43mself\u001b[39;49m\u001b[38;5;241;43m.\u001b[39;49m\u001b[43mfunc\u001b[49m\u001b[43m(\u001b[49m\u001b[43mv\u001b[49m\u001b[43m,\u001b[49m\u001b[43m \u001b[49m\u001b[38;5;241;43m*\u001b[39;49m\u001b[38;5;28;43mself\u001b[39;49m\u001b[38;5;241;43m.\u001b[39;49m\u001b[43margs\u001b[49m\u001b[43m,\u001b[49m\u001b[43m \u001b[49m\u001b[38;5;241;43m*\u001b[39;49m\u001b[38;5;241;43m*\u001b[39;49m\u001b[38;5;28;43mself\u001b[39;49m\u001b[38;5;241;43m.\u001b[39;49m\u001b[43mkwargs\u001b[49m\u001b[43m)\u001b[49m\n\u001b[1;32m   1082\u001b[0m         \u001b[38;5;28;01mif\u001b[39;00m \u001b[38;5;28misinstance\u001b[39m(results[i], ABCSeries):\n\u001b[1;32m   1083\u001b[0m             \u001b[38;5;66;03m# If we have a view on v, we need to make a copy because\u001b[39;00m\n\u001b[1;32m   1084\u001b[0m             \u001b[38;5;66;03m#  series_generator will swap out the underlying data\u001b[39;00m\n\u001b[1;32m   1085\u001b[0m             results[i] \u001b[38;5;241m=\u001b[39m results[i]\u001b[38;5;241m.\u001b[39mcopy(deep\u001b[38;5;241m=\u001b[39m\u001b[38;5;28;01mFalse\u001b[39;00m)\n",
      "File \u001b[0;32m~/Documents/Yoav/CS/22928 - Intro to CV/cv-final/wrappers.py:208\u001b[0m, in \u001b[0;36mevaluate_results.<locals>.<lambda>\u001b[0;34m(row)\u001b[0m\n\u001b[1;32m    205\u001b[0m     rel_results[\u001b[38;5;124m'\u001b[39m\u001b[38;5;124mq_gt\u001b[39m\u001b[38;5;124m'\u001b[39m] \u001b[38;5;241m=\u001b[39m rel_results[\u001b[38;5;124m'\u001b[39m\u001b[38;5;124mdR_gt\u001b[39m\u001b[38;5;124m'\u001b[39m]\u001b[38;5;241m.\u001b[39mapply(\u001b[38;5;28;01mlambda\u001b[39;00m dR_gt: evu\u001b[38;5;241m.\u001b[39mquaternion_from_matrix(dR_gt))\n\u001b[1;32m    206\u001b[0m     rel_results[\u001b[38;5;124m'\u001b[39m\u001b[38;5;124mq_gt\u001b[39m\u001b[38;5;124m'\u001b[39m] \u001b[38;5;241m=\u001b[39m rel_results[\u001b[38;5;124m'\u001b[39m\u001b[38;5;124mq_gt\u001b[39m\u001b[38;5;124m'\u001b[39m]\u001b[38;5;241m.\u001b[39mapply(\u001b[38;5;28;01mlambda\u001b[39;00m q_gt: q_gt \u001b[38;5;241m/\u001b[39m (np\u001b[38;5;241m.\u001b[39mlinalg\u001b[38;5;241m.\u001b[39mnorm(q_gt) \u001b[38;5;241m+\u001b[39m np\u001b[38;5;241m.\u001b[39mfinfo(\u001b[38;5;28mfloat\u001b[39m)\u001b[38;5;241m.\u001b[39meps))\n\u001b[0;32m--> 208\u001b[0m     rel_results[\u001b[38;5;124m'\u001b[39m\u001b[38;5;124merror\u001b[39m\u001b[38;5;124m'\u001b[39m] \u001b[38;5;241m=\u001b[39m rel_results\u001b[38;5;241m.\u001b[39mapply(\u001b[38;5;28;01mlambda\u001b[39;00m row: \u001b[43mevu\u001b[49m\u001b[38;5;241;43m.\u001b[39;49m\u001b[43mcompute_error_for_pair\u001b[49m\u001b[43m(\u001b[49m\u001b[43mrow\u001b[49m\u001b[43m[\u001b[49m\u001b[38;5;124;43m'\u001b[39;49m\u001b[38;5;124;43mq\u001b[39;49m\u001b[38;5;124;43m'\u001b[39;49m\u001b[43m]\u001b[49m\u001b[43m,\u001b[49m\u001b[43m \u001b[49m\u001b[43mrow\u001b[49m\u001b[43m[\u001b[49m\u001b[38;5;124;43m'\u001b[39;49m\u001b[38;5;124;43mT\u001b[39;49m\u001b[38;5;124;43m'\u001b[39;49m\u001b[43m]\u001b[49m\u001b[43m,\u001b[49m\u001b[43m \u001b[49m\u001b[43mrow\u001b[49m\u001b[43m[\u001b[49m\u001b[38;5;124;43m'\u001b[39;49m\u001b[38;5;124;43mq_gt\u001b[39;49m\u001b[38;5;124;43m'\u001b[39;49m\u001b[43m]\u001b[49m\u001b[43m,\u001b[49m\u001b[43m \u001b[49m\u001b[43mrow\u001b[49m\u001b[43m[\u001b[49m\u001b[38;5;124;43m'\u001b[39;49m\u001b[38;5;124;43mdT_gt\u001b[39;49m\u001b[38;5;124;43m'\u001b[39;49m\u001b[43m]\u001b[49m\u001b[43m)\u001b[49m, axis\u001b[38;5;241m=\u001b[39m\u001b[38;5;241m1\u001b[39m)\n\u001b[1;32m    210\u001b[0m     results\u001b[38;5;241m.\u001b[39mupdate(rel_results)\n\u001b[1;32m    212\u001b[0m results[\u001b[38;5;124m'\u001b[39m\u001b[38;5;124mmean_average_acc_per_scene\u001b[39m\u001b[38;5;124m'\u001b[39m] \u001b[38;5;241m=\u001b[39m results\u001b[38;5;241m.\u001b[39mgroupby(results[\u001b[38;5;124m'\u001b[39m\u001b[38;5;124msample_id\u001b[39m\u001b[38;5;124m'\u001b[39m]\u001b[38;5;241m.\u001b[39mstr\u001b[38;5;241m.\u001b[39msplit(\u001b[38;5;124m'\u001b[39m\u001b[38;5;124m;\u001b[39m\u001b[38;5;124m'\u001b[39m)\u001b[38;5;241m.\u001b[39mstr[\u001b[38;5;241m0\u001b[39m])[\u001b[38;5;124m'\u001b[39m\u001b[38;5;124merror\u001b[39m\u001b[38;5;124m'\u001b[39m]\u001b[38;5;241m.\u001b[39mtransform(\u001b[38;5;28;01mlambda\u001b[39;00m x: evu\u001b[38;5;241m.\u001b[39mcompute_mean_average_acc(x))\n",
      "\u001b[0;31mTypeError\u001b[0m: compute_error_for_pair() missing 1 required positional argument: 'scale'"
     ]
    }
   ],
   "source": [
    "wrp.evaluate_results(dataset, sub, scaling=scaling_data)"
   ]
  },
  {
   "cell_type": "code",
   "execution_count": null,
   "metadata": {},
   "outputs": [],
   "source": []
  }
 ],
 "metadata": {
  "kernelspec": {
   "display_name": "Python 3 (ipykernel)",
   "language": "python",
   "name": "python3"
  },
  "language_info": {
   "codemirror_mode": {
    "name": "ipython",
    "version": 3
   },
   "file_extension": ".py",
   "mimetype": "text/x-python",
   "name": "python",
   "nbconvert_exporter": "python",
   "pygments_lexer": "ipython3",
   "version": "3.13.0"
  }
 },
 "nbformat": 4,
 "nbformat_minor": 2
}

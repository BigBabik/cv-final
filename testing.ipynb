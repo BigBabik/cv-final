{
 "cells": [
  {
   "cell_type": "code",
   "execution_count": 1,
   "metadata": {},
   "outputs": [],
   "source": [
    "import pandas as pd\n",
    "from utils import data_util as du, preproc_utils as pu, extractor_util as exu, estimator_util as esu, evaluation_util as evu\n",
    "import importlib\n",
    "from typing import List, Dict, Any\n",
    "import wrappers as wrp\n",
    "import os\n",
    "import numpy as np"
   ]
  },
  {
   "cell_type": "code",
   "execution_count": 2,
   "metadata": {},
   "outputs": [],
   "source": [
    "DATA_SRC_DIR = '/Users/yoav/Documents/Yoav/CS/22928 - Intro to CV/cv-final/data'\n",
    "EXT_DATA_DIR = '/Users/yoav/Documents/Yoav/CS/22928 - Intro to CV/cv-final/data/external'\n",
    "INT_DATA_DIR = '/Users/yoav/Documents/Yoav/CS/22928 - Intro to CV/cv-final/data/internal'"
   ]
  },
  {
   "cell_type": "code",
   "execution_count": 3,
   "metadata": {},
   "outputs": [
    {
     "data": {
      "text/plain": [
       "<module 'utils.estimator_util' from '/Users/yoav/Documents/Yoav/CS/22928 - Intro to CV/cv-final/utils/estimator_util.py'>"
      ]
     },
     "execution_count": 3,
     "metadata": {},
     "output_type": "execute_result"
    }
   ],
   "source": [
    "importlib.reload(wrp)\n",
    "importlib.reload(du)\n",
    "importlib.reload(exu)\n",
    "importlib.reload(esu)"
   ]
  },
  {
   "cell_type": "code",
   "execution_count": 4,
   "metadata": {},
   "outputs": [],
   "source": [
    "# Usage example\n",
    "dataset = du.DatasetLoader(EXT_DATA_DIR)"
   ]
  },
  {
   "cell_type": "code",
   "execution_count": 5,
   "metadata": {},
   "outputs": [
    {
     "data": {
      "text/plain": [
       "{}"
      ]
     },
     "execution_count": 5,
     "metadata": {},
     "output_type": "execute_result"
    }
   ],
   "source": [
    "dataset.scenes_data"
   ]
  },
  {
   "cell_type": "code",
   "execution_count": 5,
   "metadata": {},
   "outputs": [],
   "source": [
    "# Usage\n",
    "config = pu.PreprocessConfig(size=(512, 512), normalize=False)\n",
    "preprocessor = pu.ImagePreprocessor(config)"
   ]
  },
  {
   "cell_type": "code",
   "execution_count": 6,
   "metadata": {},
   "outputs": [
    {
     "ename": "NameError",
     "evalue": "name 'DatasetLoader' is not defined",
     "output_type": "error",
     "traceback": [
      "\u001b[0;31m---------------------------------------------------------------------------\u001b[0m",
      "\u001b[0;31mNameError\u001b[0m                                 Traceback (most recent call last)",
      "Cell \u001b[0;32mIn[6], line 1\u001b[0m\n\u001b[0;32m----> 1\u001b[0m \u001b[38;5;28;01mdef\u001b[39;00m \u001b[38;5;21msample_pairs_for_run\u001b[39m(dataset: \u001b[43mDatasetLoader\u001b[49m, max_pairs_per_scene: \u001b[38;5;28mint\u001b[39m, covisibility_threshold: \u001b[38;5;28mfloat\u001b[39m \u001b[38;5;241m=\u001b[39m \u001b[38;5;241m0.1\u001b[39m):\n\u001b[1;32m      2\u001b[0m \u001b[38;5;250m    \u001b[39m\u001b[38;5;124;03m\"\"\"\u001b[39;00m\n\u001b[1;32m      3\u001b[0m \u001b[38;5;124;03m    Called after preprocessing so dataset already has scenes_data populated\u001b[39;00m\n\u001b[1;32m      4\u001b[0m \u001b[38;5;124;03m    \"\"\"\u001b[39;00m\n\u001b[1;32m      5\u001b[0m     \u001b[38;5;28;01mfor\u001b[39;00m scene \u001b[38;5;129;01min\u001b[39;00m dataset\u001b[38;5;241m.\u001b[39mscenes_data:\n",
      "\u001b[0;31mNameError\u001b[0m: name 'DatasetLoader' is not defined"
     ]
    }
   ],
   "source": [
    "def sample_pairs_for_run(dataset: du.DatasetLoader, max_pairs_per_scene: int, covisibility_threshold: float = 0.1):\n",
    "    \"\"\"\n",
    "    Called after preprocessing so dataset already has scenes_data populated\n",
    "    \"\"\"\n",
    "    for scene in dataset.scenes_data:\n",
    "        scene_data = dataset.scenes_data[scene]\n",
    "        valid_pairs = scene_data.covisibility[scene_data.covisibility['covisibility'] > covisibility_threshold]\n",
    "        print(f'[-] Processing scene \"{scene}\": found {len(valid_pairs)} pairs (will keep {min(len(valid_pairs), max_pairs_per_scene)})', flush=True)\n",
    "\n",
    "        random.shuffle(valid_pairs)\n",
    "        valid_pairs = valid_pairs[:max_pairs_per_scene]"
   ]
  },
  {
   "cell_type": "code",
   "execution_count": null,
   "metadata": {},
   "outputs": [],
   "source": []
  },
  {
   "cell_type": "code",
   "execution_count": null,
   "metadata": {},
   "outputs": [],
   "source": []
  },
  {
   "cell_type": "code",
   "execution_count": null,
   "metadata": {},
   "outputs": [],
   "source": []
  },
  {
   "cell_type": "code",
   "execution_count": null,
   "metadata": {},
   "outputs": [],
   "source": []
  },
  {
   "cell_type": "code",
   "execution_count": null,
   "metadata": {},
   "outputs": [],
   "source": []
  },
  {
   "cell_type": "code",
   "execution_count": null,
   "metadata": {},
   "outputs": [],
   "source": []
  },
  {
   "cell_type": "code",
   "execution_count": null,
   "metadata": {},
   "outputs": [],
   "source": []
  },
  {
   "cell_type": "code",
   "execution_count": 6,
   "metadata": {},
   "outputs": [],
   "source": [
    "default_sift_config = exu.SIFTConfig()\n",
    "extractor_config = exu.FeatureExtractorConfig(default_sift_config)\n",
    "extractor = exu.FeatureExtractor(config=extractor_config)"
   ]
  },
  {
   "cell_type": "code",
   "execution_count": 7,
   "metadata": {},
   "outputs": [],
   "source": [
    "dataset = wrp.load_dataset(EXT_DATA_DIR)"
   ]
  },
  {
   "cell_type": "code",
   "execution_count": 8,
   "metadata": {},
   "outputs": [],
   "source": [
    "dataset = wrp.preprocess_data(dataset, preprocessor, extractor)"
   ]
  },
  {
   "cell_type": "code",
   "execution_count": null,
   "metadata": {},
   "outputs": [],
   "source": [
    "dataset."
   ]
  },
  {
   "cell_type": "code",
   "execution_count": 9,
   "metadata": {},
   "outputs": [],
   "source": [
    "dataset = wrp.extract_features(dataset, extractor)"
   ]
  },
  {
   "cell_type": "code",
   "execution_count": 10,
   "metadata": {},
   "outputs": [],
   "source": [
    "bf_config = exu.BFMatcherConfig(knn=True)\n",
    "matcher_config = exu.MatcherConfig(bf_config)"
   ]
  },
  {
   "cell_type": "code",
   "execution_count": 11,
   "metadata": {},
   "outputs": [],
   "source": [
    "matcher = exu.FeatureMatcher(matcher_config)"
   ]
  },
  {
   "cell_type": "code",
   "execution_count": 12,
   "metadata": {},
   "outputs": [
    {
     "name": "stdout",
     "output_type": "stream",
     "text": [
      "Matching features for scene: brandenburg_gate\n",
      "There are 129 valid pairs to estimate for\n"
     ]
    }
   ],
   "source": [
    "wrp.match_features(dataset, matcher, covisibility_threshold=0.8)"
   ]
  },
  {
   "cell_type": "code",
   "execution_count": 13,
   "metadata": {},
   "outputs": [],
   "source": [
    "es_alg_conf = esu.RANSACConfig()\n",
    "es_conf = esu.EstimatorConfig('RANSAC', es_alg_conf)"
   ]
  },
  {
   "cell_type": "code",
   "execution_count": 14,
   "metadata": {},
   "outputs": [],
   "source": [
    "list1 = [(1, 2), (3, 4), (5, 6), (7, 8), (9, 10), (11, 12), (13, 14), (15, 16)]\n",
    "list2 = [(17, 18), (19, 20), (21, 22), (23, 24), (25, 26), (27, 28), (29, 30), (31, 32)]"
   ]
  },
  {
   "cell_type": "code",
   "execution_count": 15,
   "metadata": {},
   "outputs": [],
   "source": [
    "fe = esu.FundamentalMatrixEstimator(list1, list2, es_conf)"
   ]
  },
  {
   "cell_type": "code",
   "execution_count": 16,
   "metadata": {},
   "outputs": [
    {
     "data": {
      "text/plain": [
       "<module 'wrappers' from '/Users/yoav/Documents/Yoav/CS/22928 - Intro to CV/cv-final/wrappers.py'>"
      ]
     },
     "execution_count": 16,
     "metadata": {},
     "output_type": "execute_result"
    }
   ],
   "source": [
    "importlib.reload(wrp)\n",
    " "
   ]
  },
  {
   "cell_type": "code",
   "execution_count": 17,
   "metadata": {},
   "outputs": [
    {
     "name": "stdout",
     "output_type": "stream",
     "text": [
      "Estimating fundamental matrix for pairs in scene: brandenburg_gate\n"
     ]
    }
   ],
   "source": [
    "sub = wrp.estimate_fundamental_matrix(dataset=dataset, estimator=fe)"
   ]
  },
  {
   "cell_type": "code",
   "execution_count": 18,
   "metadata": {},
   "outputs": [
    {
     "data": {
      "text/html": [
       "<div>\n",
       "<style scoped>\n",
       "    .dataframe tbody tr th:only-of-type {\n",
       "        vertical-align: middle;\n",
       "    }\n",
       "\n",
       "    .dataframe tbody tr th {\n",
       "        vertical-align: top;\n",
       "    }\n",
       "\n",
       "    .dataframe thead th {\n",
       "        text-align: right;\n",
       "    }\n",
       "</style>\n",
       "<table border=\"1\" class=\"dataframe\">\n",
       "  <thead>\n",
       "    <tr style=\"text-align: right;\">\n",
       "      <th></th>\n",
       "      <th>sample_id</th>\n",
       "      <th>fundamental_matrix</th>\n",
       "      <th>mask</th>\n",
       "      <th>inliers1</th>\n",
       "      <th>inliers2</th>\n",
       "    </tr>\n",
       "  </thead>\n",
       "  <tbody>\n",
       "    <tr>\n",
       "      <th>0</th>\n",
       "      <td>brandenburg_gate;90920828_5082887495-20133057_...</td>\n",
       "      <td>[12.727305249369623, 129.8952782434918, 33.798...</td>\n",
       "      <td>[[1], [1], [1], [1], [1], [1], [1], [1], [1], ...</td>\n",
       "      <td>[[-0.449611, -0.054365], [-0.440867, -0.181743...</td>\n",
       "      <td>[[-0.466144, -0.055466], [-0.455768, -0.185925...</td>\n",
       "    </tr>\n",
       "    <tr>\n",
       "      <th>1</th>\n",
       "      <td>brandenburg_gate;90920828_5082887495-17262282_...</td>\n",
       "      <td>[0.8136154091033959, 1.4789251634568656, 1.624...</td>\n",
       "      <td>[[1], [1], [1], [1], [1], [1], [1], [1], [1], ...</td>\n",
       "      <td>[[-0.449611, -0.054365], [-0.44568, -0.184222]...</td>\n",
       "      <td>[[-0.461805, -0.083045], [-0.021437, -0.182804...</td>\n",
       "    </tr>\n",
       "    <tr>\n",
       "      <th>2</th>\n",
       "      <td>brandenburg_gate;20133057_3035445116-17262282_...</td>\n",
       "      <td>[8.050046364629091, 30.007080418407753, 8.7334...</td>\n",
       "      <td>[[1], [1], [1], [1], [1], [1], [1], [1], [1], ...</td>\n",
       "      <td>[[-0.47035, -0.043227], [-0.466144, -0.055466]...</td>\n",
       "      <td>[[-0.467542, -0.070519], [-0.461805, -0.083045...</td>\n",
       "    </tr>\n",
       "    <tr>\n",
       "      <th>3</th>\n",
       "      <td>brandenburg_gate;38600512_2168650655-17262282_...</td>\n",
       "      <td>[1.9424634411315012, -11.466641154098864, -0.9...</td>\n",
       "      <td>[[1], [1], [1], [1], [1], [1], [1], [1], [1], ...</td>\n",
       "      <td>[[-0.472237, -0.062819], [-0.45875, -0.189936]...</td>\n",
       "      <td>[[-0.206424, -0.179398], [-0.021437, -0.182804...</td>\n",
       "    </tr>\n",
       "    <tr>\n",
       "      <th>4</th>\n",
       "      <td>brandenburg_gate;60770994_853214983-17262282_1...</td>\n",
       "      <td>[-12.213286566785511, -55.69894294595479, -16....</td>\n",
       "      <td>[[1], [1], [1], [1], [1], [1], [1], [1], [1], ...</td>\n",
       "      <td>[[-0.539844, -0.200452], [-0.539009, -0.199829...</td>\n",
       "      <td>[[-0.021437, -0.182804], [-0.021437, -0.182804...</td>\n",
       "    </tr>\n",
       "    <tr>\n",
       "      <th>...</th>\n",
       "      <td>...</td>\n",
       "      <td>...</td>\n",
       "      <td>...</td>\n",
       "      <td>...</td>\n",
       "      <td>...</td>\n",
       "    </tr>\n",
       "    <tr>\n",
       "      <th>124</th>\n",
       "      <td>brandenburg_gate;60824110_1469539304-08468928_...</td>\n",
       "      <td>[-8.213053501459155, 146.14638226789347, 38.72...</td>\n",
       "      <td>[[1], [1], [1], [1], [1], [1], [1], [1], [1], ...</td>\n",
       "      <td>[[-0.399234, 0.129181], [-0.393517, -0.116796]...</td>\n",
       "      <td>[[-0.241999, -0.202796], [-0.379758, -0.080159...</td>\n",
       "    </tr>\n",
       "    <tr>\n",
       "      <th>125</th>\n",
       "      <td>brandenburg_gate;66720928_3418295149-20133057_...</td>\n",
       "      <td>[20.700259524451795, -558.3868505686797, -136....</td>\n",
       "      <td>[[1], [1], [1], [1], [1], [1], [1], [1], [1], ...</td>\n",
       "      <td>[[-0.451147, -0.031407], [-0.43672, -0.079455]...</td>\n",
       "      <td>[[-0.044686, -0.09846], [-0.466144, -0.055466]...</td>\n",
       "    </tr>\n",
       "    <tr>\n",
       "      <th>126</th>\n",
       "      <td>brandenburg_gate;66720928_3418295149-02936509_...</td>\n",
       "      <td>[2.1700889810077104, 390.277154039344, -15.016...</td>\n",
       "      <td>[[1], [1], [1], [1], [1], [1], [1], [1], [1], ...</td>\n",
       "      <td>[[-0.44896, -0.088448], [-0.43465, 0.031499], ...</td>\n",
       "      <td>[[-0.422117, -0.320985], [-0.258219, -0.349716...</td>\n",
       "    </tr>\n",
       "    <tr>\n",
       "      <th>127</th>\n",
       "      <td>brandenburg_gate;66720928_3418295149-08814095_...</td>\n",
       "      <td>[43.12498319973662, -238.8020090557619, -49.64...</td>\n",
       "      <td>[[1], [1], [1], [1], [1], [1], [1], [1], [1], ...</td>\n",
       "      <td>[[-0.455657, -0.079186], [-0.444088, -0.04479]...</td>\n",
       "      <td>[[-0.480328, -0.073369], [-0.463585, -0.038242...</td>\n",
       "    </tr>\n",
       "    <tr>\n",
       "      <th>128</th>\n",
       "      <td>brandenburg_gate;67266149_8114963267-20133057_...</td>\n",
       "      <td>[-18.63759057113084, 38.4979295838429, 3.62039...</td>\n",
       "      <td>[[1], [1], [1], [1], [1], [1], [1], [1], [1], ...</td>\n",
       "      <td>[[-0.276308, -0.043104], [-0.276035, -0.046047...</td>\n",
       "      <td>[[-0.465918, -0.050111], [-0.466144, -0.055466...</td>\n",
       "    </tr>\n",
       "  </tbody>\n",
       "</table>\n",
       "<p>129 rows × 5 columns</p>\n",
       "</div>"
      ],
      "text/plain": [
       "                                             sample_id  \\\n",
       "0    brandenburg_gate;90920828_5082887495-20133057_...   \n",
       "1    brandenburg_gate;90920828_5082887495-17262282_...   \n",
       "2    brandenburg_gate;20133057_3035445116-17262282_...   \n",
       "3    brandenburg_gate;38600512_2168650655-17262282_...   \n",
       "4    brandenburg_gate;60770994_853214983-17262282_1...   \n",
       "..                                                 ...   \n",
       "124  brandenburg_gate;60824110_1469539304-08468928_...   \n",
       "125  brandenburg_gate;66720928_3418295149-20133057_...   \n",
       "126  brandenburg_gate;66720928_3418295149-02936509_...   \n",
       "127  brandenburg_gate;66720928_3418295149-08814095_...   \n",
       "128  brandenburg_gate;67266149_8114963267-20133057_...   \n",
       "\n",
       "                                    fundamental_matrix  \\\n",
       "0    [12.727305249369623, 129.8952782434918, 33.798...   \n",
       "1    [0.8136154091033959, 1.4789251634568656, 1.624...   \n",
       "2    [8.050046364629091, 30.007080418407753, 8.7334...   \n",
       "3    [1.9424634411315012, -11.466641154098864, -0.9...   \n",
       "4    [-12.213286566785511, -55.69894294595479, -16....   \n",
       "..                                                 ...   \n",
       "124  [-8.213053501459155, 146.14638226789347, 38.72...   \n",
       "125  [20.700259524451795, -558.3868505686797, -136....   \n",
       "126  [2.1700889810077104, 390.277154039344, -15.016...   \n",
       "127  [43.12498319973662, -238.8020090557619, -49.64...   \n",
       "128  [-18.63759057113084, 38.4979295838429, 3.62039...   \n",
       "\n",
       "                                                  mask  \\\n",
       "0    [[1], [1], [1], [1], [1], [1], [1], [1], [1], ...   \n",
       "1    [[1], [1], [1], [1], [1], [1], [1], [1], [1], ...   \n",
       "2    [[1], [1], [1], [1], [1], [1], [1], [1], [1], ...   \n",
       "3    [[1], [1], [1], [1], [1], [1], [1], [1], [1], ...   \n",
       "4    [[1], [1], [1], [1], [1], [1], [1], [1], [1], ...   \n",
       "..                                                 ...   \n",
       "124  [[1], [1], [1], [1], [1], [1], [1], [1], [1], ...   \n",
       "125  [[1], [1], [1], [1], [1], [1], [1], [1], [1], ...   \n",
       "126  [[1], [1], [1], [1], [1], [1], [1], [1], [1], ...   \n",
       "127  [[1], [1], [1], [1], [1], [1], [1], [1], [1], ...   \n",
       "128  [[1], [1], [1], [1], [1], [1], [1], [1], [1], ...   \n",
       "\n",
       "                                              inliers1  \\\n",
       "0    [[-0.449611, -0.054365], [-0.440867, -0.181743...   \n",
       "1    [[-0.449611, -0.054365], [-0.44568, -0.184222]...   \n",
       "2    [[-0.47035, -0.043227], [-0.466144, -0.055466]...   \n",
       "3    [[-0.472237, -0.062819], [-0.45875, -0.189936]...   \n",
       "4    [[-0.539844, -0.200452], [-0.539009, -0.199829...   \n",
       "..                                                 ...   \n",
       "124  [[-0.399234, 0.129181], [-0.393517, -0.116796]...   \n",
       "125  [[-0.451147, -0.031407], [-0.43672, -0.079455]...   \n",
       "126  [[-0.44896, -0.088448], [-0.43465, 0.031499], ...   \n",
       "127  [[-0.455657, -0.079186], [-0.444088, -0.04479]...   \n",
       "128  [[-0.276308, -0.043104], [-0.276035, -0.046047...   \n",
       "\n",
       "                                              inliers2  \n",
       "0    [[-0.466144, -0.055466], [-0.455768, -0.185925...  \n",
       "1    [[-0.461805, -0.083045], [-0.021437, -0.182804...  \n",
       "2    [[-0.467542, -0.070519], [-0.461805, -0.083045...  \n",
       "3    [[-0.206424, -0.179398], [-0.021437, -0.182804...  \n",
       "4    [[-0.021437, -0.182804], [-0.021437, -0.182804...  \n",
       "..                                                 ...  \n",
       "124  [[-0.241999, -0.202796], [-0.379758, -0.080159...  \n",
       "125  [[-0.044686, -0.09846], [-0.466144, -0.055466]...  \n",
       "126  [[-0.422117, -0.320985], [-0.258219, -0.349716...  \n",
       "127  [[-0.480328, -0.073369], [-0.463585, -0.038242...  \n",
       "128  [[-0.465918, -0.050111], [-0.466144, -0.055466...  \n",
       "\n",
       "[129 rows x 5 columns]"
      ]
     },
     "execution_count": 18,
     "metadata": {},
     "output_type": "execute_result"
    }
   ],
   "source": [
    "sub"
   ]
  },
  {
   "cell_type": "code",
   "execution_count": 19,
   "metadata": {},
   "outputs": [
    {
     "data": {
      "text/plain": [
       "<module 'utils.estimator_util' from '/Users/yoav/Documents/Yoav/CS/22928 - Intro to CV/cv-final/utils/estimator_util.py'>"
      ]
     },
     "execution_count": 19,
     "metadata": {},
     "output_type": "execute_result"
    }
   ],
   "source": [
    "importlib.reload(du)\n",
    "importlib.reload(exu)\n",
    "importlib.reload(esu)\n"
   ]
  },
  {
   "cell_type": "code",
   "execution_count": 20,
   "metadata": {},
   "outputs": [],
   "source": [
    "scaling_data = pd.read_csv(os.path.join(EXT_DATA_DIR, 'train/scaling_factors.csv'), index_col=0).set_index('scene')"
   ]
  },
  {
   "cell_type": "code",
   "execution_count": 21,
   "metadata": {},
   "outputs": [],
   "source": [
    "thresholds_q = np.linspace(1, 10, 10)\n",
    "thresholds_t = np.geomspace(0.2, 5, 10)"
   ]
  },
  {
   "cell_type": "code",
   "execution_count": 22,
   "metadata": {},
   "outputs": [
    {
     "data": {
      "text/plain": [
       "<module 'utils.evaluation_util' from '/Users/yoav/Documents/Yoav/CS/22928 - Intro to CV/cv-final/utils/evaluation_util.py'>"
      ]
     },
     "execution_count": 22,
     "metadata": {},
     "output_type": "execute_result"
    }
   ],
   "source": [
    "importlib.reload(wrp)\n",
    "importlib.reload(evu)"
   ]
  },
  {
   "cell_type": "code",
   "execution_count": 23,
   "metadata": {},
   "outputs": [
    {
     "name": "stdout",
     "output_type": "stream",
     "text": [
      "Evaluating for brandenburg_gate\n",
      "Evaluating for trevi_fountain\n",
      "Evaluating for lincoln_memorial_statue\n",
      "Evaluating for pantheon_exterior\n",
      "Evaluating for buckingham_palace\n",
      "Evaluating for taj_mahal\n",
      "Evaluating for temple_nara_japan\n",
      "Evaluating for sagrada_familia\n",
      "Evaluating for notre_dame_front_facade\n",
      "Evaluating for colosseum_exterior\n",
      "Evaluating for sacre_coeur\n",
      "Evaluating for british_museum\n"
     ]
    }
   ],
   "source": [
    "evals = wrp.evaluate_results(dataset, sub, scaling=scaling_data, thresholds_q=thresholds_q, thresholds_t=thresholds_t)"
   ]
  },
  {
   "cell_type": "code",
   "execution_count": 24,
   "metadata": {},
   "outputs": [
    {
     "data": {
      "text/html": [
       "<div>\n",
       "<style scoped>\n",
       "    .dataframe tbody tr th:only-of-type {\n",
       "        vertical-align: middle;\n",
       "    }\n",
       "\n",
       "    .dataframe tbody tr th {\n",
       "        vertical-align: top;\n",
       "    }\n",
       "\n",
       "    .dataframe thead th {\n",
       "        text-align: right;\n",
       "    }\n",
       "</style>\n",
       "<table border=\"1\" class=\"dataframe\">\n",
       "  <thead>\n",
       "    <tr style=\"text-align: right;\">\n",
       "      <th></th>\n",
       "      <th>sample_id</th>\n",
       "      <th>fundamental_matrix</th>\n",
       "      <th>mask</th>\n",
       "      <th>inliers1</th>\n",
       "      <th>inliers2</th>\n",
       "      <th>E</th>\n",
       "      <th>R</th>\n",
       "      <th>T</th>\n",
       "      <th>q</th>\n",
       "      <th>R1_gt</th>\n",
       "      <th>...</th>\n",
       "      <th>T2_gt</th>\n",
       "      <th>dR_gt</th>\n",
       "      <th>dT_gt</th>\n",
       "      <th>q_gt</th>\n",
       "      <th>err_q</th>\n",
       "      <th>err_t</th>\n",
       "      <th>maa</th>\n",
       "      <th>acc</th>\n",
       "      <th>acc_q</th>\n",
       "      <th>acc_t</th>\n",
       "    </tr>\n",
       "  </thead>\n",
       "  <tbody>\n",
       "    <tr>\n",
       "      <th>0</th>\n",
       "      <td>brandenburg_gate;90920828_5082887495-20133057_...</td>\n",
       "      <td>[12.727305249369623, 129.8952782434918, 33.798...</td>\n",
       "      <td>[[1], [1], [1], [1], [1], [1], [1], [1], [1], ...</td>\n",
       "      <td>[[-0.449611, -0.054365], [-0.440867, -0.181743...</td>\n",
       "      <td>[[-0.466144, -0.055466], [-0.455768, -0.185925...</td>\n",
       "      <td>[[15715210.126125818, 160389929.52488187, 6180...</td>\n",
       "      <td>[[0.998609742924394, -0.04137897911033281, -0....</td>\n",
       "      <td>[0.41079849849659167, 0.30460270949533413, -0....</td>\n",
       "      <td>[0.999640308384738, -0.004911752707845912, -0....</td>\n",
       "      <td>[[0.997579883, 0.0204319938, -0.0664598496], [...</td>\n",
       "      <td>...</td>\n",
       "      <td>[[-0.0581751366], [-0.697711703], [-2.42230228]]</td>\n",
       "      <td>[[0.9996426329234653, -0.0025624076338253534, ...</td>\n",
       "      <td>[0.17543988255833978, -0.04746836105520946, -0...</td>\n",
       "      <td>[0.9998721380013084, -0.008776320613636153, -0...</td>\n",
       "      <td>2.289429</td>\n",
       "      <td>1.166740</td>\n",
       "      <td>0.084496</td>\n",
       "      <td>[0.0, 0.007751937984496124, 0.0077519379844961...</td>\n",
       "      <td>[0.0, 0.031007751937984496, 0.0930232558139534...</td>\n",
       "      <td>[0.031007751937984496, 0.031007751937984496, 0...</td>\n",
       "    </tr>\n",
       "    <tr>\n",
       "      <th>1</th>\n",
       "      <td>brandenburg_gate;90920828_5082887495-17262282_...</td>\n",
       "      <td>[0.8136154091033959, 1.4789251634568656, 1.624...</td>\n",
       "      <td>[[1], [1], [1], [1], [1], [1], [1], [1], [1], ...</td>\n",
       "      <td>[[-0.449611, -0.054365], [-0.44568, -0.184222]...</td>\n",
       "      <td>[[-0.461805, -0.083045], [-0.021437, -0.182804...</td>\n",
       "      <td>[[1022693.7843135457, 1858971.14927923, 109965...</td>\n",
       "      <td>[[0.6752699560727724, -0.633586255668183, -0.3...</td>\n",
       "      <td>[0.4074200520582918, 0.30128562067360143, -0.8...</td>\n",
       "      <td>[0.8986666109895118, -0.17330118386500132, -0....</td>\n",
       "      <td>[[0.997579883, 0.0204319938, -0.0664598496], [...</td>\n",
       "      <td>...</td>\n",
       "      <td>[[0.881461151], [-0.691474261], [-2.43493853]]</td>\n",
       "      <td>[[0.9886281603754046, -0.07066265505169217, -0...</td>\n",
       "      <td>[0.8253468464959297, -0.05100010224614837, -0....</td>\n",
       "      <td>[0.9971408459596292, -0.004920685229225356, -0...</td>\n",
       "      <td>46.265673</td>\n",
       "      <td>6.133262</td>\n",
       "      <td>0.084496</td>\n",
       "      <td>[0.0, 0.007751937984496124, 0.0077519379844961...</td>\n",
       "      <td>[0.0, 0.031007751937984496, 0.0930232558139534...</td>\n",
       "      <td>[0.031007751937984496, 0.031007751937984496, 0...</td>\n",
       "    </tr>\n",
       "    <tr>\n",
       "      <th>2</th>\n",
       "      <td>brandenburg_gate;20133057_3035445116-17262282_...</td>\n",
       "      <td>[8.050046364629091, 30.007080418407753, 8.7334...</td>\n",
       "      <td>[[1], [1], [1], [1], [1], [1], [1], [1], [1], ...</td>\n",
       "      <td>[[-0.47035, -0.043227], [-0.466144, -0.055466]...</td>\n",
       "      <td>[[-0.467542, -0.070519], [-0.461805, -0.083045...</td>\n",
       "      <td>[[9856669.360900955, 36741387.16390342, 177344...</td>\n",
       "      <td>[[0.9811976780623546, -0.18023685483551488, -0...</td>\n",
       "      <td>[0.40752331787072416, 0.30131307371698496, -0....</td>\n",
       "      <td>[0.9942413392540885, -0.04563987674626047, -0....</td>\n",
       "      <td>[[0.995474894, 0.0191294404, -0.093079537], [-...</td>\n",
       "      <td>...</td>\n",
       "      <td>[[0.881461151], [-0.691474261], [-2.43493853]]</td>\n",
       "      <td>[[0.9919881332405163, -0.06998163169155071, -0...</td>\n",
       "      <td>[0.6355736930727812, -0.017045702398870044, -0...</td>\n",
       "      <td>[0.9979890648974776, 0.0034485881636969265, -0...</td>\n",
       "      <td>9.017582</td>\n",
       "      <td>5.041236</td>\n",
       "      <td>0.084496</td>\n",
       "      <td>[0.0, 0.007751937984496124, 0.0077519379844961...</td>\n",
       "      <td>[0.0, 0.031007751937984496, 0.0930232558139534...</td>\n",
       "      <td>[0.031007751937984496, 0.031007751937984496, 0...</td>\n",
       "    </tr>\n",
       "  </tbody>\n",
       "</table>\n",
       "<p>3 rows × 22 columns</p>\n",
       "</div>"
      ],
      "text/plain": [
       "                                           sample_id  \\\n",
       "0  brandenburg_gate;90920828_5082887495-20133057_...   \n",
       "1  brandenburg_gate;90920828_5082887495-17262282_...   \n",
       "2  brandenburg_gate;20133057_3035445116-17262282_...   \n",
       "\n",
       "                                  fundamental_matrix  \\\n",
       "0  [12.727305249369623, 129.8952782434918, 33.798...   \n",
       "1  [0.8136154091033959, 1.4789251634568656, 1.624...   \n",
       "2  [8.050046364629091, 30.007080418407753, 8.7334...   \n",
       "\n",
       "                                                mask  \\\n",
       "0  [[1], [1], [1], [1], [1], [1], [1], [1], [1], ...   \n",
       "1  [[1], [1], [1], [1], [1], [1], [1], [1], [1], ...   \n",
       "2  [[1], [1], [1], [1], [1], [1], [1], [1], [1], ...   \n",
       "\n",
       "                                            inliers1  \\\n",
       "0  [[-0.449611, -0.054365], [-0.440867, -0.181743...   \n",
       "1  [[-0.449611, -0.054365], [-0.44568, -0.184222]...   \n",
       "2  [[-0.47035, -0.043227], [-0.466144, -0.055466]...   \n",
       "\n",
       "                                            inliers2  \\\n",
       "0  [[-0.466144, -0.055466], [-0.455768, -0.185925...   \n",
       "1  [[-0.461805, -0.083045], [-0.021437, -0.182804...   \n",
       "2  [[-0.467542, -0.070519], [-0.461805, -0.083045...   \n",
       "\n",
       "                                                   E  \\\n",
       "0  [[15715210.126125818, 160389929.52488187, 6180...   \n",
       "1  [[1022693.7843135457, 1858971.14927923, 109965...   \n",
       "2  [[9856669.360900955, 36741387.16390342, 177344...   \n",
       "\n",
       "                                                   R  \\\n",
       "0  [[0.998609742924394, -0.04137897911033281, -0....   \n",
       "1  [[0.6752699560727724, -0.633586255668183, -0.3...   \n",
       "2  [[0.9811976780623546, -0.18023685483551488, -0...   \n",
       "\n",
       "                                                   T  \\\n",
       "0  [0.41079849849659167, 0.30460270949533413, -0....   \n",
       "1  [0.4074200520582918, 0.30128562067360143, -0.8...   \n",
       "2  [0.40752331787072416, 0.30131307371698496, -0....   \n",
       "\n",
       "                                                   q  \\\n",
       "0  [0.999640308384738, -0.004911752707845912, -0....   \n",
       "1  [0.8986666109895118, -0.17330118386500132, -0....   \n",
       "2  [0.9942413392540885, -0.04563987674626047, -0....   \n",
       "\n",
       "                                               R1_gt  ...  \\\n",
       "0  [[0.997579883, 0.0204319938, -0.0664598496], [...  ...   \n",
       "1  [[0.997579883, 0.0204319938, -0.0664598496], [...  ...   \n",
       "2  [[0.995474894, 0.0191294404, -0.093079537], [-...  ...   \n",
       "\n",
       "                                              T2_gt  \\\n",
       "0  [[-0.0581751366], [-0.697711703], [-2.42230228]]   \n",
       "1    [[0.881461151], [-0.691474261], [-2.43493853]]   \n",
       "2    [[0.881461151], [-0.691474261], [-2.43493853]]   \n",
       "\n",
       "                                               dR_gt  \\\n",
       "0  [[0.9996426329234653, -0.0025624076338253534, ...   \n",
       "1  [[0.9886281603754046, -0.07066265505169217, -0...   \n",
       "2  [[0.9919881332405163, -0.06998163169155071, -0...   \n",
       "\n",
       "                                               dT_gt  \\\n",
       "0  [0.17543988255833978, -0.04746836105520946, -0...   \n",
       "1  [0.8253468464959297, -0.05100010224614837, -0....   \n",
       "2  [0.6355736930727812, -0.017045702398870044, -0...   \n",
       "\n",
       "                                                q_gt      err_q     err_t  \\\n",
       "0  [0.9998721380013084, -0.008776320613636153, -0...   2.289429  1.166740   \n",
       "1  [0.9971408459596292, -0.004920685229225356, -0...  46.265673  6.133262   \n",
       "2  [0.9979890648974776, 0.0034485881636969265, -0...   9.017582  5.041236   \n",
       "\n",
       "        maa                                                acc  \\\n",
       "0  0.084496  [0.0, 0.007751937984496124, 0.0077519379844961...   \n",
       "1  0.084496  [0.0, 0.007751937984496124, 0.0077519379844961...   \n",
       "2  0.084496  [0.0, 0.007751937984496124, 0.0077519379844961...   \n",
       "\n",
       "                                               acc_q  \\\n",
       "0  [0.0, 0.031007751937984496, 0.0930232558139534...   \n",
       "1  [0.0, 0.031007751937984496, 0.0930232558139534...   \n",
       "2  [0.0, 0.031007751937984496, 0.0930232558139534...   \n",
       "\n",
       "                                               acc_t  \n",
       "0  [0.031007751937984496, 0.031007751937984496, 0...  \n",
       "1  [0.031007751937984496, 0.031007751937984496, 0...  \n",
       "2  [0.031007751937984496, 0.031007751937984496, 0...  \n",
       "\n",
       "[3 rows x 22 columns]"
      ]
     },
     "execution_count": 24,
     "metadata": {},
     "output_type": "execute_result"
    }
   ],
   "source": [
    "evals.head(3)"
   ]
  }
 ],
 "metadata": {
  "kernelspec": {
   "display_name": "Python 3 (ipykernel)",
   "language": "python",
   "name": "python3"
  },
  "language_info": {
   "codemirror_mode": {
    "name": "ipython",
    "version": 3
   },
   "file_extension": ".py",
   "mimetype": "text/x-python",
   "name": "python",
   "nbconvert_exporter": "python",
   "pygments_lexer": "ipython3",
   "version": "3.13.0"
  }
 },
 "nbformat": 4,
 "nbformat_minor": 2
}

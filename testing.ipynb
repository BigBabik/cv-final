{
 "cells": [
  {
   "cell_type": "code",
   "execution_count": 132,
   "metadata": {},
   "outputs": [],
   "source": [
    "import pandas as pd\n",
    "from utils import data_util as du, preproc_utils as pu, extractor_util as exu, estimator_util as esu\n",
    "import importlib\n",
    "from typing import List, Dict, Any\n",
    "import os"
   ]
  },
  {
   "cell_type": "code",
   "execution_count": 4,
   "metadata": {},
   "outputs": [],
   "source": [
    "DATA_SRC_DIR = '/Users/yoav/Documents/Yoav/CS/22928 - Intro to CV/cv-final/data'\n",
    "EXT_DATA_DIR = '/Users/yoav/Documents/Yoav/CS/22928 - Intro to CV/cv-final/data/external'\n",
    "INT_DATA_DIR = '/Users/yoav/Documents/Yoav/CS/22928 - Intro to CV/cv-final/data/internal'"
   ]
  },
  {
   "cell_type": "code",
   "execution_count": 213,
   "metadata": {},
   "outputs": [],
   "source": [
    "# Usage example\n",
    "dataset = du.DatasetLoader(EXT_DATA_DIR)\n",
    "train_data = dataset.load_all_scenes()\n"
   ]
  },
  {
   "cell_type": "code",
   "execution_count": 219,
   "metadata": {},
   "outputs": [
    {
     "data": {
      "text/plain": [
       "<module 'utils.data_util' from '/Users/yoav/Documents/Yoav/CS/22928 - Intro to CV/cv-final/utils/data_util.py'>"
      ]
     },
     "execution_count": 219,
     "metadata": {},
     "output_type": "execute_result"
    }
   ],
   "source": [
    "importlib.reload(du)"
   ]
  },
  {
   "cell_type": "code",
   "execution_count": 199,
   "metadata": {},
   "outputs": [],
   "source": [
    "# Usage\n",
    "config = pu.PreprocessConfig(size=(512, 512), normalize=False)\n",
    "preprocessor = pu.ImagePreprocessor(config)"
   ]
  },
  {
   "cell_type": "code",
   "execution_count": 217,
   "metadata": {},
   "outputs": [],
   "source": [
    "default_sift_config = exu.SIFTConfig()\n",
    "extractor_config = exu.FeatureExtractorConfig(default_sift_config)\n",
    "extractor = exu.FeatureExtractor(config=extractor_config)"
   ]
  },
  {
   "cell_type": "code",
   "execution_count": 221,
   "metadata": {},
   "outputs": [],
   "source": [
    "# function for preprocessing all the dataset. only needs the path to the dataset and run once\n",
    "for scene in train_data:\n",
    "    scene_data = train_data[scene]\n",
    "    for img in scene_data.images_dir.iterdir():\n",
    "        image_name = img.name.replace(img.suffix, '')\n",
    "        if scene_data.image_data is None:\n",
    "                scene_data.image_data = {}\n",
    "\n",
    "        preprocessed_img = preprocessor.process_image(img)\n",
    "        image_features = extractor.extract_features(preprocessed_img)\n",
    "        scene_data.image_data[image_name] = du.ImageData(image_name, img, preprocessed_img, image_features)"
   ]
  },
  {
   "cell_type": "code",
   "execution_count": 69,
   "metadata": {},
   "outputs": [],
   "source": [
    "i1f = extractor.extract_features(img1)\n",
    "i2f = extractor.extract_features(img2)"
   ]
  },
  {
   "cell_type": "code",
   "execution_count": 218,
   "metadata": {},
   "outputs": [
    {
     "data": {
      "text/plain": [
       "ImageFeature(keypoints=(< cv2.KeyPoint 0x10d12ab50>, < cv2.KeyPoint 0x10d12e9a0>, < cv2.KeyPoint 0x10ce1f000>, < cv2.KeyPoint 0x10ce1ff00>, < cv2.KeyPoint 0x10fff2220>, < cv2.KeyPoint 0x10fff3360>, < cv2.KeyPoint 0x10fff3000>, < cv2.KeyPoint 0x10fff0db0>, < cv2.KeyPoint 0x110049320>, < cv2.KeyPoint 0x1100481e0>, < cv2.KeyPoint 0x11004b930>, < cv2.KeyPoint 0x11004ab80>, < cv2.KeyPoint 0x110049860>, < cv2.KeyPoint 0x11004a460>, < cv2.KeyPoint 0x110048d20>, < cv2.KeyPoint 0x110048810>, < cv2.KeyPoint 0x110048c90>, < cv2.KeyPoint 0x110048210>, < cv2.KeyPoint 0x110049440>, < cv2.KeyPoint 0x11004a550>, < cv2.KeyPoint 0x11004a4f0>, < cv2.KeyPoint 0x110048b70>, < cv2.KeyPoint 0x11004a2e0>, < cv2.KeyPoint 0x1100491d0>, < cv2.KeyPoint 0x110048630>, < cv2.KeyPoint 0x11004a400>, < cv2.KeyPoint 0x110049fb0>, < cv2.KeyPoint 0x1100493b0>, < cv2.KeyPoint 0x110048a80>, < cv2.KeyPoint 0x110048780>, < cv2.KeyPoint 0x110048420>, < cv2.KeyPoint 0x110048300>, < cv2.KeyPoint 0x110048030>, < cv2.KeyPoint 0x110048840>, < cv2.KeyPoint 0x110048c60>, < cv2.KeyPoint 0x1100492f0>, < cv2.KeyPoint 0x11004ad00>, < cv2.KeyPoint 0x110048f90>, < cv2.KeyPoint 0x11004a070>, < cv2.KeyPoint 0x11004a880>, < cv2.KeyPoint 0x110049350>, < cv2.KeyPoint 0x1100483c0>, < cv2.KeyPoint 0x1100488a0>, < cv2.KeyPoint 0x11004ab50>, < cv2.KeyPoint 0x1100485d0>, < cv2.KeyPoint 0x11004a9d0>, < cv2.KeyPoint 0x110048de0>, < cv2.KeyPoint 0x110048720>, < cv2.KeyPoint 0x110048cf0>, < cv2.KeyPoint 0x110048e70>, < cv2.KeyPoint 0x110048bd0>, < cv2.KeyPoint 0x1100484e0>, < cv2.KeyPoint 0x110048f30>, < cv2.KeyPoint 0x110048960>, < cv2.KeyPoint 0x1100486c0>, < cv2.KeyPoint 0x110048270>, < cv2.KeyPoint 0x110048f60>, < cv2.KeyPoint 0x110048ae0>, < cv2.KeyPoint 0x110048180>, < cv2.KeyPoint 0x110048d50>, < cv2.KeyPoint 0x1100484b0>, < cv2.KeyPoint 0x110048060>, < cv2.KeyPoint 0x1100488d0>, < cv2.KeyPoint 0x110048510>, < cv2.KeyPoint 0x1100490b0>, < cv2.KeyPoint 0x110048fc0>, < cv2.KeyPoint 0x110048900>, < cv2.KeyPoint 0x1100490e0>, < cv2.KeyPoint 0x110048ed0>, < cv2.KeyPoint 0x110048ea0>, < cv2.KeyPoint 0x110049080>, < cv2.KeyPoint 0x110048450>, < cv2.KeyPoint 0x110049290>, < cv2.KeyPoint 0x110049110>, < cv2.KeyPoint 0x110048c00>, < cv2.KeyPoint 0x1100491a0>, < cv2.KeyPoint 0x110048f00>, < cv2.KeyPoint 0x110049170>, < cv2.KeyPoint 0x110048240>, < cv2.KeyPoint 0x11004bba0>, < cv2.KeyPoint 0x110048750>, < cv2.KeyPoint 0x11004a490>, < cv2.KeyPoint 0x110049680>, < cv2.KeyPoint 0x11004bc60>, < cv2.KeyPoint 0x110049260>, < cv2.KeyPoint 0x110048480>, < cv2.KeyPoint 0x11004ba80>, < cv2.KeyPoint 0x1100494a0>, < cv2.KeyPoint 0x1100487b0>, < cv2.KeyPoint 0x1100483f0>, < cv2.KeyPoint 0x11004a340>, < cv2.KeyPoint 0x10e4a40f0>, < cv2.KeyPoint 0x10e4a5e30>, < cv2.KeyPoint 0x10e4a79c0>, < cv2.KeyPoint 0x10e4a48a0>, < cv2.KeyPoint 0x10e4a4540>, < cv2.KeyPoint 0x10e4a69a0>, < cv2.KeyPoint 0x10e4a6370>, < cv2.KeyPoint 0x10e4a4060>, < cv2.KeyPoint 0x10e4a7180>, < cv2.KeyPoint 0x10e4a50b0>, < cv2.KeyPoint 0x10e4a4fc0>, < cv2.KeyPoint 0x10e4a7c30>, < cv2.KeyPoint 0x10e4a5380>, < cv2.KeyPoint 0x10e4a5f50>, < cv2.KeyPoint 0x10e4a7810>, < cv2.KeyPoint 0x10e4a6760>, < cv2.KeyPoint 0x10e4a6280>, < cv2.KeyPoint 0x10e4a7360>, < cv2.KeyPoint 0x10e4a43f0>, < cv2.KeyPoint 0x10e4a4420>, < cv2.KeyPoint 0x10e4a7750>, < cv2.KeyPoint 0x10e4a7150>, < cv2.KeyPoint 0x10e4a4bd0>, < cv2.KeyPoint 0x10e4a6e50>, < cv2.KeyPoint 0x10e4a7210>, < cv2.KeyPoint 0x10e4a6f70>, < cv2.KeyPoint 0x10e4a7f60>, < cv2.KeyPoint 0x10e4a4090>, < cv2.KeyPoint 0x10e4a7fc0>, < cv2.KeyPoint 0x10e4a74e0>, < cv2.KeyPoint 0x10e3e2280>, < cv2.KeyPoint 0x10e3e30f0>, < cv2.KeyPoint 0x10e3e0f60>, < cv2.KeyPoint 0x10e3e0d80>, < cv2.KeyPoint 0x10e3e3240>, < cv2.KeyPoint 0x10e3e3480>, < cv2.KeyPoint 0x10e3e2b80>, < cv2.KeyPoint 0x10e3e33f0>, < cv2.KeyPoint 0x10e3e3e70>, < cv2.KeyPoint 0x10e3e2a30>, < cv2.KeyPoint 0x10e3e1680>, < cv2.KeyPoint 0x10e3e0600>, < cv2.KeyPoint 0x10e3e29d0>, < cv2.KeyPoint 0x10e3e2130>, < cv2.KeyPoint 0x10e3e3d50>, < cv2.KeyPoint 0x10e3e0b40>, < cv2.KeyPoint 0x10e3e3ea0>, < cv2.KeyPoint 0x10e3e3fc0>, < cv2.KeyPoint 0x10e3e20d0>, < cv2.KeyPoint 0x10e3e0d20>, < cv2.KeyPoint 0x10e3e2fd0>, < cv2.KeyPoint 0x10e3e3b40>, < cv2.KeyPoint 0x10e3e0c30>, < cv2.KeyPoint 0x10e3e06f0>, < cv2.KeyPoint 0x10e3e35d0>, < cv2.KeyPoint 0x10e3e2f70>, < cv2.KeyPoint 0x10e3e3c90>, < cv2.KeyPoint 0x10e3e1e60>, < cv2.KeyPoint 0x10e3e39f0>, < cv2.KeyPoint 0x10e3e08a0>, < cv2.KeyPoint 0x10e3e3060>, < cv2.KeyPoint 0x10e3e3600>, < cv2.KeyPoint 0x10e3e3cc0>, < cv2.KeyPoint 0x10e3e07e0>, < cv2.KeyPoint 0x10e3e3900>, < cv2.KeyPoint 0x10e3e1ef0>, < cv2.KeyPoint 0x10e3e2af0>, < cv2.KeyPoint 0x10e3e10e0>, < cv2.KeyPoint 0x10e3e3150>, < cv2.KeyPoint 0x10e3e1980>, < cv2.KeyPoint 0x10e3e3330>, < cv2.KeyPoint 0x10e3e2b20>, < cv2.KeyPoint 0x10e3e34e0>, < cv2.KeyPoint 0x10e3e0e40>, < cv2.KeyPoint 0x10e3e2400>, < cv2.KeyPoint 0x10e3e35a0>, < cv2.KeyPoint 0x10e3e3930>, < cv2.KeyPoint 0x10e3e39c0>, < cv2.KeyPoint 0x10e3e0240>, < cv2.KeyPoint 0x10e3e3750>, < cv2.KeyPoint 0x10e3e0c90>, < cv2.KeyPoint 0x10e3e2910>, < cv2.KeyPoint 0x10e3e0990>, < cv2.KeyPoint 0x10e3e32a0>, < cv2.KeyPoint 0x10e3e1650>, < cv2.KeyPoint 0x10e3e3510>, < cv2.KeyPoint 0x10e3e3420>, < cv2.KeyPoint 0x10e3e3000>, < cv2.KeyPoint 0x10e3e1bc0>, < cv2.KeyPoint 0x10e3e2cd0>, < cv2.KeyPoint 0x10e3e38a0>, < cv2.KeyPoint 0x10e3e2790>, < cv2.KeyPoint 0x10e3e27f0>, < cv2.KeyPoint 0x10e3e34b0>, < cv2.KeyPoint 0x10e3e2be0>, < cv2.KeyPoint 0x10e3e2670>, < cv2.KeyPoint 0x10e3e0a80>, < cv2.KeyPoint 0x10e3e29a0>, < cv2.KeyPoint 0x10e3e14d0>, < cv2.KeyPoint 0x10e3e21f0>, < cv2.KeyPoint 0x10e3e2bb0>, < cv2.KeyPoint 0x10e3e27c0>, < cv2.KeyPoint 0x10e3e25b0>, < cv2.KeyPoint 0x10e3e1800>, < cv2.KeyPoint 0x10e3e2340>, < cv2.KeyPoint 0x10e3e01b0>, < cv2.KeyPoint 0x10e3e1d10>, < cv2.KeyPoint 0x10e3e1260>, < cv2.KeyPoint 0x10e3e0120>, < cv2.KeyPoint 0x10e3e0060>, < cv2.KeyPoint 0x10e3e0de0>, < cv2.KeyPoint 0x10e3e1590>, < cv2.KeyPoint 0x10e3e1cb0>, < cv2.KeyPoint 0x10e3e1230>, < cv2.KeyPoint 0x10e3e04b0>, < cv2.KeyPoint 0x10e3e0a20>, < cv2.KeyPoint 0x10e3e12f0>, < cv2.KeyPoint 0x10e3e1a10>, < cv2.KeyPoint 0x10e3e09c0>, < cv2.KeyPoint 0x10e3e1380>, < cv2.KeyPoint 0x10e3e2190>, < cv2.KeyPoint 0x10e3e25e0>, < cv2.KeyPoint 0x10e3e2c40>, < cv2.KeyPoint 0x10e3e2fa0>, < cv2.KeyPoint 0x10e3e2a00>, < cv2.KeyPoint 0x10e3e0b10>, < cv2.KeyPoint 0x10e3e2100>, < cv2.KeyPoint 0x10e3e21c0>, < cv2.KeyPoint 0x10e3e2460>, < cv2.KeyPoint 0x10e3e2940>, < cv2.KeyPoint 0x10e3e0690>, < cv2.KeyPoint 0x10e3e3450>, < cv2.KeyPoint 0x10e3e3360>, < cv2.KeyPoint 0x10e3e0ab0>, < cv2.KeyPoint 0x10e3e0cc0>, < cv2.KeyPoint 0x10e3e0750>, < cv2.KeyPoint 0x10e3e2850>, < cv2.KeyPoint 0x10e3e3d80>, < cv2.KeyPoint 0x10e3e26d0>, < cv2.KeyPoint 0x10e3e2b50>, < cv2.KeyPoint 0x10e3e3f90>, < cv2.KeyPoint 0x10e3e3ed0>, < cv2.KeyPoint 0x10e3e3030>, < cv2.KeyPoint 0x10e3e2430>, < cv2.KeyPoint 0x10e3e12c0>, < cv2.KeyPoint 0x10e3e1470>, < cv2.KeyPoint 0x10e3e0840>, < cv2.KeyPoint 0x10e3e1290>, < cv2.KeyPoint 0x10e3e0630>, < cv2.KeyPoint 0x10e3e1110>, < cv2.KeyPoint 0x10e3e36c0>, < cv2.KeyPoint 0x10e3e3570>, < cv2.KeyPoint 0x10e3e2f10>, < cv2.KeyPoint 0x10e3e1fb0>, < cv2.KeyPoint 0x10e3e3ae0>, < cv2.KeyPoint 0x10e3e2c70>, < cv2.KeyPoint 0x10e3e0e10>, < cv2.KeyPoint 0x10cfd5d10>, < cv2.KeyPoint 0x10cfd52c0>, < cv2.KeyPoint 0x10cfd4180>, < cv2.KeyPoint 0x10cfd5e60>, < cv2.KeyPoint 0x10cfd6bb0>, < cv2.KeyPoint 0x10cfd6c70>, < cv2.KeyPoint 0x10cfd5f80>, < cv2.KeyPoint 0x10cfd42d0>, < cv2.KeyPoint 0x10cfd42a0>, < cv2.KeyPoint 0x10cfd5380>, < cv2.KeyPoint 0x10cfd53e0>, < cv2.KeyPoint 0x10cfd4e70>, < cv2.KeyPoint 0x10cfd5c20>, < cv2.KeyPoint 0x10cfd4120>, < cv2.KeyPoint 0x10cfd5f20>, < cv2.KeyPoint 0x10cfd4600>, < cv2.KeyPoint 0x10cfd4f30>, < cv2.KeyPoint 0x10cfd5fb0>, < cv2.KeyPoint 0x10cfd4c90>, < cv2.KeyPoint 0x10cfd60a0>, < cv2.KeyPoint 0x10cfd4930>, < cv2.KeyPoint 0x10cfd6040>, < cv2.KeyPoint 0x10cfd5410>, < cv2.KeyPoint 0x10cfd6130>, < cv2.KeyPoint 0x10cfd4990>, < cv2.KeyPoint 0x10cfd6910>, < cv2.KeyPoint 0x10cfd5b30>, < cv2.KeyPoint 0x10cfd52f0>, < cv2.KeyPoint 0x10cfd7450>, < cv2.KeyPoint 0x10cfd67c0>, < cv2.KeyPoint 0x10cfd6160>, < cv2.KeyPoint 0x10cfd5020>, < cv2.KeyPoint 0x10cfd5cb0>, < cv2.KeyPoint 0x10cfd5230>, < cv2.KeyPoint 0x10cfd4bd0>, < cv2.KeyPoint 0x10cfd5ec0>, < cv2.KeyPoint 0x10cfd5290>, < cv2.KeyPoint 0x10cfd61f0>, < cv2.KeyPoint 0x10cfd4f00>, < cv2.KeyPoint 0x10cfd4480>, < cv2.KeyPoint 0x10cfd6580>, < cv2.KeyPoint 0x10cfd5ce0>, < cv2.KeyPoint 0x10cfd4210>, < cv2.KeyPoint 0x10cfd41e0>, < cv2.KeyPoint 0x10cfd4270>, < cv2.KeyPoint 0x10cfd51d0>, < cv2.KeyPoint 0x10cfd68b0>, < cv2.KeyPoint 0x10cfd4c60>, < cv2.KeyPoint 0x10cfd4ed0>, < cv2.KeyPoint 0x10cfd6700>, < cv2.KeyPoint 0x10cfd4150>, < cv2.KeyPoint 0x10cfd6370>, < cv2.KeyPoint 0x10cfd5d70>, < cv2.KeyPoint 0x10cfd4c30>, < cv2.KeyPoint 0x10cfd4570>, < cv2.KeyPoint 0x10cfd5800>, < cv2.KeyPoint 0x10cfd5500>, < cv2.KeyPoint 0x10cfd5ad0>, < cv2.KeyPoint 0x10cfd4330>, < cv2.KeyPoint 0x10cfd4a50>, < cv2.KeyPoint 0x10cfd4db0>, < cv2.KeyPoint 0x10cfd40f0>, < cv2.KeyPoint 0x10cfd65b0>, < cv2.KeyPoint 0x10cfd4360>, < cv2.KeyPoint 0x10cfd66d0>, < cv2.KeyPoint 0x10cfd6670>, < cv2.KeyPoint 0x10cfd5320>, < cv2.KeyPoint 0x10cfd49c0>, < cv2.KeyPoint 0x10cfd5c80>, < cv2.KeyPoint 0x10cfd5ef0>, < cv2.KeyPoint 0x10cfd5bf0>, < cv2.KeyPoint 0x10cfd5e00>, < cv2.KeyPoint 0x10cfd5e30>, < cv2.KeyPoint 0x10cfd4d50>, < cv2.KeyPoint 0x10cfd64c0>, < cv2.KeyPoint 0x10cfd4540>, < cv2.KeyPoint 0x10cfd65e0>, < cv2.KeyPoint 0x10cfd6250>, < cv2.KeyPoint 0x10cfd69d0>, < cv2.KeyPoint 0x10cfd4840>, < cv2.KeyPoint 0x10cfd5440>, < cv2.KeyPoint 0x10cfd4810>, < cv2.KeyPoint 0x10cfd5fe0>, < cv2.KeyPoint 0x10cfd4b70>, < cv2.KeyPoint 0x10e397e70>, < cv2.KeyPoint 0x10e397570>, < cv2.KeyPoint 0x10e396220>, < cv2.KeyPoint 0x10e397f00>, < cv2.KeyPoint 0x10e397de0>, < cv2.KeyPoint 0x10e394900>, < cv2.KeyPoint 0x10e3957a0>, < cv2.KeyPoint 0x10e396d60>, < cv2.KeyPoint 0x10e3970f0>, < cv2.KeyPoint 0x10e3975a0>, < cv2.KeyPoint 0x10e397450>, < cv2.KeyPoint 0x10e396c10>, < cv2.KeyPoint 0x10e396b20>, < cv2.KeyPoint 0x10e396040>, < cv2.KeyPoint 0x10e397fc0>, < cv2.KeyPoint 0x10e397090>, < cv2.KeyPoint 0x10e396730>, < cv2.KeyPoint 0x10e394e10>, < cv2.KeyPoint 0x10e396c70>, < cv2.KeyPoint 0x10e397390>, < cv2.KeyPoint 0x10e3964c0>, < cv2.KeyPoint 0x10e396cd0>, < cv2.KeyPoint 0x10e3960d0>, < cv2.KeyPoint 0x10e396c40>, < cv2.KeyPoint 0x10e3972d0>, < cv2.KeyPoint 0x10e394030>, < cv2.KeyPoint 0x10e3969d0>, < cv2.KeyPoint 0x10e397cc0>, < cv2.KeyPoint 0x10e396520>, < cv2.KeyPoint 0x10e397210>, < cv2.KeyPoint 0x10e396b80>, < cv2.KeyPoint 0x10e395170>, < cv2.KeyPoint 0x10e394f30>, < cv2.KeyPoint 0x10e3970c0>, < cv2.KeyPoint 0x10e3976c0>, < cv2.KeyPoint 0x10e3968b0>, < cv2.KeyPoint 0x10e397180>, < cv2.KeyPoint 0x10e396250>, < cv2.KeyPoint 0x10e395a40>, < cv2.KeyPoint 0x10e3972a0>, < cv2.KeyPoint 0x10e396700>, < cv2.KeyPoint 0x10e397870>, < cv2.KeyPoint 0x10e397f60>, < cv2.KeyPoint 0x10e396dc0>, < cv2.KeyPoint 0x10e3940c0>, < cv2.KeyPoint 0x10e397810>, < cv2.KeyPoint 0x10e396b50>, < cv2.KeyPoint 0x10e395e60>, < cv2.KeyPoint 0x10e396a30>, < cv2.KeyPoint 0x10e394150>, < cv2.KeyPoint 0x10e397d20>, < cv2.KeyPoint 0x10e3947b0>, < cv2.KeyPoint 0x10e395950>, < cv2.KeyPoint 0x10e396ac0>, < cv2.KeyPoint 0x10e396310>, < cv2.KeyPoint 0x10e397a20>, < cv2.KeyPoint 0x10e397d80>, < cv2.KeyPoint 0x10e396a60>, < cv2.KeyPoint 0x10e3945a0>, < cv2.KeyPoint 0x10e3973f0>, < cv2.KeyPoint 0x10e394a50>, < cv2.KeyPoint 0x10e397900>, < cv2.KeyPoint 0x10e3967c0>, < cv2.KeyPoint 0x10e3945d0>, < cv2.KeyPoint 0x10e397ba0>, < cv2.KeyPoint 0x10e3944e0>, < cv2.KeyPoint 0x10e3957d0>, < cv2.KeyPoint 0x10e397780>, < cv2.KeyPoint 0x10e3969a0>, < cv2.KeyPoint 0x10e397a80>, < cv2.KeyPoint 0x10e395290>, < cv2.KeyPoint 0x10e394ff0>, < cv2.KeyPoint 0x10e395410>, < cv2.KeyPoint 0x10e397db0>, < cv2.KeyPoint 0x10e394660>, < cv2.KeyPoint 0x10e397330>, < cv2.KeyPoint 0x10e394180>, < cv2.KeyPoint 0x10e395770>, < cv2.KeyPoint 0x10e3952c0>, < cv2.KeyPoint 0x10e3951a0>, < cv2.KeyPoint 0x10e394750>, < cv2.KeyPoint 0x10e394c00>, < cv2.KeyPoint 0x10e394990>, < cv2.KeyPoint 0x10e394090>, < cv2.KeyPoint 0x10e394b10>, < cv2.KeyPoint 0x10e397c00>, < cv2.KeyPoint 0x10e3954a0>, < cv2.KeyPoint 0x10e394600>, < cv2.KeyPoint 0x10e394b40>, < cv2.KeyPoint 0x10e397a50>, < cv2.KeyPoint 0x10e3947e0>, < cv2.KeyPoint 0x10e394840>, < cv2.KeyPoint 0x10e395200>, < cv2.KeyPoint 0x10e394b70>, < cv2.KeyPoint 0x10e394db0>, < cv2.KeyPoint 0x10e394bd0>, < cv2.KeyPoint 0x10e395320>, < cv2.KeyPoint 0x10e3946c0>, < cv2.KeyPoint 0x10e3953b0>, < cv2.KeyPoint 0x10e394780>, < cv2.KeyPoint 0x10e3950b0>, < cv2.KeyPoint 0x10e3948a0>, < cv2.KeyPoint 0x10e394ea0>, < cv2.KeyPoint 0x10e395fb0>, < cv2.KeyPoint 0x10e396ee0>, < cv2.KeyPoint 0x10e394d80>, < cv2.KeyPoint 0x10e397d50>, < cv2.KeyPoint 0x10e3949c0>, < cv2.KeyPoint 0x10e394240>, < cv2.KeyPoint 0x10e3948d0>, < cv2.KeyPoint 0x10e397990>, < cv2.KeyPoint 0x10e394cc0>, < cv2.KeyPoint 0x10e394930>, < cv2.KeyPoint 0x10e396100>, < cv2.KeyPoint 0x10e397600>, < cv2.KeyPoint 0x10e394c60>, < cv2.KeyPoint 0x10e3979c0>, < cv2.KeyPoint 0x10e397f30>, < cv2.KeyPoint 0x10e396850>, < cv2.KeyPoint 0x10e3962e0>, < cv2.KeyPoint 0x10e394720>, < cv2.KeyPoint 0x10e394510>, < cv2.KeyPoint 0x10e397540>, < cv2.KeyPoint 0x10e394810>, < cv2.KeyPoint 0x10e3973c0>, < cv2.KeyPoint 0x10e3978d0>, < cv2.KeyPoint 0x10e394cf0>, < cv2.KeyPoint 0x10e394d50>, < cv2.KeyPoint 0x10e397030>, < cv2.KeyPoint 0x10e394060>, < cv2.KeyPoint 0x10e3941b0>, < cv2.KeyPoint 0x10e395530>, < cv2.KeyPoint 0x10e397270>, < cv2.KeyPoint 0x10e394690>, < cv2.KeyPoint 0x10e394270>, < cv2.KeyPoint 0x10e3949f0>, < cv2.KeyPoint 0x10e397360>, < cv2.KeyPoint 0x10e395140>, < cv2.KeyPoint 0x10e3971b0>, < cv2.KeyPoint 0x10e396a90>, < cv2.KeyPoint 0x10e397930>, < cv2.KeyPoint 0x10e394300>, < cv2.KeyPoint 0x10e397240>, < cv2.KeyPoint 0x10e396fa0>, < cv2.KeyPoint 0x10e394210>, < cv2.KeyPoint 0x10e396940>, < cv2.KeyPoint 0x10e3956e0>, < cv2.KeyPoint 0x10e3978a0>, < cv2.KeyPoint 0x10e396e20>, < cv2.KeyPoint 0x10e396fd0>, < cv2.KeyPoint 0x10e396e50>, < cv2.KeyPoint 0x10e397e10>, < cv2.KeyPoint 0x10e397690>, < cv2.KeyPoint 0x10e3974b0>, < cv2.KeyPoint 0x10e396bb0>, < cv2.KeyPoint 0x10e3971e0>, < cv2.KeyPoint 0x10e396f10>, < cv2.KeyPoint 0x10e394d20>, < cv2.KeyPoint 0x10e3977e0>, < cv2.KeyPoint 0x10e397000>, < cv2.KeyPoint 0x10e397ea0>, < cv2.KeyPoint 0x10e397c30>, < cv2.KeyPoint 0x10e396eb0>, < cv2.KeyPoint 0x10e396d00>, < cv2.KeyPoint 0x10e3954d0>, < cv2.KeyPoint 0x10e395f80>, < cv2.KeyPoint 0x10e394e40>, < cv2.KeyPoint 0x10e397bd0>, < cv2.KeyPoint 0x10e3943c0>, < cv2.KeyPoint 0x10e395050>, < cv2.KeyPoint 0x10e395cb0>, < cv2.KeyPoint 0x10e397cf0>, < cv2.KeyPoint 0x10e397b70>, < cv2.KeyPoint 0x10e397c90>, < cv2.KeyPoint 0x10e3963a0>, < cv2.KeyPoint 0x10e3943f0>, < cv2.KeyPoint 0x10e396880>, < cv2.KeyPoint 0x10e396070>, < cv2.KeyPoint 0x10d10ef10>, < cv2.KeyPoint 0x10d10e880>, < cv2.KeyPoint 0x10d10d2f0>, < cv2.KeyPoint 0x10d10fc30>, < cv2.KeyPoint 0x10d10e3d0>, < cv2.KeyPoint 0x10d10fd50>, < cv2.KeyPoint 0x10d10c9c0>, < cv2.KeyPoint 0x10d132280>, < cv2.KeyPoint 0x10d130900>, < cv2.KeyPoint 0x10d131140>, < cv2.KeyPoint 0x10d130c90>, < cv2.KeyPoint 0x10d1328e0>, < cv2.KeyPoint 0x10d131080>, < cv2.KeyPoint 0x10d133cf0>, < cv2.KeyPoint 0x10d132eb0>, < cv2.KeyPoint 0x10d1316b0>, < cv2.KeyPoint 0x10d133f90>, < cv2.KeyPoint 0x10d132ac0>, < cv2.KeyPoint 0x10d1324c0>, < cv2.KeyPoint 0x10d130c00>, < cv2.KeyPoint 0x10d130570>, < cv2.KeyPoint 0x10d131680>, < cv2.KeyPoint 0x10d1303f0>, < cv2.KeyPoint 0x10d133b70>, < cv2.KeyPoint 0x10d130810>, < cv2.KeyPoint 0x10d1304e0>, < cv2.KeyPoint 0x10d131a10>, < cv2.KeyPoint 0x10d133db0>, < cv2.KeyPoint 0x10d131800>, < cv2.KeyPoint 0x10d130f60>, < cv2.KeyPoint 0x10d130660>, < cv2.KeyPoint 0x10d131b60>, < cv2.KeyPoint 0x10d132940>, < cv2.KeyPoint 0x10d132310>, < cv2.KeyPoint 0x10d131d40>, < cv2.KeyPoint 0x10d1307e0>, < cv2.KeyPoint 0x10d130540>, < cv2.KeyPoint 0x10d132b50>, < cv2.KeyPoint 0x10d130d20>, < cv2.KeyPoint 0x10d130a80>, < cv2.KeyPoint 0x10d131770>, < cv2.KeyPoint 0x10d130a50>, < cv2.KeyPoint 0x10d132760>, < cv2.KeyPoint 0x10d130930>, < cv2.KeyPoint 0x10d132670>, < cv2.KeyPoint 0x10d1319b0>, < cv2.KeyPoint 0x10d1322e0>, < cv2.KeyPoint 0x10d132010>, < cv2.KeyPoint 0x10d131ce0>, < cv2.KeyPoint 0x10d131e00>, < cv2.KeyPoint 0x10d130e70>, < cv2.KeyPoint 0x10d131830>, < cv2.KeyPoint 0x10d132910>, < cv2.KeyPoint 0x10d132130>, < cv2.KeyPoint 0x10d132790>, < cv2.KeyPoint 0x10d131a70>, < cv2.KeyPoint 0x10d130e10>, < cv2.KeyPoint 0x10d1325b0>, < cv2.KeyPoint 0x10d132250>, < cv2.KeyPoint 0x10d132820>, < cv2.KeyPoint 0x10d130d50>, < cv2.KeyPoint 0x10d1326d0>, < cv2.KeyPoint 0x10d130cf0>, < cv2.KeyPoint 0x10d132700>, < cv2.KeyPoint 0x10d132100>, < cv2.KeyPoint 0x10d130c60>, < cv2.KeyPoint 0x10d132880>, < cv2.KeyPoint 0x10d130e40>, < cv2.KeyPoint 0x10d130f30>, < cv2.KeyPoint 0x10d1302a0>, < cv2.KeyPoint 0x10d1325e0>, < cv2.KeyPoint 0x10d132160>, < cv2.KeyPoint 0x10d1326a0>, < cv2.KeyPoint 0x10d132640>, < cv2.KeyPoint 0x10d131a40>, < cv2.KeyPoint 0x10d130d80>, < cv2.KeyPoint 0x10d132c40>, < cv2.KeyPoint 0x10d130690>, < cv2.KeyPoint 0x10d1320d0>, < cv2.KeyPoint 0x10d132a00>, < cv2.KeyPoint 0x10d1328b0>, < cv2.KeyPoint 0x10d133c30>, < cv2.KeyPoint 0x10d132370>, < cv2.KeyPoint 0x10d130de0>, < cv2.KeyPoint 0x10d131470>, < cv2.KeyPoint 0x10d132430>, < cv2.KeyPoint 0x10d130b10>, < cv2.KeyPoint 0x10d1303c0>, < cv2.KeyPoint 0x10d130db0>, < cv2.KeyPoint 0x10d130630>, < cv2.KeyPoint 0x10d133d50>, < cv2.KeyPoint 0x10d132730>, < cv2.KeyPoint 0x10d1322b0>, < cv2.KeyPoint 0x10d1321c0>, < cv2.KeyPoint 0x10d1324f0>, < cv2.KeyPoint 0x10d130ab0>, < cv2.KeyPoint 0x10d133ba0>, < cv2.KeyPoint 0x10d133300>, < cv2.KeyPoint 0x10d132d90>, < cv2.KeyPoint 0x10d133ed0>, < cv2.KeyPoint 0x10d130210>, < cv2.KeyPoint 0x10d131350>, < cv2.KeyPoint 0x10d131200>, < cv2.KeyPoint 0x10d1323d0>, < cv2.KeyPoint 0x10d132580>, < cv2.KeyPoint 0x10d132040>, < cv2.KeyPoint 0x10d131c20>, < cv2.KeyPoint 0x10d1327f0>, < cv2.KeyPoint 0x10d130ba0>, < cv2.KeyPoint 0x10d132490>, < cv2.KeyPoint 0x10d130fc0>, < cv2.KeyPoint 0x10d133240>, < cv2.KeyPoint 0x10d131440>, < cv2.KeyPoint 0x10d132400>, < cv2.KeyPoint 0x10d133f30>, < cv2.KeyPoint 0x10d132220>, < cv2.KeyPoint 0x10d131020>, < cv2.KeyPoint 0x10d130f90>, < cv2.KeyPoint 0x10d133f60>, < cv2.KeyPoint 0x10d1309c0>, < cv2.KeyPoint 0x10d131fb0>, < cv2.KeyPoint 0x10d130bd0>, < cv2.KeyPoint 0x10d132e50>, < cv2.KeyPoint 0x10d130750>, < cv2.KeyPoint 0x10d130960>, < cv2.KeyPoint 0x10d130f00>, < cv2.KeyPoint 0x110043c60>, < cv2.KeyPoint 0x110043780>, < cv2.KeyPoint 0x110043750>, < cv2.KeyPoint 0x110043960>, < cv2.KeyPoint 0x110043660>, < cv2.KeyPoint 0x1100431b0>, < cv2.KeyPoint 0x1100437b0>, < cv2.KeyPoint 0x110043d50>, < cv2.KeyPoint 0x110043360>, < cv2.KeyPoint 0x1100435a0>, < cv2.KeyPoint 0x110043de0>, < cv2.KeyPoint 0x110043630>, < cv2.KeyPoint 0x110043cf0>, < cv2.KeyPoint 0x110043030>, < cv2.KeyPoint 0x110043720>, < cv2.KeyPoint 0x110043480>, < cv2.KeyPoint 0x1100433f0>, < cv2.KeyPoint 0x110043c00>, < cv2.KeyPoint 0x1100436f0>, < cv2.KeyPoint 0x110043ae0>, < cv2.KeyPoint 0x110043180>, < cv2.KeyPoint 0x110043b40>, < cv2.KeyPoint 0x110043120>, < cv2.KeyPoint 0x110043e40>, < cv2.KeyPoint 0x110043810>, < cv2.KeyPoint 0x110043210>, < cv2.KeyPoint 0x110042f10>, < cv2.KeyPoint 0x110043270>, < cv2.KeyPoint 0x1100438d0>, < cv2.KeyPoint 0x110043e70>, < cv2.KeyPoint 0x110043b10>, < cv2.KeyPoint 0x1100432a0>, < cv2.KeyPoint 0x1100430c0>, < cv2.KeyPoint 0x1100437e0>, < cv2.KeyPoint 0x110043150>, < cv2.KeyPoint 0x110043990>, < cv2.KeyPoint 0x110043b70>, < cv2.KeyPoint 0x110043c90>, < cv2.KeyPoint 0x1100434b0>, < cv2.KeyPoint 0x110043f00>, < cv2.KeyPoint 0x110043600>, < cv2.KeyPoint 0x110043ab0>, < cv2.KeyPoint 0x110043330>, < cv2.KeyPoint 0x110043570>, < cv2.KeyPoint 0x110043690>, < cv2.KeyPoint 0x1100431e0>, < cv2.KeyPoint 0x1100439f0>, < cv2.KeyPoint 0x1100432d0>, < cv2.KeyPoint 0x110043300>, < cv2.KeyPoint 0x1100433c0>, < cv2.KeyPoint 0x1100439c0>, < cv2.KeyPoint 0x110042eb0>, < cv2.KeyPoint 0x110043090>, < cv2.KeyPoint 0x110042f40>, < cv2.KeyPoint 0x110043ba0>, < cv2.KeyPoint 0x110042ee0>, < cv2.KeyPoint 0x110043240>, < cv2.KeyPoint 0x110043540>, < cv2.KeyPoint 0x110043a20>, < cv2.KeyPoint 0x110043fc0>, < cv2.KeyPoint 0x110043000>, < cv2.KeyPoint 0x110043450>, < cv2.KeyPoint 0x110043db0>, < cv2.KeyPoint 0x1100435d0>, < cv2.KeyPoint 0x110042f70>, < cv2.KeyPoint 0x110043e10>, < cv2.KeyPoint 0x1100436c0>, < cv2.KeyPoint 0x10ffe4d50>, < cv2.KeyPoint 0x10ffe4e10>, < cv2.KeyPoint 0x10ffe5470>, < cv2.KeyPoint 0x10ffe4cf0>, < cv2.KeyPoint 0x10ffe4e70>, < cv2.KeyPoint 0x10ffe4330>, < cv2.KeyPoint 0x10ffe4ea0>, < cv2.KeyPoint 0x10ffe5740>, < cv2.KeyPoint 0x10ffe5350>, < cv2.KeyPoint 0x10ffe54d0>, < cv2.KeyPoint 0x10ffe4900>, < cv2.KeyPoint 0x10ffe50e0>, < cv2.KeyPoint 0x10ffe6760>, < cv2.KeyPoint 0x10ffe6700>, < cv2.KeyPoint 0x10ffe7870>, < cv2.KeyPoint 0x10ffe5200>, < cv2.KeyPoint 0x10ffe7240>, < cv2.KeyPoint 0x10ffe6e20>, < cv2.KeyPoint 0x10ffe7330>, < cv2.KeyPoint 0x10ffe6640>, < cv2.KeyPoint 0x10ffe7060>, < cv2.KeyPoint 0x10ffe43f0>, < cv2.KeyPoint 0x10ffe4cc0>, < cv2.KeyPoint 0x10ffe5380>, < cv2.KeyPoint 0x10ffe58f0>, < cv2.KeyPoint 0x10ffe57a0>, < cv2.KeyPoint 0x10ffe4bd0>, < cv2.KeyPoint 0x10ffe5e90>, < cv2.KeyPoint 0x10ffe5290>, < cv2.KeyPoint 0x10ffe6a00>, < cv2.KeyPoint 0x10ffe77b0>, < cv2.KeyPoint 0x10ffe7990>, < cv2.KeyPoint 0x10ffe55c0>, < cv2.KeyPoint 0x10ffe7960>, < cv2.KeyPoint 0x10ffe79f0>, < cv2.KeyPoint 0x10ffe6b80>, < cv2.KeyPoint 0x10ffe6c10>, < cv2.KeyPoint 0x10ffe7120>, < cv2.KeyPoint 0x10ffe5230>, < cv2.KeyPoint 0x10ffe5a10>, < cv2.KeyPoint 0x10ffe5860>, < cv2.KeyPoint 0x10ffe5a40>, < cv2.KeyPoint 0x10ffe72a0>, < cv2.KeyPoint 0x10ffe4db0>, < cv2.KeyPoint 0x10ffe4150>, < cv2.KeyPoint 0x10ffe41b0>, < cv2.KeyPoint 0x10ffe41e0>, < cv2.KeyPoint 0x10ffe4060>, < cv2.KeyPoint 0x10ffe42a0>, < cv2.KeyPoint 0x10ffe4030>, < cv2.KeyPoint 0x10ffe40c0>, < cv2.KeyPoint 0x10ffe5b90>, < cv2.KeyPoint 0x10ffe4180>, < cv2.KeyPoint 0x10ffe42d0>, < cv2.KeyPoint 0x10ffe4270>, < cv2.KeyPoint 0x10ffe44b0>, < cv2.KeyPoint 0x10ffe4390>, < cv2.KeyPoint 0x10ffe4420>, < cv2.KeyPoint 0x10ffe4240>, < cv2.KeyPoint 0x10ffe4300>, < cv2.KeyPoint 0x10ffe43c0>, < cv2.KeyPoint 0x10ffe40f0>, < cv2.KeyPoint 0x10ffe4450>, < cv2.KeyPoint 0x10ffe4480>, < cv2.KeyPoint 0x10ffe4510>, < cv2.KeyPoint 0x10ffe4540>, < cv2.KeyPoint 0x10ffe4570>, < cv2.KeyPoint 0x10ffe45a0>, < cv2.KeyPoint 0x10ffe45d0>, < cv2.KeyPoint 0x10ffe4600>, < cv2.KeyPoint 0x10ffe4690>, < cv2.KeyPoint 0x10ffe4630>, < cv2.KeyPoint 0x10ffe4660>, < cv2.KeyPoint 0x10ffe46c0>, < cv2.KeyPoint 0x10ffe4ab0>, < cv2.KeyPoint 0x10ffe4360>, < cv2.KeyPoint 0x10ffe4990>, < cv2.KeyPoint 0x10ffe4210>, < cv2.KeyPoint 0x10ffe4c00>, < cv2.KeyPoint 0x10ffe44e0>, < cv2.KeyPoint 0x10ffe4120>, < cv2.KeyPoint 0x10ffe4750>, < cv2.KeyPoint 0x10ffe4a80>, < cv2.KeyPoint 0x10ffe4b10>, < cv2.KeyPoint 0x10ffe4b40>, < cv2.KeyPoint 0x10ffe4ba0>, < cv2.KeyPoint 0x10ffe4c90>, < cv2.KeyPoint 0x10ffe46f0>, < cv2.KeyPoint 0x10ffe4d20>, < cv2.KeyPoint 0x10ffe4ae0>, < cv2.KeyPoint 0x10ffe4c30>, < cv2.KeyPoint 0x10ffe4780>, < cv2.KeyPoint 0x10ffe47b0>, < cv2.KeyPoint 0x10ffe5140>, < cv2.KeyPoint 0x10ffe5980>, < cv2.KeyPoint 0x10ffe4810>, < cv2.KeyPoint 0x10ffe4fc0>, < cv2.KeyPoint 0x10ffe4f30>, < cv2.KeyPoint 0x10ffe49f0>, < cv2.KeyPoint 0x10ffe4e40>, < cv2.KeyPoint 0x10ffe4a20>, < cv2.KeyPoint 0x10ffe5320>, < cv2.KeyPoint 0x10ffe52f0>, < cv2.KeyPoint 0x10ffe48d0>, < cv2.KeyPoint 0x10ffe49c0>, < cv2.KeyPoint 0x10ffe4960>, < cv2.KeyPoint 0x10ffe5260>, < cv2.KeyPoint 0x10ffe53b0>, < cv2.KeyPoint 0x10ffe4870>, < cv2.KeyPoint 0x10ffe52c0>, < cv2.KeyPoint 0x10ffe5050>, < cv2.KeyPoint 0x10ffe4f00>, < cv2.KeyPoint 0x10ffe5b00>, < cv2.KeyPoint 0x10ffe5440>, < cv2.KeyPoint 0x10ffe5020>, < cv2.KeyPoint 0x10ffe4930>, < cv2.KeyPoint 0x10ffe4ff0>, < cv2.KeyPoint 0x10ffe5110>, < cv2.KeyPoint 0x10ffe4f60>, < cv2.KeyPoint 0x10ffe4090>, < cv2.KeyPoint 0x10ffe4840>, < cv2.KeyPoint 0x10ffe51d0>, < cv2.KeyPoint 0x10ffe51a0>, < cv2.KeyPoint 0x10ffe5170>, < cv2.KeyPoint 0x10ffe5080>, < cv2.KeyPoint 0x10ffe4f90>, < cv2.KeyPoint 0x10ffe4de0>, < cv2.KeyPoint 0x10ffe47e0>, < cv2.KeyPoint 0x10ffe48a0>, < cv2.KeyPoint 0x10ffe4720>, < cv2.KeyPoint 0x10ffe5d70>, < cv2.KeyPoint 0x10ffe5560>, < cv2.KeyPoint 0x10ffe5d10>, < cv2.KeyPoint 0x10ffe5ce0>, < cv2.KeyPoint 0x10ffe4b70>, < cv2.KeyPoint 0x10ffe5590>, < cv2.KeyPoint 0x10ffe7480>, < cv2.KeyPoint 0x10ffe5c50>, < cv2.KeyPoint 0x10ffe5bf0>, < cv2.KeyPoint 0x10ffe5620>, < cv2.KeyPoint 0x10ffe54a0>, < cv2.KeyPoint 0x10ffe5410>, < cv2.KeyPoint 0x10ffe4a50>, < cv2.KeyPoint 0x10ffe50b0>, < cv2.KeyPoint 0x10ffe61f0>, < cv2.KeyPoint 0x10ffe5da0>, < cv2.KeyPoint 0x10ffe5c80>, < cv2.KeyPoint 0x10ffe5c20>, < cv2.KeyPoint 0x10ffe5cb0>, < cv2.KeyPoint 0x10ffe5650>, < cv2.KeyPoint 0x10ffe56e0>, < cv2.KeyPoint 0x10ffe5b60>, < cv2.KeyPoint 0x10ffe5710>, < cv2.KeyPoint 0x10ffe5e60>, < cv2.KeyPoint 0x10ffe5770>, < cv2.KeyPoint 0x10ffe5530>, < cv2.KeyPoint 0x10ffe5680>, < cv2.KeyPoint 0x10ffe5a70>, < cv2.KeyPoint 0x10ffe55f0>, < cv2.KeyPoint 0x10ffe56b0>, < cv2.KeyPoint 0x10ffe57d0>, < cv2.KeyPoint 0x10ffe5830>, < cv2.KeyPoint 0x10ffe53e0>, < cv2.KeyPoint 0x10ffe5950>, < cv2.KeyPoint 0x10ffe5890>, < cv2.KeyPoint 0x10ffe58c0>, < cv2.KeyPoint 0x10ffe5800>, < cv2.KeyPoint 0x10ffe5f80>, < cv2.KeyPoint 0x10ffe5bc0>, < cv2.KeyPoint 0x10ffe4ed0>, < cv2.KeyPoint 0x10ffe63d0>, < cv2.KeyPoint 0x10ffe5ad0>, < cv2.KeyPoint 0x10ffe5e30>, < cv2.KeyPoint 0x10ffe5aa0>, < cv2.KeyPoint 0x10ffe5500>, < cv2.KeyPoint 0x10ffe6370>, < cv2.KeyPoint 0x10ffe6010>, < cv2.KeyPoint 0x10ffe6040>, < cv2.KeyPoint 0x10ffe6430>, < cv2.KeyPoint 0x10ffe6490>, < cv2.KeyPoint 0x10ffe6400>, < cv2.KeyPoint 0x10ffe65e0>, < cv2.KeyPoint 0x10ffe6460>, < cv2.KeyPoint 0x10ffe5fe0>, < cv2.KeyPoint 0x10ffe6100>, < cv2.KeyPoint 0x10ffe5ef0>, < cv2.KeyPoint 0x10ffe6070>, < cv2.KeyPoint 0x10ffe5ec0>, < cv2.KeyPoint 0x10ffe5920>, < cv2.KeyPoint 0x10ffe6340>, < cv2.KeyPoint 0x10ffe6580>, < cv2.KeyPoint 0x10ffe65b0>, < cv2.KeyPoint 0x10ffe5f20>, < cv2.KeyPoint 0x10ffe6310>, < cv2.KeyPoint 0x10ffe6130>, < cv2.KeyPoint 0x10ffe64c0>, < cv2.KeyPoint 0x10ffe6190>, < cv2.KeyPoint 0x10ffe5dd0>, < cv2.KeyPoint 0x10ffe6550>, < cv2.KeyPoint 0x10ffe64f0>, < cv2.KeyPoint 0x10ffe62e0>, < cv2.KeyPoint 0x10ffe6610>, < cv2.KeyPoint 0x10ffe6280>, < cv2.KeyPoint 0x10ffe60d0>, < cv2.KeyPoint 0x10ffe62b0>, < cv2.KeyPoint 0x10ffe6670>, < cv2.KeyPoint 0x10ffe6220>, < cv2.KeyPoint 0x10ffe6160>, < cv2.KeyPoint 0x10ffe5fb0>, < cv2.KeyPoint 0x10ffe69a0>, < cv2.KeyPoint 0x10ffe60a0>, < cv2.KeyPoint 0x10ffe67f0>, < cv2.KeyPoint 0x10ffe66a0>, < cv2.KeyPoint 0x10ffe67c0>, < cv2.KeyPoint 0x10ffe6820>, < cv2.KeyPoint 0x10ffe66d0>, < cv2.KeyPoint 0x10ffe6250>, < cv2.KeyPoint 0x10ffe63a0>, < cv2.KeyPoint 0x10ffe61c0>, < cv2.KeyPoint 0x10ffe6a60>, < cv2.KeyPoint 0x10ffe6940>, < cv2.KeyPoint 0x10ffe6910>, < cv2.KeyPoint 0x10ffe6af0>, < cv2.KeyPoint 0x10ffe6850>, < cv2.KeyPoint 0x10ffe6a90>, < cv2.KeyPoint 0x10ffe6970>, < cv2.KeyPoint 0x10ffe68e0>, < cv2.KeyPoint 0x10ffe69d0>, < cv2.KeyPoint 0x10ffe6880>, < cv2.KeyPoint 0x10ffe6c70>, < cv2.KeyPoint 0x10ffe6a30>, < cv2.KeyPoint 0x10ffe6c40>, < cv2.KeyPoint 0x10ffe6d60>, < cv2.KeyPoint 0x10ffe6b50>, < cv2.KeyPoint 0x10ffe6df0>, < cv2.KeyPoint 0x10ffe6520>, < cv2.KeyPoint 0x10ffe6be0>, < cv2.KeyPoint 0x10ffe6730>, < cv2.KeyPoint 0x10ffe6d00>, < cv2.KeyPoint 0x10ffe68b0>, < cv2.KeyPoint 0x10ffe6dc0>, < cv2.KeyPoint 0x10ffe6b20>, < cv2.KeyPoint 0x10ffe6ac0>, < cv2.KeyPoint 0x10ffe6fd0>, < cv2.KeyPoint 0x10ffe6d30>, < cv2.KeyPoint 0x10ffe6790>, < cv2.KeyPoint 0x10ffe6e50>, < cv2.KeyPoint 0x10ffe6d90>, < cv2.KeyPoint 0x10ffe6fa0>, < cv2.KeyPoint 0x10ffe6ca0>, < cv2.KeyPoint 0x10ffe6f70>, < cv2.KeyPoint 0x10ffe74e0>, < cv2.KeyPoint 0x10ffe6f40>, < cv2.KeyPoint 0x10ffe7030>, < cv2.KeyPoint 0x10ffe6e80>, < cv2.KeyPoint 0x10ffe6eb0>, < cv2.KeyPoint 0x10ffe7360>, < cv2.KeyPoint 0x10ffe6ee0>, < cv2.KeyPoint 0x10ffe74b0>, < cv2.KeyPoint 0x10ffe6bb0>, < cv2.KeyPoint 0x10ffe70c0>, < cv2.KeyPoint 0x10ffe7540>, < cv2.KeyPoint 0x10ffe7690>, < cv2.KeyPoint 0x10ffe6f10>, < cv2.KeyPoint 0x10ffe7390>, < cv2.KeyPoint 0x10ffe75a0>, < cv2.KeyPoint 0x10ffe7420>, < cv2.KeyPoint 0x10ffe7570>, < cv2.KeyPoint 0x10ffe6cd0>, < cv2.KeyPoint 0x10ffe7600>, < cv2.KeyPoint 0x10ffe7510>, < cv2.KeyPoint 0x10ffe75d0>, < cv2.KeyPoint 0x10ffe7000>, < cv2.KeyPoint 0x10ffe7660>, < cv2.KeyPoint 0x10ffe7450>, < cv2.KeyPoint 0x10ffe70f0>, < cv2.KeyPoint 0x10ffe7300>, < cv2.KeyPoint 0x10ffe7270>, < cv2.KeyPoint 0x10ffe71e0>, < cv2.KeyPoint 0x10ffe7180>, < cv2.KeyPoint 0x10ffe7090>, < cv2.KeyPoint 0x10ffe71b0>, < cv2.KeyPoint 0x10ffe76c0>, < cv2.KeyPoint 0x10ffe7210>, < cv2.KeyPoint 0x10ffe72d0>, < cv2.KeyPoint 0x10ffe7930>, < cv2.KeyPoint 0x10ffe73f0>, < cv2.KeyPoint 0x10ffe7a50>, < cv2.KeyPoint 0x10ffe73c0>, < cv2.KeyPoint 0x10ffe76f0>, < cv2.KeyPoint 0x10ffe77e0>, < cv2.KeyPoint 0x10ffe78a0>, < cv2.KeyPoint 0x10ffe7840>, < cv2.KeyPoint 0x10ffe7900>, < cv2.KeyPoint 0x10ffe7150>, < cv2.KeyPoint 0x10ffe7db0>, < cv2.KeyPoint 0x10ffe7720>, < cv2.KeyPoint 0x10ffe7d80>, < cv2.KeyPoint 0x10ffe7d20>, < cv2.KeyPoint 0x10ffe7cc0>, < cv2.KeyPoint 0x10ffe7de0>, < cv2.KeyPoint 0x10ffe7e10>, < cv2.KeyPoint 0x10ffe7e40>, < cv2.KeyPoint 0x10ffe7e70>, < cv2.KeyPoint 0x10ffe7f30>, < cv2.KeyPoint 0x10ffe7ab0>, < cv2.KeyPoint 0x10ffe7f00>, < cv2.KeyPoint 0x10ffe7d50>, < cv2.KeyPoint 0x10ffe7b40>, < cv2.KeyPoint 0x10ffe7b10>, < cv2.KeyPoint 0x10ffe7a80>, < cv2.KeyPoint 0x10ffe7ed0>, < cv2.KeyPoint 0x10ffe7780>, < cv2.KeyPoint 0x10ffe7bd0>, < cv2.KeyPoint 0x10ffe7f60>, < cv2.KeyPoint 0x10ffe7ea0>, < cv2.KeyPoint 0x10ffe7fc0>, < cv2.KeyPoint 0x10ffe7f90>, < cv2.KeyPoint 0x10ffe7ae0>, < cv2.KeyPoint 0x10ffe78d0>, < cv2.KeyPoint 0x10ffe7810>, < cv2.KeyPoint 0x10ffe7750>, < cv2.KeyPoint 0x10ffe7630>, < cv2.KeyPoint 0x10ffe79c0>, < cv2.KeyPoint 0x10ffe7c60>, < cv2.KeyPoint 0x10ffe7c90>, < cv2.KeyPoint 0x10ffe7c30>, < cv2.KeyPoint 0x10ffe7a20>, < cv2.KeyPoint 0x10ffe7cf0>, < cv2.KeyPoint 0x10ffe7b70>, < cv2.KeyPoint 0x10ffe7c00>, < cv2.KeyPoint 0x10ffe7ba0>, < cv2.KeyPoint 0x1100a4030>, < cv2.KeyPoint 0x1100a4060>, < cv2.KeyPoint 0x1100a4090>, < cv2.KeyPoint 0x1100a40c0>, < cv2.KeyPoint 0x1100a40f0>, < cv2.KeyPoint 0x1100a4120>, < cv2.KeyPoint 0x1100a4150>, < cv2.KeyPoint 0x1100a4180>, < cv2.KeyPoint 0x1100a41b0>, < cv2.KeyPoint 0x1100a41e0>, < cv2.KeyPoint 0x1100a4210>, < cv2.KeyPoint 0x1100a4240>, < cv2.KeyPoint 0x1100a4270>, < cv2.KeyPoint 0x1100a42a0>, < cv2.KeyPoint 0x1100a42d0>, < cv2.KeyPoint 0x1100a4300>, < cv2.KeyPoint 0x1100a4330>, < cv2.KeyPoint 0x1100a4360>, < cv2.KeyPoint 0x1100a4390>, < cv2.KeyPoint 0x1100a43c0>, < cv2.KeyPoint 0x1100a43f0>, < cv2.KeyPoint 0x1100a4420>, < cv2.KeyPoint 0x1100a4450>, < cv2.KeyPoint 0x1100a4480>, < cv2.KeyPoint 0x1100a44b0>, < cv2.KeyPoint 0x1100a44e0>, < cv2.KeyPoint 0x1100a4510>, < cv2.KeyPoint 0x1100a4540>, < cv2.KeyPoint 0x1100a4570>, < cv2.KeyPoint 0x1100a45a0>, < cv2.KeyPoint 0x1100a45d0>, < cv2.KeyPoint 0x1100a4600>, < cv2.KeyPoint 0x1100a4630>, < cv2.KeyPoint 0x1100a4660>, < cv2.KeyPoint 0x1100a4690>, < cv2.KeyPoint 0x1100a46c0>, < cv2.KeyPoint 0x1100a46f0>, < cv2.KeyPoint 0x1100a4720>, < cv2.KeyPoint 0x1100a4750>, < cv2.KeyPoint 0x1100a4780>, < cv2.KeyPoint 0x1100a47b0>, < cv2.KeyPoint 0x1100a47e0>, < cv2.KeyPoint 0x1100a4810>, < cv2.KeyPoint 0x1100a4840>, < cv2.KeyPoint 0x1100a4870>, < cv2.KeyPoint 0x1100a48a0>, < cv2.KeyPoint 0x1100a48d0>, < cv2.KeyPoint 0x1100a4900>, < cv2.KeyPoint 0x1100a4930>, < cv2.KeyPoint 0x1100a4960>, < cv2.KeyPoint 0x1100a4990>, < cv2.KeyPoint 0x1100a49c0>, < cv2.KeyPoint 0x1100a49f0>, < cv2.KeyPoint 0x1100a4a20>, < cv2.KeyPoint 0x1100a4a50>, < cv2.KeyPoint 0x1100a4a80>, < cv2.KeyPoint 0x1100a4ab0>, < cv2.KeyPoint 0x1100a4ae0>, < cv2.KeyPoint 0x1100a4b10>, < cv2.KeyPoint 0x1100a4b40>, < cv2.KeyPoint 0x1100a4b70>, < cv2.KeyPoint 0x1100a4ba0>, < cv2.KeyPoint 0x1100a4bd0>, < cv2.KeyPoint 0x1100a4c00>, < cv2.KeyPoint 0x1100a4c30>, < cv2.KeyPoint 0x1100a4c60>, < cv2.KeyPoint 0x1100a4c90>, < cv2.KeyPoint 0x1100a4cc0>, < cv2.KeyPoint 0x1100a4cf0>, < cv2.KeyPoint 0x1100a4d20>, < cv2.KeyPoint 0x1100a4d50>, < cv2.KeyPoint 0x1100a4d80>, < cv2.KeyPoint 0x1100a4db0>, < cv2.KeyPoint 0x1100a4de0>, < cv2.KeyPoint 0x1100a4e10>, < cv2.KeyPoint 0x1100a4e40>, < cv2.KeyPoint 0x1100a4e70>, < cv2.KeyPoint 0x1100a4ea0>, < cv2.KeyPoint 0x1100a4ed0>, < cv2.KeyPoint 0x1100a4f00>, < cv2.KeyPoint 0x1100a4f30>, < cv2.KeyPoint 0x1100a4f60>, < cv2.KeyPoint 0x1100a4f90>, < cv2.KeyPoint 0x1100a4fc0>, < cv2.KeyPoint 0x1100a4ff0>, < cv2.KeyPoint 0x1100a5020>, < cv2.KeyPoint 0x1100a5050>, < cv2.KeyPoint 0x1100a5080>, < cv2.KeyPoint 0x1100a50b0>, < cv2.KeyPoint 0x1100a50e0>, < cv2.KeyPoint 0x1100a5110>, < cv2.KeyPoint 0x1100a5140>, < cv2.KeyPoint 0x1100a5170>, < cv2.KeyPoint 0x1100a51a0>, < cv2.KeyPoint 0x1100a51d0>, < cv2.KeyPoint 0x1100a5200>, < cv2.KeyPoint 0x1100a5230>, < cv2.KeyPoint 0x1100a5260>, < cv2.KeyPoint 0x1100a5290>, < cv2.KeyPoint 0x1100a52c0>, < cv2.KeyPoint 0x1100a52f0>, < cv2.KeyPoint 0x1100a5320>, < cv2.KeyPoint 0x1100a5350>, < cv2.KeyPoint 0x1100a5380>, < cv2.KeyPoint 0x1100a53b0>, < cv2.KeyPoint 0x1100a53e0>, < cv2.KeyPoint 0x1100a5410>, < cv2.KeyPoint 0x1100a5440>, < cv2.KeyPoint 0x1100a5470>, < cv2.KeyPoint 0x1100a54a0>, < cv2.KeyPoint 0x1100a54d0>, < cv2.KeyPoint 0x1100a5500>, < cv2.KeyPoint 0x1100a5530>, < cv2.KeyPoint 0x1100a5560>, < cv2.KeyPoint 0x1100a5590>, < cv2.KeyPoint 0x1100a55c0>, < cv2.KeyPoint 0x1100a55f0>, < cv2.KeyPoint 0x1100a5620>, < cv2.KeyPoint 0x1100a5650>, < cv2.KeyPoint 0x1100a5680>, < cv2.KeyPoint 0x1100a56b0>, < cv2.KeyPoint 0x1100a56e0>, < cv2.KeyPoint 0x1100a5710>, < cv2.KeyPoint 0x1100a5740>, < cv2.KeyPoint 0x1100a5770>, < cv2.KeyPoint 0x1100a57a0>, < cv2.KeyPoint 0x1100a57d0>, < cv2.KeyPoint 0x1100a5800>, < cv2.KeyPoint 0x1100a5830>, < cv2.KeyPoint 0x1100a5860>, < cv2.KeyPoint 0x1100a5890>, < cv2.KeyPoint 0x1100a58c0>, < cv2.KeyPoint 0x1100a58f0>, < cv2.KeyPoint 0x1100a5920>, < cv2.KeyPoint 0x1100a5950>, < cv2.KeyPoint 0x1100a5980>, < cv2.KeyPoint 0x1100a59b0>, < cv2.KeyPoint 0x1100a59e0>, < cv2.KeyPoint 0x1100a5a10>, < cv2.KeyPoint 0x1100a5a40>, < cv2.KeyPoint 0x1100a5a70>, < cv2.KeyPoint 0x1100a5aa0>, < cv2.KeyPoint 0x1100a5ad0>, < cv2.KeyPoint 0x1100a5b00>, < cv2.KeyPoint 0x1100a5b30>, < cv2.KeyPoint 0x1100a5b60>, < cv2.KeyPoint 0x1100a5b90>, < cv2.KeyPoint 0x1100a5bc0>, < cv2.KeyPoint 0x1100a5bf0>, < cv2.KeyPoint 0x1100a5c20>, < cv2.KeyPoint 0x1100a5c50>, < cv2.KeyPoint 0x1100a5c80>, < cv2.KeyPoint 0x1100a5cb0>, < cv2.KeyPoint 0x1100a5ce0>, < cv2.KeyPoint 0x1100a5d10>, < cv2.KeyPoint 0x1100a5d40>, < cv2.KeyPoint 0x1100a5d70>, < cv2.KeyPoint 0x1100a5da0>, < cv2.KeyPoint 0x1100a5dd0>, < cv2.KeyPoint 0x1100a5e00>, < cv2.KeyPoint 0x1100a5e30>, < cv2.KeyPoint 0x1100a5e60>, < cv2.KeyPoint 0x1100a5e90>, < cv2.KeyPoint 0x1100a5ec0>, < cv2.KeyPoint 0x1100a5ef0>, < cv2.KeyPoint 0x1100a5f20>, < cv2.KeyPoint 0x1100a5f50>, < cv2.KeyPoint 0x1100a5f80>, < cv2.KeyPoint 0x1100a5fb0>, < cv2.KeyPoint 0x1100a5fe0>, < cv2.KeyPoint 0x1100a6010>, < cv2.KeyPoint 0x1100a6040>, < cv2.KeyPoint 0x1100a6070>, < cv2.KeyPoint 0x1100a60a0>, < cv2.KeyPoint 0x1100a60d0>, < cv2.KeyPoint 0x1100a6100>, < cv2.KeyPoint 0x1100a6130>, < cv2.KeyPoint 0x1100a6160>, < cv2.KeyPoint 0x1100a6190>, < cv2.KeyPoint 0x1100a61c0>, < cv2.KeyPoint 0x1100a61f0>, < cv2.KeyPoint 0x1100a6220>, < cv2.KeyPoint 0x1100a6250>, < cv2.KeyPoint 0x1100a6280>, < cv2.KeyPoint 0x1100a62b0>, < cv2.KeyPoint 0x1100a62e0>, < cv2.KeyPoint 0x1100a6310>, < cv2.KeyPoint 0x1100a6340>, < cv2.KeyPoint 0x1100a6370>, < cv2.KeyPoint 0x1100a63a0>, < cv2.KeyPoint 0x1100a63d0>, < cv2.KeyPoint 0x1100a6400>, < cv2.KeyPoint 0x1100a6430>, < cv2.KeyPoint 0x1100a6460>, < cv2.KeyPoint 0x1100a6490>, < cv2.KeyPoint 0x1100a64c0>, < cv2.KeyPoint 0x1100a64f0>, < cv2.KeyPoint 0x1100a6520>, < cv2.KeyPoint 0x1100a6550>, < cv2.KeyPoint 0x1100a6580>, < cv2.KeyPoint 0x1100a65b0>, < cv2.KeyPoint 0x1100a65e0>, < cv2.KeyPoint 0x1100a6610>, < cv2.KeyPoint 0x1100a6640>, < cv2.KeyPoint 0x1100a6670>, < cv2.KeyPoint 0x1100a66a0>, < cv2.KeyPoint 0x1100a66d0>, < cv2.KeyPoint 0x1100a6700>, < cv2.KeyPoint 0x1100a6730>, < cv2.KeyPoint 0x1100a6760>, < cv2.KeyPoint 0x1100a6790>, < cv2.KeyPoint 0x1100a67c0>, < cv2.KeyPoint 0x1100a67f0>, < cv2.KeyPoint 0x1100a6820>, < cv2.KeyPoint 0x1100a6850>, < cv2.KeyPoint 0x1100a6880>, < cv2.KeyPoint 0x1100a68b0>, < cv2.KeyPoint 0x1100a68e0>, < cv2.KeyPoint 0x1100a6910>, < cv2.KeyPoint 0x1100a6940>, < cv2.KeyPoint 0x1100a6970>, < cv2.KeyPoint 0x1100a69a0>, < cv2.KeyPoint 0x1100a69d0>, < cv2.KeyPoint 0x1100a6a00>, < cv2.KeyPoint 0x1100a6a30>, < cv2.KeyPoint 0x1100a6a60>, < cv2.KeyPoint 0x1100a6a90>, < cv2.KeyPoint 0x1100a6ac0>, < cv2.KeyPoint 0x1100a6af0>, < cv2.KeyPoint 0x1100a6b20>, < cv2.KeyPoint 0x1100a6b50>, < cv2.KeyPoint 0x1100a6b80>, < cv2.KeyPoint 0x1100a6bb0>, < cv2.KeyPoint 0x1100a6be0>, < cv2.KeyPoint 0x1100a6c10>, < cv2.KeyPoint 0x1100a6c40>, < cv2.KeyPoint 0x1100a6c70>, < cv2.KeyPoint 0x1100a6ca0>, < cv2.KeyPoint 0x1100a6cd0>, < cv2.KeyPoint 0x1100a6d00>, < cv2.KeyPoint 0x1100a6d30>, < cv2.KeyPoint 0x1100a6d60>, < cv2.KeyPoint 0x1100a6d90>, < cv2.KeyPoint 0x1100a6dc0>, < cv2.KeyPoint 0x1100a6df0>, < cv2.KeyPoint 0x1100a6e20>, < cv2.KeyPoint 0x1100a6e50>, < cv2.KeyPoint 0x1100a6e80>, < cv2.KeyPoint 0x1100a6eb0>, < cv2.KeyPoint 0x1100a6ee0>, < cv2.KeyPoint 0x1100a6f10>, < cv2.KeyPoint 0x1100a6f40>, < cv2.KeyPoint 0x1100a6f70>, < cv2.KeyPoint 0x1100a6fa0>, < cv2.KeyPoint 0x1100a6fd0>, < cv2.KeyPoint 0x1100a7000>, < cv2.KeyPoint 0x1100a7030>, < cv2.KeyPoint 0x1100a7060>, < cv2.KeyPoint 0x1100a7090>, < cv2.KeyPoint 0x1100a70c0>, < cv2.KeyPoint 0x1100a70f0>, < cv2.KeyPoint 0x1100a7120>, < cv2.KeyPoint 0x1100a7150>, < cv2.KeyPoint 0x1100a7180>, < cv2.KeyPoint 0x1100a71b0>, < cv2.KeyPoint 0x1100a71e0>, < cv2.KeyPoint 0x1100a7210>, < cv2.KeyPoint 0x1100a7240>, < cv2.KeyPoint 0x1100a7270>, < cv2.KeyPoint 0x1100a72a0>, < cv2.KeyPoint 0x1100a72d0>, < cv2.KeyPoint 0x1100a7300>, < cv2.KeyPoint 0x1100a7330>, < cv2.KeyPoint 0x1100a7360>, < cv2.KeyPoint 0x1100a7390>, < cv2.KeyPoint 0x1100a73c0>, < cv2.KeyPoint 0x1100a73f0>, < cv2.KeyPoint 0x1100a7420>, < cv2.KeyPoint 0x1100a7450>, < cv2.KeyPoint 0x1100a7480>, < cv2.KeyPoint 0x1100a74b0>, < cv2.KeyPoint 0x1100a74e0>, < cv2.KeyPoint 0x1100a7510>, < cv2.KeyPoint 0x1100a7540>, < cv2.KeyPoint 0x1100a7570>, < cv2.KeyPoint 0x1100a75a0>, < cv2.KeyPoint 0x1100a75d0>, < cv2.KeyPoint 0x1100a7600>, < cv2.KeyPoint 0x1100a7630>, < cv2.KeyPoint 0x1100a7660>, < cv2.KeyPoint 0x1100a7690>, < cv2.KeyPoint 0x1100a76c0>, < cv2.KeyPoint 0x1100a76f0>, < cv2.KeyPoint 0x1100a7720>, < cv2.KeyPoint 0x1100a7750>, < cv2.KeyPoint 0x1100a7780>, < cv2.KeyPoint 0x1100a77b0>, < cv2.KeyPoint 0x1100a77e0>, < cv2.KeyPoint 0x1100a7810>, < cv2.KeyPoint 0x1100a7840>, < cv2.KeyPoint 0x1100a7870>, < cv2.KeyPoint 0x1100a78a0>, < cv2.KeyPoint 0x1100a78d0>, < cv2.KeyPoint 0x1100a7900>, < cv2.KeyPoint 0x1100a7930>, < cv2.KeyPoint 0x1100a7960>, < cv2.KeyPoint 0x1100a7990>, < cv2.KeyPoint 0x1100a79c0>, < cv2.KeyPoint 0x1100a79f0>, < cv2.KeyPoint 0x1100a7a20>, < cv2.KeyPoint 0x1100a7a50>, < cv2.KeyPoint 0x1100a7a80>, < cv2.KeyPoint 0x1100a7ab0>, < cv2.KeyPoint 0x1100a7ae0>, < cv2.KeyPoint 0x1100a7b10>, < cv2.KeyPoint 0x1100a7b40>, < cv2.KeyPoint 0x1100a7b70>, < cv2.KeyPoint 0x1100a7ba0>, < cv2.KeyPoint 0x1100a7bd0>, < cv2.KeyPoint 0x1100a7c00>, < cv2.KeyPoint 0x1100a7c30>, < cv2.KeyPoint 0x1100a7c60>, < cv2.KeyPoint 0x1100a7c90>, < cv2.KeyPoint 0x1100a7cc0>, < cv2.KeyPoint 0x1100a7cf0>, < cv2.KeyPoint 0x1100a7d20>, < cv2.KeyPoint 0x1100a7d50>, < cv2.KeyPoint 0x1100a7d80>, < cv2.KeyPoint 0x1100a7db0>, < cv2.KeyPoint 0x1100a7de0>, < cv2.KeyPoint 0x1100a7e10>, < cv2.KeyPoint 0x1100a7e40>, < cv2.KeyPoint 0x1100a7e70>, < cv2.KeyPoint 0x1100a7ea0>, < cv2.KeyPoint 0x1100a7ed0>, < cv2.KeyPoint 0x1100a7f00>, < cv2.KeyPoint 0x1100a7f30>, < cv2.KeyPoint 0x1100a7f60>, < cv2.KeyPoint 0x1100a7f90>, < cv2.KeyPoint 0x1100a7fc0>), descriptors=array([[38.,  7.,  0., ...,  0.,  0.,  3.],\n",
       "       [ 1.,  1.,  1., ...,  0.,  0.,  0.],\n",
       "       [ 2.,  6.,  0., ...,  9.,  0.,  0.],\n",
       "       ...,\n",
       "       [ 0.,  2.,  0., ..., 42., 45., 13.],\n",
       "       [46., 57., 38., ...,  0.,  0.,  0.],\n",
       "       [69., 15.,  5., ...,  0.,  0.,  0.]],\n",
       "      shape=(1375, 128), dtype=float32))"
      ]
     },
     "execution_count": 218,
     "metadata": {},
     "output_type": "execute_result"
    }
   ],
   "source": [
    "i1f"
   ]
  },
  {
   "cell_type": "code",
   "execution_count": 124,
   "metadata": {},
   "outputs": [],
   "source": [
    "bf_config = esu.BFMatcherConfig(knn=True)\n",
    "matcher_config = esu.MatcherConfig(bf_config)"
   ]
  },
  {
   "cell_type": "code",
   "execution_count": 125,
   "metadata": {},
   "outputs": [],
   "source": [
    "matcher = esu.FeatureMatcher(matcher_config)"
   ]
  },
  {
   "cell_type": "code",
   "execution_count": 126,
   "metadata": {},
   "outputs": [],
   "source": [
    "matches = matcher.match_features(i1f, i2f)"
   ]
  },
  {
   "cell_type": "code",
   "execution_count": 127,
   "metadata": {},
   "outputs": [],
   "source": [
    "valid, kp1, kp2 = matcher.filter_lowe_matches(matches, i1f, i2f)"
   ]
  },
  {
   "cell_type": "code",
   "execution_count": 141,
   "metadata": {},
   "outputs": [
    {
     "data": {
      "text/plain": [
       "cv2.KeyPoint"
      ]
     },
     "execution_count": 141,
     "metadata": {},
     "output_type": "execute_result"
    }
   ],
   "source": [
    "type(kp1[0])\n",
    "\n"
   ]
  },
  {
   "cell_type": "code",
   "execution_count": 143,
   "metadata": {},
   "outputs": [],
   "source": [
    "es_alg_conf = esu.RANSACConfig()\n",
    "es_conf = esu.EstimatorConfig('RANSAC', es_alg_conf)\n"
   ]
  },
  {
   "cell_type": "code",
   "execution_count": 144,
   "metadata": {},
   "outputs": [],
   "source": [
    "fe = esu.FundamentalMatrixEstimator(kp1, kp2, es_conf)"
   ]
  },
  {
   "cell_type": "code",
   "execution_count": 145,
   "metadata": {},
   "outputs": [
    {
     "data": {
      "text/plain": [
       "array([[ 2.19455369e-06, -1.28450711e-04,  5.75317978e-02],\n",
       "       [ 1.10165394e-04,  6.54828648e-07, -2.44261228e-02],\n",
       "       [-6.91245930e-02,  3.13106405e-02,  1.00000000e+00]])"
      ]
     },
     "execution_count": 145,
     "metadata": {},
     "output_type": "execute_result"
    }
   ],
   "source": [
    "fe.estimate()"
   ]
  },
  {
   "cell_type": "code",
   "execution_count": 149,
   "metadata": {},
   "outputs": [],
   "source": [
    "inl = fe.get_inliers()"
   ]
  },
  {
   "cell_type": "code",
   "execution_count": null,
   "metadata": {},
   "outputs": [
    {
     "name": "stdout",
     "output_type": "stream",
     "text": [
      "Found 24 inliers from 28 INLIERS\n",
      "Inliers count: 24 out of 59\n",
      "Total outliers found: \n",
      "31\n"
     ]
    }
   ],
   "source": [
    "# Convert inliers to a set of tuples for easy comparison\n",
    "inliers_set = set(map(tuple, inl[0]))\n",
    "print(f\"Found {len(inliers_set)} inliers from {len(inl[0])} inliers\")\n",
    "\n",
    "# Find outliers by checking which keypoints in kp1 are not in inliers\n",
    "outliers = [kp for kp in kp1 if (kp.pt[0], kp.pt[1]) not in inliers_set]\n",
    "\n",
    "print(f\"Inliers count: {len(inliers_set)} out of {len(kp1)}\")\n",
    "print(\"Total outliers found: \")\n",
    "print(len(set(outliers)))"
   ]
  }
 ],
 "metadata": {
  "kernelspec": {
   "display_name": "Python 3 (ipykernel)",
   "language": "python",
   "name": "python3"
  },
  "language_info": {
   "codemirror_mode": {
    "name": "ipython",
    "version": 3
   },
   "file_extension": ".py",
   "mimetype": "text/x-python",
   "name": "python",
   "nbconvert_exporter": "python",
   "pygments_lexer": "ipython3",
   "version": "3.13.0"
  }
 },
 "nbformat": 4,
 "nbformat_minor": 2
}

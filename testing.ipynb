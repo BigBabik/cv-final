{
 "cells": [
  {
   "cell_type": "code",
   "execution_count": 35,
   "metadata": {},
   "outputs": [],
   "source": [
    "import pandas as pd\n",
    "from utils import data_util as du, preproc_utils as pu, extractor_util as eu\n",
    "import importlib\n",
    "import os"
   ]
  },
  {
   "cell_type": "code",
   "execution_count": 4,
   "metadata": {},
   "outputs": [],
   "source": [
    "DATA_SRC_DIR = '/Users/yoav/Documents/Yoav/CS/22928 - Intro to CV/cv-final/data'\n",
    "EXT_DATA_DIR = '/Users/yoav/Documents/Yoav/CS/22928 - Intro to CV/cv-final/data/external'\n",
    "INT_DATA_DIR = '/Users/yoav/Documents/Yoav/CS/22928 - Intro to CV/cv-final/data/internal'"
   ]
  },
  {
   "cell_type": "code",
   "execution_count": 11,
   "metadata": {},
   "outputs": [],
   "source": [
    "# Usage example\n",
    "dataset = du.DatasetLoader(EXT_DATA_DIR)\n",
    "brandenburg = dataset.load_scene('brandenburg_gate')\n"
   ]
  },
  {
   "cell_type": "code",
   "execution_count": 14,
   "metadata": {},
   "outputs": [],
   "source": [
    "# Access data\n",
    "images_path = brandenburg.images_dir\n",
    "calibration_data = brandenburg.calibration"
   ]
  },
  {
   "cell_type": "code",
   "execution_count": null,
   "metadata": {},
   "outputs": [],
   "source": [
    "for i in images_path.iterdir():\n",
    "    print(i)"
   ]
  },
  {
   "cell_type": "code",
   "execution_count": 16,
   "metadata": {},
   "outputs": [],
   "source": [
    "# Usage\n",
    "config = pu.PreprocessConfig(size=(512, 512), normalize=False)\n",
    "preprocessor = pu.ImagePreprocessor(config)"
   ]
  },
  {
   "cell_type": "code",
   "execution_count": 66,
   "metadata": {},
   "outputs": [
    {
     "name": "stdout",
     "output_type": "stream",
     "text": [
      "/Users/yoav/Documents/Yoav/CS/22928 - Intro to CV/cv-final/data/external/train/brandenburg_gate/images/10624116_2746543073.jpg /Users/yoav/Documents/Yoav/CS/22928 - Intro to CV/cv-final/data/external/train/brandenburg_gate/images/96174448_2036661198.jpg\n"
     ]
    }
   ],
   "source": [
    "# Get two images from images_path\n",
    "images = list(images_path.iterdir())[:2]\n",
    "image1, image2 = images[0], images[1]\n",
    "print(image1, image2)"
   ]
  },
  {
   "cell_type": "code",
   "execution_count": 68,
   "metadata": {},
   "outputs": [],
   "source": [
    "img1 = preprocessor.process_image(image1)\n",
    "img2 = preprocessor.process_image(image2)"
   ]
  },
  {
   "cell_type": "code",
   "execution_count": 51,
   "metadata": {},
   "outputs": [],
   "source": [
    "default_sift_config = eu.SIFTConfig()\n",
    "extractor_config = eu.FeatureExtractorConfig(default_sift_config)\n",
    "extractor = eu.FeatureExtractor(config=extractor_config)"
   ]
  },
  {
   "cell_type": "code",
   "execution_count": 69,
   "metadata": {},
   "outputs": [],
   "source": [
    "i1f = extractor.extract_features(img1)\n",
    "i2f = extractor.extract_features(img2)"
   ]
  },
  {
   "cell_type": "code",
   "execution_count": 96,
   "metadata": {},
   "outputs": [
    {
     "data": {
      "text/plain": [
       "<module 'utils.extractor_util' from '/Users/yoav/Documents/Yoav/CS/22928 - Intro to CV/cv-final/utils/extractor_util.py'>"
      ]
     },
     "execution_count": 96,
     "metadata": {},
     "output_type": "execute_result"
    }
   ],
   "source": [
    "importlib.reload(eu)"
   ]
  },
  {
   "cell_type": "code",
   "execution_count": 97,
   "metadata": {},
   "outputs": [],
   "source": [
    "bf_config = eu.BFMatcherConfig()\n",
    "matcher_config = eu.MatcherConfig(bf_config)"
   ]
  },
  {
   "cell_type": "code",
   "execution_count": 98,
   "metadata": {},
   "outputs": [],
   "source": [
    "matcher = eu.FeatureMatcher(matcher_config)"
   ]
  },
  {
   "cell_type": "code",
   "execution_count": 99,
   "metadata": {},
   "outputs": [],
   "source": [
    "matches = matcher.match_features(i1f, i2f)"
   ]
  },
  {
   "cell_type": "markdown",
   "metadata": {},
   "source": []
  },
  {
   "cell_type": "code",
   "execution_count": 100,
   "metadata": {},
   "outputs": [],
   "source": [
    "valid, kp1, kp2 = matcher.filter_matches(matches, i1f, i2f)"
   ]
  }
 ],
 "metadata": {
  "kernelspec": {
   "display_name": "Python 3 (ipykernel)",
   "language": "python",
   "name": "python3"
  },
  "language_info": {
   "codemirror_mode": {
    "name": "ipython",
    "version": 3
   },
   "file_extension": ".py",
   "mimetype": "text/x-python",
   "name": "python",
   "nbconvert_exporter": "python",
   "pygments_lexer": "ipython3",
   "version": "3.13.0"
  }
 },
 "nbformat": 4,
 "nbformat_minor": 2
}

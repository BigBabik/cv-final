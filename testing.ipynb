{
 "cells": [
  {
   "cell_type": "code",
   "execution_count": 222,
   "metadata": {},
   "outputs": [],
   "source": [
    "import pandas as pd\n",
    "from utils import data_util as du, preproc_utils as pu, extractor_util as exu, estimator_util as esu\n",
    "import importlib\n",
    "from typing import List, Dict, Any\n",
    "import wrappers as wrp\n",
    "import os"
   ]
  },
  {
   "cell_type": "code",
   "execution_count": 4,
   "metadata": {},
   "outputs": [],
   "source": [
    "DATA_SRC_DIR = '/Users/yoav/Documents/Yoav/CS/22928 - Intro to CV/cv-final/data'\n",
    "EXT_DATA_DIR = '/Users/yoav/Documents/Yoav/CS/22928 - Intro to CV/cv-final/data/external'\n",
    "INT_DATA_DIR = '/Users/yoav/Documents/Yoav/CS/22928 - Intro to CV/cv-final/data/internal'"
   ]
  },
  {
   "cell_type": "code",
   "execution_count": 213,
   "metadata": {},
   "outputs": [],
   "source": [
    "# Usage example\n",
    "dataset = du.DatasetLoader(EXT_DATA_DIR)\n",
    "train_data = dataset.load_all_scenes()\n"
   ]
  },
  {
   "cell_type": "code",
   "execution_count": 199,
   "metadata": {},
   "outputs": [],
   "source": [
    "# Usage\n",
    "config = pu.PreprocessConfig(size=(512, 512), normalize=False)\n",
    "preprocessor = pu.ImagePreprocessor(config)"
   ]
  },
  {
   "cell_type": "code",
   "execution_count": 217,
   "metadata": {},
   "outputs": [],
   "source": [
    "default_sift_config = exu.SIFTConfig()\n",
    "extractor_config = exu.FeatureExtractorConfig(default_sift_config)\n",
    "extractor = exu.FeatureExtractor(config=extractor_config)"
   ]
  },
  {
   "cell_type": "code",
   "execution_count": 244,
   "metadata": {},
   "outputs": [],
   "source": [
    "dataset = wrp.load_dataset(EXT_DATA_DIR)"
   ]
  },
  {
   "cell_type": "code",
   "execution_count": 247,
   "metadata": {},
   "outputs": [],
   "source": [
    "dataset = wrp.preprocess_data(dataset, preprocessor, extractor)"
   ]
  },
  {
   "cell_type": "code",
   "execution_count": 256,
   "metadata": {},
   "outputs": [],
   "source": [
    "dataset = wrp.extract_features(dataset, extractor)"
   ]
  },
  {
   "cell_type": "code",
   "execution_count": null,
   "metadata": {},
   "outputs": [],
   "source": [
    "wrp.match_features(dataset, extractor)"
   ]
  },
  {
   "cell_type": "code",
   "execution_count": 265,
   "metadata": {},
   "outputs": [],
   "source": [
    "scene_data = dataset.scenes_data['brandenburg_gate']\n",
    "valid_pairs = scene_data.covisibility[scene_data.covisibility['covisibility'] > 0.1]"
   ]
  },
  {
   "cell_type": "code",
   "execution_count": null,
   "metadata": {},
   "outputs": [],
   "source": [
    "for row in valid_pairs.iterrows():\n",
    "    print(row)"
   ]
  },
  {
   "cell_type": "code",
   "execution_count": 124,
   "metadata": {},
   "outputs": [],
   "source": [
    "bf_config = esu.BFMatcherConfig(knn=True)\n",
    "matcher_config = esu.MatcherConfig(bf_config)"
   ]
  },
  {
   "cell_type": "code",
   "execution_count": 125,
   "metadata": {},
   "outputs": [],
   "source": [
    "matcher = esu.FeatureMatcher(matcher_config)"
   ]
  },
  {
   "cell_type": "code",
   "execution_count": 291,
   "metadata": {},
   "outputs": [
    {
     "data": {
      "text/plain": [
       "<module 'utils.estimator_util' from '/Users/yoav/Documents/Yoav/CS/22928 - Intro to CV/cv-final/utils/estimator_util.py'>"
      ]
     },
     "execution_count": 291,
     "metadata": {},
     "output_type": "execute_result"
    }
   ],
   "source": [
    "importlib.reload(wrp)\n",
    "importlib.reload(du)\n",
    "importlib.reload(exu)\n",
    "importlib.reload(esu)"
   ]
  },
  {
   "cell_type": "code",
   "execution_count": 283,
   "metadata": {},
   "outputs": [],
   "source": [
    "valid_pairs = scene_data.covisibility[scene_data.covisibility['covisibility'] > 0.1]"
   ]
  },
  {
   "cell_type": "code",
   "execution_count": 292,
   "metadata": {},
   "outputs": [
    {
     "ename": "IndexError",
     "evalue": "tuple index out of range",
     "output_type": "error",
     "traceback": [
      "\u001b[0;31m---------------------------------------------------------------------------\u001b[0m",
      "\u001b[0;31mIndexError\u001b[0m                                Traceback (most recent call last)",
      "Cell \u001b[0;32mIn[292], line 1\u001b[0m\n\u001b[0;32m----> 1\u001b[0m \u001b[43mwrp\u001b[49m\u001b[38;5;241;43m.\u001b[39;49m\u001b[43mmatch_features\u001b[49m\u001b[43m(\u001b[49m\u001b[43mdataset\u001b[49m\u001b[43m,\u001b[49m\u001b[43m \u001b[49m\u001b[43mmatcher\u001b[49m\u001b[43m)\u001b[49m\n",
      "File \u001b[0;32m~/Documents/Yoav/CS/22928 - Intro to CV/cv-final/wrappers.py:90\u001b[0m, in \u001b[0;36mmatch_features\u001b[0;34m(dataset, matcher, covisibility_threshold)\u001b[0m\n\u001b[1;32m     87\u001b[0m img2 \u001b[38;5;241m=\u001b[39m scene_data\u001b[38;5;241m.\u001b[39mimage_data[row[\u001b[38;5;241m1\u001b[39m][\u001b[38;5;124m'\u001b[39m\u001b[38;5;124mim2\u001b[39m\u001b[38;5;124m'\u001b[39m]]\n\u001b[1;32m     89\u001b[0m matches \u001b[38;5;241m=\u001b[39m matcher\u001b[38;5;241m.\u001b[39mmatch_features(img1\u001b[38;5;241m.\u001b[39mfeatures, img2\u001b[38;5;241m.\u001b[39mfeatures)\n\u001b[0;32m---> 90\u001b[0m valid, kp1, kp2 \u001b[38;5;241m=\u001b[39m \u001b[43mmatcher\u001b[49m\u001b[38;5;241;43m.\u001b[39;49m\u001b[43mfilter_lowe_matches\u001b[49m\u001b[43m(\u001b[49m\u001b[43mmatches\u001b[49m\u001b[43m,\u001b[49m\u001b[43m \u001b[49m\u001b[43mimg1\u001b[49m\u001b[38;5;241;43m.\u001b[39;49m\u001b[43mfeatures\u001b[49m\u001b[43m,\u001b[49m\u001b[43m \u001b[49m\u001b[43mimg1\u001b[49m\u001b[38;5;241;43m.\u001b[39;49m\u001b[43mfeatures\u001b[49m\u001b[43m)\u001b[49m\n\u001b[1;32m     91\u001b[0m scene_data\u001b[38;5;241m.\u001b[39mcovisibility\u001b[38;5;241m.\u001b[39mat[row[\u001b[38;5;241m0\u001b[39m], \u001b[38;5;124m'\u001b[39m\u001b[38;5;124mkeypoints1\u001b[39m\u001b[38;5;124m'\u001b[39m] \u001b[38;5;241m=\u001b[39m kp1\n\u001b[1;32m     92\u001b[0m scene_data\u001b[38;5;241m.\u001b[39mcovisibility\u001b[38;5;241m.\u001b[39mat[row[\u001b[38;5;241m0\u001b[39m], \u001b[38;5;124m'\u001b[39m\u001b[38;5;124mkeypoints2\u001b[39m\u001b[38;5;124m'\u001b[39m] \u001b[38;5;241m=\u001b[39m kp2\n",
      "File \u001b[0;32m~/Documents/Yoav/CS/22928 - Intro to CV/cv-final/utils/extractor_util.py:136\u001b[0m, in \u001b[0;36mFeatureMatcher.filter_lowe_matches\u001b[0;34m(self, matches, features1, features2, ratio)\u001b[0m\n\u001b[1;32m    134\u001b[0m         valid_matches\u001b[38;5;241m.\u001b[39mappend(m)\n\u001b[1;32m    135\u001b[0m         keypoints1\u001b[38;5;241m.\u001b[39mappend(features1\u001b[38;5;241m.\u001b[39mkeypoints[m\u001b[38;5;241m.\u001b[39mqueryIdx])\n\u001b[0;32m--> 136\u001b[0m         keypoints2\u001b[38;5;241m.\u001b[39mappend(\u001b[43mfeatures2\u001b[49m\u001b[38;5;241;43m.\u001b[39;49m\u001b[43mkeypoints\u001b[49m\u001b[43m[\u001b[49m\u001b[43mm\u001b[49m\u001b[38;5;241;43m.\u001b[39;49m\u001b[43mtrainIdx\u001b[49m\u001b[43m]\u001b[49m)\n\u001b[1;32m    138\u001b[0m \u001b[38;5;28;01mreturn\u001b[39;00m valid_matches, keypoints1, keypoints2\n",
      "\u001b[0;31mIndexError\u001b[0m: tuple index out of range"
     ]
    }
   ],
   "source": [
    "wrp.match_features(dataset, matcher)"
   ]
  },
  {
   "cell_type": "code",
   "execution_count": null,
   "metadata": {},
   "outputs": [],
   "source": []
  },
  {
   "cell_type": "code",
   "execution_count": 126,
   "metadata": {},
   "outputs": [],
   "source": [
    "matches = matcher.match_features(i1f, i2f)"
   ]
  },
  {
   "cell_type": "code",
   "execution_count": 127,
   "metadata": {},
   "outputs": [],
   "source": [
    "valid, kp1, kp2 = matcher.filter_lowe_matches(matches, i1f, i2f)"
   ]
  },
  {
   "cell_type": "code",
   "execution_count": 141,
   "metadata": {},
   "outputs": [
    {
     "data": {
      "text/plain": [
       "cv2.KeyPoint"
      ]
     },
     "execution_count": 141,
     "metadata": {},
     "output_type": "execute_result"
    }
   ],
   "source": [
    "type(kp1[0])\n",
    "\n"
   ]
  },
  {
   "cell_type": "code",
   "execution_count": 143,
   "metadata": {},
   "outputs": [],
   "source": [
    "es_alg_conf = esu.RANSACConfig()\n",
    "es_conf = esu.EstimatorConfig('RANSAC', es_alg_conf)\n"
   ]
  },
  {
   "cell_type": "code",
   "execution_count": 144,
   "metadata": {},
   "outputs": [],
   "source": [
    "fe = esu.FundamentalMatrixEstimator(kp1, kp2, es_conf)"
   ]
  },
  {
   "cell_type": "code",
   "execution_count": 145,
   "metadata": {},
   "outputs": [
    {
     "data": {
      "text/plain": [
       "array([[ 2.19455369e-06, -1.28450711e-04,  5.75317978e-02],\n",
       "       [ 1.10165394e-04,  6.54828648e-07, -2.44261228e-02],\n",
       "       [-6.91245930e-02,  3.13106405e-02,  1.00000000e+00]])"
      ]
     },
     "execution_count": 145,
     "metadata": {},
     "output_type": "execute_result"
    }
   ],
   "source": [
    "fe.estimate()"
   ]
  },
  {
   "cell_type": "code",
   "execution_count": 149,
   "metadata": {},
   "outputs": [],
   "source": [
    "inl = fe.get_inliers()"
   ]
  },
  {
   "cell_type": "code",
   "execution_count": null,
   "metadata": {},
   "outputs": [
    {
     "name": "stdout",
     "output_type": "stream",
     "text": [
      "Found 24 inliers from 28 INLIERS\n",
      "Inliers count: 24 out of 59\n",
      "Total outliers found: \n",
      "31\n"
     ]
    }
   ],
   "source": [
    "# Convert inliers to a set of tuples for easy comparison\n",
    "inliers_set = set(map(tuple, inl[0]))\n",
    "print(f\"Found {len(inliers_set)} inliers from {len(inl[0])} inliers\")\n",
    "\n",
    "# Find outliers by checking which keypoints in kp1 are not in inliers\n",
    "outliers = [kp for kp in kp1 if (kp.pt[0], kp.pt[1]) not in inliers_set]\n",
    "\n",
    "print(f\"Inliers count: {len(inliers_set)} out of {len(kp1)}\")\n",
    "print(\"Total outliers found: \")\n",
    "print(len(set(outliers)))"
   ]
  }
 ],
 "metadata": {
  "kernelspec": {
   "display_name": "Python 3 (ipykernel)",
   "language": "python",
   "name": "python3"
  },
  "language_info": {
   "codemirror_mode": {
    "name": "ipython",
    "version": 3
   },
   "file_extension": ".py",
   "mimetype": "text/x-python",
   "name": "python",
   "nbconvert_exporter": "python",
   "pygments_lexer": "ipython3",
   "version": "3.13.0"
  }
 },
 "nbformat": 4,
 "nbformat_minor": 2
}

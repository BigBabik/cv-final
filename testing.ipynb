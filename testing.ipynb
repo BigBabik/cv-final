{
 "cells": [
  {
   "cell_type": "code",
   "execution_count": 4,
   "metadata": {},
   "outputs": [],
   "source": [
    "import pandas as pd\n",
    "from utils import data_util as du, preproc_utils as pu, extractor_util as exu, estimator_util as esu, evaluation_util as evu, matcher_utils as mu\n",
    "import importlib\n",
    "from typing import List, Dict, Any\n",
    "import wrappers as wrp\n",
    "import os\n",
    "import numpy as np"
   ]
  },
  {
   "cell_type": "code",
   "execution_count": 2,
   "metadata": {},
   "outputs": [],
   "source": [
    "DATA_SRC_DIR = '/share/project_data/'\n",
    "EXT_DATA_DIR = '/share/project_data/external/' # Data from kaggle\n",
    "INT_DATA_DIR = '/share/project_data/internal' # Save mid progress"
   ]
  },
  {
   "cell_type": "code",
   "execution_count": 8,
   "metadata": {},
   "outputs": [
    {
     "name": "stdout",
     "output_type": "stream",
     "text": [
      "Covisibility: 0.534\n"
     ]
    }
   ],
   "source": [
    "import cv2\n",
    "import numpy as np\n",
    "\n",
    "def calculate_covisibility(image1_path, image2_path):\n",
    "    # Load the two images\n",
    "    img1 = cv2.imread(image1_path, cv2.IMREAD_GRAYSCALE)\n",
    "    img2 = cv2.imread(image2_path, cv2.IMREAD_GRAYSCALE)\n",
    "\n",
    "    if img1 is None or img2 is None:\n",
    "        raise ValueError(\"One or both images could not be loaded.\")\n",
    "\n",
    "    # Initialize the ORB detector\n",
    "    orb = cv2.ORB_create()\n",
    "\n",
    "    # Detect keypoints and descriptors\n",
    "    kp1, des1 = orb.detectAndCompute(img1, None)\n",
    "    kp2, des2 = orb.detectAndCompute(img2, None)\n",
    "\n",
    "    # Initialize the BFMatcher\n",
    "    bf = cv2.BFMatcher(cv2.NORM_HAMMING, crossCheck=True)\n",
    "\n",
    "    # Match descriptors\n",
    "    matches = bf.match(des1, des2)\n",
    "\n",
    "    # Sort matches by distance (quality of match)\n",
    "    matches = sorted(matches, key=lambda x: x.distance)\n",
    "\n",
    "    # Calculate covisibility as the ratio of matches to the average number of keypoints\n",
    "    num_matches = len(matches)\n",
    "    avg_keypoints = (len(kp1) + len(kp2)) / 2\n",
    "    covisibility = num_matches / avg_keypoints if avg_keypoints > 0 else 0\n",
    "\n",
    "    # Visualize matches (optional)\n",
    "    img_matches = cv2.drawMatches(img1, kp1, img2, kp2, matches[:50], None, flags=cv2.DrawMatchesFlags_NOT_DRAW_SINGLE_POINTS)\n",
    "\n",
    "    return covisibility, img_matches\n",
    "\n",
    "# Example usage\n",
    "image1_path = \"//share/project_data/external/train/trevi_fountain/images/99678699_7739302088.jpg\"\n",
    "image2_path = \"/share/project_data/external/train/trevi_fountain/images/66225128_7739308762.jpg\"\n",
    "covisibility, matched_image = calculate_covisibility(image1_path, image2_path)\n",
    "\n",
    "print(f\"Covisibility: {covisibility}\")"
   ]
  },
  {
   "cell_type": "code",
   "execution_count": 9,
   "metadata": {},
   "outputs": [
    {
     "name": "stdout",
     "output_type": "stream",
     "text": [
      "Covisibility: 0.5941318112904664\n"
     ]
    },
    {
     "ename": "",
     "evalue": "",
     "output_type": "error",
     "traceback": [
      "\u001b[1;31mThe Kernel crashed while executing code in the current cell or a previous cell. \n",
      "\u001b[1;31mPlease review the code in the cell(s) to identify a possible cause of the failure. \n",
      "\u001b[1;31mClick <a href='https://aka.ms/vscodeJupyterKernelCrash'>here</a> for more info. \n",
      "\u001b[1;31mView Jupyter <a href='command:jupyter.viewOutput'>log</a> for further details."
     ]
    },
    {
     "ename": "",
     "evalue": "",
     "output_type": "error",
     "traceback": [
      "\u001b[1;31mCanceled future for execute_request message before replies were done"
     ]
    },
    {
     "ename": "",
     "evalue": "",
     "output_type": "error",
     "traceback": [
      "\u001b[1;31mCanceled future for execute_request message before replies were done. \n",
      "\u001b[1;31mView Jupyter <a href='command:jupyter.viewOutput'>log</a> for further details."
     ]
    }
   ],
   "source": [
    "import cv2\n",
    "import numpy as np\n",
    "\n",
    "def calculate_covisibility_sift(image1_path, image2_path):\n",
    "    # Load the two images\n",
    "    img1 = cv2.imread(image1_path, cv2.IMREAD_GRAYSCALE)\n",
    "    img2 = cv2.imread(image2_path, cv2.IMREAD_GRAYSCALE)\n",
    "\n",
    "    if img1 is None or img2 is None:\n",
    "        raise ValueError(\"One or both images could not be loaded.\")\n",
    "\n",
    "    # Initialize the SIFT detector\n",
    "    sift = cv2.SIFT_create()\n",
    "\n",
    "    # Detect keypoints and descriptors\n",
    "    kp1, des1 = sift.detectAndCompute(img1, None)\n",
    "    kp2, des2 = sift.detectAndCompute(img2, None)\n",
    "\n",
    "    # Initialize the BFMatcher with L2 norm (used for SIFT)\n",
    "    bf = cv2.BFMatcher(cv2.NORM_L2, crossCheck=True)\n",
    "\n",
    "    # Match descriptors\n",
    "    matches = bf.match(des1, des2)\n",
    "\n",
    "    # Sort matches by distance (quality of match)\n",
    "    matches = sorted(matches, key=lambda x: x.distance)\n",
    "\n",
    "    # Calculate covisibility as the ratio of matches to the average number of keypoints\n",
    "    num_matches = len(matches)\n",
    "    avg_keypoints = (len(kp1) + len(kp2)) / 2\n",
    "    covisibility = num_matches / avg_keypoints if avg_keypoints > 0 else 0\n",
    "\n",
    "    # Visualize matches (optional)\n",
    "    img_matches = cv2.drawMatches(img1, kp1, img2, kp2, matches[:50], None, flags=cv2.DrawMatchesFlags_NOT_DRAW_SINGLE_POINTS)\n",
    "\n",
    "    return covisibility, img_matches\n",
    "\n",
    "# Example usage\n",
    "image1_path = \"//share/project_data/external/train/trevi_fountain/images/99678699_7739302088.jpg\"\n",
    "image2_path = \"/share/project_data/external/train/trevi_fountain/images/66225128_7739308762.jpg\"\n",
    "covisibility, matched_image = calculate_covisibility_sift(image1_path, image2_path)\n",
    "\n",
    "print(f\"Covisibility: {covisibility}\")\n",
    "\n"
   ]
  },
  {
   "cell_type": "code",
   "execution_count": null,
   "metadata": {},
   "outputs": [
    {
     "name": "stdout",
     "output_type": "stream",
     "text": [
      "/share/project_data/external/train/trevi_fountain/images/99678699_7739302088.jpg\n"
     ]
    },
    {
     "ename": "error",
     "evalue": "OpenCV(4.11.0) :-1: error: (-5:Bad argument) in function 'imread'\n> Overload resolution failed:\n>  - Expected 'filename' to be a str or path-like object\n>  - Expected 'filename' to be a str or path-like object\n>  - Expected 'filename' to be a str or path-like object\n",
     "output_type": "error",
     "traceback": [
      "\u001b[0;31m---------------------------------------------------------------------------\u001b[0m",
      "\u001b[0;31merror\u001b[0m                                     Traceback (most recent call last)",
      "Cell \u001b[0;32mIn[19], line 95\u001b[0m\n\u001b[1;32m     93\u001b[0m csv_path \u001b[38;5;241m=\u001b[39m \u001b[38;5;124m\"\u001b[39m\u001b[38;5;124m/share/project_data/external/train/trevi_fountain/pair_covisibility.csv\u001b[39m\u001b[38;5;124m\"\u001b[39m  \u001b[38;5;66;03m# Path to the input CSV file\u001b[39;00m\n\u001b[1;32m     94\u001b[0m image_dir \u001b[38;5;241m=\u001b[39m \u001b[38;5;124m\"\u001b[39m\u001b[38;5;124m/share/project_data/external/train/trevi_fountain/images\u001b[39m\u001b[38;5;124m\"\u001b[39m  \u001b[38;5;66;03m# Directory containing the images\u001b[39;00m\n\u001b[0;32m---> 95\u001b[0m \u001b[43mprocess_csv_and_calculate_covisibility\u001b[49m\u001b[43m(\u001b[49m\u001b[43mcsv_path\u001b[49m\u001b[43m,\u001b[49m\u001b[43m \u001b[49m\u001b[43mimage_dir\u001b[49m\u001b[43m)\u001b[49m\n\u001b[1;32m     96\u001b[0m \u001b[38;5;124;03m\"\"\"\u001b[39;00m\n\u001b[1;32m     97\u001b[0m \u001b[38;5;124;03m# Example usage\u001b[39;00m\n\u001b[1;32m     98\u001b[0m \u001b[38;5;124;03mimage1_path = \"/share/project_data/external/train/trevi_fountain/images/76104794_5487278337.jpg\"\u001b[39;00m\n\u001b[0;32m   (...)\u001b[0m\n\u001b[1;32m    102\u001b[0m \u001b[38;5;124;03mprint(f\"Covisibility: {covisibility}\")\u001b[39;00m\n\u001b[1;32m    103\u001b[0m \u001b[38;5;124;03m\"\"\"\u001b[39;00m\n",
      "Cell \u001b[0;32mIn[19], line 83\u001b[0m, in \u001b[0;36mprocess_csv_and_calculate_covisibility\u001b[0;34m(csv_path, image_dir)\u001b[0m\n\u001b[1;32m     80\u001b[0m     \u001b[38;5;28;01mcontinue\u001b[39;00m\n\u001b[1;32m     82\u001b[0m \u001b[38;5;66;03m# Calculate covisibility\u001b[39;00m\n\u001b[0;32m---> 83\u001b[0m covisibility \u001b[38;5;241m=\u001b[39m \u001b[43mcalculate_covisibility_balanced_flow\u001b[49m\u001b[43m(\u001b[49m\u001b[43mimg1\u001b[49m\u001b[43m,\u001b[49m\u001b[43m \u001b[49m\u001b[43mimg2\u001b[49m\u001b[43m)\u001b[49m\n\u001b[1;32m     84\u001b[0m df\u001b[38;5;241m.\u001b[39mat[index, \u001b[38;5;124m'\u001b[39m\u001b[38;5;124mcalc_covisibility\u001b[39m\u001b[38;5;124m'\u001b[39m] \u001b[38;5;241m=\u001b[39m covisibility\n\u001b[1;32m     86\u001b[0m \u001b[38;5;28mprint\u001b[39m(\u001b[38;5;124mf\u001b[39m\u001b[38;5;124m\"\u001b[39m\u001b[38;5;124mProcessed: \u001b[39m\u001b[38;5;132;01m{\u001b[39;00mim1_path\u001b[38;5;132;01m}\u001b[39;00m\u001b[38;5;124m & \u001b[39m\u001b[38;5;132;01m{\u001b[39;00mim2_path\u001b[38;5;132;01m}\u001b[39;00m\u001b[38;5;124m -> Covisibility: \u001b[39m\u001b[38;5;132;01m{\u001b[39;00mcovisibility\u001b[38;5;132;01m}\u001b[39;00m\u001b[38;5;124m\"\u001b[39m)\n",
      "Cell \u001b[0;32mIn[19], line 7\u001b[0m, in \u001b[0;36mcalculate_covisibility_balanced_flow\u001b[0;34m(image1_path, image2_path)\u001b[0m\n\u001b[1;32m      5\u001b[0m \u001b[38;5;28;01mdef\u001b[39;00m \u001b[38;5;21mcalculate_covisibility_balanced_flow\u001b[39m(image1_path, image2_path):\n\u001b[1;32m      6\u001b[0m     \u001b[38;5;66;03m# Load the two images as grayscale\u001b[39;00m\n\u001b[0;32m----> 7\u001b[0m     img1 \u001b[38;5;241m=\u001b[39m \u001b[43mcv2\u001b[49m\u001b[38;5;241;43m.\u001b[39;49m\u001b[43mimread\u001b[49m\u001b[43m(\u001b[49m\u001b[43mimage1_path\u001b[49m\u001b[43m,\u001b[49m\u001b[43m \u001b[49m\u001b[43mcv2\u001b[49m\u001b[38;5;241;43m.\u001b[39;49m\u001b[43mIMREAD_GRAYSCALE\u001b[49m\u001b[43m)\u001b[49m\n\u001b[1;32m      8\u001b[0m     img2 \u001b[38;5;241m=\u001b[39m cv2\u001b[38;5;241m.\u001b[39mimread(image2_path, cv2\u001b[38;5;241m.\u001b[39mIMREAD_GRAYSCALE)\n\u001b[1;32m     10\u001b[0m     \u001b[38;5;28;01mif\u001b[39;00m img1 \u001b[38;5;129;01mis\u001b[39;00m \u001b[38;5;28;01mNone\u001b[39;00m \u001b[38;5;129;01mor\u001b[39;00m img2 \u001b[38;5;129;01mis\u001b[39;00m \u001b[38;5;28;01mNone\u001b[39;00m:\n",
      "\u001b[0;31merror\u001b[0m: OpenCV(4.11.0) :-1: error: (-5:Bad argument) in function 'imread'\n> Overload resolution failed:\n>  - Expected 'filename' to be a str or path-like object\n>  - Expected 'filename' to be a str or path-like object\n>  - Expected 'filename' to be a str or path-like object\n"
     ]
    }
   ],
   "source": [
    "import cv2\n",
    "import numpy as np\n",
    "import pandas as pd\n",
    "import path\n",
    "\n",
    "def calculate_covisibility_balanced_flow(image1_path, image2_path):\n",
    "    # Load the two images as grayscale\n",
    "    img1 = cv2.imread(image1_path, cv2.IMREAD_GRAYSCALE)\n",
    "    img2 = cv2.imread(image2_path, cv2.IMREAD_GRAYSCALE)\n",
    "\n",
    "    if img1 is None or img2 is None:\n",
    "        raise ValueError(\"One or both images could not be loaded.\")\n",
    "\n",
    "    # Resize images for consistent analysis\n",
    "    img1 = cv2.resize(img1, (640, 480))\n",
    "    img2 = cv2.resize(img2, (640, 480))\n",
    "\n",
    "    # Calculate dense optical flow\n",
    "    flow = cv2.calcOpticalFlowFarneback(\n",
    "        img1, img2,\n",
    "        None,  # Output flow array\n",
    "        0.5,   # Pyramid scale\n",
    "        3,     # Number of pyramid levels\n",
    "        15,    # Window size\n",
    "        3,     # Number of iterations at each pyramid level\n",
    "        5,     # Size of the pixel neighborhood\n",
    "        1.2,   # Standard deviation of the Gaussian\n",
    "        0      # Flags\n",
    "    )\n",
    "\n",
    "    # Compute magnitude and angle of flow vectors\n",
    "    magnitude, angle = cv2.cartToPolar(flow[..., 0], flow[..., 1])\n",
    "\n",
    "    # Adjust thresholds for valid motion\n",
    "    magnitude_threshold_min = 1.5  # Looser minimum magnitude\n",
    "    magnitude_threshold_max = 30.0  # Keep a tighter upper bound\n",
    "    valid_flow_mask = (magnitude > magnitude_threshold_min) & (magnitude < magnitude_threshold_max)\n",
    "\n",
    "    # Focus on regions with texture (high gradient regions)\n",
    "    gradient_x = cv2.Sobel(img1, cv2.CV_64F, 1, 0, ksize=3)\n",
    "    gradient_y = cv2.Sobel(img1, cv2.CV_64F, 0, 1, ksize=3)\n",
    "    gradient_magnitude = np.sqrt(gradient_x**2 + gradient_y**2)\n",
    "    texture_threshold = 20.0  # Looser texture threshold\n",
    "    texture_mask = gradient_magnitude > texture_threshold\n",
    "\n",
    "    # Combine valid flow mask with texture mask using weights\n",
    "    combined_mask = valid_flow_mask & texture_mask\n",
    "    combined_weighted_mask = 0.7 * valid_flow_mask + 0.3 * texture_mask\n",
    "\n",
    "    # Normalize weights to scale between 0 and 1\n",
    "    combined_weighted_mask = combined_weighted_mask / combined_weighted_mask.max()\n",
    "\n",
    "    # Calculate covisibility as the weighted sum of valid motion and texture\n",
    "    total_pixels = np.prod(flow.shape[:2])  # Total number of pixels\n",
    "    valid_pixels = np.sum(combined_mask)\n",
    "    weighted_pixels = np.sum(combined_weighted_mask)\n",
    "    covisibility = weighted_pixels / total_pixels\n",
    "\n",
    "    return covisibility, combined_mask\n",
    "\n",
    "\n",
    "def process_csv_and_calculate_covisibility(csv_path, image_dir):\n",
    "    # Read the CSV\n",
    "    df = pd.read_csv(csv_path)\n",
    "\n",
    "    # Add a new column to store covisibility results\n",
    "    df['calc_covisibility'] = None \n",
    "\n",
    "    for index, row in df.iterrows():\n",
    "        im1_path = f\"{image_dir}/{row['im1']}.jpg\"\n",
    "        im2_path = f\"{image_dir}/{row['im2']}.jpg\"\n",
    "        print(im1_path)\n",
    "        if not os.path.exists(im1_path):\n",
    "            print(\"missing\")\n",
    "        # Load the images\n",
    "        img1 = cv2.imread(im1_path, cv2.IMREAD_GRAYSCALE)\n",
    "        img2 = cv2.imread(im2_path, cv2.IMREAD_GRAYSCALE)\n",
    "\n",
    "        if img1 is None or img2 is None:\n",
    "            print(f\"Warning: One of the images {im1_path} or {im2_path} could not be loaded.\")\n",
    "            continue\n",
    "\n",
    "        # Calculate covisibility\n",
    "        covisibility = calculate_covisibility_balanced_flow(img1, img2)\n",
    "        df.at[index, 'calc_covisibility'] = covisibility\n",
    "\n",
    "        print(f\"Processed: {im1_path} & {im2_path} -> Covisibility: {covisibility}\")\n",
    "\n",
    "    # Save the updated CSV with covisibility scores\n",
    "    output_csv_path = \"output_with_covisibility.csv\"\n",
    "    df.to_csv(output_csv_path, index=False)\n",
    "    print(f\"Results saved to {output_csv_path}\")\n",
    "\n",
    "csv_path = \"/share/project_data/external/train/trevi_fountain/pair_covisibility.csv\"  # Path to the input CSV file\n",
    "image_dir = \"/share/project_data/external/train/trevi_fountain/images\"  # Directory containing the images\n",
    "process_csv_and_calculate_covisibility(csv_path, image_dir)\n",
    "\"\"\"\n",
    "# Example usage\n",
    "image1_path = \"/share/project_data/external/train/trevi_fountain/images/76104794_5487278337.jpg\"\n",
    "image2_path = \"/share/project_data/external/train/trevi_fountain/images/55093169_11139497355.jpg\"\n",
    "covisibility, matched_image = calculate_covisibility_balanced_flow(image1_path, image2_path)\n",
    "\n",
    "print(f\"Covisibility: {covisibility}\")\n",
    "\"\"\"\n"
   ]
  },
  {
   "cell_type": "code",
   "execution_count": 5,
   "metadata": {},
   "outputs": [
    {
     "data": {
      "text/plain": [
       "<module 'utils.estimator_util' from '/app/utils/estimator_util.py'>"
      ]
     },
     "execution_count": 5,
     "metadata": {},
     "output_type": "execute_result"
    }
   ],
   "source": [
    "importlib.reload(wrp)\n",
    "importlib.reload(du)\n",
    "importlib.reload(exu)\n",
    "importlib.reload(esu)"
   ]
  },
  {
   "cell_type": "code",
   "execution_count": 6,
   "metadata": {},
   "outputs": [],
   "source": [
    "# Usage\n",
    "importlib.reload(pu)\n",
    "image_processor = pu.ImagePreprocessor(resize=(512, 512), normalize=False, greyscale=True)\n",
    "importlib.reload(exu)\n",
    "feature_extracotr = exu.FeatureExtractor(exu.ExtrectorType.SIFT)"
   ]
  },
  {
   "cell_type": "code",
   "execution_count": 7,
   "metadata": {},
   "outputs": [
    {
     "name": "stdout",
     "output_type": "stream",
     "text": [
      "Loading image data and metadata\n",
      "Extracting features from sences\n"
     ]
    },
    {
     "name": "stderr",
     "output_type": "stream",
     "text": [
      "Scenes: 100%|██████████| 12/12 [00:50<00:00,  4.21s/it]\n"
     ]
    }
   ],
   "source": [
    "importlib.reload(du)\n",
    "dataset = du.DatasetLoader(root_dir=EXT_DATA_DIR, train_mode=True)\n",
    "dataset.load_all_dataset(image_processor, feature_extracotr)"
   ]
  },
  {
   "cell_type": "code",
   "execution_count": 1,
   "metadata": {},
   "outputs": [
    {
     "ename": "NameError",
     "evalue": "name 'importlib' is not defined",
     "output_type": "error",
     "traceback": [
      "\u001b[0;31m---------------------------------------------------------------------------\u001b[0m",
      "\u001b[0;31mNameError\u001b[0m                                 Traceback (most recent call last)",
      "Cell \u001b[0;32mIn[1], line 2\u001b[0m\n\u001b[1;32m      1\u001b[0m \u001b[38;5;28;01mfrom\u001b[39;00m \u001b[38;5;21;01mutils\u001b[39;00m \u001b[38;5;28;01mimport\u001b[39;00m matcher_utils \u001b[38;5;28;01mas\u001b[39;00m mu\n\u001b[0;32m----> 2\u001b[0m \u001b[43mimportlib\u001b[49m\u001b[38;5;241m.\u001b[39mreload(mu)\n\u001b[1;32m      3\u001b[0m matcher \u001b[38;5;241m=\u001b[39m mu\u001b[38;5;241m.\u001b[39mFeatureMatcher(mu\u001b[38;5;241m.\u001b[39mMatcherType\u001b[38;5;241m.\u001b[39mBFMatcherWithKNN)\n",
      "\u001b[0;31mNameError\u001b[0m: name 'importlib' is not defined"
     ]
    }
   ],
   "source": [
    "from utils import matcher_utils as mu\n",
    "importlib.reload(mu)\n",
    "matcher = mu.FeatureMatcher(mu.MatcherType.BFMatcherWithKNN)"
   ]
  },
  {
   "cell_type": "code",
   "execution_count": 24,
   "metadata": {},
   "outputs": [
    {
     "name": "stdout",
     "output_type": "stream",
     "text": [
      "[+] Processing scene \"brandenburg_gate\": found 6767 pairs (will keep 1000)\n",
      "[+] Processing scene \"british_museum\": found 889 pairs (will keep 889)\n",
      "[+] Processing scene \"buckingham_palace\": found 6646 pairs (will keep 1000)\n",
      "[+] Processing scene \"colosseum_exterior\": found 7314 pairs (will keep 1000)\n",
      "[+] Processing scene \"lincoln_memorial_statue\": found 6308 pairs (will keep 1000)\n",
      "[+] Processing scene \"notre_dame_front_facade\": found 8448 pairs (will keep 1000)\n",
      "[+] Processing scene \"pantheon_exterior\": found 9888 pairs (will keep 1000)\n",
      "[+] Processing scene \"sacre_coeur\": found 4233 pairs (will keep 1000)\n",
      "[+] Processing scene \"sagrada_familia\": found 2767 pairs (will keep 1000)\n",
      "[+] Processing scene \"taj_mahal\": found 6730 pairs (will keep 1000)\n",
      "[+] Processing scene \"temple_nara_japan\": found 8115 pairs (will keep 1000)\n",
      "[+] Processing scene \"trevi_fountain\": found 11166 pairs (will keep 1000)\n",
      "Matching features for scene: brandenburg_gate\n",
      "In matcher there are 1000 valid pairs to estimate for\n",
      "Total time taken for matching features in scene brandenburg_gate: 1.95 seconds\n",
      "Matching features for scene: british_museum\n",
      "In matcher there are 889 valid pairs to estimate for\n",
      "Total time taken for matching features in scene british_museum: 5.45 seconds\n",
      "Matching features for scene: buckingham_palace\n",
      "In matcher there are 1000 valid pairs to estimate for\n",
      "Total time taken for matching features in scene buckingham_palace: 14.20 seconds\n",
      "Matching features for scene: colosseum_exterior\n",
      "In matcher there are 1000 valid pairs to estimate for\n",
      "Total time taken for matching features in scene colosseum_exterior: 17.80 seconds\n",
      "Matching features for scene: lincoln_memorial_statue\n",
      "In matcher there are 1000 valid pairs to estimate for\n",
      "Total time taken for matching features in scene lincoln_memorial_statue: 1.43 seconds\n",
      "Matching features for scene: notre_dame_front_facade\n",
      "In matcher there are 1000 valid pairs to estimate for\n",
      "Total time taken for matching features in scene notre_dame_front_facade: 22.85 seconds\n",
      "Matching features for scene: pantheon_exterior\n",
      "In matcher there are 1000 valid pairs to estimate for\n",
      "Total time taken for matching features in scene pantheon_exterior: 10.04 seconds\n",
      "Matching features for scene: sacre_coeur\n",
      "In matcher there are 1000 valid pairs to estimate for\n",
      "Total time taken for matching features in scene sacre_coeur: 12.19 seconds\n",
      "Matching features for scene: sagrada_familia\n",
      "In matcher there are 1000 valid pairs to estimate for\n",
      "Total time taken for matching features in scene sagrada_familia: 27.76 seconds\n",
      "Matching features for scene: taj_mahal\n",
      "In matcher there are 1000 valid pairs to estimate for\n",
      "Total time taken for matching features in scene taj_mahal: 4.21 seconds\n",
      "Matching features for scene: temple_nara_japan\n",
      "In matcher there are 1000 valid pairs to estimate for\n",
      "Total time taken for matching features in scene temple_nara_japan: 8.99 seconds\n",
      "Matching features for scene: trevi_fountain\n",
      "In matcher there are 1000 valid pairs to estimate for\n",
      "Total time taken for matching features in scene trevi_fountain: 19.85 seconds\n"
     ]
    }
   ],
   "source": [
    "wrp.sample_pairs_for_run(dataset, 1000)\n",
    "wrp.match_features(dataset, matcher, covisibility_threshold=0.1)"
   ]
  },
  {
   "cell_type": "code",
   "execution_count": 19,
   "metadata": {},
   "outputs": [],
   "source": [
    "list1 = [(1, 2), (3, 4), (5, 6), (7, 8), (9, 10), (11, 12), (13, 14), (15, 16)]\n",
    "list2 = [(17, 18), (19, 20), (21, 22), (23, 24), (25, 26), (27, 28), (29, 30), (31, 32)]"
   ]
  },
  {
   "cell_type": "code",
   "execution_count": 20,
   "metadata": {},
   "outputs": [],
   "source": [
    "importlib.reload(esu)\n",
    "\n",
    "# Recreate the estimator configuration and estimator using the reloaded module\n",
    "es_alg_conf = esu.RANSACConfig()\n",
    "es_conf = esu.EstimatorConfig('RANSAC', es_alg_conf)\n",
    "fe = esu.FundamentalMatrixEstimator(list1, list2, es_conf)\n"
   ]
  },
  {
   "cell_type": "code",
   "execution_count": 21,
   "metadata": {},
   "outputs": [
    {
     "name": "stdout",
     "output_type": "stream",
     "text": [
      "Estimating fundamental matrix for pairs in scene: brandenburg_gate\n",
      "Estimating fundamental matrix for pairs in scene: british_museum\n",
      "Estimating fundamental matrix for pairs in scene: buckingham_palace\n",
      "Estimating fundamental matrix for pairs in scene: colosseum_exterior\n",
      "Estimating fundamental matrix for pairs in scene: lincoln_memorial_statue\n",
      "Estimating fundamental matrix for pairs in scene: notre_dame_front_facade\n",
      "Estimating fundamental matrix for pairs in scene: pantheon_exterior\n",
      "[-]Error: Unable to predict fundemental matrix, filling in random value!!\n",
      "[-]Error: Unable to predict fundemental matrix, filling in random value!!\n",
      "[-]Error: Unable to predict fundemental matrix, filling in random value!!\n",
      "[-]Error: Unable to predict fundemental matrix, filling in random value!!\n",
      "Estimating fundamental matrix for pairs in scene: sacre_coeur\n",
      "Estimating fundamental matrix for pairs in scene: sagrada_familia\n",
      "Estimating fundamental matrix for pairs in scene: taj_mahal\n",
      "Estimating fundamental matrix for pairs in scene: temple_nara_japan\n",
      "Estimating fundamental matrix for pairs in scene: trevi_fountain\n"
     ]
    }
   ],
   "source": [
    "sub = wrp.estimate_fundamental_matrix(dataset=dataset, estimator=fe)"
   ]
  },
  {
   "cell_type": "code",
   "execution_count": 22,
   "metadata": {},
   "outputs": [
    {
     "data": {
      "text/html": [
       "<div>\n",
       "<style scoped>\n",
       "    .dataframe tbody tr th:only-of-type {\n",
       "        vertical-align: middle;\n",
       "    }\n",
       "\n",
       "    .dataframe tbody tr th {\n",
       "        vertical-align: top;\n",
       "    }\n",
       "\n",
       "    .dataframe thead th {\n",
       "        text-align: right;\n",
       "    }\n",
       "</style>\n",
       "<table border=\"1\" class=\"dataframe\">\n",
       "  <thead>\n",
       "    <tr style=\"text-align: right;\">\n",
       "      <th></th>\n",
       "      <th>sample_id</th>\n",
       "      <th>fundamental_matrix</th>\n",
       "      <th>mask</th>\n",
       "      <th>inliers1</th>\n",
       "      <th>inliers2</th>\n",
       "    </tr>\n",
       "  </thead>\n",
       "  <tbody>\n",
       "    <tr>\n",
       "      <th>0</th>\n",
       "      <td>brandenburg_gate;90920828_5082887495-20133057_...</td>\n",
       "      <td>[2.690539584220932, 1612.514617442752, 200.763...</td>\n",
       "      <td>[[1], [1], [1], [1], [1], [1], [1], [1], [1], ...</td>\n",
       "      <td>[[-0.449611, -0.054365], [-0.4438, -0.063091],...</td>\n",
       "      <td>[[-0.466144, -0.055466], [-0.116896, -0.039746...</td>\n",
       "    </tr>\n",
       "    <tr>\n",
       "      <th>1</th>\n",
       "      <td>brandenburg_gate;90920828_5082887495-17262282_...</td>\n",
       "      <td>[128.78031623657645, 931.3318786717768, 291.45...</td>\n",
       "      <td>[[1], [1], [1], [1], [1], [1], [1], [1], [1], ...</td>\n",
       "      <td>[[-0.449611, -0.054365], [-0.44568, -0.184222]...</td>\n",
       "      <td>[[-0.461805, -0.083045], [-0.021437, -0.182804...</td>\n",
       "    </tr>\n",
       "    <tr>\n",
       "      <th>2</th>\n",
       "      <td>brandenburg_gate;20133057_3035445116-17262282_...</td>\n",
       "      <td>[3.616088386231112, 40.25542356502047, 9.52606...</td>\n",
       "      <td>[[1], [1], [1], [1], [1], [1], [1], [1], [1], ...</td>\n",
       "      <td>[[-0.47035, -0.043227], [-0.466144, -0.055466]...</td>\n",
       "      <td>[[-0.467542, -0.070519], [-0.461805, -0.083045...</td>\n",
       "    </tr>\n",
       "    <tr>\n",
       "      <th>3</th>\n",
       "      <td>brandenburg_gate;38600512_2168650655-17262282_...</td>\n",
       "      <td>[-6.738109899724764, 15.469393050221587, 3.294...</td>\n",
       "      <td>[[1], [1], [1], [1], [1], [1], [1], [1], [1], ...</td>\n",
       "      <td>[[-0.473136, -0.038246], [-0.472237, -0.062819...</td>\n",
       "      <td>[[-0.091041, -0.013276], [-0.206424, -0.179398...</td>\n",
       "    </tr>\n",
       "    <tr>\n",
       "      <th>4</th>\n",
       "      <td>brandenburg_gate;60770994_853214983-17262282_1...</td>\n",
       "      <td>[-169.93604894380934, -1764.1683388062875, -11...</td>\n",
       "      <td>[[1], [1], [1], [1], [1], [1], [1], [1], [1], ...</td>\n",
       "      <td>[[-0.539844, -0.200452], [-0.539009, -0.199829...</td>\n",
       "      <td>[[-0.021437, -0.182804], [-0.021437, -0.182804...</td>\n",
       "    </tr>\n",
       "    <tr>\n",
       "      <th>...</th>\n",
       "      <td>...</td>\n",
       "      <td>...</td>\n",
       "      <td>...</td>\n",
       "      <td>...</td>\n",
       "      <td>...</td>\n",
       "    </tr>\n",
       "    <tr>\n",
       "      <th>79266</th>\n",
       "      <td>trevi_fountain;56971898_9693937883-14195208_27...</td>\n",
       "      <td>[41.60473813297091, 57.02306644849803, 15.2297...</td>\n",
       "      <td>[[1], [1], [1], [1], [1], [1], [1], [1], [1], ...</td>\n",
       "      <td>[[-0.483343, 0.078887], [-0.482614, 0.026122],...</td>\n",
       "      <td>[[-0.149332, 0.065841], [-0.03244, -0.155495],...</td>\n",
       "    </tr>\n",
       "    <tr>\n",
       "      <th>79267</th>\n",
       "      <td>trevi_fountain;56971898_9693937883-42513253_62...</td>\n",
       "      <td>[25.15387887183869, 2.5893603006884285, 8.1282...</td>\n",
       "      <td>[[1], [1], [1], [1], [1], [1], [1], [1], [1], ...</td>\n",
       "      <td>[[-0.481236, 0.067917], [-0.481236, 0.067917],...</td>\n",
       "      <td>[[0.007934, 0.039083], [0.007934, 0.039083], [...</td>\n",
       "    </tr>\n",
       "    <tr>\n",
       "      <th>79268</th>\n",
       "      <td>trevi_fountain;56971898_9693937883-45798320_11...</td>\n",
       "      <td>[11.617296416650131, 2.344121118068586, 4.0608...</td>\n",
       "      <td>[[1], [1], [1], [1], [1], [1], [1], [1], [1], ...</td>\n",
       "      <td>[[-0.482612, 0.022848], [-0.470882, 0.03304], ...</td>\n",
       "      <td>[[-0.095369, -0.295496], [-0.231158, -0.079859...</td>\n",
       "    </tr>\n",
       "    <tr>\n",
       "      <th>79269</th>\n",
       "      <td>trevi_fountain;56971898_9693937883-45996779_31...</td>\n",
       "      <td>[80.49119167083383, -373.96686954152926, 55.66...</td>\n",
       "      <td>[[1], [1], [1], [1], [1], [1], [1], [1], [1], ...</td>\n",
       "      <td>[[-0.481219, 0.114554], [-0.475259, 0.114595],...</td>\n",
       "      <td>[[-0.027538, 0.058304], [-0.024068, -0.050028]...</td>\n",
       "    </tr>\n",
       "    <tr>\n",
       "      <th>79270</th>\n",
       "      <td>trevi_fountain;58525833_5956866479-37855917_77...</td>\n",
       "      <td>[5.476802301898878, 20.902399636703194, 9.5728...</td>\n",
       "      <td>[[1], [1], [1], [1], [1], [1], [1], [1], [1], ...</td>\n",
       "      <td>[[-0.421836, -0.393711], [-0.417718, -0.302954...</td>\n",
       "      <td>[[0.084133, -0.122718], [-0.161244, -0.246198]...</td>\n",
       "    </tr>\n",
       "  </tbody>\n",
       "</table>\n",
       "<p>79271 rows × 5 columns</p>\n",
       "</div>"
      ],
      "text/plain": [
       "                                               sample_id  \\\n",
       "0      brandenburg_gate;90920828_5082887495-20133057_...   \n",
       "1      brandenburg_gate;90920828_5082887495-17262282_...   \n",
       "2      brandenburg_gate;20133057_3035445116-17262282_...   \n",
       "3      brandenburg_gate;38600512_2168650655-17262282_...   \n",
       "4      brandenburg_gate;60770994_853214983-17262282_1...   \n",
       "...                                                  ...   \n",
       "79266  trevi_fountain;56971898_9693937883-14195208_27...   \n",
       "79267  trevi_fountain;56971898_9693937883-42513253_62...   \n",
       "79268  trevi_fountain;56971898_9693937883-45798320_11...   \n",
       "79269  trevi_fountain;56971898_9693937883-45996779_31...   \n",
       "79270  trevi_fountain;58525833_5956866479-37855917_77...   \n",
       "\n",
       "                                      fundamental_matrix  \\\n",
       "0      [2.690539584220932, 1612.514617442752, 200.763...   \n",
       "1      [128.78031623657645, 931.3318786717768, 291.45...   \n",
       "2      [3.616088386231112, 40.25542356502047, 9.52606...   \n",
       "3      [-6.738109899724764, 15.469393050221587, 3.294...   \n",
       "4      [-169.93604894380934, -1764.1683388062875, -11...   \n",
       "...                                                  ...   \n",
       "79266  [41.60473813297091, 57.02306644849803, 15.2297...   \n",
       "79267  [25.15387887183869, 2.5893603006884285, 8.1282...   \n",
       "79268  [11.617296416650131, 2.344121118068586, 4.0608...   \n",
       "79269  [80.49119167083383, -373.96686954152926, 55.66...   \n",
       "79270  [5.476802301898878, 20.902399636703194, 9.5728...   \n",
       "\n",
       "                                                    mask  \\\n",
       "0      [[1], [1], [1], [1], [1], [1], [1], [1], [1], ...   \n",
       "1      [[1], [1], [1], [1], [1], [1], [1], [1], [1], ...   \n",
       "2      [[1], [1], [1], [1], [1], [1], [1], [1], [1], ...   \n",
       "3      [[1], [1], [1], [1], [1], [1], [1], [1], [1], ...   \n",
       "4      [[1], [1], [1], [1], [1], [1], [1], [1], [1], ...   \n",
       "...                                                  ...   \n",
       "79266  [[1], [1], [1], [1], [1], [1], [1], [1], [1], ...   \n",
       "79267  [[1], [1], [1], [1], [1], [1], [1], [1], [1], ...   \n",
       "79268  [[1], [1], [1], [1], [1], [1], [1], [1], [1], ...   \n",
       "79269  [[1], [1], [1], [1], [1], [1], [1], [1], [1], ...   \n",
       "79270  [[1], [1], [1], [1], [1], [1], [1], [1], [1], ...   \n",
       "\n",
       "                                                inliers1  \\\n",
       "0      [[-0.449611, -0.054365], [-0.4438, -0.063091],...   \n",
       "1      [[-0.449611, -0.054365], [-0.44568, -0.184222]...   \n",
       "2      [[-0.47035, -0.043227], [-0.466144, -0.055466]...   \n",
       "3      [[-0.473136, -0.038246], [-0.472237, -0.062819...   \n",
       "4      [[-0.539844, -0.200452], [-0.539009, -0.199829...   \n",
       "...                                                  ...   \n",
       "79266  [[-0.483343, 0.078887], [-0.482614, 0.026122],...   \n",
       "79267  [[-0.481236, 0.067917], [-0.481236, 0.067917],...   \n",
       "79268  [[-0.482612, 0.022848], [-0.470882, 0.03304], ...   \n",
       "79269  [[-0.481219, 0.114554], [-0.475259, 0.114595],...   \n",
       "79270  [[-0.421836, -0.393711], [-0.417718, -0.302954...   \n",
       "\n",
       "                                                inliers2  \n",
       "0      [[-0.466144, -0.055466], [-0.116896, -0.039746...  \n",
       "1      [[-0.461805, -0.083045], [-0.021437, -0.182804...  \n",
       "2      [[-0.467542, -0.070519], [-0.461805, -0.083045...  \n",
       "3      [[-0.091041, -0.013276], [-0.206424, -0.179398...  \n",
       "4      [[-0.021437, -0.182804], [-0.021437, -0.182804...  \n",
       "...                                                  ...  \n",
       "79266  [[-0.149332, 0.065841], [-0.03244, -0.155495],...  \n",
       "79267  [[0.007934, 0.039083], [0.007934, 0.039083], [...  \n",
       "79268  [[-0.095369, -0.295496], [-0.231158, -0.079859...  \n",
       "79269  [[-0.027538, 0.058304], [-0.024068, -0.050028]...  \n",
       "79270  [[0.084133, -0.122718], [-0.161244, -0.246198]...  \n",
       "\n",
       "[79271 rows x 5 columns]"
      ]
     },
     "execution_count": 22,
     "metadata": {},
     "output_type": "execute_result"
    }
   ],
   "source": [
    "sub"
   ]
  },
  {
   "cell_type": "code",
   "execution_count": 23,
   "metadata": {},
   "outputs": [
    {
     "data": {
      "text/html": [
       "<div>\n",
       "<style scoped>\n",
       "    .dataframe tbody tr th:only-of-type {\n",
       "        vertical-align: middle;\n",
       "    }\n",
       "\n",
       "    .dataframe tbody tr th {\n",
       "        vertical-align: top;\n",
       "    }\n",
       "\n",
       "    .dataframe thead th {\n",
       "        text-align: right;\n",
       "    }\n",
       "</style>\n",
       "<table border=\"1\" class=\"dataframe\">\n",
       "  <thead>\n",
       "    <tr style=\"text-align: right;\">\n",
       "      <th></th>\n",
       "      <th>sample_id</th>\n",
       "      <th>fundamental_matrix</th>\n",
       "      <th>mask</th>\n",
       "      <th>inliers1</th>\n",
       "      <th>inliers2</th>\n",
       "    </tr>\n",
       "  </thead>\n",
       "  <tbody>\n",
       "  </tbody>\n",
       "</table>\n",
       "</div>"
      ],
      "text/plain": [
       "Empty DataFrame\n",
       "Columns: [sample_id, fundamental_matrix, mask, inliers1, inliers2]\n",
       "Index: []"
      ]
     },
     "execution_count": 23,
     "metadata": {},
     "output_type": "execute_result"
    }
   ],
   "source": [
    "sub[sub.fundamental_matrix.isna()]"
   ]
  },
  {
   "cell_type": "code",
   "execution_count": 24,
   "metadata": {},
   "outputs": [],
   "source": [
    "scaling_data = pd.read_csv(os.path.join(EXT_DATA_DIR, 'train/scaling_factors.csv'), index_col=0).set_index('scene')"
   ]
  },
  {
   "cell_type": "code",
   "execution_count": 25,
   "metadata": {},
   "outputs": [],
   "source": [
    "thresholds_q = np.linspace(1, 10, 10)\n",
    "thresholds_t = np.geomspace(0.2, 5, 10)"
   ]
  },
  {
   "cell_type": "code",
   "execution_count": 26,
   "metadata": {},
   "outputs": [
    {
     "name": "stdout",
     "output_type": "stream",
     "text": [
      "Evaluating for brandenburg_gate\n",
      "Evaluating for british_museum\n",
      "Evaluating for buckingham_palace\n",
      "Evaluating for colosseum_exterior\n",
      "Evaluating for lincoln_memorial_statue\n",
      "Evaluating for notre_dame_front_facade\n",
      "Evaluating for pantheon_exterior\n",
      "Evaluating for sacre_coeur\n",
      "Evaluating for sagrada_familia\n",
      "Evaluating for taj_mahal\n",
      "Evaluating for temple_nara_japan\n",
      "Evaluating for trevi_fountain\n"
     ]
    }
   ],
   "source": [
    "importlib.reload(wrp)\n",
    "\n",
    "evals = wrp.evaluate_results(dataset, sub, scaling=scaling_data, thresholds_q=thresholds_q, thresholds_t=thresholds_t)"
   ]
  },
  {
   "cell_type": "code",
   "execution_count": 27,
   "metadata": {
    "vscode": {
     "languageId": "ruby"
    }
   },
   "outputs": [
    {
     "name": "stdout",
     "output_type": "stream",
     "text": [
      "                      scene       maa\n",
      "0          brandenburg_gate  0.007108\n",
      "1            british_museum  0.010124\n",
      "2         buckingham_palace  0.002152\n",
      "3        colosseum_exterior  0.001107\n",
      "4   lincoln_memorial_statue  0.015932\n",
      "5   notre_dame_front_facade  0.007197\n",
      "6         pantheon_exterior  0.004875\n",
      "7               sacre_coeur  0.002055\n",
      "8           sagrada_familia  0.011926\n",
      "9                 taj_mahal  0.008083\n",
      "10        temple_nara_japan  0.012360\n",
      "11           trevi_fountain  0.002732\n"
     ]
    }
   ],
   "source": [
    "# Extract scene names from sample_id\n",
    "evals['scene'] = evals['sample_id'].apply(lambda x: x.split(';')[0])\n",
    "\n",
    "# Group by scene and calculate mean accuracy measures\n",
    "scene_accuracy = evals.groupby('scene').agg({\n",
    "    'maa': 'mean'\n",
    "}).reset_index()\n",
    "\n",
    "print(scene_accuracy)"
   ]
  },
  {
   "cell_type": "code",
   "execution_count": null,
   "metadata": {
    "vscode": {
     "languageId": "ruby"
    }
   },
   "outputs": [],
   "source": []
  },
  {
   "cell_type": "code",
   "execution_count": null,
   "metadata": {
    "vscode": {
     "languageId": "ruby"
    }
   },
   "outputs": [],
   "source": []
  },
  {
   "cell_type": "code",
   "execution_count": null,
   "metadata": {
    "vscode": {
     "languageId": "ruby"
    }
   },
   "outputs": [],
   "source": []
  },
  {
   "cell_type": "code",
   "execution_count": null,
   "metadata": {
    "vscode": {
     "languageId": "ruby"
    }
   },
   "outputs": [],
   "source": []
  },
  {
   "cell_type": "code",
   "execution_count": null,
   "metadata": {
    "vscode": {
     "languageId": "ruby"
    }
   },
   "outputs": [],
   "source": []
  },
  {
   "cell_type": "code",
   "execution_count": 28,
   "metadata": {},
   "outputs": [],
   "source": [
    "importlib.reload(du)\n",
    "\n",
    "test_data = du.DatasetLoader(os.path.join(EXT_DATA_DIR), train_mode=False)\n"
   ]
  },
  {
   "cell_type": "code",
   "execution_count": 29,
   "metadata": {},
   "outputs": [],
   "source": [
    "importlib.reload(wrp)\n",
    "\n",
    "test_data = wrp.preprocess_data(test_data, preprocessor, extractor)"
   ]
  },
  {
   "cell_type": "code",
   "execution_count": 30,
   "metadata": {
    "vscode": {
     "languageId": "ruby"
    }
   },
   "outputs": [
    {
     "name": "stdout",
     "output_type": "stream",
     "text": [
      "[+] Processing scene \"notre_dame_front_facade\": found 4923 pairs (will keep 1000)\n",
      "[+] Processing scene \"st_pauls_cathedral\": found 5564 pairs (will keep 1000)\n",
      "[+] Processing scene \"st_peters_square\": found 3403 pairs (will keep 1000)\n",
      "[+] Processing scene \"trevi_fountain\": found 4950 pairs (will keep 1000)\n"
     ]
    }
   ],
   "source": [
    "wrp.sample_pairs_for_run(test_data, 1000)"
   ]
  },
  {
   "cell_type": "code",
   "execution_count": 31,
   "metadata": {
    "vscode": {
     "languageId": "ruby"
    }
   },
   "outputs": [
    {
     "name": "stderr",
     "output_type": "stream",
     "text": [
      "Scenes: 100%|██████████| 4/4 [00:15<00:00,  3.84s/it]\n"
     ]
    }
   ],
   "source": [
    "test_data = wrp.extract_features(test_data, extractor)"
   ]
  },
  {
   "cell_type": "code",
   "execution_count": 32,
   "metadata": {
    "vscode": {
     "languageId": "ruby"
    }
   },
   "outputs": [
    {
     "name": "stdout",
     "output_type": "stream",
     "text": [
      "Matching features for scene: notre_dame_front_facade\n",
      "In matcher there are 1000 valid pairs to estimate for\n",
      "Total time taken for matching features in scene notre_dame_front_facade: 19.73 seconds\n",
      "Matching features for scene: st_pauls_cathedral\n",
      "In matcher there are 1000 valid pairs to estimate for\n",
      "Total time taken for matching features in scene st_pauls_cathedral: 11.46 seconds\n",
      "Matching features for scene: st_peters_square\n",
      "In matcher there are 1000 valid pairs to estimate for\n",
      "Total time taken for matching features in scene st_peters_square: 11.15 seconds\n",
      "Matching features for scene: trevi_fountain\n",
      "In matcher there are 1000 valid pairs to estimate for\n",
      "Total time taken for matching features in scene trevi_fountain: 19.69 seconds\n"
     ]
    }
   ],
   "source": [
    "importlib.reload(wrp)\n",
    "\n",
    "wrp.match_features(test_data, matcher, covisibility_threshold=0.1)"
   ]
  },
  {
   "cell_type": "code",
   "execution_count": 33,
   "metadata": {
    "vscode": {
     "languageId": "ruby"
    }
   },
   "outputs": [
    {
     "data": {
      "text/html": [
       "<div>\n",
       "<style scoped>\n",
       "    .dataframe tbody tr th:only-of-type {\n",
       "        vertical-align: middle;\n",
       "    }\n",
       "\n",
       "    .dataframe tbody tr th {\n",
       "        vertical-align: top;\n",
       "    }\n",
       "\n",
       "    .dataframe thead th {\n",
       "        text-align: right;\n",
       "    }\n",
       "</style>\n",
       "<table border=\"1\" class=\"dataframe\">\n",
       "  <thead>\n",
       "    <tr style=\"text-align: right;\">\n",
       "      <th></th>\n",
       "      <th>x</th>\n",
       "      <th>keypoints1</th>\n",
       "      <th>keypoints2</th>\n",
       "      <th>im1</th>\n",
       "      <th>im2</th>\n",
       "    </tr>\n",
       "  </thead>\n",
       "  <tbody>\n",
       "    <tr>\n",
       "      <th>8355</th>\n",
       "      <td>NaN</td>\n",
       "      <td>(12.847030, 163.223846);(15.014727, 469.048767...</td>\n",
       "      <td>(366.295776, 209.655945);(33.882420, 476.94717...</td>\n",
       "      <td>94451439_81070120</td>\n",
       "      <td>01207461_5308976270</td>\n",
       "    </tr>\n",
       "    <tr>\n",
       "      <th>8356</th>\n",
       "      <td>NaN</td>\n",
       "      <td>(4.062292, 361.042084);(8.040526, 242.644150);...</td>\n",
       "      <td>(226.593643, 468.719940);(306.165894, 189.9059...</td>\n",
       "      <td>92227797_2634489539</td>\n",
       "      <td>75421800_5039453302</td>\n",
       "    </tr>\n",
       "    <tr>\n",
       "      <th>8358</th>\n",
       "      <td>NaN</td>\n",
       "      <td>(3.115355, 261.354614);(12.197722, 217.873627)...</td>\n",
       "      <td>(480.639801, 224.732574);(28.023870, 296.95748...</td>\n",
       "      <td>92227797_2634489539</td>\n",
       "      <td>01207461_5308976270</td>\n",
       "    </tr>\n",
       "    <tr>\n",
       "      <th>8365</th>\n",
       "      <td>NaN</td>\n",
       "      <td>(9.020869, 135.725861);(9.020869, 135.725861);...</td>\n",
       "      <td>(262.126160, 175.716110);(24.152212, 349.29657...</td>\n",
       "      <td>94451439_81070120</td>\n",
       "      <td>89944336_8704609569</td>\n",
       "    </tr>\n",
       "    <tr>\n",
       "      <th>8370</th>\n",
       "      <td>NaN</td>\n",
       "      <td>(7.131830, 477.096893);(9.020869, 135.725861);...</td>\n",
       "      <td>(102.518013, 296.478516);(475.883057, 43.29823...</td>\n",
       "      <td>94451439_81070120</td>\n",
       "      <td>64682734_3599756412</td>\n",
       "    </tr>\n",
       "  </tbody>\n",
       "</table>\n",
       "</div>"
      ],
      "text/plain": [
       "        x                                         keypoints1  \\\n",
       "8355  NaN  (12.847030, 163.223846);(15.014727, 469.048767...   \n",
       "8356  NaN  (4.062292, 361.042084);(8.040526, 242.644150);...   \n",
       "8358  NaN  (3.115355, 261.354614);(12.197722, 217.873627)...   \n",
       "8365  NaN  (9.020869, 135.725861);(9.020869, 135.725861);...   \n",
       "8370  NaN  (7.131830, 477.096893);(9.020869, 135.725861);...   \n",
       "\n",
       "                                             keypoints2                  im1  \\\n",
       "8355  (366.295776, 209.655945);(33.882420, 476.94717...    94451439_81070120   \n",
       "8356  (226.593643, 468.719940);(306.165894, 189.9059...  92227797_2634489539   \n",
       "8358  (480.639801, 224.732574);(28.023870, 296.95748...  92227797_2634489539   \n",
       "8365  (262.126160, 175.716110);(24.152212, 349.29657...    94451439_81070120   \n",
       "8370  (102.518013, 296.478516);(475.883057, 43.29823...    94451439_81070120   \n",
       "\n",
       "                      im2  \n",
       "8355  01207461_5308976270  \n",
       "8356  75421800_5039453302  \n",
       "8358  01207461_5308976270  \n",
       "8365  89944336_8704609569  \n",
       "8370  64682734_3599756412  "
      ]
     },
     "execution_count": 33,
     "metadata": {},
     "output_type": "execute_result"
    }
   ],
   "source": [
    "test_data.scenes_data['st_pauls_cathedral'].covisibility.head()"
   ]
  },
  {
   "cell_type": "code",
   "execution_count": 34,
   "metadata": {
    "vscode": {
     "languageId": "ruby"
    }
   },
   "outputs": [
    {
     "name": "stdout",
     "output_type": "stream",
     "text": [
      "Estimating fundamental matrix for pairs in scene: notre_dame_front_facade\n",
      "Estimating fundamental matrix for pairs in scene: st_pauls_cathedral\n",
      "Estimating fundamental matrix for pairs in scene: st_peters_square\n",
      "Estimating fundamental matrix for pairs in scene: trevi_fountain\n"
     ]
    }
   ],
   "source": [
    "importlib.reload(wrp)\n",
    "\n",
    "subt = wrp.estimate_fundamental_matrix(dataset=test_data, estimator=fe)"
   ]
  },
  {
   "cell_type": "code",
   "execution_count": 35,
   "metadata": {
    "vscode": {
     "languageId": "ruby"
    }
   },
   "outputs": [
    {
     "data": {
      "text/html": [
       "<div>\n",
       "<style scoped>\n",
       "    .dataframe tbody tr th:only-of-type {\n",
       "        vertical-align: middle;\n",
       "    }\n",
       "\n",
       "    .dataframe tbody tr th {\n",
       "        vertical-align: top;\n",
       "    }\n",
       "\n",
       "    .dataframe thead th {\n",
       "        text-align: right;\n",
       "    }\n",
       "</style>\n",
       "<table border=\"1\" class=\"dataframe\">\n",
       "  <thead>\n",
       "    <tr style=\"text-align: right;\">\n",
       "      <th></th>\n",
       "      <th>sample_id</th>\n",
       "      <th>fundamental_matrix</th>\n",
       "      <th>mask</th>\n",
       "      <th>inliers1</th>\n",
       "      <th>inliers2</th>\n",
       "    </tr>\n",
       "  </thead>\n",
       "  <tbody>\n",
       "    <tr>\n",
       "      <th>0</th>\n",
       "      <td>notre_dame_front_facade;80548383_5204479115-60...</td>\n",
       "      <td>[4.9355584881103054e-05, 0.0010906855873877087...</td>\n",
       "      <td>[[1], [1], [1], [0], [0], [1], [1], [0], [0], ...</td>\n",
       "      <td>[[2.562089, 400.581482], [7.888495, 147.036682...</td>\n",
       "      <td>[[50.984619, 432.284271], [13.537509, 136.1445...</td>\n",
       "    </tr>\n",
       "    <tr>\n",
       "      <th>1</th>\n",
       "      <td>notre_dame_front_facade;90958466_3436202664-83...</td>\n",
       "      <td>[1.7377103454662714e-06, -4.972565709483175e-0...</td>\n",
       "      <td>[[0], [0], [0], [0], [0], [0], [0], [0], [1], ...</td>\n",
       "      <td>[[27.192312, 295.37674], [55.581264, 267.31939...</td>\n",
       "      <td>[[4.973747, 385.450623], [18.058308, 349.90383...</td>\n",
       "    </tr>\n",
       "    <tr>\n",
       "      <th>2</th>\n",
       "      <td>notre_dame_front_facade;50531430_8292584878-17...</td>\n",
       "      <td>[4.352545923952589e-07, -1.0794024115851953e-0...</td>\n",
       "      <td>[[0], [0], [0], [0], [0], [0], [0], [0], [0], ...</td>\n",
       "      <td>[[50.254921, 271.894775], [67.039688, 212.3981...</td>\n",
       "      <td>[[64.627235, 335.65625], [144.70192, 257.01275...</td>\n",
       "    </tr>\n",
       "    <tr>\n",
       "      <th>3</th>\n",
       "      <td>notre_dame_front_facade;59331375_2244201695-53...</td>\n",
       "      <td>[3.745374167164552e-07, -4.05124376656611e-05,...</td>\n",
       "      <td>[[0], [0], [0], [0], [0], [0], [0], [0], [0], ...</td>\n",
       "      <td>[[36.826992, 301.137054], [37.406326, 283.9612...</td>\n",
       "      <td>[[31.161291, 325.062195], [32.101929, 302.8170...</td>\n",
       "    </tr>\n",
       "    <tr>\n",
       "      <th>4</th>\n",
       "      <td>notre_dame_front_facade;68031923_487578199-371...</td>\n",
       "      <td>[2.340665802478838e-06, 5.4608164675364493e-05...</td>\n",
       "      <td>[[0], [0], [0], [0], [1], [1], [0], [0], [1], ...</td>\n",
       "      <td>[[41.165791, 270.086884], [41.165791, 270.0868...</td>\n",
       "      <td>[[23.128672, 210.645004], [23.128672, 210.6450...</td>\n",
       "    </tr>\n",
       "    <tr>\n",
       "      <th>...</th>\n",
       "      <td>...</td>\n",
       "      <td>...</td>\n",
       "      <td>...</td>\n",
       "      <td>...</td>\n",
       "      <td>...</td>\n",
       "    </tr>\n",
       "    <tr>\n",
       "      <th>3995</th>\n",
       "      <td>trevi_fountain;58627391_2336517069-17273683_84...</td>\n",
       "      <td>[-1.3480942436697519e-05, -0.00039204896222706...</td>\n",
       "      <td>[[0], [0], [0], [0], [0], [0], [0], [0], [0], ...</td>\n",
       "      <td>[[70.863647, 288.116058], [109.706299, 322.478...</td>\n",
       "      <td>[[199.356003, 191.188477], [465.770935, 192.53...</td>\n",
       "    </tr>\n",
       "    <tr>\n",
       "      <th>3996</th>\n",
       "      <td>trevi_fountain;58627391_2336517069-43656145_15...</td>\n",
       "      <td>[-1.4582237840026558e-06, 1.6638497131001863e-...</td>\n",
       "      <td>[[1], [1], [0], [0], [0], [0], [0], [0], [0], ...</td>\n",
       "      <td>[[8.185253, 487.308777], [9.446077, 379.07962]...</td>\n",
       "      <td>[[60.99913, 423.680542], [297.067383, 377.2177...</td>\n",
       "    </tr>\n",
       "    <tr>\n",
       "      <th>3997</th>\n",
       "      <td>trevi_fountain;80288369_2336500045-12228953_78...</td>\n",
       "      <td>[3.7284185514997564e-06, 4.949550500423393e-06...</td>\n",
       "      <td>[[0], [0], [0], [0], [0], [0], [0], [0], [0], ...</td>\n",
       "      <td>[[27.535656, 124.642822], [30.865631, 126.2289...</td>\n",
       "      <td>[[135.095245, 374.947021], [135.095245, 374.94...</td>\n",
       "    </tr>\n",
       "    <tr>\n",
       "      <th>3998</th>\n",
       "      <td>trevi_fountain;65528665_8351228484-12228953_78...</td>\n",
       "      <td>[4.7229561022674074e-07, 1.5172444263677276e-0...</td>\n",
       "      <td>[[0], [0], [0], [0], [0], [1], [0], [0], [0], ...</td>\n",
       "      <td>[[34.863174, 288.543884], [122.76992, 225.9916...</td>\n",
       "      <td>[[330.094177, 497.302521], [355.650543, 329.42...</td>\n",
       "    </tr>\n",
       "    <tr>\n",
       "      <th>3999</th>\n",
       "      <td>trevi_fountain;43698067_3712364899-43656145_15...</td>\n",
       "      <td>[-4.516801807867502e-07, -1.4346013619065671e-...</td>\n",
       "      <td>[[0], [0], [0], [0], [0], [0], [0], [1], [0], ...</td>\n",
       "      <td>[[44.209957, 448.811371], [207.096024, 431.723...</td>\n",
       "      <td>[[264.858917, 335.874725], [501.238098, 64.391...</td>\n",
       "    </tr>\n",
       "  </tbody>\n",
       "</table>\n",
       "<p>4000 rows × 5 columns</p>\n",
       "</div>"
      ],
      "text/plain": [
       "                                              sample_id  \\\n",
       "0     notre_dame_front_facade;80548383_5204479115-60...   \n",
       "1     notre_dame_front_facade;90958466_3436202664-83...   \n",
       "2     notre_dame_front_facade;50531430_8292584878-17...   \n",
       "3     notre_dame_front_facade;59331375_2244201695-53...   \n",
       "4     notre_dame_front_facade;68031923_487578199-371...   \n",
       "...                                                 ...   \n",
       "3995  trevi_fountain;58627391_2336517069-17273683_84...   \n",
       "3996  trevi_fountain;58627391_2336517069-43656145_15...   \n",
       "3997  trevi_fountain;80288369_2336500045-12228953_78...   \n",
       "3998  trevi_fountain;65528665_8351228484-12228953_78...   \n",
       "3999  trevi_fountain;43698067_3712364899-43656145_15...   \n",
       "\n",
       "                                     fundamental_matrix  \\\n",
       "0     [4.9355584881103054e-05, 0.0010906855873877087...   \n",
       "1     [1.7377103454662714e-06, -4.972565709483175e-0...   \n",
       "2     [4.352545923952589e-07, -1.0794024115851953e-0...   \n",
       "3     [3.745374167164552e-07, -4.05124376656611e-05,...   \n",
       "4     [2.340665802478838e-06, 5.4608164675364493e-05...   \n",
       "...                                                 ...   \n",
       "3995  [-1.3480942436697519e-05, -0.00039204896222706...   \n",
       "3996  [-1.4582237840026558e-06, 1.6638497131001863e-...   \n",
       "3997  [3.7284185514997564e-06, 4.949550500423393e-06...   \n",
       "3998  [4.7229561022674074e-07, 1.5172444263677276e-0...   \n",
       "3999  [-4.516801807867502e-07, -1.4346013619065671e-...   \n",
       "\n",
       "                                                   mask  \\\n",
       "0     [[1], [1], [1], [0], [0], [1], [1], [0], [0], ...   \n",
       "1     [[0], [0], [0], [0], [0], [0], [0], [0], [1], ...   \n",
       "2     [[0], [0], [0], [0], [0], [0], [0], [0], [0], ...   \n",
       "3     [[0], [0], [0], [0], [0], [0], [0], [0], [0], ...   \n",
       "4     [[0], [0], [0], [0], [1], [1], [0], [0], [1], ...   \n",
       "...                                                 ...   \n",
       "3995  [[0], [0], [0], [0], [0], [0], [0], [0], [0], ...   \n",
       "3996  [[1], [1], [0], [0], [0], [0], [0], [0], [0], ...   \n",
       "3997  [[0], [0], [0], [0], [0], [0], [0], [0], [0], ...   \n",
       "3998  [[0], [0], [0], [0], [0], [1], [0], [0], [0], ...   \n",
       "3999  [[0], [0], [0], [0], [0], [0], [0], [1], [0], ...   \n",
       "\n",
       "                                               inliers1  \\\n",
       "0     [[2.562089, 400.581482], [7.888495, 147.036682...   \n",
       "1     [[27.192312, 295.37674], [55.581264, 267.31939...   \n",
       "2     [[50.254921, 271.894775], [67.039688, 212.3981...   \n",
       "3     [[36.826992, 301.137054], [37.406326, 283.9612...   \n",
       "4     [[41.165791, 270.086884], [41.165791, 270.0868...   \n",
       "...                                                 ...   \n",
       "3995  [[70.863647, 288.116058], [109.706299, 322.478...   \n",
       "3996  [[8.185253, 487.308777], [9.446077, 379.07962]...   \n",
       "3997  [[27.535656, 124.642822], [30.865631, 126.2289...   \n",
       "3998  [[34.863174, 288.543884], [122.76992, 225.9916...   \n",
       "3999  [[44.209957, 448.811371], [207.096024, 431.723...   \n",
       "\n",
       "                                               inliers2  \n",
       "0     [[50.984619, 432.284271], [13.537509, 136.1445...  \n",
       "1     [[4.973747, 385.450623], [18.058308, 349.90383...  \n",
       "2     [[64.627235, 335.65625], [144.70192, 257.01275...  \n",
       "3     [[31.161291, 325.062195], [32.101929, 302.8170...  \n",
       "4     [[23.128672, 210.645004], [23.128672, 210.6450...  \n",
       "...                                                 ...  \n",
       "3995  [[199.356003, 191.188477], [465.770935, 192.53...  \n",
       "3996  [[60.99913, 423.680542], [297.067383, 377.2177...  \n",
       "3997  [[135.095245, 374.947021], [135.095245, 374.94...  \n",
       "3998  [[330.094177, 497.302521], [355.650543, 329.42...  \n",
       "3999  [[264.858917, 335.874725], [501.238098, 64.391...  \n",
       "\n",
       "[4000 rows x 5 columns]"
      ]
     },
     "execution_count": 35,
     "metadata": {},
     "output_type": "execute_result"
    }
   ],
   "source": [
    "subt"
   ]
  },
  {
   "cell_type": "code",
   "execution_count": 36,
   "metadata": {},
   "outputs": [],
   "source": [
    "missing = test_data.test_samples[test_data.test_samples.for_exp.isna()].sample_id\n",
    "missing_df = pd.DataFrame(missing, columns=['sample_id'])\n"
   ]
  },
  {
   "cell_type": "code",
   "execution_count": 37,
   "metadata": {},
   "outputs": [],
   "source": [
    "missing_df['fundamental_matrix'] = missing_df.apply(lambda row: np.random.rand(9), axis=1)"
   ]
  },
  {
   "cell_type": "code",
   "execution_count": 38,
   "metadata": {},
   "outputs": [],
   "source": [
    "final = pd.concat([subt, missing_df]).reset_index(drop=True)[['sample_id', 'fundamental_matrix']]"
   ]
  },
  {
   "cell_type": "code",
   "execution_count": 39,
   "metadata": {},
   "outputs": [
    {
     "data": {
      "text/html": [
       "<div>\n",
       "<style scoped>\n",
       "    .dataframe tbody tr th:only-of-type {\n",
       "        vertical-align: middle;\n",
       "    }\n",
       "\n",
       "    .dataframe tbody tr th {\n",
       "        vertical-align: top;\n",
       "    }\n",
       "\n",
       "    .dataframe thead th {\n",
       "        text-align: right;\n",
       "    }\n",
       "</style>\n",
       "<table border=\"1\" class=\"dataframe\">\n",
       "  <thead>\n",
       "    <tr style=\"text-align: right;\">\n",
       "      <th></th>\n",
       "      <th>sample_id</th>\n",
       "      <th>fundamental_matrix</th>\n",
       "    </tr>\n",
       "  </thead>\n",
       "  <tbody>\n",
       "    <tr>\n",
       "      <th>0</th>\n",
       "      <td>notre_dame_front_facade;80548383_5204479115-60...</td>\n",
       "      <td>[4.9355584881103054e-05, 0.0010906855873877087...</td>\n",
       "    </tr>\n",
       "    <tr>\n",
       "      <th>1</th>\n",
       "      <td>notre_dame_front_facade;90958466_3436202664-83...</td>\n",
       "      <td>[1.7377103454662714e-06, -4.972565709483175e-0...</td>\n",
       "    </tr>\n",
       "    <tr>\n",
       "      <th>2</th>\n",
       "      <td>notre_dame_front_facade;50531430_8292584878-17...</td>\n",
       "      <td>[4.352545923952589e-07, -1.0794024115851953e-0...</td>\n",
       "    </tr>\n",
       "    <tr>\n",
       "      <th>3</th>\n",
       "      <td>notre_dame_front_facade;59331375_2244201695-53...</td>\n",
       "      <td>[3.745374167164552e-07, -4.05124376656611e-05,...</td>\n",
       "    </tr>\n",
       "    <tr>\n",
       "      <th>4</th>\n",
       "      <td>notre_dame_front_facade;68031923_487578199-371...</td>\n",
       "      <td>[2.340665802478838e-06, 5.4608164675364493e-05...</td>\n",
       "    </tr>\n",
       "    <tr>\n",
       "      <th>...</th>\n",
       "      <td>...</td>\n",
       "      <td>...</td>\n",
       "    </tr>\n",
       "    <tr>\n",
       "      <th>18835</th>\n",
       "      <td>notre_dame_front_facade;97270767_81833198-8637...</td>\n",
       "      <td>[0.46318538283346267, 0.028781216777905017, 0....</td>\n",
       "    </tr>\n",
       "    <tr>\n",
       "      <th>18836</th>\n",
       "      <td>notre_dame_front_facade;97270767_81833198-8701...</td>\n",
       "      <td>[0.631284639876883, 0.8100532649244457, 0.2372...</td>\n",
       "    </tr>\n",
       "    <tr>\n",
       "      <th>18837</th>\n",
       "      <td>notre_dame_front_facade;97270767_81833198-8779...</td>\n",
       "      <td>[0.3927997180856452, 0.42721431224903306, 0.25...</td>\n",
       "    </tr>\n",
       "    <tr>\n",
       "      <th>18838</th>\n",
       "      <td>notre_dame_front_facade;97270767_81833198-8842...</td>\n",
       "      <td>[0.710177589387444, 0.7106038060135481, 0.8713...</td>\n",
       "    </tr>\n",
       "    <tr>\n",
       "      <th>18839</th>\n",
       "      <td>notre_dame_front_facade;97270767_81833198-9517...</td>\n",
       "      <td>[0.650458181018227, 0.05596567593129986, 0.893...</td>\n",
       "    </tr>\n",
       "  </tbody>\n",
       "</table>\n",
       "<p>18840 rows × 2 columns</p>\n",
       "</div>"
      ],
      "text/plain": [
       "                                               sample_id  \\\n",
       "0      notre_dame_front_facade;80548383_5204479115-60...   \n",
       "1      notre_dame_front_facade;90958466_3436202664-83...   \n",
       "2      notre_dame_front_facade;50531430_8292584878-17...   \n",
       "3      notre_dame_front_facade;59331375_2244201695-53...   \n",
       "4      notre_dame_front_facade;68031923_487578199-371...   \n",
       "...                                                  ...   \n",
       "18835  notre_dame_front_facade;97270767_81833198-8637...   \n",
       "18836  notre_dame_front_facade;97270767_81833198-8701...   \n",
       "18837  notre_dame_front_facade;97270767_81833198-8779...   \n",
       "18838  notre_dame_front_facade;97270767_81833198-8842...   \n",
       "18839  notre_dame_front_facade;97270767_81833198-9517...   \n",
       "\n",
       "                                      fundamental_matrix  \n",
       "0      [4.9355584881103054e-05, 0.0010906855873877087...  \n",
       "1      [1.7377103454662714e-06, -4.972565709483175e-0...  \n",
       "2      [4.352545923952589e-07, -1.0794024115851953e-0...  \n",
       "3      [3.745374167164552e-07, -4.05124376656611e-05,...  \n",
       "4      [2.340665802478838e-06, 5.4608164675364493e-05...  \n",
       "...                                                  ...  \n",
       "18835  [0.46318538283346267, 0.028781216777905017, 0....  \n",
       "18836  [0.631284639876883, 0.8100532649244457, 0.2372...  \n",
       "18837  [0.3927997180856452, 0.42721431224903306, 0.25...  \n",
       "18838  [0.710177589387444, 0.7106038060135481, 0.8713...  \n",
       "18839  [0.650458181018227, 0.05596567593129986, 0.893...  \n",
       "\n",
       "[18840 rows x 2 columns]"
      ]
     },
     "execution_count": 39,
     "metadata": {},
     "output_type": "execute_result"
    }
   ],
   "source": [
    "final"
   ]
  },
  {
   "cell_type": "code",
   "execution_count": 40,
   "metadata": {},
   "outputs": [
    {
     "data": {
      "text/html": [
       "<div>\n",
       "<style scoped>\n",
       "    .dataframe tbody tr th:only-of-type {\n",
       "        vertical-align: middle;\n",
       "    }\n",
       "\n",
       "    .dataframe tbody tr th {\n",
       "        vertical-align: top;\n",
       "    }\n",
       "\n",
       "    .dataframe thead th {\n",
       "        text-align: right;\n",
       "    }\n",
       "</style>\n",
       "<table border=\"1\" class=\"dataframe\">\n",
       "  <thead>\n",
       "    <tr style=\"text-align: right;\">\n",
       "      <th></th>\n",
       "      <th>sample_id</th>\n",
       "      <th>fundamental_matrix</th>\n",
       "    </tr>\n",
       "  </thead>\n",
       "  <tbody>\n",
       "  </tbody>\n",
       "</table>\n",
       "</div>"
      ],
      "text/plain": [
       "Empty DataFrame\n",
       "Columns: [sample_id, fundamental_matrix]\n",
       "Index: []"
      ]
     },
     "execution_count": 40,
     "metadata": {},
     "output_type": "execute_result"
    }
   ],
   "source": [
    "final[final.fundamental_matrix.isna()]"
   ]
  },
  {
   "cell_type": "code",
   "execution_count": 41,
   "metadata": {},
   "outputs": [
    {
     "data": {
      "text/html": [
       "<div>\n",
       "<style scoped>\n",
       "    .dataframe tbody tr th:only-of-type {\n",
       "        vertical-align: middle;\n",
       "    }\n",
       "\n",
       "    .dataframe tbody tr th {\n",
       "        vertical-align: top;\n",
       "    }\n",
       "\n",
       "    .dataframe thead th {\n",
       "        text-align: right;\n",
       "    }\n",
       "</style>\n",
       "<table border=\"1\" class=\"dataframe\">\n",
       "  <thead>\n",
       "    <tr style=\"text-align: right;\">\n",
       "      <th></th>\n",
       "      <th>sample_id</th>\n",
       "      <th>fundamental_matrix</th>\n",
       "    </tr>\n",
       "  </thead>\n",
       "  <tbody>\n",
       "    <tr>\n",
       "      <th>0</th>\n",
       "      <td>notre_dame_front_facade;80548383_5204479115-60...</td>\n",
       "      <td>[4.9355584881103054e-05, 0.0010906855873877087...</td>\n",
       "    </tr>\n",
       "    <tr>\n",
       "      <th>1</th>\n",
       "      <td>notre_dame_front_facade;90958466_3436202664-83...</td>\n",
       "      <td>[1.7377103454662714e-06, -4.972565709483175e-0...</td>\n",
       "    </tr>\n",
       "    <tr>\n",
       "      <th>2</th>\n",
       "      <td>notre_dame_front_facade;50531430_8292584878-17...</td>\n",
       "      <td>[4.352545923952589e-07, -1.0794024115851953e-0...</td>\n",
       "    </tr>\n",
       "    <tr>\n",
       "      <th>3</th>\n",
       "      <td>notre_dame_front_facade;59331375_2244201695-53...</td>\n",
       "      <td>[3.745374167164552e-07, -4.05124376656611e-05,...</td>\n",
       "    </tr>\n",
       "    <tr>\n",
       "      <th>4</th>\n",
       "      <td>notre_dame_front_facade;68031923_487578199-371...</td>\n",
       "      <td>[2.340665802478838e-06, 5.4608164675364493e-05...</td>\n",
       "    </tr>\n",
       "    <tr>\n",
       "      <th>...</th>\n",
       "      <td>...</td>\n",
       "      <td>...</td>\n",
       "    </tr>\n",
       "    <tr>\n",
       "      <th>18835</th>\n",
       "      <td>notre_dame_front_facade;97270767_81833198-8637...</td>\n",
       "      <td>[0.46318538283346267, 0.028781216777905017, 0....</td>\n",
       "    </tr>\n",
       "    <tr>\n",
       "      <th>18836</th>\n",
       "      <td>notre_dame_front_facade;97270767_81833198-8701...</td>\n",
       "      <td>[0.631284639876883, 0.8100532649244457, 0.2372...</td>\n",
       "    </tr>\n",
       "    <tr>\n",
       "      <th>18837</th>\n",
       "      <td>notre_dame_front_facade;97270767_81833198-8779...</td>\n",
       "      <td>[0.3927997180856452, 0.42721431224903306, 0.25...</td>\n",
       "    </tr>\n",
       "    <tr>\n",
       "      <th>18838</th>\n",
       "      <td>notre_dame_front_facade;97270767_81833198-8842...</td>\n",
       "      <td>[0.710177589387444, 0.7106038060135481, 0.8713...</td>\n",
       "    </tr>\n",
       "    <tr>\n",
       "      <th>18839</th>\n",
       "      <td>notre_dame_front_facade;97270767_81833198-9517...</td>\n",
       "      <td>[0.650458181018227, 0.05596567593129986, 0.893...</td>\n",
       "    </tr>\n",
       "  </tbody>\n",
       "</table>\n",
       "<p>18840 rows × 2 columns</p>\n",
       "</div>"
      ],
      "text/plain": [
       "                                               sample_id  \\\n",
       "0      notre_dame_front_facade;80548383_5204479115-60...   \n",
       "1      notre_dame_front_facade;90958466_3436202664-83...   \n",
       "2      notre_dame_front_facade;50531430_8292584878-17...   \n",
       "3      notre_dame_front_facade;59331375_2244201695-53...   \n",
       "4      notre_dame_front_facade;68031923_487578199-371...   \n",
       "...                                                  ...   \n",
       "18835  notre_dame_front_facade;97270767_81833198-8637...   \n",
       "18836  notre_dame_front_facade;97270767_81833198-8701...   \n",
       "18837  notre_dame_front_facade;97270767_81833198-8779...   \n",
       "18838  notre_dame_front_facade;97270767_81833198-8842...   \n",
       "18839  notre_dame_front_facade;97270767_81833198-9517...   \n",
       "\n",
       "                                      fundamental_matrix  \n",
       "0      [4.9355584881103054e-05, 0.0010906855873877087...  \n",
       "1      [1.7377103454662714e-06, -4.972565709483175e-0...  \n",
       "2      [4.352545923952589e-07, -1.0794024115851953e-0...  \n",
       "3      [3.745374167164552e-07, -4.05124376656611e-05,...  \n",
       "4      [2.340665802478838e-06, 5.4608164675364493e-05...  \n",
       "...                                                  ...  \n",
       "18835  [0.46318538283346267, 0.028781216777905017, 0....  \n",
       "18836  [0.631284639876883, 0.8100532649244457, 0.2372...  \n",
       "18837  [0.3927997180856452, 0.42721431224903306, 0.25...  \n",
       "18838  [0.710177589387444, 0.7106038060135481, 0.8713...  \n",
       "18839  [0.650458181018227, 0.05596567593129986, 0.893...  \n",
       "\n",
       "[18840 rows x 2 columns]"
      ]
     },
     "execution_count": 41,
     "metadata": {},
     "output_type": "execute_result"
    }
   ],
   "source": [
    "final"
   ]
  },
  {
   "cell_type": "code",
   "execution_count": 42,
   "metadata": {
    "vscode": {
     "languageId": "ruby"
    }
   },
   "outputs": [
    {
     "ename": "NameError",
     "evalue": "name 'formatted_final' is not defined",
     "output_type": "error",
     "traceback": [
      "\u001b[0;31m---------------------------------------------------------------------------\u001b[0m",
      "\u001b[0;31mNameError\u001b[0m                                 Traceback (most recent call last)",
      "Cell \u001b[0;32mIn[42], line 1\u001b[0m\n\u001b[0;32m----> 1\u001b[0m formatted_final[\u001b[38;5;124m'\u001b[39m\u001b[38;5;124mfundamental_matrix\u001b[39m\u001b[38;5;124m'\u001b[39m] \u001b[38;5;241m=\u001b[39m \u001b[43mformatted_final\u001b[49m[\u001b[38;5;124m'\u001b[39m\u001b[38;5;124mfundamental_matrix\u001b[39m\u001b[38;5;124m'\u001b[39m]\u001b[38;5;241m.\u001b[39mapply(\u001b[38;5;28;01mlambda\u001b[39;00m x: \u001b[38;5;124m'\u001b[39m\u001b[38;5;124m \u001b[39m\u001b[38;5;124m'\u001b[39m\u001b[38;5;241m.\u001b[39mjoin(\u001b[38;5;124mf\u001b[39m\u001b[38;5;124m'\u001b[39m\u001b[38;5;132;01m{\u001b[39;00mnum\u001b[38;5;132;01m:\u001b[39;00m\u001b[38;5;124m.5e\u001b[39m\u001b[38;5;132;01m}\u001b[39;00m\u001b[38;5;124m'\u001b[39m \u001b[38;5;28;01mfor\u001b[39;00m num \u001b[38;5;129;01min\u001b[39;00m x))\n\u001b[1;32m      2\u001b[0m final\u001b[38;5;241m.\u001b[39mto_csv(\u001b[38;5;124m'\u001b[39m\u001b[38;5;124mpreds.csv\u001b[39m\u001b[38;5;124m'\u001b[39m, index\u001b[38;5;241m=\u001b[39m\u001b[38;5;28;01mFalse\u001b[39;00m)\n",
      "\u001b[0;31mNameError\u001b[0m: name 'formatted_final' is not defined"
     ]
    }
   ],
   "source": [
    "formatted_final['fundamental_matrix'] = formatted_final['fundamental_matrix'].apply(lambda x: ' '.join(f'{num:.5e}' for num in x))\n",
    "final.to_csv('preds.csv', index=False)"
   ]
  }
 ],
 "metadata": {
  "kernelspec": {
   "display_name": "Python 3 (ipykernel)",
   "language": "python",
   "name": "python3"
  },
  "language_info": {
   "codemirror_mode": {
    "name": "ipython",
    "version": 3
   },
   "file_extension": ".py",
   "mimetype": "text/x-python",
   "name": "python",
   "nbconvert_exporter": "python",
   "pygments_lexer": "ipython3",
   "version": "3.10.12"
  }
 },
 "nbformat": 4,
 "nbformat_minor": 2
}

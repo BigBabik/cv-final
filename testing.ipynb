{
 "cells": [
  {
   "cell_type": "code",
   "execution_count": 1,
   "metadata": {},
   "outputs": [],
   "source": [
    "import pandas as pd\n",
    "from utils import data_util as du, preproc_utils as pu, extractor_util as exu, estimator_util as esu\n",
    "import importlib\n",
    "from typing import List, Dict, Any\n",
    "import wrappers as wrp\n",
    "import os"
   ]
  },
  {
   "cell_type": "code",
   "execution_count": 2,
   "metadata": {},
   "outputs": [],
   "source": [
    "DATA_SRC_DIR = '/Users/yoav/Documents/Yoav/CS/22928 - Intro to CV/cv-final/data'\n",
    "EXT_DATA_DIR = '/Users/yoav/Documents/Yoav/CS/22928 - Intro to CV/cv-final/data/external'\n",
    "INT_DATA_DIR = '/Users/yoav/Documents/Yoav/CS/22928 - Intro to CV/cv-final/data/internal'"
   ]
  },
  {
   "cell_type": "code",
   "execution_count": 3,
   "metadata": {},
   "outputs": [],
   "source": [
    "# Usage example\n",
    "dataset = du.DatasetLoader(EXT_DATA_DIR)"
   ]
  },
  {
   "cell_type": "code",
   "execution_count": 4,
   "metadata": {},
   "outputs": [],
   "source": [
    "# Usage\n",
    "config = pu.PreprocessConfig(size=(512, 512), normalize=False)\n",
    "preprocessor = pu.ImagePreprocessor(config)"
   ]
  },
  {
   "cell_type": "code",
   "execution_count": 5,
   "metadata": {},
   "outputs": [],
   "source": [
    "default_sift_config = exu.SIFTConfig()\n",
    "extractor_config = exu.FeatureExtractorConfig(default_sift_config)\n",
    "extractor = exu.FeatureExtractor(config=extractor_config)"
   ]
  },
  {
   "cell_type": "code",
   "execution_count": 6,
   "metadata": {},
   "outputs": [],
   "source": [
    "dataset = wrp.load_dataset(EXT_DATA_DIR)"
   ]
  },
  {
   "cell_type": "code",
   "execution_count": 7,
   "metadata": {},
   "outputs": [],
   "source": [
    "dataset = wrp.preprocess_data(dataset, preprocessor, extractor)"
   ]
  },
  {
   "cell_type": "code",
   "execution_count": 8,
   "metadata": {},
   "outputs": [],
   "source": [
    "dataset = wrp.extract_features(dataset, extractor)"
   ]
  },
  {
   "cell_type": "code",
   "execution_count": 9,
   "metadata": {},
   "outputs": [],
   "source": [
    "bf_config = exu.BFMatcherConfig(knn=True)\n",
    "matcher_config = exu.MatcherConfig(bf_config)"
   ]
  },
  {
   "cell_type": "code",
   "execution_count": 10,
   "metadata": {},
   "outputs": [],
   "source": [
    "matcher = exu.FeatureMatcher(matcher_config)"
   ]
  },
  {
   "cell_type": "code",
   "execution_count": 18,
   "metadata": {},
   "outputs": [],
   "source": [
    "kpt = dataset.scenes_data['brandenburg_gate'].image_data['02035158_8518636650'].features.keypoints"
   ]
  },
  {
   "cell_type": "code",
   "execution_count": 19,
   "metadata": {},
   "outputs": [],
   "source": [
    "kpt = [p.pt for p in kpt]"
   ]
  },
  {
   "cell_type": "code",
   "execution_count": 26,
   "metadata": {},
   "outputs": [],
   "source": [
    "kt = dataset.scenes_data['brandenburg_gate'].calibration.loc['02035158_8518636650'].camera_intrinsics\n"
   ]
  },
  {
   "cell_type": "code",
   "execution_count": 25,
   "metadata": {},
   "outputs": [
    {
     "data": {
      "text/plain": [
       "'1.77777002e+03 0.00000000e+00 3.85500000e+02 0.00000000e+00 1.77777002e+03 5.18000000e+02 0.00000000e+00 0.00000000e+00 1.00000000e+00'"
      ]
     },
     "execution_count": 25,
     "metadata": {},
     "output_type": "execute_result"
    }
   ],
   "source": [
    "kt.camera_intrinsics"
   ]
  },
  {
   "cell_type": "code",
   "execution_count": 31,
   "metadata": {},
   "outputs": [
    {
     "data": {
      "text/html": [
       "<div>\n",
       "<style scoped>\n",
       "    .dataframe tbody tr th:only-of-type {\n",
       "        vertical-align: middle;\n",
       "    }\n",
       "\n",
       "    .dataframe tbody tr th {\n",
       "        vertical-align: top;\n",
       "    }\n",
       "\n",
       "    .dataframe thead th {\n",
       "        text-align: right;\n",
       "    }\n",
       "</style>\n",
       "<table border=\"1\" class=\"dataframe\">\n",
       "  <thead>\n",
       "    <tr style=\"text-align: right;\">\n",
       "      <th></th>\n",
       "      <th>camera_intrinsics</th>\n",
       "      <th>rotation_matrix</th>\n",
       "      <th>translation_vector</th>\n",
       "    </tr>\n",
       "    <tr>\n",
       "      <th>image_id</th>\n",
       "      <th></th>\n",
       "      <th></th>\n",
       "      <th></th>\n",
       "    </tr>\n",
       "  </thead>\n",
       "  <tbody>\n",
       "    <tr>\n",
       "      <th>28048887_9705734840</th>\n",
       "      <td>9.73220764e+02 0.00000000e+00 3.78500000e+02 0...</td>\n",
       "      <td>9.95465208e-01 -2.45257832e-02 -9.19103112e-02...</td>\n",
       "      <td>9.97120948e-02 -7.78547651e-01 -3.63559721e+00</td>\n",
       "    </tr>\n",
       "    <tr>\n",
       "      <th>82795354_2835662202</th>\n",
       "      <td>1.16166406e+03 0.00000000e+00 5.18000000e+02 0...</td>\n",
       "      <td>9.35060849e-01 -7.29701067e-03 -3.54412137e-01...</td>\n",
       "      <td>2.04786422e+00 -8.01847364e-01 -1.97800324e+00</td>\n",
       "    </tr>\n",
       "    <tr>\n",
       "      <th>20050853_9360512514</th>\n",
       "      <td>2.58397583e+03 0.00000000e+00 4.53500000e+02 0...</td>\n",
       "      <td>8.90197625e-01 -1.67501728e-02 -4.55266537e-01...</td>\n",
       "      <td>2.87540767e+00 -2.28735937e-01 3.29922273e-01</td>\n",
       "    </tr>\n",
       "    <tr>\n",
       "      <th>65593803_7168341735</th>\n",
       "      <td>8.26868530e+02 0.00000000e+00 5.21000000e+02 0...</td>\n",
       "      <td>9.94279134e-01 1.43222437e-02 -1.05848365e-01 ...</td>\n",
       "      <td>-8.34670795e-03 -9.31403644e-01 -3.13038532e+00</td>\n",
       "    </tr>\n",
       "    <tr>\n",
       "      <th>73131946_5967189750</th>\n",
       "      <td>8.42626709e+02 0.00000000e+00 5.36500000e+02 0...</td>\n",
       "      <td>9.95264403e-01 6.28268134e-03 -9.70015251e-02 ...</td>\n",
       "      <td>-4.35362901e-02 -5.90825205e-01 -2.46259768e+00</td>\n",
       "    </tr>\n",
       "    <tr>\n",
       "      <th>...</th>\n",
       "      <td>...</td>\n",
       "      <td>...</td>\n",
       "      <td>...</td>\n",
       "    </tr>\n",
       "    <tr>\n",
       "      <th>71210930_8368609525</th>\n",
       "      <td>1.55011121e+03 0.00000000e+00 5.08500000e+02 0...</td>\n",
       "      <td>9.84751112e-01 -1.59160718e-02 -1.73239502e-01...</td>\n",
       "      <td>6.99519668e-01 1.48025334e-01 5.61126653e-01</td>\n",
       "    </tr>\n",
       "    <tr>\n",
       "      <th>48881630_6195994710</th>\n",
       "      <td>1.50149487e+03 0.00000000e+00 5.22000000e+02 0...</td>\n",
       "      <td>9.59154057e-01 8.08442243e-02 2.71086159e-01 -...</td>\n",
       "      <td>-2.72418513e+00 4.74519236e-02 4.70404017e-01</td>\n",
       "    </tr>\n",
       "    <tr>\n",
       "      <th>80116231_6025655620</th>\n",
       "      <td>7.59647278e+02 0.00000000e+00 5.20500000e+02 0...</td>\n",
       "      <td>9.66027170e-01 6.09285667e-03 -2.58368698e-01 ...</td>\n",
       "      <td>1.61855868e+00 -5.58598399e-01 -1.97702274e+00</td>\n",
       "    </tr>\n",
       "    <tr>\n",
       "      <th>99451773_2694323455</th>\n",
       "      <td>1.04725183e+03 0.00000000e+00 5.17000000e+02 0...</td>\n",
       "      <td>9.78492399e-01 -1.34583158e-03 -2.06278488e-01...</td>\n",
       "      <td>6.65945021e-01 -4.07898588e-01 -1.49961915e+00</td>\n",
       "    </tr>\n",
       "    <tr>\n",
       "      <th>63229395_2704362565</th>\n",
       "      <td>5.17219775e+03 0.00000000e+00 5.08000000e+02 0...</td>\n",
       "      <td>9.83185671e-01 2.42122257e-02 -1.80996421e-01 ...</td>\n",
       "      <td>6.42907422e-01 -7.34667814e-01 -1.34063625e+00</td>\n",
       "    </tr>\n",
       "  </tbody>\n",
       "</table>\n",
       "<p>123 rows × 3 columns</p>\n",
       "</div>"
      ],
      "text/plain": [
       "                                                     camera_intrinsics  \\\n",
       "image_id                                                                 \n",
       "28048887_9705734840  9.73220764e+02 0.00000000e+00 3.78500000e+02 0...   \n",
       "82795354_2835662202  1.16166406e+03 0.00000000e+00 5.18000000e+02 0...   \n",
       "20050853_9360512514  2.58397583e+03 0.00000000e+00 4.53500000e+02 0...   \n",
       "65593803_7168341735  8.26868530e+02 0.00000000e+00 5.21000000e+02 0...   \n",
       "73131946_5967189750  8.42626709e+02 0.00000000e+00 5.36500000e+02 0...   \n",
       "...                                                                ...   \n",
       "71210930_8368609525  1.55011121e+03 0.00000000e+00 5.08500000e+02 0...   \n",
       "48881630_6195994710  1.50149487e+03 0.00000000e+00 5.22000000e+02 0...   \n",
       "80116231_6025655620  7.59647278e+02 0.00000000e+00 5.20500000e+02 0...   \n",
       "99451773_2694323455  1.04725183e+03 0.00000000e+00 5.17000000e+02 0...   \n",
       "63229395_2704362565  5.17219775e+03 0.00000000e+00 5.08000000e+02 0...   \n",
       "\n",
       "                                                       rotation_matrix  \\\n",
       "image_id                                                                 \n",
       "28048887_9705734840  9.95465208e-01 -2.45257832e-02 -9.19103112e-02...   \n",
       "82795354_2835662202  9.35060849e-01 -7.29701067e-03 -3.54412137e-01...   \n",
       "20050853_9360512514  8.90197625e-01 -1.67501728e-02 -4.55266537e-01...   \n",
       "65593803_7168341735  9.94279134e-01 1.43222437e-02 -1.05848365e-01 ...   \n",
       "73131946_5967189750  9.95264403e-01 6.28268134e-03 -9.70015251e-02 ...   \n",
       "...                                                                ...   \n",
       "71210930_8368609525  9.84751112e-01 -1.59160718e-02 -1.73239502e-01...   \n",
       "48881630_6195994710  9.59154057e-01 8.08442243e-02 2.71086159e-01 -...   \n",
       "80116231_6025655620  9.66027170e-01 6.09285667e-03 -2.58368698e-01 ...   \n",
       "99451773_2694323455  9.78492399e-01 -1.34583158e-03 -2.06278488e-01...   \n",
       "63229395_2704362565  9.83185671e-01 2.42122257e-02 -1.80996421e-01 ...   \n",
       "\n",
       "                                                  translation_vector  \n",
       "image_id                                                              \n",
       "28048887_9705734840   9.97120948e-02 -7.78547651e-01 -3.63559721e+00  \n",
       "82795354_2835662202   2.04786422e+00 -8.01847364e-01 -1.97800324e+00  \n",
       "20050853_9360512514    2.87540767e+00 -2.28735937e-01 3.29922273e-01  \n",
       "65593803_7168341735  -8.34670795e-03 -9.31403644e-01 -3.13038532e+00  \n",
       "73131946_5967189750  -4.35362901e-02 -5.90825205e-01 -2.46259768e+00  \n",
       "...                                                              ...  \n",
       "71210930_8368609525     6.99519668e-01 1.48025334e-01 5.61126653e-01  \n",
       "48881630_6195994710    -2.72418513e+00 4.74519236e-02 4.70404017e-01  \n",
       "80116231_6025655620   1.61855868e+00 -5.58598399e-01 -1.97702274e+00  \n",
       "99451773_2694323455   6.65945021e-01 -4.07898588e-01 -1.49961915e+00  \n",
       "63229395_2704362565   6.42907422e-01 -7.34667814e-01 -1.34063625e+00  \n",
       "\n",
       "[123 rows x 3 columns]"
      ]
     },
     "execution_count": 31,
     "metadata": {},
     "output_type": "execute_result"
    }
   ],
   "source": [
    "cal = dataset.scenes_data['brandenburg_gate'].calibration\n",
    "cal['camera_intrinsics'] = cal.camera_intrinsics.apply(lambda k: [float(v) for v in k.split(' ')]).reshape([3, 3])\n"
   ]
  },
  {
   "cell_type": "code",
   "execution_count": 22,
   "metadata": {},
   "outputs": [],
   "source": [
    "from utils.general_utils import *"
   ]
  },
  {
   "cell_type": "code",
   "execution_count": 27,
   "metadata": {},
   "outputs": [
    {
     "ename": "TypeError",
     "evalue": "string indices must be integers, not 'tuple'",
     "output_type": "error",
     "traceback": [
      "\u001b[0;31m---------------------------------------------------------------------------\u001b[0m",
      "\u001b[0;31mTypeError\u001b[0m                                 Traceback (most recent call last)",
      "Cell \u001b[0;32mIn[27], line 1\u001b[0m\n\u001b[0;32m----> 1\u001b[0m \u001b[43mnormalize_keypoints\u001b[49m\u001b[43m(\u001b[49m\u001b[43mkpt\u001b[49m\u001b[43m,\u001b[49m\u001b[43m \u001b[49m\u001b[43mkt\u001b[49m\u001b[43m)\u001b[49m\n",
      "File \u001b[0;32m~/Documents/Yoav/CS/22928 - Intro to CV/cv-final/utils/general_utils.py:4\u001b[0m, in \u001b[0;36mnormalize_keypoints\u001b[0;34m(keypoints, K)\u001b[0m\n\u001b[1;32m      3\u001b[0m \u001b[38;5;28;01mdef\u001b[39;00m \u001b[38;5;21mnormalize_keypoints\u001b[39m(keypoints, K):\n\u001b[0;32m----> 4\u001b[0m     C_x \u001b[38;5;241m=\u001b[39m \u001b[43mK\u001b[49m\u001b[43m[\u001b[49m\u001b[38;5;241;43m0\u001b[39;49m\u001b[43m,\u001b[49m\u001b[43m \u001b[49m\u001b[38;5;241;43m2\u001b[39;49m\u001b[43m]\u001b[49m\n\u001b[1;32m      5\u001b[0m     C_y \u001b[38;5;241m=\u001b[39m K[\u001b[38;5;241m1\u001b[39m, \u001b[38;5;241m2\u001b[39m]\n\u001b[1;32m      6\u001b[0m     f_x \u001b[38;5;241m=\u001b[39m K[\u001b[38;5;241m0\u001b[39m, \u001b[38;5;241m0\u001b[39m]\n",
      "\u001b[0;31mTypeError\u001b[0m: string indices must be integers, not 'tuple'"
     ]
    }
   ],
   "source": [
    "normalize_keypoints(kpt, kt)"
   ]
  },
  {
   "cell_type": "code",
   "execution_count": null,
   "metadata": {},
   "outputs": [],
   "source": []
  },
  {
   "cell_type": "code",
   "execution_count": null,
   "metadata": {},
   "outputs": [],
   "source": []
  },
  {
   "cell_type": "code",
   "execution_count": null,
   "metadata": {},
   "outputs": [],
   "source": []
  },
  {
   "cell_type": "code",
   "execution_count": null,
   "metadata": {},
   "outputs": [],
   "source": []
  },
  {
   "cell_type": "code",
   "execution_count": null,
   "metadata": {},
   "outputs": [],
   "source": []
  },
  {
   "cell_type": "code",
   "execution_count": null,
   "metadata": {},
   "outputs": [],
   "source": []
  },
  {
   "cell_type": "code",
   "execution_count": null,
   "metadata": {},
   "outputs": [],
   "source": []
  },
  {
   "cell_type": "code",
   "execution_count": null,
   "metadata": {},
   "outputs": [],
   "source": []
  },
  {
   "cell_type": "code",
   "execution_count": null,
   "metadata": {},
   "outputs": [],
   "source": []
  },
  {
   "cell_type": "code",
   "execution_count": null,
   "metadata": {},
   "outputs": [],
   "source": []
  },
  {
   "cell_type": "code",
   "execution_count": 12,
   "metadata": {},
   "outputs": [
    {
     "name": "stdout",
     "output_type": "stream",
     "text": [
      "Matching features for scene: brandenburg_gate\n",
      "                                                     camera_intrinsics  \\\n",
      "image_id                                                                 \n",
      "28048887_9705734840  9.73220764e+02 0.00000000e+00 3.78500000e+02 0...   \n",
      "82795354_2835662202  1.16166406e+03 0.00000000e+00 5.18000000e+02 0...   \n",
      "20050853_9360512514  2.58397583e+03 0.00000000e+00 4.53500000e+02 0...   \n",
      "65593803_7168341735  8.26868530e+02 0.00000000e+00 5.21000000e+02 0...   \n",
      "73131946_5967189750  8.42626709e+02 0.00000000e+00 5.36500000e+02 0...   \n",
      "\n",
      "                                                       rotation_matrix  \\\n",
      "image_id                                                                 \n",
      "28048887_9705734840  9.95465208e-01 -2.45257832e-02 -9.19103112e-02...   \n",
      "82795354_2835662202  9.35060849e-01 -7.29701067e-03 -3.54412137e-01...   \n",
      "20050853_9360512514  8.90197625e-01 -1.67501728e-02 -4.55266537e-01...   \n",
      "65593803_7168341735  9.94279134e-01 1.43222437e-02 -1.05848365e-01 ...   \n",
      "73131946_5967189750  9.95264403e-01 6.28268134e-03 -9.70015251e-02 ...   \n",
      "\n",
      "                                                  translation_vector  \n",
      "image_id                                                              \n",
      "28048887_9705734840   9.97120948e-02 -7.78547651e-01 -3.63559721e+00  \n",
      "82795354_2835662202   2.04786422e+00 -8.01847364e-01 -1.97800324e+00  \n",
      "20050853_9360512514    2.87540767e+00 -2.28735937e-01 3.29922273e-01  \n",
      "65593803_7168341735  -8.34670795e-03 -9.31403644e-01 -3.13038532e+00  \n",
      "73131946_5967189750  -4.35362901e-02 -5.90825205e-01 -2.46259768e+00  \n",
      "There are 129 valid pairs to estimate for\n"
     ]
    },
    {
     "ename": "KeyError",
     "evalue": "'key of type tuple not found and not a MultiIndex'",
     "output_type": "error",
     "traceback": [
      "\u001b[0;31m---------------------------------------------------------------------------\u001b[0m",
      "\u001b[0;31mKeyError\u001b[0m                                  Traceback (most recent call last)",
      "Cell \u001b[0;32mIn[12], line 1\u001b[0m\n\u001b[0;32m----> 1\u001b[0m \u001b[43mwrp\u001b[49m\u001b[38;5;241;43m.\u001b[39;49m\u001b[43mmatch_features\u001b[49m\u001b[43m(\u001b[49m\u001b[43mdataset\u001b[49m\u001b[43m,\u001b[49m\u001b[43m \u001b[49m\u001b[43mmatcher\u001b[49m\u001b[43m,\u001b[49m\u001b[43m \u001b[49m\u001b[43mcovisibility_threshold\u001b[49m\u001b[38;5;241;43m=\u001b[39;49m\u001b[38;5;241;43m0.8\u001b[39;49m\u001b[43m)\u001b[49m\n",
      "File \u001b[0;32m~/Documents/Yoav/CS/22928 - Intro to CV/cv-final/wrappers.py:107\u001b[0m, in \u001b[0;36mmatch_features\u001b[0;34m(dataset, matcher, covisibility_threshold)\u001b[0m\n\u001b[1;32m    104\u001b[0m matches \u001b[38;5;241m=\u001b[39m matcher\u001b[38;5;241m.\u001b[39mmatch_features(img1\u001b[38;5;241m.\u001b[39mfeatures, img2\u001b[38;5;241m.\u001b[39mfeatures)\n\u001b[1;32m    105\u001b[0m valid, kp1, kp2 \u001b[38;5;241m=\u001b[39m matcher\u001b[38;5;241m.\u001b[39mfilter_lowe_matches(matches, img1\u001b[38;5;241m.\u001b[39mfeatures, img2\u001b[38;5;241m.\u001b[39mfeatures)\n\u001b[0;32m--> 107\u001b[0m k1n \u001b[38;5;241m=\u001b[39m \u001b[43mnormalize_keypoints\u001b[49m\u001b[43m(\u001b[49m\u001b[43mkp1\u001b[49m\u001b[43m,\u001b[49m\u001b[43m \u001b[49m\u001b[43mscene_data\u001b[49m\u001b[38;5;241;43m.\u001b[39;49m\u001b[43mcalibration\u001b[49m\u001b[38;5;241;43m.\u001b[39;49m\u001b[43mloc\u001b[49m\u001b[43m[\u001b[49m\u001b[43mimg1\u001b[49m\u001b[38;5;241;43m.\u001b[39;49m\u001b[43mname\u001b[49m\u001b[43m]\u001b[49m\u001b[43m)\u001b[49m\n\u001b[1;32m    108\u001b[0m k2n \u001b[38;5;241m=\u001b[39m normalize_keypoints(kp2, scene_data\u001b[38;5;241m.\u001b[39mcalibration\u001b[38;5;241m.\u001b[39mloc[img2\u001b[38;5;241m.\u001b[39mname])\n\u001b[1;32m    110\u001b[0m kp1_update \u001b[38;5;241m=\u001b[39m pack_coords(k1n)\n",
      "File \u001b[0;32m~/Documents/Yoav/CS/22928 - Intro to CV/cv-final/utils/general_utils.py:4\u001b[0m, in \u001b[0;36mnormalize_keypoints\u001b[0;34m(keypoints, K)\u001b[0m\n\u001b[1;32m      3\u001b[0m \u001b[38;5;28;01mdef\u001b[39;00m \u001b[38;5;21mnormalize_keypoints\u001b[39m(keypoints, K):\n\u001b[0;32m----> 4\u001b[0m     C_x \u001b[38;5;241m=\u001b[39m \u001b[43mK\u001b[49m\u001b[43m[\u001b[49m\u001b[38;5;241;43m0\u001b[39;49m\u001b[43m,\u001b[49m\u001b[43m \u001b[49m\u001b[38;5;241;43m2\u001b[39;49m\u001b[43m]\u001b[49m\n\u001b[1;32m      5\u001b[0m     C_y \u001b[38;5;241m=\u001b[39m K[\u001b[38;5;241m1\u001b[39m, \u001b[38;5;241m2\u001b[39m]\n\u001b[1;32m      6\u001b[0m     f_x \u001b[38;5;241m=\u001b[39m K[\u001b[38;5;241m0\u001b[39m, \u001b[38;5;241m0\u001b[39m]\n",
      "File \u001b[0;32m~/Documents/Yoav/CS/22928 - Intro to CV/cv-final/proj/lib/python3.13/site-packages/pandas/core/series.py:1153\u001b[0m, in \u001b[0;36mSeries.__getitem__\u001b[0;34m(self, key)\u001b[0m\n\u001b[1;32m   1150\u001b[0m     key \u001b[38;5;241m=\u001b[39m np\u001b[38;5;241m.\u001b[39masarray(key, dtype\u001b[38;5;241m=\u001b[39m\u001b[38;5;28mbool\u001b[39m)\n\u001b[1;32m   1151\u001b[0m     \u001b[38;5;28;01mreturn\u001b[39;00m \u001b[38;5;28mself\u001b[39m\u001b[38;5;241m.\u001b[39m_get_rows_with_mask(key)\n\u001b[0;32m-> 1153\u001b[0m \u001b[38;5;28;01mreturn\u001b[39;00m \u001b[38;5;28;43mself\u001b[39;49m\u001b[38;5;241;43m.\u001b[39;49m\u001b[43m_get_with\u001b[49m\u001b[43m(\u001b[49m\u001b[43mkey\u001b[49m\u001b[43m)\u001b[49m\n",
      "File \u001b[0;32m~/Documents/Yoav/CS/22928 - Intro to CV/cv-final/proj/lib/python3.13/site-packages/pandas/core/series.py:1163\u001b[0m, in \u001b[0;36mSeries._get_with\u001b[0;34m(self, key)\u001b[0m\n\u001b[1;32m   1158\u001b[0m     \u001b[38;5;28;01mraise\u001b[39;00m \u001b[38;5;167;01mTypeError\u001b[39;00m(\n\u001b[1;32m   1159\u001b[0m         \u001b[38;5;124m\"\u001b[39m\u001b[38;5;124mIndexing a Series with DataFrame is not \u001b[39m\u001b[38;5;124m\"\u001b[39m\n\u001b[1;32m   1160\u001b[0m         \u001b[38;5;124m\"\u001b[39m\u001b[38;5;124msupported, use the appropriate DataFrame column\u001b[39m\u001b[38;5;124m\"\u001b[39m\n\u001b[1;32m   1161\u001b[0m     )\n\u001b[1;32m   1162\u001b[0m \u001b[38;5;28;01melif\u001b[39;00m \u001b[38;5;28misinstance\u001b[39m(key, \u001b[38;5;28mtuple\u001b[39m):\n\u001b[0;32m-> 1163\u001b[0m     \u001b[38;5;28;01mreturn\u001b[39;00m \u001b[38;5;28;43mself\u001b[39;49m\u001b[38;5;241;43m.\u001b[39;49m\u001b[43m_get_values_tuple\u001b[49m\u001b[43m(\u001b[49m\u001b[43mkey\u001b[49m\u001b[43m)\u001b[49m\n\u001b[1;32m   1165\u001b[0m \u001b[38;5;28;01melif\u001b[39;00m \u001b[38;5;129;01mnot\u001b[39;00m is_list_like(key):\n\u001b[1;32m   1166\u001b[0m     \u001b[38;5;66;03m# e.g. scalars that aren't recognized by lib.is_scalar, GH#32684\u001b[39;00m\n\u001b[1;32m   1167\u001b[0m     \u001b[38;5;28;01mreturn\u001b[39;00m \u001b[38;5;28mself\u001b[39m\u001b[38;5;241m.\u001b[39mloc[key]\n",
      "File \u001b[0;32m~/Documents/Yoav/CS/22928 - Intro to CV/cv-final/proj/lib/python3.13/site-packages/pandas/core/series.py:1207\u001b[0m, in \u001b[0;36mSeries._get_values_tuple\u001b[0;34m(self, key)\u001b[0m\n\u001b[1;32m   1204\u001b[0m     \u001b[38;5;28;01mreturn\u001b[39;00m result\n\u001b[1;32m   1206\u001b[0m \u001b[38;5;28;01mif\u001b[39;00m \u001b[38;5;129;01mnot\u001b[39;00m \u001b[38;5;28misinstance\u001b[39m(\u001b[38;5;28mself\u001b[39m\u001b[38;5;241m.\u001b[39mindex, MultiIndex):\n\u001b[0;32m-> 1207\u001b[0m     \u001b[38;5;28;01mraise\u001b[39;00m \u001b[38;5;167;01mKeyError\u001b[39;00m(\u001b[38;5;124m\"\u001b[39m\u001b[38;5;124mkey of type tuple not found and not a MultiIndex\u001b[39m\u001b[38;5;124m\"\u001b[39m)\n\u001b[1;32m   1209\u001b[0m \u001b[38;5;66;03m# If key is contained, would have returned by now\u001b[39;00m\n\u001b[1;32m   1210\u001b[0m indexer, new_index \u001b[38;5;241m=\u001b[39m \u001b[38;5;28mself\u001b[39m\u001b[38;5;241m.\u001b[39mindex\u001b[38;5;241m.\u001b[39mget_loc_level(key)\n",
      "\u001b[0;31mKeyError\u001b[0m: 'key of type tuple not found and not a MultiIndex'"
     ]
    }
   ],
   "source": [
    "wrp.match_features(dataset, matcher, covisibility_threshold=0.8)"
   ]
  },
  {
   "cell_type": "code",
   "execution_count": 28,
   "metadata": {},
   "outputs": [],
   "source": [
    "es_alg_conf = esu.RANSACConfig()\n",
    "es_conf = esu.EstimatorConfig('RANSAC', es_alg_conf)"
   ]
  },
  {
   "cell_type": "code",
   "execution_count": 30,
   "metadata": {},
   "outputs": [],
   "source": [
    "list1 = [(1, 2), (3, 4), (5, 6), (7, 8), (9, 10), (11, 12), (13, 14), (15, 16)]\n",
    "list2 = [(17, 18), (19, 20), (21, 22), (23, 24), (25, 26), (27, 28), (29, 30), (31, 32)]"
   ]
  },
  {
   "cell_type": "code",
   "execution_count": 12,
   "metadata": {},
   "outputs": [
    {
     "data": {
      "text/plain": [
       "<module 'utils.estimator_util' from '/Users/yoav/Documents/Yoav/CS/22928 - Intro to CV/cv-final/utils/estimator_util.py'>"
      ]
     },
     "execution_count": 12,
     "metadata": {},
     "output_type": "execute_result"
    }
   ],
   "source": [
    "importlib.reload(wrp)\n",
    "importlib.reload(du)\n",
    "importlib.reload(exu)\n",
    "importlib.reload(esu)"
   ]
  },
  {
   "cell_type": "code",
   "execution_count": 118,
   "metadata": {},
   "outputs": [],
   "source": [
    "fe = esu.FundamentalMatrixEstimator(list1, list2, es_conf)"
   ]
  },
  {
   "cell_type": "code",
   "execution_count": null,
   "metadata": {},
   "outputs": [
    {
     "name": "stdout",
     "output_type": "stream",
     "text": [
      "Estimating fundamental matrix for pairs in scene: brandenburg_gate\n"
     ]
    }
   ],
   "source": [
    "sub = wrp.estimate_fundamental_matrix(dataset=dataset, estimator=fe)"
   ]
  },
  {
   "cell_type": "code",
   "execution_count": null,
   "metadata": {},
   "outputs": [
    {
     "data": {
      "text/html": [
       "<div>\n",
       "<style scoped>\n",
       "    .dataframe tbody tr th:only-of-type {\n",
       "        vertical-align: middle;\n",
       "    }\n",
       "\n",
       "    .dataframe tbody tr th {\n",
       "        vertical-align: top;\n",
       "    }\n",
       "\n",
       "    .dataframe thead th {\n",
       "        text-align: right;\n",
       "    }\n",
       "</style>\n",
       "<table border=\"1\" class=\"dataframe\">\n",
       "  <thead>\n",
       "    <tr style=\"text-align: right;\">\n",
       "      <th></th>\n",
       "      <th>sample_id</th>\n",
       "      <th>fundamental_matrix</th>\n",
       "      <th>mask</th>\n",
       "      <th>inliers1</th>\n",
       "      <th>inliers2</th>\n",
       "    </tr>\n",
       "  </thead>\n",
       "  <tbody>\n",
       "    <tr>\n",
       "      <th>0</th>\n",
       "      <td>brandenburg_gate;90920828_5082887495-20133057_...</td>\n",
       "      <td>[-2.0037905177748845e-05, -0.00916942313851007...</td>\n",
       "      <td>[[1], [1], [1], [1], [0], [1], [1], [1], [1], ...</td>\n",
       "      <td>[[5.294875144958496, 322.2922668457031], [15.1...</td>\n",
       "      <td>[[12.771819114685059, 327.6689758300781], [24....</td>\n",
       "    </tr>\n",
       "    <tr>\n",
       "      <th>1</th>\n",
       "      <td>brandenburg_gate;90920828_5082887495-17262282_...</td>\n",
       "      <td>[-7.887119056747062e-06, -5.8652007957290975e-...</td>\n",
       "      <td>[[1], [1], [0], [0], [1], [0], [1], [0], [0], ...</td>\n",
       "      <td>[[5.294875144958496, 322.2922668457031], [9.72...</td>\n",
       "      <td>[[11.920278549194336, 297.2845764160156], [503...</td>\n",
       "    </tr>\n",
       "    <tr>\n",
       "      <th>2</th>\n",
       "      <td>brandenburg_gate;20133057_3035445116-17262282_...</td>\n",
       "      <td>[-6.097677546474421e-07, -4.1496613502474954e-...</td>\n",
       "      <td>[[1], [1], [0], [0], [1], [1], [0], [1], [0], ...</td>\n",
       "      <td>[[8.158870697021484, 341.09173583984375], [12....</td>\n",
       "      <td>[[5.515044689178467, 311.26995849609375], [11....</td>\n",
       "    </tr>\n",
       "    <tr>\n",
       "      <th>3</th>\n",
       "      <td>brandenburg_gate;38600512_2168650655-17262282_...</td>\n",
       "      <td>[-9.146338128485692e-07, -6.830645770585558e-0...</td>\n",
       "      <td>[[0], [0], [0], [0], [1], [0], [1], [1], [0], ...</td>\n",
       "      <td>[[28.24709701538086, 191.13296508789062], [30....</td>\n",
       "      <td>[[23.821849822998047, 152.91441345214844], [50...</td>\n",
       "    </tr>\n",
       "    <tr>\n",
       "      <th>4</th>\n",
       "      <td>brandenburg_gate;60770994_853214983-17262282_1...</td>\n",
       "      <td>[2.0725504918485385e-05, 0.0002905427477981334...</td>\n",
       "      <td>[[0], [0], [1], [0], [1], [0], [0], [1], [1], ...</td>\n",
       "      <td>[[31.922283172607422, 167.95376586914062], [34...</td>\n",
       "      <td>[[23.821849822998047, 152.91441345214844], [27...</td>\n",
       "    </tr>\n",
       "    <tr>\n",
       "      <th>...</th>\n",
       "      <td>...</td>\n",
       "      <td>...</td>\n",
       "      <td>...</td>\n",
       "      <td>...</td>\n",
       "      <td>...</td>\n",
       "    </tr>\n",
       "    <tr>\n",
       "      <th>124</th>\n",
       "      <td>brandenburg_gate;60824110_1469539304-08468928_...</td>\n",
       "      <td>[4.197559399507857e-06, -9.630230872491647e-05...</td>\n",
       "      <td>[[0], [1], [0], [0], [1], [0], [0], [0], [1], ...</td>\n",
       "      <td>[[14.91677188873291, 191.39512634277344], [24....</td>\n",
       "      <td>[[36.8592643737793, 237.6853485107422], [46.11...</td>\n",
       "    </tr>\n",
       "    <tr>\n",
       "      <th>125</th>\n",
       "      <td>brandenburg_gate;66720928_3418295149-20133057_...</td>\n",
       "      <td>[6.415410928138047e-07, -9.96123808166633e-05,...</td>\n",
       "      <td>[[0], [1], [1], [0], [0], [1], [1], [1], [0], ...</td>\n",
       "      <td>[[29.55716323852539, 299.315673828125], [29.70...</td>\n",
       "      <td>[[12.771819114685059, 327.6689758300781], [13....</td>\n",
       "    </tr>\n",
       "    <tr>\n",
       "      <th>126</th>\n",
       "      <td>brandenburg_gate;66720928_3418295149-02936509_...</td>\n",
       "      <td>[2.184003366878296e-06, 0.00016377554751894537...</td>\n",
       "      <td>[[0], [0], [1], [0], [1], [1], [0], [1], [0], ...</td>\n",
       "      <td>[[34.820648193359375, 172.0559844970703], [40....</td>\n",
       "      <td>[[37.874515533447266, 161.87579345703125], [45...</td>\n",
       "    </tr>\n",
       "    <tr>\n",
       "      <th>127</th>\n",
       "      <td>brandenburg_gate;66720928_3418295149-08814095_...</td>\n",
       "      <td>[-1.305885902062937e-06, -2.6596300034773635e-...</td>\n",
       "      <td>[[1], [1], [1], [1], [1], [0], [0], [0], [0], ...</td>\n",
       "      <td>[[7.943060874938965, 299.62255859375], [21.146...</td>\n",
       "      <td>[[6.455685615539551, 294.8341979980469], [23.3...</td>\n",
       "    </tr>\n",
       "    <tr>\n",
       "      <th>128</th>\n",
       "      <td>brandenburg_gate;67266149_8114963267-20133057_...</td>\n",
       "      <td>[-4.060633212178619e-07, -0.000149457981970686...</td>\n",
       "      <td>[[1], [1], [1], [0], [0], [1], [0], [0], [1], ...</td>\n",
       "      <td>[[23.23568344116211, 308.2841491699219], [23.7...</td>\n",
       "      <td>[[13.019866943359375, 333.54266357421875], [12...</td>\n",
       "    </tr>\n",
       "  </tbody>\n",
       "</table>\n",
       "<p>129 rows × 5 columns</p>\n",
       "</div>"
      ],
      "text/plain": [
       "                                             sample_id  \\\n",
       "0    brandenburg_gate;90920828_5082887495-20133057_...   \n",
       "1    brandenburg_gate;90920828_5082887495-17262282_...   \n",
       "2    brandenburg_gate;20133057_3035445116-17262282_...   \n",
       "3    brandenburg_gate;38600512_2168650655-17262282_...   \n",
       "4    brandenburg_gate;60770994_853214983-17262282_1...   \n",
       "..                                                 ...   \n",
       "124  brandenburg_gate;60824110_1469539304-08468928_...   \n",
       "125  brandenburg_gate;66720928_3418295149-20133057_...   \n",
       "126  brandenburg_gate;66720928_3418295149-02936509_...   \n",
       "127  brandenburg_gate;66720928_3418295149-08814095_...   \n",
       "128  brandenburg_gate;67266149_8114963267-20133057_...   \n",
       "\n",
       "                                    fundamental_matrix  \\\n",
       "0    [-2.0037905177748845e-05, -0.00916942313851007...   \n",
       "1    [-7.887119056747062e-06, -5.8652007957290975e-...   \n",
       "2    [-6.097677546474421e-07, -4.1496613502474954e-...   \n",
       "3    [-9.146338128485692e-07, -6.830645770585558e-0...   \n",
       "4    [2.0725504918485385e-05, 0.0002905427477981334...   \n",
       "..                                                 ...   \n",
       "124  [4.197559399507857e-06, -9.630230872491647e-05...   \n",
       "125  [6.415410928138047e-07, -9.96123808166633e-05,...   \n",
       "126  [2.184003366878296e-06, 0.00016377554751894537...   \n",
       "127  [-1.305885902062937e-06, -2.6596300034773635e-...   \n",
       "128  [-4.060633212178619e-07, -0.000149457981970686...   \n",
       "\n",
       "                                                  mask  \\\n",
       "0    [[1], [1], [1], [1], [0], [1], [1], [1], [1], ...   \n",
       "1    [[1], [1], [0], [0], [1], [0], [1], [0], [0], ...   \n",
       "2    [[1], [1], [0], [0], [1], [1], [0], [1], [0], ...   \n",
       "3    [[0], [0], [0], [0], [1], [0], [1], [1], [0], ...   \n",
       "4    [[0], [0], [1], [0], [1], [0], [0], [1], [1], ...   \n",
       "..                                                 ...   \n",
       "124  [[0], [1], [0], [0], [1], [0], [0], [0], [1], ...   \n",
       "125  [[0], [1], [1], [0], [0], [1], [1], [1], [0], ...   \n",
       "126  [[0], [0], [1], [0], [1], [1], [0], [1], [0], ...   \n",
       "127  [[1], [1], [1], [1], [1], [0], [0], [0], [0], ...   \n",
       "128  [[1], [1], [1], [0], [0], [1], [0], [0], [1], ...   \n",
       "\n",
       "                                              inliers1  \\\n",
       "0    [[5.294875144958496, 322.2922668457031], [15.1...   \n",
       "1    [[5.294875144958496, 322.2922668457031], [9.72...   \n",
       "2    [[8.158870697021484, 341.09173583984375], [12....   \n",
       "3    [[28.24709701538086, 191.13296508789062], [30....   \n",
       "4    [[31.922283172607422, 167.95376586914062], [34...   \n",
       "..                                                 ...   \n",
       "124  [[14.91677188873291, 191.39512634277344], [24....   \n",
       "125  [[29.55716323852539, 299.315673828125], [29.70...   \n",
       "126  [[34.820648193359375, 172.0559844970703], [40....   \n",
       "127  [[7.943060874938965, 299.62255859375], [21.146...   \n",
       "128  [[23.23568344116211, 308.2841491699219], [23.7...   \n",
       "\n",
       "                                              inliers2  \n",
       "0    [[12.771819114685059, 327.6689758300781], [24....  \n",
       "1    [[11.920278549194336, 297.2845764160156], [503...  \n",
       "2    [[5.515044689178467, 311.26995849609375], [11....  \n",
       "3    [[23.821849822998047, 152.91441345214844], [50...  \n",
       "4    [[23.821849822998047, 152.91441345214844], [27...  \n",
       "..                                                 ...  \n",
       "124  [[36.8592643737793, 237.6853485107422], [46.11...  \n",
       "125  [[12.771819114685059, 327.6689758300781], [13....  \n",
       "126  [[37.874515533447266, 161.87579345703125], [45...  \n",
       "127  [[6.455685615539551, 294.8341979980469], [23.3...  \n",
       "128  [[13.019866943359375, 333.54266357421875], [12...  \n",
       "\n",
       "[129 rows x 5 columns]"
      ]
     },
     "execution_count": 120,
     "metadata": {},
     "output_type": "execute_result"
    }
   ],
   "source": [
    "sub"
   ]
  },
  {
   "cell_type": "code",
   "execution_count": 121,
   "metadata": {},
   "outputs": [],
   "source": [
    "import utils.evaluation_util as evu"
   ]
  },
  {
   "cell_type": "code",
   "execution_count": null,
   "metadata": {},
   "outputs": [],
   "source": [
    "def get_intrinsics(sample_id):\n",
    "    pass"
   ]
  },
  {
   "cell_type": "code",
   "execution_count": 122,
   "metadata": {},
   "outputs": [],
   "source": [
    "s = sub.loc[0]['sample_id']"
   ]
  },
  {
   "cell_type": "code",
   "execution_count": null,
   "metadata": {},
   "outputs": [],
   "source": [
    "h,g = s.split(';')[-1].split('-')"
   ]
  },
  {
   "cell_type": "code",
   "execution_count": 125,
   "metadata": {},
   "outputs": [
    {
     "data": {
      "text/plain": [
       "('90920828_5082887495', '20133057_3035445116')"
      ]
     },
     "execution_count": 125,
     "metadata": {},
     "output_type": "execute_result"
    }
   ],
   "source": [
    "h,g"
   ]
  },
  {
   "cell_type": "code",
   "execution_count": 133,
   "metadata": {},
   "outputs": [],
   "source": [
    "dataset.scenes_data['brandenburg_gate'].calibration.set_index('image_id', inplace=True)"
   ]
  }
 ],
 "metadata": {
  "kernelspec": {
   "display_name": "Python 3 (ipykernel)",
   "language": "python",
   "name": "python3"
  },
  "language_info": {
   "codemirror_mode": {
    "name": "ipython",
    "version": 3
   },
   "file_extension": ".py",
   "mimetype": "text/x-python",
   "name": "python",
   "nbconvert_exporter": "python",
   "pygments_lexer": "ipython3",
   "version": "3.13.0"
  }
 },
 "nbformat": 4,
 "nbformat_minor": 2
}
